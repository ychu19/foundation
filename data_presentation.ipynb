{
 "cells": [
  {
   "cell_type": "markdown",
   "source": [
    "# Exploring Foundation Reviews on Sephora\n",
    "\n",
    "Do you wear makeup? If you do, you may know that foundation is foundamental (no pun intended!) when putting on makeup. And you may already know that picking the right foundation involves a lot of considerations. Many people go to retailer's websites like [Ulta](https://www.ulta.com/) or [Sephora](https://www.sephora.com/) to check on reviews. I use `selenium` to collect 120K reviews for 102 foundations from 39 brands on [Sephora](https://www.sephora.com/).\n",
    "\n",
    "The key insights from this dataset are:\n",
    "\n",
    "+ Most of the reviewers (87% of them) on Sephora only give out 1 review (100K reviewers with 120K reviews)\n",
    "+ When people leave a review, it is usually when they really like the product (more than half of the reviews have 5-star ratings)\n",
    "+ When people give out a 5-star rating for a foundation, they are mostly pleased by the coverage of the foundation (46% of the 5-star reviews mention coverage)\n",
    "+ Most people who give out reviews on Sephora are brown-eyed, light-skin brunettes\n",
    "+ These people tend to have different preferences about foundations compared to the rest of the revieweres"
   ],
   "metadata": {
    "collapsed": false
   }
  },
  {
   "cell_type": "code",
   "execution_count": 1,
   "metadata": {
    "collapsed": true
   },
   "outputs": [],
   "source": [
    "# hide\n",
    "import pandas as pd\n",
    "import numpy as np\n",
    "import matplotlib.pyplot as plt\n",
    "import matplotlib.ticker as tick\n",
    "import seaborn as sns\n",
    "from tqdm import tqdm\n",
    "import os\n",
    "import scipy.stats as st\n",
    "from datetime import datetime\n",
    "\n",
    "from IPython.display import display_html, HTML\n",
    "from functools import reduce\n",
    "import operator\n",
    "import random\n",
    "\n",
    "pd.options.display.max_rows = 200\n",
    "pd.options.display.float_format = \"{:,.2f}\".format"
   ]
  },
  {
   "cell_type": "code",
   "execution_count": 2,
   "outputs": [],
   "source": [
    "# hide\n",
    "def plot_countbar(data, col1):\n",
    "    plt.figure(figsize=(6, 4))\n",
    "    sns.countplot(x=data[col1], order=data[col1].value_counts().index)\n",
    "    # plt.xticks(rotation=90)\n",
    "    plt.xlabel(f'{col1} given by reviewers')\n",
    "    # plt.title(label.replace('_', ' '))\n",
    "\n",
    "def plot_diff_in_means(data: pd.DataFrame, col1: str, col2: str = 'rating', head: bool = True):\n",
    "    \"\"\"\n",
    "    given a product, plots difference in means across groups and saves the figure\n",
    "    col1\n",
    "        categorical data with groups\n",
    "    col2\n",
    "        continuous data for the means\n",
    "    \"\"\"\n",
    "\n",
    "    data_groupby = data.groupby(col1, as_index=False)[col2]\n",
    "    data_groupby_labels = data_groupby.agg('mean').sort_values(col2, ascending=True)\n",
    "\n",
    "    data_agg = pd.DataFrame(data_groupby_labels).rename(columns={col2: 'mean'})\n",
    "    data_agg[col1] = data_agg[col1].replace('_','')\n",
    "    n = data_groupby.count()\n",
    "    data_agg = data_agg.merge(n, how='left', right_on=col1, left_on=col1).rename(columns={col2: 'n'})\n",
    "\n",
    "    std = data_groupby.agg(np.std)\n",
    "    data_agg = data_agg.merge(std, how='left', right_on=col1, left_on=col1).rename(columns={col2: 'std'})\n",
    "    data_agg['se'] = data_agg['std'] / np.sqrt(data_agg['n'])\n",
    "\n",
    "    data_agg['lower'] = st.t.interval(alpha=0.95, df=data_agg['n'] - 1, loc=data_agg['mean'], scale=data_agg['se'])[0]\n",
    "    data_agg['upper'] = st.t.interval(alpha=0.95, df=data_agg['n'] - 1, loc=data_agg['mean'], scale=data_agg['se'])[1]\n",
    "\n",
    "    if head:\n",
    "        data_agg_head = data_agg[:5]\n",
    "        n = list(data_agg_head[col1])\n",
    "        for upper, mean, lower, y in zip(data_agg_head['upper'], data_agg_head['mean'], data_agg_head['lower'], data_agg_head[col1]):\n",
    "            plt.plot((lower, mean, upper), (y, y, y), 'b.-')\n",
    "        plt.yticks(range(len(n)), [i.replace('_', ' ') for i in list(data_agg_head[col1])])\n",
    "    else:\n",
    "        for upper, mean, lower, y in zip(data_agg['upper'], data_agg['mean'], data_agg['lower'], data_agg[col1]):\n",
    "            plt.plot((lower, mean, upper), (y, y, y), 'b.-')\n",
    "        plt.yticks(range(len(n)),  [i.replace('_', ' ') for i in list(data_agg[col1])])\n",
    "\n",
    "def reformat_large_tick_values(tick_val, pos):\n",
    "    \"\"\"\n",
    "    Credit for this function goes to https://github.com/jvanelteren for their post on https://github.com/jvanelteren/blog/blob/master/_notebooks/2022-01-19-boardgames.ipynb\n",
    "    Turns large tick values (in the billions, millions and thousands) such as 4500 into 4.5K and\n",
    "    also appropriately turns 4000 into 4K\n",
    "    \"\"\"\n",
    "    if tick_val >= 1000000000:\n",
    "        val = round(tick_val/1000000000, 1)\n",
    "        new_tick_format = '{:}B'.format(val)\n",
    "    elif tick_val >= 1000000:\n",
    "        val = round(tick_val/1000000, 1)\n",
    "        new_tick_format = '{:}M'.format(val)\n",
    "    elif tick_val >= 1000:\n",
    "        val = round(tick_val/1000, 1)\n",
    "        new_tick_format = '{:}K'.format(val)\n",
    "    elif tick_val < 1000:\n",
    "        new_tick_format = round(tick_val, 1)\n",
    "    else:\n",
    "        new_tick_format = tick_val\n",
    "\n",
    "    # make new_tick_format into a string value\n",
    "    new_tick_format = str(new_tick_format)\n",
    "    # code below will keep 4.5M as is but change values such as 4.0M to 4M since that zero after the decimal isn't needed\n",
    "    index_of_decimal = new_tick_format.find(\".\")\n",
    "\n",
    "    if index_of_decimal != -1:\n",
    "        value_after_decimal = new_tick_format[index_of_decimal+1]\n",
    "        if value_after_decimal == \"0\":\n",
    "            # remove the 0 after the decimal point since it's not needed\n",
    "            new_tick_format = new_tick_format[0:index_of_decimal] + new_tick_format[index_of_decimal+2:]\n",
    "\n",
    "    return new_tick_format\n",
    "\n",
    "def display_dfs_horiz(dfs, titles):\n",
    "    \"\"\"\n",
    "    Credit for this function goes to https://github.com/jvanelteren for their post on https://github.com/jvanelteren/blog/blob/master/_notebooks/2022-01-19-boardgames.ipynb\n",
    "    \"\"\"\n",
    "    htmls = []\n",
    "    for i in range(len(dfs)):\n",
    "        styler = dfs[i].style.set_table_attributes(\"style='display:inline'\").set_caption(titles[i])\n",
    "        htmls.append(styler._repr_html_())\n",
    "    display_html(reduce(operator.add, htmls), raw=True)"
   ],
   "metadata": {
    "collapsed": false,
    "pycharm": {
     "name": "#%%\n"
    }
   }
  },
  {
   "cell_type": "code",
   "execution_count": 3,
   "outputs": [],
   "source": [
    "# hide\n",
    "list_of_file_names = []\n",
    "for file in os.listdir('data_full_review_cleaned/'):\n",
    "   if file.endswith(\".json\"):\n",
    "        list_of_file_names.append(os.path.join(file))"
   ],
   "metadata": {
    "collapsed": false,
    "pycharm": {
     "name": "#%%\n"
    }
   }
  },
  {
   "cell_type": "code",
   "execution_count": null,
   "outputs": [],
   "source": [
    "# hide\n",
    "all_data = pd.DataFrame()\n",
    "list_of_foundations_brand_product = pd.read_csv('foundation_from_sephora_with_url.csv')\n",
    "list_of_foundations = pd.read_csv('sephora_ProQuestionAsker.csv')\n",
    "list_of_foundations = list_of_foundations.groupby(['brand', 'product'],as_index=False)['url'].first()\n",
    "\n",
    "for i in range(len(list_of_file_names)):\n",
    "    data = pd.read_json(f'data_full_review_cleaned/{list_of_file_names[i]}', lines=True)\n",
    "    brand_product = list_of_file_names[i].replace('.json', '')\n",
    "    data['brand_product'] = brand_product\n",
    "    idx = list_of_foundations_brand_product[list_of_foundations_brand_product['brand_product'] == brand_product].index[0]\n",
    "    data['brand'] = list_of_foundations.loc[idx, 'brand']\n",
    "    data['product'] = list_of_foundations.loc[idx, 'product']\n",
    "    all_data = pd.concat([all_data, data]).reset_index(drop=True)\n",
    "\n",
    "for i in tqdm(range(len(all_data))):\n",
    "    all_data.loc[i, 'date_of_review'] = datetime.fromtimestamp(all_data.loc[i, 'date_of_review']/1000)"
   ],
   "metadata": {
    "collapsed": false,
    "pycharm": {
     "name": "#%%\n",
     "is_executing": true
    }
   }
  },
  {
   "cell_type": "code",
   "execution_count": null,
   "outputs": [],
   "source": [
    "len(all_data)\n"
   ],
   "metadata": {
    "collapsed": false,
    "pycharm": {
     "name": "#%%\n",
     "is_executing": true
    }
   }
  },
  {
   "cell_type": "code",
   "execution_count": null,
   "outputs": [],
   "source": [
    "len(all_data['reviewer_id'].unique())\n"
   ],
   "metadata": {
    "collapsed": false,
    "pycharm": {
     "name": "#%%\n",
     "is_executing": true
    }
   }
  },
  {
   "cell_type": "markdown",
   "source": [
    "## The reviewers and ratings"
   ],
   "metadata": {
    "collapsed": false
   }
  },
  {
   "cell_type": "code",
   "execution_count": null,
   "outputs": [],
   "source": [
    "# hide_input\n",
    "fig, (ax1, ax2) = plt.subplots(1, 2, figsize=(12, 4))\n",
    "sns.countplot(x=all_data['rating'], order=all_data['rating'].value_counts().index, ax=ax1)\n",
    "ax1.set_xlabel('Ratings given by reviewers')\n",
    "ax1.set_ylabel('Amount of ratings')\n",
    "ax1.title.set_text('Most ratings end up with 5 stars')\n",
    "ax1.yaxis.set_major_formatter(tick.FuncFormatter(reformat_large_tick_values))\n",
    "ax2.hist(all_data.groupby(['brand_product']).mean()['rating'], bins=10)\n",
    "ax2.set_xlabel('Average rating of foundations')\n",
    "ax2.set_ylabel('Number of foundations')\n",
    "ax2.title.set_text('The average foundation receives 4.06 stars')\n"
   ],
   "metadata": {
    "collapsed": false,
    "pycharm": {
     "name": "#%%\n",
     "is_executing": true
    }
   }
  },
  {
   "cell_type": "markdown",
   "source": [
    "Out of 5 stars, most users give out 5 stars. More than 60K reviews end up with 5 stars.\n",
    "\n",
    "When looking at the average ratings across all foundations, we see the distribution skews to the right, and the average foundation receives 4.06 stars."
   ],
   "metadata": {
    "collapsed": false
   }
  },
  {
   "cell_type": "code",
   "execution_count": null,
   "outputs": [],
   "source": [
    "# hide_input\n",
    "fig, (ax1, ax2) = plt.subplots(1, 2, figsize=(12, 4))\n",
    "# sns.countplot(x=all_data['rating'], order=all_data['rating'].value_counts().index, ax=ax1)\n",
    "ax1.hist(all_data.groupby(['reviewer_id']).count()['rating'].clip(0,5), bins=5, color='green')\n",
    "# sns.countplot(x=all_data.groupby(['reviewer_id']).count()['rating'],\n",
    "              # order=sorted(all_data.groupby(['reviewer_id']).count()['rating'].value_counts().index), ax=ax1)\n",
    "ax1.set_xlabel('Number of ratings given by reviewer (clipped at 5)')\n",
    "ax1.set_ylabel('Number of ratings')\n",
    "ax1.title.set_text('87% of the reviewers only give out 1 review')\n",
    "ax1.yaxis.set_major_formatter(tick.FuncFormatter(reformat_large_tick_values))\n",
    "ax2.hist(all_data.groupby(['brand_product']).count()['rating'].clip(0,5000), bins=50)#.plot.hist(ax=ax2)\n",
    "ax2.set_xlabel('Number of ratings received by foundation (clipped at 5,000)')\n",
    "ax2.set_ylabel('Number of ratings')\n",
    "ax2.title.set_text('Less than 1% of the foundations receive more than 5,000 reviews')\n"
   ],
   "metadata": {
    "collapsed": false,
    "pycharm": {
     "name": "#%%\n",
     "is_executing": true
    }
   }
  },
  {
   "cell_type": "markdown",
   "source": [
    "+ 87% of the **reviewers** on Sephora only give out 1 review. Together they account for 73% of all reviews\n",
    "+ 13% of the reviewers give out more than 2 reviews. Together they account for at least 23% of all reviews\n",
    "+ Only 4 **foundations** receive >4,000 reviews, but these reviews account for at least 13% of all reviews\n",
    "+ 58% of the foundations only have <1,000 reviews, and together they account for at most 48% of all reviews"
   ],
   "metadata": {
    "collapsed": false
   }
  },
  {
   "cell_type": "code",
   "execution_count": null,
   "outputs": [],
   "source": [
    "# hide\n",
    "# (\n",
    "#     sum(all_data.groupby(['reviewer_id']).count()['rating']<2),\n",
    "#     sum(all_data.groupby(['reviewer_id']).count()['rating']<2) / len(all_data.groupby(['reviewer_id']).count()['rating']),\n",
    "#     sum(all_data.groupby(['reviewer_id']).count()['rating']<2) / len(all_data['rating']),\n",
    "#     sum(all_data.groupby(['reviewer_id']).count()['rating']>=2),\n",
    "#     sum(all_data.groupby(['reviewer_id']).count()['rating']>=2) / len(all_data.groupby(['reviewer_id']).count()['rating']),\n",
    "#     sum(all_data.groupby(['reviewer_id']).count()['rating']>=2) * 2 / len(all_data['rating'])\n",
    "# )\n"
   ],
   "metadata": {
    "collapsed": false,
    "pycharm": {
     "name": "#%%\n",
     "is_executing": true
    }
   }
  },
  {
   "cell_type": "code",
   "execution_count": null,
   "outputs": [],
   "source": [
    "# hide\n",
    "# (\n",
    "#     sum(all_data.groupby(['brand_product']).count()['rating']<=1000),\n",
    "#     sum(all_data.groupby(['brand_product']).count()['rating']<=1000) / len(all_data.groupby(['brand_product']).count()['rating']),\n",
    "#     sum(all_data.groupby(['brand_product']).count()['rating']<=1000) * 1000 / len(all_data['rating']),\n",
    "#     sum(all_data.groupby(['brand_product']).count()['rating']>=4000) ,\n",
    "#     sum(all_data.groupby(['brand_product']).count()['rating']>=4000) / len(all_data.groupby(['brand_product']).count()['rating']),\n",
    "#     sum(all_data.groupby(['brand_product']).count()['rating']>=4000) * 4000 / len(all_data['rating'])\n",
    "#\n",
    "# )\n"
   ],
   "metadata": {
    "collapsed": false,
    "pycharm": {
     "name": "#%%\n",
     "is_executing": true
    }
   }
  },
  {
   "cell_type": "markdown",
   "source": [
    "### Who are these reviewers?\n",
    "\n",
    "Based on the self-reported characteristics from the 100K reviewers:\n",
    "\n",
    "+ 26% of them have light skin tones\n",
    "+ 55% have brown eyes\n",
    "+ 49% have brunette hair"
   ],
   "metadata": {
    "collapsed": false
   }
  },
  {
   "cell_type": "code",
   "execution_count": null,
   "outputs": [],
   "source": [
    "# hide_input\n",
    "fig, (ax1, ax2, ax3) = plt.subplots(1, 3, figsize=(20, 4))\n",
    "sns.countplot(x=all_data['skin_tone'], order=all_data['skin_tone'].value_counts().index, ax=ax1)\n",
    "ax1.set_xlabel('Self-reported skin tones')\n",
    "ax1.set_ylabel('Number of people')\n",
    "ax1.title.set_text('26% of the reviewers self-report to have light skin tones')\n",
    "ax1.tick_params(axis='x', rotation=45)\n",
    "ax1.yaxis.set_major_formatter(tick.FuncFormatter(reformat_large_tick_values))\n",
    "\n",
    "sns.countplot(x=all_data['hair_color'], order=all_data['hair_color'].value_counts().index, ax=ax2)\n",
    "ax2.set_xlabel('Self-reported hair colors')\n",
    "ax2.set_ylabel('Number of people')\n",
    "ax2.tick_params(axis='x', rotation=45)\n",
    "ax2.title.set_text('49% say they are brunettes')\n",
    "\n",
    "sns.countplot(x=all_data['eye_color'], order=all_data['eye_color'].value_counts().index, ax=ax3)\n",
    "ax3.set_xlabel('Self-reported eye colors')\n",
    "ax3.set_ylabel('Number of people')\n",
    "ax3.tick_params(axis='x', rotation=45)\n",
    "ax3.title.set_text('55% say they have brown eyes')\n"
   ],
   "metadata": {
    "collapsed": false,
    "pycharm": {
     "name": "#%%\n",
     "is_executing": true
    }
   }
  },
  {
   "cell_type": "code",
   "execution_count": null,
   "outputs": [],
   "source": [
    "# hide\n",
    "# all_data.groupby('skin_tone').count()['reviewer_id'] / len(all_data)"
   ],
   "metadata": {
    "collapsed": false,
    "pycharm": {
     "name": "#%%\n",
     "is_executing": true
    }
   }
  },
  {
   "cell_type": "code",
   "execution_count": null,
   "outputs": [],
   "source": [
    "# hide\n",
    "# all_data.groupby('eye_color').count()['reviewer_id'] / len(all_data)"
   ],
   "metadata": {
    "collapsed": false,
    "pycharm": {
     "name": "#%%\n",
     "is_executing": true
    }
   }
  },
  {
   "cell_type": "code",
   "execution_count": null,
   "outputs": [],
   "source": [
    "# hide\n",
    "# all_data.groupby('hair_color').count()['reviewer_id'] / len(all_data)"
   ],
   "metadata": {
    "collapsed": false,
    "pycharm": {
     "name": "#%%\n",
     "is_executing": true
    }
   }
  },
  {
   "cell_type": "markdown",
   "source": [
    "## What are the most popular foundations?\n",
    "\n",
    "We see that foundations may receive different numbers of reviews. I wonder which ones have the most reviews:"
   ],
   "metadata": {
    "collapsed": false
   }
  },
  {
   "cell_type": "code",
   "execution_count": null,
   "outputs": [],
   "source": [
    "# hide_input\n",
    "fo = all_data.groupby(['brand', 'product'], as_index=False).agg({\n",
    "        'rating': ['count', 'mean']\n",
    "    }).sort_values(('rating', 'count'), ascending=False).reset_index(drop=True).head(5)\n",
    "display_dfs_horiz([fo], ['Most reviewed foundations'])\n"
   ],
   "metadata": {
    "collapsed": false,
    "pycharm": {
     "name": "#%%\n",
     "is_executing": true
    }
   }
  },
  {
   "cell_type": "markdown",
   "source": [
    "Fenty Beauty's Pro Filt'r Soft Matte Longwear Foundation receive more than 5,000 ratings! But we also see that most reviewed foundations are *not* the highest rated ones."
   ],
   "metadata": {
    "collapsed": false
   }
  },
  {
   "cell_type": "code",
   "execution_count": null,
   "outputs": [],
   "source": [
    "# hide_input\n",
    "# some ols regression showing number of reviews ~ ratings"
   ],
   "metadata": {
    "collapsed": false,
    "pycharm": {
     "name": "#%%\n",
     "is_executing": true
    }
   }
  },
  {
   "cell_type": "markdown",
   "source": [
    "## What are the highest rated foundations?"
   ],
   "metadata": {
    "collapsed": false
   }
  },
  {
   "cell_type": "code",
   "execution_count": null,
   "outputs": [],
   "source": [
    "# hide_input\n",
    "ranking = all_data.groupby(['brand', 'product'], as_index=False).agg({\n",
    "    'rating': 'mean'\n",
    "}).sort_values(['rating'], ascending=False).reset_index(drop=True).head(10)\n",
    "display_dfs_horiz([ranking], ['10 Top-rated Foundations'])\n"
   ],
   "metadata": {
    "collapsed": false,
    "pycharm": {
     "name": "#%%\n",
     "is_executing": true
    }
   }
  },
  {
   "cell_type": "markdown",
   "source": [
    "## Why do reviewers like or dislike a product?\n",
    "\n",
    "Among all the 5-star reviews:\n",
    "+ 16.8% of the reviews mention something about the finish of the foundations\n",
    "+ 15.5% of the reviews say something about the shade being a great match\n",
    "+ 46.0% of the reviews point out the coverage of the foundation as a good point\n",
    "\n",
    "It seems like people are most pleased with a foundation's coverage when they give out a 5-star rating.\n",
    "\n",
    "Note that these percentages are not mutually exclusive - meaning that a reviewer may like the product because of the finish, shade, coverage, or all of them."
   ],
   "metadata": {
    "collapsed": false
   }
  },
  {
   "cell_type": "code",
   "execution_count": null,
   "outputs": [],
   "source": [
    "# hide_input\n",
    "fig, (ax1, ax2, ax3) = plt.subplots(1, 3, figsize=(20, 4))\n",
    "sns.countplot(x=all_data[all_data['rating']==5]['finish'], ax=ax1)\n",
    "ax1.set_xlabel('The word \"finish\" in 5-star reviews')\n",
    "ax1.set_ylabel('Number of 5-star reviews')\n",
    "ax1.title.set_text('16.8% of the 5-star reviews mentioned the word \"finish\"')\n",
    "ax1.set_xticklabels(labels=['Not Mentioned', 'Mentioned'])\n",
    "# ax1.tick_params(axis='x', rotation=45)\n",
    "# ax1.yaxis.set_major_formatter(tick.FuncFormatter(reformat_large_tick_values))\n",
    "#\n",
    "sns.countplot(x=all_data[all_data['rating']==5]['shade_match'], ax=ax2)\n",
    "ax2.set_xlabel('The word \"shade\" in 5-star reviews')\n",
    "ax2.set_ylabel('Number of 5-star reviews')\n",
    "ax2.title.set_text('15.5% of the 5-star reviews mentioned the word \"shade\"')\n",
    "ax2.set_xticklabels(labels=['Not Mentioned', 'Mentioned'])\n",
    "# ax2.title.set_text('49% say they are brunettes')\n",
    "#\n",
    "sns.countplot(x=all_data[all_data['rating']==5]['coverage'], ax=ax3)\n",
    "ax3.set_xlabel('The word \"coverage\" in 5-star reviews')\n",
    "ax3.set_ylabel('Number of 5-star reviews')\n",
    "ax3.title.set_text('46.0% of the 5-star reviews mentioned the word \"coverage\"')\n",
    "ax3.set_xticklabels(labels=['Not Mentioned', 'Mentioned'])\n",
    "# ax3.set_xlabel('Self-reported eye colors')\n",
    "# ax3.set_ylabel('Number of people')\n",
    "# ax3.tick_params(axis='x', rotation=45)\n",
    "# ax3.title.set_text('55% say they have brown eyes')\n"
   ],
   "metadata": {
    "collapsed": false,
    "pycharm": {
     "name": "#%%\n",
     "is_executing": true
    }
   }
  },
  {
   "cell_type": "code",
   "execution_count": null,
   "outputs": [],
   "source": [
    "# hide\n",
    "# sum(all_data[all_data['rating']==5]['finish']) / len(all_data[all_data['rating']==5])"
   ],
   "metadata": {
    "collapsed": false,
    "pycharm": {
     "name": "#%%\n",
     "is_executing": true
    }
   }
  },
  {
   "cell_type": "code",
   "execution_count": null,
   "outputs": [],
   "source": [
    "# hide\n",
    "# sum(all_data[all_data['rating']==5]['shade_match']) / len(all_data[all_data['rating']==5])"
   ],
   "metadata": {
    "collapsed": false,
    "pycharm": {
     "name": "#%%\n",
     "is_executing": true
    }
   }
  },
  {
   "cell_type": "code",
   "execution_count": null,
   "outputs": [],
   "source": [
    "# hide\n",
    "# sum(all_data[all_data['rating']==5]['coverage']) / len(all_data[all_data['rating']==5])"
   ],
   "metadata": {
    "collapsed": false,
    "pycharm": {
     "name": "#%%\n",
     "is_executing": true
    }
   }
  },
  {
   "cell_type": "markdown",
   "source": [
    "## Do people with different skin tones prefer different foundations?\n",
    "\n",
    "It turns out that they do!\n",
    "\n",
    "By skin tones:\n",
    "+ People with light skins like NARS Natural Radiant Longwear Foundation and Smashbox Studio Skin 24 Hour Full Coverage Waterproof Foundation\n",
    "+ People not having light skins like Fenty Beauty's Pro Filt'r Hydrating Longwear Founation and Marc Jacobs Beauty Re(marc)able Full Cover Foundation Concentrate\n",
    "\n"
   ],
   "metadata": {
    "collapsed": false
   }
  },
  {
   "cell_type": "code",
   "execution_count": null,
   "outputs": [],
   "source": [
    "plot_diff_in_means(data = all_data[all_data['skin_tone'] == 'Light'], col1='brand_product', head=True)\n",
    "plt.title(\"Top-5 Rated Foundations by People with Light Skins\")\n"
   ],
   "metadata": {
    "collapsed": false,
    "pycharm": {
     "name": "#%%\n",
     "is_executing": true
    }
   }
  },
  {
   "cell_type": "code",
   "execution_count": null,
   "outputs": [],
   "source": [
    "plot_diff_in_means(data = all_data[all_data['skin_tone'] != 'Light'], col1='brand_product', head=True)\n",
    "plt.title(\"Top-5 Rated Foundations by People *Not* Having Light Skins\")\n"
   ],
   "metadata": {
    "collapsed": false,
    "pycharm": {
     "name": "#%%\n",
     "is_executing": true
    }
   }
  },
  {
   "cell_type": "markdown",
   "source": [
    "## Appendix: Overall Rating for All Foundations"
   ],
   "metadata": {
    "collapsed": false
   }
  },
  {
   "cell_type": "code",
   "execution_count": null,
   "outputs": [],
   "source": [
    "# hide_input\n",
    "plt.figure(figsize=(9,20))\n",
    "plot_diff_in_means(data = all_data, col1='brand_product', head=False)"
   ],
   "metadata": {
    "collapsed": false,
    "pycharm": {
     "name": "#%%\n",
     "is_executing": true
    }
   }
  },
  {
   "cell_type": "code",
   "execution_count": null,
   "outputs": [],
   "source": [],
   "metadata": {
    "collapsed": false,
    "pycharm": {
     "name": "#%%\n",
     "is_executing": true
    }
   }
  }
 ],
 "metadata": {
  "kernelspec": {
   "display_name": "Python 3",
   "language": "python",
   "name": "python3"
  },
  "language_info": {
   "codemirror_mode": {
    "name": "ipython",
    "version": 2
   },
   "file_extension": ".py",
   "mimetype": "text/x-python",
   "name": "python",
   "nbconvert_exporter": "python",
   "pygments_lexer": "ipython2",
   "version": "2.7.6"
  }
 },
 "nbformat": 4,
 "nbformat_minor": 0
}