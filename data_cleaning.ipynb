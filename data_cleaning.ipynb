{
 "cells": [
  {
   "cell_type": "code",
   "execution_count": 1,
   "metadata": {},
   "outputs": [],
   "source": [
    "import pandas as pd\n",
    "import numpy as np\n",
    "from tqdm import tqdm\n",
    "import re"
   ]
  },
  {
   "cell_type": "code",
   "execution_count": 2,
   "metadata": {},
   "outputs": [],
   "source": [
    "dat = pd.read_csv(\"KVD_Beauty_Lock_It_Full_Coverage_Long_Wear_Matte_Liquid_Foundation.csv\")"
   ]
  },
  {
   "cell_type": "code",
   "execution_count": 3,
   "metadata": {},
   "outputs": [
    {
     "data": {
      "text/plain": [
       "Unnamed: 0                                5993\n",
       "reviewer_id                         MakeupLvr4\n",
       "rating                                     5.0\n",
       "review_subject                So far I love it\n",
       "reviewer_feature    Olive skin tone, Oily skin\n",
       "purchased_shade                            NaN\n",
       "Name: 5993, dtype: object"
      ]
     },
     "execution_count": 3,
     "metadata": {},
     "output_type": "execute_result"
    }
   ],
   "source": [
    "dat.loc[len(dat)-1]"
   ]
  },
  {
   "cell_type": "code",
   "execution_count": 4,
   "metadata": {},
   "outputs": [],
   "source": [
    "dat = dat.dropna(axis = 0, subset=['reviewer_feature', 'reviewer_id', 'rating'], how='any')\n",
    "dat = dat.reset_index()"
   ]
  },
  {
   "cell_type": "code",
   "execution_count": 5,
   "metadata": {},
   "outputs": [],
   "source": [
    "dat['eye_color'] = ''\n",
    "dat['hair_color'] = ''\n",
    "dat['skin_tone'] = ''\n",
    "dat['skin_type'] = ''\n"
   ]
  },
  {
   "cell_type": "code",
   "execution_count": 6,
   "metadata": {},
   "outputs": [
    {
     "name": "stderr",
     "output_type": "stream",
     "text": [
      "100%|██████████| 5455/5455 [00:07<00:00, 773.22it/s] \n"
     ]
    }
   ],
   "source": [
    "for i in tqdm(range(len(dat))):\n",
    "    # reviewer_feature_list = dat.loc[i, 'reviewer_feature'].split(',')\n",
    "    # if len(reviewer_feature_list) == 4:\n",
    "    #     dat.loc[i, 'eye_color'] = reviewer_feature_list[0].replace(' eyes', '')\n",
    "    #     dat.loc[i, 'hair_color'] = reviewer_feature_list[1].replace(' hair', '')\n",
    "    #     dat.loc[i, 'skin_tone'] = reviewer_feature_list[2].replace(' skin tone', '')\n",
    "    #     dat.loc[i, 'skin_type'] = reviewer_feature_list[3].replace(' skin', '')\n",
    "    #     continue\n",
    "    \n",
    "    eye = re.search(r'.+eyes', dat.loc[i, 'reviewer_feature'])\n",
    "    if eye:\n",
    "        dat.loc[i, 'eye_color'] = eye.group()\n",
    "        dat.loc[i, 'eye_color'] = dat.loc[i, 'eye_color'].replace(' eyes', '')\n",
    "        dat.loc[i, 'reviewer_feature'] = dat.loc[i, 'reviewer_feature'].replace(eye.group(), '')\n",
    "    hair = re.search(r'.+hair', dat.loc[i, 'reviewer_feature'])\n",
    "    if hair:\n",
    "        dat.loc[i, 'hair_color'] = hair.group()\n",
    "        dat.loc[i, 'hair_color'] = dat.loc[i, 'hair_color'].replace(' hair', '').replace(', ', '')\n",
    "        dat.loc[i, 'reviewer_feature'] = dat.loc[i, 'reviewer_feature'].replace(hair.group(), '')\n",
    "    skin_tone = re.search(r'.+skin tone', dat.loc[i, 'reviewer_feature'])\n",
    "    if skin_tone:\n",
    "        dat.loc[i, 'skin_tone'] = skin_tone.group()\n",
    "        dat.loc[i, 'skin_tone'] = dat.loc[i, 'skin_tone'].replace(' skin tone', '').replace(', ', '')\n",
    "        dat.loc[i, 'reviewer_feature'] = dat.loc[i, 'reviewer_feature'].replace(skin_tone.group(), '')\n",
    "    skin_type = re.search(r'.+skin$', dat.loc[i, 'reviewer_feature'])\n",
    "    if skin_type:\n",
    "        dat.loc[i, 'skin_type'] = skin_type.group().replace(', ', '')\n",
    "        dat.loc[i, 'skin_type'] = dat.loc[i, 'skin_type'].replace(' skin', '')\n",
    "        \n",
    "    # new_cols = {\n",
    "    #     \"eye_color\": eye_color,\n",
    "    #     \"hair_color\": hair_color,\n",
    "    #     \"skin_tone\": skin_tone,\n",
    "    #     \"skin_type\": skin_type\n",
    "    # }\n",
    "    # dat = dat.append(new_cols, ignore_index=True)"
   ]
  },
  {
   "cell_type": "code",
   "execution_count": null,
   "metadata": {},
   "outputs": [],
   "source": [
    "# i = 5903\n",
    "# eye = re.search(r'.+eyes', dat.loc[i, 'reviewer_feature'])\n",
    "# if eye:\n",
    "#     dat.loc[i, 'eye_color'] = eye.group()\n",
    "#     dat.loc[i, 'eye_color'] = dat.loc[i, 'eye_color'].replace(' eyes', '')\n",
    "#     dat.loc[i, 'reviewer_feature'] = dat.loc[i, 'reviewer_feature'].replace(eye.group(), '')\n",
    "# hair = re.search(r'.+hair', dat.loc[i, 'reviewer_feature'])\n",
    "# if hair:\n",
    "#     dat.loc[i, 'hair_color'] = hair.group()\n",
    "#     dat.loc[i, 'hair_color'] = dat.loc[i, 'hair_color'].replace(' hair', '').replace(', ', '')\n",
    "#     dat.loc[i, 'reviewer_feature'] = dat.loc[i, 'reviewer_feature'].replace(hair.group(), '')\n",
    "# skin_tone = re.search(r'.+skin tone', dat.loc[i, 'reviewer_feature'])\n",
    "# if skin_tone:\n",
    "#     dat.loc[i, 'skin_tone'] = skin_tone.group()\n",
    "#     dat.loc[i, 'skin_tone'] = dat.loc[i, 'skin_tone'].replace(' skin tone', '').replace(', ', '')\n",
    "#     dat.loc[i, 'reviewer_feature'] = dat.loc[i, 'reviewer_feature'].replace(skin_tone.group(), '')\n",
    "# skin_type = re.search(r'.+skin$', dat.loc[i, 'reviewer_feature'])\n",
    "# if skin_type:\n",
    "#     dat.loc[i, 'skin_type'] = skin_type.group().replace(', ', '')\n",
    "#     dat.loc[i, 'skin_type'] = dat.loc[i, 'skin_type'].replace(' skin', '')"
   ]
  },
  {
   "cell_type": "code",
   "execution_count": 27,
   "metadata": {},
   "outputs": [],
   "source": [
    "dat.to_pickle('fenty_data_cleaned.pkl')"
   ]
  },
  {
   "cell_type": "code",
   "execution_count": null,
   "metadata": {},
   "outputs": [],
   "source": []
  }
 ],
 "metadata": {
  "interpreter": {
   "hash": "be930e4ecfc02ffad0fba66b413e4f417b9fdbeb111e734ba3e0fce78218e52b"
  },
  "kernelspec": {
   "display_name": "Python 3.9.1 64-bit ('foundation': conda)",
   "language": "python",
   "name": "python3"
  },
  "language_info": {
   "codemirror_mode": {
    "name": "ipython",
    "version": 3
   },
   "file_extension": ".py",
   "mimetype": "text/x-python",
   "name": "python",
   "nbconvert_exporter": "python",
   "pygments_lexer": "ipython3",
   "version": "3.9.1"
  },
  "orig_nbformat": 4
 },
 "nbformat": 4,
 "nbformat_minor": 2
}
