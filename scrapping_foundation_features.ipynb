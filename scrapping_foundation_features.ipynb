{
 "cells": [
  {
   "cell_type": "code",
   "execution_count": 1,
   "metadata": {
    "collapsed": true
   },
   "outputs": [],
   "source": [
    "import pandas as pd\n",
    "from time import sleep # control the crawl rate to avoid hammering the servers with too many requests\n",
    "from random import randint\n",
    "from tqdm import tqdm\n",
    "import re\n",
    "import datetime\n",
    "\n",
    "from scrapping import scrapping_foundation_features"
   ]
  },
  {
   "cell_type": "code",
   "execution_count": null,
   "outputs": [],
   "source": [
    "############# need to get the date of the first review in this dataset as well #######################"
   ],
   "metadata": {
    "collapsed": false,
    "pycharm": {
     "name": "#%%\n"
    }
   }
  },
  {
   "cell_type": "code",
   "execution_count": 2,
   "outputs": [],
   "source": [
    "list_of_foundations_url = pd.read_csv('foundation_from_sephora_with_url.csv')\n",
    "list_of_foundations_url = list_of_foundations_url[list_of_foundations_url['url_valid'] == 1].reset_index(drop=True)"
   ],
   "metadata": {
    "collapsed": false,
    "pycharm": {
     "name": "#%%\n"
    }
   }
  },
  {
   "cell_type": "code",
   "execution_count": 23,
   "outputs": [
    {
     "name": "stderr",
     "output_type": "stream",
     "text": [
      "100%|██████████| 15/15 [02:14<00:00,  8.98s/it]\n"
     ]
    }
   ],
   "source": [
    "for i in tqdm(range(144, len(list_of_foundations_url))):\n",
    "    features = scrapping_foundation_features(url = list_of_foundations_url.loc[i, 'url'], product_name=list_of_foundations_url.loc[i, 'brand_product'])\n",
    "    features.set_up_driver()\n",
    "    features.scrap_product_description_and_features()\n",
    "    features.save_data_to_json()\n",
    "    # features.push_data_to_gsc()\n",
    "    features.close_driver()"
   ],
   "metadata": {
    "collapsed": false,
    "pycharm": {
     "name": "#%%\n"
    }
   }
  },
  {
   "cell_type": "markdown",
   "source": [
    "### Engineering Foundation Features"
   ],
   "metadata": {
    "collapsed": false
   }
  },
  {
   "cell_type": "code",
   "execution_count": 418,
   "outputs": [],
   "source": [
    "# to get the list of foundations from directory\n",
    "import os\n",
    "list_of_foundation_names = []\n",
    "for file in os.listdir('data_foundation_features/'):\n",
    "   if file.endswith(\".json\"):\n",
    "      list_of_foundation_names.append(os.path.join(file))"
   ],
   "metadata": {
    "collapsed": false,
    "pycharm": {
     "name": "#%%\n"
    }
   }
  },
  {
   "cell_type": "code",
   "execution_count": 419,
   "outputs": [],
   "source": [
    "list_of_foundation_names = sorted(list_of_foundation_names)"
   ],
   "metadata": {
    "collapsed": false,
    "pycharm": {
     "name": "#%%\n"
    }
   }
  },
  {
   "cell_type": "code",
   "execution_count": 420,
   "outputs": [
    {
     "data": {
      "text/plain": "160"
     },
     "execution_count": 420,
     "metadata": {},
     "output_type": "execute_result"
    }
   ],
   "source": [
    "len(list_of_foundation_names)"
   ],
   "metadata": {
    "collapsed": false,
    "pycharm": {
     "name": "#%%\n"
    }
   }
  },
  {
   "cell_type": "code",
   "execution_count": 421,
   "outputs": [],
   "source": [
    "list_of_models = sorted([i+'_features.json' for i in os.listdir('models/')])[1:]"
   ],
   "metadata": {
    "collapsed": false,
    "pycharm": {
     "name": "#%%\n"
    }
   }
  },
  {
   "cell_type": "code",
   "execution_count": 422,
   "outputs": [
    {
     "data": {
      "text/plain": "88"
     },
     "execution_count": 422,
     "metadata": {},
     "output_type": "execute_result"
    }
   ],
   "source": [
    "len(list_of_models) # I only trained models with foundations having more than 200 reviews"
   ],
   "metadata": {
    "collapsed": false,
    "pycharm": {
     "name": "#%%\n"
    }
   }
  },
  {
   "cell_type": "code",
   "execution_count": 423,
   "outputs": [],
   "source": [
    "all_foundations = pd.concat([\n",
    "    pd.read_json(f'data_foundation_features/{list_of_models[i]}', lines=True) for i in range(len(list_of_models))\n",
    "]).reset_index(drop=True)"
   ],
   "metadata": {
    "collapsed": false,
    "pycharm": {
     "name": "#%%\n"
    }
   }
  },
  {
   "cell_type": "code",
   "execution_count": 424,
   "outputs": [
    {
     "data": {
      "text/plain": "Index(['brand_product', 'product_features', 'product_description'], dtype='object')"
     },
     "execution_count": 424,
     "metadata": {},
     "output_type": "execute_result"
    }
   ],
   "source": [
    "all_foundations.columns"
   ],
   "metadata": {
    "collapsed": false,
    "pycharm": {
     "name": "#%%\n"
    }
   }
  },
  {
   "cell_type": "code",
   "execution_count": 425,
   "outputs": [
    {
     "data": {
      "text/plain": "88"
     },
     "execution_count": 425,
     "metadata": {},
     "output_type": "execute_result"
    }
   ],
   "source": [
    "len(all_foundations)"
   ],
   "metadata": {
    "collapsed": false,
    "pycharm": {
     "name": "#%%\n"
    }
   }
  },
  {
   "cell_type": "code",
   "execution_count": 426,
   "outputs": [],
   "source": [
    "all_foundations['product_features'] = all_foundations['product_features'].str.lower()\n",
    "all_foundations['product_description'] = all_foundations['product_description'].str.lower()"
   ],
   "metadata": {
    "collapsed": false,
    "pycharm": {
     "name": "#%%\n"
    }
   }
  },
  {
   "cell_type": "code",
   "execution_count": 427,
   "outputs": [
    {
     "data": {
      "text/plain": "float"
     },
     "execution_count": 427,
     "metadata": {},
     "output_type": "execute_result"
    }
   ],
   "source": [
    "type(all_foundations.loc[0, 'product_features'])"
   ],
   "metadata": {
    "collapsed": false,
    "pycharm": {
     "name": "#%%\n"
    }
   }
  },
  {
   "cell_type": "code",
   "execution_count": 428,
   "outputs": [
    {
     "name": "stderr",
     "output_type": "stream",
     "text": [
      "100%|██████████| 88/88 [00:00<00:00, 8460.72it/s]\n",
      "100%|██████████| 88/88 [00:00<00:00, 6521.87it/s]\n",
      "100%|██████████| 88/88 [00:00<00:00, 19538.34it/s]\n",
      "100%|██████████| 88/88 [00:00<00:00, 11997.36it/s]\n",
      "100%|██████████| 88/88 [00:00<00:00, 10401.84it/s]\n"
     ]
    }
   ],
   "source": [
    "list_of_foundations_to_drop = []\n",
    "skin_types = ['dry', 'oily', 'combo', 'combination', 'normal']\n",
    "for skin_type in skin_types:\n",
    "    for i in tqdm(range(len(all_foundations))):\n",
    "        if type(all_foundations.loc[i, 'product_features']) == str:\n",
    "            if re.findall(f'.+{skin_type}.+', all_foundations.loc[i,'product_features']) != []:\n",
    "                all_foundations.loc[i, f'skin_type_{skin_type}'] = 1\n",
    "        if type(all_foundations.loc[i, 'product_description']) == str:\n",
    "            if re.findall(f'{skin_type}', all_foundations.loc[i,'product_description']) != []:\n",
    "                all_foundations.loc[i, f'skin_type_{skin_type}'] = 1\n",
    "        if type(all_foundations.loc[i, 'product_features']) != str:\n",
    "            if type(all_foundations.loc[i, 'product_description']) != str:\n",
    "                list_of_foundations_to_drop.append(i)\n",
    "    all_foundations[f'skin_type_{skin_type}'].fillna(0, inplace=True)\n",
    "# all_foundations = all_foundations.drop(all_foundations.index[list_of_foundations_to_drop]).reset_index(drop=True)"
   ],
   "metadata": {
    "collapsed": false,
    "pycharm": {
     "name": "#%%\n"
    }
   }
  },
  {
   "cell_type": "code",
   "execution_count": 429,
   "outputs": [
    {
     "data": {
      "text/plain": "                                       brand_product  \\\n0           Anastasia_Beverly_Hills_Stick_Foundation   \n1                  Armani_Beauty_Neo_Nude_Foundation   \n2  Armani_Beauty_Power_Fabric_Longwear_High_Cover...   \n3  Bite_Beauty_Changemaker_Supercharged_Micellar_...   \n4                 Bobbi_Brown_Skin_Foundation_SPF_15   \n\n                                    product_features  \\\n0                                                NaN   \n1  natural finish\\nlight coverage\\nhyaluronic aci...   \n2  matte finish\\nfull coverage\\nlong-wearing\\nall...   \n3  long-wearing\\nlight coverage\\nliquid formula\\n...   \n4  liquid formula\\nlight coverage\\nnatural finish...   \n\n                                 product_description  skin_type_dry  \\\n0  item 1852409\\nskin type:\\n✔ combination\\n✔ oil...            0.0   \n1  item 2355691\\nwhat it is: a skincare-infused l...            1.0   \n2  item 1919505\\nwhat it is: a liquid foundation ...            1.0   \n3  item 2253193\\nonly at sephora\\nwhat it is: a c...            1.0   \n4  item 1288448\\ncoverage:\\n✔ medium\\n\\nskin type...            1.0   \n\n   skin_type_oily  skin_type_combo  skin_type_combination  skin_type_normal  \n0             1.0              0.0                    1.0               0.0  \n1             1.0              1.0                    1.0               1.0  \n2             1.0              0.0                    1.0               1.0  \n3             1.0              0.0                    1.0               1.0  \n4             1.0              1.0                    1.0               1.0  ",
      "text/html": "<div>\n<style scoped>\n    .dataframe tbody tr th:only-of-type {\n        vertical-align: middle;\n    }\n\n    .dataframe tbody tr th {\n        vertical-align: top;\n    }\n\n    .dataframe thead th {\n        text-align: right;\n    }\n</style>\n<table border=\"1\" class=\"dataframe\">\n  <thead>\n    <tr style=\"text-align: right;\">\n      <th></th>\n      <th>brand_product</th>\n      <th>product_features</th>\n      <th>product_description</th>\n      <th>skin_type_dry</th>\n      <th>skin_type_oily</th>\n      <th>skin_type_combo</th>\n      <th>skin_type_combination</th>\n      <th>skin_type_normal</th>\n    </tr>\n  </thead>\n  <tbody>\n    <tr>\n      <th>0</th>\n      <td>Anastasia_Beverly_Hills_Stick_Foundation</td>\n      <td>NaN</td>\n      <td>item 1852409\\nskin type:\\n✔ combination\\n✔ oil...</td>\n      <td>0.0</td>\n      <td>1.0</td>\n      <td>0.0</td>\n      <td>1.0</td>\n      <td>0.0</td>\n    </tr>\n    <tr>\n      <th>1</th>\n      <td>Armani_Beauty_Neo_Nude_Foundation</td>\n      <td>natural finish\\nlight coverage\\nhyaluronic aci...</td>\n      <td>item 2355691\\nwhat it is: a skincare-infused l...</td>\n      <td>1.0</td>\n      <td>1.0</td>\n      <td>1.0</td>\n      <td>1.0</td>\n      <td>1.0</td>\n    </tr>\n    <tr>\n      <th>2</th>\n      <td>Armani_Beauty_Power_Fabric_Longwear_High_Cover...</td>\n      <td>matte finish\\nfull coverage\\nlong-wearing\\nall...</td>\n      <td>item 1919505\\nwhat it is: a liquid foundation ...</td>\n      <td>1.0</td>\n      <td>1.0</td>\n      <td>0.0</td>\n      <td>1.0</td>\n      <td>1.0</td>\n    </tr>\n    <tr>\n      <th>3</th>\n      <td>Bite_Beauty_Changemaker_Supercharged_Micellar_...</td>\n      <td>long-wearing\\nlight coverage\\nliquid formula\\n...</td>\n      <td>item 2253193\\nonly at sephora\\nwhat it is: a c...</td>\n      <td>1.0</td>\n      <td>1.0</td>\n      <td>0.0</td>\n      <td>1.0</td>\n      <td>1.0</td>\n    </tr>\n    <tr>\n      <th>4</th>\n      <td>Bobbi_Brown_Skin_Foundation_SPF_15</td>\n      <td>liquid formula\\nlight coverage\\nnatural finish...</td>\n      <td>item 1288448\\ncoverage:\\n✔ medium\\n\\nskin type...</td>\n      <td>1.0</td>\n      <td>1.0</td>\n      <td>1.0</td>\n      <td>1.0</td>\n      <td>1.0</td>\n    </tr>\n  </tbody>\n</table>\n</div>"
     },
     "execution_count": 429,
     "metadata": {},
     "output_type": "execute_result"
    }
   ],
   "source": [
    "all_foundations.head()"
   ],
   "metadata": {
    "collapsed": false,
    "pycharm": {
     "name": "#%%\n"
    }
   }
  },
  {
   "cell_type": "code",
   "execution_count": 432,
   "outputs": [
    {
     "data": {
      "text/plain": "'natural finish\\nlight coverage\\nhyaluronic acid\\nhydrating\\nwithout parabens\\nbest for dry, combo, normal skin'"
     },
     "execution_count": 432,
     "metadata": {},
     "output_type": "execute_result"
    }
   ],
   "source": [
    "all_foundations.loc[1, 'product_features']"
   ],
   "metadata": {
    "collapsed": false,
    "pycharm": {
     "name": "#%%\n"
    }
   }
  },
  {
   "cell_type": "code",
   "execution_count": 436,
   "outputs": [
    {
     "data": {
      "text/plain": "0.6931818181818182"
     },
     "execution_count": 436,
     "metadata": {},
     "output_type": "execute_result"
    }
   ],
   "source": [
    "sum(all_foundations['skin_type_normal']) / len(all_foundations)"
   ],
   "metadata": {
    "collapsed": false,
    "pycharm": {
     "name": "#%%\n"
    }
   }
  },
  {
   "cell_type": "code",
   "execution_count": 439,
   "outputs": [
    {
     "data": {
      "text/plain": "<AxesSubplot:xlabel='skin_type_normal', ylabel='count'>"
     },
     "execution_count": 439,
     "metadata": {},
     "output_type": "execute_result"
    },
    {
     "data": {
      "text/plain": "<Figure size 1440x288 with 4 Axes>",
      "image/png": "[encoded data removed]"
     },
     "metadata": {
      "needs_background": "light"
     },
     "output_type": "display_data"
    }
   ],
   "source": [
    "import seaborn as sns\n",
    "import matplotlib.pyplot as plt\n",
    "fig, (ax1, ax2, ax3, ax4) = plt.subplots(1, 4, figsize=(20, 4))\n",
    "sns.countplot(x=all_foundations['skin_type_dry'], order=all_foundations['skin_type_dry'].value_counts().index, ax=ax1)\n",
    "# ax1.set_xlabel('Self-reported skin tones')\n",
    "# ax1.set_ylabel('Number of people')\n",
    "# ax1.title.set_text('26% of the reviewers self-report to have light skin tones')\n",
    "# ax1.tick_params(axis='x', rotation=45)\n",
    "\n",
    "sns.countplot(x=all_foundations['skin_type_oily'], order=all_foundations['skin_type_oily'].value_counts().index, ax=ax2)\n",
    "# ax2.set_xlabel('Self-reported hair colors')\n",
    "# ax2.set_ylabel('Number of people')\n",
    "# ax2.tick_params(axis='x', rotation=45)\n",
    "# ax2.title.set_text('49% say they are brunettes')\n",
    "\n",
    "sns.countplot(x=all_foundations['skin_type_combination'], order=all_foundations['skin_type_combination'].value_counts().index, ax=ax3)\n",
    "# ax3.set_xlabel('Self-reported eye colors')\n",
    "# ax3.set_ylabel('Number of people')\n",
    "# ax3.tick_params(axis='x', rotation=45)\n",
    "# ax3.title.set_text('55% say they have brown eyes')\n",
    "\n",
    "sns.countplot(x=all_foundations['skin_type_normal'], order=all_foundations['skin_type_normal'].value_counts().index, ax=ax4)"
   ],
   "metadata": {
    "collapsed": false,
    "pycharm": {
     "name": "#%%\n"
    }
   }
  },
  {
   "cell_type": "code",
   "execution_count": 447,
   "outputs": [
    {
     "data": {
      "text/plain": "[]"
     },
     "execution_count": 447,
     "metadata": {},
     "output_type": "execute_result"
    }
   ],
   "source": [
    "re.findall(f'finish\\: natural', all_foundations.loc[4, 'product_description'])"
   ],
   "metadata": {
    "collapsed": false,
    "pycharm": {
     "name": "#%%\n"
    }
   }
  },
  {
   "cell_type": "code",
   "execution_count": 452,
   "outputs": [
    {
     "name": "stderr",
     "output_type": "stream",
     "text": [
      "100%|██████████| 88/88 [00:00<00:00, 4279.95it/s]\n",
      "100%|██████████| 88/88 [00:00<00:00, 12600.24it/s]\n",
      "100%|██████████| 88/88 [00:00<00:00, 5855.36it/s]\n"
     ]
    }
   ],
   "source": [
    "# finish\n",
    "list_of_foundations_to_drop = []\n",
    "finishes = ['natural', 'matte', 'radiant']\n",
    "for finish in finishes:\n",
    "    for i in tqdm(range(len(all_foundations))):\n",
    "        if type(all_foundations.loc[i, 'product_features']) == str:\n",
    "            if re.findall(f'{finish}', all_foundations.loc[i,'product_features']) != []:\n",
    "                all_foundations.loc[i, f'{finish}_finish'] = 1\n",
    "        if type(all_foundations.loc[i, 'product_description']) == str:\n",
    "            if re.findall(f'finish\\: {finish}', all_foundations.loc[i,'product_description']) != []:\n",
    "                all_foundations.loc[i, f'{finish}_finish'] = 1\n",
    "        if type(all_foundations.loc[i, 'product_features']) != str:\n",
    "            if type(all_foundations.loc[i, 'product_description']) != str:\n",
    "                list_of_foundations_to_drop.append(i)\n",
    "    all_foundations[f'{finish}_finish'].fillna(0, inplace=True)\n"
   ],
   "metadata": {
    "collapsed": false,
    "pycharm": {
     "name": "#%%\n"
    }
   }
  },
  {
   "cell_type": "code",
   "execution_count": 453,
   "outputs": [
    {
     "data": {
      "text/plain": "                                       brand_product  \\\n0           Anastasia_Beverly_Hills_Stick_Foundation   \n1                  Armani_Beauty_Neo_Nude_Foundation   \n2  Armani_Beauty_Power_Fabric_Longwear_High_Cover...   \n3  Bite_Beauty_Changemaker_Supercharged_Micellar_...   \n4                 Bobbi_Brown_Skin_Foundation_SPF_15   \n\n                                    product_features  \\\n0                                                NaN   \n1  natural finish\\nlight coverage\\nhyaluronic aci...   \n2  matte finish\\nfull coverage\\nlong-wearing\\nall...   \n3  long-wearing\\nlight coverage\\nliquid formula\\n...   \n4  liquid formula\\nlight coverage\\nnatural finish...   \n\n                                 product_description  skin_type_dry  \\\n0  item 1852409\\nskin type:\\n✔ combination\\n✔ oil...            0.0   \n1  item 2355691\\nwhat it is: a skincare-infused l...            1.0   \n2  item 1919505\\nwhat it is: a liquid foundation ...            1.0   \n3  item 2253193\\nonly at sephora\\nwhat it is: a c...            1.0   \n4  item 1288448\\ncoverage:\\n✔ medium\\n\\nskin type...            1.0   \n\n   skin_type_oily  skin_type_combo  skin_type_combination  skin_type_normal  \\\n0             1.0              0.0                    1.0               0.0   \n1             1.0              1.0                    1.0               1.0   \n2             1.0              0.0                    1.0               1.0   \n3             1.0              0.0                    1.0               1.0   \n4             1.0              1.0                    1.0               1.0   \n\n   natural_finish  matte_finish  radiant_finish  \n0             0.0           0.0             0.0  \n1             1.0           0.0             0.0  \n2             1.0           1.0             0.0  \n3             1.0           0.0             0.0  \n4             1.0           0.0             0.0  ",
      "text/html": "<div>\n<style scoped>\n    .dataframe tbody tr th:only-of-type {\n        vertical-align: middle;\n    }\n\n    .dataframe tbody tr th {\n        vertical-align: top;\n    }\n\n    .dataframe thead th {\n        text-align: right;\n    }\n</style>\n<table border=\"1\" class=\"dataframe\">\n  <thead>\n    <tr style=\"text-align: right;\">\n      <th></th>\n      <th>brand_product</th>\n      <th>product_features</th>\n      <th>product_description</th>\n      <th>skin_type_dry</th>\n      <th>skin_type_oily</th>\n      <th>skin_type_combo</th>\n      <th>skin_type_combination</th>\n      <th>skin_type_normal</th>\n      <th>natural_finish</th>\n      <th>matte_finish</th>\n      <th>radiant_finish</th>\n    </tr>\n  </thead>\n  <tbody>\n    <tr>\n      <th>0</th>\n      <td>Anastasia_Beverly_Hills_Stick_Foundation</td>\n      <td>NaN</td>\n      <td>item 1852409\\nskin type:\\n✔ combination\\n✔ oil...</td>\n      <td>0.0</td>\n      <td>1.0</td>\n      <td>0.0</td>\n      <td>1.0</td>\n      <td>0.0</td>\n      <td>0.0</td>\n      <td>0.0</td>\n      <td>0.0</td>\n    </tr>\n    <tr>\n      <th>1</th>\n      <td>Armani_Beauty_Neo_Nude_Foundation</td>\n      <td>natural finish\\nlight coverage\\nhyaluronic aci...</td>\n      <td>item 2355691\\nwhat it is: a skincare-infused l...</td>\n      <td>1.0</td>\n      <td>1.0</td>\n      <td>1.0</td>\n      <td>1.0</td>\n      <td>1.0</td>\n      <td>1.0</td>\n      <td>0.0</td>\n      <td>0.0</td>\n    </tr>\n    <tr>\n      <th>2</th>\n      <td>Armani_Beauty_Power_Fabric_Longwear_High_Cover...</td>\n      <td>matte finish\\nfull coverage\\nlong-wearing\\nall...</td>\n      <td>item 1919505\\nwhat it is: a liquid foundation ...</td>\n      <td>1.0</td>\n      <td>1.0</td>\n      <td>0.0</td>\n      <td>1.0</td>\n      <td>1.0</td>\n      <td>1.0</td>\n      <td>1.0</td>\n      <td>0.0</td>\n    </tr>\n    <tr>\n      <th>3</th>\n      <td>Bite_Beauty_Changemaker_Supercharged_Micellar_...</td>\n      <td>long-wearing\\nlight coverage\\nliquid formula\\n...</td>\n      <td>item 2253193\\nonly at sephora\\nwhat it is: a c...</td>\n      <td>1.0</td>\n      <td>1.0</td>\n      <td>0.0</td>\n      <td>1.0</td>\n      <td>1.0</td>\n      <td>1.0</td>\n      <td>0.0</td>\n      <td>0.0</td>\n    </tr>\n    <tr>\n      <th>4</th>\n      <td>Bobbi_Brown_Skin_Foundation_SPF_15</td>\n      <td>liquid formula\\nlight coverage\\nnatural finish...</td>\n      <td>item 1288448\\ncoverage:\\n✔ medium\\n\\nskin type...</td>\n      <td>1.0</td>\n      <td>1.0</td>\n      <td>1.0</td>\n      <td>1.0</td>\n      <td>1.0</td>\n      <td>1.0</td>\n      <td>0.0</td>\n      <td>0.0</td>\n    </tr>\n  </tbody>\n</table>\n</div>"
     },
     "execution_count": 453,
     "metadata": {},
     "output_type": "execute_result"
    }
   ],
   "source": [
    "all_foundations.head()"
   ],
   "metadata": {
    "collapsed": false,
    "pycharm": {
     "name": "#%%\n"
    }
   }
  },
  {
   "cell_type": "code",
   "execution_count": 454,
   "outputs": [
    {
     "data": {
      "text/plain": "<AxesSubplot:xlabel='radiant_finish', ylabel='count'>"
     },
     "execution_count": 454,
     "metadata": {},
     "output_type": "execute_result"
    },
    {
     "data": {
      "text/plain": "<Figure size 1440x288 with 3 Axes>",
      "image/png": "[encoded data removed]"
     },
     "metadata": {
      "needs_background": "light"
     },
     "output_type": "display_data"
    }
   ],
   "source": [
    "fig, (ax1, ax2, ax3) = plt.subplots(1, 3, figsize=(20, 4))\n",
    "sns.countplot(x=all_foundations['natural_finish'], order=all_foundations['natural_finish'].value_counts().index, ax=ax1)\n",
    "# ax1.set_xlabel('Self-reported skin tones')\n",
    "# ax1.set_ylabel('Number of people')\n",
    "# ax1.title.set_text('26% of the reviewers self-report to have light skin tones')\n",
    "# ax1.tick_params(axis='x', rotation=45)\n",
    "\n",
    "sns.countplot(x=all_foundations['matte_finish'], order=all_foundations['matte_finish'].value_counts().index, ax=ax2)\n",
    "# ax2.set_xlabel('Self-reported hair colors')\n",
    "# ax2.set_ylabel('Number of people')\n",
    "# ax2.tick_params(axis='x', rotation=45)\n",
    "# ax2.title.set_text('49% say they are brunettes')\n",
    "\n",
    "sns.countplot(x=all_foundations['radiant_finish'], order=all_foundations['radiant_finish'].value_counts().index, ax=ax3)\n",
    "# ax3.set_xlabel('Self-reported eye colors')\n",
    "# ax3.set_ylabel('Number of people')\n",
    "# ax3.tick_params(axis='x', rotation=45)\n",
    "# ax3.title.set_text('55% say they have brown eyes')"
   ],
   "metadata": {
    "collapsed": false,
    "pycharm": {
     "name": "#%%\n"
    }
   }
  },
  {
   "cell_type": "code",
   "execution_count": 469,
   "outputs": [
    {
     "name": "stderr",
     "output_type": "stream",
     "text": [
      "100%|██████████| 88/88 [00:00<00:00, 984.56it/s]\n",
      "100%|██████████| 88/88 [00:00<00:00, 4319.37it/s]\n",
      "100%|██████████| 88/88 [00:00<00:00, 4802.72it/s]\n",
      "100%|██████████| 88/88 [00:00<00:00, 4632.09it/s]\n"
     ]
    }
   ],
   "source": [
    "# coverage\n",
    "list_of_foundations_to_drop = []\n",
    "coverages = ['medium', 'full', 'sheer', 'light']\n",
    "for coverage in coverages:\n",
    "    for i in tqdm(range(len(all_foundations))):\n",
    "        if type(all_foundations.loc[i, 'product_features']) == str:\n",
    "            if re.findall(f'{coverage} coverage', all_foundations.loc[i,'product_features']) != []:\n",
    "                all_foundations.loc[i, f'{coverage}_coverage'] = 1\n",
    "        if type(all_foundations.loc[i, 'product_description']) == str:\n",
    "            if re.findall(f'coverage\\: {coverage}', all_foundations.loc[i,'product_description']) != []:\n",
    "                all_foundations.loc[i, f'{coverage}_coverage'] = 1\n",
    "            elif re.findall(f'.+{coverage}.+', all_foundations.loc[i,'product_description']) != []:\n",
    "                all_foundations.loc[i, f'{coverage}_coverage'] = 1\n",
    "        if type(all_foundations.loc[i, 'product_features']) != str:\n",
    "            if type(all_foundations.loc[i, 'product_description']) != str:\n",
    "                list_of_foundations_to_drop.append(i)\n",
    "    all_foundations[f'{coverage}_coverage'].fillna(0, inplace=True)"
   ],
   "metadata": {
    "collapsed": false,
    "pycharm": {
     "name": "#%%\n"
    }
   }
  },
  {
   "cell_type": "code",
   "execution_count": 470,
   "outputs": [
    {
     "data": {
      "text/plain": "                                        brand_product  \\\n0            Anastasia_Beverly_Hills_Stick_Foundation   \n1                   Armani_Beauty_Neo_Nude_Foundation   \n2   Armani_Beauty_Power_Fabric_Longwear_High_Cover...   \n3   Bite_Beauty_Changemaker_Supercharged_Micellar_...   \n4                  Bobbi_Brown_Skin_Foundation_SPF_15   \n..                                                ...   \n83  tarte_Amazonian_Clay_BB_Tinted_Moisturizer_Bro...   \n84  tarte_Amazonian_Clay_Full_Coverage_Airbrush_Fo...   \n85  tarte_BB_Tinted_Treatment_12-Hour_Primer_Broad...   \n86                        tarte_Clay_Stick_Foundation   \n87  tarte_babassu_foundcealer™_skincare_foundation...   \n\n                                     product_features  \\\n0                                                 NaN   \n1   natural finish\\nlight coverage\\nhyaluronic aci...   \n2   matte finish\\nfull coverage\\nlong-wearing\\nall...   \n3   long-wearing\\nlight coverage\\nliquid formula\\n...   \n4   liquid formula\\nlight coverage\\nnatural finish...   \n..                                                ...   \n83                                                NaN   \n84                                                NaN   \n85  spf\\nvegan\\nmedium coverage\\nmatte finish\\nlon...   \n86                                                NaN   \n87                                                NaN   \n\n                                  product_description  skin_type_dry  \\\n0   item 1852409\\nskin type:\\n✔ combination\\n✔ oil...            0.0   \n1   item 2355691\\nwhat it is: a skincare-infused l...            1.0   \n2   item 1919505\\nwhat it is: a liquid foundation ...            1.0   \n3   item 2253193\\nonly at sephora\\nwhat it is: a c...            1.0   \n4   item 1288448\\ncoverage:\\n✔ medium\\n\\nskin type...            1.0   \n..                                                ...            ...   \n83  item 759779\\nskin type:\\n✔ normal\\n✔ combinati...            1.0   \n84  item 1534650\\n\\n\\nskin type:\\n✔ normal\\n✔ comb...            0.0   \n85  item 2413045\\ncoverage:\\n✔ medium\\n\\nskin type...            1.0   \n86  item 1952746\\ncoverage:\\n✔ medium\\n\\nskin type...            0.0   \n87  item 2197507\\nwhat it is: a vegan makeup and s...            1.0   \n\n    skin_type_oily  skin_type_combo  skin_type_combination  skin_type_normal  \\\n0              1.0              0.0                    1.0               0.0   \n1              1.0              1.0                    1.0               1.0   \n2              1.0              0.0                    1.0               1.0   \n3              1.0              0.0                    1.0               1.0   \n4              1.0              1.0                    1.0               1.0   \n..             ...              ...                    ...               ...   \n83             1.0              0.0                    1.0               1.0   \n84             1.0              0.0                    1.0               1.0   \n85             1.0              0.0                    1.0               1.0   \n86             1.0              0.0                    1.0               0.0   \n87             1.0              0.0                    1.0               1.0   \n\n    natural_finish  matte_finish  radiant_finish  medium_coverage  \\\n0              0.0           0.0             0.0              0.0   \n1              1.0           0.0             0.0              0.0   \n2              1.0           1.0             0.0              0.0   \n3              1.0           0.0             0.0              1.0   \n4              1.0           0.0             0.0              1.0   \n..             ...           ...             ...              ...   \n83             0.0           0.0             0.0              0.0   \n84             0.0           0.0             0.0              1.0   \n85             0.0           1.0             0.0              1.0   \n86             0.0           0.0             0.0              1.0   \n87             1.0           0.0             0.0              1.0   \n\n    full_coverage  sheer_coverage  light_coverage  \n0             1.0             0.0             1.0  \n1             0.0             0.0             1.0  \n2             1.0             0.0             1.0  \n3             1.0             0.0             1.0  \n4             0.0             0.0             1.0  \n..            ...             ...             ...  \n83            0.0             0.0             1.0  \n84            1.0             0.0             1.0  \n85            0.0             1.0             1.0  \n86            0.0             0.0             0.0  \n87            1.0             0.0             0.0  \n\n[88 rows x 15 columns]",
      "text/html": "<div>\n<style scoped>\n    .dataframe tbody tr th:only-of-type {\n        vertical-align: middle;\n    }\n\n    .dataframe tbody tr th {\n        vertical-align: top;\n    }\n\n    .dataframe thead th {\n        text-align: right;\n    }\n</style>\n<table border=\"1\" class=\"dataframe\">\n  <thead>\n    <tr style=\"text-align: right;\">\n      <th></th>\n      <th>brand_product</th>\n      <th>product_features</th>\n      <th>product_description</th>\n      <th>skin_type_dry</th>\n      <th>skin_type_oily</th>\n      <th>skin_type_combo</th>\n      <th>skin_type_combination</th>\n      <th>skin_type_normal</th>\n      <th>natural_finish</th>\n      <th>matte_finish</th>\n      <th>radiant_finish</th>\n      <th>medium_coverage</th>\n      <th>full_coverage</th>\n      <th>sheer_coverage</th>\n      <th>light_coverage</th>\n    </tr>\n  </thead>\n  <tbody>\n    <tr>\n      <th>0</th>\n      <td>Anastasia_Beverly_Hills_Stick_Foundation</td>\n      <td>NaN</td>\n      <td>item 1852409\\nskin type:\\n✔ combination\\n✔ oil...</td>\n      <td>0.0</td>\n      <td>1.0</td>\n      <td>0.0</td>\n      <td>1.0</td>\n      <td>0.0</td>\n      <td>0.0</td>\n      <td>0.0</td>\n      <td>0.0</td>\n      <td>0.0</td>\n      <td>1.0</td>\n      <td>0.0</td>\n      <td>1.0</td>\n    </tr>\n    <tr>\n      <th>1</th>\n      <td>Armani_Beauty_Neo_Nude_Foundation</td>\n      <td>natural finish\\nlight coverage\\nhyaluronic aci...</td>\n      <td>item 2355691\\nwhat it is: a skincare-infused l...</td>\n      <td>1.0</td>\n      <td>1.0</td>\n      <td>1.0</td>\n      <td>1.0</td>\n      <td>1.0</td>\n      <td>1.0</td>\n      <td>0.0</td>\n      <td>0.0</td>\n      <td>0.0</td>\n      <td>0.0</td>\n      <td>0.0</td>\n      <td>1.0</td>\n    </tr>\n    <tr>\n      <th>2</th>\n      <td>Armani_Beauty_Power_Fabric_Longwear_High_Cover...</td>\n      <td>matte finish\\nfull coverage\\nlong-wearing\\nall...</td>\n      <td>item 1919505\\nwhat it is: a liquid foundation ...</td>\n      <td>1.0</td>\n      <td>1.0</td>\n      <td>0.0</td>\n      <td>1.0</td>\n      <td>1.0</td>\n      <td>1.0</td>\n      <td>1.0</td>\n      <td>0.0</td>\n      <td>0.0</td>\n      <td>1.0</td>\n      <td>0.0</td>\n      <td>1.0</td>\n    </tr>\n    <tr>\n      <th>3</th>\n      <td>Bite_Beauty_Changemaker_Supercharged_Micellar_...</td>\n      <td>long-wearing\\nlight coverage\\nliquid formula\\n...</td>\n      <td>item 2253193\\nonly at sephora\\nwhat it is: a c...</td>\n      <td>1.0</td>\n      <td>1.0</td>\n      <td>0.0</td>\n      <td>1.0</td>\n      <td>1.0</td>\n      <td>1.0</td>\n      <td>0.0</td>\n      <td>0.0</td>\n      <td>1.0</td>\n      <td>1.0</td>\n      <td>0.0</td>\n      <td>1.0</td>\n    </tr>\n    <tr>\n      <th>4</th>\n      <td>Bobbi_Brown_Skin_Foundation_SPF_15</td>\n      <td>liquid formula\\nlight coverage\\nnatural finish...</td>\n      <td>item 1288448\\ncoverage:\\n✔ medium\\n\\nskin type...</td>\n      <td>1.0</td>\n      <td>1.0</td>\n      <td>1.0</td>\n      <td>1.0</td>\n      <td>1.0</td>\n      <td>1.0</td>\n      <td>0.0</td>\n      <td>0.0</td>\n      <td>1.0</td>\n      <td>0.0</td>\n      <td>0.0</td>\n      <td>1.0</td>\n    </tr>\n    <tr>\n      <th>...</th>\n      <td>...</td>\n      <td>...</td>\n      <td>...</td>\n      <td>...</td>\n      <td>...</td>\n      <td>...</td>\n      <td>...</td>\n      <td>...</td>\n      <td>...</td>\n      <td>...</td>\n      <td>...</td>\n      <td>...</td>\n      <td>...</td>\n      <td>...</td>\n      <td>...</td>\n    </tr>\n    <tr>\n      <th>83</th>\n      <td>tarte_Amazonian_Clay_BB_Tinted_Moisturizer_Bro...</td>\n      <td>NaN</td>\n      <td>item 759779\\nskin type:\\n✔ normal\\n✔ combinati...</td>\n      <td>1.0</td>\n      <td>1.0</td>\n      <td>0.0</td>\n      <td>1.0</td>\n      <td>1.0</td>\n      <td>0.0</td>\n      <td>0.0</td>\n      <td>0.0</td>\n      <td>0.0</td>\n      <td>0.0</td>\n      <td>0.0</td>\n      <td>1.0</td>\n    </tr>\n    <tr>\n      <th>84</th>\n      <td>tarte_Amazonian_Clay_Full_Coverage_Airbrush_Fo...</td>\n      <td>NaN</td>\n      <td>item 1534650\\n\\n\\nskin type:\\n✔ normal\\n✔ comb...</td>\n      <td>0.0</td>\n      <td>1.0</td>\n      <td>0.0</td>\n      <td>1.0</td>\n      <td>1.0</td>\n      <td>0.0</td>\n      <td>0.0</td>\n      <td>0.0</td>\n      <td>1.0</td>\n      <td>1.0</td>\n      <td>0.0</td>\n      <td>1.0</td>\n    </tr>\n    <tr>\n      <th>85</th>\n      <td>tarte_BB_Tinted_Treatment_12-Hour_Primer_Broad...</td>\n      <td>spf\\nvegan\\nmedium coverage\\nmatte finish\\nlon...</td>\n      <td>item 2413045\\ncoverage:\\n✔ medium\\n\\nskin type...</td>\n      <td>1.0</td>\n      <td>1.0</td>\n      <td>0.0</td>\n      <td>1.0</td>\n      <td>1.0</td>\n      <td>0.0</td>\n      <td>1.0</td>\n      <td>0.0</td>\n      <td>1.0</td>\n      <td>0.0</td>\n      <td>1.0</td>\n      <td>1.0</td>\n    </tr>\n    <tr>\n      <th>86</th>\n      <td>tarte_Clay_Stick_Foundation</td>\n      <td>NaN</td>\n      <td>item 1952746\\ncoverage:\\n✔ medium\\n\\nskin type...</td>\n      <td>0.0</td>\n      <td>1.0</td>\n      <td>0.0</td>\n      <td>1.0</td>\n      <td>0.0</td>\n      <td>0.0</td>\n      <td>0.0</td>\n      <td>0.0</td>\n      <td>1.0</td>\n      <td>0.0</td>\n      <td>0.0</td>\n      <td>0.0</td>\n    </tr>\n    <tr>\n      <th>87</th>\n      <td>tarte_babassu_foundcealer™_skincare_foundation...</td>\n      <td>NaN</td>\n      <td>item 2197507\\nwhat it is: a vegan makeup and s...</td>\n      <td>1.0</td>\n      <td>1.0</td>\n      <td>0.0</td>\n      <td>1.0</td>\n      <td>1.0</td>\n      <td>1.0</td>\n      <td>0.0</td>\n      <td>0.0</td>\n      <td>1.0</td>\n      <td>1.0</td>\n      <td>0.0</td>\n      <td>0.0</td>\n    </tr>\n  </tbody>\n</table>\n<p>88 rows × 15 columns</p>\n</div>"
     },
     "execution_count": 470,
     "metadata": {},
     "output_type": "execute_result"
    }
   ],
   "source": [
    "all_foundations"
   ],
   "metadata": {
    "collapsed": false,
    "pycharm": {
     "name": "#%%\n"
    }
   }
  },
  {
   "cell_type": "code",
   "execution_count": 471,
   "outputs": [
    {
     "data": {
      "text/plain": "<AxesSubplot:xlabel='light_coverage', ylabel='count'>"
     },
     "execution_count": 471,
     "metadata": {},
     "output_type": "execute_result"
    },
    {
     "data": {
      "text/plain": "<Figure size 1440x288 with 4 Axes>",
      "image/png": "[encoded data removed]"
     },
     "metadata": {
      "needs_background": "light"
     },
     "output_type": "display_data"
    }
   ],
   "source": [
    "fig, (ax1, ax2, ax3, ax4) = plt.subplots(1, 4, figsize=(20, 4))\n",
    "sns.countplot(x=all_foundations['medium_coverage'], order=all_foundations['medium_coverage'].value_counts().index, ax=ax1)\n",
    "# ax1.set_xlabel('Self-reported skin tones')\n",
    "# ax1.set_ylabel('Number of people')\n",
    "# ax1.title.set_text('26% of the reviewers self-report to have light skin tones')\n",
    "# ax1.tick_params(axis='x', rotation=45)\n",
    "\n",
    "sns.countplot(x=all_foundations['full_coverage'], order=all_foundations['full_coverage'].value_counts().index, ax=ax2)\n",
    "# ax2.set_xlabel('Self-reported hair colors')\n",
    "# ax2.set_ylabel('Number of people')\n",
    "# ax2.tick_params(axis='x', rotation=45)\n",
    "# ax2.title.set_text('49% say they are brunettes')\n",
    "\n",
    "sns.countplot(x=all_foundations['sheer_coverage'], order=all_foundations['sheer_coverage'].value_counts().index, ax=ax3)\n",
    "# ax3.set_xlabel('Self-reported eye colors')\n",
    "# ax3.set_ylabel('Number of people')\n",
    "# ax3.tick_params(axis='x', rotation=45)\n",
    "# ax3.title.set_text('55% say they have brown eyes')\n",
    "\n",
    "sns.countplot(x=all_foundations['light_coverage'], order=all_foundations['light_coverage'].value_counts().index, ax=ax4)"
   ],
   "metadata": {
    "collapsed": false,
    "pycharm": {
     "name": "#%%\n"
    }
   }
  },
  {
   "cell_type": "code",
   "execution_count": 472,
   "outputs": [],
   "source": [
    "all_foundations.to_csv(\"foundation_features_parsed.csv\", index=False)"
   ],
   "metadata": {
    "collapsed": false,
    "pycharm": {
     "name": "#%%\n"
    }
   }
  },
  {
   "cell_type": "code",
   "execution_count": null,
   "outputs": [],
   "source": [],
   "metadata": {
    "collapsed": false,
    "pycharm": {
     "name": "#%%\n"
    }
   }
  }
 ],
 "metadata": {
  "kernelspec": {
   "display_name": "Python 3",
   "language": "python",
   "name": "python3"
  },
  "language_info": {
   "codemirror_mode": {
    "name": "ipython",
    "version": 2
   },
   "file_extension": ".py",
   "mimetype": "text/x-python",
   "name": "python",
   "nbconvert_exporter": "python",
   "pygments_lexer": "ipython2",
   "version": "2.7.6"
  }
 },
 "nbformat": 4,
 "nbformat_minor": 0
}