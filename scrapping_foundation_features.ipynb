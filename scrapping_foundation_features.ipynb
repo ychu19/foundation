{
 "cells": [
  {
   "cell_type": "code",
   "execution_count": 10,
   "metadata": {
    "collapsed": true
   },
   "outputs": [],
   "source": [
    "import ast\n",
    "\n",
    "import pandas as pd\n",
    "from time import sleep # control the crawl rate to avoid hammering the servers with too many requests\n",
    "from random import randint\n",
    "from tqdm import tqdm\n",
    "import re\n",
    "import datetime\n",
    "\n",
    "from scrapping import scrapping_foundation_features"
   ]
  },
  {
   "cell_type": "code",
   "execution_count": null,
   "outputs": [],
   "source": [
    "############# need to get the date of the first review in this dataset as well #######################"
   ],
   "metadata": {
    "collapsed": false,
    "pycharm": {
     "name": "#%%\n"
    }
   }
  },
  {
   "cell_type": "code",
   "execution_count": 2,
   "outputs": [],
   "source": [
    "list_of_foundations_url = pd.read_csv('foundation_from_sephora_with_url.csv')\n",
    "list_of_foundations_url = list_of_foundations_url[list_of_foundations_url['url_valid'] == 1].reset_index(drop=True)"
   ],
   "metadata": {
    "collapsed": false,
    "pycharm": {
     "name": "#%%\n"
    }
   }
  },
  {
   "cell_type": "code",
   "execution_count": 23,
   "outputs": [
    {
     "name": "stderr",
     "output_type": "stream",
     "text": [
      "100%|██████████| 15/15 [02:14<00:00,  8.98s/it]\n"
     ]
    }
   ],
   "source": [
    "for i in tqdm(range(144, len(list_of_foundations_url))):\n",
    "    features = scrapping_foundation_features(url = list_of_foundations_url.loc[i, 'url'], product_name=list_of_foundations_url.loc[i, 'brand_product'])\n",
    "    features.set_up_driver()\n",
    "    features.scrap_product_description_and_features()\n",
    "    features.save_data_to_json()\n",
    "    # features.push_data_to_gsc()\n",
    "    features.close_driver()"
   ],
   "metadata": {
    "collapsed": false,
    "pycharm": {
     "name": "#%%\n"
    }
   }
  },
  {
   "cell_type": "markdown",
   "source": [
    "### Engineering Foundation Features"
   ],
   "metadata": {
    "collapsed": false
   }
  },
  {
   "cell_type": "code",
   "execution_count": 418,
   "outputs": [],
   "source": [
    "# to get the list of foundations from directory\n",
    "import os\n",
    "list_of_foundation_names = []\n",
    "for file in os.listdir('data_foundation_features/'):\n",
    "   if file.endswith(\".json\"):\n",
    "      list_of_foundation_names.append(os.path.join(file))"
   ],
   "metadata": {
    "collapsed": false,
    "pycharm": {
     "name": "#%%\n"
    }
   }
  },
  {
   "cell_type": "code",
   "execution_count": 419,
   "outputs": [],
   "source": [
    "list_of_foundation_names = sorted(list_of_foundation_names)"
   ],
   "metadata": {
    "collapsed": false,
    "pycharm": {
     "name": "#%%\n"
    }
   }
  },
  {
   "cell_type": "code",
   "execution_count": 420,
   "outputs": [
    {
     "data": {
      "text/plain": "160"
     },
     "execution_count": 420,
     "metadata": {},
     "output_type": "execute_result"
    }
   ],
   "source": [
    "len(list_of_foundation_names)"
   ],
   "metadata": {
    "collapsed": false,
    "pycharm": {
     "name": "#%%\n"
    }
   }
  },
  {
   "cell_type": "code",
   "execution_count": 421,
   "outputs": [],
   "source": [
    "list_of_models = sorted([i+'_features.json' for i in os.listdir('models/')])[1:]"
   ],
   "metadata": {
    "collapsed": false,
    "pycharm": {
     "name": "#%%\n"
    }
   }
  },
  {
   "cell_type": "code",
   "execution_count": 422,
   "outputs": [
    {
     "data": {
      "text/plain": "88"
     },
     "execution_count": 422,
     "metadata": {},
     "output_type": "execute_result"
    }
   ],
   "source": [
    "len(list_of_models) # I only trained models with foundations having more than 200 reviews"
   ],
   "metadata": {
    "collapsed": false,
    "pycharm": {
     "name": "#%%\n"
    }
   }
  },
  {
   "cell_type": "code",
   "execution_count": 423,
   "outputs": [],
   "source": [
    "all_foundations = pd.concat([\n",
    "    pd.read_json(f'data_foundation_features/{list_of_models[i]}', lines=True) for i in range(len(list_of_models))\n",
    "]).reset_index(drop=True)"
   ],
   "metadata": {
    "collapsed": false,
    "pycharm": {
     "name": "#%%\n"
    }
   }
  },
  {
   "cell_type": "code",
   "execution_count": 424,
   "outputs": [
    {
     "data": {
      "text/plain": "Index(['brand_product', 'product_features', 'product_description'], dtype='object')"
     },
     "execution_count": 424,
     "metadata": {},
     "output_type": "execute_result"
    }
   ],
   "source": [
    "all_foundations.columns"
   ],
   "metadata": {
    "collapsed": false,
    "pycharm": {
     "name": "#%%\n"
    }
   }
  },
  {
   "cell_type": "code",
   "execution_count": 425,
   "outputs": [
    {
     "data": {
      "text/plain": "88"
     },
     "execution_count": 425,
     "metadata": {},
     "output_type": "execute_result"
    }
   ],
   "source": [
    "len(all_foundations)"
   ],
   "metadata": {
    "collapsed": false,
    "pycharm": {
     "name": "#%%\n"
    }
   }
  },
  {
   "cell_type": "code",
   "execution_count": 426,
   "outputs": [],
   "source": [
    "all_foundations['product_features'] = all_foundations['product_features'].str.lower()\n",
    "all_foundations['product_description'] = all_foundations['product_description'].str.lower()"
   ],
   "metadata": {
    "collapsed": false,
    "pycharm": {
     "name": "#%%\n"
    }
   }
  },
  {
   "cell_type": "code",
   "execution_count": 427,
   "outputs": [
    {
     "data": {
      "text/plain": "float"
     },
     "execution_count": 427,
     "metadata": {},
     "output_type": "execute_result"
    }
   ],
   "source": [
    "type(all_foundations.loc[0, 'product_features'])"
   ],
   "metadata": {
    "collapsed": false,
    "pycharm": {
     "name": "#%%\n"
    }
   }
  },
  {
   "cell_type": "code",
   "execution_count": 428,
   "outputs": [
    {
     "name": "stderr",
     "output_type": "stream",
     "text": [
      "100%|██████████| 88/88 [00:00<00:00, 8460.72it/s]\n",
      "100%|██████████| 88/88 [00:00<00:00, 6521.87it/s]\n",
      "100%|██████████| 88/88 [00:00<00:00, 19538.34it/s]\n",
      "100%|██████████| 88/88 [00:00<00:00, 11997.36it/s]\n",
      "100%|██████████| 88/88 [00:00<00:00, 10401.84it/s]\n"
     ]
    }
   ],
   "source": [
    "list_of_foundations_to_drop = []\n",
    "skin_types = ['dry', 'oily', 'combo', 'combination', 'normal']\n",
    "for skin_type in skin_types:\n",
    "    for i in tqdm(range(len(all_foundations))):\n",
    "        if type(all_foundations.loc[i, 'product_features']) == str:\n",
    "            if re.findall(f'.+{skin_type}.+', all_foundations.loc[i,'product_features']) != []:\n",
    "                all_foundations.loc[i, f'skin_type_{skin_type}'] = 1\n",
    "        if type(all_foundations.loc[i, 'product_description']) == str:\n",
    "            if re.findall(f'{skin_type}', all_foundations.loc[i,'product_description']) != []:\n",
    "                all_foundations.loc[i, f'skin_type_{skin_type}'] = 1\n",
    "        if type(all_foundations.loc[i, 'product_features']) != str:\n",
    "            if type(all_foundations.loc[i, 'product_description']) != str:\n",
    "                list_of_foundations_to_drop.append(i)\n",
    "    all_foundations[f'skin_type_{skin_type}'].fillna(0, inplace=True)\n",
    "# all_foundations = all_foundations.drop(all_foundations.index[list_of_foundations_to_drop]).reset_index(drop=True)"
   ],
   "metadata": {
    "collapsed": false,
    "pycharm": {
     "name": "#%%\n"
    }
   }
  },
  {
   "cell_type": "code",
   "execution_count": 429,
   "outputs": [
    {
     "data": {
      "text/plain": "                                       brand_product  \\\n0           Anastasia_Beverly_Hills_Stick_Foundation   \n1                  Armani_Beauty_Neo_Nude_Foundation   \n2  Armani_Beauty_Power_Fabric_Longwear_High_Cover...   \n3  Bite_Beauty_Changemaker_Supercharged_Micellar_...   \n4                 Bobbi_Brown_Skin_Foundation_SPF_15   \n\n                                    product_features  \\\n0                                                NaN   \n1  natural finish\\nlight coverage\\nhyaluronic aci...   \n2  matte finish\\nfull coverage\\nlong-wearing\\nall...   \n3  long-wearing\\nlight coverage\\nliquid formula\\n...   \n4  liquid formula\\nlight coverage\\nnatural finish...   \n\n                                 product_description  skin_type_dry  \\\n0  item 1852409\\nskin type:\\n✔ combination\\n✔ oil...            0.0   \n1  item 2355691\\nwhat it is: a skincare-infused l...            1.0   \n2  item 1919505\\nwhat it is: a liquid foundation ...            1.0   \n3  item 2253193\\nonly at sephora\\nwhat it is: a c...            1.0   \n4  item 1288448\\ncoverage:\\n✔ medium\\n\\nskin type...            1.0   \n\n   skin_type_oily  skin_type_combo  skin_type_combination  skin_type_normal  \n0             1.0              0.0                    1.0               0.0  \n1             1.0              1.0                    1.0               1.0  \n2             1.0              0.0                    1.0               1.0  \n3             1.0              0.0                    1.0               1.0  \n4             1.0              1.0                    1.0               1.0  ",
      "text/html": "<div>\n<style scoped>\n    .dataframe tbody tr th:only-of-type {\n        vertical-align: middle;\n    }\n\n    .dataframe tbody tr th {\n        vertical-align: top;\n    }\n\n    .dataframe thead th {\n        text-align: right;\n    }\n</style>\n<table border=\"1\" class=\"dataframe\">\n  <thead>\n    <tr style=\"text-align: right;\">\n      <th></th>\n      <th>brand_product</th>\n      <th>product_features</th>\n      <th>product_description</th>\n      <th>skin_type_dry</th>\n      <th>skin_type_oily</th>\n      <th>skin_type_combo</th>\n      <th>skin_type_combination</th>\n      <th>skin_type_normal</th>\n    </tr>\n  </thead>\n  <tbody>\n    <tr>\n      <th>0</th>\n      <td>Anastasia_Beverly_Hills_Stick_Foundation</td>\n      <td>NaN</td>\n      <td>item 1852409\\nskin type:\\n✔ combination\\n✔ oil...</td>\n      <td>0.0</td>\n      <td>1.0</td>\n      <td>0.0</td>\n      <td>1.0</td>\n      <td>0.0</td>\n    </tr>\n    <tr>\n      <th>1</th>\n      <td>Armani_Beauty_Neo_Nude_Foundation</td>\n      <td>natural finish\\nlight coverage\\nhyaluronic aci...</td>\n      <td>item 2355691\\nwhat it is: a skincare-infused l...</td>\n      <td>1.0</td>\n      <td>1.0</td>\n      <td>1.0</td>\n      <td>1.0</td>\n      <td>1.0</td>\n    </tr>\n    <tr>\n      <th>2</th>\n      <td>Armani_Beauty_Power_Fabric_Longwear_High_Cover...</td>\n      <td>matte finish\\nfull coverage\\nlong-wearing\\nall...</td>\n      <td>item 1919505\\nwhat it is: a liquid foundation ...</td>\n      <td>1.0</td>\n      <td>1.0</td>\n      <td>0.0</td>\n      <td>1.0</td>\n      <td>1.0</td>\n    </tr>\n    <tr>\n      <th>3</th>\n      <td>Bite_Beauty_Changemaker_Supercharged_Micellar_...</td>\n      <td>long-wearing\\nlight coverage\\nliquid formula\\n...</td>\n      <td>item 2253193\\nonly at sephora\\nwhat it is: a c...</td>\n      <td>1.0</td>\n      <td>1.0</td>\n      <td>0.0</td>\n      <td>1.0</td>\n      <td>1.0</td>\n    </tr>\n    <tr>\n      <th>4</th>\n      <td>Bobbi_Brown_Skin_Foundation_SPF_15</td>\n      <td>liquid formula\\nlight coverage\\nnatural finish...</td>\n      <td>item 1288448\\ncoverage:\\n✔ medium\\n\\nskin type...</td>\n      <td>1.0</td>\n      <td>1.0</td>\n      <td>1.0</td>\n      <td>1.0</td>\n      <td>1.0</td>\n    </tr>\n  </tbody>\n</table>\n</div>"
     },
     "execution_count": 429,
     "metadata": {},
     "output_type": "execute_result"
    }
   ],
   "source": [
    "all_foundations.head()"
   ],
   "metadata": {
    "collapsed": false,
    "pycharm": {
     "name": "#%%\n"
    }
   }
  },
  {
   "cell_type": "code",
   "execution_count": 432,
   "outputs": [
    {
     "data": {
      "text/plain": "'natural finish\\nlight coverage\\nhyaluronic acid\\nhydrating\\nwithout parabens\\nbest for dry, combo, normal skin'"
     },
     "execution_count": 432,
     "metadata": {},
     "output_type": "execute_result"
    }
   ],
   "source": [
    "all_foundations.loc[1, 'product_features']"
   ],
   "metadata": {
    "collapsed": false,
    "pycharm": {
     "name": "#%%\n"
    }
   }
  },
  {
   "cell_type": "code",
   "execution_count": 436,
   "outputs": [
    {
     "data": {
      "text/plain": "0.6931818181818182"
     },
     "execution_count": 436,
     "metadata": {},
     "output_type": "execute_result"
    }
   ],
   "source": [
    "sum(all_foundations['skin_type_normal']) / len(all_foundations)"
   ],
   "metadata": {
    "collapsed": false,
    "pycharm": {
     "name": "#%%\n"
    }
   }
  },
  {
   "cell_type": "code",
   "execution_count": 439,
   "outputs": [
    {
     "data": {
      "text/plain": "<AxesSubplot:xlabel='skin_type_normal', ylabel='count'>"
     },
     "execution_count": 439,
     "metadata": {},
     "output_type": "execute_result"
    },
    {
     "data": {
      "text/plain": "<Figure size 1440x288 with 4 Axes>",
      "image/png": "[encoded data removed]"
     },
     "metadata": {
      "needs_background": "light"
     },
     "output_type": "display_data"
    }
   ],
   "source": [
    "import seaborn as sns\n",
    "import matplotlib.pyplot as plt\n",
    "fig, (ax1, ax2, ax3, ax4) = plt.subplots(1, 4, figsize=(20, 4))\n",
    "sns.countplot(x=all_foundations['skin_type_dry'], order=all_foundations['skin_type_dry'].value_counts().index, ax=ax1)\n",
    "# ax1.set_xlabel('Self-reported skin tones')\n",
    "# ax1.set_ylabel('Number of people')\n",
    "# ax1.title.set_text('26% of the reviewers self-report to have light skin tones')\n",
    "# ax1.tick_params(axis='x', rotation=45)\n",
    "\n",
    "sns.countplot(x=all_foundations['skin_type_oily'], order=all_foundations['skin_type_oily'].value_counts().index, ax=ax2)\n",
    "# ax2.set_xlabel('Self-reported hair colors')\n",
    "# ax2.set_ylabel('Number of people')\n",
    "# ax2.tick_params(axis='x', rotation=45)\n",
    "# ax2.title.set_text('49% say they are brunettes')\n",
    "\n",
    "sns.countplot(x=all_foundations['skin_type_combination'], order=all_foundations['skin_type_combination'].value_counts().index, ax=ax3)\n",
    "# ax3.set_xlabel('Self-reported eye colors')\n",
    "# ax3.set_ylabel('Number of people')\n",
    "# ax3.tick_params(axis='x', rotation=45)\n",
    "# ax3.title.set_text('55% say they have brown eyes')\n",
    "\n",
    "sns.countplot(x=all_foundations['skin_type_normal'], order=all_foundations['skin_type_normal'].value_counts().index, ax=ax4)"
   ],
   "metadata": {
    "collapsed": false,
    "pycharm": {
     "name": "#%%\n"
    }
   }
  },
  {
   "cell_type": "code",
   "execution_count": 447,
   "outputs": [
    {
     "data": {
      "text/plain": "[]"
     },
     "execution_count": 447,
     "metadata": {},
     "output_type": "execute_result"
    }
   ],
   "source": [
    "re.findall(f'finish\\: natural', all_foundations.loc[4, 'product_description'])"
   ],
   "metadata": {
    "collapsed": false,
    "pycharm": {
     "name": "#%%\n"
    }
   }
  },
  {
   "cell_type": "code",
   "execution_count": 452,
   "outputs": [
    {
     "name": "stderr",
     "output_type": "stream",
     "text": [
      "100%|██████████| 88/88 [00:00<00:00, 4279.95it/s]\n",
      "100%|██████████| 88/88 [00:00<00:00, 12600.24it/s]\n",
      "100%|██████████| 88/88 [00:00<00:00, 5855.36it/s]\n"
     ]
    }
   ],
   "source": [
    "# finish\n",
    "list_of_foundations_to_drop = []\n",
    "finishes = ['natural', 'matte', 'radiant']\n",
    "for finish in finishes:\n",
    "    for i in tqdm(range(len(all_foundations))):\n",
    "        if type(all_foundations.loc[i, 'product_features']) == str:\n",
    "            if re.findall(f'{finish}', all_foundations.loc[i,'product_features']) != []:\n",
    "                all_foundations.loc[i, f'{finish}_finish'] = 1\n",
    "        if type(all_foundations.loc[i, 'product_description']) == str:\n",
    "            if re.findall(f'finish\\: {finish}', all_foundations.loc[i,'product_description']) != []:\n",
    "                all_foundations.loc[i, f'{finish}_finish'] = 1\n",
    "        if type(all_foundations.loc[i, 'product_features']) != str:\n",
    "            if type(all_foundations.loc[i, 'product_description']) != str:\n",
    "                list_of_foundations_to_drop.append(i)\n",
    "    all_foundations[f'{finish}_finish'].fillna(0, inplace=True)\n"
   ],
   "metadata": {
    "collapsed": false,
    "pycharm": {
     "name": "#%%\n"
    }
   }
  },
  {
   "cell_type": "code",
   "execution_count": 453,
   "outputs": [
    {
     "data": {
      "text/plain": "                                       brand_product  \\\n0           Anastasia_Beverly_Hills_Stick_Foundation   \n1                  Armani_Beauty_Neo_Nude_Foundation   \n2  Armani_Beauty_Power_Fabric_Longwear_High_Cover...   \n3  Bite_Beauty_Changemaker_Supercharged_Micellar_...   \n4                 Bobbi_Brown_Skin_Foundation_SPF_15   \n\n                                    product_features  \\\n0                                                NaN   \n1  natural finish\\nlight coverage\\nhyaluronic aci...   \n2  matte finish\\nfull coverage\\nlong-wearing\\nall...   \n3  long-wearing\\nlight coverage\\nliquid formula\\n...   \n4  liquid formula\\nlight coverage\\nnatural finish...   \n\n                                 product_description  skin_type_dry  \\\n0  item 1852409\\nskin type:\\n✔ combination\\n✔ oil...            0.0   \n1  item 2355691\\nwhat it is: a skincare-infused l...            1.0   \n2  item 1919505\\nwhat it is: a liquid foundation ...            1.0   \n3  item 2253193\\nonly at sephora\\nwhat it is: a c...            1.0   \n4  item 1288448\\ncoverage:\\n✔ medium\\n\\nskin type...            1.0   \n\n   skin_type_oily  skin_type_combo  skin_type_combination  skin_type_normal  \\\n0             1.0              0.0                    1.0               0.0   \n1             1.0              1.0                    1.0               1.0   \n2             1.0              0.0                    1.0               1.0   \n3             1.0              0.0                    1.0               1.0   \n4             1.0              1.0                    1.0               1.0   \n\n   natural_finish  matte_finish  radiant_finish  \n0             0.0           0.0             0.0  \n1             1.0           0.0             0.0  \n2             1.0           1.0             0.0  \n3             1.0           0.0             0.0  \n4             1.0           0.0             0.0  ",
      "text/html": "<div>\n<style scoped>\n    .dataframe tbody tr th:only-of-type {\n        vertical-align: middle;\n    }\n\n    .dataframe tbody tr th {\n        vertical-align: top;\n    }\n\n    .dataframe thead th {\n        text-align: right;\n    }\n</style>\n<table border=\"1\" class=\"dataframe\">\n  <thead>\n    <tr style=\"text-align: right;\">\n      <th></th>\n      <th>brand_product</th>\n      <th>product_features</th>\n      <th>product_description</th>\n      <th>skin_type_dry</th>\n      <th>skin_type_oily</th>\n      <th>skin_type_combo</th>\n      <th>skin_type_combination</th>\n      <th>skin_type_normal</th>\n      <th>natural_finish</th>\n      <th>matte_finish</th>\n      <th>radiant_finish</th>\n    </tr>\n  </thead>\n  <tbody>\n    <tr>\n      <th>0</th>\n      <td>Anastasia_Beverly_Hills_Stick_Foundation</td>\n      <td>NaN</td>\n      <td>item 1852409\\nskin type:\\n✔ combination\\n✔ oil...</td>\n      <td>0.0</td>\n      <td>1.0</td>\n      <td>0.0</td>\n      <td>1.0</td>\n      <td>0.0</td>\n      <td>0.0</td>\n      <td>0.0</td>\n      <td>0.0</td>\n    </tr>\n    <tr>\n      <th>1</th>\n      <td>Armani_Beauty_Neo_Nude_Foundation</td>\n      <td>natural finish\\nlight coverage\\nhyaluronic aci...</td>\n      <td>item 2355691\\nwhat it is: a skincare-infused l...</td>\n      <td>1.0</td>\n      <td>1.0</td>\n      <td>1.0</td>\n      <td>1.0</td>\n      <td>1.0</td>\n      <td>1.0</td>\n      <td>0.0</td>\n      <td>0.0</td>\n    </tr>\n    <tr>\n      <th>2</th>\n      <td>Armani_Beauty_Power_Fabric_Longwear_High_Cover...</td>\n      <td>matte finish\\nfull coverage\\nlong-wearing\\nall...</td>\n      <td>item 1919505\\nwhat it is: a liquid foundation ...</td>\n      <td>1.0</td>\n      <td>1.0</td>\n      <td>0.0</td>\n      <td>1.0</td>\n      <td>1.0</td>\n      <td>1.0</td>\n      <td>1.0</td>\n      <td>0.0</td>\n    </tr>\n    <tr>\n      <th>3</th>\n      <td>Bite_Beauty_Changemaker_Supercharged_Micellar_...</td>\n      <td>long-wearing\\nlight coverage\\nliquid formula\\n...</td>\n      <td>item 2253193\\nonly at sephora\\nwhat it is: a c...</td>\n      <td>1.0</td>\n      <td>1.0</td>\n      <td>0.0</td>\n      <td>1.0</td>\n      <td>1.0</td>\n      <td>1.0</td>\n      <td>0.0</td>\n      <td>0.0</td>\n    </tr>\n    <tr>\n      <th>4</th>\n      <td>Bobbi_Brown_Skin_Foundation_SPF_15</td>\n      <td>liquid formula\\nlight coverage\\nnatural finish...</td>\n      <td>item 1288448\\ncoverage:\\n✔ medium\\n\\nskin type...</td>\n      <td>1.0</td>\n      <td>1.0</td>\n      <td>1.0</td>\n      <td>1.0</td>\n      <td>1.0</td>\n      <td>1.0</td>\n      <td>0.0</td>\n      <td>0.0</td>\n    </tr>\n  </tbody>\n</table>\n</div>"
     },
     "execution_count": 453,
     "metadata": {},
     "output_type": "execute_result"
    }
   ],
   "source": [
    "all_foundations.head()"
   ],
   "metadata": {
    "collapsed": false,
    "pycharm": {
     "name": "#%%\n"
    }
   }
  },
  {
   "cell_type": "code",
   "execution_count": 454,
   "outputs": [
    {
     "data": {
      "text/plain": "<AxesSubplot:xlabel='radiant_finish', ylabel='count'>"
     },
     "execution_count": 454,
     "metadata": {},
     "output_type": "execute_result"
    },
    {
     "data": {
      "text/plain": "<Figure size 1440x288 with 3 Axes>",
      "image/png": "[encoded data removed]"
     },
     "metadata": {
      "needs_background": "light"
     },
     "output_type": "display_data"
    }
   ],
   "source": [
    "fig, (ax1, ax2, ax3) = plt.subplots(1, 3, figsize=(20, 4))\n",
    "sns.countplot(x=all_foundations['natural_finish'], order=all_foundations['natural_finish'].value_counts().index, ax=ax1)\n",
    "# ax1.set_xlabel('Self-reported skin tones')\n",
    "# ax1.set_ylabel('Number of people')\n",
    "# ax1.title.set_text('26% of the reviewers self-report to have light skin tones')\n",
    "# ax1.tick_params(axis='x', rotation=45)\n",
    "\n",
    "sns.countplot(x=all_foundations['matte_finish'], order=all_foundations['matte_finish'].value_counts().index, ax=ax2)\n",
    "# ax2.set_xlabel('Self-reported hair colors')\n",
    "# ax2.set_ylabel('Number of people')\n",
    "# ax2.tick_params(axis='x', rotation=45)\n",
    "# ax2.title.set_text('49% say they are brunettes')\n",
    "\n",
    "sns.countplot(x=all_foundations['radiant_finish'], order=all_foundations['radiant_finish'].value_counts().index, ax=ax3)\n",
    "# ax3.set_xlabel('Self-reported eye colors')\n",
    "# ax3.set_ylabel('Number of people')\n",
    "# ax3.tick_params(axis='x', rotation=45)\n",
    "# ax3.title.set_text('55% say they have brown eyes')"
   ],
   "metadata": {
    "collapsed": false,
    "pycharm": {
     "name": "#%%\n"
    }
   }
  },
  {
   "cell_type": "code",
   "execution_count": 469,
   "outputs": [
    {
     "name": "stderr",
     "output_type": "stream",
     "text": [
      "100%|██████████| 88/88 [00:00<00:00, 984.56it/s]\n",
      "100%|██████████| 88/88 [00:00<00:00, 4319.37it/s]\n",
      "100%|██████████| 88/88 [00:00<00:00, 4802.72it/s]\n",
      "100%|██████████| 88/88 [00:00<00:00, 4632.09it/s]\n"
     ]
    }
   ],
   "source": [
    "# coverage\n",
    "list_of_foundations_to_drop = []\n",
    "coverages = ['medium', 'full', 'sheer', 'light']\n",
    "for coverage in coverages:\n",
    "    for i in tqdm(range(len(all_foundations))):\n",
    "        if type(all_foundations.loc[i, 'product_features']) == str:\n",
    "            if re.findall(f'{coverage} coverage', all_foundations.loc[i,'product_features']) != []:\n",
    "                all_foundations.loc[i, f'{coverage}_coverage'] = 1\n",
    "        if type(all_foundations.loc[i, 'product_description']) == str:\n",
    "            if re.findall(f'coverage\\: {coverage}', all_foundations.loc[i,'product_description']) != []:\n",
    "                all_foundations.loc[i, f'{coverage}_coverage'] = 1\n",
    "            elif re.findall(f'.+{coverage}.+', all_foundations.loc[i,'product_description']) != []:\n",
    "                all_foundations.loc[i, f'{coverage}_coverage'] = 1\n",
    "        if type(all_foundations.loc[i, 'product_features']) != str:\n",
    "            if type(all_foundations.loc[i, 'product_description']) != str:\n",
    "                list_of_foundations_to_drop.append(i)\n",
    "    all_foundations[f'{coverage}_coverage'].fillna(0, inplace=True)"
   ],
   "metadata": {
    "collapsed": false,
    "pycharm": {
     "name": "#%%\n"
    }
   }
  },
  {
   "cell_type": "code",
   "execution_count": 470,
   "outputs": [
    {
     "data": {
      "text/plain": "                                        brand_product  \\\n0            Anastasia_Beverly_Hills_Stick_Foundation   \n1                   Armani_Beauty_Neo_Nude_Foundation   \n2   Armani_Beauty_Power_Fabric_Longwear_High_Cover...   \n3   Bite_Beauty_Changemaker_Supercharged_Micellar_...   \n4                  Bobbi_Brown_Skin_Foundation_SPF_15   \n..                                                ...   \n83  tarte_Amazonian_Clay_BB_Tinted_Moisturizer_Bro...   \n84  tarte_Amazonian_Clay_Full_Coverage_Airbrush_Fo...   \n85  tarte_BB_Tinted_Treatment_12-Hour_Primer_Broad...   \n86                        tarte_Clay_Stick_Foundation   \n87  tarte_babassu_foundcealer™_skincare_foundation...   \n\n                                     product_features  \\\n0                                                 NaN   \n1   natural finish\\nlight coverage\\nhyaluronic aci...   \n2   matte finish\\nfull coverage\\nlong-wearing\\nall...   \n3   long-wearing\\nlight coverage\\nliquid formula\\n...   \n4   liquid formula\\nlight coverage\\nnatural finish...   \n..                                                ...   \n83                                                NaN   \n84                                                NaN   \n85  spf\\nvegan\\nmedium coverage\\nmatte finish\\nlon...   \n86                                                NaN   \n87                                                NaN   \n\n                                  product_description  skin_type_dry  \\\n0   item 1852409\\nskin type:\\n✔ combination\\n✔ oil...            0.0   \n1   item 2355691\\nwhat it is: a skincare-infused l...            1.0   \n2   item 1919505\\nwhat it is: a liquid foundation ...            1.0   \n3   item 2253193\\nonly at sephora\\nwhat it is: a c...            1.0   \n4   item 1288448\\ncoverage:\\n✔ medium\\n\\nskin type...            1.0   \n..                                                ...            ...   \n83  item 759779\\nskin type:\\n✔ normal\\n✔ combinati...            1.0   \n84  item 1534650\\n\\n\\nskin type:\\n✔ normal\\n✔ comb...            0.0   \n85  item 2413045\\ncoverage:\\n✔ medium\\n\\nskin type...            1.0   \n86  item 1952746\\ncoverage:\\n✔ medium\\n\\nskin type...            0.0   \n87  item 2197507\\nwhat it is: a vegan makeup and s...            1.0   \n\n    skin_type_oily  skin_type_combo  skin_type_combination  skin_type_normal  \\\n0              1.0              0.0                    1.0               0.0   \n1              1.0              1.0                    1.0               1.0   \n2              1.0              0.0                    1.0               1.0   \n3              1.0              0.0                    1.0               1.0   \n4              1.0              1.0                    1.0               1.0   \n..             ...              ...                    ...               ...   \n83             1.0              0.0                    1.0               1.0   \n84             1.0              0.0                    1.0               1.0   \n85             1.0              0.0                    1.0               1.0   \n86             1.0              0.0                    1.0               0.0   \n87             1.0              0.0                    1.0               1.0   \n\n    natural_finish  matte_finish  radiant_finish  medium_coverage  \\\n0              0.0           0.0             0.0              0.0   \n1              1.0           0.0             0.0              0.0   \n2              1.0           1.0             0.0              0.0   \n3              1.0           0.0             0.0              1.0   \n4              1.0           0.0             0.0              1.0   \n..             ...           ...             ...              ...   \n83             0.0           0.0             0.0              0.0   \n84             0.0           0.0             0.0              1.0   \n85             0.0           1.0             0.0              1.0   \n86             0.0           0.0             0.0              1.0   \n87             1.0           0.0             0.0              1.0   \n\n    full_coverage  sheer_coverage  light_coverage  \n0             1.0             0.0             1.0  \n1             0.0             0.0             1.0  \n2             1.0             0.0             1.0  \n3             1.0             0.0             1.0  \n4             0.0             0.0             1.0  \n..            ...             ...             ...  \n83            0.0             0.0             1.0  \n84            1.0             0.0             1.0  \n85            0.0             1.0             1.0  \n86            0.0             0.0             0.0  \n87            1.0             0.0             0.0  \n\n[88 rows x 15 columns]",
      "text/html": "<div>\n<style scoped>\n    .dataframe tbody tr th:only-of-type {\n        vertical-align: middle;\n    }\n\n    .dataframe tbody tr th {\n        vertical-align: top;\n    }\n\n    .dataframe thead th {\n        text-align: right;\n    }\n</style>\n<table border=\"1\" class=\"dataframe\">\n  <thead>\n    <tr style=\"text-align: right;\">\n      <th></th>\n      <th>brand_product</th>\n      <th>product_features</th>\n      <th>product_description</th>\n      <th>skin_type_dry</th>\n      <th>skin_type_oily</th>\n      <th>skin_type_combo</th>\n      <th>skin_type_combination</th>\n      <th>skin_type_normal</th>\n      <th>natural_finish</th>\n      <th>matte_finish</th>\n      <th>radiant_finish</th>\n      <th>medium_coverage</th>\n      <th>full_coverage</th>\n      <th>sheer_coverage</th>\n      <th>light_coverage</th>\n    </tr>\n  </thead>\n  <tbody>\n    <tr>\n      <th>0</th>\n      <td>Anastasia_Beverly_Hills_Stick_Foundation</td>\n      <td>NaN</td>\n      <td>item 1852409\\nskin type:\\n✔ combination\\n✔ oil...</td>\n      <td>0.0</td>\n      <td>1.0</td>\n      <td>0.0</td>\n      <td>1.0</td>\n      <td>0.0</td>\n      <td>0.0</td>\n      <td>0.0</td>\n      <td>0.0</td>\n      <td>0.0</td>\n      <td>1.0</td>\n      <td>0.0</td>\n      <td>1.0</td>\n    </tr>\n    <tr>\n      <th>1</th>\n      <td>Armani_Beauty_Neo_Nude_Foundation</td>\n      <td>natural finish\\nlight coverage\\nhyaluronic aci...</td>\n      <td>item 2355691\\nwhat it is: a skincare-infused l...</td>\n      <td>1.0</td>\n      <td>1.0</td>\n      <td>1.0</td>\n      <td>1.0</td>\n      <td>1.0</td>\n      <td>1.0</td>\n      <td>0.0</td>\n      <td>0.0</td>\n      <td>0.0</td>\n      <td>0.0</td>\n      <td>0.0</td>\n      <td>1.0</td>\n    </tr>\n    <tr>\n      <th>2</th>\n      <td>Armani_Beauty_Power_Fabric_Longwear_High_Cover...</td>\n      <td>matte finish\\nfull coverage\\nlong-wearing\\nall...</td>\n      <td>item 1919505\\nwhat it is: a liquid foundation ...</td>\n      <td>1.0</td>\n      <td>1.0</td>\n      <td>0.0</td>\n      <td>1.0</td>\n      <td>1.0</td>\n      <td>1.0</td>\n      <td>1.0</td>\n      <td>0.0</td>\n      <td>0.0</td>\n      <td>1.0</td>\n      <td>0.0</td>\n      <td>1.0</td>\n    </tr>\n    <tr>\n      <th>3</th>\n      <td>Bite_Beauty_Changemaker_Supercharged_Micellar_...</td>\n      <td>long-wearing\\nlight coverage\\nliquid formula\\n...</td>\n      <td>item 2253193\\nonly at sephora\\nwhat it is: a c...</td>\n      <td>1.0</td>\n      <td>1.0</td>\n      <td>0.0</td>\n      <td>1.0</td>\n      <td>1.0</td>\n      <td>1.0</td>\n      <td>0.0</td>\n      <td>0.0</td>\n      <td>1.0</td>\n      <td>1.0</td>\n      <td>0.0</td>\n      <td>1.0</td>\n    </tr>\n    <tr>\n      <th>4</th>\n      <td>Bobbi_Brown_Skin_Foundation_SPF_15</td>\n      <td>liquid formula\\nlight coverage\\nnatural finish...</td>\n      <td>item 1288448\\ncoverage:\\n✔ medium\\n\\nskin type...</td>\n      <td>1.0</td>\n      <td>1.0</td>\n      <td>1.0</td>\n      <td>1.0</td>\n      <td>1.0</td>\n      <td>1.0</td>\n      <td>0.0</td>\n      <td>0.0</td>\n      <td>1.0</td>\n      <td>0.0</td>\n      <td>0.0</td>\n      <td>1.0</td>\n    </tr>\n    <tr>\n      <th>...</th>\n      <td>...</td>\n      <td>...</td>\n      <td>...</td>\n      <td>...</td>\n      <td>...</td>\n      <td>...</td>\n      <td>...</td>\n      <td>...</td>\n      <td>...</td>\n      <td>...</td>\n      <td>...</td>\n      <td>...</td>\n      <td>...</td>\n      <td>...</td>\n      <td>...</td>\n    </tr>\n    <tr>\n      <th>83</th>\n      <td>tarte_Amazonian_Clay_BB_Tinted_Moisturizer_Bro...</td>\n      <td>NaN</td>\n      <td>item 759779\\nskin type:\\n✔ normal\\n✔ combinati...</td>\n      <td>1.0</td>\n      <td>1.0</td>\n      <td>0.0</td>\n      <td>1.0</td>\n      <td>1.0</td>\n      <td>0.0</td>\n      <td>0.0</td>\n      <td>0.0</td>\n      <td>0.0</td>\n      <td>0.0</td>\n      <td>0.0</td>\n      <td>1.0</td>\n    </tr>\n    <tr>\n      <th>84</th>\n      <td>tarte_Amazonian_Clay_Full_Coverage_Airbrush_Fo...</td>\n      <td>NaN</td>\n      <td>item 1534650\\n\\n\\nskin type:\\n✔ normal\\n✔ comb...</td>\n      <td>0.0</td>\n      <td>1.0</td>\n      <td>0.0</td>\n      <td>1.0</td>\n      <td>1.0</td>\n      <td>0.0</td>\n      <td>0.0</td>\n      <td>0.0</td>\n      <td>1.0</td>\n      <td>1.0</td>\n      <td>0.0</td>\n      <td>1.0</td>\n    </tr>\n    <tr>\n      <th>85</th>\n      <td>tarte_BB_Tinted_Treatment_12-Hour_Primer_Broad...</td>\n      <td>spf\\nvegan\\nmedium coverage\\nmatte finish\\nlon...</td>\n      <td>item 2413045\\ncoverage:\\n✔ medium\\n\\nskin type...</td>\n      <td>1.0</td>\n      <td>1.0</td>\n      <td>0.0</td>\n      <td>1.0</td>\n      <td>1.0</td>\n      <td>0.0</td>\n      <td>1.0</td>\n      <td>0.0</td>\n      <td>1.0</td>\n      <td>0.0</td>\n      <td>1.0</td>\n      <td>1.0</td>\n    </tr>\n    <tr>\n      <th>86</th>\n      <td>tarte_Clay_Stick_Foundation</td>\n      <td>NaN</td>\n      <td>item 1952746\\ncoverage:\\n✔ medium\\n\\nskin type...</td>\n      <td>0.0</td>\n      <td>1.0</td>\n      <td>0.0</td>\n      <td>1.0</td>\n      <td>0.0</td>\n      <td>0.0</td>\n      <td>0.0</td>\n      <td>0.0</td>\n      <td>1.0</td>\n      <td>0.0</td>\n      <td>0.0</td>\n      <td>0.0</td>\n    </tr>\n    <tr>\n      <th>87</th>\n      <td>tarte_babassu_foundcealer™_skincare_foundation...</td>\n      <td>NaN</td>\n      <td>item 2197507\\nwhat it is: a vegan makeup and s...</td>\n      <td>1.0</td>\n      <td>1.0</td>\n      <td>0.0</td>\n      <td>1.0</td>\n      <td>1.0</td>\n      <td>1.0</td>\n      <td>0.0</td>\n      <td>0.0</td>\n      <td>1.0</td>\n      <td>1.0</td>\n      <td>0.0</td>\n      <td>0.0</td>\n    </tr>\n  </tbody>\n</table>\n<p>88 rows × 15 columns</p>\n</div>"
     },
     "execution_count": 470,
     "metadata": {},
     "output_type": "execute_result"
    }
   ],
   "source": [
    "all_foundations"
   ],
   "metadata": {
    "collapsed": false,
    "pycharm": {
     "name": "#%%\n"
    }
   }
  },
  {
   "cell_type": "code",
   "execution_count": 471,
   "outputs": [
    {
     "data": {
      "text/plain": "<AxesSubplot:xlabel='light_coverage', ylabel='count'>"
     },
     "execution_count": 471,
     "metadata": {},
     "output_type": "execute_result"
    },
    {
     "data": {
      "text/plain": "<Figure size 1440x288 with 4 Axes>",
      "image/png": "[encoded data removed]"
     },
     "metadata": {
      "needs_background": "light"
     },
     "output_type": "display_data"
    }
   ],
   "source": [
    "fig, (ax1, ax2, ax3, ax4) = plt.subplots(1, 4, figsize=(20, 4))\n",
    "sns.countplot(x=all_foundations['medium_coverage'], order=all_foundations['medium_coverage'].value_counts().index, ax=ax1)\n",
    "# ax1.set_xlabel('Self-reported skin tones')\n",
    "# ax1.set_ylabel('Number of people')\n",
    "# ax1.title.set_text('26% of the reviewers self-report to have light skin tones')\n",
    "# ax1.tick_params(axis='x', rotation=45)\n",
    "\n",
    "sns.countplot(x=all_foundations['full_coverage'], order=all_foundations['full_coverage'].value_counts().index, ax=ax2)\n",
    "# ax2.set_xlabel('Self-reported hair colors')\n",
    "# ax2.set_ylabel('Number of people')\n",
    "# ax2.tick_params(axis='x', rotation=45)\n",
    "# ax2.title.set_text('49% say they are brunettes')\n",
    "\n",
    "sns.countplot(x=all_foundations['sheer_coverage'], order=all_foundations['sheer_coverage'].value_counts().index, ax=ax3)\n",
    "# ax3.set_xlabel('Self-reported eye colors')\n",
    "# ax3.set_ylabel('Number of people')\n",
    "# ax3.tick_params(axis='x', rotation=45)\n",
    "# ax3.title.set_text('55% say they have brown eyes')\n",
    "\n",
    "sns.countplot(x=all_foundations['light_coverage'], order=all_foundations['light_coverage'].value_counts().index, ax=ax4)"
   ],
   "metadata": {
    "collapsed": false,
    "pycharm": {
     "name": "#%%\n"
    }
   }
  },
  {
   "cell_type": "code",
   "execution_count": 472,
   "outputs": [],
   "source": [
    "all_foundations.to_csv(\"foundation_features_parsed.csv\", index=False)"
   ],
   "metadata": {
    "collapsed": false,
    "pycharm": {
     "name": "#%%\n"
    }
   }
  },
  {
   "cell_type": "markdown",
   "source": [
    "### Getting Price Information"
   ],
   "metadata": {
    "collapsed": false
   }
  },
  {
   "cell_type": "code",
   "execution_count": 4,
   "outputs": [],
   "source": [
    "all_foundations = pd.read_csv(\"foundation_features_parsed.csv\")"
   ],
   "metadata": {
    "collapsed": false,
    "pycharm": {
     "name": "#%%\n"
    }
   }
  },
  {
   "cell_type": "code",
   "execution_count": 5,
   "outputs": [
    {
     "data": {
      "text/plain": "Index(['brand_product', 'product_features', 'product_description',\n       'skin_type_dry', 'skin_type_oily', 'skin_type_combo',\n       'skin_type_combination', 'skin_type_normal', 'natural_finish',\n       'matte_finish', 'radiant_finish', 'medium_coverage', 'full_coverage',\n       'sheer_coverage', 'light_coverage'],\n      dtype='object')"
     },
     "execution_count": 5,
     "metadata": {},
     "output_type": "execute_result"
    }
   ],
   "source": [
    "all_foundations.columns"
   ],
   "metadata": {
    "collapsed": false,
    "pycharm": {
     "name": "#%%\n"
    }
   }
  },
  {
   "cell_type": "code",
   "execution_count": 6,
   "outputs": [],
   "source": [
    "all_foundations_url = pd.read_csv(\"foundation_features_parsed_url.csv\")"
   ],
   "metadata": {
    "collapsed": false,
    "pycharm": {
     "name": "#%%\n"
    }
   }
  },
  {
   "cell_type": "code",
   "execution_count": 7,
   "outputs": [
    {
     "data": {
      "text/plain": "Index(['brand_product', 'product_features', 'product_description',\n       'skin_type_Dry', 'skin_type_Oily', 'skin_type_Combo',\n       'skin_type_Combination', 'skin_type_Norma', 'Natural_finish',\n       'Matte_finish', 'Sheer_finish', 'Dewy_finish', 'Medium_coverage',\n       'Full_coverage', 'Natural_coverage', 'Light_coverage', 'Unnamed: 0',\n       'url', 'url_valid', 'img_src'],\n      dtype='object')"
     },
     "execution_count": 7,
     "metadata": {},
     "output_type": "execute_result"
    }
   ],
   "source": [
    "all_foundations_url.columns"
   ],
   "metadata": {
    "collapsed": false,
    "pycharm": {
     "name": "#%%\n"
    }
   }
  },
  {
   "cell_type": "code",
   "execution_count": 8,
   "outputs": [
    {
     "name": "stderr",
     "output_type": "stream",
     "text": [
      " 95%|█████████▌| 83/87 [13:35<00:39,  9.83s/it]\n"
     ]
    },
    {
     "ename": "AttributeError",
     "evalue": "'scrapping_foundation_features' object has no attribute 'price'",
     "output_type": "error",
     "traceback": [
      "\u001B[0;31m---------------------------------------------------------------------------\u001B[0m",
      "\u001B[0;31mAttributeError\u001B[0m                            Traceback (most recent call last)",
      "Input \u001B[0;32mIn [8]\u001B[0m, in \u001B[0;36m<module>\u001B[0;34m\u001B[0m\n\u001B[1;32m      3\u001B[0m features \u001B[38;5;241m=\u001B[39m scrapping_foundation_features(\n\u001B[1;32m      4\u001B[0m     url \u001B[38;5;241m=\u001B[39m all_foundations_url\u001B[38;5;241m.\u001B[39mloc[i, \u001B[38;5;124m'\u001B[39m\u001B[38;5;124murl\u001B[39m\u001B[38;5;124m'\u001B[39m], product_name\u001B[38;5;241m=\u001B[39mall_foundations_url\u001B[38;5;241m.\u001B[39mloc[i, \u001B[38;5;124m'\u001B[39m\u001B[38;5;124mbrand_product\u001B[39m\u001B[38;5;124m'\u001B[39m]\n\u001B[1;32m      5\u001B[0m )\n\u001B[1;32m      6\u001B[0m features\u001B[38;5;241m.\u001B[39mset_up_driver()\n\u001B[0;32m----> 7\u001B[0m all_foundations_url\u001B[38;5;241m.\u001B[39mloc[i, \u001B[38;5;124m'\u001B[39m\u001B[38;5;124mprice\u001B[39m\u001B[38;5;124m'\u001B[39m] \u001B[38;5;241m=\u001B[39m \u001B[43mfeatures\u001B[49m\u001B[38;5;241;43m.\u001B[39;49m\u001B[43mscrap_product_price\u001B[49m\u001B[43m(\u001B[49m\u001B[43m)\u001B[49m\n\u001B[1;32m      8\u001B[0m \u001B[38;5;66;03m# features.push_data_to_gsc()\u001B[39;00m\n\u001B[1;32m      9\u001B[0m features\u001B[38;5;241m.\u001B[39mclose_driver()\n",
      "File \u001B[0;32m~/Projects/_DS_projects/project_foundation/scrapping.py:195\u001B[0m, in \u001B[0;36mscrapping_foundation_features.scrap_product_price\u001B[0;34m(self)\u001B[0m\n\u001B[1;32m    193\u001B[0m \u001B[38;5;28;01melse\u001B[39;00m:\n\u001B[1;32m    194\u001B[0m     \u001B[38;5;28;01mpass\u001B[39;00m\n\u001B[0;32m--> 195\u001B[0m \u001B[38;5;28;01mreturn\u001B[39;00m \u001B[38;5;28;43mself\u001B[39;49m\u001B[38;5;241;43m.\u001B[39;49m\u001B[43mprice\u001B[49m\n",
      "\u001B[0;31mAttributeError\u001B[0m: 'scrapping_foundation_features' object has no attribute 'price'"
     ]
    }
   ],
   "source": [
    "all_foundations_url['price'] = 0\n",
    "for i in tqdm(range(len(all_foundations_url))):\n",
    "    features = scrapping_foundation_features(\n",
    "        url = all_foundations_url.loc[i, 'url'], product_name=all_foundations_url.loc[i, 'brand_product']\n",
    "    )\n",
    "    features.set_up_driver()\n",
    "    all_foundations_url.loc[i, 'price'] = features.scrap_product_price()\n",
    "    # features.push_data_to_gsc()\n",
    "    features.close_driver()"
   ],
   "metadata": {
    "collapsed": false,
    "pycharm": {
     "name": "#%%\n"
    }
   }
  },
  {
   "cell_type": "code",
   "execution_count": 11,
   "outputs": [
    {
     "name": "stderr",
     "output_type": "stream",
     "text": [
      "100%|██████████| 3/3 [00:27<00:00,  9.24s/it]\n"
     ]
    }
   ],
   "source": [
    "for i in tqdm(range(84,len(all_foundations_url))):\n",
    "    features = scrapping_foundation_features(\n",
    "        url = all_foundations_url.loc[i, 'url'], product_name=all_foundations_url.loc[i, 'brand_product']\n",
    "    )\n",
    "    features.set_up_driver()\n",
    "    all_foundations_url.loc[i, 'price'] = features.scrap_product_price()\n",
    "    # features.push_data_to_gsc()\n",
    "    features.close_driver()"
   ],
   "metadata": {
    "collapsed": false,
    "pycharm": {
     "name": "#%%\n"
    }
   }
  },
  {
   "cell_type": "code",
   "execution_count": 18,
   "outputs": [
    {
     "data": {
      "text/plain": "0            $25.00\n1            $40.00\n2            $64.00\n3     $22.00 $44.00\n4            $50.00\n          ...      \n82           $36.00\n83                0\n84           $39.00\n85           $29.00\n86           $39.00\nName: price, Length: 87, dtype: object"
     },
     "execution_count": 18,
     "metadata": {},
     "output_type": "execute_result"
    }
   ],
   "source": [
    "all_foundations_url['price']"
   ],
   "metadata": {
    "collapsed": false,
    "pycharm": {
     "name": "#%%\n"
    }
   }
  },
  {
   "cell_type": "code",
   "execution_count": 20,
   "outputs": [
    {
     "name": "stderr",
     "output_type": "stream",
     "text": [
      "100%|██████████| 87/87 [00:00<00:00, 53607.23it/s]\n"
     ]
    }
   ],
   "source": [
    "for i in tqdm(range(len(all_foundations_url))):\n",
    "    if all_foundations_url.loc[i, 'price'] != 0:\n",
    "        if len(all_foundations_url.loc[i, 'price']) > 6:\n",
    "            all_foundations_url.loc[i, 'price'] = '$' + all_foundations_url.loc[i, 'price'].split('$')[-1]\n"
   ],
   "metadata": {
    "collapsed": false,
    "pycharm": {
     "name": "#%%\n"
    }
   }
  },
  {
   "cell_type": "code",
   "execution_count": 21,
   "outputs": [
    {
     "data": {
      "text/plain": "0     $25.00\n1     $40.00\n2     $64.00\n3     $44.00\n4     $50.00\n       ...  \n82    $36.00\n83         0\n84    $39.00\n85    $29.00\n86    $39.00\nName: price, Length: 87, dtype: object"
     },
     "execution_count": 21,
     "metadata": {},
     "output_type": "execute_result"
    }
   ],
   "source": [
    "all_foundations_url['price']"
   ],
   "metadata": {
    "collapsed": false,
    "pycharm": {
     "name": "#%%\n"
    }
   }
  },
  {
   "cell_type": "code",
   "execution_count": 22,
   "outputs": [],
   "source": [
    "all_foundations_url.to_csv(\"foundation_features_parsed_url.csv\",index=False)"
   ],
   "metadata": {
    "collapsed": false,
    "pycharm": {
     "name": "#%%\n"
    }
   }
  },
  {
   "cell_type": "code",
   "execution_count": 24,
   "outputs": [
    {
     "data": {
      "text/plain": "'tarte_Amazonian_Clay_Full_Coverage_Airbrush_Foundation'"
     },
     "execution_count": 24,
     "metadata": {},
     "output_type": "execute_result"
    }
   ],
   "source": [
    "all_foundations_url.loc[83, 'brand_product']"
   ],
   "metadata": {
    "collapsed": false,
    "pycharm": {
     "name": "#%%\n"
    }
   }
  },
  {
   "cell_type": "code",
   "execution_count": 70,
   "outputs": [],
   "source": [
    "all_foundations_url.loc[83, 'price'] = 39"
   ],
   "metadata": {
    "collapsed": false,
    "pycharm": {
     "name": "#%%\n"
    }
   }
  },
  {
   "cell_type": "code",
   "execution_count": 41,
   "outputs": [],
   "source": [
    "import ast\n",
    "for i in range(len(all_foundations_url)):\n",
    "    if type(all_foundations_url.loc[i, 'price']) == str:\n",
    "        all_foundations_url.loc[i, 'price'] = all_foundations_url.loc[i, 'price'].replace('$', '')\n",
    "        all_foundations_url.loc[i, 'price'] = ast.literal_eval(all_foundations_url.loc[i, 'price'])"
   ],
   "metadata": {
    "collapsed": false,
    "pycharm": {
     "name": "#%%\n"
    }
   }
  },
  {
   "cell_type": "code",
   "execution_count": 197,
   "outputs": [
    {
     "data": {
      "text/plain": "<Figure size 864x288 with 1 Axes>",
      "image/png": "[encoded data removed]"
     },
     "metadata": {
      "needs_background": "light"
     },
     "output_type": "display_data"
    }
   ],
   "source": [
    "fig, ax1 = plt.subplots(1, 1, figsize=(12, 4))\n",
    "sns.countplot(x=all_foundations_url['price'])\n",
    "ax1.tick_params(axis='x', rotation=45)\n",
    "plt.savefig('foundations_by_price.jpeg')"
   ],
   "metadata": {
    "collapsed": false,
    "pycharm": {
     "name": "#%%\n"
    }
   }
  },
  {
   "cell_type": "code",
   "execution_count": 107,
   "outputs": [],
   "source": [
    "all_foundations_url['price_bucket'] = 0\n",
    "for i in range(len(all_foundations_url)):\n",
    "    if all_foundations_url.loc[i, 'price'] >= 45:\n",
    "        all_foundations_url.loc[i, 'price_bucket'] = 2\n",
    "    elif all_foundations_url.loc[i, 'price'] >= 38:\n",
    "        # 0.5 quantile\n",
    "        all_foundations_url.loc[i, 'price_bucket'] = 1\n",
    "    else:\n",
    "        all_foundations_url.loc[i, 'price_bucket'] = 0"
   ],
   "metadata": {
    "collapsed": false,
    "pycharm": {
     "name": "#%%\n"
    }
   }
  },
  {
   "cell_type": "code",
   "execution_count": 210,
   "outputs": [
    {
     "data": {
      "text/plain": "38.0"
     },
     "execution_count": 210,
     "metadata": {},
     "output_type": "execute_result"
    }
   ],
   "source": [
    "all_foundations_url['price'].quantile(0.33)"
   ],
   "metadata": {
    "collapsed": false,
    "pycharm": {
     "name": "#%%\n"
    }
   }
  },
  {
   "cell_type": "code",
   "execution_count": 198,
   "outputs": [
    {
     "data": {
      "text/plain": "<Figure size 576x288 with 1 Axes>",
      "image/png": "[encoded data removed]"
     },
     "metadata": {
      "needs_background": "light"
     },
     "output_type": "display_data"
    }
   ],
   "source": [
    "fig, ax1 = plt.subplots(1, 1, figsize=(8, 4))\n",
    "sns.countplot(x=all_foundations_url['price_bucket'])\n",
    "plt.savefig('foundations_by_buckets.jpeg')"
   ],
   "metadata": {
    "collapsed": false,
    "pycharm": {
     "name": "#%%\n"
    }
   }
  },
  {
   "cell_type": "code",
   "execution_count": 118,
   "outputs": [
    {
     "data": {
      "text/plain": "Index(['brand_product', 'product_features', 'product_description',\n       'skin_type_dry', 'skin_type_oily', 'skin_type_combo',\n       'skin_type_combination', 'skin_type_normal', 'natural_finish',\n       'matte_finish', 'radiant_finish', 'medium_coverage', 'full_coverage',\n       'sheer_coverage', 'light_coverage'],\n      dtype='object')"
     },
     "execution_count": 118,
     "metadata": {},
     "output_type": "execute_result"
    }
   ],
   "source": [
    "all_foundations.columns"
   ],
   "metadata": {
    "collapsed": false,
    "pycharm": {
     "name": "#%%\n"
    }
   }
  },
  {
   "cell_type": "code",
   "execution_count": 134,
   "outputs": [],
   "source": [
    "all_foundations_url.rename({\n",
    "    \"skin_type_Norma\": \"skin_type_Normal\"\n",
    "}, inplace=True, axis=1)"
   ],
   "metadata": {
    "collapsed": false,
    "pycharm": {
     "name": "#%%\n"
    }
   }
  },
  {
   "cell_type": "code",
   "execution_count": 136,
   "outputs": [],
   "source": [
    "all_foundations_url.to_csv(\"foundation_features_parsed_url.csv\",index=False)"
   ],
   "metadata": {
    "collapsed": false,
    "pycharm": {
     "name": "#%%\n"
    }
   }
  },
  {
   "cell_type": "code",
   "execution_count": 135,
   "outputs": [
    {
     "data": {
      "text/plain": "Index(['brand_product', 'product_features', 'product_description',\n       'skin_type_Dry', 'skin_type_Oily', 'skin_type_Combo',\n       'skin_type_Combination', 'skin_type_Normal', 'Natural_finish',\n       'Matte_finish', 'Sheer_finish', 'Dewy_finish', 'Medium_coverage',\n       'Full_coverage', 'Natural_coverage', 'Light_coverage', 'Unnamed: 0',\n       'url', 'url_valid', 'img_src', 'price', 'price_bucket'],\n      dtype='object')"
     },
     "execution_count": 135,
     "metadata": {},
     "output_type": "execute_result"
    }
   ],
   "source": [
    "all_foundations_url.columns"
   ],
   "metadata": {
    "collapsed": false,
    "pycharm": {
     "name": "#%%\n"
    }
   }
  },
  {
   "cell_type": "code",
   "execution_count": 122,
   "outputs": [
    {
     "data": {
      "text/plain": "'Anastasia_Beverly_Hills_Stick_Foundation'"
     },
     "execution_count": 122,
     "metadata": {},
     "output_type": "execute_result"
    }
   ],
   "source": [
    "all_foundations_url.loc[0, 'brand_product']"
   ],
   "metadata": {
    "collapsed": false,
    "pycharm": {
     "name": "#%%\n"
    }
   }
  },
  {
   "cell_type": "code",
   "execution_count": 125,
   "outputs": [
    {
     "data": {
      "text/plain": "'https://www.sephora.com/product/stick-foundation-P410504?icid2=products%20grid:p410504'"
     },
     "execution_count": 125,
     "metadata": {},
     "output_type": "execute_result"
    }
   ],
   "source": [
    "# given brand_product, call the url\n",
    "all_foundations_url[all_foundations_url['brand_product'] == 'Anastasia_Beverly_Hills_Stick_Foundation']['url'].values[0]"
   ],
   "metadata": {
    "collapsed": false,
    "pycharm": {
     "name": "#%%\n"
    }
   }
  },
  {
   "cell_type": "code",
   "execution_count": 139,
   "outputs": [
    {
     "data": {
      "text/plain": "True"
     },
     "execution_count": 139,
     "metadata": {},
     "output_type": "execute_result"
    }
   ],
   "source": [
    "all_foundations_url.loc[0, 'skin_type_Dry'] == 0"
   ],
   "metadata": {
    "collapsed": false,
    "pycharm": {
     "name": "#%%\n"
    }
   }
  },
  {
   "cell_type": "code",
   "execution_count": 237,
   "outputs": [],
   "source": [
    "dry_dat = all_foundations_url[all_foundations_url['skin_type_Oily'] == 1]"
   ],
   "metadata": {
    "collapsed": false,
    "pycharm": {
     "name": "#%%\n"
    }
   }
  },
  {
   "cell_type": "code",
   "execution_count": 238,
   "outputs": [
    {
     "data": {
      "text/plain": "28"
     },
     "execution_count": 238,
     "metadata": {},
     "output_type": "execute_result"
    }
   ],
   "source": [
    "len(dry_dat)"
   ],
   "metadata": {
    "collapsed": false,
    "pycharm": {
     "name": "#%%\n"
    }
   }
  },
  {
   "cell_type": "code",
   "execution_count": 239,
   "outputs": [],
   "source": [
    "light_cover = dry_dat[dry_dat['Full_coverage'] == 1]"
   ],
   "metadata": {
    "collapsed": false,
    "pycharm": {
     "name": "#%%\n"
    }
   }
  },
  {
   "cell_type": "code",
   "execution_count": 240,
   "outputs": [
    {
     "data": {
      "text/plain": "15"
     },
     "execution_count": 240,
     "metadata": {},
     "output_type": "execute_result"
    }
   ],
   "source": [
    "len(light_cover)"
   ],
   "metadata": {
    "collapsed": false,
    "pycharm": {
     "name": "#%%\n"
    }
   }
  },
  {
   "cell_type": "code",
   "execution_count": 241,
   "outputs": [],
   "source": [
    "nat_finish = light_cover[light_cover['Matte_finish'] == 1]"
   ],
   "metadata": {
    "collapsed": false,
    "pycharm": {
     "name": "#%%\n"
    }
   }
  },
  {
   "cell_type": "code",
   "execution_count": 242,
   "outputs": [
    {
     "data": {
      "text/plain": "6"
     },
     "execution_count": 242,
     "metadata": {},
     "output_type": "execute_result"
    }
   ],
   "source": [
    "len(nat_finish)"
   ],
   "metadata": {
    "collapsed": false,
    "pycharm": {
     "name": "#%%\n"
    }
   }
  },
  {
   "cell_type": "code",
   "execution_count": 147,
   "outputs": [
    {
     "data": {
      "text/plain": "7     0\n11    1\n36    2\n82    0\nName: price_bucket, dtype: int64"
     },
     "execution_count": 147,
     "metadata": {},
     "output_type": "execute_result"
    }
   ],
   "source": [
    "nat_finish['price_bucket']"
   ],
   "metadata": {
    "collapsed": false,
    "pycharm": {
     "name": "#%%\n"
    }
   }
  }
 ],
 "metadata": {
  "kernelspec": {
   "display_name": "Python 3",
   "language": "python",
   "name": "python3"
  },
  "language_info": {
   "codemirror_mode": {
    "name": "ipython",
    "version": 2
   },
   "file_extension": ".py",
   "mimetype": "text/x-python",
   "name": "python",
   "nbconvert_exporter": "python",
   "pygments_lexer": "ipython2",
   "version": "2.7.6"
  }
 },
 "nbformat": 4,
 "nbformat_minor": 0
}