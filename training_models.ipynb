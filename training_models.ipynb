{
 "cells": [
  {
   "cell_type": "code",
   "execution_count": 9,
   "metadata": {},
   "outputs": [],
   "source": [
    "import pandas as pd\n",
    "pd.options.mode.chained_assignment = None\n",
    "import numpy as np\n",
    "from tqdm import tqdm\n",
    "\n",
    "import matplotlib.pyplot as plt\n",
    "import seaborn as sns\n",
    "\n",
    "from sklearn.model_selection import train_test_split, GridSearchCV\n",
    "# from sklearn.feature_extraction.text import CountVectorizer\n",
    "from sklearn.preprocessing import OneHotEncoder\n",
    "from sklearn.linear_model import (\n",
    "    LinearRegression,\n",
    "    LogisticRegression,\n",
    "    SGDClassifier\n",
    ")\n",
    "\n",
    "from sklearn.cluster import KMeans\n",
    "\n",
    "from sklearn.svm import (\n",
    "    LinearSVC,\n",
    "    SVC\n",
    ")\n",
    "\n",
    "from sklearn.metrics import (\n",
    "    precision_recall_curve, \n",
    "    f1_score, \n",
    "    roc_curve,\n",
    "    auc,\n",
    "    precision_score,\n",
    "    recall_score,\n",
    "    mean_squared_error,\n",
    "    confusion_matrix\n",
    ")\n",
    "\n",
    "from sklearn.decomposition import NMF, LatentDirichletAllocation, TruncatedSVD\n",
    "from sklearn.feature_extraction.text import TfidfVectorizer, CountVectorizer\n",
    "\n",
    "import collections\n",
    "import re\n",
    "import datetime\n",
    "# from scipy.stats import pearsonr, interval\n",
    "import scipy.stats as st\n",
    "\n",
    "from training import plot_auc_roc, plot_recision_recall_f1, plot_countbar, plot_diff_in_means, plot_cross_tab_heatmap"
   ]
  },
  {
   "cell_type": "code",
   "execution_count": 10,
   "metadata": {},
   "outputs": [
    {
     "data": {
      "text/plain": [
       "2571"
      ]
     },
     "execution_count": 10,
     "metadata": {},
     "output_type": "execute_result"
    }
   ],
   "source": [
    "dat = pd.read_pickle('data_full_review_cleaned/Bobbi_Brown_Skin_Long_Wear_Weightless_Foundation_SPF_15.pkl')\n",
    "product = 'Bobbi_Brown_Skin_Long_Wear_Weightless_Foundation_SPF_15'\n",
    "len(dat)"
   ]
  },
  {
   "cell_type": "code",
   "execution_count": 11,
   "metadata": {},
   "outputs": [],
   "source": [
    "dat = dat[dat['skin_tone']!='']\n",
    "dat = dat[dat['skin_type']!='']\n",
    "dat = dat[dat['eye_color']!='']\n",
    "dat = dat[dat['hair_color']!='']\n",
    "dat = dat.reset_index(drop = True)"
   ]
  },
  {
   "cell_type": "code",
   "execution_count": 12,
   "metadata": {},
   "outputs": [
    {
     "data": {
      "text/plain": [
       "2495"
      ]
     },
     "execution_count": 12,
     "metadata": {},
     "output_type": "execute_result"
    }
   ],
   "source": [
    "len(dat)"
   ]
  },
  {
   "cell_type": "code",
   "execution_count": 13,
   "metadata": {},
   "outputs": [
    {
     "data": {
      "text/html": [
       "<div>\n",
       "<style scoped>\n",
       "    .dataframe tbody tr th:only-of-type {\n",
       "        vertical-align: middle;\n",
       "    }\n",
       "\n",
       "    .dataframe tbody tr th {\n",
       "        vertical-align: top;\n",
       "    }\n",
       "\n",
       "    .dataframe thead th {\n",
       "        text-align: right;\n",
       "    }\n",
       "</style>\n",
       "<table border=\"1\" class=\"dataframe\">\n",
       "  <thead>\n",
       "    <tr style=\"text-align: right;\">\n",
       "      <th></th>\n",
       "      <th>index</th>\n",
       "      <th>reviewer_id</th>\n",
       "      <th>rating</th>\n",
       "      <th>recommended</th>\n",
       "      <th>review_subject</th>\n",
       "      <th>review_content</th>\n",
       "      <th>reviewer_feature</th>\n",
       "      <th>purchased_shade</th>\n",
       "      <th>date_of_review</th>\n",
       "      <th>eye_color</th>\n",
       "      <th>hair_color</th>\n",
       "      <th>skin_tone</th>\n",
       "      <th>skin_type</th>\n",
       "    </tr>\n",
       "  </thead>\n",
       "  <tbody>\n",
       "    <tr>\n",
       "      <th>0</th>\n",
       "      <td>0</td>\n",
       "      <td>StephanieMarie7</td>\n",
       "      <td>5.0</td>\n",
       "      <td>1.0</td>\n",
       "      <td>Most Helpful Review</td>\n",
       "      <td>NaN</td>\n",
       "      <td>, Oily skin</td>\n",
       "      <td>Golden Honey (W-068) - medium dark beige with ...</td>\n",
       "      <td>11 Jan 2018</td>\n",
       "      <td>Brown</td>\n",
       "      <td>Brunette</td>\n",
       "      <td>Tan</td>\n",
       "      <td>Oily</td>\n",
       "    </tr>\n",
       "    <tr>\n",
       "      <th>1</th>\n",
       "      <td>1</td>\n",
       "      <td>jaimielynn90</td>\n",
       "      <td>5.0</td>\n",
       "      <td>1.0</td>\n",
       "      <td>NaN</td>\n",
       "      <td>NaN</td>\n",
       "      <td>, Combination skin</td>\n",
       "      <td>Cool Beige (C-046) - light medium beige with p...</td>\n",
       "      <td>21 d ago</td>\n",
       "      <td>Hazel</td>\n",
       "      <td>Black</td>\n",
       "      <td>Olive</td>\n",
       "      <td>Combination</td>\n",
       "    </tr>\n",
       "    <tr>\n",
       "      <th>2</th>\n",
       "      <td>4</td>\n",
       "      <td>Sedasarah</td>\n",
       "      <td>1.0</td>\n",
       "      <td>0.0</td>\n",
       "      <td>NaN</td>\n",
       "      <td>I was recommended this product when I was on t...</td>\n",
       "      <td>, Combination skin</td>\n",
       "      <td>Neutral Porcelain (N-010) - extra light beige ...</td>\n",
       "      <td>22 Nov 2021</td>\n",
       "      <td>Brown</td>\n",
       "      <td>Blonde</td>\n",
       "      <td>Fair</td>\n",
       "      <td>Combination</td>\n",
       "    </tr>\n",
       "    <tr>\n",
       "      <th>3</th>\n",
       "      <td>5</td>\n",
       "      <td>discern</td>\n",
       "      <td>4.0</td>\n",
       "      <td>1.0</td>\n",
       "      <td>WARM GOLDEN (W-076)           WARM GOLDEN (W-076)</td>\n",
       "      <td>My colour is WARM GOLDEN (W-076). Sephora, why...</td>\n",
       "      <td>, Combination skin</td>\n",
       "      <td>Golden (W-074) - brown with yellow undertones ...</td>\n",
       "      <td>5 Nov 2021</td>\n",
       "      <td>Brown</td>\n",
       "      <td>Blonde</td>\n",
       "      <td>Fair</td>\n",
       "      <td>Combination</td>\n",
       "    </tr>\n",
       "    <tr>\n",
       "      <th>4</th>\n",
       "      <td>6</td>\n",
       "      <td>DJMama</td>\n",
       "      <td>2.0</td>\n",
       "      <td>0.0</td>\n",
       "      <td>Returning</td>\n",
       "      <td>I just printed out my return label for this fo...</td>\n",
       "      <td>, Normal skin</td>\n",
       "      <td>Beige (N-042) - light medium beige with a bala...</td>\n",
       "      <td>2 Oct 2021</td>\n",
       "      <td>Hazel</td>\n",
       "      <td>Brunette</td>\n",
       "      <td>Medium</td>\n",
       "      <td>Normal</td>\n",
       "    </tr>\n",
       "  </tbody>\n",
       "</table>\n",
       "</div>"
      ],
      "text/plain": [
       "   index      reviewer_id  rating  recommended  \\\n",
       "0      0  StephanieMarie7     5.0          1.0   \n",
       "1      1     jaimielynn90     5.0          1.0   \n",
       "2      4        Sedasarah     1.0          0.0   \n",
       "3      5          discern     4.0          1.0   \n",
       "4      6           DJMama     2.0          0.0   \n",
       "\n",
       "                                      review_subject  \\\n",
       "0                                Most Helpful Review   \n",
       "1                                                NaN   \n",
       "2                                                NaN   \n",
       "3  WARM GOLDEN (W-076)           WARM GOLDEN (W-076)   \n",
       "4                                          Returning   \n",
       "\n",
       "                                      review_content    reviewer_feature  \\\n",
       "0                                                NaN         , Oily skin   \n",
       "1                                                NaN  , Combination skin   \n",
       "2  I was recommended this product when I was on t...  , Combination skin   \n",
       "3  My colour is WARM GOLDEN (W-076). Sephora, why...  , Combination skin   \n",
       "4  I just printed out my return label for this fo...       , Normal skin   \n",
       "\n",
       "                                     purchased_shade date_of_review eye_color  \\\n",
       "0  Golden Honey (W-068) - medium dark beige with ...    11 Jan 2018     Brown   \n",
       "1  Cool Beige (C-046) - light medium beige with p...       21 d ago     Hazel   \n",
       "2  Neutral Porcelain (N-010) - extra light beige ...    22 Nov 2021     Brown   \n",
       "3  Golden (W-074) - brown with yellow undertones ...     5 Nov 2021     Brown   \n",
       "4  Beige (N-042) - light medium beige with a bala...     2 Oct 2021     Hazel   \n",
       "\n",
       "  hair_color skin_tone    skin_type  \n",
       "0   Brunette       Tan         Oily  \n",
       "1      Black     Olive  Combination  \n",
       "2     Blonde      Fair  Combination  \n",
       "3     Blonde      Fair  Combination  \n",
       "4   Brunette    Medium       Normal  "
      ]
     },
     "execution_count": 13,
     "metadata": {},
     "output_type": "execute_result"
    }
   ],
   "source": [
    "dat.head()"
   ]
  },
  {
   "cell_type": "code",
   "execution_count": 14,
   "metadata": {},
   "outputs": [],
   "source": [
    "# date_of_first_review = min(dat['date_of_review'])\n",
    "# for i in dat.index:\n",
    "#     if re.match('.*ago*.',dat.loc[i, 'date_of_review']):\n",
    "#         dat.loc[i, 'date_of_review'] = \n",
    "#         dat.loc[i, 'days_since_launch'] = dat.loc[i, 'date_of_review'] - date_of_first_review"
   ]
  },
  {
   "cell_type": "code",
   "execution_count": 15,
   "metadata": {},
   "outputs": [
    {
     "name": "stdout",
     "output_type": "stream",
     "text": [
      "21 \n"
     ]
    }
   ],
   "source": [
    "for i in dat.index:\n",
    "    if re.match('.*ago*.', dat.loc[i, 'date_of_review']):\n",
    "        print(re.findall('([\\s\\d]+)', dat.loc[i, 'date_of_review'])[0])\n",
    "        dat.loc[i, 'date_of_review'] = datetime.date.today() - datetime.timedelta(int(re.findall('([\\s\\d]+)', dat.loc[i, 'date_of_review'])[0]))\n",
    "\n",
    "dat['date_of_review'] = pd.to_datetime(dat['date_of_review'])    \n",
    "dat['days_since_launch'] = dat['date_of_review'] - min(dat['date_of_review'])\n",
    "dat['days_since_launch'] = dat['days_since_launch'].dt.days\n",
    "dat['days_since_launch_scaled'] = dat['days_since_launch'] / max(dat['days_since_launch'])"
   ]
  },
  {
   "cell_type": "code",
   "execution_count": 16,
   "metadata": {},
   "outputs": [
    {
     "data": {
      "text/html": [
       "<div>\n",
       "<style scoped>\n",
       "    .dataframe tbody tr th:only-of-type {\n",
       "        vertical-align: middle;\n",
       "    }\n",
       "\n",
       "    .dataframe tbody tr th {\n",
       "        vertical-align: top;\n",
       "    }\n",
       "\n",
       "    .dataframe thead th {\n",
       "        text-align: right;\n",
       "    }\n",
       "</style>\n",
       "<table border=\"1\" class=\"dataframe\">\n",
       "  <thead>\n",
       "    <tr style=\"text-align: right;\">\n",
       "      <th></th>\n",
       "      <th>index</th>\n",
       "      <th>reviewer_id</th>\n",
       "      <th>rating</th>\n",
       "      <th>recommended</th>\n",
       "      <th>review_subject</th>\n",
       "      <th>review_content</th>\n",
       "      <th>reviewer_feature</th>\n",
       "      <th>purchased_shade</th>\n",
       "      <th>date_of_review</th>\n",
       "      <th>eye_color</th>\n",
       "      <th>hair_color</th>\n",
       "      <th>skin_tone</th>\n",
       "      <th>skin_type</th>\n",
       "      <th>days_since_launch</th>\n",
       "      <th>days_since_launch_scaled</th>\n",
       "    </tr>\n",
       "  </thead>\n",
       "  <tbody>\n",
       "    <tr>\n",
       "      <th>0</th>\n",
       "      <td>0</td>\n",
       "      <td>StephanieMarie7</td>\n",
       "      <td>5.0</td>\n",
       "      <td>1.0</td>\n",
       "      <td>Most Helpful Review</td>\n",
       "      <td>NaN</td>\n",
       "      <td>, Oily skin</td>\n",
       "      <td>Golden Honey (W-068) - medium dark beige with ...</td>\n",
       "      <td>2018-01-11</td>\n",
       "      <td>Brown</td>\n",
       "      <td>Brunette</td>\n",
       "      <td>Tan</td>\n",
       "      <td>Oily</td>\n",
       "      <td>35</td>\n",
       "      <td>0.023396</td>\n",
       "    </tr>\n",
       "    <tr>\n",
       "      <th>1</th>\n",
       "      <td>1</td>\n",
       "      <td>jaimielynn90</td>\n",
       "      <td>5.0</td>\n",
       "      <td>1.0</td>\n",
       "      <td>NaN</td>\n",
       "      <td>NaN</td>\n",
       "      <td>, Combination skin</td>\n",
       "      <td>Cool Beige (C-046) - light medium beige with p...</td>\n",
       "      <td>2022-01-11</td>\n",
       "      <td>Hazel</td>\n",
       "      <td>Black</td>\n",
       "      <td>Olive</td>\n",
       "      <td>Combination</td>\n",
       "      <td>1496</td>\n",
       "      <td>1.000000</td>\n",
       "    </tr>\n",
       "    <tr>\n",
       "      <th>2</th>\n",
       "      <td>4</td>\n",
       "      <td>Sedasarah</td>\n",
       "      <td>1.0</td>\n",
       "      <td>0.0</td>\n",
       "      <td>NaN</td>\n",
       "      <td>I was recommended this product when I was on t...</td>\n",
       "      <td>, Combination skin</td>\n",
       "      <td>Neutral Porcelain (N-010) - extra light beige ...</td>\n",
       "      <td>2021-11-22</td>\n",
       "      <td>Brown</td>\n",
       "      <td>Blonde</td>\n",
       "      <td>Fair</td>\n",
       "      <td>Combination</td>\n",
       "      <td>1446</td>\n",
       "      <td>0.966578</td>\n",
       "    </tr>\n",
       "    <tr>\n",
       "      <th>3</th>\n",
       "      <td>5</td>\n",
       "      <td>discern</td>\n",
       "      <td>4.0</td>\n",
       "      <td>1.0</td>\n",
       "      <td>WARM GOLDEN (W-076)           WARM GOLDEN (W-076)</td>\n",
       "      <td>My colour is WARM GOLDEN (W-076). Sephora, why...</td>\n",
       "      <td>, Combination skin</td>\n",
       "      <td>Golden (W-074) - brown with yellow undertones ...</td>\n",
       "      <td>2021-11-05</td>\n",
       "      <td>Brown</td>\n",
       "      <td>Blonde</td>\n",
       "      <td>Fair</td>\n",
       "      <td>Combination</td>\n",
       "      <td>1429</td>\n",
       "      <td>0.955214</td>\n",
       "    </tr>\n",
       "    <tr>\n",
       "      <th>4</th>\n",
       "      <td>6</td>\n",
       "      <td>DJMama</td>\n",
       "      <td>2.0</td>\n",
       "      <td>0.0</td>\n",
       "      <td>Returning</td>\n",
       "      <td>I just printed out my return label for this fo...</td>\n",
       "      <td>, Normal skin</td>\n",
       "      <td>Beige (N-042) - light medium beige with a bala...</td>\n",
       "      <td>2021-10-02</td>\n",
       "      <td>Hazel</td>\n",
       "      <td>Brunette</td>\n",
       "      <td>Medium</td>\n",
       "      <td>Normal</td>\n",
       "      <td>1395</td>\n",
       "      <td>0.932487</td>\n",
       "    </tr>\n",
       "  </tbody>\n",
       "</table>\n",
       "</div>"
      ],
      "text/plain": [
       "   index      reviewer_id  rating  recommended  \\\n",
       "0      0  StephanieMarie7     5.0          1.0   \n",
       "1      1     jaimielynn90     5.0          1.0   \n",
       "2      4        Sedasarah     1.0          0.0   \n",
       "3      5          discern     4.0          1.0   \n",
       "4      6           DJMama     2.0          0.0   \n",
       "\n",
       "                                      review_subject  \\\n",
       "0                                Most Helpful Review   \n",
       "1                                                NaN   \n",
       "2                                                NaN   \n",
       "3  WARM GOLDEN (W-076)           WARM GOLDEN (W-076)   \n",
       "4                                          Returning   \n",
       "\n",
       "                                      review_content    reviewer_feature  \\\n",
       "0                                                NaN         , Oily skin   \n",
       "1                                                NaN  , Combination skin   \n",
       "2  I was recommended this product when I was on t...  , Combination skin   \n",
       "3  My colour is WARM GOLDEN (W-076). Sephora, why...  , Combination skin   \n",
       "4  I just printed out my return label for this fo...       , Normal skin   \n",
       "\n",
       "                                     purchased_shade date_of_review eye_color  \\\n",
       "0  Golden Honey (W-068) - medium dark beige with ...     2018-01-11     Brown   \n",
       "1  Cool Beige (C-046) - light medium beige with p...     2022-01-11     Hazel   \n",
       "2  Neutral Porcelain (N-010) - extra light beige ...     2021-11-22     Brown   \n",
       "3  Golden (W-074) - brown with yellow undertones ...     2021-11-05     Brown   \n",
       "4  Beige (N-042) - light medium beige with a bala...     2021-10-02     Hazel   \n",
       "\n",
       "  hair_color skin_tone    skin_type  days_since_launch  \\\n",
       "0   Brunette       Tan         Oily                 35   \n",
       "1      Black     Olive  Combination               1496   \n",
       "2     Blonde      Fair  Combination               1446   \n",
       "3     Blonde      Fair  Combination               1429   \n",
       "4   Brunette    Medium       Normal               1395   \n",
       "\n",
       "   days_since_launch_scaled  \n",
       "0                  0.023396  \n",
       "1                  1.000000  \n",
       "2                  0.966578  \n",
       "3                  0.955214  \n",
       "4                  0.932487  "
      ]
     },
     "execution_count": 16,
     "metadata": {},
     "output_type": "execute_result"
    }
   ],
   "source": [
    "dat.head()"
   ]
  },
  {
   "cell_type": "code",
   "execution_count": 17,
   "metadata": {},
   "outputs": [
    {
     "data": {
      "text/plain": [
       "Index(['index', 'reviewer_id', 'rating', 'recommended', 'review_subject',\n",
       "       'review_content', 'reviewer_feature', 'purchased_shade',\n",
       "       'date_of_review', 'eye_color', 'hair_color', 'skin_tone', 'skin_type',\n",
       "       'days_since_launch', 'days_since_launch_scaled'],\n",
       "      dtype='object')"
      ]
     },
     "execution_count": 17,
     "metadata": {},
     "output_type": "execute_result"
    }
   ],
   "source": [
    "dat.columns"
   ]
  },
  {
   "cell_type": "markdown",
   "metadata": {},
   "source": [
    "### Exploring the data\n",
    "\n",
    "#### Could we train different models for customers who purchased the same shades?"
   ]
  },
  {
   "cell_type": "code",
   "execution_count": 18,
   "metadata": {},
   "outputs": [],
   "source": [
    "# first look at the distribution\n",
    "dat['shade_number'] = str()\n",
    "for i in dat.index:\n",
    "    if type(dat.loc[i, 'purchased_shade']) == float:\n",
    "        dat.loc[i, 'purchased_shade'] = None\n",
    "        dat.loc[i, 'shade_number'] = None\n",
    "    if dat.loc[i, 'purchased_shade']:\n",
    "        dat.loc[i, 'shade_number'] = re.findall(r'.+(\\([A-Z]\\-\\d.+\\))',dat.loc[i, 'purchased_shade'])[0].replace('(', '').replace(')', '')"
   ]
  },
  {
   "cell_type": "code",
   "execution_count": 19,
   "metadata": {},
   "outputs": [],
   "source": [
    "dat = dat.sort_values(['shade_number'], axis = 0, na_position='last')"
   ]
  },
  {
   "cell_type": "code",
   "execution_count": 20,
   "metadata": {},
   "outputs": [
    {
     "data": {
      "text/plain": [
       "(42, 16)"
      ]
     },
     "execution_count": 20,
     "metadata": {},
     "output_type": "execute_result"
    }
   ],
   "source": [
    "shades = dat.groupby(['shade_number'], as_index=False).count()\n",
    "shades.shape # we have 42 different shades with this foundation"
   ]
  },
  {
   "cell_type": "code",
   "execution_count": 21,
   "metadata": {},
   "outputs": [
    {
     "data": {
      "image/png": "[encoded data removed]",
      "text/plain": [
       "<Figure size 720x576 with 1 Axes>"
      ]
     },
     "metadata": {
      "needs_background": "light"
     },
     "output_type": "display_data"
    }
   ],
   "source": [
    "plot_countbar(data=dat, product = product, col1 = 'shade_number')"
   ]
  },
  {
   "cell_type": "markdown",
   "metadata": {},
   "source": [
    "#### Or can we learn more about the reviews based on reviewer features, such as skin tones, skin types, hair colors, or eye colors?"
   ]
  },
  {
   "cell_type": "code",
   "execution_count": 22,
   "metadata": {},
   "outputs": [
    {
     "data": {
      "image/png": "[encoded data removed]",
      "text/plain": [
       "<Figure size 720x576 with 1 Axes>"
      ]
     },
     "metadata": {
      "needs_background": "light"
     },
     "output_type": "display_data"
    }
   ],
   "source": [
    "plot_countbar(data = dat, col1 = 'skin_tone', product = product)"
   ]
  },
  {
   "cell_type": "code",
   "execution_count": 23,
   "metadata": {},
   "outputs": [
    {
     "data": {
      "image/png": "[encoded data removed]",
      "text/plain": [
       "<Figure size 432x288 with 1 Axes>"
      ]
     },
     "metadata": {
      "needs_background": "light"
     },
     "output_type": "display_data"
    }
   ],
   "source": [
    "plot_diff_in_means(dat, col1 = 'skin_tone', col2 = 'rating', product = product)"
   ]
  },
  {
   "cell_type": "code",
   "execution_count": 24,
   "metadata": {},
   "outputs": [
    {
     "data": {
      "image/png": "[encoded data removed]",
      "text/plain": [
       "<Figure size 720x576 with 1 Axes>"
      ]
     },
     "metadata": {
      "needs_background": "light"
     },
     "output_type": "display_data"
    }
   ],
   "source": [
    "plot_countbar(data = dat, product = product, col1 = 'skin_type')"
   ]
  },
  {
   "cell_type": "code",
   "execution_count": 25,
   "metadata": {},
   "outputs": [
    {
     "data": {
      "image/png": "[encoded data removed]",
      "text/plain": [
       "<Figure size 432x288 with 1 Axes>"
      ]
     },
     "metadata": {
      "needs_background": "light"
     },
     "output_type": "display_data"
    }
   ],
   "source": [
    "plot_diff_in_means(dat, col1 = 'skin_type', col2 = 'rating', product = product)"
   ]
  },
  {
   "cell_type": "code",
   "execution_count": 26,
   "metadata": {},
   "outputs": [
    {
     "data": {
      "image/png": "[encoded data removed]",
      "text/plain": [
       "<Figure size 720x576 with 2 Axes>"
      ]
     },
     "metadata": {
      "needs_background": "light"
     },
     "output_type": "display_data"
    }
   ],
   "source": [
    "plot_cross_tab_heatmap(data = dat, col1='skin_tone', col2='skin_type', col3 = 'rating', func='mean', product = product)"
   ]
  },
  {
   "cell_type": "code",
   "execution_count": 27,
   "metadata": {},
   "outputs": [
    {
     "data": {
      "image/png": "[encoded data removed]",
      "text/plain": [
       "<Figure size 720x576 with 1 Axes>"
      ]
     },
     "metadata": {
      "needs_background": "light"
     },
     "output_type": "display_data"
    }
   ],
   "source": [
    "plot_countbar(data = dat, product = product, col1 = 'hair_color')"
   ]
  },
  {
   "cell_type": "code",
   "execution_count": 28,
   "metadata": {},
   "outputs": [
    {
     "data": {
      "image/png": "[encoded data removed]",
      "text/plain": [
       "<Figure size 432x288 with 1 Axes>"
      ]
     },
     "metadata": {
      "needs_background": "light"
     },
     "output_type": "display_data"
    }
   ],
   "source": [
    "plot_diff_in_means(dat, col1 = 'hair_color', col2 = 'rating', product = product)"
   ]
  },
  {
   "cell_type": "code",
   "execution_count": 29,
   "metadata": {},
   "outputs": [
    {
     "data": {
      "image/png": "[encoded data removed]",
      "text/plain": [
       "<Figure size 720x576 with 1 Axes>"
      ]
     },
     "metadata": {
      "needs_background": "light"
     },
     "output_type": "display_data"
    }
   ],
   "source": [
    "plot_countbar(data = dat, product= product, col1 = 'eye_color')"
   ]
  },
  {
   "cell_type": "code",
   "execution_count": 30,
   "metadata": {},
   "outputs": [
    {
     "data": {
      "image/png": "[encoded data removed]",
      "text/plain": [
       "<Figure size 432x288 with 1 Axes>"
      ]
     },
     "metadata": {
      "needs_background": "light"
     },
     "output_type": "display_data"
    }
   ],
   "source": [
    "plot_diff_in_means(dat, col1 = 'eye_color', col2 = 'rating', product = product)"
   ]
  },
  {
   "cell_type": "code",
   "execution_count": 31,
   "metadata": {},
   "outputs": [],
   "source": [
    "dat = dat.sample(frac=1, random_state = 0)"
   ]
  },
  {
   "cell_type": "markdown",
   "metadata": {},
   "source": [
    "#### What were people talking about when they gave different ratings to this foundation?"
   ]
  },
  {
   "cell_type": "code",
   "execution_count": 32,
   "metadata": {},
   "outputs": [],
   "source": [
    "# dat_5star = dat[dat['rating']==5]\n",
    "# dat_4star = dat[dat['rating']==4]\n",
    "# dat_3star = dat[dat['rating']==3]\n",
    "# dat_2star = dat[dat['rating']==2]\n",
    "# dat_1star = dat[dat['rating']==1]"
   ]
  },
  {
   "cell_type": "code",
   "execution_count": 33,
   "metadata": {},
   "outputs": [],
   "source": [
    "# def nmf_topics_from_review_subject(data, n_features: int, n_components: int, n_top_words: int):\n",
    "#     # tf_vectorizer = CountVectorizer(max_df=0.95, min_df=2, max_features=n_features, stop_words='english', ngram_range=(1, 2))\n",
    "#     topic_dat = data[data['review_subject'].notna()]\n",
    "\n",
    "#     pattern = '|'.join(['foundation','ve', 'really', 'lo', 'ry', 'amorepacific'])\n",
    "#     topic_dat.loc[:, 'review_subject'] = topic_dat.loc[:, 'review_subject'].str.replace(pattern, '', regex = True)\n",
    "    \n",
    "#     # tf = tf_vectorizer.fit_transform(topic_dat['review_subject'])\n",
    "    \n",
    "#     tfidf_vectorizer = TfidfVectorizer(max_df=0.99, min_df=1,\n",
    "#         max_features=n_features, stop_words='english', ngram_range=(1, 2))\n",
    "#     tfidf = tfidf_vectorizer.fit_transform(topic_dat['review_subject'])\n",
    "\n",
    "#     nmf = NMF(n_components = n_components, random_state=3,\n",
    "#           init='nndsvd')# .fit(upc_tf) # nndsvd for sparse data\n",
    "# #          alpha=.1, l1_ratio=.5)\n",
    "#     nmf_fit = nmf.fit(tfidf)\n",
    "\n",
    "#     print(\"\\nTopics in NMF model (Frobenius norm):\")\n",
    "#     tfidf_feature_names = tfidf_vectorizer.get_feature_names_out()\n",
    "\n",
    "#     def print_top_words(model, feature_names, n_top_words = n_top_words):\n",
    "#         for topic_idx, topic in enumerate(model.components_):\n",
    "#             message = \"Topic #%d: \" % topic_idx\n",
    "#             message += \" \".join([feature_names[i]\n",
    "#                                 for i in topic.argsort()[:-n_top_words - 1:-1]])\n",
    "#             print(message)\n",
    "#         print()\n",
    "\n",
    "#     return print_top_words(nmf_fit, tfidf_feature_names, n_top_words) "
   ]
  },
  {
   "cell_type": "code",
   "execution_count": 34,
   "metadata": {},
   "outputs": [],
   "source": [
    "def nmf_topics_from_review_content(data, n_features: int, n_components: int, n_top_words: int):\n",
    "    # tf_vectorizer = CountVectorizer(max_df=0.95, min_df=2, max_features=n_features, stop_words='english', ngram_range=(1, 2))\n",
    "    topic_dat = data[data['review_content'].notna()]\n",
    "\n",
    "    pattern = '|'.join(['foundation','ve', 'really', 'lo', 'ry'])\n",
    "    topic_dat.loc[:, 'review_content'] = topic_dat.loc[:, 'review_content'].str.replace(pattern, '', regex = True)\n",
    "    \n",
    "    tfidf_vectorizer = TfidfVectorizer(max_df=0.99, min_df=1,\n",
    "        max_features=n_features, stop_words='english', ngram_range=(1, 2))\n",
    "    tfidf = tfidf_vectorizer.fit_transform(topic_dat['review_content'])\n",
    "\n",
    "    nmf = NMF(n_components = n_components, random_state=3,\n",
    "          init='nndsvd')# .fit(upc_tf) # nndsvd for sparse data\n",
    "#          alpha=.1, l1_ratio=.5)\n",
    "    nmf_fit = nmf.fit(tfidf)\n",
    "\n",
    "    print(\"\\nTopics in NMF model (Frobenius norm):\")\n",
    "    tfidf_feature_names = tfidf_vectorizer.get_feature_names_out()\n",
    "\n",
    "    def print_top_words(model, feature_names, n_top_words = n_top_words):\n",
    "        for topic_idx, topic in enumerate(model.components_):\n",
    "            message = \"Topic #%d: \" % topic_idx\n",
    "            message += \" \".join([feature_names[i]\n",
    "                                for i in topic.argsort()[:-n_top_words - 1:-1]])\n",
    "            print(message)\n",
    "        print()\n",
    "\n",
    "    return print_top_words(nmf_fit, tfidf_feature_names, n_top_words) "
   ]
  },
  {
   "cell_type": "code",
   "execution_count": 35,
   "metadata": {},
   "outputs": [],
   "source": [
    "# nmf_topics_from_review_content(data = dat_1star, n_features = 1000, n_components = 10, n_top_words = 10)\n"
   ]
  },
  {
   "cell_type": "code",
   "execution_count": 36,
   "metadata": {},
   "outputs": [
    {
     "name": "stdout",
     "output_type": "stream",
     "text": [
      "\n",
      "Topics in NMF model (Frobenius norm):\n",
      "Topic #0: ha oily skin day face oily skin didn just don did\n",
      "Topic #1: weightless wear wear weightless foundation long long wear skin long weightless foundation skin brown skin\n",
      "Topic #2: gifted gifted bobbi bobbi bobbi brown brown product recommend amazing ng definitely\n",
      "Topic #3: complimenta receid complimenta bobbi product receid product product complimenta receid complimenta bobbi brown bobbi brown\n",
      "Topic #4: tone skin tone skin perfectly matches matches skin tone perfectly cor match skin shade\n",
      "Topic #5: finish skin matte natural like medium oks medium corage ok corage\n",
      "Topic #6: light weight light weight feels corage super light feels light great medium great corage\n",
      "\n"
     ]
    },
    {
     "name": "stderr",
     "output_type": "stream",
     "text": [
      "/opt/homebrew/Caskroom/miniforge/base/envs/foundation/lib/python3.9/site-packages/sklearn/decomposition/_nmf.py:1637: ConvergenceWarning: Maximum number of iterations 200 reached. Increase it to improve convergence.\n",
      "  warnings.warn(\n"
     ]
    }
   ],
   "source": [
    "nmf_topics_from_review_content(data = dat[dat['rating']==5], n_features = 1000, n_components = 7, n_top_words = 10)\n"
   ]
  },
  {
   "cell_type": "code",
   "execution_count": 37,
   "metadata": {},
   "outputs": [],
   "source": [
    "# nmf_topics_from_review_content(data = dat_4star, n_features = 1000, n_components = 25, n_top_words = 10)"
   ]
  },
  {
   "cell_type": "code",
   "execution_count": 38,
   "metadata": {},
   "outputs": [],
   "source": [
    "# nmf_topics_from_review_subject(data = dat_3star, n_features = 1000, n_components = 15, n_top_words = 10)\n"
   ]
  },
  {
   "cell_type": "code",
   "execution_count": 39,
   "metadata": {},
   "outputs": [],
   "source": [
    "# def LDA_topics_from_review_content(data, n_features: int, n_top_words: int):\n",
    "    \n",
    "#     topic_dat = data[data['review_content'].notna()]\n",
    "#     pattern = '|'.join(['foundation','ve', 'really', 'lo', 'ry', 'bobbi brown'])\n",
    "#     topic_dat.loc[:, 'review_content'] = topic_dat.loc[:, 'review_content'].replace(pattern, '', regex = True)\n",
    "    \n",
    "#     tfidf_vectorizer = TfidfVectorizer(max_df=0.95, min_df=1, \n",
    "#     max_features=n_features, stop_words='english', ngram_range=(1, 2))\n",
    "#     tfidf = tfidf_vectorizer.fit_transform(topic_dat['review_content'])\n",
    "\n",
    "#     lda = LatentDirichletAllocation(learning_method='online')\n",
    "#     search_params = {\n",
    "#     'n_components': [5, 10, 15, 20, 25, 30],\n",
    "#     'learning_decay': [.3, .5, .7]\n",
    "#     }\n",
    "#     gridsearch = GridSearchCV(lda, param_grid=search_params, n_jobs=-1, verbose=1).fit(tfidf)\n",
    "#     print(gridsearch.best_params_)\n",
    "#     LDA_optimized = LatentDirichletAllocation(\n",
    "#         n_components=gridsearch.best_params_.get('n_components'), \n",
    "#         learning_decay=gridsearch.best_params_.get('learning_decay'),\n",
    "#         random_state=0)\n",
    "#     LDA_optimized_fit = LDA_optimized.fit(tfidf)\n",
    "\n",
    "#     print(\"\\nTopics in LDA model:\")\n",
    "#     tfidf_feature_names = tfidf_vectorizer.get_feature_names_out()\n",
    "\n",
    "#     def print_top_words(model, feature_names, n_top_words = n_top_words):\n",
    "#         for topic_idx, topic in enumerate(model.components_):\n",
    "#             message = \"Topic #%d: \" % topic_idx\n",
    "#             message += \" \".join([feature_names[i]\n",
    "#                                 for i in topic.argsort()[:-n_top_words - 1:-1]])\n",
    "#             print(message)\n",
    "#         print()\n",
    "\n",
    "#     return print_top_words(LDA_optimized_fit, tfidf_feature_names, n_top_words) "
   ]
  },
  {
   "cell_type": "code",
   "execution_count": 40,
   "metadata": {},
   "outputs": [],
   "source": [
    "# LDA_topics_from_review_content(data = dat_5star, n_features=1000, n_top_words=15)"
   ]
  },
  {
   "cell_type": "code",
   "execution_count": 41,
   "metadata": {},
   "outputs": [],
   "source": [
    "# LDA_topics_from_review_content(data = dat_1star, n_features=1000, n_top_words=15)"
   ]
  },
  {
   "cell_type": "code",
   "execution_count": 42,
   "metadata": {},
   "outputs": [],
   "source": [
    "# LDA_topics_from_review_content(data = dat_4star, n_features=1000, n_top_words=15)"
   ]
  },
  {
   "cell_type": "markdown",
   "metadata": {},
   "source": [
    "##### Decided to remove the reviews that had something to do with packaging or bottle design"
   ]
  },
  {
   "cell_type": "code",
   "execution_count": 43,
   "metadata": {},
   "outputs": [
    {
     "data": {
      "text/plain": [
       "195"
      ]
     },
     "execution_count": 43,
     "metadata": {},
     "output_type": "execute_result"
    }
   ],
   "source": [
    "len(dat[dat['review_content'].isna()]) "
   ]
  },
  {
   "cell_type": "code",
   "execution_count": 44,
   "metadata": {},
   "outputs": [],
   "source": [
    "list_of_example_reviews_about_bottles = []\n",
    "dat = dat[dat['review_subject'].notna()]\n",
    "indices = dat.index\n",
    "for i in indices:\n",
    "    if re.match(r'.*packag|design|size|smell*.', dat.loc[i, 'review_subject']):\n",
    "        list_of_example_reviews_about_bottles.append(i)\n"
   ]
  },
  {
   "cell_type": "code",
   "execution_count": 45,
   "metadata": {},
   "outputs": [
    {
     "data": {
      "text/plain": [
       "0"
      ]
     },
     "execution_count": 45,
     "metadata": {},
     "output_type": "execute_result"
    }
   ],
   "source": [
    "len(list_of_example_reviews_about_bottles)"
   ]
  },
  {
   "cell_type": "code",
   "execution_count": 46,
   "metadata": {},
   "outputs": [],
   "source": [
    "# dat.loc[list_of_example_reviews_about_bottles[0], 'review_subject']"
   ]
  },
  {
   "cell_type": "code",
   "execution_count": 47,
   "metadata": {},
   "outputs": [],
   "source": [
    "dat = dat.drop(dat.index[list_of_example_reviews_about_bottles])"
   ]
  },
  {
   "cell_type": "code",
   "execution_count": 48,
   "metadata": {},
   "outputs": [
    {
     "data": {
      "text/plain": [
       "1853"
      ]
     },
     "execution_count": 48,
     "metadata": {},
     "output_type": "execute_result"
    }
   ],
   "source": [
    "len(dat)"
   ]
  },
  {
   "cell_type": "markdown",
   "metadata": {},
   "source": [
    "##### And create a feature if revieweres liked matte finishes"
   ]
  },
  {
   "cell_type": "code",
   "execution_count": 142,
   "metadata": {},
   "outputs": [],
   "source": [
    "dat['finish'] = 0\n",
    "dat['coverage'] = 0"
   ]
  },
  {
   "cell_type": "code",
   "execution_count": 143,
   "metadata": {},
   "outputs": [],
   "source": [
    "list_of_positive_reviews_about_matte_finishes = []\n",
    "dat = dat[dat['review_content'].notna()]\n",
    "indices = dat.index\n",
    "for i in indices:\n",
    "    if re.match(r'.*finish|matte|natural*.', dat.loc[i, 'review_content']):\n",
    "        if dat.loc[i, 'rating'] >= 4:\n",
    "            dat.loc[i, 'finish'] = 1\n",
    "            list_of_positive_reviews_about_matte_finishes.append(i)"
   ]
  },
  {
   "cell_type": "code",
   "execution_count": 144,
   "metadata": {},
   "outputs": [
    {
     "data": {
      "text/plain": [
       "372"
      ]
     },
     "execution_count": 144,
     "metadata": {},
     "output_type": "execute_result"
    }
   ],
   "source": [
    "len(list_of_positive_reviews_about_matte_finishes)"
   ]
  },
  {
   "cell_type": "code",
   "execution_count": 141,
   "metadata": {},
   "outputs": [
    {
     "data": {
      "text/plain": [
       "372"
      ]
     },
     "execution_count": 141,
     "metadata": {},
     "output_type": "execute_result"
    }
   ],
   "source": [
    "list_of_positive_reviews_about_natural_finishes = []\n",
    "for i in indices:\n",
    "    if re.match(r'.*finish|natural*.', dat.loc[i, 'review_content']):\n",
    "        if dat.loc[i, 'rating'] >= 4:\n",
    "            list_of_positive_reviews_about_natural_finishes.append(i)\n",
    "len(list_of_positive_reviews_about_natural_finishes)"
   ]
  },
  {
   "cell_type": "code",
   "execution_count": 52,
   "metadata": {},
   "outputs": [],
   "source": [
    "list_of_positive_reviews_about_coverage = []\n",
    "# dat_5star = dat_5star[dat_5star['review_content'].notna()]\n",
    "# indices = dat_5star.index\n",
    "for i in indices:\n",
    "    if re.match(r'.*coverage|cover*.', dat.loc[i, 'review_content']):\n",
    "        if dat.loc[i, 'rating'] >= 4:\n",
    "            dat.loc[i, 'coverage'] = 1\n",
    "            list_of_positive_reviews_about_coverage.append(i)"
   ]
  },
  {
   "cell_type": "code",
   "execution_count": 53,
   "metadata": {},
   "outputs": [
    {
     "data": {
      "text/plain": [
       "821"
      ]
     },
     "execution_count": 53,
     "metadata": {},
     "output_type": "execute_result"
    }
   ],
   "source": [
    "len(list_of_positive_reviews_about_coverage)"
   ]
  },
  {
   "cell_type": "code",
   "execution_count": 54,
   "metadata": {},
   "outputs": [
    {
     "data": {
      "text/plain": [
       "0.44330453563714906"
      ]
     },
     "execution_count": 54,
     "metadata": {},
     "output_type": "execute_result"
    }
   ],
   "source": [
    "sum(dat['coverage']) / len(dat)"
   ]
  },
  {
   "cell_type": "code",
   "execution_count": 55,
   "metadata": {},
   "outputs": [],
   "source": [
    "dat['shade_match'] = 0\n",
    "list_of_positive_reviews_about_shade = []\n",
    "for i in indices:\n",
    "    if re.match(r'.*shade|match*.', dat.loc[i, 'review_content']):\n",
    "        if dat.loc[i, 'rating'] >= 4:\n",
    "            dat.loc[i, 'shade_match'] = 1\n",
    "            list_of_positive_reviews_about_shade.append(i)"
   ]
  },
  {
   "cell_type": "code",
   "execution_count": 56,
   "metadata": {},
   "outputs": [
    {
     "data": {
      "text/plain": [
       "435"
      ]
     },
     "execution_count": 56,
     "metadata": {},
     "output_type": "execute_result"
    }
   ],
   "source": [
    "len(list_of_positive_reviews_about_shade)"
   ]
  },
  {
   "cell_type": "code",
   "execution_count": 57,
   "metadata": {},
   "outputs": [],
   "source": [
    "dat['gifted'] = 0\n",
    "list_of_positive_reviews_but_gifted = []\n",
    "for i in indices:\n",
    "    if re.match(r'.*gifted|receive|incentivize|receid|compliment*.', dat.loc[i, 'review_content']):\n",
    "        if dat.loc[i, 'rating'] >= 4:\n",
    "            dat.loc[i, 'gifted'] = 1\n",
    "            list_of_positive_reviews_but_gifted.append(i)"
   ]
  },
  {
   "cell_type": "code",
   "execution_count": 58,
   "metadata": {},
   "outputs": [
    {
     "data": {
      "text/plain": [
       "454"
      ]
     },
     "execution_count": 58,
     "metadata": {},
     "output_type": "execute_result"
    }
   ],
   "source": [
    "len(list_of_positive_reviews_but_gifted)"
   ]
  },
  {
   "cell_type": "markdown",
   "metadata": {},
   "source": [
    "### Preparing the training and validation sets"
   ]
  },
  {
   "cell_type": "code",
   "execution_count": 59,
   "metadata": {},
   "outputs": [],
   "source": [
    "dat['skin_tone_cat'] = 0\n",
    "\n",
    "for i in dat.index:\n",
    "    if dat.loc[i, 'skin_tone'] == 'Dark' or dat.loc[i, 'skin_tone'] == 'Ebony' or dat.loc[i, 'skin_tone'] == 'Deep':\n",
    "        dat.loc[i, 'skin_tone_cat'] = 0 # darker skin tone = 0\n",
    "    else:\n",
    "        dat.loc[i, 'skin_tone_cat'] = 1 # ligher skin tone = 1"
   ]
  },
  {
   "cell_type": "code",
   "execution_count": 60,
   "metadata": {},
   "outputs": [],
   "source": [
    "reviewer_features = ['hair_color', 'eye_color', 'skin_tone', 'skin_type', 'skin_tone_cat', 'matte_finish', 'coverage', 'shade_match', 'gifted', 'days_since_launch_scaled']\n",
    "\n",
    "X = dat[reviewer_features]\n",
    "# y = dat['rating']\n",
    "dat.loc[:, '5-stars'] = np.where(dat.loc[:, 'rating']==5,1,0)\n",
    "# y = dat['5-stars']\n",
    "y = dat['recommended']\n",
    "\n",
    "\n",
    "train_X, val_X, train_y, val_y = train_test_split(X, y, test_size=0.3, random_state=0)"
   ]
  },
  {
   "cell_type": "code",
   "execution_count": 61,
   "metadata": {},
   "outputs": [
    {
     "data": {
      "text/plain": [
       "0.9017278617710583"
      ]
     },
     "execution_count": 61,
     "metadata": {},
     "output_type": "execute_result"
    }
   ],
   "source": [
    "sum(y)/len(dat)"
   ]
  },
  {
   "cell_type": "code",
   "execution_count": 62,
   "metadata": {},
   "outputs": [
    {
     "data": {
      "text/plain": [
       "1296"
      ]
     },
     "execution_count": 62,
     "metadata": {},
     "output_type": "execute_result"
    }
   ],
   "source": [
    "len(train_X)"
   ]
  },
  {
   "cell_type": "code",
   "execution_count": 63,
   "metadata": {},
   "outputs": [
    {
     "data": {
      "text/plain": [
       "0.45524691358024694"
      ]
     },
     "execution_count": 63,
     "metadata": {},
     "output_type": "execute_result"
    }
   ],
   "source": [
    "sum(train_X['coverage'])/len(train_X)"
   ]
  },
  {
   "cell_type": "code",
   "execution_count": 64,
   "metadata": {},
   "outputs": [
    {
     "data": {
      "text/plain": [
       "0.22993827160493827"
      ]
     },
     "execution_count": 64,
     "metadata": {},
     "output_type": "execute_result"
    }
   ],
   "source": [
    "sum(train_X['shade_match'])/len(train_X)"
   ]
  },
  {
   "cell_type": "code",
   "execution_count": 65,
   "metadata": {},
   "outputs": [
    {
     "data": {
      "text/plain": [
       "0.24614197530864199"
      ]
     },
     "execution_count": 65,
     "metadata": {},
     "output_type": "execute_result"
    }
   ],
   "source": [
    "sum(train_X['gifted'])/len(train_X)"
   ]
  },
  {
   "cell_type": "code",
   "execution_count": 66,
   "metadata": {},
   "outputs": [
    {
     "data": {
      "text/plain": [
       "0.6147623085429458"
      ]
     },
     "execution_count": 66,
     "metadata": {},
     "output_type": "execute_result"
    }
   ],
   "source": [
    "np.mean(train_X['days_since_launch_scaled'])"
   ]
  },
  {
   "cell_type": "markdown",
   "metadata": {},
   "source": [
    "#### One-hot Encoding Reviewer Features"
   ]
  },
  {
   "cell_type": "markdown",
   "metadata": {},
   "source": [
    "##### Hair colors and eye colors"
   ]
  },
  {
   "cell_type": "code",
   "execution_count": 67,
   "metadata": {},
   "outputs": [],
   "source": [
    "enc_rest = OneHotEncoder(sparse=False)\n",
    "train_X_transform = enc_rest.fit_transform(train_X[['hair_color', 'eye_color']])\n",
    "val_X_transform = enc_rest.transform(val_X[['hair_color', 'eye_color']])\n",
    "\n",
    "train_X_transform = pd.DataFrame(train_X_transform)\n",
    "val_X_transform = pd.DataFrame(val_X_transform)"
   ]
  },
  {
   "cell_type": "code",
   "execution_count": 68,
   "metadata": {},
   "outputs": [
    {
     "data": {
      "text/plain": [
       "(1296, 11)"
      ]
     },
     "execution_count": 68,
     "metadata": {},
     "output_type": "execute_result"
    }
   ],
   "source": [
    "train_X_transform.shape"
   ]
  },
  {
   "cell_type": "code",
   "execution_count": 69,
   "metadata": {},
   "outputs": [
    {
     "data": {
      "text/html": [
       "<div>\n",
       "<style scoped>\n",
       "    .dataframe tbody tr th:only-of-type {\n",
       "        vertical-align: middle;\n",
       "    }\n",
       "\n",
       "    .dataframe tbody tr th {\n",
       "        vertical-align: top;\n",
       "    }\n",
       "\n",
       "    .dataframe thead th {\n",
       "        text-align: right;\n",
       "    }\n",
       "</style>\n",
       "<table border=\"1\" class=\"dataframe\">\n",
       "  <thead>\n",
       "    <tr style=\"text-align: right;\">\n",
       "      <th></th>\n",
       "      <th>hair_color</th>\n",
       "      <th>eye_color</th>\n",
       "      <th>skin_tone</th>\n",
       "      <th>skin_type</th>\n",
       "      <th>skin_tone_cat</th>\n",
       "      <th>matte_finish</th>\n",
       "      <th>coverage</th>\n",
       "      <th>shade_match</th>\n",
       "      <th>gifted</th>\n",
       "      <th>days_since_launch_scaled</th>\n",
       "    </tr>\n",
       "  </thead>\n",
       "  <tbody>\n",
       "    <tr>\n",
       "      <th>0</th>\n",
       "      <td>Auburn</td>\n",
       "      <td>51</td>\n",
       "      <td>51</td>\n",
       "      <td>51</td>\n",
       "      <td>51</td>\n",
       "      <td>51</td>\n",
       "      <td>51</td>\n",
       "      <td>51</td>\n",
       "      <td>51</td>\n",
       "      <td>51</td>\n",
       "    </tr>\n",
       "    <tr>\n",
       "      <th>1</th>\n",
       "      <td>Black</td>\n",
       "      <td>371</td>\n",
       "      <td>371</td>\n",
       "      <td>371</td>\n",
       "      <td>371</td>\n",
       "      <td>371</td>\n",
       "      <td>371</td>\n",
       "      <td>371</td>\n",
       "      <td>371</td>\n",
       "      <td>371</td>\n",
       "    </tr>\n",
       "    <tr>\n",
       "      <th>2</th>\n",
       "      <td>Blonde</td>\n",
       "      <td>215</td>\n",
       "      <td>215</td>\n",
       "      <td>215</td>\n",
       "      <td>215</td>\n",
       "      <td>215</td>\n",
       "      <td>215</td>\n",
       "      <td>215</td>\n",
       "      <td>215</td>\n",
       "      <td>215</td>\n",
       "    </tr>\n",
       "    <tr>\n",
       "      <th>3</th>\n",
       "      <td>Brunette</td>\n",
       "      <td>620</td>\n",
       "      <td>620</td>\n",
       "      <td>620</td>\n",
       "      <td>620</td>\n",
       "      <td>620</td>\n",
       "      <td>620</td>\n",
       "      <td>620</td>\n",
       "      <td>620</td>\n",
       "      <td>620</td>\n",
       "    </tr>\n",
       "    <tr>\n",
       "      <th>4</th>\n",
       "      <td>Gray</td>\n",
       "      <td>7</td>\n",
       "      <td>7</td>\n",
       "      <td>7</td>\n",
       "      <td>7</td>\n",
       "      <td>7</td>\n",
       "      <td>7</td>\n",
       "      <td>7</td>\n",
       "      <td>7</td>\n",
       "      <td>7</td>\n",
       "    </tr>\n",
       "    <tr>\n",
       "      <th>5</th>\n",
       "      <td>Red</td>\n",
       "      <td>32</td>\n",
       "      <td>32</td>\n",
       "      <td>32</td>\n",
       "      <td>32</td>\n",
       "      <td>32</td>\n",
       "      <td>32</td>\n",
       "      <td>32</td>\n",
       "      <td>32</td>\n",
       "      <td>32</td>\n",
       "    </tr>\n",
       "  </tbody>\n",
       "</table>\n",
       "</div>"
      ],
      "text/plain": [
       "  hair_color  eye_color  skin_tone  skin_type  skin_tone_cat  matte_finish  \\\n",
       "0     Auburn         51         51         51             51            51   \n",
       "1      Black        371        371        371            371           371   \n",
       "2     Blonde        215        215        215            215           215   \n",
       "3   Brunette        620        620        620            620           620   \n",
       "4       Gray          7          7          7              7             7   \n",
       "5        Red         32         32         32             32            32   \n",
       "\n",
       "   coverage  shade_match  gifted  days_since_launch_scaled  \n",
       "0        51           51      51                        51  \n",
       "1       371          371     371                       371  \n",
       "2       215          215     215                       215  \n",
       "3       620          620     620                       620  \n",
       "4         7            7       7                         7  \n",
       "5        32           32      32                        32  "
      ]
     },
     "execution_count": 69,
     "metadata": {},
     "output_type": "execute_result"
    }
   ],
   "source": [
    "train_X.groupby(['hair_color'],as_index=False).count()"
   ]
  },
  {
   "cell_type": "code",
   "execution_count": 70,
   "metadata": {},
   "outputs": [
    {
     "data": {
      "text/html": [
       "<div>\n",
       "<style scoped>\n",
       "    .dataframe tbody tr th:only-of-type {\n",
       "        vertical-align: middle;\n",
       "    }\n",
       "\n",
       "    .dataframe tbody tr th {\n",
       "        vertical-align: top;\n",
       "    }\n",
       "\n",
       "    .dataframe thead th {\n",
       "        text-align: right;\n",
       "    }\n",
       "</style>\n",
       "<table border=\"1\" class=\"dataframe\">\n",
       "  <thead>\n",
       "    <tr style=\"text-align: right;\">\n",
       "      <th></th>\n",
       "      <th>eye_color</th>\n",
       "      <th>hair_color</th>\n",
       "      <th>skin_tone</th>\n",
       "      <th>skin_type</th>\n",
       "      <th>skin_tone_cat</th>\n",
       "      <th>matte_finish</th>\n",
       "      <th>coverage</th>\n",
       "      <th>shade_match</th>\n",
       "      <th>gifted</th>\n",
       "      <th>days_since_launch_scaled</th>\n",
       "    </tr>\n",
       "  </thead>\n",
       "  <tbody>\n",
       "    <tr>\n",
       "      <th>0</th>\n",
       "      <td>Blue</td>\n",
       "      <td>189</td>\n",
       "      <td>189</td>\n",
       "      <td>189</td>\n",
       "      <td>189</td>\n",
       "      <td>189</td>\n",
       "      <td>189</td>\n",
       "      <td>189</td>\n",
       "      <td>189</td>\n",
       "      <td>189</td>\n",
       "    </tr>\n",
       "    <tr>\n",
       "      <th>1</th>\n",
       "      <td>Brown</td>\n",
       "      <td>814</td>\n",
       "      <td>814</td>\n",
       "      <td>814</td>\n",
       "      <td>814</td>\n",
       "      <td>814</td>\n",
       "      <td>814</td>\n",
       "      <td>814</td>\n",
       "      <td>814</td>\n",
       "      <td>814</td>\n",
       "    </tr>\n",
       "    <tr>\n",
       "      <th>2</th>\n",
       "      <td>Gray</td>\n",
       "      <td>3</td>\n",
       "      <td>3</td>\n",
       "      <td>3</td>\n",
       "      <td>3</td>\n",
       "      <td>3</td>\n",
       "      <td>3</td>\n",
       "      <td>3</td>\n",
       "      <td>3</td>\n",
       "      <td>3</td>\n",
       "    </tr>\n",
       "    <tr>\n",
       "      <th>3</th>\n",
       "      <td>Green</td>\n",
       "      <td>143</td>\n",
       "      <td>143</td>\n",
       "      <td>143</td>\n",
       "      <td>143</td>\n",
       "      <td>143</td>\n",
       "      <td>143</td>\n",
       "      <td>143</td>\n",
       "      <td>143</td>\n",
       "      <td>143</td>\n",
       "    </tr>\n",
       "    <tr>\n",
       "      <th>4</th>\n",
       "      <td>Hazel</td>\n",
       "      <td>147</td>\n",
       "      <td>147</td>\n",
       "      <td>147</td>\n",
       "      <td>147</td>\n",
       "      <td>147</td>\n",
       "      <td>147</td>\n",
       "      <td>147</td>\n",
       "      <td>147</td>\n",
       "      <td>147</td>\n",
       "    </tr>\n",
       "  </tbody>\n",
       "</table>\n",
       "</div>"
      ],
      "text/plain": [
       "  eye_color  hair_color  skin_tone  skin_type  skin_tone_cat  matte_finish  \\\n",
       "0      Blue         189        189        189            189           189   \n",
       "1     Brown         814        814        814            814           814   \n",
       "2      Gray           3          3          3              3             3   \n",
       "3     Green         143        143        143            143           143   \n",
       "4     Hazel         147        147        147            147           147   \n",
       "\n",
       "   coverage  shade_match  gifted  days_since_launch_scaled  \n",
       "0       189          189     189                       189  \n",
       "1       814          814     814                       814  \n",
       "2         3            3       3                         3  \n",
       "3       143          143     143                       143  \n",
       "4       147          147     147                       147  "
      ]
     },
     "execution_count": 70,
     "metadata": {},
     "output_type": "execute_result"
    }
   ],
   "source": [
    "train_X.groupby(['eye_color'],as_index=False).count()"
   ]
  },
  {
   "cell_type": "markdown",
   "metadata": {},
   "source": [
    "#### Skin types and skin tones"
   ]
  },
  {
   "cell_type": "code",
   "execution_count": 71,
   "metadata": {},
   "outputs": [],
   "source": [
    "enc_skin_tone = OneHotEncoder(sparse=False)\n",
    "train_X_transform_skin_tone = enc_skin_tone.fit_transform(train_X[['skin_tone']])\n",
    "val_X_transform_skin_tone = enc_skin_tone.transform(val_X[['skin_tone']])\n",
    "\n",
    "enc_skin_type = OneHotEncoder(sparse=False)\n",
    "train_X_transform_skin_type = enc_skin_type.fit_transform(train_X[['skin_type']])\n",
    "val_X_transform_skin_type = enc_skin_type.transform(val_X[['skin_type']])"
   ]
  },
  {
   "cell_type": "code",
   "execution_count": 76,
   "metadata": {},
   "outputs": [
    {
     "data": {
      "text/html": [
       "<div>\n",
       "<style scoped>\n",
       "    .dataframe tbody tr th:only-of-type {\n",
       "        vertical-align: middle;\n",
       "    }\n",
       "\n",
       "    .dataframe tbody tr th {\n",
       "        vertical-align: top;\n",
       "    }\n",
       "\n",
       "    .dataframe thead th {\n",
       "        text-align: right;\n",
       "    }\n",
       "</style>\n",
       "<table border=\"1\" class=\"dataframe\">\n",
       "  <thead>\n",
       "    <tr style=\"text-align: right;\">\n",
       "      <th></th>\n",
       "      <th>Dark_Combination</th>\n",
       "      <th>Dark_Dry</th>\n",
       "      <th>Dark_Normal</th>\n",
       "      <th>Dark_Oily</th>\n",
       "      <th>Deep_Combination</th>\n",
       "      <th>Deep_Dry</th>\n",
       "      <th>Deep_Normal</th>\n",
       "      <th>Deep_Oily</th>\n",
       "      <th>Ebony_Combination</th>\n",
       "      <th>Ebony_Dry</th>\n",
       "      <th>...</th>\n",
       "      <th>Olive_Normal</th>\n",
       "      <th>Olive_Oily</th>\n",
       "      <th>Porcelain_Combination</th>\n",
       "      <th>Porcelain_Dry</th>\n",
       "      <th>Porcelain_Normal</th>\n",
       "      <th>Porcelain_Oily</th>\n",
       "      <th>Tan_Combination</th>\n",
       "      <th>Tan_Dry</th>\n",
       "      <th>Tan_Normal</th>\n",
       "      <th>Tan_Oily</th>\n",
       "    </tr>\n",
       "  </thead>\n",
       "  <tbody>\n",
       "    <tr>\n",
       "      <th>0</th>\n",
       "      <td>0.0</td>\n",
       "      <td>0.0</td>\n",
       "      <td>0.0</td>\n",
       "      <td>0.0</td>\n",
       "      <td>0.0</td>\n",
       "      <td>0.0</td>\n",
       "      <td>0.0</td>\n",
       "      <td>0.0</td>\n",
       "      <td>0.0</td>\n",
       "      <td>0.0</td>\n",
       "      <td>...</td>\n",
       "      <td>0.0</td>\n",
       "      <td>0.0</td>\n",
       "      <td>0.0</td>\n",
       "      <td>0.0</td>\n",
       "      <td>0.0</td>\n",
       "      <td>0.0</td>\n",
       "      <td>0.0</td>\n",
       "      <td>0.0</td>\n",
       "      <td>0.0</td>\n",
       "      <td>0.0</td>\n",
       "    </tr>\n",
       "    <tr>\n",
       "      <th>1</th>\n",
       "      <td>0.0</td>\n",
       "      <td>0.0</td>\n",
       "      <td>0.0</td>\n",
       "      <td>0.0</td>\n",
       "      <td>0.0</td>\n",
       "      <td>0.0</td>\n",
       "      <td>0.0</td>\n",
       "      <td>0.0</td>\n",
       "      <td>0.0</td>\n",
       "      <td>0.0</td>\n",
       "      <td>...</td>\n",
       "      <td>0.0</td>\n",
       "      <td>0.0</td>\n",
       "      <td>0.0</td>\n",
       "      <td>0.0</td>\n",
       "      <td>0.0</td>\n",
       "      <td>0.0</td>\n",
       "      <td>0.0</td>\n",
       "      <td>0.0</td>\n",
       "      <td>0.0</td>\n",
       "      <td>0.0</td>\n",
       "    </tr>\n",
       "    <tr>\n",
       "      <th>2</th>\n",
       "      <td>0.0</td>\n",
       "      <td>0.0</td>\n",
       "      <td>0.0</td>\n",
       "      <td>0.0</td>\n",
       "      <td>0.0</td>\n",
       "      <td>0.0</td>\n",
       "      <td>0.0</td>\n",
       "      <td>0.0</td>\n",
       "      <td>0.0</td>\n",
       "      <td>0.0</td>\n",
       "      <td>...</td>\n",
       "      <td>0.0</td>\n",
       "      <td>0.0</td>\n",
       "      <td>0.0</td>\n",
       "      <td>0.0</td>\n",
       "      <td>0.0</td>\n",
       "      <td>0.0</td>\n",
       "      <td>0.0</td>\n",
       "      <td>0.0</td>\n",
       "      <td>0.0</td>\n",
       "      <td>0.0</td>\n",
       "    </tr>\n",
       "    <tr>\n",
       "      <th>3</th>\n",
       "      <td>0.0</td>\n",
       "      <td>0.0</td>\n",
       "      <td>0.0</td>\n",
       "      <td>0.0</td>\n",
       "      <td>0.0</td>\n",
       "      <td>0.0</td>\n",
       "      <td>0.0</td>\n",
       "      <td>0.0</td>\n",
       "      <td>0.0</td>\n",
       "      <td>0.0</td>\n",
       "      <td>...</td>\n",
       "      <td>0.0</td>\n",
       "      <td>0.0</td>\n",
       "      <td>0.0</td>\n",
       "      <td>0.0</td>\n",
       "      <td>0.0</td>\n",
       "      <td>0.0</td>\n",
       "      <td>0.0</td>\n",
       "      <td>0.0</td>\n",
       "      <td>0.0</td>\n",
       "      <td>0.0</td>\n",
       "    </tr>\n",
       "    <tr>\n",
       "      <th>4</th>\n",
       "      <td>0.0</td>\n",
       "      <td>0.0</td>\n",
       "      <td>0.0</td>\n",
       "      <td>0.0</td>\n",
       "      <td>0.0</td>\n",
       "      <td>0.0</td>\n",
       "      <td>0.0</td>\n",
       "      <td>0.0</td>\n",
       "      <td>0.0</td>\n",
       "      <td>0.0</td>\n",
       "      <td>...</td>\n",
       "      <td>0.0</td>\n",
       "      <td>0.0</td>\n",
       "      <td>0.0</td>\n",
       "      <td>0.0</td>\n",
       "      <td>0.0</td>\n",
       "      <td>0.0</td>\n",
       "      <td>0.0</td>\n",
       "      <td>0.0</td>\n",
       "      <td>0.0</td>\n",
       "      <td>0.0</td>\n",
       "    </tr>\n",
       "  </tbody>\n",
       "</table>\n",
       "<p>5 rows × 36 columns</p>\n",
       "</div>"
      ],
      "text/plain": [
       "   Dark_Combination  Dark_Dry  Dark_Normal  Dark_Oily  Deep_Combination  \\\n",
       "0               0.0       0.0          0.0        0.0               0.0   \n",
       "1               0.0       0.0          0.0        0.0               0.0   \n",
       "2               0.0       0.0          0.0        0.0               0.0   \n",
       "3               0.0       0.0          0.0        0.0               0.0   \n",
       "4               0.0       0.0          0.0        0.0               0.0   \n",
       "\n",
       "   Deep_Dry  Deep_Normal  Deep_Oily  Ebony_Combination  Ebony_Dry  ...  \\\n",
       "0       0.0          0.0        0.0                0.0        0.0  ...   \n",
       "1       0.0          0.0        0.0                0.0        0.0  ...   \n",
       "2       0.0          0.0        0.0                0.0        0.0  ...   \n",
       "3       0.0          0.0        0.0                0.0        0.0  ...   \n",
       "4       0.0          0.0        0.0                0.0        0.0  ...   \n",
       "\n",
       "   Olive_Normal  Olive_Oily  Porcelain_Combination  Porcelain_Dry  \\\n",
       "0           0.0         0.0                    0.0            0.0   \n",
       "1           0.0         0.0                    0.0            0.0   \n",
       "2           0.0         0.0                    0.0            0.0   \n",
       "3           0.0         0.0                    0.0            0.0   \n",
       "4           0.0         0.0                    0.0            0.0   \n",
       "\n",
       "   Porcelain_Normal  Porcelain_Oily  Tan_Combination  Tan_Dry  Tan_Normal  \\\n",
       "0               0.0             0.0              0.0      0.0         0.0   \n",
       "1               0.0             0.0              0.0      0.0         0.0   \n",
       "2               0.0             0.0              0.0      0.0         0.0   \n",
       "3               0.0             0.0              0.0      0.0         0.0   \n",
       "4               0.0             0.0              0.0      0.0         0.0   \n",
       "\n",
       "   Tan_Oily  \n",
       "0       0.0  \n",
       "1       0.0  \n",
       "2       0.0  \n",
       "3       0.0  \n",
       "4       0.0  \n",
       "\n",
       "[5 rows x 36 columns]"
      ]
     },
     "execution_count": 76,
     "metadata": {},
     "output_type": "execute_result"
    }
   ],
   "source": [
    "total_skin_tone = len(train_X.groupby(['skin_tone'],as_index=False).count()) # 10\n",
    "total_skin_type = len(train_X.groupby(['skin_type'],as_index=False).count()) # 5\n",
    "\n",
    "train_X_cross = pd.DataFrame()\n",
    "\n",
    "\n",
    "i = 0 # tone\n",
    "# j = 0 # type\n",
    "while i <= total_skin_tone - 1:\n",
    "    j = 0\n",
    "    while j <= total_skin_type - 1:\n",
    "        new_cross = train_X_transform_skin_tone[:,i] * train_X_transform_skin_type[:,j]\n",
    "        new_cross = pd.Series(new_cross)\n",
    "        skin_tone_name = train_X.groupby(['skin_tone'],as_index=False).count()['skin_tone'][i]\n",
    "        skin_type_name = train_X.groupby(['skin_type'],as_index=False).count()['skin_type'][j]\n",
    "        train_X_cross[f'{skin_tone_name}_{skin_type_name}'] = new_cross\n",
    "        j += 1\n",
    "    i += 1\n",
    "    \n",
    "train_X_cross.head()"
   ]
  },
  {
   "cell_type": "code",
   "execution_count": 79,
   "metadata": {},
   "outputs": [
    {
     "data": {
      "text/html": [
       "<div>\n",
       "<style scoped>\n",
       "    .dataframe tbody tr th:only-of-type {\n",
       "        vertical-align: middle;\n",
       "    }\n",
       "\n",
       "    .dataframe tbody tr th {\n",
       "        vertical-align: top;\n",
       "    }\n",
       "\n",
       "    .dataframe thead th {\n",
       "        text-align: right;\n",
       "    }\n",
       "</style>\n",
       "<table border=\"1\" class=\"dataframe\">\n",
       "  <thead>\n",
       "    <tr style=\"text-align: right;\">\n",
       "      <th></th>\n",
       "      <th>0</th>\n",
       "      <th>1</th>\n",
       "      <th>2</th>\n",
       "      <th>3</th>\n",
       "      <th>4</th>\n",
       "      <th>5</th>\n",
       "      <th>6</th>\n",
       "      <th>7</th>\n",
       "      <th>8</th>\n",
       "      <th>9</th>\n",
       "      <th>10</th>\n",
       "    </tr>\n",
       "  </thead>\n",
       "  <tbody>\n",
       "    <tr>\n",
       "      <th>0</th>\n",
       "      <td>0.0</td>\n",
       "      <td>0.0</td>\n",
       "      <td>1.0</td>\n",
       "      <td>0.0</td>\n",
       "      <td>0.0</td>\n",
       "      <td>0.0</td>\n",
       "      <td>0.0</td>\n",
       "      <td>0.0</td>\n",
       "      <td>0.0</td>\n",
       "      <td>0.0</td>\n",
       "      <td>1.0</td>\n",
       "    </tr>\n",
       "    <tr>\n",
       "      <th>1</th>\n",
       "      <td>0.0</td>\n",
       "      <td>0.0</td>\n",
       "      <td>0.0</td>\n",
       "      <td>1.0</td>\n",
       "      <td>0.0</td>\n",
       "      <td>0.0</td>\n",
       "      <td>0.0</td>\n",
       "      <td>1.0</td>\n",
       "      <td>0.0</td>\n",
       "      <td>0.0</td>\n",
       "      <td>0.0</td>\n",
       "    </tr>\n",
       "    <tr>\n",
       "      <th>2</th>\n",
       "      <td>0.0</td>\n",
       "      <td>0.0</td>\n",
       "      <td>1.0</td>\n",
       "      <td>0.0</td>\n",
       "      <td>0.0</td>\n",
       "      <td>0.0</td>\n",
       "      <td>0.0</td>\n",
       "      <td>0.0</td>\n",
       "      <td>0.0</td>\n",
       "      <td>1.0</td>\n",
       "      <td>0.0</td>\n",
       "    </tr>\n",
       "    <tr>\n",
       "      <th>3</th>\n",
       "      <td>0.0</td>\n",
       "      <td>0.0</td>\n",
       "      <td>0.0</td>\n",
       "      <td>1.0</td>\n",
       "      <td>0.0</td>\n",
       "      <td>0.0</td>\n",
       "      <td>0.0</td>\n",
       "      <td>1.0</td>\n",
       "      <td>0.0</td>\n",
       "      <td>0.0</td>\n",
       "      <td>0.0</td>\n",
       "    </tr>\n",
       "    <tr>\n",
       "      <th>4</th>\n",
       "      <td>0.0</td>\n",
       "      <td>0.0</td>\n",
       "      <td>0.0</td>\n",
       "      <td>1.0</td>\n",
       "      <td>0.0</td>\n",
       "      <td>0.0</td>\n",
       "      <td>0.0</td>\n",
       "      <td>1.0</td>\n",
       "      <td>0.0</td>\n",
       "      <td>0.0</td>\n",
       "      <td>0.0</td>\n",
       "    </tr>\n",
       "  </tbody>\n",
       "</table>\n",
       "</div>"
      ],
      "text/plain": [
       "    0    1    2    3    4    5    6    7    8    9    10\n",
       "0  0.0  0.0  1.0  0.0  0.0  0.0  0.0  0.0  0.0  0.0  1.0\n",
       "1  0.0  0.0  0.0  1.0  0.0  0.0  0.0  1.0  0.0  0.0  0.0\n",
       "2  0.0  0.0  1.0  0.0  0.0  0.0  0.0  0.0  0.0  1.0  0.0\n",
       "3  0.0  0.0  0.0  1.0  0.0  0.0  0.0  1.0  0.0  0.0  0.0\n",
       "4  0.0  0.0  0.0  1.0  0.0  0.0  0.0  1.0  0.0  0.0  0.0"
      ]
     },
     "execution_count": 79,
     "metadata": {},
     "output_type": "execute_result"
    }
   ],
   "source": [
    "train_X_transform.head()"
   ]
  },
  {
   "cell_type": "code",
   "execution_count": 81,
   "metadata": {},
   "outputs": [],
   "source": [
    "train_X_transform_skin_tone = pd.DataFrame(train_X_transform_skin_tone)\n",
    "train_X_transform_skin_type = pd.DataFrame(train_X_transform_skin_type)\n",
    "train_frames = [train_X_transform, train_X_transform_skin_tone, train_X_transform_skin_type, train_X_cross]#, train_X[['matte_finish', 'coverage']]]\n",
    "train_X_transform = pd.concat(train_frames, axis=1)"
   ]
  },
  {
   "cell_type": "code",
   "execution_count": 82,
   "metadata": {},
   "outputs": [],
   "source": [
    "train_X_transform['matte_finish'] = train_X['matte_finish'].reset_index(drop = True)\n",
    "train_X_transform['coverage'] = train_X['coverage'].reset_index(drop = True)\n",
    "train_X_transform['shade_match'] = train_X['shade_match'].reset_index(drop = True)\n",
    "train_X_transform['gifted'] = train_X['gifted'].reset_index(drop = True)\n",
    "train_X_transform['days_since_launch_scaled'] = train_X['days_since_launch_scaled'].reset_index(drop = True)"
   ]
  },
  {
   "cell_type": "code",
   "execution_count": 83,
   "metadata": {},
   "outputs": [
    {
     "data": {
      "text/plain": [
       "(1296, 65)"
      ]
     },
     "execution_count": 83,
     "metadata": {},
     "output_type": "execute_result"
    }
   ],
   "source": [
    "train_X_transform.shape"
   ]
  },
  {
   "cell_type": "code",
   "execution_count": 84,
   "metadata": {},
   "outputs": [
    {
     "data": {
      "text/html": [
       "<div>\n",
       "<style scoped>\n",
       "    .dataframe tbody tr th:only-of-type {\n",
       "        vertical-align: middle;\n",
       "    }\n",
       "\n",
       "    .dataframe tbody tr th {\n",
       "        vertical-align: top;\n",
       "    }\n",
       "\n",
       "    .dataframe thead th {\n",
       "        text-align: right;\n",
       "    }\n",
       "</style>\n",
       "<table border=\"1\" class=\"dataframe\">\n",
       "  <thead>\n",
       "    <tr style=\"text-align: right;\">\n",
       "      <th></th>\n",
       "      <th>0</th>\n",
       "      <th>1</th>\n",
       "      <th>2</th>\n",
       "      <th>3</th>\n",
       "      <th>4</th>\n",
       "      <th>5</th>\n",
       "      <th>6</th>\n",
       "      <th>7</th>\n",
       "      <th>8</th>\n",
       "      <th>9</th>\n",
       "      <th>...</th>\n",
       "      <th>Porcelain_Oily</th>\n",
       "      <th>Tan_Combination</th>\n",
       "      <th>Tan_Dry</th>\n",
       "      <th>Tan_Normal</th>\n",
       "      <th>Tan_Oily</th>\n",
       "      <th>matte_finish</th>\n",
       "      <th>coverage</th>\n",
       "      <th>shade_match</th>\n",
       "      <th>gifted</th>\n",
       "      <th>days_since_launch_scaled</th>\n",
       "    </tr>\n",
       "  </thead>\n",
       "  <tbody>\n",
       "    <tr>\n",
       "      <th>0</th>\n",
       "      <td>0.0</td>\n",
       "      <td>0.0</td>\n",
       "      <td>1.0</td>\n",
       "      <td>0.0</td>\n",
       "      <td>0.0</td>\n",
       "      <td>0.0</td>\n",
       "      <td>0.0</td>\n",
       "      <td>0.0</td>\n",
       "      <td>0.0</td>\n",
       "      <td>0.0</td>\n",
       "      <td>...</td>\n",
       "      <td>0.0</td>\n",
       "      <td>0.0</td>\n",
       "      <td>0.0</td>\n",
       "      <td>0.0</td>\n",
       "      <td>0.0</td>\n",
       "      <td>1</td>\n",
       "      <td>1</td>\n",
       "      <td>1</td>\n",
       "      <td>1</td>\n",
       "      <td>0.756684</td>\n",
       "    </tr>\n",
       "    <tr>\n",
       "      <th>1</th>\n",
       "      <td>0.0</td>\n",
       "      <td>0.0</td>\n",
       "      <td>0.0</td>\n",
       "      <td>1.0</td>\n",
       "      <td>0.0</td>\n",
       "      <td>0.0</td>\n",
       "      <td>0.0</td>\n",
       "      <td>1.0</td>\n",
       "      <td>0.0</td>\n",
       "      <td>0.0</td>\n",
       "      <td>...</td>\n",
       "      <td>0.0</td>\n",
       "      <td>0.0</td>\n",
       "      <td>0.0</td>\n",
       "      <td>0.0</td>\n",
       "      <td>0.0</td>\n",
       "      <td>0</td>\n",
       "      <td>1</td>\n",
       "      <td>1</td>\n",
       "      <td>1</td>\n",
       "      <td>0.756016</td>\n",
       "    </tr>\n",
       "    <tr>\n",
       "      <th>2</th>\n",
       "      <td>0.0</td>\n",
       "      <td>0.0</td>\n",
       "      <td>1.0</td>\n",
       "      <td>0.0</td>\n",
       "      <td>0.0</td>\n",
       "      <td>0.0</td>\n",
       "      <td>0.0</td>\n",
       "      <td>0.0</td>\n",
       "      <td>0.0</td>\n",
       "      <td>1.0</td>\n",
       "      <td>...</td>\n",
       "      <td>0.0</td>\n",
       "      <td>0.0</td>\n",
       "      <td>0.0</td>\n",
       "      <td>0.0</td>\n",
       "      <td>0.0</td>\n",
       "      <td>0</td>\n",
       "      <td>1</td>\n",
       "      <td>0</td>\n",
       "      <td>1</td>\n",
       "      <td>0.756684</td>\n",
       "    </tr>\n",
       "    <tr>\n",
       "      <th>3</th>\n",
       "      <td>0.0</td>\n",
       "      <td>0.0</td>\n",
       "      <td>0.0</td>\n",
       "      <td>1.0</td>\n",
       "      <td>0.0</td>\n",
       "      <td>0.0</td>\n",
       "      <td>0.0</td>\n",
       "      <td>1.0</td>\n",
       "      <td>0.0</td>\n",
       "      <td>0.0</td>\n",
       "      <td>...</td>\n",
       "      <td>0.0</td>\n",
       "      <td>0.0</td>\n",
       "      <td>0.0</td>\n",
       "      <td>0.0</td>\n",
       "      <td>0.0</td>\n",
       "      <td>0</td>\n",
       "      <td>1</td>\n",
       "      <td>0</td>\n",
       "      <td>0</td>\n",
       "      <td>0.803476</td>\n",
       "    </tr>\n",
       "    <tr>\n",
       "      <th>4</th>\n",
       "      <td>0.0</td>\n",
       "      <td>0.0</td>\n",
       "      <td>0.0</td>\n",
       "      <td>1.0</td>\n",
       "      <td>0.0</td>\n",
       "      <td>0.0</td>\n",
       "      <td>0.0</td>\n",
       "      <td>1.0</td>\n",
       "      <td>0.0</td>\n",
       "      <td>0.0</td>\n",
       "      <td>...</td>\n",
       "      <td>0.0</td>\n",
       "      <td>0.0</td>\n",
       "      <td>0.0</td>\n",
       "      <td>0.0</td>\n",
       "      <td>0.0</td>\n",
       "      <td>0</td>\n",
       "      <td>0</td>\n",
       "      <td>0</td>\n",
       "      <td>0</td>\n",
       "      <td>0.320856</td>\n",
       "    </tr>\n",
       "  </tbody>\n",
       "</table>\n",
       "<p>5 rows × 65 columns</p>\n",
       "</div>"
      ],
      "text/plain": [
       "     0    1    2    3    4    5    6    7    8    9  ...  Porcelain_Oily  \\\n",
       "0  0.0  0.0  1.0  0.0  0.0  0.0  0.0  0.0  0.0  0.0  ...             0.0   \n",
       "1  0.0  0.0  0.0  1.0  0.0  0.0  0.0  1.0  0.0  0.0  ...             0.0   \n",
       "2  0.0  0.0  1.0  0.0  0.0  0.0  0.0  0.0  0.0  1.0  ...             0.0   \n",
       "3  0.0  0.0  0.0  1.0  0.0  0.0  0.0  1.0  0.0  0.0  ...             0.0   \n",
       "4  0.0  0.0  0.0  1.0  0.0  0.0  0.0  1.0  0.0  0.0  ...             0.0   \n",
       "\n",
       "   Tan_Combination  Tan_Dry  Tan_Normal  Tan_Oily  matte_finish  coverage  \\\n",
       "0              0.0      0.0         0.0       0.0             1         1   \n",
       "1              0.0      0.0         0.0       0.0             0         1   \n",
       "2              0.0      0.0         0.0       0.0             0         1   \n",
       "3              0.0      0.0         0.0       0.0             0         1   \n",
       "4              0.0      0.0         0.0       0.0             0         0   \n",
       "\n",
       "   shade_match  gifted  days_since_launch_scaled  \n",
       "0            1       1                  0.756684  \n",
       "1            1       1                  0.756016  \n",
       "2            0       1                  0.756684  \n",
       "3            0       0                  0.803476  \n",
       "4            0       0                  0.320856  \n",
       "\n",
       "[5 rows x 65 columns]"
      ]
     },
     "execution_count": 84,
     "metadata": {},
     "output_type": "execute_result"
    }
   ],
   "source": [
    "train_X_transform.head()"
   ]
  },
  {
   "cell_type": "markdown",
   "metadata": {},
   "source": [
    "##### Same procedure for validation set"
   ]
  },
  {
   "cell_type": "code",
   "execution_count": 85,
   "metadata": {},
   "outputs": [
    {
     "data": {
      "text/html": [
       "<div>\n",
       "<style scoped>\n",
       "    .dataframe tbody tr th:only-of-type {\n",
       "        vertical-align: middle;\n",
       "    }\n",
       "\n",
       "    .dataframe tbody tr th {\n",
       "        vertical-align: top;\n",
       "    }\n",
       "\n",
       "    .dataframe thead th {\n",
       "        text-align: right;\n",
       "    }\n",
       "</style>\n",
       "<table border=\"1\" class=\"dataframe\">\n",
       "  <thead>\n",
       "    <tr style=\"text-align: right;\">\n",
       "      <th></th>\n",
       "      <th>skin_type</th>\n",
       "      <th>hair_color</th>\n",
       "      <th>eye_color</th>\n",
       "      <th>skin_tone</th>\n",
       "      <th>skin_tone_cat</th>\n",
       "      <th>matte_finish</th>\n",
       "      <th>coverage</th>\n",
       "      <th>shade_match</th>\n",
       "      <th>gifted</th>\n",
       "      <th>days_since_launch_scaled</th>\n",
       "    </tr>\n",
       "  </thead>\n",
       "  <tbody>\n",
       "    <tr>\n",
       "      <th>0</th>\n",
       "      <td>Combination</td>\n",
       "      <td>316</td>\n",
       "      <td>316</td>\n",
       "      <td>316</td>\n",
       "      <td>316</td>\n",
       "      <td>316</td>\n",
       "      <td>316</td>\n",
       "      <td>316</td>\n",
       "      <td>316</td>\n",
       "      <td>316</td>\n",
       "    </tr>\n",
       "    <tr>\n",
       "      <th>1</th>\n",
       "      <td>Dry</td>\n",
       "      <td>95</td>\n",
       "      <td>95</td>\n",
       "      <td>95</td>\n",
       "      <td>95</td>\n",
       "      <td>95</td>\n",
       "      <td>95</td>\n",
       "      <td>95</td>\n",
       "      <td>95</td>\n",
       "      <td>95</td>\n",
       "    </tr>\n",
       "    <tr>\n",
       "      <th>2</th>\n",
       "      <td>Normal</td>\n",
       "      <td>54</td>\n",
       "      <td>54</td>\n",
       "      <td>54</td>\n",
       "      <td>54</td>\n",
       "      <td>54</td>\n",
       "      <td>54</td>\n",
       "      <td>54</td>\n",
       "      <td>54</td>\n",
       "      <td>54</td>\n",
       "    </tr>\n",
       "    <tr>\n",
       "      <th>3</th>\n",
       "      <td>Oily</td>\n",
       "      <td>91</td>\n",
       "      <td>91</td>\n",
       "      <td>91</td>\n",
       "      <td>91</td>\n",
       "      <td>91</td>\n",
       "      <td>91</td>\n",
       "      <td>91</td>\n",
       "      <td>91</td>\n",
       "      <td>91</td>\n",
       "    </tr>\n",
       "  </tbody>\n",
       "</table>\n",
       "</div>"
      ],
      "text/plain": [
       "     skin_type  hair_color  eye_color  skin_tone  skin_tone_cat  matte_finish  \\\n",
       "0  Combination         316        316        316            316           316   \n",
       "1          Dry          95         95         95             95            95   \n",
       "2       Normal          54         54         54             54            54   \n",
       "3         Oily          91         91         91             91            91   \n",
       "\n",
       "   coverage  shade_match  gifted  days_since_launch_scaled  \n",
       "0       316          316     316                       316  \n",
       "1        95           95      95                        95  \n",
       "2        54           54      54                        54  \n",
       "3        91           91      91                        91  "
      ]
     },
     "execution_count": 85,
     "metadata": {},
     "output_type": "execute_result"
    }
   ],
   "source": [
    "val_X.groupby(['skin_type'],as_index=False).count()"
   ]
  },
  {
   "cell_type": "code",
   "execution_count": 86,
   "metadata": {},
   "outputs": [
    {
     "data": {
      "text/html": [
       "<div>\n",
       "<style scoped>\n",
       "    .dataframe tbody tr th:only-of-type {\n",
       "        vertical-align: middle;\n",
       "    }\n",
       "\n",
       "    .dataframe tbody tr th {\n",
       "        vertical-align: top;\n",
       "    }\n",
       "\n",
       "    .dataframe thead th {\n",
       "        text-align: right;\n",
       "    }\n",
       "</style>\n",
       "<table border=\"1\" class=\"dataframe\">\n",
       "  <thead>\n",
       "    <tr style=\"text-align: right;\">\n",
       "      <th></th>\n",
       "      <th>0_0</th>\n",
       "      <th>0_1</th>\n",
       "      <th>0_2</th>\n",
       "      <th>0_3</th>\n",
       "      <th>1_0</th>\n",
       "      <th>1_1</th>\n",
       "      <th>1_2</th>\n",
       "      <th>1_3</th>\n",
       "      <th>2_0</th>\n",
       "      <th>2_1</th>\n",
       "      <th>...</th>\n",
       "      <th>6_2</th>\n",
       "      <th>6_3</th>\n",
       "      <th>7_0</th>\n",
       "      <th>7_1</th>\n",
       "      <th>7_2</th>\n",
       "      <th>7_3</th>\n",
       "      <th>8_0</th>\n",
       "      <th>8_1</th>\n",
       "      <th>8_2</th>\n",
       "      <th>8_3</th>\n",
       "    </tr>\n",
       "  </thead>\n",
       "  <tbody>\n",
       "    <tr>\n",
       "      <th>0</th>\n",
       "      <td>0.0</td>\n",
       "      <td>0.0</td>\n",
       "      <td>0.0</td>\n",
       "      <td>0.0</td>\n",
       "      <td>0.0</td>\n",
       "      <td>0.0</td>\n",
       "      <td>0.0</td>\n",
       "      <td>0.0</td>\n",
       "      <td>0.0</td>\n",
       "      <td>0.0</td>\n",
       "      <td>...</td>\n",
       "      <td>0.0</td>\n",
       "      <td>0.0</td>\n",
       "      <td>0.0</td>\n",
       "      <td>0.0</td>\n",
       "      <td>0.0</td>\n",
       "      <td>0.0</td>\n",
       "      <td>0.0</td>\n",
       "      <td>0.0</td>\n",
       "      <td>0.0</td>\n",
       "      <td>0.0</td>\n",
       "    </tr>\n",
       "    <tr>\n",
       "      <th>1</th>\n",
       "      <td>0.0</td>\n",
       "      <td>0.0</td>\n",
       "      <td>0.0</td>\n",
       "      <td>0.0</td>\n",
       "      <td>0.0</td>\n",
       "      <td>0.0</td>\n",
       "      <td>0.0</td>\n",
       "      <td>0.0</td>\n",
       "      <td>0.0</td>\n",
       "      <td>0.0</td>\n",
       "      <td>...</td>\n",
       "      <td>0.0</td>\n",
       "      <td>0.0</td>\n",
       "      <td>0.0</td>\n",
       "      <td>0.0</td>\n",
       "      <td>0.0</td>\n",
       "      <td>0.0</td>\n",
       "      <td>0.0</td>\n",
       "      <td>0.0</td>\n",
       "      <td>0.0</td>\n",
       "      <td>0.0</td>\n",
       "    </tr>\n",
       "    <tr>\n",
       "      <th>2</th>\n",
       "      <td>0.0</td>\n",
       "      <td>0.0</td>\n",
       "      <td>0.0</td>\n",
       "      <td>0.0</td>\n",
       "      <td>0.0</td>\n",
       "      <td>0.0</td>\n",
       "      <td>0.0</td>\n",
       "      <td>0.0</td>\n",
       "      <td>0.0</td>\n",
       "      <td>0.0</td>\n",
       "      <td>...</td>\n",
       "      <td>0.0</td>\n",
       "      <td>0.0</td>\n",
       "      <td>0.0</td>\n",
       "      <td>0.0</td>\n",
       "      <td>0.0</td>\n",
       "      <td>0.0</td>\n",
       "      <td>0.0</td>\n",
       "      <td>0.0</td>\n",
       "      <td>0.0</td>\n",
       "      <td>0.0</td>\n",
       "    </tr>\n",
       "    <tr>\n",
       "      <th>3</th>\n",
       "      <td>0.0</td>\n",
       "      <td>0.0</td>\n",
       "      <td>0.0</td>\n",
       "      <td>0.0</td>\n",
       "      <td>0.0</td>\n",
       "      <td>0.0</td>\n",
       "      <td>0.0</td>\n",
       "      <td>0.0</td>\n",
       "      <td>0.0</td>\n",
       "      <td>0.0</td>\n",
       "      <td>...</td>\n",
       "      <td>0.0</td>\n",
       "      <td>0.0</td>\n",
       "      <td>1.0</td>\n",
       "      <td>0.0</td>\n",
       "      <td>0.0</td>\n",
       "      <td>0.0</td>\n",
       "      <td>0.0</td>\n",
       "      <td>0.0</td>\n",
       "      <td>0.0</td>\n",
       "      <td>0.0</td>\n",
       "    </tr>\n",
       "    <tr>\n",
       "      <th>4</th>\n",
       "      <td>0.0</td>\n",
       "      <td>0.0</td>\n",
       "      <td>0.0</td>\n",
       "      <td>0.0</td>\n",
       "      <td>0.0</td>\n",
       "      <td>0.0</td>\n",
       "      <td>0.0</td>\n",
       "      <td>0.0</td>\n",
       "      <td>0.0</td>\n",
       "      <td>0.0</td>\n",
       "      <td>...</td>\n",
       "      <td>0.0</td>\n",
       "      <td>0.0</td>\n",
       "      <td>0.0</td>\n",
       "      <td>0.0</td>\n",
       "      <td>0.0</td>\n",
       "      <td>0.0</td>\n",
       "      <td>0.0</td>\n",
       "      <td>0.0</td>\n",
       "      <td>1.0</td>\n",
       "      <td>0.0</td>\n",
       "    </tr>\n",
       "  </tbody>\n",
       "</table>\n",
       "<p>5 rows × 36 columns</p>\n",
       "</div>"
      ],
      "text/plain": [
       "   0_0  0_1  0_2  0_3  1_0  1_1  1_2  1_3  2_0  2_1  ...  6_2  6_3  7_0  7_1  \\\n",
       "0  0.0  0.0  0.0  0.0  0.0  0.0  0.0  0.0  0.0  0.0  ...  0.0  0.0  0.0  0.0   \n",
       "1  0.0  0.0  0.0  0.0  0.0  0.0  0.0  0.0  0.0  0.0  ...  0.0  0.0  0.0  0.0   \n",
       "2  0.0  0.0  0.0  0.0  0.0  0.0  0.0  0.0  0.0  0.0  ...  0.0  0.0  0.0  0.0   \n",
       "3  0.0  0.0  0.0  0.0  0.0  0.0  0.0  0.0  0.0  0.0  ...  0.0  0.0  1.0  0.0   \n",
       "4  0.0  0.0  0.0  0.0  0.0  0.0  0.0  0.0  0.0  0.0  ...  0.0  0.0  0.0  0.0   \n",
       "\n",
       "   7_2  7_3  8_0  8_1  8_2  8_3  \n",
       "0  0.0  0.0  0.0  0.0  0.0  0.0  \n",
       "1  0.0  0.0  0.0  0.0  0.0  0.0  \n",
       "2  0.0  0.0  0.0  0.0  0.0  0.0  \n",
       "3  0.0  0.0  0.0  0.0  0.0  0.0  \n",
       "4  0.0  0.0  0.0  0.0  1.0  0.0  \n",
       "\n",
       "[5 rows x 36 columns]"
      ]
     },
     "execution_count": 86,
     "metadata": {},
     "output_type": "execute_result"
    }
   ],
   "source": [
    "total_skin_tone = len(val_X.groupby(['skin_tone'],as_index=False).count()) # 10\n",
    "total_skin_type = len(val_X.groupby(['skin_type'],as_index=False).count()) # 5\n",
    "\n",
    "val_X_cross = pd.DataFrame()\n",
    "\n",
    "i = 0 # tone\n",
    "# j = 0 # type\n",
    "while i <= total_skin_tone - 1:\n",
    "    j = 0\n",
    "    while j <= total_skin_type - 1:\n",
    "        new_cross = val_X_transform_skin_tone[:,i] * val_X_transform_skin_type[:, j]\n",
    "        new_cross = pd.Series(new_cross)\n",
    "        val_X_cross[f'{i}_{j}'] = new_cross\n",
    "        j += 1\n",
    "    i += 1\n",
    "    \n",
    "val_X_cross.head()"
   ]
  },
  {
   "cell_type": "code",
   "execution_count": 87,
   "metadata": {},
   "outputs": [],
   "source": [
    "val_X_transform_skin_tone = pd.DataFrame(val_X_transform_skin_tone)\n",
    "val_X_transform_skin_type = pd.DataFrame(val_X_transform_skin_type)\n",
    "val_frames = [val_X_transform, val_X_transform_skin_tone, val_X_transform_skin_type, val_X_cross]\n",
    "val_X_transform = pd.concat(val_frames, axis=1)"
   ]
  },
  {
   "cell_type": "code",
   "execution_count": 88,
   "metadata": {},
   "outputs": [],
   "source": [
    "val_X_transform['coverage'] = val_X['coverage'].reset_index(drop = True)\n",
    "val_X_transform['matte_finish'] = val_X['matte_finish'].reset_index(drop = True)\n",
    "val_X_transform['shade_match'] = val_X['shade_match'].reset_index(drop = True)\n",
    "val_X_transform['gifted'] = val_X['gifted'].reset_index(drop = True)\n",
    "val_X_transform['days_since_launch_scaled'] = val_X['days_since_launch_scaled'].reset_index(drop = True)"
   ]
  },
  {
   "cell_type": "code",
   "execution_count": 89,
   "metadata": {},
   "outputs": [
    {
     "data": {
      "text/html": [
       "<div>\n",
       "<style scoped>\n",
       "    .dataframe tbody tr th:only-of-type {\n",
       "        vertical-align: middle;\n",
       "    }\n",
       "\n",
       "    .dataframe tbody tr th {\n",
       "        vertical-align: top;\n",
       "    }\n",
       "\n",
       "    .dataframe thead th {\n",
       "        text-align: right;\n",
       "    }\n",
       "</style>\n",
       "<table border=\"1\" class=\"dataframe\">\n",
       "  <thead>\n",
       "    <tr style=\"text-align: right;\">\n",
       "      <th></th>\n",
       "      <th>0</th>\n",
       "      <th>1</th>\n",
       "      <th>2</th>\n",
       "      <th>3</th>\n",
       "      <th>4</th>\n",
       "      <th>5</th>\n",
       "      <th>6</th>\n",
       "      <th>7</th>\n",
       "      <th>8</th>\n",
       "      <th>9</th>\n",
       "      <th>...</th>\n",
       "      <th>7_3</th>\n",
       "      <th>8_0</th>\n",
       "      <th>8_1</th>\n",
       "      <th>8_2</th>\n",
       "      <th>8_3</th>\n",
       "      <th>coverage</th>\n",
       "      <th>matte_finish</th>\n",
       "      <th>shade_match</th>\n",
       "      <th>gifted</th>\n",
       "      <th>days_since_launch_scaled</th>\n",
       "    </tr>\n",
       "  </thead>\n",
       "  <tbody>\n",
       "    <tr>\n",
       "      <th>0</th>\n",
       "      <td>0.0</td>\n",
       "      <td>0.0</td>\n",
       "      <td>0.0</td>\n",
       "      <td>1.0</td>\n",
       "      <td>0.0</td>\n",
       "      <td>0.0</td>\n",
       "      <td>0.0</td>\n",
       "      <td>1.0</td>\n",
       "      <td>0.0</td>\n",
       "      <td>0.0</td>\n",
       "      <td>...</td>\n",
       "      <td>0.0</td>\n",
       "      <td>0.0</td>\n",
       "      <td>0.0</td>\n",
       "      <td>0.0</td>\n",
       "      <td>0.0</td>\n",
       "      <td>1</td>\n",
       "      <td>1</td>\n",
       "      <td>0</td>\n",
       "      <td>1</td>\n",
       "      <td>0.755348</td>\n",
       "    </tr>\n",
       "    <tr>\n",
       "      <th>1</th>\n",
       "      <td>0.0</td>\n",
       "      <td>0.0</td>\n",
       "      <td>1.0</td>\n",
       "      <td>0.0</td>\n",
       "      <td>0.0</td>\n",
       "      <td>0.0</td>\n",
       "      <td>0.0</td>\n",
       "      <td>0.0</td>\n",
       "      <td>0.0</td>\n",
       "      <td>0.0</td>\n",
       "      <td>...</td>\n",
       "      <td>0.0</td>\n",
       "      <td>0.0</td>\n",
       "      <td>0.0</td>\n",
       "      <td>0.0</td>\n",
       "      <td>0.0</td>\n",
       "      <td>0</td>\n",
       "      <td>0</td>\n",
       "      <td>1</td>\n",
       "      <td>0</td>\n",
       "      <td>0.803476</td>\n",
       "    </tr>\n",
       "    <tr>\n",
       "      <th>2</th>\n",
       "      <td>0.0</td>\n",
       "      <td>0.0</td>\n",
       "      <td>1.0</td>\n",
       "      <td>0.0</td>\n",
       "      <td>0.0</td>\n",
       "      <td>0.0</td>\n",
       "      <td>0.0</td>\n",
       "      <td>0.0</td>\n",
       "      <td>0.0</td>\n",
       "      <td>0.0</td>\n",
       "      <td>...</td>\n",
       "      <td>0.0</td>\n",
       "      <td>0.0</td>\n",
       "      <td>0.0</td>\n",
       "      <td>0.0</td>\n",
       "      <td>0.0</td>\n",
       "      <td>1</td>\n",
       "      <td>1</td>\n",
       "      <td>0</td>\n",
       "      <td>0</td>\n",
       "      <td>0.761364</td>\n",
       "    </tr>\n",
       "    <tr>\n",
       "      <th>3</th>\n",
       "      <td>1.0</td>\n",
       "      <td>0.0</td>\n",
       "      <td>0.0</td>\n",
       "      <td>0.0</td>\n",
       "      <td>0.0</td>\n",
       "      <td>0.0</td>\n",
       "      <td>0.0</td>\n",
       "      <td>0.0</td>\n",
       "      <td>0.0</td>\n",
       "      <td>1.0</td>\n",
       "      <td>...</td>\n",
       "      <td>0.0</td>\n",
       "      <td>0.0</td>\n",
       "      <td>0.0</td>\n",
       "      <td>0.0</td>\n",
       "      <td>0.0</td>\n",
       "      <td>0</td>\n",
       "      <td>0</td>\n",
       "      <td>0</td>\n",
       "      <td>0</td>\n",
       "      <td>0.764037</td>\n",
       "    </tr>\n",
       "    <tr>\n",
       "      <th>4</th>\n",
       "      <td>0.0</td>\n",
       "      <td>0.0</td>\n",
       "      <td>1.0</td>\n",
       "      <td>0.0</td>\n",
       "      <td>0.0</td>\n",
       "      <td>0.0</td>\n",
       "      <td>0.0</td>\n",
       "      <td>0.0</td>\n",
       "      <td>0.0</td>\n",
       "      <td>1.0</td>\n",
       "      <td>...</td>\n",
       "      <td>0.0</td>\n",
       "      <td>0.0</td>\n",
       "      <td>0.0</td>\n",
       "      <td>1.0</td>\n",
       "      <td>0.0</td>\n",
       "      <td>1</td>\n",
       "      <td>1</td>\n",
       "      <td>0</td>\n",
       "      <td>1</td>\n",
       "      <td>0.760027</td>\n",
       "    </tr>\n",
       "  </tbody>\n",
       "</table>\n",
       "<p>5 rows × 65 columns</p>\n",
       "</div>"
      ],
      "text/plain": [
       "     0    1    2    3    4    5    6    7    8    9  ...  7_3  8_0  8_1  8_2  \\\n",
       "0  0.0  0.0  0.0  1.0  0.0  0.0  0.0  1.0  0.0  0.0  ...  0.0  0.0  0.0  0.0   \n",
       "1  0.0  0.0  1.0  0.0  0.0  0.0  0.0  0.0  0.0  0.0  ...  0.0  0.0  0.0  0.0   \n",
       "2  0.0  0.0  1.0  0.0  0.0  0.0  0.0  0.0  0.0  0.0  ...  0.0  0.0  0.0  0.0   \n",
       "3  1.0  0.0  0.0  0.0  0.0  0.0  0.0  0.0  0.0  1.0  ...  0.0  0.0  0.0  0.0   \n",
       "4  0.0  0.0  1.0  0.0  0.0  0.0  0.0  0.0  0.0  1.0  ...  0.0  0.0  0.0  1.0   \n",
       "\n",
       "   8_3  coverage  matte_finish  shade_match  gifted  days_since_launch_scaled  \n",
       "0  0.0         1             1            0       1                  0.755348  \n",
       "1  0.0         0             0            1       0                  0.803476  \n",
       "2  0.0         1             1            0       0                  0.761364  \n",
       "3  0.0         0             0            0       0                  0.764037  \n",
       "4  0.0         1             1            0       1                  0.760027  \n",
       "\n",
       "[5 rows x 65 columns]"
      ]
     },
     "execution_count": 89,
     "metadata": {},
     "output_type": "execute_result"
    }
   ],
   "source": [
    "val_X_transform.head()"
   ]
  },
  {
   "cell_type": "markdown",
   "metadata": {},
   "source": [
    "##### About y (rating)"
   ]
  },
  {
   "cell_type": "code",
   "execution_count": 90,
   "metadata": {},
   "outputs": [
    {
     "data": {
      "text/plain": [
       "<AxesSubplot:xlabel='recommended', ylabel='count'>"
      ]
     },
     "execution_count": 90,
     "metadata": {},
     "output_type": "execute_result"
    },
    {
     "data": {
      "image/png": "[encoded data removed]",
      "text/plain": [
       "<Figure size 504x288 with 1 Axes>"
      ]
     },
     "metadata": {
      "needs_background": "light"
     },
     "output_type": "display_data"
    }
   ],
   "source": [
    "filter_data = dat.dropna(subset=['recommended'])\n",
    "plt.figure(figsize=(7,4))\n",
    "sns.countplot(x = filter_data['recommended'])"
   ]
  },
  {
   "cell_type": "code",
   "execution_count": null,
   "metadata": {},
   "outputs": [],
   "source": [
    "# filter_data = dat.dropna(subset=['5-stars'])\n",
    "# plt.figure(figsize=(7,4))\n",
    "# sns.countplot(x = filter_data['5-stars'])"
   ]
  },
  {
   "cell_type": "code",
   "execution_count": 91,
   "metadata": {},
   "outputs": [
    {
     "data": {
      "text/plain": [
       "0.9017278617710583"
      ]
     },
     "execution_count": 91,
     "metadata": {},
     "output_type": "execute_result"
    }
   ],
   "source": [
    "sum(y)/len(dat)"
   ]
  },
  {
   "cell_type": "code",
   "execution_count": 92,
   "metadata": {},
   "outputs": [
    {
     "data": {
      "text/plain": [
       "0.8714902807775378"
      ]
     },
     "execution_count": 92,
     "metadata": {},
     "output_type": "execute_result"
    }
   ],
   "source": [
    "len(dat[dat['rating']>=4]) / len(dat)"
   ]
  },
  {
   "cell_type": "code",
   "execution_count": null,
   "metadata": {},
   "outputs": [],
   "source": [
    "## perhaps more labels? \n",
    "## why are people taking out stars? due to delivery? shade? \n",
    "## keywords? NLP? gauge the \"relevance\" of the reviews\n",
    "## shade matching websites? \"dupes\"\n",
    "## "
   ]
  },
  {
   "cell_type": "markdown",
   "metadata": {},
   "source": [
    "### What are the ratings about?\n",
    "\n",
    "- Skin tone x rating\n",
    "- Cross-tabulation of skin tones and skin types vis-a-vis rating"
   ]
  },
  {
   "cell_type": "code",
   "execution_count": null,
   "metadata": {},
   "outputs": [],
   "source": [
    "train_X.groupby(['skin_tone_cat'],as_index=False).count()"
   ]
  },
  {
   "cell_type": "code",
   "execution_count": null,
   "metadata": {},
   "outputs": [],
   "source": [
    "len(train_X_transform_skin_tone.iloc[:, 0])"
   ]
  },
  {
   "cell_type": "code",
   "execution_count": 93,
   "metadata": {},
   "outputs": [],
   "source": [
    "skin_tone_pearsonr = []\n",
    "for i in range(9):\n",
    "    skin_tone_pearsonr.append(st.pearsonr(pd.Series(train_X_transform_skin_tone.iloc[:, i]), train_y))\n",
    "    # skin_tone_pearsonr.append(skin_tone_labels[i])"
   ]
  },
  {
   "cell_type": "code",
   "execution_count": 94,
   "metadata": {},
   "outputs": [
    {
     "data": {
      "text/plain": [
       "[(0.06610104664426997, 0.017315237491340195),\n",
       " (-0.0063587356774946115, 0.819105274801697),\n",
       " (0.008857565415253512, 0.7500519130760585),\n",
       " (-0.0493326517072736, 0.0758413079823579),\n",
       " (-0.048044457691382186, 0.08382162907708078),\n",
       " (0.041879856378344904, 0.13184112618126023),\n",
       " (0.036481617917598914, 0.1893488342654094),\n",
       " (-0.020559526393960643, 0.4595992382278096),\n",
       " (-4.272249743765208e-05, 0.9987740302441168)]"
      ]
     },
     "execution_count": 94,
     "metadata": {},
     "output_type": "execute_result"
    }
   ],
   "source": [
    "skin_tone_pearsonr"
   ]
  },
  {
   "cell_type": "code",
   "execution_count": 95,
   "metadata": {},
   "outputs": [
    {
     "data": {
      "text/plain": [
       "(0.292859292816097, 4.7826886147756614e-27)"
      ]
     },
     "execution_count": 95,
     "metadata": {},
     "output_type": "execute_result"
    }
   ],
   "source": [
    "st.pearsonr(pd.Series(train_X_transform['days_since_launch_scaled']), train_y)"
   ]
  },
  {
   "cell_type": "code",
   "execution_count": 97,
   "metadata": {},
   "outputs": [
    {
     "data": {
      "text/plain": [
       "(0.1785333772137072, 9.603020354943621e-11)"
      ]
     },
     "execution_count": 97,
     "metadata": {},
     "output_type": "execute_result"
    }
   ],
   "source": [
    "st.pearsonr(pd.Series(train_X_transform['shade_match']), train_y)"
   ]
  },
  {
   "cell_type": "markdown",
   "metadata": {},
   "source": [
    "### trying out classification model\n",
    "\n",
    "#### Logistic Regression"
   ]
  },
  {
   "cell_type": "code",
   "execution_count": null,
   "metadata": {},
   "outputs": [],
   "source": [
    "train_X_transform.columns"
   ]
  },
  {
   "cell_type": "code",
   "execution_count": 98,
   "metadata": {},
   "outputs": [
    {
     "name": "stderr",
     "output_type": "stream",
     "text": [
      "/opt/homebrew/Caskroom/miniforge/base/envs/foundation/lib/python3.9/site-packages/sklearn/utils/validation.py:1675: FutureWarning: Feature names only support names that are all strings. Got feature names with dtypes: ['int', 'str']. An error will be raised in 1.2.\n",
      "  warnings.warn(\n"
     ]
    }
   ],
   "source": [
    "logit = LogisticRegression(penalty='none',random_state=0, max_iter=1000, class_weight = 'balanced').fit(train_X_transform, train_y)"
   ]
  },
  {
   "cell_type": "code",
   "execution_count": 99,
   "metadata": {},
   "outputs": [
    {
     "name": "stderr",
     "output_type": "stream",
     "text": [
      "/opt/homebrew/Caskroom/miniforge/base/envs/foundation/lib/python3.9/site-packages/sklearn/utils/validation.py:1675: FutureWarning: Feature names only support names that are all strings. Got feature names with dtypes: ['int', 'str']. An error will be raised in 1.2.\n",
      "  warnings.warn(\n"
     ]
    }
   ],
   "source": [
    "predict_y = logit.predict_proba(val_X_transform)[:,1]\n",
    "# predict_y = logit.predict(val_X_transform)"
   ]
  },
  {
   "cell_type": "code",
   "execution_count": 100,
   "metadata": {},
   "outputs": [
    {
     "data": {
      "text/plain": [
       "<AxesSubplot:>"
      ]
     },
     "execution_count": 100,
     "metadata": {},
     "output_type": "execute_result"
    },
    {
     "data": {
      "image/png": "[encoded data removed]",
      "text/plain": [
       "<Figure size 432x288 with 1 Axes>"
      ]
     },
     "metadata": {
      "needs_background": "light"
     },
     "output_type": "display_data"
    }
   ],
   "source": [
    "pd.Series(predict_y[val_y == 1.0]).hist(bins=20)"
   ]
  },
  {
   "cell_type": "code",
   "execution_count": 101,
   "metadata": {},
   "outputs": [
    {
     "data": {
      "text/plain": [
       "<AxesSubplot:>"
      ]
     },
     "execution_count": 101,
     "metadata": {},
     "output_type": "execute_result"
    },
    {
     "data": {
      "image/png": "[encoded data removed]",
      "text/plain": [
       "<Figure size 432x288 with 1 Axes>"
      ]
     },
     "metadata": {
      "needs_background": "light"
     },
     "output_type": "display_data"
    }
   ],
   "source": [
    "pd.Series(predict_y[val_y == 0.0]).hist(bins=20, color='r')"
   ]
  },
  {
   "cell_type": "code",
   "execution_count": 102,
   "metadata": {},
   "outputs": [
    {
     "data": {
      "text/plain": [
       "(array([ 1,  4, 15, 36]),)"
      ]
     },
     "execution_count": 102,
     "metadata": {},
     "output_type": "execute_result"
    }
   ],
   "source": [
    "(predict_y[val_y == 0.0]>0.9).nonzero()"
   ]
  },
  {
   "cell_type": "code",
   "execution_count": 105,
   "metadata": {},
   "outputs": [
    {
     "data": {
      "text/plain": [
       "1820"
      ]
     },
     "execution_count": 105,
     "metadata": {},
     "output_type": "execute_result"
    }
   ],
   "source": [
    "val_y.index[36]"
   ]
  },
  {
   "cell_type": "code",
   "execution_count": 106,
   "metadata": {},
   "outputs": [
    {
     "data": {
      "text/plain": [
       "'Loved how this felt on my skin! Medium to full coverage with a skin like finish, and with SPF! Dreams do come true!'"
      ]
     },
     "execution_count": 106,
     "metadata": {},
     "output_type": "execute_result"
    }
   ],
   "source": [
    "dat.loc[1820, 'review_content']"
   ]
  },
  {
   "cell_type": "code",
   "execution_count": 108,
   "metadata": {},
   "outputs": [
    {
     "data": {
      "text/plain": [
       "index                                                                    1880\n",
       "reviewer_id                                                           Marin03\n",
       "rating                                                                    4.0\n",
       "recommended                                                               1.0\n",
       "review_subject                                                        new HG!\n",
       "review_content              Loved how this felt on my skin! Medium to full...\n",
       "reviewer_feature                                                  , Oily skin\n",
       "purchased_shade             Neutral Chestnut (N-100) - rich brown with a b...\n",
       "date_of_review                                            2019-09-29 00:00:00\n",
       "eye_color                                                               Brown\n",
       "hair_color                                                              Black\n",
       "skin_tone                                                                Dark\n",
       "skin_type                                                                Oily\n",
       "days_since_launch                                                         661\n",
       "days_since_launch_scaled                                             0.441845\n",
       "shade_number                                                            N-100\n",
       "matte_finish                                                                1\n",
       "coverage                                                                    1\n",
       "shade_match                                                                 0\n",
       "gifted                                                                      0\n",
       "skin_tone_cat                                                               0\n",
       "5-stars                                                                     0\n",
       "Name: 1820, dtype: object"
      ]
     },
     "execution_count": 108,
     "metadata": {},
     "output_type": "execute_result"
    }
   ],
   "source": [
    "dat.loc[1820]"
   ]
  },
  {
   "cell_type": "code",
   "execution_count": 109,
   "metadata": {},
   "outputs": [
    {
     "data": {
      "image/png": "[encoded data removed]",
      "text/plain": [
       "<Figure size 432x288 with 1 Axes>"
      ]
     },
     "metadata": {
      "needs_background": "light"
     },
     "output_type": "display_data"
    }
   ],
   "source": [
    "plot_auc_roc(predict_y=predict_y, val_y = val_y, filename = \"logit_auc_roc.jpeg\")"
   ]
  },
  {
   "cell_type": "code",
   "execution_count": 110,
   "metadata": {},
   "outputs": [
    {
     "data": {
      "image/png": "[encoded data removed]",
      "text/plain": [
       "<Figure size 432x288 with 1 Axes>"
      ]
     },
     "metadata": {
      "needs_background": "light"
     },
     "output_type": "display_data"
    }
   ],
   "source": [
    "plot_recision_recall_f1(predict_y, val_y, filename=\"logit_precision_recall_f1.jpeg\")"
   ]
  },
  {
   "cell_type": "markdown",
   "metadata": {},
   "source": [
    "### The logistic regression worked pretty well...\n",
    "\n",
    "AUC-ROC was about 0.887 with y as 'recommended' (and class_weight = 'balanced')\n",
    "\n",
    "#### Would another classification model work even better?"
   ]
  },
  {
   "cell_type": "code",
   "execution_count": 134,
   "metadata": {},
   "outputs": [
    {
     "name": "stderr",
     "output_type": "stream",
     "text": [
      "/opt/homebrew/Caskroom/miniforge/base/envs/foundation/lib/python3.9/site-packages/sklearn/utils/validation.py:1675: FutureWarning: Feature names only support names that are all strings. Got feature names with dtypes: ['int', 'str']. An error will be raised in 1.2.\n",
      "  warnings.warn(\n"
     ]
    }
   ],
   "source": [
    "svc = SVC(probability=True, class_weight='balanced').fit(train_X_transform,train_y)"
   ]
  },
  {
   "cell_type": "code",
   "execution_count": 135,
   "metadata": {},
   "outputs": [
    {
     "name": "stderr",
     "output_type": "stream",
     "text": [
      "/opt/homebrew/Caskroom/miniforge/base/envs/foundation/lib/python3.9/site-packages/sklearn/utils/validation.py:1675: FutureWarning: Feature names only support names that are all strings. Got feature names with dtypes: ['int', 'str']. An error will be raised in 1.2.\n",
      "  warnings.warn(\n"
     ]
    }
   ],
   "source": [
    "predict_y = svc.predict_proba(val_X_transform)[:,1]"
   ]
  },
  {
   "cell_type": "code",
   "execution_count": 136,
   "metadata": {},
   "outputs": [
    {
     "data": {
      "text/plain": [
       "<AxesSubplot:>"
      ]
     },
     "execution_count": 136,
     "metadata": {},
     "output_type": "execute_result"
    },
    {
     "data": {
      "image/png": "[encoded data removed]",
      "text/plain": [
       "<Figure size 432x288 with 1 Axes>"
      ]
     },
     "metadata": {
      "needs_background": "light"
     },
     "output_type": "display_data"
    }
   ],
   "source": [
    "pd.Series(predict_y[val_y == 1.0]).hist(bins=20)"
   ]
  },
  {
   "cell_type": "code",
   "execution_count": 137,
   "metadata": {},
   "outputs": [
    {
     "data": {
      "text/plain": [
       "<AxesSubplot:>"
      ]
     },
     "execution_count": 137,
     "metadata": {},
     "output_type": "execute_result"
    },
    {
     "data": {
      "image/png": "[encoded data removed]",
      "text/plain": [
       "<Figure size 432x288 with 1 Axes>"
      ]
     },
     "metadata": {
      "needs_background": "light"
     },
     "output_type": "display_data"
    }
   ],
   "source": [
    "pd.Series(predict_y[val_y == 0.0]).hist(bins=20, color = 'r')"
   ]
  },
  {
   "cell_type": "code",
   "execution_count": 138,
   "metadata": {},
   "outputs": [
    {
     "data": {
      "image/png": "[encoded data removed]",
      "text/plain": [
       "<Figure size 432x288 with 1 Axes>"
      ]
     },
     "metadata": {
      "needs_background": "light"
     },
     "output_type": "display_data"
    }
   ],
   "source": [
    "plot_auc_roc(predict_y, val_y, filename = \"svc_auc_roc.jpeg\")"
   ]
  },
  {
   "cell_type": "code",
   "execution_count": 139,
   "metadata": {},
   "outputs": [
    {
     "name": "stderr",
     "output_type": "stream",
     "text": [
      "/opt/homebrew/Caskroom/miniforge/base/envs/foundation/lib/python3.9/site-packages/sklearn/metrics/_classification.py:1308: UndefinedMetricWarning: Precision is ill-defined and being set to 0.0 due to no predicted samples. Use `zero_division` parameter to control this behavior.\n",
      "  _warn_prf(average, modifier, msg_start, len(result))\n"
     ]
    },
    {
     "data": {
      "image/png": "[encoded data removed]",
      "text/plain": [
       "<Figure size 432x288 with 1 Axes>"
      ]
     },
     "metadata": {
      "needs_background": "light"
     },
     "output_type": "display_data"
    }
   ],
   "source": [
    "plot_recision_recall_f1(predict_y, val_y, filename = \"svc_precision_recall_f1.jpeg\")"
   ]
  },
  {
   "cell_type": "markdown",
   "metadata": {},
   "source": [
    "## trying out random forest models"
   ]
  },
  {
   "cell_type": "code",
   "execution_count": 117,
   "metadata": {},
   "outputs": [],
   "source": [
    "from sklearn.ensemble import (\n",
    "    RandomForestClassifier,\n",
    "    AdaBoostClassifier,\n",
    "    BaggingClassifier,\n",
    "    GradientBoostingClassifier\n",
    ")\n"
   ]
  },
  {
   "cell_type": "code",
   "execution_count": 118,
   "metadata": {},
   "outputs": [
    {
     "name": "stderr",
     "output_type": "stream",
     "text": [
      "/opt/homebrew/Caskroom/miniforge/base/envs/foundation/lib/python3.9/site-packages/sklearn/utils/validation.py:1675: FutureWarning: Feature names only support names that are all strings. Got feature names with dtypes: ['int', 'str']. An error will be raised in 1.2.\n",
      "  warnings.warn(\n",
      "/opt/homebrew/Caskroom/miniforge/base/envs/foundation/lib/python3.9/site-packages/sklearn/utils/validation.py:1675: FutureWarning: Feature names only support names that are all strings. Got feature names with dtypes: ['int', 'str']. An error will be raised in 1.2.\n",
      "  warnings.warn(\n"
     ]
    }
   ],
   "source": [
    "RF = RandomForestClassifier(random_state=0, class_weight='balanced').fit(train_X_transform, train_y)\n",
    "predict_y = RF.predict_proba(val_X_transform)[:, 1]"
   ]
  },
  {
   "cell_type": "code",
   "execution_count": 120,
   "metadata": {},
   "outputs": [
    {
     "data": {
      "text/plain": [
       "<AxesSubplot:>"
      ]
     },
     "execution_count": 120,
     "metadata": {},
     "output_type": "execute_result"
    },
    {
     "data": {
      "image/png": "[encoded data removed]",
      "text/plain": [
       "<Figure size 432x288 with 1 Axes>"
      ]
     },
     "metadata": {
      "needs_background": "light"
     },
     "output_type": "display_data"
    }
   ],
   "source": [
    "pd.Series(predict_y[val_y == 1.0]).hist(bins=20)"
   ]
  },
  {
   "cell_type": "code",
   "execution_count": 121,
   "metadata": {},
   "outputs": [
    {
     "data": {
      "text/plain": [
       "<AxesSubplot:>"
      ]
     },
     "execution_count": 121,
     "metadata": {},
     "output_type": "execute_result"
    },
    {
     "data": {
      "image/png": "[encoded data removed]",
      "text/plain": [
       "<Figure size 432x288 with 1 Axes>"
      ]
     },
     "metadata": {
      "needs_background": "light"
     },
     "output_type": "display_data"
    }
   ],
   "source": [
    "pd.Series(predict_y[val_y == 0.0]).hist(bins=20, color = 'r')"
   ]
  },
  {
   "cell_type": "code",
   "execution_count": 119,
   "metadata": {},
   "outputs": [
    {
     "data": {
      "image/png": "[encoded data removed]",
      "text/plain": [
       "<Figure size 432x288 with 1 Axes>"
      ]
     },
     "metadata": {
      "needs_background": "light"
     },
     "output_type": "display_data"
    }
   ],
   "source": [
    "plot_auc_roc(predict_y, val_y, filename = 'RF_auc_roc.jpeg')"
   ]
  },
  {
   "cell_type": "code",
   "execution_count": null,
   "metadata": {},
   "outputs": [],
   "source": [
    "plot_recision_recall_f1(predict_y, val_y, filename = 'RF_precision_recall_f1.jpeg')"
   ]
  },
  {
   "cell_type": "code",
   "execution_count": 122,
   "metadata": {},
   "outputs": [
    {
     "name": "stderr",
     "output_type": "stream",
     "text": [
      "/opt/homebrew/Caskroom/miniforge/base/envs/foundation/lib/python3.9/site-packages/sklearn/utils/validation.py:1675: FutureWarning: Feature names only support names that are all strings. Got feature names with dtypes: ['int', 'str']. An error will be raised in 1.2.\n",
      "  warnings.warn(\n",
      "/opt/homebrew/Caskroom/miniforge/base/envs/foundation/lib/python3.9/site-packages/sklearn/utils/validation.py:1675: FutureWarning: Feature names only support names that are all strings. Got feature names with dtypes: ['int', 'str']. An error will be raised in 1.2.\n",
      "  warnings.warn(\n"
     ]
    }
   ],
   "source": [
    "Ada = AdaBoostClassifier().fit(train_X_transform, train_y)\n",
    "predict_y = Ada.predict_proba(val_X_transform)[:, 1]"
   ]
  },
  {
   "cell_type": "code",
   "execution_count": 123,
   "metadata": {},
   "outputs": [
    {
     "data": {
      "text/plain": [
       "<AxesSubplot:>"
      ]
     },
     "execution_count": 123,
     "metadata": {},
     "output_type": "execute_result"
    },
    {
     "data": {
      "image/png": "[encoded data removed]",
      "text/plain": [
       "<Figure size 432x288 with 1 Axes>"
      ]
     },
     "metadata": {
      "needs_background": "light"
     },
     "output_type": "display_data"
    }
   ],
   "source": [
    "pd.Series(predict_y[val_y == 1.0]).hist(bins=20)"
   ]
  },
  {
   "cell_type": "code",
   "execution_count": 124,
   "metadata": {},
   "outputs": [
    {
     "data": {
      "text/plain": [
       "<AxesSubplot:>"
      ]
     },
     "execution_count": 124,
     "metadata": {},
     "output_type": "execute_result"
    },
    {
     "data": {
      "image/png": "[encoded data removed]",
      "text/plain": [
       "<Figure size 432x288 with 1 Axes>"
      ]
     },
     "metadata": {
      "needs_background": "light"
     },
     "output_type": "display_data"
    }
   ],
   "source": [
    "pd.Series(predict_y[val_y == 0.0]).hist(bins=20, color = 'r')"
   ]
  },
  {
   "cell_type": "code",
   "execution_count": 125,
   "metadata": {},
   "outputs": [
    {
     "data": {
      "image/png": "[encoded data removed]",
      "text/plain": [
       "<Figure size 432x288 with 1 Axes>"
      ]
     },
     "metadata": {
      "needs_background": "light"
     },
     "output_type": "display_data"
    }
   ],
   "source": [
    "plot_auc_roc(predict_y, val_y, filename= 'adagrad_auc_roc.jpeg')"
   ]
  },
  {
   "cell_type": "code",
   "execution_count": 126,
   "metadata": {},
   "outputs": [
    {
     "name": "stderr",
     "output_type": "stream",
     "text": [
      "/opt/homebrew/Caskroom/miniforge/base/envs/foundation/lib/python3.9/site-packages/sklearn/utils/validation.py:1675: FutureWarning: Feature names only support names that are all strings. Got feature names with dtypes: ['int', 'str']. An error will be raised in 1.2.\n",
      "  warnings.warn(\n",
      "/opt/homebrew/Caskroom/miniforge/base/envs/foundation/lib/python3.9/site-packages/sklearn/utils/validation.py:1675: FutureWarning: Feature names only support names that are all strings. Got feature names with dtypes: ['int', 'str']. An error will be raised in 1.2.\n",
      "  warnings.warn(\n"
     ]
    }
   ],
   "source": [
    "Bag = BaggingClassifier(n_estimators=1000, random_state=0).fit(train_X_transform, train_y)\n",
    "predict_y = Bag.predict_proba(val_X_transform)[:, 1]"
   ]
  },
  {
   "cell_type": "code",
   "execution_count": 127,
   "metadata": {},
   "outputs": [
    {
     "data": {
      "text/plain": [
       "<AxesSubplot:>"
      ]
     },
     "execution_count": 127,
     "metadata": {},
     "output_type": "execute_result"
    },
    {
     "data": {
      "image/png": "[encoded data removed]",
      "text/plain": [
       "<Figure size 432x288 with 1 Axes>"
      ]
     },
     "metadata": {
      "needs_background": "light"
     },
     "output_type": "display_data"
    }
   ],
   "source": [
    "pd.Series(predict_y[val_y == 1.0]).hist(bins=20)"
   ]
  },
  {
   "cell_type": "code",
   "execution_count": 128,
   "metadata": {},
   "outputs": [
    {
     "data": {
      "text/plain": [
       "<AxesSubplot:>"
      ]
     },
     "execution_count": 128,
     "metadata": {},
     "output_type": "execute_result"
    },
    {
     "data": {
      "image/png": "[encoded data removed]",
      "text/plain": [
       "<Figure size 432x288 with 1 Axes>"
      ]
     },
     "metadata": {
      "needs_background": "light"
     },
     "output_type": "display_data"
    }
   ],
   "source": [
    "pd.Series(predict_y[val_y == 0.0]).hist(bins=20, color = 'r')"
   ]
  },
  {
   "cell_type": "code",
   "execution_count": 129,
   "metadata": {},
   "outputs": [
    {
     "data": {
      "image/png": "[encoded data removed]",
      "text/plain": [
       "<Figure size 432x288 with 1 Axes>"
      ]
     },
     "metadata": {
      "needs_background": "light"
     },
     "output_type": "display_data"
    }
   ],
   "source": [
    "plot_auc_roc(predict_y, val_y, filename = 'bagging_auc_roc.jpeg')"
   ]
  },
  {
   "cell_type": "code",
   "execution_count": 130,
   "metadata": {},
   "outputs": [
    {
     "name": "stderr",
     "output_type": "stream",
     "text": [
      "/opt/homebrew/Caskroom/miniforge/base/envs/foundation/lib/python3.9/site-packages/sklearn/utils/validation.py:1675: FutureWarning: Feature names only support names that are all strings. Got feature names with dtypes: ['int', 'str']. An error will be raised in 1.2.\n",
      "  warnings.warn(\n",
      "/opt/homebrew/Caskroom/miniforge/base/envs/foundation/lib/python3.9/site-packages/sklearn/utils/validation.py:1675: FutureWarning: Feature names only support names that are all strings. Got feature names with dtypes: ['int', 'str']. An error will be raised in 1.2.\n",
      "  warnings.warn(\n"
     ]
    }
   ],
   "source": [
    "GB = GradientBoostingClassifier(random_state=0).fit(train_X_transform, train_y)\n",
    "predict_y = GB.predict_proba(val_X_transform)[:, 1]"
   ]
  },
  {
   "cell_type": "code",
   "execution_count": 131,
   "metadata": {},
   "outputs": [
    {
     "data": {
      "text/plain": [
       "<AxesSubplot:>"
      ]
     },
     "execution_count": 131,
     "metadata": {},
     "output_type": "execute_result"
    },
    {
     "data": {
      "image/png": "[encoded data removed]",
      "text/plain": [
       "<Figure size 432x288 with 1 Axes>"
      ]
     },
     "metadata": {
      "needs_background": "light"
     },
     "output_type": "display_data"
    }
   ],
   "source": [
    "pd.Series(predict_y[val_y == 1.0]).hist(bins=20)"
   ]
  },
  {
   "cell_type": "code",
   "execution_count": 132,
   "metadata": {},
   "outputs": [
    {
     "data": {
      "text/plain": [
       "<AxesSubplot:>"
      ]
     },
     "execution_count": 132,
     "metadata": {},
     "output_type": "execute_result"
    },
    {
     "data": {
      "image/png": "[encoded data removed]",
      "text/plain": [
       "<Figure size 432x288 with 1 Axes>"
      ]
     },
     "metadata": {
      "needs_background": "light"
     },
     "output_type": "display_data"
    }
   ],
   "source": [
    "pd.Series(predict_y[val_y == 0.0]).hist(bins=20, color = 'r')"
   ]
  },
  {
   "cell_type": "code",
   "execution_count": null,
   "metadata": {},
   "outputs": [],
   "source": [
    "plot_auc_roc(predict_y, val_y, filename='gdc_auc_roc.jpeg')"
   ]
  },
  {
   "cell_type": "code",
   "execution_count": null,
   "metadata": {},
   "outputs": [],
   "source": [
    "GB_ada = GradientBoostingClassifier(loss='exponential', random_state=0).fit(train_X_transform, train_y)\n",
    "predict_y = GB_ada.predict_proba(val_X_transform)[:, 1]"
   ]
  },
  {
   "cell_type": "code",
   "execution_count": null,
   "metadata": {},
   "outputs": [],
   "source": [
    "plot_auc_roc(predict_y, val_y, filename = 'GB_ada_auc_roc.jpeg')"
   ]
  },
  {
   "cell_type": "code",
   "execution_count": null,
   "metadata": {},
   "outputs": [],
   "source": []
  }
 ],
 "metadata": {
  "interpreter": {
   "hash": "be930e4ecfc02ffad0fba66b413e4f417b9fdbeb111e734ba3e0fce78218e52b"
  },
  "kernelspec": {
   "display_name": "Python 3.9.1 64-bit ('foundation': conda)",
   "language": "python",
   "name": "python3"
  },
  "language_info": {
   "codemirror_mode": {
    "name": "ipython",
    "version": 3
   },
   "file_extension": ".py",
   "mimetype": "text/x-python",
   "name": "python",
   "nbconvert_exporter": "python",
   "pygments_lexer": "ipython3",
   "version": "3.9.1"
  },
  "orig_nbformat": 4
 },
 "nbformat": 4,
 "nbformat_minor": 2
}
