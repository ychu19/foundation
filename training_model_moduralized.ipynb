{
 "cells": [
  {
   "cell_type": "code",
   "execution_count": null,
   "outputs": [],
   "source": [
    "import pandas as pd\n",
    "import sklearn.metrics\n",
    "\n",
    "pd.options.mode.chained_assignment = None\n",
    "import numpy as np\n",
    "from tqdm import tqdm\n",
    "\n",
    "import xgboost as xgb\n",
    "\n",
    "import optuna\n",
    "from optuna.samplers import RandomSampler, TPESampler\n",
    "from sklearn.utils import shuffle\n",
    "from sklearn.metrics import mean_squared_error, log_loss, roc_auc_score, accuracy_score, precision_score, recall_score, f1_score\n",
    "import lightgbm as lgb\n",
    "\n",
    "import os\n",
    "\n",
    "from training import (\n",
    "    plot_auc_roc, plot_recision_recall_f1, \n",
    "    plot_countbar, plot_line,\n",
    "    plot_diff_in_means, plot_cross_tab_heatmap, \n",
    "    plot_predictions_by_scores,\n",
    "    model_training\n",
    ")\n",
    "\n",
    "from datetime import datetime\n",
    "import logging\n",
    "NOW = datetime.today().isoformat()[:19]\n",
    "logging.basicConfig(\n",
    "    filemode='a',\n",
    "    filename=f'./logs/{NOW}_outputlog.log',\n",
    "    format='%(asctime)s,%(msecs)d %(name)s %(levelname)s %(message)s',\n",
    "    datefmt='%H:%M:%S',\n",
    "    level=logging.INFO\n",
    ")\n",
    "\n",
    "logger = logging.getLogger(__name__)\n",
    "logger.info(\"++++++++++++++++++++++++++++++++++++++++++++++++++++\")"
   ],
   "metadata": {
    "collapsed": false,
    "pycharm": {
     "name": "#%%\n"
    }
   }
  },
  {
   "cell_type": "code",
   "execution_count": null,
   "outputs": [],
   "source": [
    "# to get the cleaned data from directory\n",
    "list_of_file_names = []\n",
    "for file in os.listdir('data_full_review_cleaned/'):\n",
    "   if file.endswith(\".json\"):\n",
    "      list_of_file_names.append(os.path.join(file))"
   ],
   "metadata": {
    "collapsed": false,
    "pycharm": {
     "name": "#%%\n"
    }
   }
  },
  {
   "cell_type": "code",
   "execution_count": null,
   "outputs": [],
   "source": [
    "# preparing the dataframe for foundations\n",
    "list_of_foundations = pd.read_csv('foundation_from_sephora_with_url.csv')\n",
    "list_of_foundations['model'] = None\n",
    "## placeholder for path to trained models\n",
    "list_of_foundations['threshold'] = float()\n",
    "## placeholder for best threshold\n",
    "list_of_foundations['auc'] = float()\n",
    "## placeholder for performance metrics (ROC-AUC) for each of the models\n",
    "list_of_foundations.head()"
   ],
   "metadata": {
    "collapsed": false,
    "pycharm": {
     "name": "#%%\n"
    }
   }
  },
  {
   "cell_type": "code",
   "execution_count": null,
   "outputs": [],
   "source": [
    "# training models\n",
    "for i in range(len(list_of_file_names)):\n",
    "    product = model_training(file_name = list_of_file_names[i], random_seeds = 0, logger = logger)\n",
    "    if len(product.data) <= 200:\n",
    "        logger.info(f'N = {len(product.data)} (<= 200), dropped for training')\n",
    "        continue\n",
    "    product.train_test_split()\n",
    "    product.dropping_outlier_reviewers()\n",
    "    product.feature_engineering() # one-hot encoding and feature crossing\n",
    "\n",
    "    product.grid_search()\n",
    "    product.train_xgb_classifier()\n",
    "    product.thresholding()\n",
    "\n",
    "    index = list_of_foundations.index[list_of_foundations['brand_product'] == product.product_name].tolist()[0]\n",
    "    list_of_foundations.loc[index, 'model'] = f'{product.product_name}_xgb.model'\n",
    "    list_of_foundations.loc[index, 'threshold'] = product.best_threshold\n",
    "    list_of_foundations.loc[index, 'auc'] = roc_auc_score(product.val_y, product.predict_y)\n",
    "\n",
    "    product.plot_predictions_by_scores(val_y = product.val_y, product=product.product_name, model = 'xgb')\n",
    "    product.plot_precision_recall_f1(val_y=product.val_y, product=product.product_name, model='xgb')\n",
    "    product.plot_auc_roc(val_y=product.val_y, product=product.product_name, model = 'xgb')"
   ],
   "metadata": {
    "collapsed": false,
    "pycharm": {
     "name": "#%%\n"
    }
   }
  },
  {
   "cell_type": "code",
   "execution_count": null,
   "outputs": [],
   "source": [
    "i"
   ],
   "metadata": {
    "collapsed": false,
    "pycharm": {
     "name": "#%%\n"
    }
   }
  },
  {
   "cell_type": "code",
   "execution_count": null,
   "outputs": [],
   "source": [
    "len(list_of_file_names)"
   ],
   "metadata": {
    "collapsed": false,
    "pycharm": {
     "name": "#%%\n"
    }
   }
  },
  {
   "cell_type": "code",
   "execution_count": null,
   "outputs": [],
   "source": [
    "product = model_training(file_name = list_of_file_names[i], random_seeds = 0, logger = logger)\n",
    "# if len(product.data) <= 200:\n",
    "#     logger.info(f'N = {len(product.data)} (<= 200), dropped for training')\n",
    "product.train_test_split()"
   ],
   "metadata": {
    "collapsed": false,
    "pycharm": {
     "name": "#%%\n"
    }
   }
  },
  {
   "cell_type": "code",
   "execution_count": null,
   "outputs": [],
   "source": [
    "product.val_X.groupby(['hair_color']).count()['coverage'] / len(product.val_X)"
   ],
   "metadata": {
    "collapsed": false,
    "pycharm": {
     "name": "#%%\n"
    }
   }
  },
  {
   "cell_type": "code",
   "execution_count": null,
   "outputs": [],
   "source": [
    "product.dropping_outlier_reviewers()\n",
    "product.feature_engineering() # one-hot encoding and feature crossing\n",
    "\n",
    "product.grid_search()\n",
    "product.train_xgb_classifier()\n",
    "product.thresholding()\n",
    "\n",
    "index = list_of_foundations.index[list_of_foundations['brand_product'] == product.product_name].tolist()[0]\n",
    "list_of_foundations.loc[index, 'model'] = f'{product.product_name}_xgb.model'\n",
    "list_of_foundations.loc[index, 'threshold'] = product.best_threshold\n",
    "list_of_foundations.loc[index, 'auc'] = roc_auc_score(product.val_y, product.predict_y)\n",
    "\n",
    "product.plot_predictions_by_scores(val_y = product.val_y, product=product.product_name, model = 'xgb')\n",
    "product.plot_precision_recall_f1(val_y=product.val_y, product=product.product_name, model='xgb')\n",
    "product.plot_auc_roc(val_y=product.val_y, product=product.product_name, model = 'xgb')"
   ],
   "metadata": {
    "collapsed": false,
    "pycharm": {
     "name": "#%%\n"
    }
   }
  }
 ],
 "metadata": {
  "interpreter": {
   "hash": "be930e4ecfc02ffad0fba66b413e4f417b9fdbeb111e734ba3e0fce78218e52b"
  },
  "kernelspec": {
   "display_name": "Python 3.9.1 64-bit ('foundation': conda)",
   "language": "python",
   "name": "python3"
  },
  "language_info": {
   "codemirror_mode": {
    "name": "ipython",
    "version": 3
   },
   "file_extension": ".py",
   "mimetype": "text/x-python",
   "name": "python",
   "nbconvert_exporter": "python",
   "pygments_lexer": "ipython3",
   "version": "3.9.1"
  },
  "orig_nbformat": 4
 },
 "nbformat": 4,
 "nbformat_minor": 2
}