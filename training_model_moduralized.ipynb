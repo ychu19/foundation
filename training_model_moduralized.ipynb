{
 "cells": [
  {
   "cell_type": "code",
   "execution_count": 1,
   "metadata": {},
   "outputs": [],
   "source": [
    "# import packages\n",
    "import pandas as pd\n",
    "import sklearn.metrics\n",
    "\n",
    "pd.options.mode.chained_assignment = None\n",
    "import numpy as np\n",
    "from tqdm import tqdm\n",
    "\n",
    "import matplotlib.pyplot as plt\n",
    "import seaborn as sns\n",
    "\n",
    "from sklearn.model_selection import train_test_split, GridSearchCV\n",
    "# from sklearn.feature_extraction.text import CountVectorizer\n",
    "from sklearn.linear_model import (\n",
    "    LogisticRegression\n",
    ")\n",
    "\n",
    "from sklearn.ensemble import (\n",
    "    RandomForestClassifier,\n",
    "    AdaBoostClassifier,\n",
    "    BaggingClassifier,\n",
    "    GradientBoostingClassifier\n",
    ")\n",
    "from imblearn.ensemble import BalancedBaggingClassifier\n",
    "import xgboost as xgb\n",
    "\n",
    "import optuna\n",
    "from optuna.samplers import RandomSampler, TPESampler\n",
    "from sklearn.utils import shuffle\n",
    "from sklearn.metrics import mean_squared_error, log_loss, roc_auc_score, accuracy_score, precision_score, recall_score, f1_score\n",
    "import lightgbm as lgb\n",
    "\n",
    "import scipy.stats as st\n",
    "import os\n",
    "\n",
    "from training import (\n",
    "    plot_auc_roc, plot_recision_recall_f1, \n",
    "    plot_countbar, plot_line,\n",
    "    plot_diff_in_means, plot_cross_tab_heatmap, \n",
    "    plot_predictions_by_scores,\n",
    "    model_training\n",
    ")\n",
    "\n",
    "from datetime import datetime\n",
    "import logging\n",
    "NOW = datetime.today().isoformat()[:19]\n",
    "logging.basicConfig(\n",
    "    filemode='a',\n",
    "    filename=f'./logs/{NOW}_outputlog.log',\n",
    "    format='%(asctime)s,%(msecs)d %(name)s %(levelname)s %(message)s',\n",
    "    datefmt='%H:%M:%S',\n",
    "    level=logging.INFO\n",
    ")\n",
    "\n",
    "logger = logging.getLogger(__name__)\n",
    "optuna.logging.enable_propagation()  # Send optuna logs to the root logger.\n",
    "logger.info(\"++++++++++++++++++++++++++++++++++++++++++++++++++++\")"
   ]
  },
  {
   "cell_type": "code",
   "execution_count": 2,
   "metadata": {},
   "outputs": [],
   "source": [
    "list_of_file_names = []\n",
    "for file in os.listdir('data_full_review_cleaned/'):\n",
    "   if file.endswith(\".json\"):\n",
    "      list_of_file_names.append(os.path.join(file))"
   ]
  },
  {
   "cell_type": "code",
   "execution_count": 3,
   "outputs": [
    {
     "data": {
      "text/plain": "   Unnamed: 0                                      brand_product  \\\n0           0  AMOREPACIFIC_Color_Control_Cushion_Compact_Bro...   \n1           1        Anastasia_Beverly_Hills_Luminous_Foundation   \n2           2           Anastasia_Beverly_Hills_Stick_Foundation   \n3           3         Antonym_Certified_Organic_Baked_Foundation   \n4           4      Antonym_Skin_Esteem_Organic_Liquid_Foundation   \n\n                                                 url  url_valid  \n0  https://www.sephora.com/product/color-control-...          1  \n1  https://www.sephora.com/product/luminous-found...          1  \n2  https://www.sephora.com/product/stick-foundati...          1  \n3  https://www.sephora.com/product/certified-orga...          1  \n4  https://www.sephora.com/product/skin-esteem-or...          1  ",
      "text/html": "<div>\n<style scoped>\n    .dataframe tbody tr th:only-of-type {\n        vertical-align: middle;\n    }\n\n    .dataframe tbody tr th {\n        vertical-align: top;\n    }\n\n    .dataframe thead th {\n        text-align: right;\n    }\n</style>\n<table border=\"1\" class=\"dataframe\">\n  <thead>\n    <tr style=\"text-align: right;\">\n      <th></th>\n      <th>Unnamed: 0</th>\n      <th>brand_product</th>\n      <th>url</th>\n      <th>url_valid</th>\n    </tr>\n  </thead>\n  <tbody>\n    <tr>\n      <th>0</th>\n      <td>0</td>\n      <td>AMOREPACIFIC_Color_Control_Cushion_Compact_Bro...</td>\n      <td>https://www.sephora.com/product/color-control-...</td>\n      <td>1</td>\n    </tr>\n    <tr>\n      <th>1</th>\n      <td>1</td>\n      <td>Anastasia_Beverly_Hills_Luminous_Foundation</td>\n      <td>https://www.sephora.com/product/luminous-found...</td>\n      <td>1</td>\n    </tr>\n    <tr>\n      <th>2</th>\n      <td>2</td>\n      <td>Anastasia_Beverly_Hills_Stick_Foundation</td>\n      <td>https://www.sephora.com/product/stick-foundati...</td>\n      <td>1</td>\n    </tr>\n    <tr>\n      <th>3</th>\n      <td>3</td>\n      <td>Antonym_Certified_Organic_Baked_Foundation</td>\n      <td>https://www.sephora.com/product/certified-orga...</td>\n      <td>1</td>\n    </tr>\n    <tr>\n      <th>4</th>\n      <td>4</td>\n      <td>Antonym_Skin_Esteem_Organic_Liquid_Foundation</td>\n      <td>https://www.sephora.com/product/skin-esteem-or...</td>\n      <td>1</td>\n    </tr>\n  </tbody>\n</table>\n</div>"
     },
     "execution_count": 3,
     "metadata": {},
     "output_type": "execute_result"
    }
   ],
   "source": [
    "list_of_foundations = pd.read_csv('foundation_from_sephora_with_url.csv')\n",
    "list_of_foundations.head()"
   ],
   "metadata": {
    "collapsed": false,
    "pycharm": {
     "name": "#%%\n"
    }
   }
  },
  {
   "cell_type": "code",
   "execution_count": 4,
   "outputs": [],
   "source": [
    "list_of_foundations['model'] = None\n",
    "list_of_foundations['threshold'] = float()"
   ],
   "metadata": {
    "collapsed": false,
    "pycharm": {
     "name": "#%%\n"
    }
   }
  },
  {
   "cell_type": "code",
   "execution_count": 5,
   "outputs": [
    {
     "name": "stderr",
     "output_type": "stream",
     "text": [
      "  0%|          | 0/2 [00:00<?, ?it/s]\u001B[32m[I 2022-02-11 16:04:28,915]\u001B[0m A new study created in memory with name: Dr._Jart+_Premium_Beauty_Balm_SPF_40\u001B[0m\n",
      "\u001B[32m[I 2022-02-11 16:04:28,974]\u001B[0m Trial 0 finished with value: 0.8218487394957984 and parameters: {'booster': 'gblinear', 'lambda': 0.002850593747819336, 'alpha': 0.28511873529098775}. Best is trial 0 with value: 0.8218487394957984.\u001B[0m\n",
      "\u001B[32m[I 2022-02-11 16:04:29,022]\u001B[0m Trial 1 finished with value: 0.6773109243697478 and parameters: {'booster': 'gblinear', 'lambda': 0.046368161895394125, 'alpha': 8.925847409246967e-05}. Best is trial 1 with value: 0.6773109243697478.\u001B[0m\n",
      "\u001B[32m[I 2022-02-11 16:04:29,078]\u001B[0m Trial 2 finished with value: 0.6285714285714284 and parameters: {'booster': 'gblinear', 'lambda': 2.479171351016658e-06, 'alpha': 6.616017652136631e-06}. Best is trial 2 with value: 0.6285714285714284.\u001B[0m\n",
      "\u001B[32m[I 2022-02-11 16:04:29,137]\u001B[0m Trial 3 finished with value: 0.6436974789915966 and parameters: {'booster': 'gblinear', 'lambda': 1.465045661096827e-05, 'alpha': 1.0889067316610118e-08}. Best is trial 2 with value: 0.6285714285714284.\u001B[0m\n",
      "\u001B[32m[I 2022-02-11 16:04:29,250]\u001B[0m Trial 4 finished with value: 0.6689075630252102 and parameters: {'booster': 'gbtree', 'lambda': 0.0018295239643486142, 'alpha': 8.996345123176069e-08, 'max_depth': 8, 'eta': 3.9092122146781355e-05, 'gamma': 0.10394247611534528, 'grow_policy': 'depthwise'}. Best is trial 2 with value: 0.6285714285714284.\u001B[0m\n",
      "\u001B[32m[I 2022-02-11 16:04:29,307]\u001B[0m Trial 5 finished with value: 0.6403361344537816 and parameters: {'booster': 'gblinear', 'lambda': 0.0026266308623407674, 'alpha': 3.637935792136601e-06}. Best is trial 2 with value: 0.6285714285714284.\u001B[0m\n",
      "\u001B[32m[I 2022-02-11 16:04:29,504]\u001B[0m Trial 6 finished with value: 0.6722689075630253 and parameters: {'booster': 'dart', 'lambda': 5.532327783645978e-05, 'alpha': 9.472334079761237e-06, 'max_depth': 13, 'eta': 2.5755856768849344e-08, 'gamma': 6.735441589333965e-07, 'grow_policy': 'lossguide', 'sample_type': 'uniform', 'normalize_type': 'tree', 'rate_drop': 0.012065966431789995, 'skip_drop': 0.015597676039536905}. Best is trial 2 with value: 0.6285714285714284.\u001B[0m\n",
      "\u001B[32m[I 2022-02-11 16:04:29,551]\u001B[0m Trial 7 finished with value: 0.6403361344537815 and parameters: {'booster': 'gblinear', 'lambda': 0.0002146437057024968, 'alpha': 7.139477456878125e-06}. Best is trial 2 with value: 0.6285714285714284.\u001B[0m\n",
      "\u001B[32m[I 2022-02-11 16:04:29,605]\u001B[0m Trial 8 finished with value: 0.6285714285714287 and parameters: {'booster': 'gblinear', 'lambda': 8.998657202785994e-07, 'alpha': 0.0010166515558869438}. Best is trial 2 with value: 0.6285714285714284.\u001B[0m\n",
      "\u001B[32m[I 2022-02-11 16:04:29,661]\u001B[0m Trial 9 finished with value: 0.6352941176470588 and parameters: {'booster': 'gblinear', 'lambda': 0.0010680071712098121, 'alpha': 3.2315043275211075e-08}. Best is trial 2 with value: 0.6285714285714284.\u001B[0m\n",
      "\n",
      "100%|██████████| 101/101 [00:00<00:00, 1194.39it/s]\n",
      " 50%|█████     | 1/2 [00:01<00:01,  1.07s/it]\u001B[32m[I 2022-02-11 16:04:29,919]\u001B[0m A new study created in memory with name: Bobbi_Brown_Skin_Foundation_Stick\u001B[0m\n",
      "\u001B[32m[I 2022-02-11 16:04:30,042]\u001B[0m Trial 0 finished with value: 0.4800000000000001 and parameters: {'booster': 'dart', 'lambda': 0.4983028942671952, 'alpha': 3.055504067912357e-05, 'max_depth': 6, 'eta': 2.6933796593113377e-07, 'gamma': 0.028045094482767288, 'grow_policy': 'depthwise', 'sample_type': 'uniform', 'normalize_type': 'tree', 'rate_drop': 0.0197669275167314, 'skip_drop': 1.3794851158003167e-06}. Best is trial 0 with value: 0.4800000000000001.\u001B[0m\n",
      "\u001B[32m[I 2022-02-11 16:04:30,091]\u001B[0m Trial 1 finished with value: 0.6399999999999999 and parameters: {'booster': 'gblinear', 'lambda': 6.8366831203565194e-06, 'alpha': 0.6117669533755234}. Best is trial 0 with value: 0.4800000000000001.\u001B[0m\n",
      "\u001B[32m[I 2022-02-11 16:04:30,143]\u001B[0m Trial 2 finished with value: 0.5 and parameters: {'booster': 'gbtree', 'lambda': 5.0025805192092946e-06, 'alpha': 0.00037691936355682215, 'max_depth': 1, 'eta': 1.3778294555571698e-07, 'gamma': 2.1908017456054906e-08, 'grow_policy': 'lossguide'}. Best is trial 0 with value: 0.4800000000000001.\u001B[0m\n",
      "\u001B[32m[I 2022-02-11 16:04:30,189]\u001B[0m Trial 3 finished with value: 0.5800000000000001 and parameters: {'booster': 'gbtree', 'lambda': 0.017945495912065127, 'alpha': 3.6670836838814176e-06, 'max_depth': 1, 'eta': 4.569345223162281e-05, 'gamma': 0.012547911764315077, 'grow_policy': 'depthwise'}. Best is trial 0 with value: 0.4800000000000001.\u001B[0m\n",
      "\u001B[32m[I 2022-02-11 16:04:30,232]\u001B[0m Trial 4 finished with value: 0.6 and parameters: {'booster': 'gblinear', 'lambda': 4.693895751912947e-06, 'alpha': 0.009316245159467202}. Best is trial 0 with value: 0.4800000000000001.\u001B[0m\n",
      "\u001B[32m[I 2022-02-11 16:04:30,274]\u001B[0m Trial 5 finished with value: 0.72 and parameters: {'booster': 'gblinear', 'lambda': 0.0010883480189452436, 'alpha': 7.152775527404862e-05}. Best is trial 0 with value: 0.4800000000000001.\u001B[0m\n",
      "\u001B[32m[I 2022-02-11 16:04:30,344]\u001B[0m Trial 6 finished with value: 0.5 and parameters: {'booster': 'dart', 'lambda': 4.475823325213034e-08, 'alpha': 1.896509684582983e-08, 'max_depth': 3, 'eta': 3.0275089379438877e-06, 'gamma': 1.0258757221621295e-05, 'grow_policy': 'depthwise', 'sample_type': 'uniform', 'normalize_type': 'tree', 'rate_drop': 0.0007514658537812957, 'skip_drop': 2.739560087106854e-06}. Best is trial 0 with value: 0.4800000000000001.\u001B[0m\n",
      "\u001B[32m[I 2022-02-11 16:04:30,394]\u001B[0m Trial 7 finished with value: 0.4600000000000001 and parameters: {'booster': 'gbtree', 'lambda': 0.023723953901365197, 'alpha': 0.6547436307384665, 'max_depth': 8, 'eta': 1.4227614185389438e-05, 'gamma': 0.0009287593152319893, 'grow_policy': 'depthwise'}. Best is trial 7 with value: 0.4600000000000001.\u001B[0m\n",
      "\u001B[32m[I 2022-02-11 16:04:30,434]\u001B[0m Trial 8 finished with value: 0.6599999999999999 and parameters: {'booster': 'gblinear', 'lambda': 0.0005456348539473976, 'alpha': 0.000235978569315954}. Best is trial 7 with value: 0.4600000000000001.\u001B[0m\n",
      "\u001B[32m[I 2022-02-11 16:04:30,528]\u001B[0m Trial 9 finished with value: 0.52 and parameters: {'booster': 'dart', 'lambda': 0.0009691953222285082, 'alpha': 0.0433911898680812, 'max_depth': 3, 'eta': 0.009220828879997792, 'gamma': 0.31516116773599234, 'grow_policy': 'depthwise', 'sample_type': 'weighted', 'normalize_type': 'tree', 'rate_drop': 7.727601545696212e-06, 'skip_drop': 1.754896080204755e-05}. Best is trial 7 with value: 0.4600000000000001.\u001B[0m\n",
      "\n",
      "100%|██████████| 101/101 [00:00<00:00, 1138.16it/s]\n",
      "100%|██████████| 2/2 [00:01<00:00,  1.04it/s]\n"
     ]
    },
    {
     "data": {
      "text/plain": "<Figure size 432x288 with 1 Axes>",
      "image/png": "[encoded data removed]"
     },
     "metadata": {
      "needs_background": "light"
     },
     "output_type": "display_data"
    },
    {
     "data": {
      "text/plain": "<Figure size 432x288 with 1 Axes>",
      "image/png": "[encoded data removed]"
     },
     "metadata": {
      "needs_background": "light"
     },
     "output_type": "display_data"
    },
    {
     "data": {
      "text/plain": "<Figure size 432x288 with 1 Axes>",
      "image/png": "[encoded data removed]"
     },
     "metadata": {
      "needs_background": "light"
     },
     "output_type": "display_data"
    },
    {
     "data": {
      "text/plain": "<Figure size 432x288 with 1 Axes>",
      "image/png": "[encoded data removed]"
     },
     "metadata": {
      "needs_background": "light"
     },
     "output_type": "display_data"
    },
    {
     "data": {
      "text/plain": "<Figure size 432x288 with 1 Axes>",
      "image/png": "[encoded data removed]"
     },
     "metadata": {
      "needs_background": "light"
     },
     "output_type": "display_data"
    },
    {
     "data": {
      "text/plain": "<Figure size 432x288 with 1 Axes>",
      "image/png": "[encoded data removed]"
     },
     "metadata": {
      "needs_background": "light"
     },
     "output_type": "display_data"
    }
   ],
   "source": [
    "for i in tqdm(range(0, 2)):\n",
    "    model = model_training(file_name = list_of_file_names[i], random_seeds = 2, logger = logger)\n",
    "    model.feature_engineering()\n",
    "\n",
    "    model.training_xgb_model()\n",
    "    best_f1_threshold = model.thresholding()\n",
    "\n",
    "    index = list_of_foundations.index[list_of_foundations['brand_product'] == model.product_name].tolist()[0]\n",
    "    list_of_foundations.loc[index, 'model'] = f'{model.product_name}_xgb.model'\n",
    "    list_of_foundations.loc[index, 'threshold'] = best_f1_threshold\n",
    "\n",
    "    model.plot_predictions_by_scores(val_y = model.val_y, product=model.product_name, model = 'xgb')\n",
    "    model.plot_precision_recall_f1(val_y=model.val_y, product=model.product_name, model='xgb')\n",
    "    model.plot_auc_roc(val_y=model.val_y, product=model.product_name, model = 'xgb')\n"
   ],
   "metadata": {
    "collapsed": false,
    "pycharm": {
     "name": "#%%\n"
    }
   }
  },
  {
   "cell_type": "code",
   "execution_count": 10,
   "outputs": [
    {
     "data": {
      "text/plain": "['Dark', 'Deep', 'Ebony', 'Fair', 'Light']"
     },
     "execution_count": 10,
     "metadata": {},
     "output_type": "execute_result"
    }
   ],
   "source": [
    "model.skin_tone_one_hot_train.columns.to_list()"
   ],
   "metadata": {
    "collapsed": false,
    "pycharm": {
     "name": "#%%\n"
    }
   }
  },
  {
   "cell_type": "code",
   "execution_count": 8,
   "outputs": [
    {
     "data": {
      "text/plain": "0     Ebony\n1     Light\n2    Medium\n3     Olive\n4       Tan\nName: skin_tone, dtype: object"
     },
     "execution_count": 8,
     "metadata": {},
     "output_type": "execute_result"
    }
   ],
   "source": [
    "model.train_X.groupby(['skin_tone'], as_index=False).count()['skin_tone']"
   ],
   "metadata": {
    "collapsed": false,
    "pycharm": {
     "name": "#%%\n"
    }
   }
  },
  {
   "cell_type": "code",
   "execution_count": 15,
   "outputs": [],
   "source": [
    "test = model_training(file_name=list_of_file_names[0],logger = logger, random_seeds=0)"
   ],
   "metadata": {
    "collapsed": false,
    "pycharm": {
     "name": "#%%\n"
    }
   }
  },
  {
   "cell_type": "code",
   "execution_count": 26,
   "outputs": [],
   "source": [
    "test_train_X, test_val_X, test_train_y, test_val_y = train_test_split(test.X, test.y, test_size=0.3)"
   ],
   "metadata": {
    "collapsed": false,
    "pycharm": {
     "name": "#%%\n"
    }
   }
  },
  {
   "cell_type": "code",
   "execution_count": 27,
   "outputs": [
    {
     "data": {
      "text/plain": "Int64Index([844, 182,  74, 576, 103, 717, 217, 836, 334, 170,\n            ...\n            792, 270, 645, 352, 841, 569, 829, 658, 373, 657],\n           dtype='int64', length=621)"
     },
     "execution_count": 27,
     "metadata": {},
     "output_type": "execute_result"
    }
   ],
   "source": [
    "test_train_X.index"
   ],
   "metadata": {
    "collapsed": false,
    "pycharm": {
     "name": "#%%\n"
    }
   }
  },
  {
   "cell_type": "code",
   "execution_count": 28,
   "outputs": [
    {
     "data": {
      "text/plain": "Int64Index([844, 182,  74, 576, 103, 717, 217, 836, 334, 170,\n            ...\n            792, 270, 645, 352, 841, 569, 829, 658, 373, 657],\n           dtype='int64', length=621)"
     },
     "execution_count": 28,
     "metadata": {},
     "output_type": "execute_result"
    }
   ],
   "source": [
    "test_train_y.index"
   ],
   "metadata": {
    "collapsed": false,
    "pycharm": {
     "name": "#%%\n"
    }
   }
  },
  {
   "cell_type": "code",
   "execution_count": 30,
   "outputs": [],
   "source": [
    "test_train_y = test_train_y.drop(index=test_train_X[test_train_X['hair_color'] == 'Gray'].index)"
   ],
   "metadata": {
    "collapsed": false,
    "pycharm": {
     "name": "#%%\n"
    }
   }
  },
  {
   "cell_type": "code",
   "execution_count": 31,
   "outputs": [],
   "source": [
    "test_train_X = test_train_X.drop(index=test_train_X[test_train_X['hair_color'] == 'Gray'].index)"
   ],
   "metadata": {
    "collapsed": false,
    "pycharm": {
     "name": "#%%\n"
    }
   }
  },
  {
   "cell_type": "code",
   "execution_count": 32,
   "outputs": [
    {
     "data": {
      "text/plain": "614"
     },
     "execution_count": 32,
     "metadata": {},
     "output_type": "execute_result"
    }
   ],
   "source": [
    "len(test_train_X)"
   ],
   "metadata": {
    "collapsed": false,
    "pycharm": {
     "name": "#%%\n"
    }
   }
  },
  {
   "cell_type": "code",
   "execution_count": 33,
   "outputs": [
    {
     "data": {
      "text/plain": "614"
     },
     "execution_count": 33,
     "metadata": {},
     "output_type": "execute_result"
    }
   ],
   "source": [
    "len(test_train_y)"
   ],
   "metadata": {
    "collapsed": false,
    "pycharm": {
     "name": "#%%\n"
    }
   }
  },
  {
   "cell_type": "code",
   "execution_count": 35,
   "outputs": [
    {
     "data": {
      "text/plain": "'Auburn'"
     },
     "execution_count": 35,
     "metadata": {},
     "output_type": "execute_result"
    }
   ],
   "source": [
    "idx[0]"
   ],
   "metadata": {
    "collapsed": false,
    "pycharm": {
     "name": "#%%\n"
    }
   }
  },
  {
   "cell_type": "code",
   "execution_count": 19,
   "outputs": [
    {
     "data": {
      "text/plain": "888"
     },
     "execution_count": 19,
     "metadata": {},
     "output_type": "execute_result"
    }
   ],
   "source": [
    "len(test.data)"
   ],
   "metadata": {
    "collapsed": false,
    "pycharm": {
     "name": "#%%\n"
    }
   }
  },
  {
   "cell_type": "code",
   "execution_count": 20,
   "outputs": [],
   "source": [
    "test.data = test.data.drop(index = test.data[test.data['hair_color'] == idx[0]].index)"
   ],
   "metadata": {
    "collapsed": false,
    "pycharm": {
     "name": "#%%\n"
    }
   }
  },
  {
   "cell_type": "code",
   "execution_count": 21,
   "outputs": [
    {
     "data": {
      "text/plain": "833"
     },
     "execution_count": 21,
     "metadata": {},
     "output_type": "execute_result"
    }
   ],
   "source": [
    "len(test.data)"
   ],
   "metadata": {
    "collapsed": false,
    "pycharm": {
     "name": "#%%\n"
    }
   }
  },
  {
   "cell_type": "code",
   "execution_count": 19,
   "outputs": [],
   "source": [
    "eye_p = test.data.groupby(['eye_color']).count()['reviewer_id']/len(test.data)"
   ],
   "metadata": {
    "collapsed": false,
    "pycharm": {
     "name": "#%%\n"
    }
   }
  },
  {
   "cell_type": "code",
   "execution_count": 20,
   "outputs": [
    {
     "data": {
      "text/plain": "Index(['Blue', 'Brown', 'Green', 'Hazel'], dtype='object', name='eye_color')"
     },
     "execution_count": 20,
     "metadata": {},
     "output_type": "execute_result"
    }
   ],
   "source": [
    "eye_p.index"
   ],
   "metadata": {
    "collapsed": false,
    "pycharm": {
     "name": "#%%\n"
    }
   }
  },
  {
   "cell_type": "code",
   "execution_count": 22,
   "outputs": [],
   "source": [
    "eye_count = test.data.groupby(['eye_color']).count()['reviewer_id']#/len(preparing_the_data.data)"
   ],
   "metadata": {
    "collapsed": false,
    "pycharm": {
     "name": "#%%\n"
    }
   }
  },
  {
   "cell_type": "code",
   "execution_count": 23,
   "outputs": [
    {
     "data": {
      "text/plain": "Index(['Blue', 'Brown', 'Green', 'Hazel'], dtype='object', name='eye_color')"
     },
     "execution_count": 23,
     "metadata": {},
     "output_type": "execute_result"
    }
   ],
   "source": [
    "eye_count.index"
   ],
   "metadata": {
    "collapsed": false,
    "pycharm": {
     "name": "#%%\n"
    }
   }
  },
  {
   "cell_type": "code",
   "execution_count": 24,
   "outputs": [],
   "source": [
    "idx = eye_count[eye_count<5].index"
   ],
   "metadata": {
    "collapsed": false,
    "pycharm": {
     "name": "#%%\n"
    }
   }
  },
  {
   "cell_type": "code",
   "execution_count": 25,
   "outputs": [
    {
     "data": {
      "text/plain": "Index([], dtype='object', name='eye_color')"
     },
     "execution_count": 25,
     "metadata": {},
     "output_type": "execute_result"
    }
   ],
   "source": [
    "idx"
   ],
   "metadata": {
    "collapsed": false,
    "pycharm": {
     "name": "#%%\n"
    }
   }
  },
  {
   "cell_type": "code",
   "execution_count": 26,
   "outputs": [],
   "source": [
    "p_idx = eye_p[eye_p<=0.1].index"
   ],
   "metadata": {
    "collapsed": false,
    "pycharm": {
     "name": "#%%\n"
    }
   }
  },
  {
   "cell_type": "code",
   "execution_count": 27,
   "outputs": [
    {
     "data": {
      "text/plain": "Index([], dtype='object', name='eye_color')"
     },
     "execution_count": 27,
     "metadata": {},
     "output_type": "execute_result"
    }
   ],
   "source": [
    "p_idx"
   ],
   "metadata": {
    "collapsed": false,
    "pycharm": {
     "name": "#%%\n"
    }
   }
  },
  {
   "cell_type": "code",
   "execution_count": 51,
   "outputs": [],
   "source": [
    "from sklearn.preprocessing import OneHotEncoder\n",
    "enc_rest = OneHotEncoder(sparse=False)\n",
    "\n",
    "train_X_transform = enc_rest.fit_transform(preparing_the_data.train_X[['hair_color']])"
   ],
   "metadata": {
    "collapsed": false,
    "pycharm": {
     "name": "#%%\n"
    }
   }
  },
  {
   "cell_type": "code",
   "execution_count": 52,
   "outputs": [],
   "source": [
    "train_X_transform = pd.DataFrame(train_X_transform)"
   ],
   "metadata": {
    "collapsed": false,
    "pycharm": {
     "name": "#%%\n"
    }
   }
  },
  {
   "cell_type": "code",
   "execution_count": 53,
   "outputs": [],
   "source": [
    "col_names_dict = dict()\n",
    "col = 'hair_color'\n",
    "import re\n",
    "\n",
    "cols_cat = preparing_the_data.data.groupby([col], as_index=False).count()[col]\n",
    "if re.match('^.*_color$', col):\n",
    "    color = re.split('_color', col)[0]\n",
    "    cols_cat = cols_cat.str.cat(pd.Series([color] * len(preparing_the_data.data)), sep='_')\n",
    "    # print(cols_cat)\n",
    "\n",
    "for col_idx in train_X_transform.columns:\n",
    "    col_names_dict[col_idx] = cols_cat[col_idx]\n",
    "    train_X_transform.rename(columns=col_names_dict, inplace=True)"
   ],
   "metadata": {
    "collapsed": false,
    "pycharm": {
     "name": "#%%\n"
    }
   }
  },
  {
   "cell_type": "code",
   "execution_count": 55,
   "outputs": [],
   "source": [
    "dropped_columns = []\n",
    "for c in train_X_transform.columns:\n",
    "    if sum(train_X_transform[c]) < 20:\n",
    "        dropped_columns.append(c)\n",
    "        train_X_transform = train_X_transform.drop(columns=c)"
   ],
   "metadata": {
    "collapsed": false,
    "pycharm": {
     "name": "#%%\n"
    }
   }
  },
  {
   "cell_type": "code",
   "execution_count": 56,
   "outputs": [
    {
     "data": {
      "text/plain": "     Black_hair  Blonde_hair  Brunette_hair\n0           1.0          0.0            0.0\n1           0.0          0.0            1.0\n2           0.0          1.0            0.0\n3           0.0          1.0            0.0\n4           1.0          0.0            0.0\n..          ...          ...            ...\n122         1.0          0.0            0.0\n123         0.0          1.0            0.0\n124         1.0          0.0            0.0\n125         1.0          0.0            0.0\n126         1.0          0.0            0.0\n\n[127 rows x 3 columns]",
      "text/html": "<div>\n<style scoped>\n    .dataframe tbody tr th:only-of-type {\n        vertical-align: middle;\n    }\n\n    .dataframe tbody tr th {\n        vertical-align: top;\n    }\n\n    .dataframe thead th {\n        text-align: right;\n    }\n</style>\n<table border=\"1\" class=\"dataframe\">\n  <thead>\n    <tr style=\"text-align: right;\">\n      <th></th>\n      <th>Black_hair</th>\n      <th>Blonde_hair</th>\n      <th>Brunette_hair</th>\n    </tr>\n  </thead>\n  <tbody>\n    <tr>\n      <th>0</th>\n      <td>1.0</td>\n      <td>0.0</td>\n      <td>0.0</td>\n    </tr>\n    <tr>\n      <th>1</th>\n      <td>0.0</td>\n      <td>0.0</td>\n      <td>1.0</td>\n    </tr>\n    <tr>\n      <th>2</th>\n      <td>0.0</td>\n      <td>1.0</td>\n      <td>0.0</td>\n    </tr>\n    <tr>\n      <th>3</th>\n      <td>0.0</td>\n      <td>1.0</td>\n      <td>0.0</td>\n    </tr>\n    <tr>\n      <th>4</th>\n      <td>1.0</td>\n      <td>0.0</td>\n      <td>0.0</td>\n    </tr>\n    <tr>\n      <th>...</th>\n      <td>...</td>\n      <td>...</td>\n      <td>...</td>\n    </tr>\n    <tr>\n      <th>122</th>\n      <td>1.0</td>\n      <td>0.0</td>\n      <td>0.0</td>\n    </tr>\n    <tr>\n      <th>123</th>\n      <td>0.0</td>\n      <td>1.0</td>\n      <td>0.0</td>\n    </tr>\n    <tr>\n      <th>124</th>\n      <td>1.0</td>\n      <td>0.0</td>\n      <td>0.0</td>\n    </tr>\n    <tr>\n      <th>125</th>\n      <td>1.0</td>\n      <td>0.0</td>\n      <td>0.0</td>\n    </tr>\n    <tr>\n      <th>126</th>\n      <td>1.0</td>\n      <td>0.0</td>\n      <td>0.0</td>\n    </tr>\n  </tbody>\n</table>\n<p>127 rows × 3 columns</p>\n</div>"
     },
     "execution_count": 56,
     "metadata": {},
     "output_type": "execute_result"
    }
   ],
   "source": [
    "train_X_transform"
   ],
   "metadata": {
    "collapsed": false,
    "pycharm": {
     "name": "#%%\n"
    }
   }
  },
  {
   "cell_type": "code",
   "execution_count": 17,
   "outputs": [
    {
     "data": {
      "text/plain": "<Figure size 720x576 with 2 Axes>",
      "image/png": "[encoded data removed]"
     },
     "metadata": {
      "needs_background": "light"
     },
     "output_type": "display_data"
    }
   ],
   "source": [
    "plot_cross_tab_heatmap(data = test.data, col1 = 'skin_tone', col2 = 'skin_type', product=test.product_name, col3 = 'rating')"
   ],
   "metadata": {
    "collapsed": false,
    "pycharm": {
     "name": "#%%\n"
    }
   }
  },
  {
   "cell_type": "code",
   "execution_count": 19,
   "outputs": [
    {
     "data": {
      "text/plain": "<Figure size 720x576 with 2 Axes>",
      "image/png": "[encoded data removed]"
     },
     "metadata": {
      "needs_background": "light"
     },
     "output_type": "display_data"
    }
   ],
   "source": [
    "plot_cross_tab_heatmap(data = test.data, col1 = 'skin_tone', col2 = 'skin_type', product=test.product_name, col3 = 'recommended')"
   ],
   "metadata": {
    "collapsed": false,
    "pycharm": {
     "name": "#%%\n"
    }
   }
  },
  {
   "cell_type": "code",
   "execution_count": 6,
   "metadata": {},
   "outputs": [
    {
     "data": {
      "text/plain": "<Figure size 720x576 with 1 Axes>",
      "image/png": "[encoded data removed]"
     },
     "metadata": {
      "needs_background": "light"
     },
     "output_type": "display_data"
    }
   ],
   "source": [
    "plot_countbar(data = test.data, product = test.product_name, col1 = 'month_of_purchase')"
   ]
  },
  {
   "cell_type": "code",
   "execution_count": 7,
   "metadata": {},
   "outputs": [
    {
     "data": {
      "text/plain": "<Figure size 432x288 with 1 Axes>",
      "image/png": "[encoded data removed]"
     },
     "metadata": {
      "needs_background": "light"
     },
     "output_type": "display_data"
    }
   ],
   "source": [
    "plot_line(data = test.data, product = test.product_name, col1 = 'days_since_launch')"
   ]
  },
  {
   "cell_type": "code",
   "execution_count": 8,
   "metadata": {},
   "outputs": [
    {
     "data": {
      "text/plain": "<Figure size 720x576 with 2 Axes>",
      "image/png": "[encoded data removed]"
     },
     "metadata": {
      "needs_background": "light"
     },
     "output_type": "display_data"
    }
   ],
   "source": [
    "plot_cross_tab_heatmap(data = test.data, product= test.product_name, col1 = 'skin_tone', col2 = 'skin_type', col3 = 'rating')"
   ]
  },
  {
   "cell_type": "code",
   "execution_count": 9,
   "metadata": {},
   "outputs": [
    {
     "data": {
      "text/plain": "0.8040540540540541"
     },
     "execution_count": 9,
     "metadata": {},
     "output_type": "execute_result"
    }
   ],
   "source": [
    "sum(test.y) / len(test.data)"
   ]
  },
  {
   "cell_type": "code",
   "execution_count": 10,
   "metadata": {},
   "outputs": [
    {
     "data": {
      "text/plain": "621"
     },
     "execution_count": 10,
     "metadata": {},
     "output_type": "execute_result"
    }
   ],
   "source": [
    "len(test_train_X[test_train_X.notna()])"
   ]
  },
  {
   "cell_type": "code",
   "execution_count": 11,
   "metadata": {},
   "outputs": [],
   "source": [
    "logit = LogisticRegression(penalty='none',random_state=0, max_iter=1000, class_weight='balanced').fit(test_train_X, test.train_y)"
   ]
  },
  {
   "cell_type": "code",
   "execution_count": 12,
   "metadata": {},
   "outputs": [],
   "source": [
    "predict_y = logit.predict_proba(test_val_X)[:, 1]"
   ]
  },
  {
   "cell_type": "code",
   "execution_count": 13,
   "metadata": {},
   "outputs": [
    {
     "data": {
      "text/plain": "<Figure size 432x288 with 1 Axes>",
      "image/png": "[encoded data removed]"
     },
     "metadata": {
      "needs_background": "light"
     },
     "output_type": "display_data"
    },
    {
     "data": {
      "text/plain": "<Figure size 432x288 with 0 Axes>"
     },
     "metadata": {},
     "output_type": "display_data"
    }
   ],
   "source": [
    "plot_predictions_by_scores(predict_y, test.val_y, bins = 100, model = 'logit', product= test.product_name)"
   ]
  },
  {
   "cell_type": "code",
   "execution_count": 14,
   "metadata": {},
   "outputs": [
    {
     "data": {
      "text/plain": "<Figure size 432x288 with 1 Axes>",
      "image/png": "[encoded data removed]"
     },
     "metadata": {
      "needs_background": "light"
     },
     "output_type": "display_data"
    }
   ],
   "source": [
    "plot_auc_roc(predict_y, test.val_y, product = test.product_name, model = 'logit')"
   ]
  },
  {
   "cell_type": "code",
   "execution_count": 15,
   "metadata": {},
   "outputs": [],
   "source": [
    "bbc = BalancedBaggingClassifier(random_state=0).fit(test_train_X, test.train_y)\n",
    "predict_y = bbc.predict_proba(test_val_X)[:, 1]"
   ]
  },
  {
   "cell_type": "code",
   "execution_count": 16,
   "metadata": {},
   "outputs": [],
   "source": [
    "# Bag = BaggingClassifier(n_estimators=1000, random_state=0).fit(test_train_X, test.train_y)\n",
    "# predict_y = Bag.predict_proba(test_val_X)[:, 1]"
   ]
  },
  {
   "cell_type": "code",
   "execution_count": 16,
   "metadata": {},
   "outputs": [
    {
     "data": {
      "text/plain": "<Figure size 432x288 with 1 Axes>",
      "image/png": "[encoded data removed]"
     },
     "metadata": {
      "needs_background": "light"
     },
     "output_type": "display_data"
    },
    {
     "data": {
      "text/plain": "<Figure size 432x288 with 0 Axes>"
     },
     "metadata": {},
     "output_type": "display_data"
    }
   ],
   "source": [
    "plot_predictions_by_scores(predict_y, test.val_y, bins = 10, model = 'bagging', product= test.product_name)"
   ]
  },
  {
   "cell_type": "code",
   "execution_count": 17,
   "metadata": {},
   "outputs": [
    {
     "data": {
      "text/plain": "<Figure size 432x288 with 1 Axes>",
      "image/png": "[encoded data removed]"
     },
     "metadata": {
      "needs_background": "light"
     },
     "output_type": "display_data"
    }
   ],
   "source": [
    "plot_auc_roc(predict_y, test.val_y, product = test.product_name, model = 'bagging')"
   ]
  },
  {
   "cell_type": "markdown",
   "source": [
    "### Trying out XGBoost"
   ],
   "metadata": {
    "collapsed": false
   }
  },
  {
   "cell_type": "code",
   "execution_count": 7,
   "outputs": [
    {
     "data": {
      "text/plain": "   reviewer_id  rating  recommended  \\\n0        LTTop       5            1   \n1        tmgre       4            1   \n2  sarahkate27       4            1   \n3    emmykay97       4            1   \n4        scc37       4            1   \n\n                                    review_subject  \\\n0                                    Best BB Cream   \n1                 Great product/terrible container   \n2      Smooth, Natural-Looking, Buildable Coverage   \n3                                             None   \n4  Nice lightweight dewy product - hard to get out   \n\n                                      review_content    reviewer_feature  \\\n0  Over the years I have tried many brands of mak...  , Combination skin   \n1  Product is very nice and goes on smoothly. I l...       , Normal skin   \n2  I have been using this product for about 3 yea...         , Oily skin   \n3  I have been using this product for about 3 yea...  , Combination skin   \n4  Taking a star off because the last tube I got ...          , Dry skin   \n\n  purchased_shade  date_of_review eye_color hair_color  ...    skin_type  \\\n0  Light - Medium   1643673600000     Hazel   Brunette  ...  Combination   \n1  Light - Medium   1641859200000      Blue     Blonde  ...       Normal   \n2  Light - Medium   1641772800000      Blue     Blonde  ...         Oily   \n3  Light - Medium   1641686400000     Green     Auburn  ...  Combination   \n4  Light - Medium   1641686400000      Blue     Blonde  ...          Dry   \n\n  skin_tone_bin  skin_tone_cat  days_since_launch  days_since_launch_scaled  \\\n0             0              1               1618                  1.000000   \n1             0              1               1597                  0.987021   \n2             0              1               1596                  0.986403   \n3             0              1               1595                  0.985785   \n4             0              1               1595                  0.985785   \n\n   month_of_purchase  finish  coverage  shade_match  gifted  \n0                  2       0         0            0       0  \n1                  1       0         0            0       0  \n2                  1       0         1            1       0  \n3                  1       0         1            1       0  \n4                  1       0         1            1       0  \n\n[5 rows x 21 columns]",
      "text/html": "<div>\n<style scoped>\n    .dataframe tbody tr th:only-of-type {\n        vertical-align: middle;\n    }\n\n    .dataframe tbody tr th {\n        vertical-align: top;\n    }\n\n    .dataframe thead th {\n        text-align: right;\n    }\n</style>\n<table border=\"1\" class=\"dataframe\">\n  <thead>\n    <tr style=\"text-align: right;\">\n      <th></th>\n      <th>reviewer_id</th>\n      <th>rating</th>\n      <th>recommended</th>\n      <th>review_subject</th>\n      <th>review_content</th>\n      <th>reviewer_feature</th>\n      <th>purchased_shade</th>\n      <th>date_of_review</th>\n      <th>eye_color</th>\n      <th>hair_color</th>\n      <th>...</th>\n      <th>skin_type</th>\n      <th>skin_tone_bin</th>\n      <th>skin_tone_cat</th>\n      <th>days_since_launch</th>\n      <th>days_since_launch_scaled</th>\n      <th>month_of_purchase</th>\n      <th>finish</th>\n      <th>coverage</th>\n      <th>shade_match</th>\n      <th>gifted</th>\n    </tr>\n  </thead>\n  <tbody>\n    <tr>\n      <th>0</th>\n      <td>LTTop</td>\n      <td>5</td>\n      <td>1</td>\n      <td>Best BB Cream</td>\n      <td>Over the years I have tried many brands of mak...</td>\n      <td>, Combination skin</td>\n      <td>Light - Medium</td>\n      <td>1643673600000</td>\n      <td>Hazel</td>\n      <td>Brunette</td>\n      <td>...</td>\n      <td>Combination</td>\n      <td>0</td>\n      <td>1</td>\n      <td>1618</td>\n      <td>1.000000</td>\n      <td>2</td>\n      <td>0</td>\n      <td>0</td>\n      <td>0</td>\n      <td>0</td>\n    </tr>\n    <tr>\n      <th>1</th>\n      <td>tmgre</td>\n      <td>4</td>\n      <td>1</td>\n      <td>Great product/terrible container</td>\n      <td>Product is very nice and goes on smoothly. I l...</td>\n      <td>, Normal skin</td>\n      <td>Light - Medium</td>\n      <td>1641859200000</td>\n      <td>Blue</td>\n      <td>Blonde</td>\n      <td>...</td>\n      <td>Normal</td>\n      <td>0</td>\n      <td>1</td>\n      <td>1597</td>\n      <td>0.987021</td>\n      <td>1</td>\n      <td>0</td>\n      <td>0</td>\n      <td>0</td>\n      <td>0</td>\n    </tr>\n    <tr>\n      <th>2</th>\n      <td>sarahkate27</td>\n      <td>4</td>\n      <td>1</td>\n      <td>Smooth, Natural-Looking, Buildable Coverage</td>\n      <td>I have been using this product for about 3 yea...</td>\n      <td>, Oily skin</td>\n      <td>Light - Medium</td>\n      <td>1641772800000</td>\n      <td>Blue</td>\n      <td>Blonde</td>\n      <td>...</td>\n      <td>Oily</td>\n      <td>0</td>\n      <td>1</td>\n      <td>1596</td>\n      <td>0.986403</td>\n      <td>1</td>\n      <td>0</td>\n      <td>1</td>\n      <td>1</td>\n      <td>0</td>\n    </tr>\n    <tr>\n      <th>3</th>\n      <td>emmykay97</td>\n      <td>4</td>\n      <td>1</td>\n      <td>None</td>\n      <td>I have been using this product for about 3 yea...</td>\n      <td>, Combination skin</td>\n      <td>Light - Medium</td>\n      <td>1641686400000</td>\n      <td>Green</td>\n      <td>Auburn</td>\n      <td>...</td>\n      <td>Combination</td>\n      <td>0</td>\n      <td>1</td>\n      <td>1595</td>\n      <td>0.985785</td>\n      <td>1</td>\n      <td>0</td>\n      <td>1</td>\n      <td>1</td>\n      <td>0</td>\n    </tr>\n    <tr>\n      <th>4</th>\n      <td>scc37</td>\n      <td>4</td>\n      <td>1</td>\n      <td>Nice lightweight dewy product - hard to get out</td>\n      <td>Taking a star off because the last tube I got ...</td>\n      <td>, Dry skin</td>\n      <td>Light - Medium</td>\n      <td>1641686400000</td>\n      <td>Blue</td>\n      <td>Blonde</td>\n      <td>...</td>\n      <td>Dry</td>\n      <td>0</td>\n      <td>1</td>\n      <td>1595</td>\n      <td>0.985785</td>\n      <td>1</td>\n      <td>0</td>\n      <td>1</td>\n      <td>1</td>\n      <td>0</td>\n    </tr>\n  </tbody>\n</table>\n<p>5 rows × 21 columns</p>\n</div>"
     },
     "execution_count": 7,
     "metadata": {},
     "output_type": "execute_result"
    }
   ],
   "source": [
    "test.data.head()"
   ],
   "metadata": {
    "collapsed": false,
    "pycharm": {
     "name": "#%%\n"
    }
   }
  },
  {
   "cell_type": "code",
   "execution_count": 10,
   "outputs": [
    {
     "ename": "TypeError",
     "evalue": "__init__() takes 2 positional arguments but 3 were given",
     "output_type": "error",
     "traceback": [
      "\u001B[0;31m---------------------------------------------------------------------------\u001B[0m",
      "\u001B[0;31mTypeError\u001B[0m                                 Traceback (most recent call last)",
      "\u001B[0;32m/var/folders/b8/qhvvp5cj1hj_nj6sgf68yv3r0000gn/T/ipykernel_73227/3111136146.py\u001B[0m in \u001B[0;36m<module>\u001B[0;34m\u001B[0m\n\u001B[0;32m----> 1\u001B[0;31m \u001B[0mnew\u001B[0m \u001B[0;34m=\u001B[0m \u001B[0mtraining_models\u001B[0m\u001B[0;34m(\u001B[0m\u001B[0mfile_name\u001B[0m\u001B[0;34m=\u001B[0m\u001B[0mlist_of_file_names\u001B[0m\u001B[0;34m[\u001B[0m\u001B[0;36m0\u001B[0m\u001B[0;34m]\u001B[0m\u001B[0;34m)\u001B[0m\u001B[0;34m\u001B[0m\u001B[0;34m\u001B[0m\u001B[0m\n\u001B[0m",
      "\u001B[0;32m~/Projects/_DS_projects/project_foundation/training.py\u001B[0m in \u001B[0;36m__init__\u001B[0;34m(self, file_name)\u001B[0m\n\u001B[1;32m    210\u001B[0m \u001B[0;34m\u001B[0m\u001B[0m\n\u001B[1;32m    211\u001B[0m     \u001B[0;32mdef\u001B[0m \u001B[0m__init__\u001B[0m\u001B[0;34m(\u001B[0m\u001B[0mself\u001B[0m\u001B[0;34m,\u001B[0m \u001B[0mfile_name\u001B[0m\u001B[0;34m)\u001B[0m\u001B[0;34m:\u001B[0m\u001B[0;34m\u001B[0m\u001B[0;34m\u001B[0m\u001B[0m\n\u001B[0;32m--> 212\u001B[0;31m         \u001B[0msuper\u001B[0m\u001B[0;34m(\u001B[0m\u001B[0;34m)\u001B[0m\u001B[0;34m.\u001B[0m\u001B[0m__init__\u001B[0m\u001B[0;34m(\u001B[0m\u001B[0mself\u001B[0m\u001B[0;34m,\u001B[0m \u001B[0mfile_name\u001B[0m\u001B[0;34m)\u001B[0m\u001B[0;34m\u001B[0m\u001B[0;34m\u001B[0m\u001B[0m\n\u001B[0m\u001B[1;32m    213\u001B[0m \u001B[0;34m\u001B[0m\u001B[0m\n\u001B[1;32m    214\u001B[0m     def hyperparameter_tune(\n",
      "\u001B[0;31mTypeError\u001B[0m: __init__() takes 2 positional arguments but 3 were given"
     ]
    }
   ],
   "source": [
    "new = training_models(file_name=list_of_file_names[0])"
   ],
   "metadata": {
    "collapsed": false,
    "pycharm": {
     "name": "#%%\n"
    }
   }
  },
  {
   "cell_type": "code",
   "execution_count": 23,
   "outputs": [
    {
     "ename": "AttributeError",
     "evalue": "'training_models' object has no attribute 'train_y'",
     "output_type": "error",
     "traceback": [
      "\u001B[0;31m---------------------------------------------------------------------------\u001B[0m",
      "\u001B[0;31mAttributeError\u001B[0m                            Traceback (most recent call last)",
      "\u001B[0;32m/var/folders/b8/qhvvp5cj1hj_nj6sgf68yv3r0000gn/T/ipykernel_72414/137550229.py\u001B[0m in \u001B[0;36m<module>\u001B[0;34m\u001B[0m\n\u001B[0;32m----> 1\u001B[0;31m \u001B[0mtest\u001B[0m\u001B[0;34m.\u001B[0m\u001B[0mtrain_y\u001B[0m\u001B[0;34m\u001B[0m\u001B[0;34m\u001B[0m\u001B[0m\n\u001B[0m",
      "\u001B[0;31mAttributeError\u001B[0m: 'training_models' object has no attribute 'train_y'"
     ]
    }
   ],
   "source": [
    "test.train_y"
   ],
   "metadata": {
    "collapsed": false,
    "pycharm": {
     "name": "#%%\n"
    }
   }
  },
  {
   "cell_type": "code",
   "execution_count": 18,
   "metadata": {},
   "outputs": [],
   "source": [
    "train_p_1 = len(test.train_y) / (len(test.train_y[test.train_y == 1]) * 2)\n",
    "train_p_0 = len(test.train_y) / (len(test.train_y[test.train_y == 0]) * 2)\n",
    "\n",
    "val_p_1 = len(test.val_y) / (len(test.val_y[test.val_y == 1]) * 2) \n",
    "val_p_0 = len(test.val_y) / (len(test.val_y[test.val_y == 0]) * 2) \n",
    "# val_p = len(test.val_y) / (len(test.val_y) * 2) \n",
    "# wj= n_samples / (n_classes * n_samplesj)\n",
    "w_train = np.where(test.train_y == 0, train_p_0, train_p_1)\n",
    "w_val = np.where(test.val_y == 0, val_p_0, val_p_1)\n",
    "\n",
    "dtrain = xgb.DMatrix(test_train_X, label = test.train_y, weight=w_train)\n",
    "dval = xgb.DMatrix(test_val_X, label = test.val_y, weight=w_val)"
   ]
  },
  {
   "cell_type": "code",
   "execution_count": 19,
   "metadata": {},
   "outputs": [],
   "source": [
    "param = {'max_depth': 7, 'objective': 'binary:logistic', 'eta': 0.1, 'lambda': 1, 'alpha': 0, 'gamma': 5}\n",
    "param['nthread'] = 4\n",
    "param['eval_metric'] = 'auc'\n",
    "evallist = [(dval, 'eval'), (dtrain, 'train')]"
   ]
  },
  {
   "cell_type": "code",
   "execution_count": 20,
   "metadata": {},
   "outputs": [
    {
     "name": "stdout",
     "output_type": "stream",
     "text": [
      "[0]\teval-auc:0.75617\ttrain-auc:0.77471\n",
      "[1]\teval-auc:0.75617\ttrain-auc:0.77471\n",
      "[2]\teval-auc:0.76888\ttrain-auc:0.81297\n",
      "[3]\teval-auc:0.76888\ttrain-auc:0.81297\n",
      "[4]\teval-auc:0.74973\ttrain-auc:0.84432\n",
      "[5]\teval-auc:0.74986\ttrain-auc:0.84433\n",
      "[6]\teval-auc:0.74292\ttrain-auc:0.84869\n",
      "[7]\teval-auc:0.74292\ttrain-auc:0.84869\n",
      "[8]\teval-auc:0.74292\ttrain-auc:0.84869\n",
      "[9]\teval-auc:0.74292\ttrain-auc:0.84869\n",
      "[10]\teval-auc:0.74292\ttrain-auc:0.84869\n",
      "[11]\teval-auc:0.74292\ttrain-auc:0.84873\n",
      "[12]\teval-auc:0.74519\ttrain-auc:0.84847\n",
      "[13]\teval-auc:0.72812\ttrain-auc:0.88357\n",
      "[14]\teval-auc:0.73693\ttrain-auc:0.88811\n"
     ]
    }
   ],
   "source": [
    "num_round = 15\n",
    "bst = xgb.train(param, dtrain, num_round, evallist)"
   ]
  },
  {
   "cell_type": "code",
   "execution_count": 155,
   "metadata": {},
   "outputs": [],
   "source": [
    "# os.makedirs(f'models/{test.product_name}')\n",
    "bst.save_model(f'models/{test.product_name}/{test.product_name}_xgboost.model')"
   ]
  },
  {
   "cell_type": "code",
   "execution_count": 56,
   "outputs": [
    {
     "name": "stderr",
     "output_type": "stream",
     "text": [
      "\u001B[32m[I 2022-02-08 16:56:42,397]\u001B[0m A new study created in memory with name: no-name-206de28f-59e5-429b-bbfb-7b767f8a080e\u001B[0m\n"
     ]
    },
    {
     "name": "stdout",
     "output_type": "stream",
     "text": [
      "[0]\tvalidation-auc:0.50000\ttrain-auc:0.50000\n",
      "[1]\tvalidation-auc:0.50000\ttrain-auc:0.50000\n",
      "[2]\tvalidation-auc:0.50000\ttrain-auc:0.50000\n",
      "[3]\tvalidation-auc:0.72767\ttrain-auc:0.77510\n",
      "[4]\tvalidation-auc:0.72767\ttrain-auc:0.77510\n",
      "[5]\tvalidation-auc:0.72767\ttrain-auc:0.77510\n",
      "[6]\tvalidation-auc:0.72767\ttrain-auc:0.77510\n",
      "[7]\tvalidation-auc:0.72767\ttrain-auc:0.77811\n",
      "[8]\tvalidation-auc:0.72168\ttrain-auc:0.81755\n",
      "[9]\tvalidation-auc:0.72168\ttrain-auc:0.81977\n"
     ]
    },
    {
     "name": "stderr",
     "output_type": "stream",
     "text": [
      "\u001B[32m[I 2022-02-08 16:56:42,472]\u001B[0m Trial 0 finished with value: 0.6441947565543071 and parameters: {'booster': 'gbtree', 'lambda': 4.5680396563785255e-06, 'alpha': 8.824276748141828e-08, 'max_depth': 8, 'eta': 1.3614190482264298e-08, 'gamma': 0.014386011042876035, 'grow_policy': 'depthwise'}. Best is trial 0 with value: 0.6441947565543071.\u001B[0m\n"
     ]
    },
    {
     "name": "stdout",
     "output_type": "stream",
     "text": [
      "[0]\tvalidation-auc:0.75004\ttrain-auc:0.80796\n",
      "[1]\tvalidation-auc:0.74678\ttrain-auc:0.81423\n",
      "[2]\tvalidation-auc:0.74823\ttrain-auc:0.81705\n",
      "[3]\tvalidation-auc:0.74569\ttrain-auc:0.81776\n",
      "[4]\tvalidation-auc:0.74360\ttrain-auc:0.81704\n",
      "[5]\tvalidation-auc:0.74088\ttrain-auc:0.81640\n",
      "[6]\tvalidation-auc:0.73988\ttrain-auc:0.81575\n",
      "[7]\tvalidation-auc:0.73870\ttrain-auc:0.81531\n",
      "[8]\tvalidation-auc:0.73779\ttrain-auc:0.81495\n",
      "[9]\tvalidation-auc:0.73743\ttrain-auc:0.81469\n"
     ]
    },
    {
     "name": "stderr",
     "output_type": "stream",
     "text": [
      "\u001B[32m[I 2022-02-08 16:56:42,495]\u001B[0m Trial 1 finished with value: 0.6666666666666666 and parameters: {'booster': 'gblinear', 'lambda': 2.0675355708856458e-05, 'alpha': 0.000348340436641141}. Best is trial 0 with value: 0.6441947565543071.\u001B[0m\n"
     ]
    },
    {
     "name": "stdout",
     "output_type": "stream",
     "text": [
      "[0]\tvalidation-auc:0.72921\ttrain-auc:0.91743\n",
      "[1]\tvalidation-auc:0.74247\ttrain-auc:0.93156\n",
      "[2]\tvalidation-auc:0.74274\ttrain-auc:0.93383\n",
      "[3]\tvalidation-auc:0.74378\ttrain-auc:0.93413\n",
      "[4]\tvalidation-auc:0.74256\ttrain-auc:0.94267\n",
      "[5]\tvalidation-auc:0.74287\ttrain-auc:0.94216\n",
      "[6]\tvalidation-auc:0.74233\ttrain-auc:0.94289\n",
      "[7]\tvalidation-auc:0.74387\ttrain-auc:0.94307\n",
      "[8]\tvalidation-auc:0.74128\ttrain-auc:0.94255\n",
      "[9]\tvalidation-auc:0.74029\ttrain-auc:0.94207\n"
     ]
    },
    {
     "name": "stderr",
     "output_type": "stream",
     "text": [
      "\u001B[32m[I 2022-02-08 16:56:42,577]\u001B[0m Trial 2 finished with value: 0.7116104868913857 and parameters: {'booster': 'dart', 'lambda': 0.00012584749896558955, 'alpha': 2.9713805539748287e-05, 'max_depth': 14, 'eta': 1.578620898719132e-07, 'gamma': 1.4514237120453738e-08, 'grow_policy': 'lossguide', 'sample_type': 'uniform', 'normalize_type': 'tree', 'rate_drop': 0.4816474917262365, 'skip_drop': 0.0034314995956672605}. Best is trial 0 with value: 0.6441947565543071.\u001B[0m\n"
     ]
    },
    {
     "name": "stdout",
     "output_type": "stream",
     "text": [
      "[0]\tvalidation-auc:0.74124\ttrain-auc:0.88632\n",
      "[1]\tvalidation-auc:0.72917\ttrain-auc:0.89015\n",
      "[2]\tvalidation-auc:0.72871\ttrain-auc:0.88976\n",
      "[3]\tvalidation-auc:0.72917\ttrain-auc:0.89015\n",
      "[4]\tvalidation-auc:0.72898\ttrain-auc:0.89001\n",
      "[5]\tvalidation-auc:0.72917\ttrain-auc:0.89015\n",
      "[6]\tvalidation-auc:0.72962\ttrain-auc:0.89001\n",
      "[7]\tvalidation-auc:0.73103\ttrain-auc:0.89690\n",
      "[8]\tvalidation-auc:0.73085\ttrain-auc:0.89695\n",
      "[9]\tvalidation-auc:0.73103\ttrain-auc:0.89685\n"
     ]
    },
    {
     "name": "stderr",
     "output_type": "stream",
     "text": [
      "\u001B[32m[I 2022-02-08 16:56:42,624]\u001B[0m Trial 3 finished with value: 0.6704119850187266 and parameters: {'booster': 'gbtree', 'lambda': 7.643363924215666e-07, 'alpha': 0.00016547478805294894, 'max_depth': 10, 'eta': 0.005007109939657118, 'gamma': 0.9178716269988172, 'grow_policy': 'depthwise'}. Best is trial 0 with value: 0.6441947565543071.\u001B[0m\n"
     ]
    },
    {
     "name": "stdout",
     "output_type": "stream",
     "text": [
      "[0]\tvalidation-auc:0.75123\ttrain-auc:0.81131\n",
      "[1]\tvalidation-auc:0.74687\ttrain-auc:0.81519\n",
      "[2]\tvalidation-auc:0.74487\ttrain-auc:0.81768\n",
      "[3]\tvalidation-auc:0.74378\ttrain-auc:0.81821\n",
      "[4]\tvalidation-auc:0.74169\ttrain-auc:0.81737\n",
      "[5]\tvalidation-auc:0.74060\ttrain-auc:0.81627\n",
      "[6]\tvalidation-auc:0.74060\ttrain-auc:0.81622\n",
      "[7]\tvalidation-auc:0.74033\ttrain-auc:0.81572\n",
      "[8]\tvalidation-auc:0.73961\ttrain-auc:0.81542\n",
      "[9]\tvalidation-auc:0.73942\ttrain-auc:0.81526\n"
     ]
    },
    {
     "name": "stderr",
     "output_type": "stream",
     "text": [
      "\u001B[32m[I 2022-02-08 16:56:42,643]\u001B[0m Trial 4 finished with value: 0.6741573033707865 and parameters: {'booster': 'gblinear', 'lambda': 6.967419247582416e-05, 'alpha': 6.7936075951674815e-06}. Best is trial 0 with value: 0.6441947565543071.\u001B[0m\n"
     ]
    },
    {
     "name": "stdout",
     "output_type": "stream",
     "text": [
      "[0]\tvalidation-auc:0.73243\ttrain-auc:0.72624\n",
      "[1]\tvalidation-auc:0.73243\ttrain-auc:0.72624\n",
      "[2]\tvalidation-auc:0.73243\ttrain-auc:0.72624\n",
      "[3]\tvalidation-auc:0.72953\ttrain-auc:0.72732\n",
      "[4]\tvalidation-auc:0.72953\ttrain-auc:0.72732\n",
      "[5]\tvalidation-auc:0.72953\ttrain-auc:0.72754\n",
      "[6]\tvalidation-auc:0.72953\ttrain-auc:0.72754\n",
      "[7]\tvalidation-auc:0.72953\ttrain-auc:0.72754\n",
      "[8]\tvalidation-auc:0.72953\ttrain-auc:0.72754\n",
      "[9]\tvalidation-auc:0.72953\ttrain-auc:0.72754\n"
     ]
    },
    {
     "name": "stderr",
     "output_type": "stream",
     "text": [
      "\u001B[32m[I 2022-02-08 16:56:42,671]\u001B[0m Trial 5 finished with value: 0.6217228464419475 and parameters: {'booster': 'gbtree', 'lambda': 8.124350910750961e-06, 'alpha': 0.0004795606180796081, 'max_depth': 2, 'eta': 0.03195260470143564, 'gamma': 4.279441893328834e-05, 'grow_policy': 'depthwise'}. Best is trial 5 with value: 0.6217228464419475.\u001B[0m\n"
     ]
    },
    {
     "name": "stdout",
     "output_type": "stream",
     "text": [
      "[0]\tvalidation-auc:0.75722\ttrain-auc:0.80768\n"
     ]
    },
    {
     "name": "stderr",
     "output_type": "stream",
     "text": [
      "\u001B[32m[I 2022-02-08 16:56:42,679]\u001B[0m Trial 6 pruned. Trial was pruned at iteration 0.\u001B[0m\n"
     ]
    },
    {
     "name": "stdout",
     "output_type": "stream",
     "text": [
      "[0]\tvalidation-auc:0.72200\ttrain-auc:0.94572\n",
      "[1]\tvalidation-auc:0.71791\ttrain-auc:0.95008\n",
      "[2]\tvalidation-auc:0.71764\ttrain-auc:0.95053\n",
      "[3]\tvalidation-auc:0.71705\ttrain-auc:0.95051\n",
      "[4]\tvalidation-auc:0.71836\ttrain-auc:0.95038\n",
      "[5]\tvalidation-auc:0.71845\ttrain-auc:0.95095\n",
      "[6]\tvalidation-auc:0.71746\ttrain-auc:0.95072\n",
      "[7]\tvalidation-auc:0.71696\ttrain-auc:0.95096\n",
      "[8]\tvalidation-auc:0.71768\ttrain-auc:0.95086\n",
      "[9]\tvalidation-auc:0.71809\ttrain-auc:0.95079\n"
     ]
    },
    {
     "name": "stderr",
     "output_type": "stream",
     "text": [
      "\u001B[32m[I 2022-02-08 16:56:42,750]\u001B[0m Trial 7 finished with value: 0.7191011235955056 and parameters: {'booster': 'gbtree', 'lambda': 1.8361953762708797e-05, 'alpha': 1.3104909215619443e-06, 'max_depth': 15, 'eta': 2.098535065260438e-05, 'gamma': 1.2306289378095787e-08, 'grow_policy': 'lossguide'}. Best is trial 5 with value: 0.6217228464419475.\u001B[0m\n",
      "\u001B[32m[I 2022-02-08 16:56:42,758]\u001B[0m Trial 8 pruned. Trial was pruned at iteration 0.\u001B[0m\n"
     ]
    },
    {
     "name": "stdout",
     "output_type": "stream",
     "text": [
      "[0]\tvalidation-auc:0.74650\ttrain-auc:0.80848\n"
     ]
    },
    {
     "name": "stderr",
     "output_type": "stream",
     "text": [
      "\u001B[32m[I 2022-02-08 16:56:42,765]\u001B[0m Trial 9 pruned. Trial was pruned at iteration 0.\u001B[0m\n"
     ]
    }
   ],
   "source": [
    "params = hyperparameter_tune(X_train = test_train_X,\n",
    "        y_train = test.train_y,\n",
    "        X_valid = test_val_X,\n",
    "        y_valid = test.val_y,\n",
    "        n_trials = 10)"
   ],
   "metadata": {
    "collapsed": false,
    "pycharm": {
     "name": "#%%\n"
    }
   }
  },
  {
   "cell_type": "code",
   "execution_count": 57,
   "outputs": [
    {
     "data": {
      "text/plain": "{'verbosity': 0,\n 'objective': 'binary:logistic',\n 'eval_metric': 'auc',\n 'booster': 'gbtree',\n 'lambda': 8.124350910750961e-06,\n 'alpha': 0.0004795606180796081,\n 'max_depth': 2,\n 'eta': 0.03195260470143564,\n 'gamma': 4.279441893328834e-05,\n 'grow_policy': 'depthwise'}"
     },
     "execution_count": 57,
     "metadata": {},
     "output_type": "execute_result"
    }
   ],
   "source": [
    "params"
   ],
   "metadata": {
    "collapsed": false,
    "pycharm": {
     "name": "#%%\n"
    }
   }
  },
  {
   "cell_type": "code",
   "execution_count": 58,
   "outputs": [
    {
     "name": "stdout",
     "output_type": "stream",
     "text": [
      "[0]\teval-auc:0.73243\ttrain-auc:0.72624\n",
      "[1]\teval-auc:0.73243\ttrain-auc:0.72624\n",
      "[2]\teval-auc:0.73243\ttrain-auc:0.72624\n",
      "[3]\teval-auc:0.72953\ttrain-auc:0.72732\n",
      "[4]\teval-auc:0.72953\ttrain-auc:0.72732\n",
      "[5]\teval-auc:0.72953\ttrain-auc:0.72754\n",
      "[6]\teval-auc:0.72953\ttrain-auc:0.72754\n",
      "[7]\teval-auc:0.72953\ttrain-auc:0.72754\n",
      "[8]\teval-auc:0.72953\ttrain-auc:0.72754\n",
      "[9]\teval-auc:0.72953\ttrain-auc:0.72754\n"
     ]
    }
   ],
   "source": [
    "best_model = train_single_run(\n",
    "    X_train=test_train_X,\n",
    "    X_valid=test_val_X,\n",
    "    y_train=test.train_y,\n",
    "    y_valid=test.val_y,\n",
    "    parameters=params,\n",
    "    num_round=10\n",
    ")"
   ],
   "metadata": {
    "collapsed": false,
    "pycharm": {
     "name": "#%%\n"
    }
   }
  },
  {
   "cell_type": "code",
   "execution_count": 61,
   "outputs": [],
   "source": [
    "os.mkdir(f'models/{test.product_name}')\n",
    "best_model.save_model(f'models/{test.product_name}/{test.product_name}_xgboost.model')"
   ],
   "metadata": {
    "collapsed": false,
    "pycharm": {
     "name": "#%%\n"
    }
   }
  },
  {
   "cell_type": "code",
   "execution_count": 52,
   "outputs": [],
   "source": [
    "def hyperparameter_tune(\n",
    "    X_train: pd.DataFrame,\n",
    "    y_train: pd.Series,\n",
    "    X_valid: pd.DataFrame,\n",
    "    y_valid: pd.Series,\n",
    "    n_trials: int\n",
    ") -> dict:\n",
    "    \"\"\"\n",
    "    This function performs the hyperparameter tuning given a training dataset and\n",
    "    a test dataset.\n",
    "    Returns the best hyperparameter set\n",
    "    \"\"\"\n",
    "    initial_hyperparams = {\n",
    "        'verbosity': 0,\n",
    "        # 'booster': trial.suggest_categorical(\"booster\", ['gbtree', 'gblinear', 'dart']),\n",
    "        'objective': 'binary:logistic',\n",
    "        'eval_metric': 'auc',\n",
    "        # 'lambda': trial.suggest_loguniform('lambda', 1e-8, 1.0),\n",
    "        # 'alpha': trial.suggest_loguniform('alpha', 1e-8, 1.0),\n",
    "    }\n",
    "\n",
    "    # initial_hyperparams = {\n",
    "    #     'boosting_type': 'gbdt',\n",
    "    #     'objective': 'binary',\n",
    "    #     'metric': 'auc',\n",
    "    #     'num_threads': NUM_CPUS,\n",
    "    #     'verbose': -1,\n",
    "    #     'num_boost_round': 7500,\n",
    "    #     'lambda_l2': 0,\n",
    "    #     'feature_fraction': 1,\n",
    "    #     'bagging_fraction': 1,\n",
    "    #     'bagging_freq': 0,\n",
    "    #     # 'scale_pos_weight': SCALE_POS_WEIGHT,\n",
    "    # }\n",
    "\n",
    "    study = optuna.create_study(\n",
    "        direction='minimize',\n",
    "        sampler=TPESampler()\n",
    "        # sampler=RandomSampler()\n",
    "    )\n",
    "\n",
    "    study.optimize(\n",
    "        lambda trial: objective(\n",
    "            trial,\n",
    "            X_train,\n",
    "            y_train,\n",
    "            X_valid,\n",
    "            y_valid\n",
    "        ),\n",
    "        # timeout=HYPERPARAM_TIMEOUT,\n",
    "        n_trials=n_trials,\n",
    "        n_jobs=1\n",
    "    )\n",
    "    tuned_params = study.best_trial.params\n",
    "\n",
    "    # Replace guessed parameter with concrete best values\n",
    "    for key, value in tuned_params.items():\n",
    "        initial_hyperparams[key] = value\n",
    "\n",
    "    return initial_hyperparams"
   ],
   "metadata": {
    "collapsed": false,
    "pycharm": {
     "name": "#%%\n"
    }
   }
  },
  {
   "cell_type": "code",
   "execution_count": null,
   "outputs": [],
   "source": [
    "def objective(\n",
    "    trial: optuna.Trial,\n",
    "    X_train: pd.DataFrame,\n",
    "    y_train: pd.Series,\n",
    "    X_valid: pd.DataFrame,\n",
    "    y_valid: pd.Series\n",
    ") -> float:\n",
    "    \"\"\"\n",
    "    The objective function calculated while tuning hyperparameters.\n",
    "    The suggestions for the next set of hyperparameters on the next round is\n",
    "    performed using Tree Structured Parzen Estimation. The value being optimized\n",
    "    for is mse.\n",
    "    Returns the mse value for the trial calculated on the test set\n",
    "    \"\"\"\n",
    "    train_p_1 = len(y_train) / (len(y_train[y_train == 1]) * 2)\n",
    "    train_p_0 = len(y_train) / (len(y_train[y_train == 0]) * 2)\n",
    "\n",
    "    val_p_1 = len(y_valid) / (len(y_valid[y_valid == 1]) * 2)\n",
    "    val_p_0 = len(y_valid) / (len(y_valid[y_valid == 0]) * 2)\n",
    "\n",
    "    w_train = np.where(y_train == 0, train_p_0, train_p_1)\n",
    "    w_val = np.where(y_valid == 0, val_p_0, val_p_1)\n",
    "\n",
    "    dtrain = xgb.DMatrix(X_train, label = y_train, weight=w_train)\n",
    "    dval = xgb.DMatrix(X_valid, label = y_valid, weight=w_val)\n",
    "\n",
    "    hyperparams = {\n",
    "        'verbosity': 0,\n",
    "        'booster': trial.suggest_categorical(\"booster\", ['gbtree', 'gblinear', 'dart']),\n",
    "        'objective': 'binary:logistic',\n",
    "        'eval_metric': 'auc',\n",
    "        'lambda': trial.suggest_loguniform('lambda', 1e-8, 1.0),\n",
    "        'alpha': trial.suggest_loguniform('alpha', 1e-8, 1.0),\n",
    "    }\n",
    "\n",
    "    if hyperparams[\"booster\"] == \"gbtree\" or hyperparams[\"booster\"] == \"dart\":\n",
    "        hyperparams[\"max_depth\"] = trial.suggest_int(\"max_depth\", 1, 15)\n",
    "        hyperparams[\"eta\"] = trial.suggest_loguniform(\"eta\", 1e-8, 1.0)\n",
    "        hyperparams[\"gamma\"] = trial.suggest_loguniform(\"gamma\", 1e-8, 1.0)\n",
    "        hyperparams[\"grow_policy\"] = trial.suggest_categorical(\"grow_policy\", [\"depthwise\", \"lossguide\"])\n",
    "\n",
    "    if hyperparams[\"booster\"] == \"dart\":\n",
    "        hyperparams[\"sample_type\"] = trial.suggest_categorical(\"sample_type\", [\"uniform\", \"weighted\"])\n",
    "        hyperparams[\"normalize_type\"] = trial.suggest_categorical(\"normalize_type\", [\"tree\", \"forest\"])\n",
    "        hyperparams[\"rate_drop\"] = trial.suggest_loguniform(\"rate_drop\", 1e-8, 1.0)\n",
    "        hyperparams[\"skip_drop\"] = trial.suggest_loguniform(\"skip_drop\", 1e-8, 1.0)\n",
    "\n",
    "    pruning_callback = optuna.integration.XGBoostPruningCallback(trial, \"validation-auc\")\n",
    "    bst = xgb.train(hyperparams, dtrain, evals=[(dval, \"validation\"), (dtrain, 'train')], callbacks=[pruning_callback])\n",
    "    predicts = bst.predict(dval)\n",
    "    predict_y = np.rint(predicts)\n",
    "    accuracy = sklearn.metrics.accuracy_score(y_valid, predict_y)\n",
    "\n",
    "    return accuracy\n"
   ],
   "metadata": {
    "collapsed": false,
    "pycharm": {
     "name": "#%%\n"
    }
   }
  },
  {
   "cell_type": "code",
   "execution_count": 33,
   "outputs": [
    {
     "name": "stderr",
     "output_type": "stream",
     "text": [
      "\u001B[32m[I 2022-02-08 16:21:17,904]\u001B[0m A new study created in memory with name: no-name-da68af7f-d920-4ed3-aac9-1209282f3ed1\u001B[0m\n"
     ]
    },
    {
     "name": "stdout",
     "output_type": "stream",
     "text": [
      "[0]\tvalidation-auc:0.74365\ttrain-auc:0.78517\n",
      "[1]\tvalidation-auc:0.74333\ttrain-auc:0.78531\n",
      "[2]\tvalidation-auc:0.74333\ttrain-auc:0.78526\n",
      "[3]\tvalidation-auc:0.74333\ttrain-auc:0.78531\n",
      "[4]\tvalidation-auc:0.74333\ttrain-auc:0.78531\n",
      "[5]\tvalidation-auc:0.74333\ttrain-auc:0.78531\n",
      "[6]\tvalidation-auc:0.74333\ttrain-auc:0.78531\n",
      "[7]\tvalidation-auc:0.74333\ttrain-auc:0.78531\n",
      "[8]\tvalidation-auc:0.74333\ttrain-auc:0.78531\n",
      "[9]\tvalidation-auc:0.74333\ttrain-auc:0.78531\n"
     ]
    },
    {
     "name": "stderr",
     "output_type": "stream",
     "text": [
      "\u001B[32m[I 2022-02-08 16:21:17,959]\u001B[0m Trial 0 finished with value: 0.6554307116104869 and parameters: {'booster': 'gbtree', 'lambda': 1.2932438004915203e-08, 'alpha': 1.793870717538089e-08, 'max_depth': 6, 'eta': 4.702875370844045e-06, 'gamma': 1.2110748804078487e-07, 'grow_policy': 'lossguide'}. Best is trial 0 with value: 0.6554307116104869.\u001B[0m\n"
     ]
    },
    {
     "name": "stdout",
     "output_type": "stream",
     "text": [
      "[0]\tvalidation-auc:0.75313\ttrain-auc:0.89445\n",
      "[1]\tvalidation-auc:0.73861\ttrain-auc:0.91117\n",
      "[2]\tvalidation-auc:0.74469\ttrain-auc:0.91164\n",
      "[3]\tvalidation-auc:0.74011\ttrain-auc:0.91837\n",
      "[4]\tvalidation-auc:0.75014\ttrain-auc:0.91839\n",
      "[5]\tvalidation-auc:0.75531\ttrain-auc:0.92040\n",
      "[6]\tvalidation-auc:0.74333\ttrain-auc:0.91933\n",
      "[7]\tvalidation-auc:0.74346\ttrain-auc:0.91869\n",
      "[8]\tvalidation-auc:0.75281\ttrain-auc:0.91895\n",
      "[9]\tvalidation-auc:0.75622\ttrain-auc:0.91917\n"
     ]
    },
    {
     "name": "stderr",
     "output_type": "stream",
     "text": [
      "\u001B[32m[I 2022-02-08 16:21:18,031]\u001B[0m Trial 1 finished with value: 0.704119850187266 and parameters: {'booster': 'dart', 'lambda': 7.755023223496657e-05, 'alpha': 0.3517797449882399, 'max_depth': 12, 'eta': 1.5368525667079042e-07, 'gamma': 2.871613128070701e-05, 'grow_policy': 'depthwise', 'sample_type': 'weighted', 'normalize_type': 'forest', 'rate_drop': 0.08516351482995478, 'skip_drop': 3.6607027460529195e-07}. Best is trial 0 with value: 0.6554307116104869.\u001B[0m\n"
     ]
    },
    {
     "name": "stdout",
     "output_type": "stream",
     "text": [
      "[0]\tvalidation-auc:0.74995\ttrain-auc:0.92255\n",
      "[1]\tvalidation-auc:0.74492\ttrain-auc:0.93112\n",
      "[2]\tvalidation-auc:0.74664\ttrain-auc:0.93161\n",
      "[3]\tvalidation-auc:0.74451\ttrain-auc:0.93180\n",
      "[4]\tvalidation-auc:0.74696\ttrain-auc:0.93244\n",
      "[5]\tvalidation-auc:0.74700\ttrain-auc:0.93230\n",
      "[6]\tvalidation-auc:0.74646\ttrain-auc:0.93300\n",
      "[7]\tvalidation-auc:0.74610\ttrain-auc:0.93232\n",
      "[8]\tvalidation-auc:0.74746\ttrain-auc:0.93293\n",
      "[9]\tvalidation-auc:0.74614\ttrain-auc:0.93272\n"
     ]
    },
    {
     "name": "stderr",
     "output_type": "stream",
     "text": [
      "\u001B[32m[I 2022-02-08 16:21:18,117]\u001B[0m Trial 2 finished with value: 0.700374531835206 and parameters: {'booster': 'dart', 'lambda': 0.003187678711725065, 'alpha': 2.4898903085625396e-06, 'max_depth': 13, 'eta': 5.154238347593367e-07, 'gamma': 0.0011408015955122898, 'grow_policy': 'depthwise', 'sample_type': 'uniform', 'normalize_type': 'forest', 'rate_drop': 0.00023997261732153333, 'skip_drop': 0.018552381210077084}. Best is trial 0 with value: 0.6554307116104869.\u001B[0m\n"
     ]
    },
    {
     "name": "stdout",
     "output_type": "stream",
     "text": [
      "[0]\tvalidation-auc:0.75268\ttrain-auc:0.80326\n",
      "[1]\tvalidation-auc:0.75268\ttrain-auc:0.80326\n",
      "[2]\tvalidation-auc:0.75268\ttrain-auc:0.80326\n",
      "[3]\tvalidation-auc:0.75268\ttrain-auc:0.80326\n",
      "[4]\tvalidation-auc:0.75268\ttrain-auc:0.80326\n",
      "[5]\tvalidation-auc:0.75268\ttrain-auc:0.80326\n",
      "[6]\tvalidation-auc:0.75268\ttrain-auc:0.80326\n",
      "[7]\tvalidation-auc:0.75268\ttrain-auc:0.80326\n",
      "[8]\tvalidation-auc:0.75268\ttrain-auc:0.80326\n",
      "[9]\tvalidation-auc:0.75268\ttrain-auc:0.80326\n"
     ]
    },
    {
     "name": "stderr",
     "output_type": "stream",
     "text": [
      "\u001B[32m[I 2022-02-08 16:21:18,175]\u001B[0m Trial 3 finished with value: 0.6554307116104869 and parameters: {'booster': 'dart', 'lambda': 0.6756141805020148, 'alpha': 0.7359794472607434, 'max_depth': 7, 'eta': 0.0008426197997595194, 'gamma': 0.2862847349132567, 'grow_policy': 'lossguide', 'sample_type': 'uniform', 'normalize_type': 'tree', 'rate_drop': 9.084186382831122e-07, 'skip_drop': 0.07431458617695419}. Best is trial 0 with value: 0.6554307116104869.\u001B[0m\n"
     ]
    },
    {
     "name": "stdout",
     "output_type": "stream",
     "text": [
      "[0]\tvalidation-auc:0.71855\ttrain-auc:0.84709\n",
      "[1]\tvalidation-auc:0.72299\ttrain-auc:0.84753\n",
      "[2]\tvalidation-auc:0.72694\ttrain-auc:0.84748\n",
      "[3]\tvalidation-auc:0.71982\ttrain-auc:0.84753\n",
      "[4]\tvalidation-auc:0.72640\ttrain-auc:0.84753\n",
      "[5]\tvalidation-auc:0.71632\ttrain-auc:0.84753\n",
      "[6]\tvalidation-auc:0.72172\ttrain-auc:0.84753\n",
      "[7]\tvalidation-auc:0.73148\ttrain-auc:0.84753\n",
      "[8]\tvalidation-auc:0.71823\ttrain-auc:0.84753\n",
      "[9]\tvalidation-auc:0.73148\ttrain-auc:0.84753\n"
     ]
    },
    {
     "name": "stderr",
     "output_type": "stream",
     "text": [
      "\u001B[32m[I 2022-02-08 16:21:18,226]\u001B[0m Trial 4 finished with value: 0.6629213483146067 and parameters: {'booster': 'gbtree', 'lambda': 1.058429302322612e-06, 'alpha': 0.008778092713465545, 'max_depth': 8, 'eta': 6.853655505860513e-06, 'gamma': 3.0274526829872795e-06, 'grow_policy': 'depthwise'}. Best is trial 0 with value: 0.6554307116104869.\u001B[0m\n",
      "\u001B[32m[I 2022-02-08 16:21:18,232]\u001B[0m Trial 5 pruned. Trial was pruned at iteration 0.\u001B[0m\n"
     ]
    },
    {
     "name": "stdout",
     "output_type": "stream",
     "text": [
      "[0]\tvalidation-auc:0.72767\ttrain-auc:0.77510\n",
      "[1]\tvalidation-auc:0.72767\ttrain-auc:0.77811\n",
      "[2]\tvalidation-auc:0.73716\ttrain-auc:0.80732\n",
      "[3]\tvalidation-auc:0.73716\ttrain-auc:0.80913\n",
      "[4]\tvalidation-auc:0.74351\ttrain-auc:0.80946\n",
      "[5]\tvalidation-auc:0.74351\ttrain-auc:0.80949\n",
      "[6]\tvalidation-auc:0.74351\ttrain-auc:0.80949\n",
      "[7]\tvalidation-auc:0.74333\ttrain-auc:0.78529\n",
      "[8]\tvalidation-auc:0.74333\ttrain-auc:0.78529\n",
      "[9]\tvalidation-auc:0.74333\ttrain-auc:0.78531\n"
     ]
    },
    {
     "name": "stderr",
     "output_type": "stream",
     "text": [
      "\u001B[32m[I 2022-02-08 16:21:18,308]\u001B[0m Trial 6 finished with value: 0.6554307116104869 and parameters: {'booster': 'dart', 'lambda': 4.203172177754777e-07, 'alpha': 4.117736331450081e-07, 'max_depth': 7, 'eta': 5.917335963199186e-08, 'gamma': 0.005714454757574935, 'grow_policy': 'lossguide', 'sample_type': 'weighted', 'normalize_type': 'tree', 'rate_drop': 7.259850309648241e-07, 'skip_drop': 1.3207785807905417e-06}. Best is trial 0 with value: 0.6554307116104869.\u001B[0m\n",
      "\u001B[32m[I 2022-02-08 16:21:18,314]\u001B[0m Trial 7 pruned. Trial was pruned at iteration 0.\u001B[0m\n"
     ]
    },
    {
     "name": "stdout",
     "output_type": "stream",
     "text": [
      "[0]\tvalidation-auc:0.74769\ttrain-auc:0.90041\n"
     ]
    },
    {
     "name": "stderr",
     "output_type": "stream",
     "text": [
      "\u001B[32m[I 2022-02-08 16:21:18,327]\u001B[0m Trial 8 pruned. Trial was pruned at iteration 0.\u001B[0m\n"
     ]
    },
    {
     "name": "stdout",
     "output_type": "stream",
     "text": [
      "[0]\tvalidation-auc:0.74605\ttrain-auc:0.93830\n",
      "[1]\tvalidation-auc:0.74165\ttrain-auc:0.94298\n"
     ]
    },
    {
     "name": "stderr",
     "output_type": "stream",
     "text": [
      "\u001B[32m[I 2022-02-08 16:21:18,350]\u001B[0m Trial 9 pruned. Trial was pruned at iteration 1.\u001B[0m\n"
     ]
    }
   ],
   "source": [
    "study = optuna.create_study(\n",
    "        direction='minimize',\n",
    "        # sampler=TPESampler()\n",
    "        sampler=RandomSampler()\n",
    "\n",
    "    )\n",
    "study.optimize(\n",
    "    lambda trial: objective(\n",
    "        trial,\n",
    "        X_train = test_train_X,\n",
    "        y_train = test.train_y,\n",
    "        X_valid = test_val_X,\n",
    "        y_valid = test.val_y\n",
    "    ),\n",
    "    # timeout=HYPERPARAM_TIMEOUT,\n",
    "    n_trials=10,\n",
    "    n_jobs=1\n",
    ")\n",
    "logger.info(f\"##########################\")\n",
    "logger.info(f\"Best trial from optuna is {study.best_trial}\")\n",
    "logger.info(f\"Best hyperparameters from optuna is {study.best_params}\")\n",
    "logger.info(f\"##########################\")"
   ],
   "metadata": {
    "collapsed": false,
    "pycharm": {
     "name": "#%%\n"
    }
   }
  },
  {
   "cell_type": "code",
   "execution_count": 44,
   "outputs": [
    {
     "data": {
      "text/plain": "{'booster': 'gbtree',\n 'lambda': 1.2932438004915203e-08,\n 'alpha': 1.793870717538089e-08,\n 'max_depth': 6,\n 'eta': 4.702875370844045e-06,\n 'gamma': 1.2110748804078487e-07,\n 'grow_policy': 'lossguide'}"
     },
     "execution_count": 44,
     "metadata": {},
     "output_type": "execute_result"
    }
   ],
   "source": [
    "study.best_params"
   ],
   "metadata": {
    "collapsed": false,
    "pycharm": {
     "name": "#%%\n"
    }
   }
  },
  {
   "cell_type": "code",
   "execution_count": 42,
   "outputs": [],
   "source": [
    "def train_single_run(\n",
    "    X_train: pd.DataFrame,\n",
    "    X_valid: pd.DataFrame,\n",
    "    y_train: pd.Series,\n",
    "    y_valid: pd.Series,\n",
    "    parameters: dict,\n",
    "    num_round: int\n",
    ") -> xgb.train:\n",
    "    \"\"\"\n",
    "    Accepts a set of hyperparameters, a training dataset and a parameters dict\n",
    "    and returns a trained model on this data. Note that both early stopping and\n",
    "    the metric calculation is determined based on trying to maximize the f1score\n",
    "    on the test data, which has the native imbalanced distribution\n",
    "\n",
    "    Return a lightgbm.Booster object\n",
    "    \"\"\"\n",
    "\n",
    "    train_p_1 = len(y_train) / (len(y_train[y_train == 1]) * 2)\n",
    "    train_p_0 = len(y_train) / (len(y_train[y_train == 0]) * 2)\n",
    "\n",
    "    val_p_1 = len(y_valid) / (len(y_valid[y_valid == 1]) * 2)\n",
    "    val_p_0 = len(y_valid) / (len(y_valid[y_valid == 0]) * 2)\n",
    "\n",
    "    w_train = np.where(y_train == 0, train_p_0, train_p_1)\n",
    "    w_val = np.where(y_valid == 0, val_p_0, val_p_1)\n",
    "\n",
    "    dtrain = xgb.DMatrix(X_train, label = y_train, weight=w_train)\n",
    "    dval = xgb.DMatrix(X_valid, label = y_valid, weight=w_val)\n",
    "\n",
    "    evallist = [(dval, 'eval'), (dtrain, 'train')]\n",
    "    model = xgb.train(parameters, dtrain, num_round, evallist)\n",
    "\n",
    "    return model"
   ],
   "metadata": {
    "collapsed": false,
    "pycharm": {
     "name": "#%%\n"
    }
   }
  },
  {
   "cell_type": "code",
   "execution_count": 43,
   "outputs": [
    {
     "name": "stdout",
     "output_type": "stream",
     "text": [
      "[0]\teval-rmse:0.50000\ttrain-rmse:0.50000\n",
      "[1]\teval-rmse:0.50000\ttrain-rmse:0.50000\n",
      "[2]\teval-rmse:0.50000\ttrain-rmse:0.50000\n",
      "[3]\teval-rmse:0.50000\ttrain-rmse:0.50000\n",
      "[4]\teval-rmse:0.50000\ttrain-rmse:0.50000\n",
      "[5]\teval-rmse:0.50000\ttrain-rmse:0.49999\n",
      "[6]\teval-rmse:0.49999\ttrain-rmse:0.49999\n",
      "[7]\teval-rmse:0.49999\ttrain-rmse:0.49999\n",
      "[8]\teval-rmse:0.49999\ttrain-rmse:0.49999\n",
      "[9]\teval-rmse:0.49999\ttrain-rmse:0.49999\n"
     ]
    }
   ],
   "source": [
    "best_model = train_single_run(\n",
    "    X_train=test_train_X,\n",
    "    X_valid=test_val_X,\n",
    "    y_train=test.train_y,\n",
    "    y_valid=test.val_y,\n",
    "    parameters=study.best_params,\n",
    "    num_round=10\n",
    ")"
   ],
   "metadata": {
    "collapsed": false,
    "pycharm": {
     "name": "#%%\n"
    }
   }
  },
  {
   "cell_type": "code",
   "execution_count": 32,
   "outputs": [],
   "source": [],
   "metadata": {
    "collapsed": false,
    "pycharm": {
     "name": "#%%\n"
    }
   }
  },
  {
   "cell_type": "code",
   "execution_count": null,
   "outputs": [],
   "source": [
    "def get_cross_validated_binary_logloss(\n",
    "    X_train: pd.DataFrame,\n",
    "    y_train: pd.Series,\n",
    "    X_valid: pd.DataFrame,\n",
    "    y_valid: pd.Series,\n",
    "    hyperparams: dict,\n",
    ") -> tuple:\n",
    "    \"\"\"\n",
    "    This function takes in the X and y dataframes, splits the data into 5 folds,\n",
    "    trains a model by crossvalidating on all folds with the given hyperparams\n",
    "    an returns the crossvalidated_mse_score across all folds.\n",
    "\n",
    "    Also returns the model trained for this particular run\n",
    "    \"\"\"\n",
    "    kf = KFold(\n",
    "        n_splits=5,\n",
    "        random_state=RANDOM_STATE,\n",
    "        shuffle=True\n",
    "    )\n",
    "\n",
    "    X_train, y_train = shuffle(X_train, y_train, random_state=RANDOM_STATE)\n",
    "\n",
    "    logloss_all_folds = []\n",
    "    for i ,(train_index, test_index) in enumerate(kf.split(X_train)):\n",
    "        X_train_fold, X_test_fold = X_train.iloc[train_index], X_train.iloc[test_index]\n",
    "        y_train_fold, y_test_fold = y_train.iloc[train_index], y_train.iloc[test_index]\n",
    "\n",
    "        train_dataset_fold = lgb.Dataset(X_train_fold, label=y_train_fold, free_raw_data=True)\n",
    "        valid_dataset_fold = lgb.Dataset(X_valid, label=y_valid)\n",
    "\n",
    "        trained_model = train_single_run(\n",
    "            train_dataset=train_dataset_fold,\n",
    "            valid_dataset=valid_dataset_fold,\n",
    "            parameters=hyperparams,\n",
    "        )\n",
    "        # Make predictions with current set of hyperparams\n",
    "        y_hyper = trained_model.predict(X_test_fold)\n",
    "\n",
    "        logloss_fold = log_loss(y_test_fold, y_hyper)\n",
    "        logger.info(f\">>> logloss for fold {i} = {logloss_fold}\")\n",
    "        logloss_all_folds.append(logloss_fold)\n",
    "    logger.info(\">>> Trial parameters:\")\n",
    "    logger.info(hyperparams)\n",
    "\n",
    "    logger.info(f\"The values of logloss for the different folds = {logloss_all_folds}\")\n",
    "    cross_validated_logloss = np.mean(logloss_all_folds)\n",
    "    logger.info(f\">>> Cross-validated mse score for trial: {cross_validated_logloss}\")\n",
    "    return trained_model, cross_validated_logloss"
   ],
   "metadata": {
    "collapsed": false,
    "pycharm": {
     "name": "#%%\n"
    }
   }
  }
 ],
 "metadata": {
  "interpreter": {
   "hash": "be930e4ecfc02ffad0fba66b413e4f417b9fdbeb111e734ba3e0fce78218e52b"
  },
  "kernelspec": {
   "display_name": "Python 3.9.1 64-bit ('foundation': conda)",
   "language": "python",
   "name": "python3"
  },
  "language_info": {
   "codemirror_mode": {
    "name": "ipython",
    "version": 3
   },
   "file_extension": ".py",
   "mimetype": "text/x-python",
   "name": "python",
   "nbconvert_exporter": "python",
   "pygments_lexer": "ipython3",
   "version": "3.9.1"
  },
  "orig_nbformat": 4
 },
 "nbformat": 4,
 "nbformat_minor": 2
}