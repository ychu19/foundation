{
 "cells": [
  {
   "cell_type": "code",
   "execution_count": 1,
   "metadata": {},
   "outputs": [],
   "source": [
    "# import packages\n",
    "import pandas as pd\n",
    "pd.options.mode.chained_assignment = None\n",
    "import numpy as np\n",
    "from tqdm import tqdm\n",
    "\n",
    "import matplotlib.pyplot as plt\n",
    "import seaborn as sns\n",
    "\n",
    "from sklearn.model_selection import train_test_split, GridSearchCV\n",
    "# from sklearn.feature_extraction.text import CountVectorizer\n",
    "from sklearn.linear_model import (\n",
    "    LogisticRegression\n",
    ")\n",
    "\n",
    "from sklearn.ensemble import (\n",
    "    RandomForestClassifier,\n",
    "    AdaBoostClassifier,\n",
    "    BaggingClassifier,\n",
    "    GradientBoostingClassifier\n",
    ")\n",
    "from imblearn.ensemble import BalancedBaggingClassifier\n",
    "import xgboost as xgb\n",
    "\n",
    "\n",
    "from sklearn.cluster import KMeans\n",
    "\n",
    "from sklearn.svm import (\n",
    "    LinearSVC,\n",
    "    SVC\n",
    ")\n",
    "\n",
    "from sklearn.metrics import (\n",
    "    precision_recall_curve, \n",
    "    f1_score, \n",
    "    roc_curve,\n",
    "    auc,\n",
    "    precision_score,\n",
    "    recall_score,\n",
    "    mean_squared_error,\n",
    "    confusion_matrix\n",
    ")\n",
    "\n",
    "import scipy.stats as st\n",
    "import os\n",
    "\n",
    "from training import (\n",
    "    plot_auc_roc, plot_recision_recall_f1, \n",
    "    plot_countbar, plot_line,\n",
    "    plot_diff_in_means, plot_cross_tab_heatmap, \n",
    "    plot_predictions_by_scores, feature_engineering\n",
    ")"
   ]
  },
  {
   "cell_type": "code",
   "execution_count": 2,
   "metadata": {},
   "outputs": [],
   "source": [
    "list_of_file_names = []\n",
    "for file in os.listdir('data_full_review_cleaned/'):\n",
    "   if file.endswith(\".pkl\"):\n",
    "      list_of_file_names.append(os.path.join(file))"
   ]
  },
  {
   "cell_type": "code",
   "execution_count": 3,
   "metadata": {},
   "outputs": [
    {
     "data": {
      "text/plain": [
       "'Armani_Beauty_Neo_Nude_Foundation.pkl'"
      ]
     },
     "execution_count": 3,
     "metadata": {},
     "output_type": "execute_result"
    }
   ],
   "source": [
    "list_of_file_names[0]"
   ]
  },
  {
   "cell_type": "code",
   "execution_count": 4,
   "metadata": {},
   "outputs": [
    {
     "data": {
      "text/plain": [
       "'Armani_Beauty_Neo_Nude_Foundation'"
      ]
     },
     "execution_count": 4,
     "metadata": {},
     "output_type": "execute_result"
    }
   ],
   "source": [
    "product = list_of_file_names[0].replace('.pkl', '')\n",
    "product"
   ]
  },
  {
   "cell_type": "code",
   "execution_count": 5,
   "metadata": {},
   "outputs": [],
   "source": [
    "test = feature_engineering(product_name = list_of_file_names[0])\n",
    "test_train_X, test_val_X = test.feature_engineering()\n"
   ]
  },
  {
   "cell_type": "code",
   "execution_count": 6,
   "metadata": {},
   "outputs": [
    {
     "data": {
      "text/plain": [
       "Index(['Dark', 'Deep', 'Ebony', 'Fair', 'Light', 'Medium', 'Olive',\n",
       "       'Porcelain', 'Tan', 'Combination', 'Dry', 'Normal', 'Oily',\n",
       "       'Combination_Dark', 'Combination_Deep', 'Combination_Ebony',\n",
       "       'Combination_Fair', 'Combination_Light', 'Combination_Medium',\n",
       "       'Combination_Olive', 'Combination_Porcelain', 'Combination_Tan',\n",
       "       'Dry_Dark', 'Dry_Deep', 'Dry_Ebony', 'Dry_Fair', 'Dry_Light',\n",
       "       'Dry_Medium', 'Dry_Olive', 'Dry_Porcelain', 'Dry_Tan', 'Normal_Dark',\n",
       "       'Normal_Deep', 'Normal_Ebony', 'Normal_Fair', 'Normal_Light',\n",
       "       'Normal_Medium', 'Normal_Olive', 'Normal_Porcelain', 'Normal_Tan',\n",
       "       'Oily_Dark', 'Oily_Deep', 'Oily_Ebony', 'Oily_Fair', 'Oily_Light',\n",
       "       'Oily_Medium', 'Oily_Olive', 'Oily_Porcelain', 'Oily_Tan',\n",
       "       'Auburn_hair', 'Black_hair', 'Blonde_hair', 'Brunette_hair',\n",
       "       'Gray_hair', 'Red_hair', 'Blue_eye', 'Brown_eye', 'Gray_eye',\n",
       "       'Green_eye', 'Hazel_eye', 'skin_tone_cat', 'finish', 'coverage',\n",
       "       'shade_match', 'gifted', 'days_since_launch_scaled',\n",
       "       'month_of_purchase'],\n",
       "      dtype='object')"
      ]
     },
     "execution_count": 6,
     "metadata": {},
     "output_type": "execute_result"
    }
   ],
   "source": [
    "test_train_X.columns"
   ]
  },
  {
   "cell_type": "code",
   "execution_count": 7,
   "metadata": {},
   "outputs": [
    {
     "data": {
      "text/plain": [
       "1.0"
      ]
     },
     "execution_count": 7,
     "metadata": {},
     "output_type": "execute_result"
    }
   ],
   "source": [
    "len(test_train_X[test_train_X.isna()]) / len(test_train_X)"
   ]
  },
  {
   "cell_type": "code",
   "execution_count": 9,
   "metadata": {},
   "outputs": [
    {
     "data": {
      "text/plain": [
       "Index(['Dark', 'Deep', 'Ebony', 'Fair', 'Light', 'Medium', 'Olive',\n",
       "       'Porcelain', 'Tan', 'Combination', 'Dry', 'Normal', 'Oily',\n",
       "       'Combination_Dark', 'Combination_Deep', 'Combination_Ebony',\n",
       "       'Combination_Fair', 'Combination_Light', 'Combination_Medium',\n",
       "       'Combination_Olive', 'Combination_Porcelain', 'Combination_Tan',\n",
       "       'Dry_Dark', 'Dry_Deep', 'Dry_Ebony', 'Dry_Fair', 'Dry_Light',\n",
       "       'Dry_Medium', 'Dry_Olive', 'Dry_Porcelain', 'Dry_Tan', 'Normal_Dark',\n",
       "       'Normal_Deep', 'Normal_Ebony', 'Normal_Fair', 'Normal_Light',\n",
       "       'Normal_Medium', 'Normal_Olive', 'Normal_Porcelain', 'Normal_Tan',\n",
       "       'Oily_Dark', 'Oily_Deep', 'Oily_Ebony', 'Oily_Fair', 'Oily_Light',\n",
       "       'Oily_Medium', 'Oily_Olive', 'Oily_Porcelain', 'Oily_Tan',\n",
       "       'Auburn_hair', 'Black_hair', 'Blonde_hair', 'Brunette_hair',\n",
       "       'Gray_hair', 'Red_hair', 'Blue_eye', 'Brown_eye', 'Gray_eye',\n",
       "       'Green_eye', 'Hazel_eye', 'skin_tone_cat', 'finish', 'coverage',\n",
       "       'shade_match', 'gifted', 'days_since_launch_scaled',\n",
       "       'month_of_purchase'],\n",
       "      dtype='object')"
      ]
     },
     "execution_count": 9,
     "metadata": {},
     "output_type": "execute_result"
    }
   ],
   "source": [
    "test_train_X.columns"
   ]
  },
  {
   "cell_type": "code",
   "execution_count": 12,
   "metadata": {},
   "outputs": [
    {
     "data": {
      "text/plain": [
       "842"
      ]
     },
     "execution_count": 12,
     "metadata": {},
     "output_type": "execute_result"
    }
   ],
   "source": [
    "len(test.train_X_transformed)"
   ]
  },
  {
   "cell_type": "code",
   "execution_count": null,
   "metadata": {},
   "outputs": [],
   "source": [
    "plot_countbar(data = test.data, product = test.product_name, col1 = 'month_of_purchase')"
   ]
  },
  {
   "cell_type": "code",
   "execution_count": null,
   "metadata": {},
   "outputs": [],
   "source": [
    "plot_line(data = test.data, product = test.product_name, col1 = 'days_since_launch')"
   ]
  },
  {
   "cell_type": "code",
   "execution_count": 13,
   "metadata": {},
   "outputs": [
    {
     "data": {
      "image/png": "[encoded data removed]",
      "text/plain": [
       "<Figure size 720x576 with 2 Axes>"
      ]
     },
     "metadata": {
      "needs_background": "light"
     },
     "output_type": "display_data"
    }
   ],
   "source": [
    "plot_cross_tab_heatmap(data = test.data, product= test.product_name, col1 = 'skin_tone', col2 = 'skin_type', col3 = 'rating')"
   ]
  },
  {
   "cell_type": "code",
   "execution_count": 14,
   "metadata": {},
   "outputs": [
    {
     "data": {
      "text/plain": [
       "0.8761429758935994"
      ]
     },
     "execution_count": 14,
     "metadata": {},
     "output_type": "execute_result"
    }
   ],
   "source": [
    "sum(test.y) / len(test.data)"
   ]
  },
  {
   "cell_type": "code",
   "execution_count": 17,
   "metadata": {},
   "outputs": [
    {
     "data": {
      "text/plain": [
       "842"
      ]
     },
     "execution_count": 17,
     "metadata": {},
     "output_type": "execute_result"
    }
   ],
   "source": [
    "len(test_train_X[~test_train_X.isna()])"
   ]
  },
  {
   "cell_type": "code",
   "execution_count": 18,
   "metadata": {},
   "outputs": [
    {
     "data": {
      "text/plain": [
       "842"
      ]
     },
     "execution_count": 18,
     "metadata": {},
     "output_type": "execute_result"
    }
   ],
   "source": [
    "len(test_train_X)"
   ]
  },
  {
   "cell_type": "code",
   "execution_count": 19,
   "metadata": {},
   "outputs": [],
   "source": [
    "logit = LogisticRegression(penalty='none',random_state=0, max_iter=1000, class_weight='balanced').fit(test_train_X, test.train_y)"
   ]
  },
  {
   "cell_type": "code",
   "execution_count": 20,
   "metadata": {},
   "outputs": [],
   "source": [
    "predict_y = logit.predict_proba(test_val_X)[:, 1]"
   ]
  },
  {
   "cell_type": "code",
   "execution_count": 21,
   "metadata": {},
   "outputs": [
    {
     "data": {
      "image/png": "[encoded data removed]",
      "text/plain": [
       "<Figure size 432x288 with 1 Axes>"
      ]
     },
     "metadata": {
      "needs_background": "light"
     },
     "output_type": "display_data"
    },
    {
     "data": {
      "text/plain": [
       "<Figure size 432x288 with 0 Axes>"
      ]
     },
     "metadata": {},
     "output_type": "display_data"
    }
   ],
   "source": [
    "plot_predictions_by_scores(predict_y, test.val_y, bins = 100, model = 'logit', product= test.product_name)"
   ]
  },
  {
   "cell_type": "code",
   "execution_count": 22,
   "metadata": {},
   "outputs": [
    {
     "data": {
      "image/png": "[encoded data removed]",
      "text/plain": [
       "<Figure size 432x288 with 1 Axes>"
      ]
     },
     "metadata": {
      "needs_background": "light"
     },
     "output_type": "display_data"
    }
   ],
   "source": [
    "plot_auc_roc(predict_y, test.val_y, product = test.product_name, model = 'logit')"
   ]
  },
  {
   "cell_type": "code",
   "execution_count": 23,
   "metadata": {},
   "outputs": [],
   "source": [
    "bbc = BalancedBaggingClassifier(random_state=0).fit(test_train_X, test.train_y)\n",
    "predict_y = bbc.predict_proba(test_val_X)[:, 1]"
   ]
  },
  {
   "cell_type": "code",
   "execution_count": null,
   "metadata": {},
   "outputs": [],
   "source": [
    "\n",
    "Bag = BaggingClassifier(n_estimators=1000, random_state=0).fit(test_train_X, test.train_y)\n",
    "predict_y = Bag.predict_proba(test_val_X)[:, 1]"
   ]
  },
  {
   "cell_type": "code",
   "execution_count": 26,
   "metadata": {},
   "outputs": [
    {
     "data": {
      "image/png": "[encoded data removed]",
      "text/plain": [
       "<Figure size 432x288 with 1 Axes>"
      ]
     },
     "metadata": {
      "needs_background": "light"
     },
     "output_type": "display_data"
    },
    {
     "data": {
      "text/plain": [
       "<Figure size 432x288 with 0 Axes>"
      ]
     },
     "metadata": {},
     "output_type": "display_data"
    }
   ],
   "source": [
    "plot_predictions_by_scores(predict_y, test.val_y, bins = 10, model = 'bagging', product= product)"
   ]
  },
  {
   "cell_type": "code",
   "execution_count": 27,
   "metadata": {},
   "outputs": [
    {
     "data": {
      "image/png": "[encoded data removed]",
      "text/plain": [
       "<Figure size 432x288 with 1 Axes>"
      ]
     },
     "metadata": {
      "needs_background": "light"
     },
     "output_type": "display_data"
    }
   ],
   "source": [
    "plot_auc_roc(predict_y, test.val_y, product = test.product_name, model = 'bagging')"
   ]
  },
  {
   "cell_type": "code",
   "execution_count": 123,
   "metadata": {},
   "outputs": [],
   "source": [
    "train_p_1 = len(test.train_y) / (len(test.train_y[test.train_y == 1]) * 2)\n",
    "train_p_0 = len(test.train_y) / (len(test.train_y[test.train_y == 0]) * 2)\n",
    "\n",
    "val_p_1 = len(test.val_y) / (len(test.val_y[test.val_y == 1]) * 2) \n",
    "val_p_0 = len(test.val_y) / (len(test.val_y[test.val_y == 0]) * 2) \n",
    "# val_p = len(test.val_y) / (len(test.val_y) * 2) \n",
    "# wj= n_samples / (n_classes * n_samplesj)\n",
    "w_train = np.where(test.train_y == 0, train_p_0, train_p_1)\n",
    "w_val = np.where(test.val_y == 0, val_p_0, val_p_1)\n",
    "\n",
    "dtrain = xgb.DMatrix(test_train_X, label = test.train_y, weight=w_train)\n",
    "dval = xgb.DMatrix(test_val_X, label = test.val_y, weight=w_val)"
   ]
  },
  {
   "cell_type": "code",
   "execution_count": 151,
   "metadata": {},
   "outputs": [],
   "source": [
    "param = {'max_depth': 7, 'objective': 'binary:logistic', 'eta': 0.2, 'lambda': 0.5, 'alpha': 0.7, 'gamma': 5}\n",
    "param['nthread'] = 4\n",
    "param['eval_metric'] = 'auc'\n",
    "evallist = [(dval, 'eval'), (dtrain, 'train')]"
   ]
  },
  {
   "cell_type": "code",
   "execution_count": 154,
   "metadata": {},
   "outputs": [
    {
     "name": "stdout",
     "output_type": "stream",
     "text": [
      "[0]\teval-auc:0.82709\ttrain-auc:0.84736\n",
      "[1]\teval-auc:0.82709\ttrain-auc:0.84741\n",
      "[2]\teval-auc:0.84189\ttrain-auc:0.87528\n",
      "[3]\teval-auc:0.83402\ttrain-auc:0.89143\n",
      "[4]\teval-auc:0.83827\ttrain-auc:0.89339\n",
      "[5]\teval-auc:0.84565\ttrain-auc:0.90233\n",
      "[6]\teval-auc:0.85276\ttrain-auc:0.90949\n",
      "[7]\teval-auc:0.85276\ttrain-auc:0.90958\n",
      "[8]\teval-auc:0.85276\ttrain-auc:0.90938\n",
      "[9]\teval-auc:0.85276\ttrain-auc:0.90845\n",
      "[10]\teval-auc:0.85197\ttrain-auc:0.90845\n",
      "[11]\teval-auc:0.85055\ttrain-auc:0.90848\n",
      "[12]\teval-auc:0.85038\ttrain-auc:0.90960\n",
      "[13]\teval-auc:0.85024\ttrain-auc:0.90978\n",
      "[14]\teval-auc:0.85024\ttrain-auc:0.90978\n"
     ]
    }
   ],
   "source": [
    "num_round = 15\n",
    "bst = xgb.train(param, dtrain, num_round, evallist)"
   ]
  },
  {
   "cell_type": "code",
   "execution_count": 155,
   "metadata": {},
   "outputs": [],
   "source": [
    "# os.makedirs(f'models/{test.product_name}')\n",
    "bst.save_model(f'models/{test.product_name}/{test.product_name}_xgboost.model')"
   ]
  },
  {
   "cell_type": "code",
   "execution_count": null,
   "metadata": {},
   "outputs": [],
   "source": []
  }
 ],
 "metadata": {
  "interpreter": {
   "hash": "be930e4ecfc02ffad0fba66b413e4f417b9fdbeb111e734ba3e0fce78218e52b"
  },
  "kernelspec": {
   "display_name": "Python 3.9.1 64-bit ('foundation': conda)",
   "language": "python",
   "name": "python3"
  },
  "language_info": {
   "codemirror_mode": {
    "name": "ipython",
    "version": 3
   },
   "file_extension": ".py",
   "mimetype": "text/x-python",
   "name": "python",
   "nbconvert_exporter": "python",
   "pygments_lexer": "ipython3",
   "version": "3.9.1"
  },
  "orig_nbformat": 4
 },
 "nbformat": 4,
 "nbformat_minor": 2
}
