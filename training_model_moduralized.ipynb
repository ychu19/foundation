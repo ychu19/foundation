{
 "cells": [
  {
   "cell_type": "code",
   "execution_count": 3,
   "outputs": [],
   "source": [
    "import pandas as pd\n",
    "import sklearn.metrics\n",
    "\n",
    "pd.options.mode.chained_assignment = None\n",
    "import numpy as np\n",
    "from tqdm import tqdm\n",
    "\n",
    "import xgboost as xgb\n",
    "\n",
    "import optuna\n",
    "from optuna.samplers import RandomSampler, TPESampler\n",
    "from sklearn.utils import shuffle\n",
    "from sklearn.metrics import mean_squared_error, log_loss, roc_auc_score, accuracy_score, precision_score, recall_score, f1_score\n",
    "import lightgbm as lgb\n",
    "\n",
    "import os\n",
    "\n",
    "from training import (\n",
    "    plot_auc_roc, plot_recision_recall_f1, \n",
    "    plot_countbar, plot_line,\n",
    "    plot_diff_in_means, plot_cross_tab_heatmap, \n",
    "    plot_predictions_by_scores,\n",
    "    model_training\n",
    ")\n",
    "\n",
    "from datetime import datetime\n",
    "import logging\n",
    "NOW = datetime.today().isoformat()[:19]\n",
    "logging.basicConfig(\n",
    "    filemode='a',\n",
    "    filename=f'./logs/{NOW}_outputlog.log',\n",
    "    format='%(asctime)s,%(msecs)d %(name)s %(levelname)s %(message)s',\n",
    "    datefmt='%H:%M:%S',\n",
    "    level=logging.INFO\n",
    ")\n",
    "\n",
    "logger = logging.getLogger(__name__)\n",
    "logger.info(\"++++++++++++++++++++++++++++++++++++++++++++++++++++\")"
   ],
   "metadata": {
    "collapsed": false,
    "pycharm": {
     "name": "#%%\n"
    }
   }
  },
  {
   "cell_type": "code",
   "execution_count": 2,
   "outputs": [],
   "source": [
    "# to get the cleaned data from directory\n",
    "list_of_file_names = []\n",
    "for file in os.listdir('data_full_review_cleaned/'):\n",
    "   if file.endswith(\".json\"):\n",
    "      list_of_file_names.append(os.path.join(file))"
   ],
   "metadata": {
    "collapsed": false,
    "pycharm": {
     "name": "#%%\n"
    }
   }
  },
  {
   "cell_type": "code",
   "execution_count": null,
   "outputs": [],
   "source": [
    "# preparing the dataframe for foundations\n",
    "list_of_foundations = pd.read_csv('foundation_from_sephora_with_url.csv')\n",
    "list_of_foundations['model'] = None\n",
    "## placeholder for path to trained models\n",
    "list_of_foundations['threshold'] = float()\n",
    "## placeholder for best threshold\n",
    "list_of_foundations['auc'] = float()\n",
    "## placeholder for performance metrics (ROC-AUC) for each of the models\n",
    "list_of_foundations.head()"
   ],
   "metadata": {
    "collapsed": false,
    "pycharm": {
     "name": "#%%\n"
    }
   }
  },
  {
   "cell_type": "code",
   "execution_count": null,
   "outputs": [],
   "source": [
    "# training models\n",
    "for i in range(len(list_of_file_names)):\n",
    "    product = model_training(file_name = list_of_file_names[i], random_seeds = 0, logger = logger)\n",
    "    if len(product.data) <= 200:\n",
    "        logger.info(f'N = {len(product.data)} (<= 200), dropped for training')\n",
    "        continue\n",
    "    product.train_test_split()\n",
    "    product.dropping_outlier_reviewers()\n",
    "    product.feature_engineering() # one-hot encoding and feature crossing\n",
    "\n",
    "    product.grid_search()\n",
    "    product.train_xgb_classifier()\n",
    "    product.thresholding()\n",
    "\n",
    "    index = list_of_foundations.index[list_of_foundations['brand_product'] == product.product_name].tolist()[0]\n",
    "    list_of_foundations.loc[index, 'model'] = f'{product.product_name}_xgb.model'\n",
    "    list_of_foundations.loc[index, 'threshold'] = product.best_threshold\n",
    "    list_of_foundations.loc[index, 'auc'] = roc_auc_score(product.val_y, product.predict_y)\n",
    "\n",
    "    product.plot_predictions_by_scores(val_y = product.val_y, product=product.product_name, model = 'xgb')\n",
    "    product.plot_precision_recall_f1(val_y=product.val_y, product=product.product_name, model='xgb')\n",
    "    product.plot_auc_roc(val_y=product.val_y, product=product.product_name, model = 'xgb')"
   ],
   "metadata": {
    "collapsed": false,
    "pycharm": {
     "name": "#%%\n"
    }
   }
  },
  {
   "cell_type": "code",
   "execution_count": 19,
   "outputs": [],
   "source": [
    "list_of_foundations.to_json(\"list_of_foundations_with_models.json\", orient=\"records\", lines=True)"
   ],
   "metadata": {
    "collapsed": false,
    "pycharm": {
     "name": "#%%\n"
    }
   }
  },
  {
   "cell_type": "code",
   "execution_count": 3,
   "outputs": [
    {
     "name": "stderr",
     "output_type": "stream",
     "text": [
      "100%|██████████| 102/102 [00:04<00:00, 23.63it/s]\n"
     ]
    }
   ],
   "source": [
    "## saving one-hot encoder\n",
    "for i in tqdm(range(len(list_of_file_names))):\n",
    "    product = model_training(file_name = list_of_file_names[i], random_seeds = 0, logger = logger)\n",
    "    if len(product.data) <= 200:\n",
    "        logger.info(f'N = {len(product.data)} (<= 200), dropped for training')\n",
    "        continue\n",
    "    product.train_test_split()\n",
    "    product.dropping_outlier_reviewers()\n",
    "    product.feature_engineering()"
   ],
   "metadata": {
    "collapsed": false,
    "pycharm": {
     "name": "#%%\n"
    }
   }
  },
  {
   "cell_type": "code",
   "execution_count": 4,
   "outputs": [
    {
     "data": {
      "text/plain": "102"
     },
     "execution_count": 4,
     "metadata": {},
     "output_type": "execute_result"
    }
   ],
   "source": [
    "len(list_of_file_names)"
   ],
   "metadata": {
    "collapsed": false,
    "pycharm": {
     "name": "#%%\n"
    }
   }
  },
  {
   "cell_type": "code",
   "execution_count": 30,
   "outputs": [],
   "source": [
    "file_name = \"tarte_Amazonian_Clay_BB_Tinted_Moisturizer_Broad_Spectrum_SPF_20_Sunscreen.json\"\n",
    "product = model_training(file_name=file_name, random_seeds=0, logger=logger)\n",
    "product.train_test_split()\n",
    "product.dropping_outlier_reviewers()\n",
    "product.feature_engineering()"
   ],
   "metadata": {
    "collapsed": false,
    "pycharm": {
     "name": "#%%\n"
    }
   }
  },
  {
   "cell_type": "code",
   "execution_count": 31,
   "outputs": [
    {
     "data": {
      "text/plain": "Index(['Fair', 'Light', 'Medium', 'Olive', 'Porcelain'], dtype='object')"
     },
     "execution_count": 31,
     "metadata": {},
     "output_type": "execute_result"
    }
   ],
   "source": [
    "product.skin_tone_one_hot_train.columns"
   ],
   "metadata": {
    "collapsed": false,
    "pycharm": {
     "name": "#%%\n"
    }
   }
  },
  {
   "cell_type": "code",
   "execution_count": 4,
   "outputs": [],
   "source": [
    "import pickle\n",
    "with open('models/CLINIQUE_Even_Better_Foundation_Makeup_Broad_Spectrum_SPF_15/col_names_CLINIQUE_Even_Better_Foundation_Makeup_Broad_Spectrum_SPF_15_skin_tone.pickle', 'rb') as f:\n",
    "    col_names_dicts = pickle.load(f)"
   ],
   "metadata": {
    "collapsed": false,
    "pycharm": {
     "name": "#%%\n"
    }
   }
  },
  {
   "cell_type": "code",
   "execution_count": 5,
   "outputs": [
    {
     "data": {
      "text/plain": "{0: 'Dark', 1: 'Deep', 2: 'Fair', 3: 'Light', 4: 'Medium', 5: 'Olive'}"
     },
     "execution_count": 5,
     "metadata": {},
     "output_type": "execute_result"
    }
   ],
   "source": [
    "col_names_dicts"
   ],
   "metadata": {
    "collapsed": false,
    "pycharm": {
     "name": "#%%\n"
    }
   }
  },
  {
   "cell_type": "code",
   "execution_count": 6,
   "outputs": [],
   "source": [
    "with open('models/CLINIQUE_Even_Better_Foundation_Makeup_Broad_Spectrum_SPF_15/encoder_CLINIQUE_Even_Better_Foundation_Makeup_Broad_Spectrum_SPF_15_skin_tone.pickle', 'rb') as f:\n",
    "    encoder = pickle.load(f)"
   ],
   "metadata": {
    "collapsed": false,
    "pycharm": {
     "name": "#%%\n"
    }
   }
  },
  {
   "cell_type": "code",
   "execution_count": 7,
   "outputs": [
    {
     "data": {
      "text/plain": "array([[0., 1., 0., 0., 0., 0.],\n       [0., 1., 0., 0., 0., 0.],\n       [0., 1., 0., 0., 0., 0.],\n       [0., 0., 1., 0., 0., 0.],\n       [0., 0., 0., 1., 0., 0.],\n       [0., 0., 0., 0., 1., 0.],\n       [0., 0., 0., 1., 0., 0.],\n       [0., 1., 0., 0., 0., 0.],\n       [0., 0., 1., 0., 0., 0.],\n       [0., 0., 0., 1., 0., 0.],\n       [0., 0., 0., 1., 0., 0.],\n       [0., 0., 1., 0., 0., 0.],\n       [0., 1., 0., 0., 0., 0.],\n       [0., 1., 0., 0., 0., 0.],\n       [0., 0., 1., 0., 0., 0.],\n       [0., 1., 0., 0., 0., 0.],\n       [1., 0., 0., 0., 0., 0.],\n       [0., 0., 1., 0., 0., 0.],\n       [0., 0., 0., 0., 0., 1.],\n       [0., 0., 1., 0., 0., 0.],\n       [0., 0., 0., 0., 0., 1.],\n       [0., 0., 0., 1., 0., 0.],\n       [0., 1., 0., 0., 0., 0.],\n       [0., 1., 0., 0., 0., 0.],\n       [0., 0., 0., 1., 0., 0.],\n       [0., 0., 1., 0., 0., 0.],\n       [1., 0., 0., 0., 0., 0.],\n       [0., 0., 1., 0., 0., 0.],\n       [0., 1., 0., 0., 0., 0.],\n       [0., 0., 1., 0., 0., 0.],\n       [0., 0., 0., 1., 0., 0.],\n       [0., 0., 1., 0., 0., 0.],\n       [0., 0., 0., 1., 0., 0.],\n       [0., 0., 1., 0., 0., 0.],\n       [0., 1., 0., 0., 0., 0.],\n       [0., 0., 0., 0., 1., 0.],\n       [0., 0., 0., 1., 0., 0.],\n       [0., 1., 0., 0., 0., 0.],\n       [0., 0., 1., 0., 0., 0.],\n       [0., 0., 1., 0., 0., 0.],\n       [1., 0., 0., 0., 0., 0.],\n       [0., 0., 1., 0., 0., 0.],\n       [0., 0., 0., 1., 0., 0.],\n       [0., 0., 1., 0., 0., 0.],\n       [0., 1., 0., 0., 0., 0.],\n       [0., 0., 1., 0., 0., 0.],\n       [0., 1., 0., 0., 0., 0.],\n       [0., 0., 0., 1., 0., 0.],\n       [0., 1., 0., 0., 0., 0.],\n       [0., 0., 1., 0., 0., 0.],\n       [0., 0., 1., 0., 0., 0.],\n       [0., 0., 1., 0., 0., 0.],\n       [0., 0., 0., 0., 1., 0.],\n       [0., 0., 0., 1., 0., 0.],\n       [0., 0., 0., 0., 1., 0.],\n       [0., 1., 0., 0., 0., 0.],\n       [0., 0., 0., 0., 0., 1.],\n       [0., 0., 0., 1., 0., 0.],\n       [0., 0., 0., 0., 0., 1.],\n       [1., 0., 0., 0., 0., 0.],\n       [0., 0., 1., 0., 0., 0.],\n       [0., 1., 0., 0., 0., 0.],\n       [0., 0., 0., 0., 1., 0.],\n       [0., 1., 0., 0., 0., 0.],\n       [0., 1., 0., 0., 0., 0.],\n       [0., 0., 1., 0., 0., 0.],\n       [0., 0., 0., 0., 0., 1.],\n       [0., 1., 0., 0., 0., 0.],\n       [0., 0., 1., 0., 0., 0.],\n       [0., 0., 1., 0., 0., 0.],\n       [0., 0., 0., 0., 1., 0.],\n       [0., 0., 0., 0., 1., 0.],\n       [0., 0., 1., 0., 0., 0.],\n       [0., 1., 0., 0., 0., 0.],\n       [0., 0., 1., 0., 0., 0.],\n       [0., 0., 1., 0., 0., 0.],\n       [0., 0., 1., 0., 0., 0.],\n       [0., 0., 1., 0., 0., 0.],\n       [0., 1., 0., 0., 0., 0.],\n       [0., 1., 0., 0., 0., 0.],\n       [0., 1., 0., 0., 0., 0.],\n       [0., 0., 1., 0., 0., 0.],\n       [0., 1., 0., 0., 0., 0.],\n       [0., 0., 1., 0., 0., 0.],\n       [0., 0., 0., 1., 0., 0.],\n       [0., 0., 0., 1., 0., 0.],\n       [0., 0., 0., 1., 0., 0.],\n       [0., 1., 0., 0., 0., 0.],\n       [0., 0., 1., 0., 0., 0.],\n       [0., 1., 0., 0., 0., 0.],\n       [0., 0., 0., 1., 0., 0.],\n       [0., 0., 1., 0., 0., 0.],\n       [0., 0., 1., 0., 0., 0.],\n       [1., 0., 0., 0., 0., 0.],\n       [0., 0., 1., 0., 0., 0.],\n       [0., 0., 1., 0., 0., 0.],\n       [0., 0., 1., 0., 0., 0.],\n       [0., 0., 0., 0., 0., 1.],\n       [0., 0., 1., 0., 0., 0.],\n       [0., 1., 0., 0., 0., 0.],\n       [0., 0., 1., 0., 0., 0.],\n       [0., 1., 0., 0., 0., 0.],\n       [0., 0., 1., 0., 0., 0.],\n       [0., 0., 0., 0., 1., 0.],\n       [0., 1., 0., 0., 0., 0.],\n       [1., 0., 0., 0., 0., 0.],\n       [0., 0., 1., 0., 0., 0.]])"
     },
     "execution_count": 7,
     "metadata": {},
     "output_type": "execute_result"
    }
   ],
   "source": [
    "encoder.transform(product.val_X[['skin_tone']])"
   ],
   "metadata": {
    "collapsed": false,
    "pycharm": {
     "name": "#%%\n"
    }
   }
  },
  {
   "cell_type": "code",
   "execution_count": 8,
   "outputs": [
    {
     "data": {
      "text/plain": "Empty DataFrame\nColumns: [hair_color, eye_color, skin_tone, skin_type, skin_tone_cat, finish, coverage, shade_match, gifted, days_since_launch_scaled, month_of_purchase]\nIndex: []",
      "text/html": "<div>\n<style scoped>\n    .dataframe tbody tr th:only-of-type {\n        vertical-align: middle;\n    }\n\n    .dataframe tbody tr th {\n        vertical-align: top;\n    }\n\n    .dataframe thead th {\n        text-align: right;\n    }\n</style>\n<table border=\"1\" class=\"dataframe\">\n  <thead>\n    <tr style=\"text-align: right;\">\n      <th></th>\n      <th>hair_color</th>\n      <th>eye_color</th>\n      <th>skin_tone</th>\n      <th>skin_type</th>\n      <th>skin_tone_cat</th>\n      <th>finish</th>\n      <th>coverage</th>\n      <th>shade_match</th>\n      <th>gifted</th>\n      <th>days_since_launch_scaled</th>\n      <th>month_of_purchase</th>\n    </tr>\n  </thead>\n  <tbody>\n  </tbody>\n</table>\n</div>"
     },
     "execution_count": 8,
     "metadata": {},
     "output_type": "execute_result"
    }
   ],
   "source": [
    "product.val_X[product.val_X['skin_tone']=='Olive']"
   ],
   "metadata": {
    "collapsed": false,
    "pycharm": {
     "name": "#%%\n"
    }
   }
  },
  {
   "cell_type": "code",
   "execution_count": 20,
   "outputs": [],
   "source": [
    "test_input = pd.read_json(\"data_full_review_cleaned/Anastasia_Beverly_Hills_Stick_Foundation.json\", lines=True)\n",
    "test_input = test_input.loc[0]\n",
    "test_input = test_input[[\n",
    "    \"eye_color\", \"hair_color\", \"skin_type\", \"skin_tone\", \"finish\", \"coverage\", \"shade_match\", \"gifted\",\n",
    "    \"days_since_launch_scaled\", \"month_of_purchase\", \"skin_tone_cat\"\n",
    "]]\n",
    "test_input = test_input.to_dict()\n",
    "test_input = pd.DataFrame([test_input])"
   ],
   "metadata": {
    "collapsed": false,
    "pycharm": {
     "name": "#%%\n"
    }
   }
  },
  {
   "cell_type": "code",
   "execution_count": 23,
   "outputs": [
    {
     "data": {
      "text/plain": "array([[0., 0., 0., 0., 0., 0.]])"
     },
     "execution_count": 23,
     "metadata": {},
     "output_type": "execute_result"
    }
   ],
   "source": [
    "encoder.transform(test_input[['skin_tone']])"
   ],
   "metadata": {
    "collapsed": false,
    "pycharm": {
     "name": "#%%\n"
    }
   }
  },
  {
   "cell_type": "code",
   "execution_count": 21,
   "outputs": [
    {
     "data": {
      "text/plain": "0    Olive\nName: skin_tone, dtype: object"
     },
     "execution_count": 21,
     "metadata": {},
     "output_type": "execute_result"
    }
   ],
   "source": [
    "test_input['skin_tone']"
   ],
   "metadata": {
    "collapsed": false,
    "pycharm": {
     "name": "#%%\n"
    }
   }
  },
  {
   "cell_type": "code",
   "execution_count": 21,
   "outputs": [
    {
     "data": {
      "text/plain": "pandas.core.frame.DataFrame"
     },
     "execution_count": 21,
     "metadata": {},
     "output_type": "execute_result"
    }
   ],
   "source": [
    "type(product.val_X[['skin_tone']])"
   ],
   "metadata": {
    "collapsed": false,
    "pycharm": {
     "name": "#%%\n"
    }
   }
  },
  {
   "cell_type": "code",
   "execution_count": 4,
   "outputs": [],
   "source": [
    "all_models = pd.read_json(\"list_of_foundations_with_models.json\", lines=True)\n",
    "all_models = all_models[all_models['model'].notna()]"
   ],
   "metadata": {
    "collapsed": false,
    "pycharm": {
     "name": "#%%\n"
    }
   }
  },
  {
   "cell_type": "code",
   "execution_count": 5,
   "outputs": [
    {
     "data": {
      "text/plain": "<AxesSubplot:>"
     },
     "execution_count": 5,
     "metadata": {},
     "output_type": "execute_result"
    },
    {
     "data": {
      "text/plain": "<Figure size 432x288 with 1 Axes>",
      "image/png": "[encoded data removed]"
     },
     "metadata": {
      "needs_background": "light"
     },
     "output_type": "display_data"
    }
   ],
   "source": [
    "all_models['auc'].hist()"
   ],
   "metadata": {
    "collapsed": false,
    "pycharm": {
     "name": "#%%\n"
    }
   }
  },
  {
   "cell_type": "code",
   "execution_count": 45,
   "outputs": [
    {
     "data": {
      "text/plain": "0.7982903452011236"
     },
     "execution_count": 45,
     "metadata": {},
     "output_type": "execute_result"
    }
   ],
   "source": [
    "all_models['auc'].mean()"
   ],
   "metadata": {
    "collapsed": false,
    "pycharm": {
     "name": "#%%\n"
    }
   }
  },
  {
   "cell_type": "code",
   "execution_count": 47,
   "outputs": [
    {
     "data": {
      "text/plain": "count    89.000000\nmean      0.798290\nstd       0.063927\nmin       0.623377\n25%       0.763107\n50%       0.812798\n75%       0.845636\nmax       0.912037\nName: auc, dtype: float64"
     },
     "execution_count": 47,
     "metadata": {},
     "output_type": "execute_result"
    }
   ],
   "source": [
    "all_models['auc'].describe()"
   ],
   "metadata": {
    "collapsed": false,
    "pycharm": {
     "name": "#%%\n"
    }
   }
  },
  {
   "cell_type": "code",
   "execution_count": 48,
   "outputs": [
    {
     "data": {
      "text/plain": "    Unnamed: 0                                      brand_product  \\\n87          87  IT_Cosmetics_Your_Skin_But_Better_Foundation_+...   \n\n                                                  url  url_valid  \\\n87  https://www.sephora.com/product/it-cosmetics-y...          1   \n\n                                                model  threshold       auc  \n87  IT_Cosmetics_Your_Skin_But_Better_Foundation_+...       0.29  0.912037  ",
      "text/html": "<div>\n<style scoped>\n    .dataframe tbody tr th:only-of-type {\n        vertical-align: middle;\n    }\n\n    .dataframe tbody tr th {\n        vertical-align: top;\n    }\n\n    .dataframe thead th {\n        text-align: right;\n    }\n</style>\n<table border=\"1\" class=\"dataframe\">\n  <thead>\n    <tr style=\"text-align: right;\">\n      <th></th>\n      <th>Unnamed: 0</th>\n      <th>brand_product</th>\n      <th>url</th>\n      <th>url_valid</th>\n      <th>model</th>\n      <th>threshold</th>\n      <th>auc</th>\n    </tr>\n  </thead>\n  <tbody>\n    <tr>\n      <th>87</th>\n      <td>87</td>\n      <td>IT_Cosmetics_Your_Skin_But_Better_Foundation_+...</td>\n      <td>https://www.sephora.com/product/it-cosmetics-y...</td>\n      <td>1</td>\n      <td>IT_Cosmetics_Your_Skin_But_Better_Foundation_+...</td>\n      <td>0.29</td>\n      <td>0.912037</td>\n    </tr>\n  </tbody>\n</table>\n</div>"
     },
     "execution_count": 48,
     "metadata": {},
     "output_type": "execute_result"
    }
   ],
   "source": [
    "all_models[all_models['auc']>=0.91]"
   ],
   "metadata": {
    "collapsed": false,
    "pycharm": {
     "name": "#%%\n"
    }
   }
  },
  {
   "cell_type": "code",
   "execution_count": 10,
   "outputs": [
    {
     "data": {
      "text/plain": "     Unnamed: 0                                      brand_product  \\\n64           64  FENTY_BEAUTY_by_Rihanna_Pro_Filt'r_Hydrating_L...   \n149         149  SEPHORA_COLLECTION_Matte_Perfection_Tinted_Moi...   \n174         174  Yves_Saint_Laurent_Touche_Eclat_All-In-One_Glo...   \n78           78  Hourglass_Vanish™_Seamless_Finish_Liquid_Found...   \n128         128           NARS_Natural_Radiant_Longwear_Foundation   \n158         158  Smashbox_Studio_Skin_24_Hour_Oil-Free_Hydra_Fo...   \n114         114  Laura_Mercier_Tinted_Moisturizer_Broad_Spectru...   \n100         100                   Kosas_Tinted_Face_Oil_Foundation   \n118         118  MAKE_UP_FOR_EVER_Reboot_Active_Care_Revitalizi...   \n80           80       ILIA_Super_Serum_Skin_Tint_SPF_40_Foundation   \n65           65  FENTY_BEAUTY_by_Rihanna_Pro_Filt'r_Soft_Matte_...   \n183         183  bareMinerals_Original_Liquid_Mineral_Foundatio...   \n85           85  IT_Cosmetics_CC+_Cream_Oil-Free_Matte_with_SPF_40   \n103         103  La_Mer_The_Soft_Fluid_Long_Wear_Foundation_SPF_20   \n154         154  Shiseido_Synchro_Skin_Self-Refreshing_Custom_F...   \n77           77  Hourglass_Vanish™_Seamless_Finish_Foundation_S...   \n161         161                 Too_Faced_Born_This_Way_Foundation   \n138         138     PAT_McGRATH_LABS_Sublime_Perfection_Foundation   \n45           45  Charlotte_Tilbury_Airbrush_Flawless_Longwear_F...   \n11           11                  Armani_Beauty_Neo_Nude_Foundation   \n81           81                    ILIA_True_Skin_Serum_Foundation   \n123         123                  MILK_MAKEUP_Flex_Foundation_Stick   \n106         106  Lancôme_SKIN_FEELS_GOOD_Skin_Nourishing_Founda...   \n86           86                IT_Cosmetics_CC+_Cream_with_SPF_50+   \n95           95                KVD_Vegan_Beauty_Lock-It_Foundation   \n91           91  Jouer_Cosmetics_Essential_High_Coverage_Crème_...   \n194         194  tarte_Amazonian_Clay_Full_Coverage_Airbrush_Fo...   \n74           74  HUDA_BEAUTY_#FauxFilter_Skin_Finish_Buildable_...   \n130         130                         NARS_Sheer_Glow_Foundation   \n122         122           MILK_MAKEUP_Blur_Liquid_Matte_Foundation   \n32           32  CLINIQUE_Beyond_Perfecting_Foundation_+_Concealer   \n48           48              Dior_BACKSTAGE_Face_&_Body_Foundation   \n119         119  MAKE_UP_FOR_EVER_Ultra_HD_Invisible_Cover_Foun...   \n162         162   Too_Faced_Born_This_Way_Matte_24_Hour_Foundation   \n187         187  beautyblender_Bounce™_Liquid_Whip_Long_Wear_Fo...   \n129         129  NARS_Pure_Radiant_Tinted_Moisturizer_Broad_Spe...   \n157         157  Smashbox_Studio_Skin_24_Hour_Full_Coverage_Wat...   \n110         110  Laura_Mercier_Flawless_Lumière_Radiance-Perfec...   \n170         170       Urban_Decay_Stay_Naked_Weightless_Foundation   \n115         115  Laura_Mercier_Tinted_Moisturizer_Natural_Skin_...   \n142         142  Rare_Beauty_by_Selena_Gomez_Liquid_Touch_Weigh...   \n66           66  FENTY_BEAUTY_by_Rihanna_Pro_Filt'r_Soft_Matte_...   \n20           20  Bite_Beauty_Changemaker_Supercharged_Micellar_...   \n12           12  Armani_Beauty_Power_Fabric_Longwear_High_Cover...   \n155         155  Shiseido_Synchro_Skin_Self-Refreshing_Foundati...   \n167         167  Urban_Decay_Hydromaniac_Glowy_Tinted_Hydrator_...   \n131         131                NARS_Soft_Matte_Complete_Foundation   \n117         117  MAKE_UP_FOR_EVER_Matte_Velvet_Skin_Full_Covera...   \n27           27  Bobbi_Brown_Skin_Long-Wear_Weightless_Foundati...   \n87           87  IT_Cosmetics_Your_Skin_But_Better_Foundation_+...   \n\n                                                   url  url_valid  \\\n64   https://www.sephora.com/product/pro-filt-r-hyd...          1   \n149  https://www.sephora.com/product/matte-perfecti...          1   \n174  https://www.sephora.com/product/touche-eclat-a...          1   \n78   https://www.sephora.com/product/vanish-seamles...          1   \n128  https://www.sephora.com/product/natural-radian...          1   \n158  https://www.sephora.com/product/studio-skin-15...          1   \n114  https://www.sephora.com/product/tinted-moistur...          1   \n100  https://www.sephora.com/product/tinted-face-oi...          1   \n118  https://www.sephora.com/product/make-up-for-ev...          1   \n80   https://www.sephora.com/product/ilia-super-ser...          1   \n65   https://www.sephora.com/product/pro-filtr-soft...          1   \n183  https://www.sephora.com/product/bareminerals-o...          1   \n85   https://www.sephora.com/product/your-skin-but-...          1   \n103  https://www.sephora.com/product/the-soft-fluid...          1   \n154  https://www.sephora.com/product/shiseido-synch...          1   \n77   https://www.sephora.com/product/vanish-seamles...          1   \n161  https://www.sephora.com/product/born-this-way-...          1   \n138  https://www.sephora.com/product/skin-fetish-su...          1   \n45   https://www.sephora.com/product/airbrush-flawl...          1   \n11   https://www.sephora.com/product/giorgio-armani...          1   \n81   https://www.sephora.com/product/true-skin-seru...          1   \n123  https://www.sephora.com/product/flex-foundatio...          1   \n106  https://www.sephora.com/product/skin-feels-goo...          1   \n86   https://www.sephora.com/product/your-skin-but-...          1   \n95   https://www.sephora.com/product/lock-it-tattoo...          1   \n91   https://www.sephora.com/product/essential-high...          1   \n194  https://www.sephora.com/product/amazonian-clay...          1   \n74   https://www.sephora.com/product/huda-beauty-fa...          1   \n130  https://www.sephora.com/product/sheer-glow-fou...          1   \n122  https://www.sephora.com/product/blur-liquid-ma...          1   \n32   https://www.sephora.com/product/beyond-perfect...          1   \n48   https://www.sephora.com/product/backstage-face...          1   \n119  https://www.sephora.com/product/ultra-hd-invis...          1   \n162  https://www.sephora.com/product/too-faced-born...          1   \n187  https://www.sephora.com/product/bounce-liquid-...          1   \n129  https://www.sephora.com/product/pure-radiant-t...          1   \n157  https://www.sephora.com/product/studio-skin-fu...          1   \n110  https://www.sephora.com/product/flawless-lumie...          1   \n170  https://www.sephora.com/product/stay-naked-wei...          1   \n115  https://www.sephora.com/product/tinted-moistur...          1   \n142  https://www.sephora.com/product/rare-beauty-by...          1   \n66   https://www.sephora.com/product/fenty-beauty-r...          1   \n20   https://www.sephora.com/product/bite-beauty-ch...          1   \n12   https://www.sephora.com/product/power-fabric-l...          1   \n155  https://www.sephora.com/product/synchro-skin-s...          1   \n167  https://www.sephora.com/product/urban-decay-hy...          1   \n131  https://www.sephora.com/product/nars-soft-matt...          1   \n117  https://www.sephora.com/product/matte-velvet-s...          1   \n27   https://www.sephora.com/product/skin-long-wear...          1   \n87   https://www.sephora.com/product/it-cosmetics-y...          1   \n\n                                                 model  threshold       auc  \n64   FENTY_BEAUTY_by_Rihanna_Pro_Filt'r_Hydrating_L...       0.35  0.800127  \n149  SEPHORA_COLLECTION_Matte_Perfection_Tinted_Moi...       0.50  0.800140  \n174  Yves_Saint_Laurent_Touche_Eclat_All-In-One_Glo...       0.53  0.804746  \n78   Hourglass_Vanish™_Seamless_Finish_Liquid_Found...       0.43  0.805046  \n128  NARS_Natural_Radiant_Longwear_Foundation_xgb.m...       0.68  0.809336  \n158  Smashbox_Studio_Skin_24_Hour_Oil-Free_Hydra_Fo...       0.31  0.812798  \n114  Laura_Mercier_Tinted_Moisturizer_Broad_Spectru...       0.59  0.813100  \n100         Kosas_Tinted_Face_Oil_Foundation_xgb.model       0.42  0.814930  \n118  MAKE_UP_FOR_EVER_Reboot_Active_Care_Revitalizi...       0.39  0.815753  \n80   ILIA_Super_Serum_Skin_Tint_SPF_40_Foundation_x...       0.62  0.818822  \n65   FENTY_BEAUTY_by_Rihanna_Pro_Filt'r_Soft_Matte_...       0.35  0.820066  \n183  bareMinerals_Original_Liquid_Mineral_Foundatio...       0.32  0.824991  \n85   IT_Cosmetics_CC+_Cream_Oil-Free_Matte_with_SPF...       0.78  0.825193  \n103  La_Mer_The_Soft_Fluid_Long_Wear_Foundation_SPF...       0.48  0.825325  \n154  Shiseido_Synchro_Skin_Self-Refreshing_Custom_F...       0.53  0.825516  \n77   Hourglass_Vanish™_Seamless_Finish_Foundation_S...       0.81  0.827748  \n161       Too_Faced_Born_This_Way_Foundation_xgb.model       0.68  0.828092  \n138  PAT_McGRATH_LABS_Sublime_Perfection_Foundation...       0.67  0.829688  \n45   Charlotte_Tilbury_Airbrush_Flawless_Longwear_F...       0.40  0.832106  \n11         Armani_Beauty_Neo_Nude_Foundation_xgb.model       0.33  0.834951  \n81           ILIA_True_Skin_Serum_Foundation_xgb.model       0.30  0.835383  \n123        MILK_MAKEUP_Flex_Foundation_Stick_xgb.model       0.76  0.835851  \n106  Lancôme_SKIN_FEELS_GOOD_Skin_Nourishing_Founda...       0.76  0.836853  \n86       IT_Cosmetics_CC+_Cream_with_SPF_50+_xgb.model       0.39  0.838091  \n95       KVD_Vegan_Beauty_Lock-It_Foundation_xgb.model       0.56  0.840156  \n91   Jouer_Cosmetics_Essential_High_Coverage_Crème_...       0.51  0.842015  \n194  tarte_Amazonian_Clay_Full_Coverage_Airbrush_Fo...       0.43  0.843413  \n74   HUDA_BEAUTY_#FauxFilter_Skin_Finish_Buildable_...       0.42  0.845636  \n130               NARS_Sheer_Glow_Foundation_xgb.model       0.32  0.845890  \n122  MILK_MAKEUP_Blur_Liquid_Matte_Foundation_xgb.m...       0.38  0.846512  \n32   CLINIQUE_Beyond_Perfecting_Foundation_+_Concea...       0.37  0.847046  \n48     Dior_BACKSTAGE_Face_&_Body_Foundation_xgb.model       0.45  0.849710  \n119  MAKE_UP_FOR_EVER_Ultra_HD_Invisible_Cover_Foun...       0.80  0.850093  \n162  Too_Faced_Born_This_Way_Matte_24_Hour_Foundati...       0.56  0.852446  \n187  beautyblender_Bounce™_Liquid_Whip_Long_Wear_Fo...       0.48  0.857070  \n129  NARS_Pure_Radiant_Tinted_Moisturizer_Broad_Spe...       0.44  0.858998  \n157  Smashbox_Studio_Skin_24_Hour_Full_Coverage_Wat...       0.31  0.862388  \n110  Laura_Mercier_Flawless_Lumière_Radiance-Perfec...       0.53  0.862941  \n170  Urban_Decay_Stay_Naked_Weightless_Foundation_x...       0.80  0.863599  \n115  Laura_Mercier_Tinted_Moisturizer_Natural_Skin_...       0.25  0.872150  \n142  Rare_Beauty_by_Selena_Gomez_Liquid_Touch_Weigh...       0.55  0.872954  \n66   FENTY_BEAUTY_by_Rihanna_Pro_Filt'r_Soft_Matte_...       0.52  0.873135  \n20   Bite_Beauty_Changemaker_Supercharged_Micellar_...       0.27  0.874873  \n12   Armani_Beauty_Power_Fabric_Longwear_High_Cover...       0.37  0.875210  \n155  Shiseido_Synchro_Skin_Self-Refreshing_Foundati...       0.76  0.880699  \n167  Urban_Decay_Hydromaniac_Glowy_Tinted_Hydrator_...       0.34  0.881979  \n131      NARS_Soft_Matte_Complete_Foundation_xgb.model       0.30  0.885211  \n117  MAKE_UP_FOR_EVER_Matte_Velvet_Skin_Full_Covera...       0.30  0.898237  \n27   Bobbi_Brown_Skin_Long-Wear_Weightless_Foundati...       0.54  0.898433  \n87   IT_Cosmetics_Your_Skin_But_Better_Foundation_+...       0.29  0.912037  ",
      "text/html": "<div>\n<style scoped>\n    .dataframe tbody tr th:only-of-type {\n        vertical-align: middle;\n    }\n\n    .dataframe tbody tr th {\n        vertical-align: top;\n    }\n\n    .dataframe thead th {\n        text-align: right;\n    }\n</style>\n<table border=\"1\" class=\"dataframe\">\n  <thead>\n    <tr style=\"text-align: right;\">\n      <th></th>\n      <th>Unnamed: 0</th>\n      <th>brand_product</th>\n      <th>url</th>\n      <th>url_valid</th>\n      <th>model</th>\n      <th>threshold</th>\n      <th>auc</th>\n    </tr>\n  </thead>\n  <tbody>\n    <tr>\n      <th>64</th>\n      <td>64</td>\n      <td>FENTY_BEAUTY_by_Rihanna_Pro_Filt'r_Hydrating_L...</td>\n      <td>https://www.sephora.com/product/pro-filt-r-hyd...</td>\n      <td>1</td>\n      <td>FENTY_BEAUTY_by_Rihanna_Pro_Filt'r_Hydrating_L...</td>\n      <td>0.35</td>\n      <td>0.800127</td>\n    </tr>\n    <tr>\n      <th>149</th>\n      <td>149</td>\n      <td>SEPHORA_COLLECTION_Matte_Perfection_Tinted_Moi...</td>\n      <td>https://www.sephora.com/product/matte-perfecti...</td>\n      <td>1</td>\n      <td>SEPHORA_COLLECTION_Matte_Perfection_Tinted_Moi...</td>\n      <td>0.50</td>\n      <td>0.800140</td>\n    </tr>\n    <tr>\n      <th>174</th>\n      <td>174</td>\n      <td>Yves_Saint_Laurent_Touche_Eclat_All-In-One_Glo...</td>\n      <td>https://www.sephora.com/product/touche-eclat-a...</td>\n      <td>1</td>\n      <td>Yves_Saint_Laurent_Touche_Eclat_All-In-One_Glo...</td>\n      <td>0.53</td>\n      <td>0.804746</td>\n    </tr>\n    <tr>\n      <th>78</th>\n      <td>78</td>\n      <td>Hourglass_Vanish™_Seamless_Finish_Liquid_Found...</td>\n      <td>https://www.sephora.com/product/vanish-seamles...</td>\n      <td>1</td>\n      <td>Hourglass_Vanish™_Seamless_Finish_Liquid_Found...</td>\n      <td>0.43</td>\n      <td>0.805046</td>\n    </tr>\n    <tr>\n      <th>128</th>\n      <td>128</td>\n      <td>NARS_Natural_Radiant_Longwear_Foundation</td>\n      <td>https://www.sephora.com/product/natural-radian...</td>\n      <td>1</td>\n      <td>NARS_Natural_Radiant_Longwear_Foundation_xgb.m...</td>\n      <td>0.68</td>\n      <td>0.809336</td>\n    </tr>\n    <tr>\n      <th>158</th>\n      <td>158</td>\n      <td>Smashbox_Studio_Skin_24_Hour_Oil-Free_Hydra_Fo...</td>\n      <td>https://www.sephora.com/product/studio-skin-15...</td>\n      <td>1</td>\n      <td>Smashbox_Studio_Skin_24_Hour_Oil-Free_Hydra_Fo...</td>\n      <td>0.31</td>\n      <td>0.812798</td>\n    </tr>\n    <tr>\n      <th>114</th>\n      <td>114</td>\n      <td>Laura_Mercier_Tinted_Moisturizer_Broad_Spectru...</td>\n      <td>https://www.sephora.com/product/tinted-moistur...</td>\n      <td>1</td>\n      <td>Laura_Mercier_Tinted_Moisturizer_Broad_Spectru...</td>\n      <td>0.59</td>\n      <td>0.813100</td>\n    </tr>\n    <tr>\n      <th>100</th>\n      <td>100</td>\n      <td>Kosas_Tinted_Face_Oil_Foundation</td>\n      <td>https://www.sephora.com/product/tinted-face-oi...</td>\n      <td>1</td>\n      <td>Kosas_Tinted_Face_Oil_Foundation_xgb.model</td>\n      <td>0.42</td>\n      <td>0.814930</td>\n    </tr>\n    <tr>\n      <th>118</th>\n      <td>118</td>\n      <td>MAKE_UP_FOR_EVER_Reboot_Active_Care_Revitalizi...</td>\n      <td>https://www.sephora.com/product/make-up-for-ev...</td>\n      <td>1</td>\n      <td>MAKE_UP_FOR_EVER_Reboot_Active_Care_Revitalizi...</td>\n      <td>0.39</td>\n      <td>0.815753</td>\n    </tr>\n    <tr>\n      <th>80</th>\n      <td>80</td>\n      <td>ILIA_Super_Serum_Skin_Tint_SPF_40_Foundation</td>\n      <td>https://www.sephora.com/product/ilia-super-ser...</td>\n      <td>1</td>\n      <td>ILIA_Super_Serum_Skin_Tint_SPF_40_Foundation_x...</td>\n      <td>0.62</td>\n      <td>0.818822</td>\n    </tr>\n    <tr>\n      <th>65</th>\n      <td>65</td>\n      <td>FENTY_BEAUTY_by_Rihanna_Pro_Filt'r_Soft_Matte_...</td>\n      <td>https://www.sephora.com/product/pro-filtr-soft...</td>\n      <td>1</td>\n      <td>FENTY_BEAUTY_by_Rihanna_Pro_Filt'r_Soft_Matte_...</td>\n      <td>0.35</td>\n      <td>0.820066</td>\n    </tr>\n    <tr>\n      <th>183</th>\n      <td>183</td>\n      <td>bareMinerals_Original_Liquid_Mineral_Foundatio...</td>\n      <td>https://www.sephora.com/product/bareminerals-o...</td>\n      <td>1</td>\n      <td>bareMinerals_Original_Liquid_Mineral_Foundatio...</td>\n      <td>0.32</td>\n      <td>0.824991</td>\n    </tr>\n    <tr>\n      <th>85</th>\n      <td>85</td>\n      <td>IT_Cosmetics_CC+_Cream_Oil-Free_Matte_with_SPF_40</td>\n      <td>https://www.sephora.com/product/your-skin-but-...</td>\n      <td>1</td>\n      <td>IT_Cosmetics_CC+_Cream_Oil-Free_Matte_with_SPF...</td>\n      <td>0.78</td>\n      <td>0.825193</td>\n    </tr>\n    <tr>\n      <th>103</th>\n      <td>103</td>\n      <td>La_Mer_The_Soft_Fluid_Long_Wear_Foundation_SPF_20</td>\n      <td>https://www.sephora.com/product/the-soft-fluid...</td>\n      <td>1</td>\n      <td>La_Mer_The_Soft_Fluid_Long_Wear_Foundation_SPF...</td>\n      <td>0.48</td>\n      <td>0.825325</td>\n    </tr>\n    <tr>\n      <th>154</th>\n      <td>154</td>\n      <td>Shiseido_Synchro_Skin_Self-Refreshing_Custom_F...</td>\n      <td>https://www.sephora.com/product/shiseido-synch...</td>\n      <td>1</td>\n      <td>Shiseido_Synchro_Skin_Self-Refreshing_Custom_F...</td>\n      <td>0.53</td>\n      <td>0.825516</td>\n    </tr>\n    <tr>\n      <th>77</th>\n      <td>77</td>\n      <td>Hourglass_Vanish™_Seamless_Finish_Foundation_S...</td>\n      <td>https://www.sephora.com/product/vanish-seamles...</td>\n      <td>1</td>\n      <td>Hourglass_Vanish™_Seamless_Finish_Foundation_S...</td>\n      <td>0.81</td>\n      <td>0.827748</td>\n    </tr>\n    <tr>\n      <th>161</th>\n      <td>161</td>\n      <td>Too_Faced_Born_This_Way_Foundation</td>\n      <td>https://www.sephora.com/product/born-this-way-...</td>\n      <td>1</td>\n      <td>Too_Faced_Born_This_Way_Foundation_xgb.model</td>\n      <td>0.68</td>\n      <td>0.828092</td>\n    </tr>\n    <tr>\n      <th>138</th>\n      <td>138</td>\n      <td>PAT_McGRATH_LABS_Sublime_Perfection_Foundation</td>\n      <td>https://www.sephora.com/product/skin-fetish-su...</td>\n      <td>1</td>\n      <td>PAT_McGRATH_LABS_Sublime_Perfection_Foundation...</td>\n      <td>0.67</td>\n      <td>0.829688</td>\n    </tr>\n    <tr>\n      <th>45</th>\n      <td>45</td>\n      <td>Charlotte_Tilbury_Airbrush_Flawless_Longwear_F...</td>\n      <td>https://www.sephora.com/product/airbrush-flawl...</td>\n      <td>1</td>\n      <td>Charlotte_Tilbury_Airbrush_Flawless_Longwear_F...</td>\n      <td>0.40</td>\n      <td>0.832106</td>\n    </tr>\n    <tr>\n      <th>11</th>\n      <td>11</td>\n      <td>Armani_Beauty_Neo_Nude_Foundation</td>\n      <td>https://www.sephora.com/product/giorgio-armani...</td>\n      <td>1</td>\n      <td>Armani_Beauty_Neo_Nude_Foundation_xgb.model</td>\n      <td>0.33</td>\n      <td>0.834951</td>\n    </tr>\n    <tr>\n      <th>81</th>\n      <td>81</td>\n      <td>ILIA_True_Skin_Serum_Foundation</td>\n      <td>https://www.sephora.com/product/true-skin-seru...</td>\n      <td>1</td>\n      <td>ILIA_True_Skin_Serum_Foundation_xgb.model</td>\n      <td>0.30</td>\n      <td>0.835383</td>\n    </tr>\n    <tr>\n      <th>123</th>\n      <td>123</td>\n      <td>MILK_MAKEUP_Flex_Foundation_Stick</td>\n      <td>https://www.sephora.com/product/flex-foundatio...</td>\n      <td>1</td>\n      <td>MILK_MAKEUP_Flex_Foundation_Stick_xgb.model</td>\n      <td>0.76</td>\n      <td>0.835851</td>\n    </tr>\n    <tr>\n      <th>106</th>\n      <td>106</td>\n      <td>Lancôme_SKIN_FEELS_GOOD_Skin_Nourishing_Founda...</td>\n      <td>https://www.sephora.com/product/skin-feels-goo...</td>\n      <td>1</td>\n      <td>Lancôme_SKIN_FEELS_GOOD_Skin_Nourishing_Founda...</td>\n      <td>0.76</td>\n      <td>0.836853</td>\n    </tr>\n    <tr>\n      <th>86</th>\n      <td>86</td>\n      <td>IT_Cosmetics_CC+_Cream_with_SPF_50+</td>\n      <td>https://www.sephora.com/product/your-skin-but-...</td>\n      <td>1</td>\n      <td>IT_Cosmetics_CC+_Cream_with_SPF_50+_xgb.model</td>\n      <td>0.39</td>\n      <td>0.838091</td>\n    </tr>\n    <tr>\n      <th>95</th>\n      <td>95</td>\n      <td>KVD_Vegan_Beauty_Lock-It_Foundation</td>\n      <td>https://www.sephora.com/product/lock-it-tattoo...</td>\n      <td>1</td>\n      <td>KVD_Vegan_Beauty_Lock-It_Foundation_xgb.model</td>\n      <td>0.56</td>\n      <td>0.840156</td>\n    </tr>\n    <tr>\n      <th>91</th>\n      <td>91</td>\n      <td>Jouer_Cosmetics_Essential_High_Coverage_Crème_...</td>\n      <td>https://www.sephora.com/product/essential-high...</td>\n      <td>1</td>\n      <td>Jouer_Cosmetics_Essential_High_Coverage_Crème_...</td>\n      <td>0.51</td>\n      <td>0.842015</td>\n    </tr>\n    <tr>\n      <th>194</th>\n      <td>194</td>\n      <td>tarte_Amazonian_Clay_Full_Coverage_Airbrush_Fo...</td>\n      <td>https://www.sephora.com/product/amazonian-clay...</td>\n      <td>1</td>\n      <td>tarte_Amazonian_Clay_Full_Coverage_Airbrush_Fo...</td>\n      <td>0.43</td>\n      <td>0.843413</td>\n    </tr>\n    <tr>\n      <th>74</th>\n      <td>74</td>\n      <td>HUDA_BEAUTY_#FauxFilter_Skin_Finish_Buildable_...</td>\n      <td>https://www.sephora.com/product/huda-beauty-fa...</td>\n      <td>1</td>\n      <td>HUDA_BEAUTY_#FauxFilter_Skin_Finish_Buildable_...</td>\n      <td>0.42</td>\n      <td>0.845636</td>\n    </tr>\n    <tr>\n      <th>130</th>\n      <td>130</td>\n      <td>NARS_Sheer_Glow_Foundation</td>\n      <td>https://www.sephora.com/product/sheer-glow-fou...</td>\n      <td>1</td>\n      <td>NARS_Sheer_Glow_Foundation_xgb.model</td>\n      <td>0.32</td>\n      <td>0.845890</td>\n    </tr>\n    <tr>\n      <th>122</th>\n      <td>122</td>\n      <td>MILK_MAKEUP_Blur_Liquid_Matte_Foundation</td>\n      <td>https://www.sephora.com/product/blur-liquid-ma...</td>\n      <td>1</td>\n      <td>MILK_MAKEUP_Blur_Liquid_Matte_Foundation_xgb.m...</td>\n      <td>0.38</td>\n      <td>0.846512</td>\n    </tr>\n    <tr>\n      <th>32</th>\n      <td>32</td>\n      <td>CLINIQUE_Beyond_Perfecting_Foundation_+_Concealer</td>\n      <td>https://www.sephora.com/product/beyond-perfect...</td>\n      <td>1</td>\n      <td>CLINIQUE_Beyond_Perfecting_Foundation_+_Concea...</td>\n      <td>0.37</td>\n      <td>0.847046</td>\n    </tr>\n    <tr>\n      <th>48</th>\n      <td>48</td>\n      <td>Dior_BACKSTAGE_Face_&amp;_Body_Foundation</td>\n      <td>https://www.sephora.com/product/backstage-face...</td>\n      <td>1</td>\n      <td>Dior_BACKSTAGE_Face_&amp;_Body_Foundation_xgb.model</td>\n      <td>0.45</td>\n      <td>0.849710</td>\n    </tr>\n    <tr>\n      <th>119</th>\n      <td>119</td>\n      <td>MAKE_UP_FOR_EVER_Ultra_HD_Invisible_Cover_Foun...</td>\n      <td>https://www.sephora.com/product/ultra-hd-invis...</td>\n      <td>1</td>\n      <td>MAKE_UP_FOR_EVER_Ultra_HD_Invisible_Cover_Foun...</td>\n      <td>0.80</td>\n      <td>0.850093</td>\n    </tr>\n    <tr>\n      <th>162</th>\n      <td>162</td>\n      <td>Too_Faced_Born_This_Way_Matte_24_Hour_Foundation</td>\n      <td>https://www.sephora.com/product/too-faced-born...</td>\n      <td>1</td>\n      <td>Too_Faced_Born_This_Way_Matte_24_Hour_Foundati...</td>\n      <td>0.56</td>\n      <td>0.852446</td>\n    </tr>\n    <tr>\n      <th>187</th>\n      <td>187</td>\n      <td>beautyblender_Bounce™_Liquid_Whip_Long_Wear_Fo...</td>\n      <td>https://www.sephora.com/product/bounce-liquid-...</td>\n      <td>1</td>\n      <td>beautyblender_Bounce™_Liquid_Whip_Long_Wear_Fo...</td>\n      <td>0.48</td>\n      <td>0.857070</td>\n    </tr>\n    <tr>\n      <th>129</th>\n      <td>129</td>\n      <td>NARS_Pure_Radiant_Tinted_Moisturizer_Broad_Spe...</td>\n      <td>https://www.sephora.com/product/pure-radiant-t...</td>\n      <td>1</td>\n      <td>NARS_Pure_Radiant_Tinted_Moisturizer_Broad_Spe...</td>\n      <td>0.44</td>\n      <td>0.858998</td>\n    </tr>\n    <tr>\n      <th>157</th>\n      <td>157</td>\n      <td>Smashbox_Studio_Skin_24_Hour_Full_Coverage_Wat...</td>\n      <td>https://www.sephora.com/product/studio-skin-fu...</td>\n      <td>1</td>\n      <td>Smashbox_Studio_Skin_24_Hour_Full_Coverage_Wat...</td>\n      <td>0.31</td>\n      <td>0.862388</td>\n    </tr>\n    <tr>\n      <th>110</th>\n      <td>110</td>\n      <td>Laura_Mercier_Flawless_Lumière_Radiance-Perfec...</td>\n      <td>https://www.sephora.com/product/flawless-lumie...</td>\n      <td>1</td>\n      <td>Laura_Mercier_Flawless_Lumière_Radiance-Perfec...</td>\n      <td>0.53</td>\n      <td>0.862941</td>\n    </tr>\n    <tr>\n      <th>170</th>\n      <td>170</td>\n      <td>Urban_Decay_Stay_Naked_Weightless_Foundation</td>\n      <td>https://www.sephora.com/product/stay-naked-wei...</td>\n      <td>1</td>\n      <td>Urban_Decay_Stay_Naked_Weightless_Foundation_x...</td>\n      <td>0.80</td>\n      <td>0.863599</td>\n    </tr>\n    <tr>\n      <th>115</th>\n      <td>115</td>\n      <td>Laura_Mercier_Tinted_Moisturizer_Natural_Skin_...</td>\n      <td>https://www.sephora.com/product/tinted-moistur...</td>\n      <td>1</td>\n      <td>Laura_Mercier_Tinted_Moisturizer_Natural_Skin_...</td>\n      <td>0.25</td>\n      <td>0.872150</td>\n    </tr>\n    <tr>\n      <th>142</th>\n      <td>142</td>\n      <td>Rare_Beauty_by_Selena_Gomez_Liquid_Touch_Weigh...</td>\n      <td>https://www.sephora.com/product/rare-beauty-by...</td>\n      <td>1</td>\n      <td>Rare_Beauty_by_Selena_Gomez_Liquid_Touch_Weigh...</td>\n      <td>0.55</td>\n      <td>0.872954</td>\n    </tr>\n    <tr>\n      <th>66</th>\n      <td>66</td>\n      <td>FENTY_BEAUTY_by_Rihanna_Pro_Filt'r_Soft_Matte_...</td>\n      <td>https://www.sephora.com/product/fenty-beauty-r...</td>\n      <td>1</td>\n      <td>FENTY_BEAUTY_by_Rihanna_Pro_Filt'r_Soft_Matte_...</td>\n      <td>0.52</td>\n      <td>0.873135</td>\n    </tr>\n    <tr>\n      <th>20</th>\n      <td>20</td>\n      <td>Bite_Beauty_Changemaker_Supercharged_Micellar_...</td>\n      <td>https://www.sephora.com/product/bite-beauty-ch...</td>\n      <td>1</td>\n      <td>Bite_Beauty_Changemaker_Supercharged_Micellar_...</td>\n      <td>0.27</td>\n      <td>0.874873</td>\n    </tr>\n    <tr>\n      <th>12</th>\n      <td>12</td>\n      <td>Armani_Beauty_Power_Fabric_Longwear_High_Cover...</td>\n      <td>https://www.sephora.com/product/power-fabric-l...</td>\n      <td>1</td>\n      <td>Armani_Beauty_Power_Fabric_Longwear_High_Cover...</td>\n      <td>0.37</td>\n      <td>0.875210</td>\n    </tr>\n    <tr>\n      <th>155</th>\n      <td>155</td>\n      <td>Shiseido_Synchro_Skin_Self-Refreshing_Foundati...</td>\n      <td>https://www.sephora.com/product/synchro-skin-s...</td>\n      <td>1</td>\n      <td>Shiseido_Synchro_Skin_Self-Refreshing_Foundati...</td>\n      <td>0.76</td>\n      <td>0.880699</td>\n    </tr>\n    <tr>\n      <th>167</th>\n      <td>167</td>\n      <td>Urban_Decay_Hydromaniac_Glowy_Tinted_Hydrator_...</td>\n      <td>https://www.sephora.com/product/urban-decay-hy...</td>\n      <td>1</td>\n      <td>Urban_Decay_Hydromaniac_Glowy_Tinted_Hydrator_...</td>\n      <td>0.34</td>\n      <td>0.881979</td>\n    </tr>\n    <tr>\n      <th>131</th>\n      <td>131</td>\n      <td>NARS_Soft_Matte_Complete_Foundation</td>\n      <td>https://www.sephora.com/product/nars-soft-matt...</td>\n      <td>1</td>\n      <td>NARS_Soft_Matte_Complete_Foundation_xgb.model</td>\n      <td>0.30</td>\n      <td>0.885211</td>\n    </tr>\n    <tr>\n      <th>117</th>\n      <td>117</td>\n      <td>MAKE_UP_FOR_EVER_Matte_Velvet_Skin_Full_Covera...</td>\n      <td>https://www.sephora.com/product/matte-velvet-s...</td>\n      <td>1</td>\n      <td>MAKE_UP_FOR_EVER_Matte_Velvet_Skin_Full_Covera...</td>\n      <td>0.30</td>\n      <td>0.898237</td>\n    </tr>\n    <tr>\n      <th>27</th>\n      <td>27</td>\n      <td>Bobbi_Brown_Skin_Long-Wear_Weightless_Foundati...</td>\n      <td>https://www.sephora.com/product/skin-long-wear...</td>\n      <td>1</td>\n      <td>Bobbi_Brown_Skin_Long-Wear_Weightless_Foundati...</td>\n      <td>0.54</td>\n      <td>0.898433</td>\n    </tr>\n    <tr>\n      <th>87</th>\n      <td>87</td>\n      <td>IT_Cosmetics_Your_Skin_But_Better_Foundation_+...</td>\n      <td>https://www.sephora.com/product/it-cosmetics-y...</td>\n      <td>1</td>\n      <td>IT_Cosmetics_Your_Skin_But_Better_Foundation_+...</td>\n      <td>0.29</td>\n      <td>0.912037</td>\n    </tr>\n  </tbody>\n</table>\n</div>"
     },
     "execution_count": 10,
     "metadata": {},
     "output_type": "execute_result"
    }
   ],
   "source": [
    "all_models[all_models['auc'] >= 0.80].sort_values(by='auc', ascending=True)"
   ],
   "metadata": {
    "collapsed": false,
    "pycharm": {
     "name": "#%%\n"
    }
   }
  },
  {
   "cell_type": "markdown",
   "source": [
    "### Training models with additional features from preference for coverage and finish"
   ],
   "metadata": {
    "collapsed": false
   }
  },
  {
   "cell_type": "code",
   "execution_count": null,
   "outputs": [],
   "source": [
    "foundation_data = pd.read_json('data_full_review_cleaned/0_foundation_data_all_cleaned.json', lines=True)"
   ],
   "metadata": {
    "collapsed": false,
    "pycharm": {
     "name": "#%%\n"
    }
   }
  },
  {
   "cell_type": "code",
   "execution_count": null,
   "outputs": [],
   "source": [],
   "metadata": {
    "collapsed": false,
    "pycharm": {
     "name": "#%%\n"
    }
   }
  }
 ],
 "metadata": {
  "interpreter": {
   "hash": "be930e4ecfc02ffad0fba66b413e4f417b9fdbeb111e734ba3e0fce78218e52b"
  },
  "kernelspec": {
   "display_name": "Python 3.9.1 64-bit ('foundation': conda)",
   "language": "python",
   "name": "python3"
  },
  "language_info": {
   "codemirror_mode": {
    "name": "ipython",
    "version": 3
   },
   "file_extension": ".py",
   "mimetype": "text/x-python",
   "name": "python",
   "nbconvert_exporter": "python",
   "pygments_lexer": "ipython3",
   "version": "3.9.1"
  },
  "orig_nbformat": 4
 },
 "nbformat": 4,
 "nbformat_minor": 2
}