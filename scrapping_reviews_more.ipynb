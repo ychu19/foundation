{
 "cells": [
  {
   "cell_type": "code",
   "execution_count": 1,
   "metadata": {},
   "outputs": [],
   "source": [
    "import pandas as pd\n",
    "from time import sleep # control the crawl rate to avoid hammering the servers with too many requests\n",
    "from random import randint\n",
    "from tqdm import tqdm\n",
    "\n",
    "from selenium import webdriver\n",
    "from selenium.webdriver.common.keys import Keys\n",
    "from selenium.webdriver.common.desired_capabilities import DesiredCapabilities # dealing with pop-up permissions\n",
    "from selenium.webdriver.firefox.options import Options\n",
    "from selenium.webdriver.common.by import By\n",
    "from scrapping import scrapping_foundations\n",
    "\n",
    "from os import listdir\n",
    "\n",
    "from google.cloud import storage\n",
    "storage_client = storage.Client.from_service_account_json('foundation-matching-9bb2587b610a.json')"
   ]
  },
  {
   "cell_type": "code",
   "execution_count": 2,
   "metadata": {},
   "outputs": [
    {
     "name": "stderr",
     "output_type": "stream",
     "text": [
      "100%|██████████| 203/203 [00:00<00:00, 5027.12it/s]\n"
     ]
    }
   ],
   "source": [
    "list_of_foundations = pd.read_csv('sephora_ProQuestionAsker.csv')\n",
    "list_of_foundations_url = list_of_foundations.groupby(['brand', 'product'],as_index=False)['url'].first()\n",
    "\n",
    "list_of_foundations_url['brand_product'] = ''\n",
    "for i in tqdm(range(len(list_of_foundations_url))):\n",
    "    list_of_foundations_url.loc[i, 'brand_product'] = list_of_foundations_url.loc[i, 'brand'].replace(' ', '_') + '_' + list_of_foundations_url.loc[i, 'product'].replace(' ', '_')\n",
    "\n",
    "list_of_foundations_url = list_of_foundations_url[['brand_product', 'url']]"
   ]
  },
  {
   "cell_type": "code",
   "execution_count": 3,
   "metadata": {},
   "outputs": [],
   "source": [
    "geoBlocked = webdriver.FirefoxOptions()\n",
    "geoBlocked.set_preference(\"geo.prompt.testing\", True)\n",
    "geoBlocked.set_preference(\"geo.prompt.testing.allow\", False)\n",
    "geoBlocked.set_preference(\"dom.push.enabled\", False)\n",
    "driver = webdriver.Firefox(options=geoBlocked)\n",
    "\n",
    "url = list_of_foundations_url.loc[0, 'url']\n",
    "\n",
    "driver.get(url)\n",
    "sleep(3)\n",
    "driver.execute_script(f\"window.scrollTo(0, 2000)\") \n",
    "sleep(2)\n",
    "driver.execute_script(f\"window.scrollTo(0, 3000)\")"
   ]
  },
  {
   "cell_type": "code",
   "execution_count": 4,
   "metadata": {},
   "outputs": [],
   "source": [
    "list_of_reviews = driver.find_elements(By.CSS_SELECTOR, 'div[data-comp=\"Review StyledComponent BaseComponent \"]')"
   ]
  },
  {
   "cell_type": "code",
   "execution_count": 5,
   "metadata": {},
   "outputs": [],
   "source": [
    "reviewer_id = []\n",
    "rating = []\n",
    "recommended = []\n",
    "review_subject = []\n",
    "review_content = []\n",
    "reviewer_feature = []\n",
    "purchased_shade = []\n",
    "date_of_review = []\n",
    "\n",
    "cols = {\n",
    "    \"reviewer_id\": reviewer_id, \"rating\": rating, \"recommended\": recommended,\n",
    "    \"review_subject\": review_subject, \"review_content\": review_content, \n",
    "    \"reviewer_feature\": reviewer_feature, \"purchased_shade\": purchased_shade, \n",
    "    \"date_of_review\": date_of_review\n",
    "    }\n",
    "data = pd.DataFrame(cols)"
   ]
  },
  {
   "cell_type": "code",
   "execution_count": 6,
   "metadata": {},
   "outputs": [],
   "source": [
    "shade = \"\"\n",
    "review_subject = \"\"\n",
    "review_content = \"\"\n",
    "reviewer_feature = \"\"\n",
    "reviewer_id = \"\"\n",
    "rating = int()\n",
    "recommended = \"\"\n",
    "date_of_review = \"\"\n",
    "for i in list_of_reviews:\n",
    "\n",
    "    if i.find_elements(By.CSS_SELECTOR, 'strong[data-at=\"nickname\"]') != []:\n",
    "        reviewer_id = i.find_elements(By.CSS_SELECTOR,'strong[data-at=\"nickname\"]')[0].text\n",
    "    else:\n",
    "        pass \n",
    "\n",
    "    if i.find_elements(By.CSS_SELECTOR,'strong[data-at=\"nickname\"]+span') != []:\n",
    "        reviewer_feature = i.find_elements(By.CSS_SELECTOR,'strong[data-at=\"nickname\"]+span')[0].text\n",
    "    else:\n",
    "        pass\n",
    "\n",
    "    if i.find_elements(By.CSS_SELECTOR,'div[data-comp=\"StarRating \"]') != []:\n",
    "        rating = int(i.find_elements(By.CSS_SELECTOR, 'div[data-comp=\"StarRating \"]')[0].get_attribute(\"aria-label\")[0])\n",
    "    else:\n",
    "        pass\n",
    "\n",
    "    if i.find_elements(By.CSS_SELECTOR, 'h3') != []:\n",
    "        review_subject = i.find_element(By.CSS_SELECTOR, 'h3').text\n",
    "    else:\n",
    "        review_subject = None\n",
    "\n",
    "    if i.find_elements(By.CSS_SELECTOR, 'img[src*=\"https://www.sephora.com/productimages/\"]+span') != []:\n",
    "        shade = i.find_elements(By.CSS_SELECTOR, 'img[src*=\"https://www.sephora.com/productimages/\"]+span')[0].text\n",
    "    else:\n",
    "        shade = None\n",
    "    \n",
    "    if shade and i.find_elements(By.CSS_SELECTOR, 'h3+div+div') != []:\n",
    "        review_content = i.find_element(By.CSS_SELECTOR, 'h3+div+div').text\n",
    "    if shade is None and i.find_elements(By.CSS_SELECTOR, 'h3+div') != []:\n",
    "        review_content = i.find_element(By.CSS_SELECTOR, 'h3+div').text\n",
    "    else:\n",
    "        pass\n",
    "\n",
    "    if i.find_elements(By.CSS_SELECTOR, 'span[data-at=\"time_posted\"]') != []:\n",
    "        date_of_review = i.find_element(By.CSS_SELECTOR, 'span[data-at=\"time_posted\"]').text\n",
    "    else:\n",
    "        date_of_review = None\n",
    "\n",
    "    if 'Recommended' in i.find_element(By.CSS_SELECTOR, 'div').get_attribute('innerHTML'):\n",
    "        recommended = 1\n",
    "    else:\n",
    "        recommended = 0\n",
    "\n",
    "new_col = {\n",
    "    \"reviewer_id\": reviewer_id,\n",
    "    \"rating\": rating,\n",
    "    \"recommended\": recommended,\n",
    "    \"review_subject\": review_subject,\n",
    "    \"reivew_content\": review_content,\n",
    "    \"reviewer_feature\": reviewer_feature,\n",
    "    \"purchased_shade\": shade,\n",
    "    \"date_of_review\": date_of_review\n",
    "}"
   ]
  },
  {
   "cell_type": "code",
   "execution_count": 7,
   "metadata": {},
   "outputs": [],
   "source": [
    "data = data.append(new_col,ignore_index=True)"
   ]
  },
  {
   "cell_type": "code",
   "execution_count": 8,
   "metadata": {},
   "outputs": [
    {
     "data": {
      "text/html": [
       "<div>\n",
       "<style scoped>\n",
       "    .dataframe tbody tr th:only-of-type {\n",
       "        vertical-align: middle;\n",
       "    }\n",
       "\n",
       "    .dataframe tbody tr th {\n",
       "        vertical-align: top;\n",
       "    }\n",
       "\n",
       "    .dataframe thead th {\n",
       "        text-align: right;\n",
       "    }\n",
       "</style>\n",
       "<table border=\"1\" class=\"dataframe\">\n",
       "  <thead>\n",
       "    <tr style=\"text-align: right;\">\n",
       "      <th></th>\n",
       "      <th>reviewer_id</th>\n",
       "      <th>rating</th>\n",
       "      <th>recommended</th>\n",
       "      <th>review_subject</th>\n",
       "      <th>review_content</th>\n",
       "      <th>reviewer_feature</th>\n",
       "      <th>purchased_shade</th>\n",
       "      <th>date_of_review</th>\n",
       "      <th>reivew_content</th>\n",
       "    </tr>\n",
       "  </thead>\n",
       "  <tbody>\n",
       "    <tr>\n",
       "      <th>0</th>\n",
       "      <td></td>\n",
       "      <td>3.0</td>\n",
       "      <td>0.0</td>\n",
       "      <td>Overly fragranced!</td>\n",
       "      <td>NaN</td>\n",
       "      <td></td>\n",
       "      <td>204 Light/Medium Yellow - light to medium skin...</td>\n",
       "      <td>31 Jul 2021</td>\n",
       "      <td>204 Light/Medium Yellow - light to medium skin...</td>\n",
       "    </tr>\n",
       "  </tbody>\n",
       "</table>\n",
       "</div>"
      ],
      "text/plain": [
       "  reviewer_id  rating  recommended      review_subject  review_content  \\\n",
       "0                 3.0          0.0  Overly fragranced!             NaN   \n",
       "\n",
       "  reviewer_feature                                    purchased_shade  \\\n",
       "0                   204 Light/Medium Yellow - light to medium skin...   \n",
       "\n",
       "  date_of_review                                     reivew_content  \n",
       "0    31 Jul 2021  204 Light/Medium Yellow - light to medium skin...  "
      ]
     },
     "execution_count": 8,
     "metadata": {},
     "output_type": "execute_result"
    }
   ],
   "source": [
    "data"
   ]
  },
  {
   "cell_type": "code",
   "execution_count": null,
   "metadata": {},
   "outputs": [],
   "source": []
  }
 ],
 "metadata": {
  "interpreter": {
   "hash": "be930e4ecfc02ffad0fba66b413e4f417b9fdbeb111e734ba3e0fce78218e52b"
  },
  "kernelspec": {
   "display_name": "Python 3.9.1 64-bit ('foundation': conda)",
   "language": "python",
   "name": "python3"
  },
  "language_info": {
   "codemirror_mode": {
    "name": "ipython",
    "version": 3
   },
   "file_extension": ".py",
   "mimetype": "text/x-python",
   "name": "python",
   "nbconvert_exporter": "python",
   "pygments_lexer": "ipython3",
   "version": "3.9.1"
  },
  "orig_nbformat": 4
 },
 "nbformat": 4,
 "nbformat_minor": 2
}
