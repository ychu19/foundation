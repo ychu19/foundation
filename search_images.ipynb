{
 "cells": [
  {
   "cell_type": "code",
   "execution_count": 1,
   "metadata": {
    "collapsed": true
   },
   "outputs": [],
   "source": [
    "import pandas as pd\n",
    "from scrapping import scrapping_foundation_images"
   ]
  },
  {
   "cell_type": "code",
   "execution_count": 2,
   "outputs": [],
   "source": [
    "list_of_foundations_url = pd.read_csv('foundation_from_sephora_with_url.csv')\n",
    "list_of_foundations_url = list_of_foundations_url[list_of_foundations_url['url_valid'] == 1].reset_index(drop=True)"
   ],
   "metadata": {
    "collapsed": false,
    "pycharm": {
     "name": "#%%\n"
    }
   }
  },
  {
   "cell_type": "code",
   "execution_count": 3,
   "outputs": [],
   "source": [
    "foundation_features_parsed = pd.read_csv(\"foundation_features_parsed.csv\")"
   ],
   "metadata": {
    "collapsed": false,
    "pycharm": {
     "name": "#%%\n"
    }
   }
  },
  {
   "cell_type": "code",
   "execution_count": 4,
   "outputs": [
    {
     "data": {
      "text/plain": "87"
     },
     "execution_count": 4,
     "metadata": {},
     "output_type": "execute_result"
    }
   ],
   "source": [
    "len(foundation_features_parsed)"
   ],
   "metadata": {
    "collapsed": false,
    "pycharm": {
     "name": "#%%\n"
    }
   }
  },
  {
   "cell_type": "code",
   "execution_count": 5,
   "outputs": [],
   "source": [
    "foundation_features_parsed_url = pd.merge(\n",
    "   left = foundation_features_parsed,\n",
    "   right = list_of_foundations_url,\n",
    "   how=\"inner\", on='brand_product')"
   ],
   "metadata": {
    "collapsed": false,
    "pycharm": {
     "name": "#%%\n"
    }
   }
  },
  {
   "cell_type": "code",
   "execution_count": 6,
   "outputs": [
    {
     "data": {
      "text/plain": "87"
     },
     "execution_count": 6,
     "metadata": {},
     "output_type": "execute_result"
    }
   ],
   "source": [
    "len(foundation_features_parsed_url)"
   ],
   "metadata": {
    "collapsed": false,
    "pycharm": {
     "name": "#%%\n"
    }
   }
  },
  {
   "cell_type": "code",
   "execution_count": 7,
   "outputs": [],
   "source": [
    "foundation_features_parsed_url['img_src'] = ''"
   ],
   "metadata": {
    "collapsed": false,
    "pycharm": {
     "name": "#%%\n"
    }
   }
  },
  {
   "cell_type": "code",
   "execution_count": 8,
   "outputs": [],
   "source": [
    "for i in range(len(foundation_features_parsed_url)):\n",
    "   foundation = scrapping_foundation_images(\n",
    "      url=foundation_features_parsed_url.loc[i, 'url'],\n",
    "      product_name=foundation_features_parsed_url['brand_product']\n",
    "   )\n",
    "   foundation.set_up_driver()\n",
    "   foundation_features_parsed_url.loc[i, 'img_src'] = foundation.scrap_and_save_foundation_image()\n",
    "   foundation.close_driver()"
   ],
   "metadata": {
    "collapsed": false,
    "pycharm": {
     "name": "#%%\n"
    }
   }
  },
  {
   "cell_type": "code",
   "execution_count": 9,
   "outputs": [
    {
     "data": {
      "text/plain": "                                       brand_product  \\\n0           Anastasia_Beverly_Hills_Stick_Foundation   \n1                  Armani_Beauty_Neo_Nude_Foundation   \n2  Armani_Beauty_Power_Fabric_Longwear_High_Cover...   \n3  Bite_Beauty_Changemaker_Supercharged_Micellar_...   \n4                 Bobbi_Brown_Skin_Foundation_SPF_15   \n\n                                    product_features  \\\n0                                                 []   \n1  Natural Finish\\nLight Coverage\\nHyaluronic Aci...   \n2  Matte Finish\\nFull Coverage\\nLong-wearing\\nall...   \n3  Long-wearing\\nLight Coverage\\nLiquid Formula\\n...   \n4  Liquid Formula\\nLight Coverage\\nNatural Finish...   \n\n                                 product_description  skin_type_Dry  \\\n0  Item 1852409\\nSkin type:\\n✔ Combination\\n✔ Oil...            0.0   \n1  Item 2355691\\nWhat it is: A skincare-infused l...            1.0   \n2  Item 1919505\\nWhat it is: A liquid foundation ...            0.0   \n3  Item 2253193\\nONLY AT SEPHORA\\nWhat it is: A c...            0.0   \n4  Item 1288448\\nCoverage:\\n✔ Medium\\n\\nSkin type...            0.0   \n\n   skin_type_Oily  skin_type_Combo  skin_type_Combination  skin_type_Norma  \\\n0             1.0              0.0                    1.0              0.0   \n1             0.0              1.0                    0.0              1.0   \n2             0.0              0.0                    0.0              0.0   \n3             0.0              0.0                    0.0              0.0   \n4             1.0              1.0                    0.0              1.0   \n\n   Natural_finish  Matte_finish  Sheer_finish  Dewy_finish  Medium_coverage  \\\n0             1.0           1.0           0.0          0.0              0.0   \n1             0.0           0.0           0.0          0.0              0.0   \n2             0.0           0.0           0.0          0.0              0.0   \n3             0.0           0.0           0.0          0.0              0.0   \n4             0.0           0.0           0.0          0.0              0.0   \n\n   Full_coverage  Natural_coverage  Light_coverage  Unnamed: 0  \\\n0            1.0               1.0             1.0           2   \n1            0.0               0.0             1.0          11   \n2            1.0               0.0             0.0          12   \n3            0.0               0.0             1.0          20   \n4            0.0               0.0             1.0          24   \n\n                                                 url  url_valid  \\\n0  https://www.sephora.com/product/stick-foundati...          1   \n1  https://www.sephora.com/product/giorgio-armani...          1   \n2  https://www.sephora.com/product/power-fabric-l...          1   \n3  https://www.sephora.com/product/bite-beauty-ch...          1   \n4  https://www.sephora.com/product/skin-foundatio...          1   \n\n                                             img_src  \n0  https://www.sephora.com/productimages/sku/s185...  \n1  https://www.sephora.com/productimages/sku/s235...  \n2  https://www.sephora.com/productimages/sku/s191...  \n3  https://www.sephora.com/productimages/sku/s225...  \n4  https://www.sephora.com/productimages/sku/s128...  ",
      "text/html": "<div>\n<style scoped>\n    .dataframe tbody tr th:only-of-type {\n        vertical-align: middle;\n    }\n\n    .dataframe tbody tr th {\n        vertical-align: top;\n    }\n\n    .dataframe thead th {\n        text-align: right;\n    }\n</style>\n<table border=\"1\" class=\"dataframe\">\n  <thead>\n    <tr style=\"text-align: right;\">\n      <th></th>\n      <th>brand_product</th>\n      <th>product_features</th>\n      <th>product_description</th>\n      <th>skin_type_Dry</th>\n      <th>skin_type_Oily</th>\n      <th>skin_type_Combo</th>\n      <th>skin_type_Combination</th>\n      <th>skin_type_Norma</th>\n      <th>Natural_finish</th>\n      <th>Matte_finish</th>\n      <th>Sheer_finish</th>\n      <th>Dewy_finish</th>\n      <th>Medium_coverage</th>\n      <th>Full_coverage</th>\n      <th>Natural_coverage</th>\n      <th>Light_coverage</th>\n      <th>Unnamed: 0</th>\n      <th>url</th>\n      <th>url_valid</th>\n      <th>img_src</th>\n    </tr>\n  </thead>\n  <tbody>\n    <tr>\n      <th>0</th>\n      <td>Anastasia_Beverly_Hills_Stick_Foundation</td>\n      <td>[]</td>\n      <td>Item 1852409\\nSkin type:\\n✔ Combination\\n✔ Oil...</td>\n      <td>0.0</td>\n      <td>1.0</td>\n      <td>0.0</td>\n      <td>1.0</td>\n      <td>0.0</td>\n      <td>1.0</td>\n      <td>1.0</td>\n      <td>0.0</td>\n      <td>0.0</td>\n      <td>0.0</td>\n      <td>1.0</td>\n      <td>1.0</td>\n      <td>1.0</td>\n      <td>2</td>\n      <td>https://www.sephora.com/product/stick-foundati...</td>\n      <td>1</td>\n      <td>https://www.sephora.com/productimages/sku/s185...</td>\n    </tr>\n    <tr>\n      <th>1</th>\n      <td>Armani_Beauty_Neo_Nude_Foundation</td>\n      <td>Natural Finish\\nLight Coverage\\nHyaluronic Aci...</td>\n      <td>Item 2355691\\nWhat it is: A skincare-infused l...</td>\n      <td>1.0</td>\n      <td>0.0</td>\n      <td>1.0</td>\n      <td>0.0</td>\n      <td>1.0</td>\n      <td>0.0</td>\n      <td>0.0</td>\n      <td>0.0</td>\n      <td>0.0</td>\n      <td>0.0</td>\n      <td>0.0</td>\n      <td>0.0</td>\n      <td>1.0</td>\n      <td>11</td>\n      <td>https://www.sephora.com/product/giorgio-armani...</td>\n      <td>1</td>\n      <td>https://www.sephora.com/productimages/sku/s235...</td>\n    </tr>\n    <tr>\n      <th>2</th>\n      <td>Armani_Beauty_Power_Fabric_Longwear_High_Cover...</td>\n      <td>Matte Finish\\nFull Coverage\\nLong-wearing\\nall...</td>\n      <td>Item 1919505\\nWhat it is: A liquid foundation ...</td>\n      <td>0.0</td>\n      <td>0.0</td>\n      <td>0.0</td>\n      <td>0.0</td>\n      <td>0.0</td>\n      <td>0.0</td>\n      <td>0.0</td>\n      <td>0.0</td>\n      <td>0.0</td>\n      <td>0.0</td>\n      <td>1.0</td>\n      <td>0.0</td>\n      <td>0.0</td>\n      <td>12</td>\n      <td>https://www.sephora.com/product/power-fabric-l...</td>\n      <td>1</td>\n      <td>https://www.sephora.com/productimages/sku/s191...</td>\n    </tr>\n    <tr>\n      <th>3</th>\n      <td>Bite_Beauty_Changemaker_Supercharged_Micellar_...</td>\n      <td>Long-wearing\\nLight Coverage\\nLiquid Formula\\n...</td>\n      <td>Item 2253193\\nONLY AT SEPHORA\\nWhat it is: A c...</td>\n      <td>0.0</td>\n      <td>0.0</td>\n      <td>0.0</td>\n      <td>0.0</td>\n      <td>0.0</td>\n      <td>0.0</td>\n      <td>0.0</td>\n      <td>0.0</td>\n      <td>0.0</td>\n      <td>0.0</td>\n      <td>0.0</td>\n      <td>0.0</td>\n      <td>1.0</td>\n      <td>20</td>\n      <td>https://www.sephora.com/product/bite-beauty-ch...</td>\n      <td>1</td>\n      <td>https://www.sephora.com/productimages/sku/s225...</td>\n    </tr>\n    <tr>\n      <th>4</th>\n      <td>Bobbi_Brown_Skin_Foundation_SPF_15</td>\n      <td>Liquid Formula\\nLight Coverage\\nNatural Finish...</td>\n      <td>Item 1288448\\nCoverage:\\n✔ Medium\\n\\nSkin type...</td>\n      <td>0.0</td>\n      <td>1.0</td>\n      <td>1.0</td>\n      <td>0.0</td>\n      <td>1.0</td>\n      <td>0.0</td>\n      <td>0.0</td>\n      <td>0.0</td>\n      <td>0.0</td>\n      <td>0.0</td>\n      <td>0.0</td>\n      <td>0.0</td>\n      <td>1.0</td>\n      <td>24</td>\n      <td>https://www.sephora.com/product/skin-foundatio...</td>\n      <td>1</td>\n      <td>https://www.sephora.com/productimages/sku/s128...</td>\n    </tr>\n  </tbody>\n</table>\n</div>"
     },
     "execution_count": 9,
     "metadata": {},
     "output_type": "execute_result"
    }
   ],
   "source": [
    "foundation_features_parsed_url.head()"
   ],
   "metadata": {
    "collapsed": false,
    "pycharm": {
     "name": "#%%\n"
    }
   }
  },
  {
   "cell_type": "code",
   "execution_count": 10,
   "outputs": [],
   "source": [
    "foundation_features_parsed_url.to_csv('foundation_features_parsed_url.csv', index=False)"
   ],
   "metadata": {
    "collapsed": false,
    "pycharm": {
     "name": "#%%\n"
    }
   }
  }
 ],
 "metadata": {
  "kernelspec": {
   "display_name": "Python 3",
   "language": "python",
   "name": "python3"
  },
  "language_info": {
   "codemirror_mode": {
    "name": "ipython",
    "version": 2
   },
   "file_extension": ".py",
   "mimetype": "text/x-python",
   "name": "python",
   "nbconvert_exporter": "python",
   "pygments_lexer": "ipython2",
   "version": "2.7.6"
  }
 },
 "nbformat": 4,
 "nbformat_minor": 0
}