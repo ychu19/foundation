{
 "cells": [
  {
   "cell_type": "code",
   "execution_count": 1,
   "metadata": {},
   "outputs": [],
   "source": [
    "import pandas as pd\n",
    "from time import sleep # control the crawl rate to avoid hammering the servers with too many requests\n",
    "from random import randint\n",
    "from tqdm import tqdm\n",
    "\n",
    "from selenium import webdriver\n",
    "from selenium.webdriver.common.keys import Keys\n",
    "from selenium.webdriver.common.desired_capabilities import DesiredCapabilities # dealing with pop-up permissions\n",
    "from selenium.webdriver.firefox.options import Options\n",
    "\n",
    "from scrapping import scrapping_foundations"
   ]
  },
  {
   "cell_type": "code",
   "execution_count": 2,
   "metadata": {},
   "outputs": [],
   "source": [
    "estee_lauder_double_wear_stay_in_place = scrapping_foundations()\n",
    "estee_lauder_double_wear_stay_in_place.set_up_driver(url=\"https://www.sephora.com/product/double-wear-stay-in-place-makeup-P378284?skuId=2112167\")"
   ]
  },
  {
   "cell_type": "code",
   "execution_count": 3,
   "metadata": {},
   "outputs": [
    {
     "name": "stderr",
     "output_type": "stream",
     "text": [
      "  0%|          | 0/999 [00:00<?, ?it/s]/opt/homebrew/Caskroom/miniforge/base/envs/foundation/lib/python3.9/site-packages/selenium/webdriver/remote/webelement.py:502: UserWarning: find_elements_by_* commands are deprecated. Please use find_elements() instead\n",
      "  warnings.warn(\"find_elements_by_* commands are deprecated. Please use find_elements() instead\")\n",
      "/opt/homebrew/Caskroom/miniforge/base/envs/foundation/lib/python3.9/site-packages/selenium/webdriver/remote/webelement.py:484: UserWarning: find_element_by_* commands are deprecated. Please use find_element() instead\n",
      "  warnings.warn(\"find_element_by_* commands are deprecated. Please use find_element() instead\")\n",
      " 29%|██▊       | 286/999 [35:53<1:29:29,  7.53s/it] \n"
     ]
    },
    {
     "ename": "ElementNotInteractableException",
     "evalue": "Message: Element <button class=\"css-2anst8\"> could not be scrolled into view\nStacktrace:\nWebDriverError@chrome://remote/content/shared/webdriver/Errors.jsm:181:5\nElementNotInteractableError@chrome://remote/content/shared/webdriver/Errors.jsm:291:5\nwebdriverClickElement@chrome://remote/content/marionette/interaction.js:156:11\ninteraction.clickElement@chrome://remote/content/marionette/interaction.js:125:11\nclickElement@chrome://remote/content/marionette/actors/MarionetteCommandsChild.jsm:200:24\nreceiveMessage@chrome://remote/content/marionette/actors/MarionetteCommandsChild.jsm:91:31\n",
     "output_type": "error",
     "traceback": [
      "\u001b[0;31m---------------------------------------------------------------------------\u001b[0m",
      "\u001b[0;31mElementNotInteractableException\u001b[0m           Traceback (most recent call last)",
      "\u001b[0;32m/var/folders/b8/qhvvp5cj1hj_nj6sgf68yv3r0000gn/T/ipykernel_84117/3326325092.py\u001b[0m in \u001b[0;36m<module>\u001b[0;34m\u001b[0m\n\u001b[0;32m----> 1\u001b[0;31m \u001b[0mestee_lauder_double_wear_stay_in_place\u001b[0m\u001b[0;34m.\u001b[0m\u001b[0mclicking_and_scraping\u001b[0m\u001b[0;34m(\u001b[0m\u001b[0mstarting_page\u001b[0m\u001b[0;34m=\u001b[0m\u001b[0;36m0\u001b[0m\u001b[0;34m,\u001b[0m \u001b[0mending_page\u001b[0m\u001b[0;34m=\u001b[0m\u001b[0;36m999\u001b[0m\u001b[0;34m)\u001b[0m\u001b[0;34m\u001b[0m\u001b[0;34m\u001b[0m\u001b[0m\n\u001b[0m",
      "\u001b[0;32m~/Projects/_DS_projects/project_foundation/scrapping.py\u001b[0m in \u001b[0;36mclicking_and_scraping\u001b[0;34m(self, starting_page, ending_page)\u001b[0m\n\u001b[1;32m     90\u001b[0m             \u001b[0mself\u001b[0m\u001b[0;34m.\u001b[0m\u001b[0mlist_of_reviews\u001b[0m \u001b[0;34m=\u001b[0m \u001b[0mself\u001b[0m\u001b[0;34m.\u001b[0m\u001b[0mdriver\u001b[0m\u001b[0;34m.\u001b[0m\u001b[0mfind_elements_by_css_selector\u001b[0m\u001b[0;34m(\u001b[0m\u001b[0;34m'div[data-comp=\"Review StyledComponent BaseComponent \"]'\u001b[0m\u001b[0;34m)\u001b[0m\u001b[0;34m\u001b[0m\u001b[0;34m\u001b[0m\u001b[0m\n\u001b[1;32m     91\u001b[0m             \u001b[0mself\u001b[0m\u001b[0;34m.\u001b[0m\u001b[0mappend_new_data\u001b[0m\u001b[0;34m(\u001b[0m\u001b[0;34m)\u001b[0m\u001b[0;34m\u001b[0m\u001b[0;34m\u001b[0m\u001b[0m\n\u001b[0;32m---> 92\u001b[0;31m             \u001b[0mself\u001b[0m\u001b[0;34m.\u001b[0m\u001b[0mdriver\u001b[0m\u001b[0;34m.\u001b[0m\u001b[0mfind_element_by_css_selector\u001b[0m\u001b[0;34m(\u001b[0m\u001b[0;34m'button[aria-label=\"Next\"]'\u001b[0m\u001b[0;34m)\u001b[0m\u001b[0;34m.\u001b[0m\u001b[0mclick\u001b[0m\u001b[0;34m(\u001b[0m\u001b[0;34m)\u001b[0m\u001b[0;34m\u001b[0m\u001b[0;34m\u001b[0m\u001b[0m\n\u001b[0m\u001b[1;32m     93\u001b[0m             \u001b[0msleep\u001b[0m\u001b[0;34m(\u001b[0m\u001b[0mrandint\u001b[0m\u001b[0;34m(\u001b[0m\u001b[0;36m2\u001b[0m\u001b[0;34m,\u001b[0m\u001b[0;36m6\u001b[0m\u001b[0;34m)\u001b[0m\u001b[0;34m)\u001b[0m\u001b[0;34m\u001b[0m\u001b[0;34m\u001b[0m\u001b[0m\n\u001b[1;32m     94\u001b[0m \u001b[0;34m\u001b[0m\u001b[0m\n",
      "\u001b[0;32m/opt/homebrew/Caskroom/miniforge/base/envs/foundation/lib/python3.9/site-packages/selenium/webdriver/remote/webelement.py\u001b[0m in \u001b[0;36mclick\u001b[0;34m(self)\u001b[0m\n\u001b[1;32m     79\u001b[0m     \u001b[0;32mdef\u001b[0m \u001b[0mclick\u001b[0m\u001b[0;34m(\u001b[0m\u001b[0mself\u001b[0m\u001b[0;34m)\u001b[0m \u001b[0;34m->\u001b[0m \u001b[0;32mNone\u001b[0m\u001b[0;34m:\u001b[0m\u001b[0;34m\u001b[0m\u001b[0;34m\u001b[0m\u001b[0m\n\u001b[1;32m     80\u001b[0m         \u001b[0;34m\"\"\"Clicks the element.\"\"\"\u001b[0m\u001b[0;34m\u001b[0m\u001b[0;34m\u001b[0m\u001b[0m\n\u001b[0;32m---> 81\u001b[0;31m         \u001b[0mself\u001b[0m\u001b[0;34m.\u001b[0m\u001b[0m_execute\u001b[0m\u001b[0;34m(\u001b[0m\u001b[0mCommand\u001b[0m\u001b[0;34m.\u001b[0m\u001b[0mCLICK_ELEMENT\u001b[0m\u001b[0;34m)\u001b[0m\u001b[0;34m\u001b[0m\u001b[0;34m\u001b[0m\u001b[0m\n\u001b[0m\u001b[1;32m     82\u001b[0m \u001b[0;34m\u001b[0m\u001b[0m\n\u001b[1;32m     83\u001b[0m     \u001b[0;32mdef\u001b[0m \u001b[0msubmit\u001b[0m\u001b[0;34m(\u001b[0m\u001b[0mself\u001b[0m\u001b[0;34m)\u001b[0m\u001b[0;34m:\u001b[0m\u001b[0;34m\u001b[0m\u001b[0;34m\u001b[0m\u001b[0m\n",
      "\u001b[0;32m/opt/homebrew/Caskroom/miniforge/base/envs/foundation/lib/python3.9/site-packages/selenium/webdriver/remote/webelement.py\u001b[0m in \u001b[0;36m_execute\u001b[0;34m(self, command, params)\u001b[0m\n\u001b[1;32m    708\u001b[0m             \u001b[0mparams\u001b[0m \u001b[0;34m=\u001b[0m \u001b[0;34m{\u001b[0m\u001b[0;34m}\u001b[0m\u001b[0;34m\u001b[0m\u001b[0;34m\u001b[0m\u001b[0m\n\u001b[1;32m    709\u001b[0m         \u001b[0mparams\u001b[0m\u001b[0;34m[\u001b[0m\u001b[0;34m'id'\u001b[0m\u001b[0;34m]\u001b[0m \u001b[0;34m=\u001b[0m \u001b[0mself\u001b[0m\u001b[0;34m.\u001b[0m\u001b[0m_id\u001b[0m\u001b[0;34m\u001b[0m\u001b[0;34m\u001b[0m\u001b[0m\n\u001b[0;32m--> 710\u001b[0;31m         \u001b[0;32mreturn\u001b[0m \u001b[0mself\u001b[0m\u001b[0;34m.\u001b[0m\u001b[0m_parent\u001b[0m\u001b[0;34m.\u001b[0m\u001b[0mexecute\u001b[0m\u001b[0;34m(\u001b[0m\u001b[0mcommand\u001b[0m\u001b[0;34m,\u001b[0m \u001b[0mparams\u001b[0m\u001b[0;34m)\u001b[0m\u001b[0;34m\u001b[0m\u001b[0;34m\u001b[0m\u001b[0m\n\u001b[0m\u001b[1;32m    711\u001b[0m \u001b[0;34m\u001b[0m\u001b[0m\n\u001b[1;32m    712\u001b[0m     \u001b[0;32mdef\u001b[0m \u001b[0mfind_element\u001b[0m\u001b[0;34m(\u001b[0m\u001b[0mself\u001b[0m\u001b[0;34m,\u001b[0m \u001b[0mby\u001b[0m\u001b[0;34m=\u001b[0m\u001b[0mBy\u001b[0m\u001b[0;34m.\u001b[0m\u001b[0mID\u001b[0m\u001b[0;34m,\u001b[0m \u001b[0mvalue\u001b[0m\u001b[0;34m=\u001b[0m\u001b[0;32mNone\u001b[0m\u001b[0;34m)\u001b[0m\u001b[0;34m:\u001b[0m\u001b[0;34m\u001b[0m\u001b[0;34m\u001b[0m\u001b[0m\n",
      "\u001b[0;32m/opt/homebrew/Caskroom/miniforge/base/envs/foundation/lib/python3.9/site-packages/selenium/webdriver/remote/webdriver.py\u001b[0m in \u001b[0;36mexecute\u001b[0;34m(self, driver_command, params)\u001b[0m\n\u001b[1;32m    422\u001b[0m         \u001b[0mresponse\u001b[0m \u001b[0;34m=\u001b[0m \u001b[0mself\u001b[0m\u001b[0;34m.\u001b[0m\u001b[0mcommand_executor\u001b[0m\u001b[0;34m.\u001b[0m\u001b[0mexecute\u001b[0m\u001b[0;34m(\u001b[0m\u001b[0mdriver_command\u001b[0m\u001b[0;34m,\u001b[0m \u001b[0mparams\u001b[0m\u001b[0;34m)\u001b[0m\u001b[0;34m\u001b[0m\u001b[0;34m\u001b[0m\u001b[0m\n\u001b[1;32m    423\u001b[0m         \u001b[0;32mif\u001b[0m \u001b[0mresponse\u001b[0m\u001b[0;34m:\u001b[0m\u001b[0;34m\u001b[0m\u001b[0;34m\u001b[0m\u001b[0m\n\u001b[0;32m--> 424\u001b[0;31m             \u001b[0mself\u001b[0m\u001b[0;34m.\u001b[0m\u001b[0merror_handler\u001b[0m\u001b[0;34m.\u001b[0m\u001b[0mcheck_response\u001b[0m\u001b[0;34m(\u001b[0m\u001b[0mresponse\u001b[0m\u001b[0;34m)\u001b[0m\u001b[0;34m\u001b[0m\u001b[0;34m\u001b[0m\u001b[0m\n\u001b[0m\u001b[1;32m    425\u001b[0m             response['value'] = self._unwrap_value(\n\u001b[1;32m    426\u001b[0m                 response.get('value', None))\n",
      "\u001b[0;32m/opt/homebrew/Caskroom/miniforge/base/envs/foundation/lib/python3.9/site-packages/selenium/webdriver/remote/errorhandler.py\u001b[0m in \u001b[0;36mcheck_response\u001b[0;34m(self, response)\u001b[0m\n\u001b[1;32m    245\u001b[0m                 \u001b[0malert_text\u001b[0m \u001b[0;34m=\u001b[0m \u001b[0mvalue\u001b[0m\u001b[0;34m[\u001b[0m\u001b[0;34m'alert'\u001b[0m\u001b[0;34m]\u001b[0m\u001b[0;34m.\u001b[0m\u001b[0mget\u001b[0m\u001b[0;34m(\u001b[0m\u001b[0;34m'text'\u001b[0m\u001b[0;34m)\u001b[0m\u001b[0;34m\u001b[0m\u001b[0;34m\u001b[0m\u001b[0m\n\u001b[1;32m    246\u001b[0m             \u001b[0;32mraise\u001b[0m \u001b[0mexception_class\u001b[0m\u001b[0;34m(\u001b[0m\u001b[0mmessage\u001b[0m\u001b[0;34m,\u001b[0m \u001b[0mscreen\u001b[0m\u001b[0;34m,\u001b[0m \u001b[0mstacktrace\u001b[0m\u001b[0;34m,\u001b[0m \u001b[0malert_text\u001b[0m\u001b[0;34m)\u001b[0m  \u001b[0;31m# type: ignore[call-arg]  # mypy is not smart enough here\u001b[0m\u001b[0;34m\u001b[0m\u001b[0;34m\u001b[0m\u001b[0m\n\u001b[0;32m--> 247\u001b[0;31m         \u001b[0;32mraise\u001b[0m \u001b[0mexception_class\u001b[0m\u001b[0;34m(\u001b[0m\u001b[0mmessage\u001b[0m\u001b[0;34m,\u001b[0m \u001b[0mscreen\u001b[0m\u001b[0;34m,\u001b[0m \u001b[0mstacktrace\u001b[0m\u001b[0;34m)\u001b[0m\u001b[0;34m\u001b[0m\u001b[0;34m\u001b[0m\u001b[0m\n\u001b[0m\u001b[1;32m    248\u001b[0m \u001b[0;34m\u001b[0m\u001b[0m\n\u001b[1;32m    249\u001b[0m     \u001b[0;32mdef\u001b[0m \u001b[0m_value_or_default\u001b[0m\u001b[0;34m(\u001b[0m\u001b[0mself\u001b[0m\u001b[0;34m,\u001b[0m \u001b[0mobj\u001b[0m\u001b[0;34m:\u001b[0m \u001b[0mMapping\u001b[0m\u001b[0;34m[\u001b[0m\u001b[0m_KT\u001b[0m\u001b[0;34m,\u001b[0m \u001b[0m_VT\u001b[0m\u001b[0;34m]\u001b[0m\u001b[0;34m,\u001b[0m \u001b[0mkey\u001b[0m\u001b[0;34m:\u001b[0m \u001b[0m_KT\u001b[0m\u001b[0;34m,\u001b[0m \u001b[0mdefault\u001b[0m\u001b[0;34m:\u001b[0m \u001b[0m_VT\u001b[0m\u001b[0;34m)\u001b[0m \u001b[0;34m->\u001b[0m \u001b[0m_VT\u001b[0m\u001b[0;34m:\u001b[0m\u001b[0;34m\u001b[0m\u001b[0;34m\u001b[0m\u001b[0m\n",
      "\u001b[0;31mElementNotInteractableException\u001b[0m: Message: Element <button class=\"css-2anst8\"> could not be scrolled into view\nStacktrace:\nWebDriverError@chrome://remote/content/shared/webdriver/Errors.jsm:181:5\nElementNotInteractableError@chrome://remote/content/shared/webdriver/Errors.jsm:291:5\nwebdriverClickElement@chrome://remote/content/marionette/interaction.js:156:11\ninteraction.clickElement@chrome://remote/content/marionette/interaction.js:125:11\nclickElement@chrome://remote/content/marionette/actors/MarionetteCommandsChild.jsm:200:24\nreceiveMessage@chrome://remote/content/marionette/actors/MarionetteCommandsChild.jsm:91:31\n"
     ]
    }
   ],
   "source": [
    "estee_lauder_double_wear_stay_in_place.clicking_and_scraping(starting_page=0, ending_page=999)"
   ]
  },
  {
   "cell_type": "code",
   "execution_count": 4,
   "metadata": {},
   "outputs": [
    {
     "data": {
      "text/plain": [
       "1722"
      ]
     },
     "execution_count": 4,
     "metadata": {},
     "output_type": "execute_result"
    }
   ],
   "source": [
    "len(estee_lauder_double_wear_stay_in_place.data)"
   ]
  },
  {
   "cell_type": "code",
   "execution_count": 5,
   "metadata": {},
   "outputs": [
    {
     "name": "stderr",
     "output_type": "stream",
     "text": [
      "  0%|          | 0/712 [00:00<?, ?it/s]/opt/homebrew/Caskroom/miniforge/base/envs/foundation/lib/python3.9/site-packages/selenium/webdriver/remote/webelement.py:502: UserWarning: find_elements_by_* commands are deprecated. Please use find_elements() instead\n",
      "  warnings.warn(\"find_elements_by_* commands are deprecated. Please use find_elements() instead\")\n",
      "/opt/homebrew/Caskroom/miniforge/base/envs/foundation/lib/python3.9/site-packages/selenium/webdriver/remote/webelement.py:484: UserWarning: find_element_by_* commands are deprecated. Please use find_element() instead\n",
      "  warnings.warn(\"find_element_by_* commands are deprecated. Please use find_element() instead\")\n",
      "100%|██████████| 712/712 [1:14:07<00:00,  6.25s/it]   \n"
     ]
    }
   ],
   "source": [
    "estee_lauder_double_wear_stay_in_place.clicking_and_scraping(starting_page=287, ending_page=999)"
   ]
  },
  {
   "cell_type": "code",
   "execution_count": 6,
   "metadata": {},
   "outputs": [],
   "source": [
    "estee_lauder_double_wear_stay_in_place.data.to_csv(\"estee_lauder_double_wear_stay_in_place.csv\")"
   ]
  },
  {
   "cell_type": "code",
   "execution_count": 7,
   "metadata": {},
   "outputs": [],
   "source": [
    "estee_lauder_double_wear_stay_in_place.close_driver()"
   ]
  },
  {
   "cell_type": "code",
   "execution_count": 8,
   "metadata": {},
   "outputs": [],
   "source": [
    "Rare_Beauty_by_Selena_Gomez_Liquid_Touch_Weightless = scrapping_foundations()\n",
    "Rare_Beauty_by_Selena_Gomez_Liquid_Touch_Weightless.set_up_driver(url=\"https://www.sephora.com/product/rare-beauty-by-selena-gomez-liquid-touch-weightless-foundation-P49848448?skuId=2361392\")"
   ]
  },
  {
   "cell_type": "code",
   "execution_count": 9,
   "metadata": {},
   "outputs": [
    {
     "name": "stderr",
     "output_type": "stream",
     "text": [
      "  0%|          | 0/752 [00:00<?, ?it/s]/opt/homebrew/Caskroom/miniforge/base/envs/foundation/lib/python3.9/site-packages/selenium/webdriver/remote/webelement.py:502: UserWarning: find_elements_by_* commands are deprecated. Please use find_elements() instead\n",
      "  warnings.warn(\"find_elements_by_* commands are deprecated. Please use find_elements() instead\")\n",
      "/opt/homebrew/Caskroom/miniforge/base/envs/foundation/lib/python3.9/site-packages/selenium/webdriver/remote/webelement.py:484: UserWarning: find_element_by_* commands are deprecated. Please use find_element() instead\n",
      "  warnings.warn(\"find_element_by_* commands are deprecated. Please use find_element() instead\")\n",
      " 28%|██▊       | 209/752 [25:20<1:05:51,  7.28s/it] \n"
     ]
    },
    {
     "ename": "ElementClickInterceptedException",
     "evalue": "Message: Element <button class=\"css-2anst8\"> is not clickable at point (354,841) because another element <html class=\"css-mao3d8 no-touch hideDefaults\"> obscures it\nStacktrace:\nWebDriverError@chrome://remote/content/shared/webdriver/Errors.jsm:181:5\nElementClickInterceptedError@chrome://remote/content/shared/webdriver/Errors.jsm:280:5\nwebdriverClickElement@chrome://remote/content/marionette/interaction.js:166:11\ninteraction.clickElement@chrome://remote/content/marionette/interaction.js:125:11\nclickElement@chrome://remote/content/marionette/actors/MarionetteCommandsChild.jsm:200:24\nreceiveMessage@chrome://remote/content/marionette/actors/MarionetteCommandsChild.jsm:91:31\n",
     "output_type": "error",
     "traceback": [
      "\u001b[0;31m---------------------------------------------------------------------------\u001b[0m",
      "\u001b[0;31mElementClickInterceptedException\u001b[0m          Traceback (most recent call last)",
      "\u001b[0;32m/var/folders/b8/qhvvp5cj1hj_nj6sgf68yv3r0000gn/T/ipykernel_84117/2343441248.py\u001b[0m in \u001b[0;36m<module>\u001b[0;34m\u001b[0m\n\u001b[0;32m----> 1\u001b[0;31m \u001b[0mRare_Beauty_by_Selena_Gomez_Liquid_Touch_Weightless\u001b[0m\u001b[0;34m.\u001b[0m\u001b[0mclicking_and_scraping\u001b[0m\u001b[0;34m(\u001b[0m\u001b[0mstarting_page\u001b[0m\u001b[0;34m=\u001b[0m\u001b[0;36m0\u001b[0m\u001b[0;34m,\u001b[0m \u001b[0mending_page\u001b[0m\u001b[0;34m=\u001b[0m\u001b[0;36m752\u001b[0m\u001b[0;34m)\u001b[0m\u001b[0;34m\u001b[0m\u001b[0;34m\u001b[0m\u001b[0m\n\u001b[0m",
      "\u001b[0;32m~/Projects/_DS_projects/project_foundation/scrapping.py\u001b[0m in \u001b[0;36mclicking_and_scraping\u001b[0;34m(self, starting_page, ending_page)\u001b[0m\n\u001b[1;32m     90\u001b[0m             \u001b[0mself\u001b[0m\u001b[0;34m.\u001b[0m\u001b[0mlist_of_reviews\u001b[0m \u001b[0;34m=\u001b[0m \u001b[0mself\u001b[0m\u001b[0;34m.\u001b[0m\u001b[0mdriver\u001b[0m\u001b[0;34m.\u001b[0m\u001b[0mfind_elements_by_css_selector\u001b[0m\u001b[0;34m(\u001b[0m\u001b[0;34m'div[data-comp=\"Review StyledComponent BaseComponent \"]'\u001b[0m\u001b[0;34m)\u001b[0m\u001b[0;34m\u001b[0m\u001b[0;34m\u001b[0m\u001b[0m\n\u001b[1;32m     91\u001b[0m             \u001b[0mself\u001b[0m\u001b[0;34m.\u001b[0m\u001b[0mappend_new_data\u001b[0m\u001b[0;34m(\u001b[0m\u001b[0;34m)\u001b[0m\u001b[0;34m\u001b[0m\u001b[0;34m\u001b[0m\u001b[0m\n\u001b[0;32m---> 92\u001b[0;31m             \u001b[0mself\u001b[0m\u001b[0;34m.\u001b[0m\u001b[0mdriver\u001b[0m\u001b[0;34m.\u001b[0m\u001b[0mfind_element_by_css_selector\u001b[0m\u001b[0;34m(\u001b[0m\u001b[0;34m'button[aria-label=\"Next\"]'\u001b[0m\u001b[0;34m)\u001b[0m\u001b[0;34m.\u001b[0m\u001b[0mclick\u001b[0m\u001b[0;34m(\u001b[0m\u001b[0;34m)\u001b[0m\u001b[0;34m\u001b[0m\u001b[0;34m\u001b[0m\u001b[0m\n\u001b[0m\u001b[1;32m     93\u001b[0m             \u001b[0msleep\u001b[0m\u001b[0;34m(\u001b[0m\u001b[0mrandint\u001b[0m\u001b[0;34m(\u001b[0m\u001b[0;36m2\u001b[0m\u001b[0;34m,\u001b[0m\u001b[0;36m6\u001b[0m\u001b[0;34m)\u001b[0m\u001b[0;34m)\u001b[0m\u001b[0;34m\u001b[0m\u001b[0;34m\u001b[0m\u001b[0m\n\u001b[1;32m     94\u001b[0m \u001b[0;34m\u001b[0m\u001b[0m\n",
      "\u001b[0;32m/opt/homebrew/Caskroom/miniforge/base/envs/foundation/lib/python3.9/site-packages/selenium/webdriver/remote/webelement.py\u001b[0m in \u001b[0;36mclick\u001b[0;34m(self)\u001b[0m\n\u001b[1;32m     79\u001b[0m     \u001b[0;32mdef\u001b[0m \u001b[0mclick\u001b[0m\u001b[0;34m(\u001b[0m\u001b[0mself\u001b[0m\u001b[0;34m)\u001b[0m \u001b[0;34m->\u001b[0m \u001b[0;32mNone\u001b[0m\u001b[0;34m:\u001b[0m\u001b[0;34m\u001b[0m\u001b[0;34m\u001b[0m\u001b[0m\n\u001b[1;32m     80\u001b[0m         \u001b[0;34m\"\"\"Clicks the element.\"\"\"\u001b[0m\u001b[0;34m\u001b[0m\u001b[0;34m\u001b[0m\u001b[0m\n\u001b[0;32m---> 81\u001b[0;31m         \u001b[0mself\u001b[0m\u001b[0;34m.\u001b[0m\u001b[0m_execute\u001b[0m\u001b[0;34m(\u001b[0m\u001b[0mCommand\u001b[0m\u001b[0;34m.\u001b[0m\u001b[0mCLICK_ELEMENT\u001b[0m\u001b[0;34m)\u001b[0m\u001b[0;34m\u001b[0m\u001b[0;34m\u001b[0m\u001b[0m\n\u001b[0m\u001b[1;32m     82\u001b[0m \u001b[0;34m\u001b[0m\u001b[0m\n\u001b[1;32m     83\u001b[0m     \u001b[0;32mdef\u001b[0m \u001b[0msubmit\u001b[0m\u001b[0;34m(\u001b[0m\u001b[0mself\u001b[0m\u001b[0;34m)\u001b[0m\u001b[0;34m:\u001b[0m\u001b[0;34m\u001b[0m\u001b[0;34m\u001b[0m\u001b[0m\n",
      "\u001b[0;32m/opt/homebrew/Caskroom/miniforge/base/envs/foundation/lib/python3.9/site-packages/selenium/webdriver/remote/webelement.py\u001b[0m in \u001b[0;36m_execute\u001b[0;34m(self, command, params)\u001b[0m\n\u001b[1;32m    708\u001b[0m             \u001b[0mparams\u001b[0m \u001b[0;34m=\u001b[0m \u001b[0;34m{\u001b[0m\u001b[0;34m}\u001b[0m\u001b[0;34m\u001b[0m\u001b[0;34m\u001b[0m\u001b[0m\n\u001b[1;32m    709\u001b[0m         \u001b[0mparams\u001b[0m\u001b[0;34m[\u001b[0m\u001b[0;34m'id'\u001b[0m\u001b[0;34m]\u001b[0m \u001b[0;34m=\u001b[0m \u001b[0mself\u001b[0m\u001b[0;34m.\u001b[0m\u001b[0m_id\u001b[0m\u001b[0;34m\u001b[0m\u001b[0;34m\u001b[0m\u001b[0m\n\u001b[0;32m--> 710\u001b[0;31m         \u001b[0;32mreturn\u001b[0m \u001b[0mself\u001b[0m\u001b[0;34m.\u001b[0m\u001b[0m_parent\u001b[0m\u001b[0;34m.\u001b[0m\u001b[0mexecute\u001b[0m\u001b[0;34m(\u001b[0m\u001b[0mcommand\u001b[0m\u001b[0;34m,\u001b[0m \u001b[0mparams\u001b[0m\u001b[0;34m)\u001b[0m\u001b[0;34m\u001b[0m\u001b[0;34m\u001b[0m\u001b[0m\n\u001b[0m\u001b[1;32m    711\u001b[0m \u001b[0;34m\u001b[0m\u001b[0m\n\u001b[1;32m    712\u001b[0m     \u001b[0;32mdef\u001b[0m \u001b[0mfind_element\u001b[0m\u001b[0;34m(\u001b[0m\u001b[0mself\u001b[0m\u001b[0;34m,\u001b[0m \u001b[0mby\u001b[0m\u001b[0;34m=\u001b[0m\u001b[0mBy\u001b[0m\u001b[0;34m.\u001b[0m\u001b[0mID\u001b[0m\u001b[0;34m,\u001b[0m \u001b[0mvalue\u001b[0m\u001b[0;34m=\u001b[0m\u001b[0;32mNone\u001b[0m\u001b[0;34m)\u001b[0m\u001b[0;34m:\u001b[0m\u001b[0;34m\u001b[0m\u001b[0;34m\u001b[0m\u001b[0m\n",
      "\u001b[0;32m/opt/homebrew/Caskroom/miniforge/base/envs/foundation/lib/python3.9/site-packages/selenium/webdriver/remote/webdriver.py\u001b[0m in \u001b[0;36mexecute\u001b[0;34m(self, driver_command, params)\u001b[0m\n\u001b[1;32m    422\u001b[0m         \u001b[0mresponse\u001b[0m \u001b[0;34m=\u001b[0m \u001b[0mself\u001b[0m\u001b[0;34m.\u001b[0m\u001b[0mcommand_executor\u001b[0m\u001b[0;34m.\u001b[0m\u001b[0mexecute\u001b[0m\u001b[0;34m(\u001b[0m\u001b[0mdriver_command\u001b[0m\u001b[0;34m,\u001b[0m \u001b[0mparams\u001b[0m\u001b[0;34m)\u001b[0m\u001b[0;34m\u001b[0m\u001b[0;34m\u001b[0m\u001b[0m\n\u001b[1;32m    423\u001b[0m         \u001b[0;32mif\u001b[0m \u001b[0mresponse\u001b[0m\u001b[0;34m:\u001b[0m\u001b[0;34m\u001b[0m\u001b[0;34m\u001b[0m\u001b[0m\n\u001b[0;32m--> 424\u001b[0;31m             \u001b[0mself\u001b[0m\u001b[0;34m.\u001b[0m\u001b[0merror_handler\u001b[0m\u001b[0;34m.\u001b[0m\u001b[0mcheck_response\u001b[0m\u001b[0;34m(\u001b[0m\u001b[0mresponse\u001b[0m\u001b[0;34m)\u001b[0m\u001b[0;34m\u001b[0m\u001b[0;34m\u001b[0m\u001b[0m\n\u001b[0m\u001b[1;32m    425\u001b[0m             response['value'] = self._unwrap_value(\n\u001b[1;32m    426\u001b[0m                 response.get('value', None))\n",
      "\u001b[0;32m/opt/homebrew/Caskroom/miniforge/base/envs/foundation/lib/python3.9/site-packages/selenium/webdriver/remote/errorhandler.py\u001b[0m in \u001b[0;36mcheck_response\u001b[0;34m(self, response)\u001b[0m\n\u001b[1;32m    245\u001b[0m                 \u001b[0malert_text\u001b[0m \u001b[0;34m=\u001b[0m \u001b[0mvalue\u001b[0m\u001b[0;34m[\u001b[0m\u001b[0;34m'alert'\u001b[0m\u001b[0;34m]\u001b[0m\u001b[0;34m.\u001b[0m\u001b[0mget\u001b[0m\u001b[0;34m(\u001b[0m\u001b[0;34m'text'\u001b[0m\u001b[0;34m)\u001b[0m\u001b[0;34m\u001b[0m\u001b[0;34m\u001b[0m\u001b[0m\n\u001b[1;32m    246\u001b[0m             \u001b[0;32mraise\u001b[0m \u001b[0mexception_class\u001b[0m\u001b[0;34m(\u001b[0m\u001b[0mmessage\u001b[0m\u001b[0;34m,\u001b[0m \u001b[0mscreen\u001b[0m\u001b[0;34m,\u001b[0m \u001b[0mstacktrace\u001b[0m\u001b[0;34m,\u001b[0m \u001b[0malert_text\u001b[0m\u001b[0;34m)\u001b[0m  \u001b[0;31m# type: ignore[call-arg]  # mypy is not smart enough here\u001b[0m\u001b[0;34m\u001b[0m\u001b[0;34m\u001b[0m\u001b[0m\n\u001b[0;32m--> 247\u001b[0;31m         \u001b[0;32mraise\u001b[0m \u001b[0mexception_class\u001b[0m\u001b[0;34m(\u001b[0m\u001b[0mmessage\u001b[0m\u001b[0;34m,\u001b[0m \u001b[0mscreen\u001b[0m\u001b[0;34m,\u001b[0m \u001b[0mstacktrace\u001b[0m\u001b[0;34m)\u001b[0m\u001b[0;34m\u001b[0m\u001b[0;34m\u001b[0m\u001b[0m\n\u001b[0m\u001b[1;32m    248\u001b[0m \u001b[0;34m\u001b[0m\u001b[0m\n\u001b[1;32m    249\u001b[0m     \u001b[0;32mdef\u001b[0m \u001b[0m_value_or_default\u001b[0m\u001b[0;34m(\u001b[0m\u001b[0mself\u001b[0m\u001b[0;34m,\u001b[0m \u001b[0mobj\u001b[0m\u001b[0;34m:\u001b[0m \u001b[0mMapping\u001b[0m\u001b[0;34m[\u001b[0m\u001b[0m_KT\u001b[0m\u001b[0;34m,\u001b[0m \u001b[0m_VT\u001b[0m\u001b[0;34m]\u001b[0m\u001b[0;34m,\u001b[0m \u001b[0mkey\u001b[0m\u001b[0;34m:\u001b[0m \u001b[0m_KT\u001b[0m\u001b[0;34m,\u001b[0m \u001b[0mdefault\u001b[0m\u001b[0;34m:\u001b[0m \u001b[0m_VT\u001b[0m\u001b[0;34m)\u001b[0m \u001b[0;34m->\u001b[0m \u001b[0m_VT\u001b[0m\u001b[0;34m:\u001b[0m\u001b[0;34m\u001b[0m\u001b[0;34m\u001b[0m\u001b[0m\n",
      "\u001b[0;31mElementClickInterceptedException\u001b[0m: Message: Element <button class=\"css-2anst8\"> is not clickable at point (354,841) because another element <html class=\"css-mao3d8 no-touch hideDefaults\"> obscures it\nStacktrace:\nWebDriverError@chrome://remote/content/shared/webdriver/Errors.jsm:181:5\nElementClickInterceptedError@chrome://remote/content/shared/webdriver/Errors.jsm:280:5\nwebdriverClickElement@chrome://remote/content/marionette/interaction.js:166:11\ninteraction.clickElement@chrome://remote/content/marionette/interaction.js:125:11\nclickElement@chrome://remote/content/marionette/actors/MarionetteCommandsChild.jsm:200:24\nreceiveMessage@chrome://remote/content/marionette/actors/MarionetteCommandsChild.jsm:91:31\n"
     ]
    }
   ],
   "source": [
    "Rare_Beauty_by_Selena_Gomez_Liquid_Touch_Weightless.clicking_and_scraping(starting_page=0, ending_page=752)"
   ]
  },
  {
   "cell_type": "code",
   "execution_count": 10,
   "metadata": {},
   "outputs": [
    {
     "data": {
      "text/plain": [
       "1260"
      ]
     },
     "execution_count": 10,
     "metadata": {},
     "output_type": "execute_result"
    }
   ],
   "source": [
    "len(Rare_Beauty_by_Selena_Gomez_Liquid_Touch_Weightless.data)"
   ]
  },
  {
   "cell_type": "code",
   "execution_count": 11,
   "metadata": {},
   "outputs": [
    {
     "name": "stderr",
     "output_type": "stream",
     "text": [
      "  0%|          | 0/542 [00:00<?, ?it/s]/opt/homebrew/Caskroom/miniforge/base/envs/foundation/lib/python3.9/site-packages/selenium/webdriver/remote/webelement.py:502: UserWarning: find_elements_by_* commands are deprecated. Please use find_elements() instead\n",
      "  warnings.warn(\"find_elements_by_* commands are deprecated. Please use find_elements() instead\")\n",
      "/opt/homebrew/Caskroom/miniforge/base/envs/foundation/lib/python3.9/site-packages/selenium/webdriver/remote/webelement.py:484: UserWarning: find_element_by_* commands are deprecated. Please use find_element() instead\n",
      "  warnings.warn(\"find_element_by_* commands are deprecated. Please use find_element() instead\")\n",
      "100%|██████████| 542/542 [39:14<00:00,  4.34s/it]\n"
     ]
    }
   ],
   "source": [
    "Rare_Beauty_by_Selena_Gomez_Liquid_Touch_Weightless.clicking_and_scraping(starting_page=210, ending_page=752)"
   ]
  },
  {
   "cell_type": "code",
   "execution_count": 12,
   "metadata": {},
   "outputs": [
    {
     "data": {
      "text/plain": [
       "4512"
      ]
     },
     "execution_count": 12,
     "metadata": {},
     "output_type": "execute_result"
    }
   ],
   "source": [
    "len(Rare_Beauty_by_Selena_Gomez_Liquid_Touch_Weightless.data)"
   ]
  },
  {
   "cell_type": "code",
   "execution_count": 13,
   "metadata": {},
   "outputs": [],
   "source": [
    "Rare_Beauty_by_Selena_Gomez_Liquid_Touch_Weightless.data.to_csv(\"Rare_Beauty_by_Selena_Gomez_Liquid_Touch_Weightless.csv\")"
   ]
  },
  {
   "cell_type": "code",
   "execution_count": 14,
   "metadata": {},
   "outputs": [],
   "source": [
    "Rare_Beauty_by_Selena_Gomez_Liquid_Touch_Weightless.close_driver()"
   ]
  },
  {
   "cell_type": "code",
   "execution_count": 15,
   "metadata": {},
   "outputs": [],
   "source": [
    "Dior_BACKSTAGE_Face_Body_Foundation = scrapping_foundations()\n",
    "Dior_BACKSTAGE_Face_Body_Foundation.set_up_driver(url=\"https://www.sephora.com/product/backstage-face-body-foundation-P432500?skuId=2070571\")"
   ]
  },
  {
   "cell_type": "code",
   "execution_count": 16,
   "metadata": {},
   "outputs": [
    {
     "name": "stderr",
     "output_type": "stream",
     "text": [
      "  0%|          | 0/602 [00:00<?, ?it/s]/opt/homebrew/Caskroom/miniforge/base/envs/foundation/lib/python3.9/site-packages/selenium/webdriver/remote/webelement.py:502: UserWarning: find_elements_by_* commands are deprecated. Please use find_elements() instead\n",
      "  warnings.warn(\"find_elements_by_* commands are deprecated. Please use find_elements() instead\")\n",
      "/opt/homebrew/Caskroom/miniforge/base/envs/foundation/lib/python3.9/site-packages/selenium/webdriver/remote/webelement.py:484: UserWarning: find_element_by_* commands are deprecated. Please use find_element() instead\n",
      "  warnings.warn(\"find_element_by_* commands are deprecated. Please use find_element() instead\")\n",
      "100%|██████████| 602/602 [58:09<00:00,  5.80s/it]    \n"
     ]
    }
   ],
   "source": [
    "Dior_BACKSTAGE_Face_Body_Foundation.clicking_and_scraping(starting_page=0, ending_page=602)"
   ]
  },
  {
   "cell_type": "code",
   "execution_count": 17,
   "metadata": {},
   "outputs": [
    {
     "data": {
      "text/plain": [
       "3609"
      ]
     },
     "execution_count": 17,
     "metadata": {},
     "output_type": "execute_result"
    }
   ],
   "source": [
    "len(Dior_BACKSTAGE_Face_Body_Foundation.data)"
   ]
  },
  {
   "cell_type": "code",
   "execution_count": 18,
   "metadata": {},
   "outputs": [
    {
     "data": {
      "text/html": [
       "<div>\n",
       "<style scoped>\n",
       "    .dataframe tbody tr th:only-of-type {\n",
       "        vertical-align: middle;\n",
       "    }\n",
       "\n",
       "    .dataframe tbody tr th {\n",
       "        vertical-align: top;\n",
       "    }\n",
       "\n",
       "    .dataframe thead th {\n",
       "        text-align: right;\n",
       "    }\n",
       "</style>\n",
       "<table border=\"1\" class=\"dataframe\">\n",
       "  <thead>\n",
       "    <tr style=\"text-align: right;\">\n",
       "      <th></th>\n",
       "      <th>reviewer_id</th>\n",
       "      <th>rating</th>\n",
       "      <th>review_subject</th>\n",
       "      <th>reviewer_feature</th>\n",
       "      <th>purchased_shade</th>\n",
       "    </tr>\n",
       "  </thead>\n",
       "  <tbody>\n",
       "    <tr>\n",
       "      <th>0</th>\n",
       "      <td>kxwarren</td>\n",
       "      <td>5.0</td>\n",
       "      <td>Holy Grail</td>\n",
       "      <td>Brown eyes, Brunette hair, Olive skin tone, Oi...</td>\n",
       "      <td>2 Warm Olive</td>\n",
       "    </tr>\n",
       "    <tr>\n",
       "      <th>1</th>\n",
       "      <td>Schgordon</td>\n",
       "      <td>5.0</td>\n",
       "      <td>Lightweight, long wearing, customizable coverage!</td>\n",
       "      <td>Brown eyes, Black hair, Light skin tone, Oily ...</td>\n",
       "      <td>2 Neutral</td>\n",
       "    </tr>\n",
       "    <tr>\n",
       "      <th>2</th>\n",
       "      <td>Katietree</td>\n",
       "      <td>2.0</td>\n",
       "      <td>disappointed</td>\n",
       "      <td>Blue eyes, Brunette hair, Medium skin tone, Co...</td>\n",
       "      <td>2 Warm</td>\n",
       "    </tr>\n",
       "    <tr>\n",
       "      <th>3</th>\n",
       "      <td>Mariahc17</td>\n",
       "      <td>4.0</td>\n",
       "      <td>Great, just wish it didn’t have fragrance!</td>\n",
       "      <td>Brown eyes, Black hair, Tan skin tone, Combina...</td>\n",
       "      <td>3 Warm Olive</td>\n",
       "    </tr>\n",
       "    <tr>\n",
       "      <th>4</th>\n",
       "      <td>nvtvlivvv</td>\n",
       "      <td>5.0</td>\n",
       "      <td>Fav Foundation</td>\n",
       "      <td>Light skin tone, Normal skin</td>\n",
       "      <td>2 Neutral</td>\n",
       "    </tr>\n",
       "  </tbody>\n",
       "</table>\n",
       "</div>"
      ],
      "text/plain": [
       "  reviewer_id  rating                                     review_subject  \\\n",
       "0    kxwarren     5.0                                         Holy Grail   \n",
       "1   Schgordon     5.0  Lightweight, long wearing, customizable coverage!   \n",
       "2   Katietree     2.0                                       disappointed   \n",
       "3   Mariahc17     4.0         Great, just wish it didn’t have fragrance!   \n",
       "4   nvtvlivvv     5.0                                     Fav Foundation   \n",
       "\n",
       "                                    reviewer_feature purchased_shade  \n",
       "0  Brown eyes, Brunette hair, Olive skin tone, Oi...    2 Warm Olive  \n",
       "1  Brown eyes, Black hair, Light skin tone, Oily ...       2 Neutral  \n",
       "2  Blue eyes, Brunette hair, Medium skin tone, Co...          2 Warm  \n",
       "3  Brown eyes, Black hair, Tan skin tone, Combina...    3 Warm Olive  \n",
       "4                       Light skin tone, Normal skin       2 Neutral  "
      ]
     },
     "execution_count": 18,
     "metadata": {},
     "output_type": "execute_result"
    }
   ],
   "source": [
    "Dior_BACKSTAGE_Face_Body_Foundation.data.head()"
   ]
  },
  {
   "cell_type": "code",
   "execution_count": 19,
   "metadata": {},
   "outputs": [],
   "source": [
    "Dior_BACKSTAGE_Face_Body_Foundation.data.to_csv(\"Dior_BACKSTAGE_Face_Body_Foundation.csv\")\n",
    "Dior_BACKSTAGE_Face_Body_Foundation.close_driver()"
   ]
  },
  {
   "cell_type": "code",
   "execution_count": 20,
   "metadata": {},
   "outputs": [],
   "source": [
    "Lancome_Teint_Idole_Ultra_24H_Long_Wear_Matte_Foundation = scrapping_foundations()\n",
    "Lancome_Teint_Idole_Ultra_24H_Long_Wear_Matte_Foundation.set_up_driver(url=\"https://www.sephora.com/product/teint-idole-ultra-24h-long-wear-foundation-P308201?skuId=1399120\")"
   ]
  },
  {
   "cell_type": "code",
   "execution_count": 21,
   "metadata": {},
   "outputs": [
    {
     "name": "stderr",
     "output_type": "stream",
     "text": [
      "  0%|          | 0/884 [00:00<?, ?it/s]/opt/homebrew/Caskroom/miniforge/base/envs/foundation/lib/python3.9/site-packages/selenium/webdriver/remote/webelement.py:502: UserWarning: find_elements_by_* commands are deprecated. Please use find_elements() instead\n",
      "  warnings.warn(\"find_elements_by_* commands are deprecated. Please use find_elements() instead\")\n",
      "/opt/homebrew/Caskroom/miniforge/base/envs/foundation/lib/python3.9/site-packages/selenium/webdriver/remote/webelement.py:484: UserWarning: find_element_by_* commands are deprecated. Please use find_element() instead\n",
      "  warnings.warn(\"find_element_by_* commands are deprecated. Please use find_element() instead\")\n",
      "100%|██████████| 884/884 [1:06:55<00:00,  4.54s/it]\n"
     ]
    }
   ],
   "source": [
    "Lancome_Teint_Idole_Ultra_24H_Long_Wear_Matte_Foundation.clicking_and_scraping(starting_page=0, ending_page=884)"
   ]
  },
  {
   "cell_type": "code",
   "execution_count": 22,
   "metadata": {},
   "outputs": [
    {
     "data": {
      "text/plain": [
       "5303"
      ]
     },
     "execution_count": 22,
     "metadata": {},
     "output_type": "execute_result"
    }
   ],
   "source": [
    "len(Lancome_Teint_Idole_Ultra_24H_Long_Wear_Matte_Foundation.data)"
   ]
  },
  {
   "cell_type": "code",
   "execution_count": 23,
   "metadata": {},
   "outputs": [
    {
     "data": {
      "text/html": [
       "<div>\n",
       "<style scoped>\n",
       "    .dataframe tbody tr th:only-of-type {\n",
       "        vertical-align: middle;\n",
       "    }\n",
       "\n",
       "    .dataframe tbody tr th {\n",
       "        vertical-align: top;\n",
       "    }\n",
       "\n",
       "    .dataframe thead th {\n",
       "        text-align: right;\n",
       "    }\n",
       "</style>\n",
       "<table border=\"1\" class=\"dataframe\">\n",
       "  <thead>\n",
       "    <tr style=\"text-align: right;\">\n",
       "      <th></th>\n",
       "      <th>reviewer_id</th>\n",
       "      <th>rating</th>\n",
       "      <th>review_subject</th>\n",
       "      <th>reviewer_feature</th>\n",
       "      <th>purchased_shade</th>\n",
       "    </tr>\n",
       "  </thead>\n",
       "  <tbody>\n",
       "    <tr>\n",
       "      <th>0</th>\n",
       "      <td>kriswesty</td>\n",
       "      <td>5.0</td>\n",
       "      <td>My Go To</td>\n",
       "      <td>Brown eyes, Brunette hair, Light skin tone, Co...</td>\n",
       "      <td>160 Ivoire W - For fair to light skin with war...</td>\n",
       "    </tr>\n",
       "    <tr>\n",
       "      <th>1</th>\n",
       "      <td>MamaTtoBLG</td>\n",
       "      <td>5.0</td>\n",
       "      <td>Flawless!</td>\n",
       "      <td>Brown eyes, Brunette hair, Medium skin tone, C...</td>\n",
       "      <td>215 Buff N - For light skin with neutral under...</td>\n",
       "    </tr>\n",
       "    <tr>\n",
       "      <th>2</th>\n",
       "      <td>MamaTtoBLG</td>\n",
       "      <td>5.0</td>\n",
       "      <td>Everyday Foundation!</td>\n",
       "      <td>Brown eyes, Brunette hair, Medium skin tone, C...</td>\n",
       "      <td>220 Buff C - For light skin with cool/pink und...</td>\n",
       "    </tr>\n",
       "    <tr>\n",
       "      <th>3</th>\n",
       "      <td>belenselassie</td>\n",
       "      <td>4.0</td>\n",
       "      <td>None</td>\n",
       "      <td>Brown eyes, Brunette hair, Deep skin tone, Nor...</td>\n",
       "      <td>None</td>\n",
       "    </tr>\n",
       "    <tr>\n",
       "      <th>4</th>\n",
       "      <td>makeuplover11234</td>\n",
       "      <td>5.0</td>\n",
       "      <td>HOLY GRAIL PROJECT!</td>\n",
       "      <td>Brown eyes, Black hair, Dark skin tone, Combin...</td>\n",
       "      <td>510 Suede C - For deep to dark skin with cool/...</td>\n",
       "    </tr>\n",
       "  </tbody>\n",
       "</table>\n",
       "</div>"
      ],
      "text/plain": [
       "        reviewer_id  rating        review_subject  \\\n",
       "0         kriswesty     5.0              My Go To   \n",
       "1        MamaTtoBLG     5.0             Flawless!   \n",
       "2        MamaTtoBLG     5.0  Everyday Foundation!   \n",
       "3     belenselassie     4.0                  None   \n",
       "4  makeuplover11234     5.0   HOLY GRAIL PROJECT!   \n",
       "\n",
       "                                    reviewer_feature  \\\n",
       "0  Brown eyes, Brunette hair, Light skin tone, Co...   \n",
       "1  Brown eyes, Brunette hair, Medium skin tone, C...   \n",
       "2  Brown eyes, Brunette hair, Medium skin tone, C...   \n",
       "3  Brown eyes, Brunette hair, Deep skin tone, Nor...   \n",
       "4  Brown eyes, Black hair, Dark skin tone, Combin...   \n",
       "\n",
       "                                     purchased_shade  \n",
       "0  160 Ivoire W - For fair to light skin with war...  \n",
       "1  215 Buff N - For light skin with neutral under...  \n",
       "2  220 Buff C - For light skin with cool/pink und...  \n",
       "3                                               None  \n",
       "4  510 Suede C - For deep to dark skin with cool/...  "
      ]
     },
     "execution_count": 23,
     "metadata": {},
     "output_type": "execute_result"
    }
   ],
   "source": [
    "Lancome_Teint_Idole_Ultra_24H_Long_Wear_Matte_Foundation.data.head()"
   ]
  },
  {
   "cell_type": "code",
   "execution_count": 24,
   "metadata": {},
   "outputs": [],
   "source": [
    "Lancome_Teint_Idole_Ultra_24H_Long_Wear_Matte_Foundation.data.to_csv(\"Lancome_Teint_Idole_Ultra_24H_Long_Wear_Matte_Foundation.csv\")\n",
    "Lancome_Teint_Idole_Ultra_24H_Long_Wear_Matte_Foundation.close_driver()"
   ]
  },
  {
   "cell_type": "code",
   "execution_count": 25,
   "metadata": {},
   "outputs": [],
   "source": [
    "NARS_Natural_Radiant_Longwear_Foundation = scrapping_foundations()\n",
    "NARS_Natural_Radiant_Longwear_Foundation.set_up_driver(url=\"https://www.sephora.com/product/natural-radiant-longwear-foundation-P427301?skuId=2031011\")"
   ]
  },
  {
   "cell_type": "code",
   "execution_count": 26,
   "metadata": {},
   "outputs": [
    {
     "name": "stderr",
     "output_type": "stream",
     "text": [
      "  0%|          | 0/587 [00:00<?, ?it/s]/opt/homebrew/Caskroom/miniforge/base/envs/foundation/lib/python3.9/site-packages/selenium/webdriver/remote/webelement.py:502: UserWarning: find_elements_by_* commands are deprecated. Please use find_elements() instead\n",
      "  warnings.warn(\"find_elements_by_* commands are deprecated. Please use find_elements() instead\")\n",
      "/opt/homebrew/Caskroom/miniforge/base/envs/foundation/lib/python3.9/site-packages/selenium/webdriver/remote/webelement.py:484: UserWarning: find_element_by_* commands are deprecated. Please use find_element() instead\n",
      "  warnings.warn(\"find_element_by_* commands are deprecated. Please use find_element() instead\")\n",
      "100%|██████████| 587/587 [58:31<00:00,  5.98s/it]    \n"
     ]
    }
   ],
   "source": [
    "NARS_Natural_Radiant_Longwear_Foundation.clicking_and_scraping(starting_page=0, ending_page=587)"
   ]
  },
  {
   "cell_type": "code",
   "execution_count": 27,
   "metadata": {},
   "outputs": [],
   "source": [
    "NARS_Natural_Radiant_Longwear_Foundation.data.to_csv(\"NARS_Natural_Radiant_Longwear_Foundation.csv\")"
   ]
  },
  {
   "cell_type": "code",
   "execution_count": 28,
   "metadata": {},
   "outputs": [],
   "source": [
    "NARS_Natural_Radiant_Longwear_Foundation.close_driver()"
   ]
  },
  {
   "cell_type": "code",
   "execution_count": 36,
   "metadata": {},
   "outputs": [],
   "source": [
    "NARS_Soft_Matte_Complete_Foundation = scrapping_foundations()\n",
    "NARS_Soft_Matte_Complete_Foundation.set_up_driver(url=\"https://www.sephora.com/product/nars-soft-matte-complete-foundation-P462720?skuId=2374593\", second_scroll=3000)"
   ]
  },
  {
   "cell_type": "code",
   "execution_count": 37,
   "metadata": {},
   "outputs": [
    {
     "name": "stderr",
     "output_type": "stream",
     "text": [
      "  0%|          | 0/268 [00:00<?, ?it/s]/opt/homebrew/Caskroom/miniforge/base/envs/foundation/lib/python3.9/site-packages/selenium/webdriver/remote/webelement.py:502: UserWarning: find_elements_by_* commands are deprecated. Please use find_elements() instead\n",
      "  warnings.warn(\"find_elements_by_* commands are deprecated. Please use find_elements() instead\")\n",
      "/opt/homebrew/Caskroom/miniforge/base/envs/foundation/lib/python3.9/site-packages/selenium/webdriver/remote/webelement.py:484: UserWarning: find_element_by_* commands are deprecated. Please use find_element() instead\n",
      "  warnings.warn(\"find_element_by_* commands are deprecated. Please use find_element() instead\")\n",
      "100%|██████████| 268/268 [19:15<00:00,  4.31s/it]\n"
     ]
    }
   ],
   "source": [
    "NARS_Soft_Matte_Complete_Foundation.clicking_and_scraping(starting_page=0, ending_page=268)"
   ]
  },
  {
   "cell_type": "code",
   "execution_count": 39,
   "metadata": {},
   "outputs": [],
   "source": [
    "NARS_Soft_Matte_Complete_Foundation.data.to_csv(\"NARS_Soft_Matte_Complete_Foundation.csv\")"
   ]
  },
  {
   "cell_type": "code",
   "execution_count": 40,
   "metadata": {},
   "outputs": [],
   "source": [
    "NARS_Soft_Matte_Complete_Foundation.close_driver()"
   ]
  },
  {
   "cell_type": "code",
   "execution_count": 41,
   "metadata": {},
   "outputs": [],
   "source": [
    "Fenty_Beauty_by_Rihanna_Eaze_Drop_Blurring_Skin_Tint = scrapping_foundations()\n",
    "Fenty_Beauty_by_Rihanna_Eaze_Drop_Blurring_Skin_Tint.set_up_driver(url=\"https://www.sephora.com/product/fenty-beauty-rihanna-eaze-drop-blurring-skin-tint-P470025?skuId=2431864\")"
   ]
  },
  {
   "cell_type": "code",
   "execution_count": 42,
   "metadata": {},
   "outputs": [
    {
     "name": "stderr",
     "output_type": "stream",
     "text": [
      "  0%|          | 0/179 [00:00<?, ?it/s]/opt/homebrew/Caskroom/miniforge/base/envs/foundation/lib/python3.9/site-packages/selenium/webdriver/remote/webelement.py:502: UserWarning: find_elements_by_* commands are deprecated. Please use find_elements() instead\n",
      "  warnings.warn(\"find_elements_by_* commands are deprecated. Please use find_elements() instead\")\n",
      "/opt/homebrew/Caskroom/miniforge/base/envs/foundation/lib/python3.9/site-packages/selenium/webdriver/remote/webelement.py:484: UserWarning: find_element_by_* commands are deprecated. Please use find_element() instead\n",
      "  warnings.warn(\"find_element_by_* commands are deprecated. Please use find_element() instead\")\n",
      "100%|██████████| 179/179 [17:08<00:00,  5.75s/it]\n"
     ]
    }
   ],
   "source": [
    "Fenty_Beauty_by_Rihanna_Eaze_Drop_Blurring_Skin_Tint.clicking_and_scraping(starting_page=0, ending_page=179)"
   ]
  },
  {
   "cell_type": "code",
   "execution_count": 43,
   "metadata": {},
   "outputs": [
    {
     "data": {
      "text/html": [
       "<div>\n",
       "<style scoped>\n",
       "    .dataframe tbody tr th:only-of-type {\n",
       "        vertical-align: middle;\n",
       "    }\n",
       "\n",
       "    .dataframe tbody tr th {\n",
       "        vertical-align: top;\n",
       "    }\n",
       "\n",
       "    .dataframe thead th {\n",
       "        text-align: right;\n",
       "    }\n",
       "</style>\n",
       "<table border=\"1\" class=\"dataframe\">\n",
       "  <thead>\n",
       "    <tr style=\"text-align: right;\">\n",
       "      <th></th>\n",
       "      <th>reviewer_id</th>\n",
       "      <th>rating</th>\n",
       "      <th>review_subject</th>\n",
       "      <th>reviewer_feature</th>\n",
       "      <th>purchased_shade</th>\n",
       "    </tr>\n",
       "  </thead>\n",
       "  <tbody>\n",
       "    <tr>\n",
       "      <th>0</th>\n",
       "      <td>dachshund</td>\n",
       "      <td>5.0</td>\n",
       "      <td>Beautiful and skin-like!</td>\n",
       "      <td>Green eyes, Blonde hair, Porcelain skin tone, ...</td>\n",
       "      <td>1 - light with cool neutral undertones</td>\n",
       "    </tr>\n",
       "    <tr>\n",
       "      <th>1</th>\n",
       "      <td>Lexinha</td>\n",
       "      <td>4.0</td>\n",
       "      <td>lightweight and easy to blend</td>\n",
       "      <td>Brown eyes, Brunette hair, Medium skin tone, C...</td>\n",
       "      <td>7 - light medium with warm neutral undertones</td>\n",
       "    </tr>\n",
       "    <tr>\n",
       "      <th>2</th>\n",
       "      <td>SunshineKisses</td>\n",
       "      <td>5.0</td>\n",
       "      <td>Great product!</td>\n",
       "      <td>Brown eyes, Brunette hair, Deep skin tone, Com...</td>\n",
       "      <td>17 - medium deep with warm neutral undertones</td>\n",
       "    </tr>\n",
       "    <tr>\n",
       "      <th>3</th>\n",
       "      <td>aleulee</td>\n",
       "      <td>4.0</td>\n",
       "      <td>Light coverage</td>\n",
       "      <td>Brown eyes, Brunette hair, Medium skin tone, C...</td>\n",
       "      <td>5 - light medium with warm yellow undertones</td>\n",
       "    </tr>\n",
       "    <tr>\n",
       "      <th>4</th>\n",
       "      <td>mfbbbb</td>\n",
       "      <td>5.0</td>\n",
       "      <td>very natural</td>\n",
       "      <td>Blue eyes, Blonde hair, Light skin tone, Combi...</td>\n",
       "      <td>5 - light medium with warm yellow undertones</td>\n",
       "    </tr>\n",
       "  </tbody>\n",
       "</table>\n",
       "</div>"
      ],
      "text/plain": [
       "      reviewer_id  rating                 review_subject  \\\n",
       "0       dachshund     5.0       Beautiful and skin-like!   \n",
       "1         Lexinha     4.0  lightweight and easy to blend   \n",
       "2  SunshineKisses     5.0                 Great product!   \n",
       "3         aleulee     4.0                 Light coverage   \n",
       "4          mfbbbb     5.0                   very natural   \n",
       "\n",
       "                                    reviewer_feature  \\\n",
       "0  Green eyes, Blonde hair, Porcelain skin tone, ...   \n",
       "1  Brown eyes, Brunette hair, Medium skin tone, C...   \n",
       "2  Brown eyes, Brunette hair, Deep skin tone, Com...   \n",
       "3  Brown eyes, Brunette hair, Medium skin tone, C...   \n",
       "4  Blue eyes, Blonde hair, Light skin tone, Combi...   \n",
       "\n",
       "                                 purchased_shade  \n",
       "0         1 - light with cool neutral undertones  \n",
       "1  7 - light medium with warm neutral undertones  \n",
       "2  17 - medium deep with warm neutral undertones  \n",
       "3   5 - light medium with warm yellow undertones  \n",
       "4   5 - light medium with warm yellow undertones  "
      ]
     },
     "execution_count": 43,
     "metadata": {},
     "output_type": "execute_result"
    }
   ],
   "source": [
    "Fenty_Beauty_by_Rihanna_Eaze_Drop_Blurring_Skin_Tint.data.head()"
   ]
  },
  {
   "cell_type": "code",
   "execution_count": 44,
   "metadata": {},
   "outputs": [],
   "source": [
    "Fenty_Beauty_by_Rihanna_Eaze_Drop_Blurring_Skin_Tint.data.to_csv(\"Fenty_Beauty_by_Rihanna_Eaze_Drop_Blurring_Skin_Tint.csv\")"
   ]
  },
  {
   "cell_type": "code",
   "execution_count": 45,
   "metadata": {},
   "outputs": [],
   "source": [
    "Fenty_Beauty_by_Rihanna_Eaze_Drop_Blurring_Skin_Tint.close_driver()"
   ]
  },
  {
   "cell_type": "code",
   "execution_count": 46,
   "metadata": {},
   "outputs": [],
   "source": [
    "Too_Faced_Born_This_Way_Foundation = scrapping_foundations()\n",
    "Too_Faced_Born_This_Way_Foundation.set_up_driver(url=\"https://www.sephora.com/product/born-this-way-P397517?skuId=2084648\")"
   ]
  },
  {
   "cell_type": "code",
   "execution_count": 47,
   "metadata": {},
   "outputs": [
    {
     "name": "stderr",
     "output_type": "stream",
     "text": [
      "  0%|          | 0/999 [00:00<?, ?it/s]/opt/homebrew/Caskroom/miniforge/base/envs/foundation/lib/python3.9/site-packages/selenium/webdriver/remote/webelement.py:502: UserWarning: find_elements_by_* commands are deprecated. Please use find_elements() instead\n",
      "  warnings.warn(\"find_elements_by_* commands are deprecated. Please use find_elements() instead\")\n",
      "/opt/homebrew/Caskroom/miniforge/base/envs/foundation/lib/python3.9/site-packages/selenium/webdriver/remote/webelement.py:484: UserWarning: find_element_by_* commands are deprecated. Please use find_element() instead\n",
      "  warnings.warn(\"find_element_by_* commands are deprecated. Please use find_element() instead\")\n",
      "100%|██████████| 999/999 [1:56:50<00:00,  7.02s/it]   \n"
     ]
    }
   ],
   "source": [
    "Too_Faced_Born_This_Way_Foundation.clicking_and_scraping(starting_page=0, ending_page=999)"
   ]
  },
  {
   "cell_type": "code",
   "execution_count": 48,
   "metadata": {},
   "outputs": [
    {
     "data": {
      "text/html": [
       "<div>\n",
       "<style scoped>\n",
       "    .dataframe tbody tr th:only-of-type {\n",
       "        vertical-align: middle;\n",
       "    }\n",
       "\n",
       "    .dataframe tbody tr th {\n",
       "        vertical-align: top;\n",
       "    }\n",
       "\n",
       "    .dataframe thead th {\n",
       "        text-align: right;\n",
       "    }\n",
       "</style>\n",
       "<table border=\"1\" class=\"dataframe\">\n",
       "  <thead>\n",
       "    <tr style=\"text-align: right;\">\n",
       "      <th></th>\n",
       "      <th>reviewer_id</th>\n",
       "      <th>rating</th>\n",
       "      <th>review_subject</th>\n",
       "      <th>reviewer_feature</th>\n",
       "      <th>purchased_shade</th>\n",
       "    </tr>\n",
       "  </thead>\n",
       "  <tbody>\n",
       "    <tr>\n",
       "      <th>0</th>\n",
       "      <td>jbaker1022</td>\n",
       "      <td>5.0</td>\n",
       "      <td>Best foundation ever</td>\n",
       "      <td>Blue eyes, Brunette hair, Light skin tone, Com...</td>\n",
       "      <td>Pearl - fair with neutral to rosy undertones</td>\n",
       "    </tr>\n",
       "    <tr>\n",
       "      <th>1</th>\n",
       "      <td>Annabelchior</td>\n",
       "      <td>4.0</td>\n",
       "      <td>looks good but..</td>\n",
       "      <td>Light skin tone, Dry skin</td>\n",
       "      <td>Swan - very fair with neutral undertones</td>\n",
       "    </tr>\n",
       "    <tr>\n",
       "      <th>2</th>\n",
       "      <td>microbrood</td>\n",
       "      <td>1.0</td>\n",
       "      <td>None</td>\n",
       "      <td>Green eyes, Brunette hair, Light skin tone, Co...</td>\n",
       "      <td>Natural Beige - light medium with neutral unde...</td>\n",
       "    </tr>\n",
       "    <tr>\n",
       "      <th>3</th>\n",
       "      <td>Robynnxo</td>\n",
       "      <td>5.0</td>\n",
       "      <td>Love it</td>\n",
       "      <td>Brown eyes, Brunette hair, Porcelain skin tone...</td>\n",
       "      <td>Porcelain - fair with neutral undertones</td>\n",
       "    </tr>\n",
       "    <tr>\n",
       "      <th>4</th>\n",
       "      <td>bellaav</td>\n",
       "      <td>5.0</td>\n",
       "      <td>really nice!!</td>\n",
       "      <td>Brown eyes, Brunette hair, Light skin tone, Co...</td>\n",
       "      <td>Swan - very fair with neutral undertones</td>\n",
       "    </tr>\n",
       "  </tbody>\n",
       "</table>\n",
       "</div>"
      ],
      "text/plain": [
       "    reviewer_id  rating        review_subject  \\\n",
       "0    jbaker1022     5.0  Best foundation ever   \n",
       "1  Annabelchior     4.0      looks good but..   \n",
       "2    microbrood     1.0                  None   \n",
       "3      Robynnxo     5.0               Love it   \n",
       "4       bellaav     5.0         really nice!!   \n",
       "\n",
       "                                    reviewer_feature  \\\n",
       "0  Blue eyes, Brunette hair, Light skin tone, Com...   \n",
       "1                          Light skin tone, Dry skin   \n",
       "2  Green eyes, Brunette hair, Light skin tone, Co...   \n",
       "3  Brown eyes, Brunette hair, Porcelain skin tone...   \n",
       "4  Brown eyes, Brunette hair, Light skin tone, Co...   \n",
       "\n",
       "                                     purchased_shade  \n",
       "0       Pearl - fair with neutral to rosy undertones  \n",
       "1           Swan - very fair with neutral undertones  \n",
       "2  Natural Beige - light medium with neutral unde...  \n",
       "3           Porcelain - fair with neutral undertones  \n",
       "4           Swan - very fair with neutral undertones  "
      ]
     },
     "execution_count": 48,
     "metadata": {},
     "output_type": "execute_result"
    }
   ],
   "source": [
    "Too_Faced_Born_This_Way_Foundation.data.head()"
   ]
  },
  {
   "cell_type": "code",
   "execution_count": 49,
   "metadata": {},
   "outputs": [],
   "source": [
    "Too_Faced_Born_This_Way_Foundation.data.to_csv(\"Too_Faced_Born_This_Way_Foundation.csv\")"
   ]
  },
  {
   "cell_type": "code",
   "execution_count": 50,
   "metadata": {},
   "outputs": [],
   "source": [
    "Too_Faced_Born_This_Way_Foundation.close_driver()"
   ]
  },
  {
   "cell_type": "code",
   "execution_count": 51,
   "metadata": {},
   "outputs": [],
   "source": [
    "KVD_Beauty_Lock_It_Full_Coverage_Long_Wear_Matte_Liquid_Foundation = scrapping_foundations()\n",
    "KVD_Beauty_Lock_It_Full_Coverage_Long_Wear_Matte_Liquid_Foundation.set_up_driver(url = \"https://www.sephora.com/product/lock-it-tattoo-foundation-P311138?skuId=2180578\")"
   ]
  },
  {
   "cell_type": "code",
   "execution_count": 52,
   "metadata": {},
   "outputs": [
    {
     "name": "stderr",
     "output_type": "stream",
     "text": [
      "  0%|          | 0/999 [00:00<?, ?it/s]/opt/homebrew/Caskroom/miniforge/base/envs/foundation/lib/python3.9/site-packages/selenium/webdriver/remote/webelement.py:502: UserWarning: find_elements_by_* commands are deprecated. Please use find_elements() instead\n",
      "  warnings.warn(\"find_elements_by_* commands are deprecated. Please use find_elements() instead\")\n",
      "/opt/homebrew/Caskroom/miniforge/base/envs/foundation/lib/python3.9/site-packages/selenium/webdriver/remote/webelement.py:484: UserWarning: find_element_by_* commands are deprecated. Please use find_element() instead\n",
      "  warnings.warn(\"find_element_by_* commands are deprecated. Please use find_element() instead\")\n",
      "100%|██████████| 999/999 [1:28:48<00:00,  5.33s/it] \n"
     ]
    }
   ],
   "source": [
    "KVD_Beauty_Lock_It_Full_Coverage_Long_Wear_Matte_Liquid_Foundation.clicking_and_scraping(starting_page=0, ending_page=999)"
   ]
  },
  {
   "cell_type": "code",
   "execution_count": 53,
   "metadata": {},
   "outputs": [
    {
     "data": {
      "text/plain": [
       "5994"
      ]
     },
     "execution_count": 53,
     "metadata": {},
     "output_type": "execute_result"
    }
   ],
   "source": [
    "len(KVD_Beauty_Lock_It_Full_Coverage_Long_Wear_Matte_Liquid_Foundation.data)"
   ]
  },
  {
   "cell_type": "code",
   "execution_count": 54,
   "metadata": {},
   "outputs": [],
   "source": [
    "KVD_Beauty_Lock_It_Full_Coverage_Long_Wear_Matte_Liquid_Foundation.data.to_csv(\"KVD_Beauty_Lock_It_Full_Coverage_Long_Wear_Matte_Liquid_Foundation.csv\")"
   ]
  },
  {
   "cell_type": "code",
   "execution_count": 55,
   "metadata": {},
   "outputs": [],
   "source": [
    "KVD_Beauty_Lock_It_Full_Coverage_Long_Wear_Matte_Liquid_Foundation.close_driver()"
   ]
  },
  {
   "cell_type": "code",
   "execution_count": 56,
   "metadata": {},
   "outputs": [],
   "source": [
    "Smashbox_Studio_Skin_24_Hour_Oil_Free_Hydra_Foundation = scrapping_foundations()\n",
    "Smashbox_Studio_Skin_24_Hour_Oil_Free_Hydra_Foundation.set_up_driver(url=\"https://www.sephora.com/product/studio-skin-15-hour-wear-foundation-P292403?skuId=2105427\")"
   ]
  },
  {
   "cell_type": "code",
   "execution_count": 57,
   "metadata": {},
   "outputs": [
    {
     "name": "stderr",
     "output_type": "stream",
     "text": [
      "  0%|          | 0/518 [00:00<?, ?it/s]/opt/homebrew/Caskroom/miniforge/base/envs/foundation/lib/python3.9/site-packages/selenium/webdriver/remote/webelement.py:502: UserWarning: find_elements_by_* commands are deprecated. Please use find_elements() instead\n",
      "  warnings.warn(\"find_elements_by_* commands are deprecated. Please use find_elements() instead\")\n",
      "/opt/homebrew/Caskroom/miniforge/base/envs/foundation/lib/python3.9/site-packages/selenium/webdriver/remote/webelement.py:484: UserWarning: find_element_by_* commands are deprecated. Please use find_element() instead\n",
      "  warnings.warn(\"find_element_by_* commands are deprecated. Please use find_element() instead\")\n",
      "100%|██████████| 518/518 [37:21<00:00,  4.33s/it]\n"
     ]
    }
   ],
   "source": [
    "Smashbox_Studio_Skin_24_Hour_Oil_Free_Hydra_Foundation.clicking_and_scraping(starting_page=0, ending_page=518)"
   ]
  },
  {
   "cell_type": "code",
   "execution_count": 58,
   "metadata": {},
   "outputs": [
    {
     "data": {
      "text/html": [
       "<div>\n",
       "<style scoped>\n",
       "    .dataframe tbody tr th:only-of-type {\n",
       "        vertical-align: middle;\n",
       "    }\n",
       "\n",
       "    .dataframe tbody tr th {\n",
       "        vertical-align: top;\n",
       "    }\n",
       "\n",
       "    .dataframe thead th {\n",
       "        text-align: right;\n",
       "    }\n",
       "</style>\n",
       "<table border=\"1\" class=\"dataframe\">\n",
       "  <thead>\n",
       "    <tr style=\"text-align: right;\">\n",
       "      <th></th>\n",
       "      <th>reviewer_id</th>\n",
       "      <th>rating</th>\n",
       "      <th>review_subject</th>\n",
       "      <th>reviewer_feature</th>\n",
       "      <th>purchased_shade</th>\n",
       "    </tr>\n",
       "  </thead>\n",
       "  <tbody>\n",
       "    <tr>\n",
       "      <th>0</th>\n",
       "      <td>mkc2145</td>\n",
       "      <td>1.0</td>\n",
       "      <td>None</td>\n",
       "      <td>Brown eyes, Brunette hair, Light skin tone, Co...</td>\n",
       "      <td>0.1 - very fair with neutral undertone</td>\n",
       "    </tr>\n",
       "    <tr>\n",
       "      <th>1</th>\n",
       "      <td>rachelkarina</td>\n",
       "      <td>5.0</td>\n",
       "      <td>Great foundation</td>\n",
       "      <td>Brown eyes, Brunette hair, Porcelain skin tone...</td>\n",
       "      <td>0.3 - fair with neutral undertone</td>\n",
       "    </tr>\n",
       "    <tr>\n",
       "      <th>2</th>\n",
       "      <td>ajudithv</td>\n",
       "      <td>5.0</td>\n",
       "      <td>HG Foundation</td>\n",
       "      <td>Hazel eyes, Brunette hair, Fair skin tone, Dry...</td>\n",
       "      <td>0.3 - fair with neutral undertone</td>\n",
       "    </tr>\n",
       "    <tr>\n",
       "      <th>3</th>\n",
       "      <td>Christinalpr</td>\n",
       "      <td>2.0</td>\n",
       "      <td>None</td>\n",
       "      <td>Blue eyes, Brunette hair, Porcelain skin tone,...</td>\n",
       "      <td>0.5 - fair with cool undertone</td>\n",
       "    </tr>\n",
       "    <tr>\n",
       "      <th>4</th>\n",
       "      <td>Biancangelica</td>\n",
       "      <td>5.0</td>\n",
       "      <td>my favorite</td>\n",
       "      <td>Brown eyes, Black hair, Olive skin tone, Combi...</td>\n",
       "      <td>2.4 - light-medium with warm, peachy undertone</td>\n",
       "    </tr>\n",
       "  </tbody>\n",
       "</table>\n",
       "</div>"
      ],
      "text/plain": [
       "     reviewer_id  rating    review_subject  \\\n",
       "0        mkc2145     1.0              None   \n",
       "1   rachelkarina     5.0  Great foundation   \n",
       "2       ajudithv     5.0     HG Foundation   \n",
       "3   Christinalpr     2.0              None   \n",
       "4  Biancangelica     5.0       my favorite   \n",
       "\n",
       "                                    reviewer_feature  \\\n",
       "0  Brown eyes, Brunette hair, Light skin tone, Co...   \n",
       "1  Brown eyes, Brunette hair, Porcelain skin tone...   \n",
       "2  Hazel eyes, Brunette hair, Fair skin tone, Dry...   \n",
       "3  Blue eyes, Brunette hair, Porcelain skin tone,...   \n",
       "4  Brown eyes, Black hair, Olive skin tone, Combi...   \n",
       "\n",
       "                                  purchased_shade  \n",
       "0          0.1 - very fair with neutral undertone  \n",
       "1               0.3 - fair with neutral undertone  \n",
       "2               0.3 - fair with neutral undertone  \n",
       "3                  0.5 - fair with cool undertone  \n",
       "4  2.4 - light-medium with warm, peachy undertone  "
      ]
     },
     "execution_count": 58,
     "metadata": {},
     "output_type": "execute_result"
    }
   ],
   "source": [
    "Smashbox_Studio_Skin_24_Hour_Oil_Free_Hydra_Foundation.data.head()"
   ]
  },
  {
   "cell_type": "code",
   "execution_count": 60,
   "metadata": {},
   "outputs": [],
   "source": [
    "Smashbox_Studio_Skin_24_Hour_Oil_Free_Hydra_Foundation.data.to_csv(\"Smashbox_Studio_Skin_24_Hour_Oil_Free_Hydra_Foundation.csv\")\n",
    "Smashbox_Studio_Skin_24_Hour_Oil_Free_Hydra_Foundation.close_driver()"
   ]
  },
  {
   "cell_type": "code",
   "execution_count": 61,
   "metadata": {},
   "outputs": [],
   "source": [
    "TOM_FORD_Traceless_Soft_Matte_Foundation = scrapping_foundations()\n",
    "TOM_FORD_Traceless_Soft_Matte_Foundation.set_up_driver(url=\"https://www.sephora.com/product/tom-ford-traceless-soft-matte-foundation-P459506?skuId=2366938\")"
   ]
  },
  {
   "cell_type": "code",
   "execution_count": 62,
   "metadata": {},
   "outputs": [
    {
     "name": "stderr",
     "output_type": "stream",
     "text": [
      "  0%|          | 0/195 [00:00<?, ?it/s]/opt/homebrew/Caskroom/miniforge/base/envs/foundation/lib/python3.9/site-packages/selenium/webdriver/remote/webelement.py:502: UserWarning: find_elements_by_* commands are deprecated. Please use find_elements() instead\n",
      "  warnings.warn(\"find_elements_by_* commands are deprecated. Please use find_elements() instead\")\n",
      "/opt/homebrew/Caskroom/miniforge/base/envs/foundation/lib/python3.9/site-packages/selenium/webdriver/remote/webelement.py:484: UserWarning: find_element_by_* commands are deprecated. Please use find_element() instead\n",
      "  warnings.warn(\"find_element_by_* commands are deprecated. Please use find_element() instead\")\n",
      "100%|██████████| 195/195 [14:38<00:00,  4.50s/it]\n"
     ]
    }
   ],
   "source": [
    "TOM_FORD_Traceless_Soft_Matte_Foundation.clicking_and_scraping(starting_page=0, ending_page=195)"
   ]
  },
  {
   "cell_type": "code",
   "execution_count": 64,
   "metadata": {},
   "outputs": [
    {
     "data": {
      "text/html": [
       "<div>\n",
       "<style scoped>\n",
       "    .dataframe tbody tr th:only-of-type {\n",
       "        vertical-align: middle;\n",
       "    }\n",
       "\n",
       "    .dataframe tbody tr th {\n",
       "        vertical-align: top;\n",
       "    }\n",
       "\n",
       "    .dataframe thead th {\n",
       "        text-align: right;\n",
       "    }\n",
       "</style>\n",
       "<table border=\"1\" class=\"dataframe\">\n",
       "  <thead>\n",
       "    <tr style=\"text-align: right;\">\n",
       "      <th></th>\n",
       "      <th>reviewer_id</th>\n",
       "      <th>rating</th>\n",
       "      <th>review_subject</th>\n",
       "      <th>reviewer_feature</th>\n",
       "      <th>purchased_shade</th>\n",
       "    </tr>\n",
       "  </thead>\n",
       "  <tbody>\n",
       "    <tr>\n",
       "      <th>0</th>\n",
       "      <td>WickedErised</td>\n",
       "      <td>4.0</td>\n",
       "      <td>Love it</td>\n",
       "      <td>Brown eyes, Blonde hair, Light skin tone, Comb...</td>\n",
       "      <td>4.0 Fawn - light-medium, warm olive undertone</td>\n",
       "    </tr>\n",
       "    <tr>\n",
       "      <th>1</th>\n",
       "      <td>Vick1971</td>\n",
       "      <td>5.0</td>\n",
       "      <td>None</td>\n",
       "      <td>Hazel eyes, Brunette hair, Porcelain skin tone...</td>\n",
       "      <td>1.3 Nude Ivory - fair, cool peachy undertone</td>\n",
       "    </tr>\n",
       "    <tr>\n",
       "      <th>2</th>\n",
       "      <td>charleston08</td>\n",
       "      <td>3.0</td>\n",
       "      <td>None</td>\n",
       "      <td>Brown eyes, Black hair, Light skin tone, Combi...</td>\n",
       "      <td>4.0 Fawn - light-medium, warm olive undertone</td>\n",
       "    </tr>\n",
       "    <tr>\n",
       "      <th>3</th>\n",
       "      <td>Angelena78</td>\n",
       "      <td>5.0</td>\n",
       "      <td>So worth it!!</td>\n",
       "      <td>Brown eyes, Brunette hair, Fair skin tone, Com...</td>\n",
       "      <td>0.3 Ivory Silk - very fair, warm yellow undertone</td>\n",
       "    </tr>\n",
       "    <tr>\n",
       "      <th>4</th>\n",
       "      <td>supmakeupfriend</td>\n",
       "      <td>3.0</td>\n",
       "      <td>Let me down</td>\n",
       "      <td>Blue eyes, Brunette hair, Olive skin tone, Com...</td>\n",
       "      <td>None</td>\n",
       "    </tr>\n",
       "  </tbody>\n",
       "</table>\n",
       "</div>"
      ],
      "text/plain": [
       "       reviewer_id  rating review_subject  \\\n",
       "0     WickedErised     4.0        Love it   \n",
       "1         Vick1971     5.0           None   \n",
       "2     charleston08     3.0           None   \n",
       "3       Angelena78     5.0  So worth it!!   \n",
       "4  supmakeupfriend     3.0    Let me down   \n",
       "\n",
       "                                    reviewer_feature  \\\n",
       "0  Brown eyes, Blonde hair, Light skin tone, Comb...   \n",
       "1  Hazel eyes, Brunette hair, Porcelain skin tone...   \n",
       "2  Brown eyes, Black hair, Light skin tone, Combi...   \n",
       "3  Brown eyes, Brunette hair, Fair skin tone, Com...   \n",
       "4  Blue eyes, Brunette hair, Olive skin tone, Com...   \n",
       "\n",
       "                                     purchased_shade  \n",
       "0      4.0 Fawn - light-medium, warm olive undertone  \n",
       "1       1.3 Nude Ivory - fair, cool peachy undertone  \n",
       "2      4.0 Fawn - light-medium, warm olive undertone  \n",
       "3  0.3 Ivory Silk - very fair, warm yellow undertone  \n",
       "4                                               None  "
      ]
     },
     "execution_count": 64,
     "metadata": {},
     "output_type": "execute_result"
    }
   ],
   "source": [
    "TOM_FORD_Traceless_Soft_Matte_Foundation.data.head()"
   ]
  },
  {
   "cell_type": "code",
   "execution_count": 65,
   "metadata": {},
   "outputs": [],
   "source": [
    "TOM_FORD_Traceless_Soft_Matte_Foundation.data.to_csv(\"TOM_FORD_Traceless_Soft_Matte_Foundation.csv\")\n",
    "TOM_FORD_Traceless_Soft_Matte_Foundation.close_driver()"
   ]
  },
  {
   "cell_type": "code",
   "execution_count": 66,
   "metadata": {},
   "outputs": [],
   "source": [
    "Shiseido_Synchro_Skin_Radiant_Lifting_Foundation_SPF_30 = scrapping_foundations()\n",
    "Shiseido_Synchro_Skin_Radiant_Lifting_Foundation_SPF_30.set_up_driver(url=\"https://www.sephora.com/product/shiseido-synchro-skin-radiant-lifting-foundation-spf-30-P468401?skuId=2416485\")"
   ]
  },
  {
   "cell_type": "code",
   "execution_count": 67,
   "metadata": {},
   "outputs": [
    {
     "name": "stderr",
     "output_type": "stream",
     "text": [
      "  0%|          | 0/242 [00:00<?, ?it/s]/opt/homebrew/Caskroom/miniforge/base/envs/foundation/lib/python3.9/site-packages/selenium/webdriver/remote/webelement.py:502: UserWarning: find_elements_by_* commands are deprecated. Please use find_elements() instead\n",
      "  warnings.warn(\"find_elements_by_* commands are deprecated. Please use find_elements() instead\")\n",
      "/opt/homebrew/Caskroom/miniforge/base/envs/foundation/lib/python3.9/site-packages/selenium/webdriver/remote/webelement.py:484: UserWarning: find_element_by_* commands are deprecated. Please use find_element() instead\n",
      "  warnings.warn(\"find_element_by_* commands are deprecated. Please use find_element() instead\")\n",
      "100%|██████████| 242/242 [36:50<00:00,  9.13s/it]   \n"
     ]
    }
   ],
   "source": [
    "Shiseido_Synchro_Skin_Radiant_Lifting_Foundation_SPF_30.clicking_and_scraping(starting_page=0, ending_page=242)"
   ]
  },
  {
   "cell_type": "code",
   "execution_count": 68,
   "metadata": {},
   "outputs": [
    {
     "data": {
      "text/html": [
       "<div>\n",
       "<style scoped>\n",
       "    .dataframe tbody tr th:only-of-type {\n",
       "        vertical-align: middle;\n",
       "    }\n",
       "\n",
       "    .dataframe tbody tr th {\n",
       "        vertical-align: top;\n",
       "    }\n",
       "\n",
       "    .dataframe thead th {\n",
       "        text-align: right;\n",
       "    }\n",
       "</style>\n",
       "<table border=\"1\" class=\"dataframe\">\n",
       "  <thead>\n",
       "    <tr style=\"text-align: right;\">\n",
       "      <th></th>\n",
       "      <th>reviewer_id</th>\n",
       "      <th>rating</th>\n",
       "      <th>review_subject</th>\n",
       "      <th>reviewer_feature</th>\n",
       "      <th>purchased_shade</th>\n",
       "    </tr>\n",
       "  </thead>\n",
       "  <tbody>\n",
       "    <tr>\n",
       "      <th>0</th>\n",
       "      <td>steph202039</td>\n",
       "      <td>1.0</td>\n",
       "      <td>broke me out and I never break out</td>\n",
       "      <td>Brown eyes, Brunette hair, Medium skin tone, N...</td>\n",
       "      <td>210 Birch - golden tone for light skin</td>\n",
       "    </tr>\n",
       "    <tr>\n",
       "      <th>1</th>\n",
       "      <td>AlexandraPfaff</td>\n",
       "      <td>5.0</td>\n",
       "      <td>None</td>\n",
       "      <td>Blue eyes, Brunette hair, Fair skin tone, Dry ...</td>\n",
       "      <td>None</td>\n",
       "    </tr>\n",
       "    <tr>\n",
       "      <th>2</th>\n",
       "      <td>anb83</td>\n",
       "      <td>4.0</td>\n",
       "      <td>None</td>\n",
       "      <td>Green eyes, Brunette hair, Medium skin tone, C...</td>\n",
       "      <td>310 Silk - rose tone for medium skin</td>\n",
       "    </tr>\n",
       "    <tr>\n",
       "      <th>3</th>\n",
       "      <td>Jessie910</td>\n",
       "      <td>3.0</td>\n",
       "      <td>None</td>\n",
       "      <td>Brown eyes, Black hair, Light skin tone, Dry skin</td>\n",
       "      <td>None</td>\n",
       "    </tr>\n",
       "    <tr>\n",
       "      <th>4</th>\n",
       "      <td>mle0308</td>\n",
       "      <td>1.0</td>\n",
       "      <td>No</td>\n",
       "      <td>Blue eyes, Blonde hair, Medium skin tone, Comb...</td>\n",
       "      <td>250 Sand - golden tone for light-medium skin</td>\n",
       "    </tr>\n",
       "  </tbody>\n",
       "</table>\n",
       "</div>"
      ],
      "text/plain": [
       "      reviewer_id  rating                      review_subject  \\\n",
       "0     steph202039     1.0  broke me out and I never break out   \n",
       "1  AlexandraPfaff     5.0                                None   \n",
       "2           anb83     4.0                                None   \n",
       "3       Jessie910     3.0                                None   \n",
       "4         mle0308     1.0                                  No   \n",
       "\n",
       "                                    reviewer_feature  \\\n",
       "0  Brown eyes, Brunette hair, Medium skin tone, N...   \n",
       "1  Blue eyes, Brunette hair, Fair skin tone, Dry ...   \n",
       "2  Green eyes, Brunette hair, Medium skin tone, C...   \n",
       "3  Brown eyes, Black hair, Light skin tone, Dry skin   \n",
       "4  Blue eyes, Blonde hair, Medium skin tone, Comb...   \n",
       "\n",
       "                                purchased_shade  \n",
       "0        210 Birch - golden tone for light skin  \n",
       "1                                          None  \n",
       "2          310 Silk - rose tone for medium skin  \n",
       "3                                          None  \n",
       "4  250 Sand - golden tone for light-medium skin  "
      ]
     },
     "execution_count": 68,
     "metadata": {},
     "output_type": "execute_result"
    }
   ],
   "source": [
    "Shiseido_Synchro_Skin_Radiant_Lifting_Foundation_SPF_30.data.head()"
   ]
  },
  {
   "cell_type": "code",
   "execution_count": 69,
   "metadata": {},
   "outputs": [],
   "source": [
    "Shiseido_Synchro_Skin_Radiant_Lifting_Foundation_SPF_30.data.to_csv(\"Shiseido_Synchro_Skin_Radiant_Lifting_Foundation_SPF_30.csv\")\n",
    "Shiseido_Synchro_Skin_Radiant_Lifting_Foundation_SPF_30.close_driver()"
   ]
  },
  {
   "cell_type": "code",
   "execution_count": 70,
   "metadata": {},
   "outputs": [],
   "source": [
    "SEPHORA_COLLECTION_Best_Skin_Ever_Liquid_Foundation = scrapping_foundations()\n",
    "SEPHORA_COLLECTION_Best_Skin_Ever_Liquid_Foundation.set_up_driver(url=\"https://www.sephora.com/product/sephora-collection-best-skin-ever-liquid-foundation-P467140?skuId=2327120\")"
   ]
  },
  {
   "cell_type": "code",
   "execution_count": 71,
   "metadata": {},
   "outputs": [
    {
     "name": "stderr",
     "output_type": "stream",
     "text": [
      "  0%|          | 0/101 [00:00<?, ?it/s]/opt/homebrew/Caskroom/miniforge/base/envs/foundation/lib/python3.9/site-packages/selenium/webdriver/remote/webelement.py:502: UserWarning: find_elements_by_* commands are deprecated. Please use find_elements() instead\n",
      "  warnings.warn(\"find_elements_by_* commands are deprecated. Please use find_elements() instead\")\n",
      "/opt/homebrew/Caskroom/miniforge/base/envs/foundation/lib/python3.9/site-packages/selenium/webdriver/remote/webelement.py:484: UserWarning: find_element_by_* commands are deprecated. Please use find_element() instead\n",
      "  warnings.warn(\"find_element_by_* commands are deprecated. Please use find_element() instead\")\n",
      "100%|██████████| 101/101 [07:17<00:00,  4.33s/it]\n"
     ]
    }
   ],
   "source": [
    "SEPHORA_COLLECTION_Best_Skin_Ever_Liquid_Foundation.clicking_and_scraping(starting_page=0, ending_page=101)"
   ]
  },
  {
   "cell_type": "code",
   "execution_count": 72,
   "metadata": {},
   "outputs": [
    {
     "data": {
      "text/html": [
       "<div>\n",
       "<style scoped>\n",
       "    .dataframe tbody tr th:only-of-type {\n",
       "        vertical-align: middle;\n",
       "    }\n",
       "\n",
       "    .dataframe tbody tr th {\n",
       "        vertical-align: top;\n",
       "    }\n",
       "\n",
       "    .dataframe thead th {\n",
       "        text-align: right;\n",
       "    }\n",
       "</style>\n",
       "<table border=\"1\" class=\"dataframe\">\n",
       "  <thead>\n",
       "    <tr style=\"text-align: right;\">\n",
       "      <th></th>\n",
       "      <th>reviewer_id</th>\n",
       "      <th>rating</th>\n",
       "      <th>review_subject</th>\n",
       "      <th>reviewer_feature</th>\n",
       "      <th>purchased_shade</th>\n",
       "    </tr>\n",
       "  </thead>\n",
       "  <tbody>\n",
       "    <tr>\n",
       "      <th>0</th>\n",
       "      <td>Michmama</td>\n",
       "      <td>5.0</td>\n",
       "      <td>None</td>\n",
       "      <td>Green eyes, Brunette hair, Light skin tone, Oi...</td>\n",
       "      <td>16 Y - for light skin with yellow undertones</td>\n",
       "    </tr>\n",
       "    <tr>\n",
       "      <th>1</th>\n",
       "      <td>SammyBruja</td>\n",
       "      <td>4.0</td>\n",
       "      <td>it’s definitely worth is-price point!!</td>\n",
       "      <td>Brown eyes, Brunette hair, Fair skin tone, Com...</td>\n",
       "      <td>03 P - for fair skin with pink undertones</td>\n",
       "    </tr>\n",
       "    <tr>\n",
       "      <th>2</th>\n",
       "      <td>MoBrown</td>\n",
       "      <td>5.0</td>\n",
       "      <td>Better Than High End</td>\n",
       "      <td>Green eyes, Brunette hair, Light skin tone, Co...</td>\n",
       "      <td>10 N - for light skin with neutral undertones</td>\n",
       "    </tr>\n",
       "    <tr>\n",
       "      <th>3</th>\n",
       "      <td>chloemh</td>\n",
       "      <td>4.0</td>\n",
       "      <td>None</td>\n",
       "      <td>Blue eyes, Brunette hair, Fair skin tone, Dry ...</td>\n",
       "      <td>04 N - for fair skin with neutral undertones</td>\n",
       "    </tr>\n",
       "    <tr>\n",
       "      <th>4</th>\n",
       "      <td>hfkwn29484</td>\n",
       "      <td>5.0</td>\n",
       "      <td>None</td>\n",
       "      <td>Brown eyes, Black hair, Tan skin tone, Combina...</td>\n",
       "      <td>16 Y - for light skin with yellow undertones</td>\n",
       "    </tr>\n",
       "  </tbody>\n",
       "</table>\n",
       "</div>"
      ],
      "text/plain": [
       "  reviewer_id  rating                          review_subject  \\\n",
       "0    Michmama     5.0                                    None   \n",
       "1  SammyBruja     4.0  it’s definitely worth is-price point!!   \n",
       "2     MoBrown     5.0                    Better Than High End   \n",
       "3     chloemh     4.0                                    None   \n",
       "4  hfkwn29484     5.0                                    None   \n",
       "\n",
       "                                    reviewer_feature  \\\n",
       "0  Green eyes, Brunette hair, Light skin tone, Oi...   \n",
       "1  Brown eyes, Brunette hair, Fair skin tone, Com...   \n",
       "2  Green eyes, Brunette hair, Light skin tone, Co...   \n",
       "3  Blue eyes, Brunette hair, Fair skin tone, Dry ...   \n",
       "4  Brown eyes, Black hair, Tan skin tone, Combina...   \n",
       "\n",
       "                                 purchased_shade  \n",
       "0   16 Y - for light skin with yellow undertones  \n",
       "1      03 P - for fair skin with pink undertones  \n",
       "2  10 N - for light skin with neutral undertones  \n",
       "3   04 N - for fair skin with neutral undertones  \n",
       "4   16 Y - for light skin with yellow undertones  "
      ]
     },
     "execution_count": 72,
     "metadata": {},
     "output_type": "execute_result"
    }
   ],
   "source": [
    "SEPHORA_COLLECTION_Best_Skin_Ever_Liquid_Foundation.data.head()"
   ]
  },
  {
   "cell_type": "code",
   "execution_count": 73,
   "metadata": {},
   "outputs": [],
   "source": [
    "SEPHORA_COLLECTION_Best_Skin_Ever_Liquid_Foundation.data.to_csv(\"SEPHORA_COLLECTION_Best_Skin_Ever_Liquid_Foundation.csv\")\n",
    "SEPHORA_COLLECTION_Best_Skin_Ever_Liquid_Foundation.close_driver()"
   ]
  },
  {
   "cell_type": "code",
   "execution_count": null,
   "metadata": {},
   "outputs": [],
   "source": []
  }
 ],
 "metadata": {
  "interpreter": {
   "hash": "be930e4ecfc02ffad0fba66b413e4f417b9fdbeb111e734ba3e0fce78218e52b"
  },
  "kernelspec": {
   "display_name": "Python 3.9.1 64-bit ('foundation': conda)",
   "language": "python",
   "name": "python3"
  },
  "language_info": {
   "codemirror_mode": {
    "name": "ipython",
    "version": 3
   },
   "file_extension": ".py",
   "mimetype": "text/x-python",
   "name": "python",
   "nbconvert_exporter": "python",
   "pygments_lexer": "ipython3",
   "version": "3.9.1"
  },
  "orig_nbformat": 4
 },
 "nbformat": 4,
 "nbformat_minor": 2
}
