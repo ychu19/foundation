{
 "cells": [
  {
   "cell_type": "code",
   "execution_count": 1,
   "metadata": {},
   "outputs": [],
   "source": [
    "from cleaning import cleaning_review_data\n",
    "import os"
   ]
  },
  {
   "cell_type": "code",
   "execution_count": 2,
   "metadata": {},
   "outputs": [],
   "source": [
    "list_of_file_names = []\n",
    "for file in os.listdir('data_full_review/'):\n",
    "   if file.endswith(\".csv\"):\n",
    "        list_of_file_names.append(os.path.join(file))"
   ]
  },
  {
   "cell_type": "code",
   "execution_count": 3,
   "metadata": {},
   "outputs": [
    {
     "data": {
      "text/plain": "'SEPHORA_COLLECTION_Make_No_Mistake_Foundation_&_Concealer_Stick.csv'"
     },
     "execution_count": 3,
     "metadata": {},
     "output_type": "execute_result"
    }
   ],
   "source": [
    "list_of_file_names[0]"
   ]
  },
  {
   "cell_type": "code",
   "execution_count": 4,
   "metadata": {},
   "outputs": [
    {
     "data": {
      "text/plain": "148"
     },
     "execution_count": 4,
     "metadata": {},
     "output_type": "execute_result"
    }
   ],
   "source": [
    "len(list_of_file_names)"
   ]
  },
  {
   "cell_type": "code",
   "execution_count": 5,
   "outputs": [],
   "source": [
    "test = cleaning_review_data(filename = list_of_file_names[0])"
   ],
   "metadata": {
    "collapsed": false,
    "pycharm": {
     "name": "#%%\n"
    }
   }
  },
  {
   "cell_type": "code",
   "execution_count": 6,
   "outputs": [
    {
     "data": {
      "text/plain": "Index(['index', 'reviewer_id', 'rating', 'recommended', 'review_subject',\n       'review_content', 'reviewer_feature', 'purchased_shade',\n       'date_of_review'],\n      dtype='object')"
     },
     "execution_count": 6,
     "metadata": {},
     "output_type": "execute_result"
    }
   ],
   "source": [
    "test.data.columns"
   ],
   "metadata": {
    "collapsed": false,
    "pycharm": {
     "name": "#%%\n"
    }
   }
  },
  {
   "cell_type": "code",
   "execution_count": 7,
   "outputs": [
    {
     "data": {
      "text/plain": "       reviewer_id  rating  recommended                     review_subject  \\\n0      manbearboar     5.0          1.0                Most Helpful Review   \n1           kadoka     5.0          1.0           PLEASE BRING THIS BACK!!   \n2          Reynard     5.0          1.0                                NaN   \n3         iMayLurk     1.0          0.0                                NaN   \n4         asilwhat     5.0          1.0                                NaN   \n..             ...     ...          ...                                ...   \n649    IvyyMontana     5.0          0.0                               LOVE   \n650         dawn84     4.0          0.0                             smooth   \n651  lizabellamess     3.0          0.0                              so so   \n652      jessers16     5.0          0.0                      NEW OBSESSION   \n653         Anevay     5.0          0.0  BEST STICK FOUNDATION I'VE BOUGHT   \n\n                                        review_content  \\\n0    16 Aug 2020\\nRecommended\\nPlease don’t get rid...   \n1    I can’t believe this is getting discontinued. ...   \n2    I can’t believe this is getting discontinued. ...   \n3    I can’t believe this is getting discontinued. ...   \n4    I can’t believe this is getting discontinued. ...   \n..                                                 ...   \n649  Im not really a fan of foundation sticks but h...   \n650  it reminded of the hourglass stick foundation ...   \n651  I love Sephora collection BUT this foundation ...   \n652  I work in an SiJCP, and when we first got thes...   \n653  I have oily combination skin. I tried the make...   \n\n                                      reviewer_feature  \\\n0    Hazel eyes, Brunette hair, Porcelain skin tone...   \n1    Brown eyes, Brunette hair, Medium skin tone, C...   \n2    Brown eyes, Brunette hair, Fair skin tone, Com...   \n3    Brown eyes, Red hair, Medium skin tone, Combin...   \n4    Brown eyes, Brunette hair, Medium skin tone, D...   \n..                                                 ...   \n649                                   Combination skin   \n650     Brown eyes, Medium skin tone, Combination skin   \n651     Brown eyes, Medium skin tone, Combination skin   \n652     Brown eyes, Medium skin tone, Combination skin   \n653     Brown eyes, Medium skin tone, Combination skin   \n\n                                       purchased_shade date_of_review  \n0                                                  NaN    16 Aug 2020  \n1    3 Beechwood - light beige with a yellow undertone       22 h ago  \n2    3 Beechwood - light beige with a yellow undertone       17 d ago  \n3                                                  NaN       22 d ago  \n4    3 Beechwood - light beige with a yellow undertone       22 d ago  \n..                                                 ...            ...  \n649                                                NaN    17 Jul 2017  \n650                                                NaN    17 Jul 2017  \n651                                                NaN    17 Jul 2017  \n652                                                NaN    12 Jul 2017  \n653                                                NaN    11 Jul 2017  \n\n[654 rows x 8 columns]",
      "text/html": "<div>\n<style scoped>\n    .dataframe tbody tr th:only-of-type {\n        vertical-align: middle;\n    }\n\n    .dataframe tbody tr th {\n        vertical-align: top;\n    }\n\n    .dataframe thead th {\n        text-align: right;\n    }\n</style>\n<table border=\"1\" class=\"dataframe\">\n  <thead>\n    <tr style=\"text-align: right;\">\n      <th></th>\n      <th>reviewer_id</th>\n      <th>rating</th>\n      <th>recommended</th>\n      <th>review_subject</th>\n      <th>review_content</th>\n      <th>reviewer_feature</th>\n      <th>purchased_shade</th>\n      <th>date_of_review</th>\n    </tr>\n  </thead>\n  <tbody>\n    <tr>\n      <th>0</th>\n      <td>manbearboar</td>\n      <td>5.0</td>\n      <td>1.0</td>\n      <td>Most Helpful Review</td>\n      <td>16 Aug 2020\\nRecommended\\nPlease don’t get rid...</td>\n      <td>Hazel eyes, Brunette hair, Porcelain skin tone...</td>\n      <td>NaN</td>\n      <td>16 Aug 2020</td>\n    </tr>\n    <tr>\n      <th>1</th>\n      <td>kadoka</td>\n      <td>5.0</td>\n      <td>1.0</td>\n      <td>PLEASE BRING THIS BACK!!</td>\n      <td>I can’t believe this is getting discontinued. ...</td>\n      <td>Brown eyes, Brunette hair, Medium skin tone, C...</td>\n      <td>3 Beechwood - light beige with a yellow undertone</td>\n      <td>22 h ago</td>\n    </tr>\n    <tr>\n      <th>2</th>\n      <td>Reynard</td>\n      <td>5.0</td>\n      <td>1.0</td>\n      <td>NaN</td>\n      <td>I can’t believe this is getting discontinued. ...</td>\n      <td>Brown eyes, Brunette hair, Fair skin tone, Com...</td>\n      <td>3 Beechwood - light beige with a yellow undertone</td>\n      <td>17 d ago</td>\n    </tr>\n    <tr>\n      <th>3</th>\n      <td>iMayLurk</td>\n      <td>1.0</td>\n      <td>0.0</td>\n      <td>NaN</td>\n      <td>I can’t believe this is getting discontinued. ...</td>\n      <td>Brown eyes, Red hair, Medium skin tone, Combin...</td>\n      <td>NaN</td>\n      <td>22 d ago</td>\n    </tr>\n    <tr>\n      <th>4</th>\n      <td>asilwhat</td>\n      <td>5.0</td>\n      <td>1.0</td>\n      <td>NaN</td>\n      <td>I can’t believe this is getting discontinued. ...</td>\n      <td>Brown eyes, Brunette hair, Medium skin tone, D...</td>\n      <td>3 Beechwood - light beige with a yellow undertone</td>\n      <td>22 d ago</td>\n    </tr>\n    <tr>\n      <th>...</th>\n      <td>...</td>\n      <td>...</td>\n      <td>...</td>\n      <td>...</td>\n      <td>...</td>\n      <td>...</td>\n      <td>...</td>\n      <td>...</td>\n    </tr>\n    <tr>\n      <th>649</th>\n      <td>IvyyMontana</td>\n      <td>5.0</td>\n      <td>0.0</td>\n      <td>LOVE</td>\n      <td>Im not really a fan of foundation sticks but h...</td>\n      <td>Combination skin</td>\n      <td>NaN</td>\n      <td>17 Jul 2017</td>\n    </tr>\n    <tr>\n      <th>650</th>\n      <td>dawn84</td>\n      <td>4.0</td>\n      <td>0.0</td>\n      <td>smooth</td>\n      <td>it reminded of the hourglass stick foundation ...</td>\n      <td>Brown eyes, Medium skin tone, Combination skin</td>\n      <td>NaN</td>\n      <td>17 Jul 2017</td>\n    </tr>\n    <tr>\n      <th>651</th>\n      <td>lizabellamess</td>\n      <td>3.0</td>\n      <td>0.0</td>\n      <td>so so</td>\n      <td>I love Sephora collection BUT this foundation ...</td>\n      <td>Brown eyes, Medium skin tone, Combination skin</td>\n      <td>NaN</td>\n      <td>17 Jul 2017</td>\n    </tr>\n    <tr>\n      <th>652</th>\n      <td>jessers16</td>\n      <td>5.0</td>\n      <td>0.0</td>\n      <td>NEW OBSESSION</td>\n      <td>I work in an SiJCP, and when we first got thes...</td>\n      <td>Brown eyes, Medium skin tone, Combination skin</td>\n      <td>NaN</td>\n      <td>12 Jul 2017</td>\n    </tr>\n    <tr>\n      <th>653</th>\n      <td>Anevay</td>\n      <td>5.0</td>\n      <td>0.0</td>\n      <td>BEST STICK FOUNDATION I'VE BOUGHT</td>\n      <td>I have oily combination skin. I tried the make...</td>\n      <td>Brown eyes, Medium skin tone, Combination skin</td>\n      <td>NaN</td>\n      <td>11 Jul 2017</td>\n    </tr>\n  </tbody>\n</table>\n<p>654 rows × 8 columns</p>\n</div>"
     },
     "execution_count": 7,
     "metadata": {},
     "output_type": "execute_result"
    }
   ],
   "source": [
    "test.data[['reviewer_id', 'rating', 'recommended', 'review_subject',\n",
    "       'review_content', 'reviewer_feature', 'purchased_shade',\n",
    "       'date_of_review']]"
   ],
   "metadata": {
    "collapsed": false,
    "pycharm": {
     "name": "#%%\n"
    }
   }
  },
  {
   "cell_type": "code",
   "execution_count": 8,
   "outputs": [
    {
     "name": "stderr",
     "output_type": "stream",
     "text": [
      "100%|██████████| 654/654 [00:00<00:00, 1086.11it/s]\n"
     ]
    }
   ],
   "source": [
    "test.data = test.parsing_reviewer_features()"
   ],
   "metadata": {
    "collapsed": false,
    "pycharm": {
     "name": "#%%\n"
    }
   }
  },
  {
   "cell_type": "code",
   "execution_count": 9,
   "outputs": [],
   "source": [
    "test.data = test.parsing_date_of_review()"
   ],
   "metadata": {
    "collapsed": false,
    "pycharm": {
     "name": "#%%\n"
    }
   }
  },
  {
   "cell_type": "code",
   "execution_count": 10,
   "outputs": [
    {
     "data": {
      "text/plain": "Index(['index', 'reviewer_id', 'rating', 'recommended', 'review_subject',\n       'review_content', 'reviewer_feature', 'purchased_shade',\n       'date_of_review', 'eye_color', 'hair_color', 'skin_tone', 'skin_type',\n       'skin_tone_bin', 'skin_tone_cat', 'days_since_launch',\n       'days_since_launch_scaled', 'month_of_purchase'],\n      dtype='object')"
     },
     "execution_count": 10,
     "metadata": {},
     "output_type": "execute_result"
    }
   ],
   "source": [
    "test.data.columns"
   ],
   "metadata": {
    "collapsed": false,
    "pycharm": {
     "name": "#%%\n"
    }
   }
  },
  {
   "cell_type": "code",
   "execution_count": 11,
   "outputs": [],
   "source": [
    "test.data = test.parsing_review_content()"
   ],
   "metadata": {
    "collapsed": false,
    "pycharm": {
     "name": "#%%\n"
    }
   }
  },
  {
   "cell_type": "code",
   "execution_count": 12,
   "outputs": [],
   "source": [
    "test.data = test.data[['index', 'reviewer_id', 'rating', 'recommended', 'review_subject',\n",
    "       'review_content', 'reviewer_feature', 'purchased_shade',\n",
    "       'date_of_review', 'eye_color', 'hair_color', 'skin_tone', 'skin_type',\n",
    "       'skin_tone_bin', 'skin_tone_cat', 'days_since_launch',\n",
    "       'days_since_launch_scaled', 'month_of_purchase', 'finish', 'coverage',\n",
    "       'shade_match', 'gifted']]"
   ],
   "metadata": {
    "collapsed": false,
    "pycharm": {
     "name": "#%%\n"
    }
   }
  },
  {
   "cell_type": "code",
   "execution_count": 5,
   "metadata": {
    "pycharm": {
     "name": "#%%\n"
    }
   },
   "outputs": [
    {
     "name": "stderr",
     "output_type": "stream",
     "text": [
      "100%|██████████| 654/654 [00:00<00:00, 1129.31it/s]\n",
      "100%|██████████| 752/752 [00:00<00:00, 1108.49it/s]\n",
      "100%|██████████| 2055/2055 [00:01<00:00, 1110.52it/s]\n",
      "100%|██████████| 1715/1715 [00:01<00:00, 1040.20it/s]\n",
      "100%|██████████| 1002/1002 [00:00<00:00, 1344.70it/s]\n",
      "100%|██████████| 1587/1587 [00:01<00:00, 1096.30it/s]\n",
      "100%|██████████| 1740/1740 [00:01<00:00, 1199.24it/s]\n",
      "100%|██████████| 4999/4999 [00:06<00:00, 771.50it/s] \n",
      "100%|██████████| 968/968 [00:00<00:00, 1048.54it/s]\n",
      "100%|██████████| 333/333 [00:00<00:00, 1057.76it/s]\n",
      "100%|██████████| 909/909 [00:00<00:00, 1069.54it/s]\n",
      "100%|██████████| 2370/2370 [00:02<00:00, 971.51it/s] \n",
      "100%|██████████| 2347/2347 [00:01<00:00, 1326.49it/s]\n",
      "100%|██████████| 4569/4569 [00:04<00:00, 948.80it/s] \n",
      "100%|██████████| 400/400 [00:00<00:00, 1056.86it/s]\n",
      "100%|██████████| 2313/2313 [00:02<00:00, 1138.04it/s]\n",
      "100%|██████████| 3256/3256 [00:03<00:00, 894.67it/s]\n",
      "100%|██████████| 783/783 [00:00<00:00, 1061.61it/s]\n",
      "100%|██████████| 413/413 [00:00<00:00, 1065.33it/s]\n",
      "100%|██████████| 962/962 [00:00<00:00, 1062.69it/s]\n",
      "100%|██████████| 1249/1249 [00:00<00:00, 1528.27it/s]\n",
      "100%|██████████| 1738/1738 [00:01<00:00, 1021.58it/s]\n",
      "100%|██████████| 1050/1050 [00:00<00:00, 1052.59it/s]\n",
      "100%|██████████| 2368/2368 [00:02<00:00, 972.51it/s] \n",
      "100%|██████████| 1807/1807 [00:01<00:00, 1011.13it/s]\n",
      "100%|██████████| 599/599 [00:00<00:00, 1066.29it/s]\n",
      "100%|██████████| 1393/1393 [00:00<00:00, 1481.60it/s]\n",
      "100%|██████████| 1152/1152 [00:01<00:00, 1045.15it/s]\n",
      "100%|██████████| 2327/2327 [00:02<00:00, 975.70it/s] \n",
      "100%|██████████| 5276/5276 [00:07<00:00, 705.41it/s]\n",
      "100%|██████████| 402/402 [00:00<00:00, 1367.79it/s]\n",
      "100%|██████████| 1226/1226 [00:01<00:00, 1076.49it/s]\n",
      "100%|██████████| 1291/1291 [00:01<00:00, 1221.84it/s]\n",
      "100%|██████████| 1977/1977 [00:01<00:00, 1010.80it/s]\n",
      "100%|██████████| 3445/3445 [00:03<00:00, 874.99it/s]\n",
      "100%|██████████| 449/449 [00:00<00:00, 1097.52it/s]\n",
      "100%|██████████| 4494/4494 [00:05<00:00, 817.21it/s] \n",
      "100%|██████████| 616/616 [00:00<00:00, 1065.43it/s]\n",
      "100%|██████████| 1435/1435 [00:01<00:00, 1297.46it/s]\n",
      "100%|██████████| 1366/1366 [00:01<00:00, 1206.18it/s]\n",
      "100%|██████████| 1259/1259 [00:01<00:00, 1221.28it/s]\n",
      "100%|██████████| 1565/1565 [00:01<00:00, 1045.22it/s]\n",
      "100%|██████████| 2709/2709 [00:02<00:00, 940.20it/s]\n",
      "100%|██████████| 2653/2653 [00:02<00:00, 1122.35it/s]\n",
      "100%|██████████| 1293/1293 [00:01<00:00, 1061.73it/s]\n",
      "100%|██████████| 1924/1924 [00:01<00:00, 1011.74it/s]\n",
      "100%|██████████| 4874/4874 [00:06<00:00, 786.55it/s] \n",
      "100%|██████████| 5470/5470 [00:05<00:00, 1009.74it/s]\n",
      "100%|██████████| 558/558 [00:00<00:00, 1068.24it/s]\n",
      "100%|██████████| 2413/2413 [00:02<00:00, 969.56it/s] \n",
      "100%|██████████| 836/836 [00:00<00:00, 1536.86it/s]\n",
      "100%|██████████| 4261/4261 [00:06<00:00, 696.01it/s]\n",
      "100%|██████████| 1367/1367 [00:01<00:00, 1050.49it/s]\n",
      "100%|██████████| 1207/1207 [00:01<00:00, 1057.66it/s]\n",
      "100%|██████████| 1937/1937 [00:01<00:00, 1006.91it/s]\n",
      "100%|██████████| 3395/3395 [00:03<00:00, 869.59it/s]\n",
      "100%|██████████| 5593/5593 [00:05<00:00, 1102.16it/s]\n",
      "100%|██████████| 5498/5498 [00:06<00:00, 905.31it/s] \n",
      "100%|██████████| 339/339 [00:00<00:00, 1075.14it/s]\n",
      "100%|██████████| 433/433 [00:00<00:00, 1091.30it/s]\n",
      "100%|██████████| 482/482 [00:00<00:00, 1073.09it/s]\n",
      "100%|██████████| 622/622 [00:00<00:00, 1492.39it/s]\n",
      "100%|██████████| 759/759 [00:00<00:00, 1067.56it/s]\n",
      "100%|██████████| 3144/3144 [00:03<00:00, 1006.22it/s]\n",
      "100%|██████████| 1707/1707 [00:01<00:00, 1462.53it/s]\n",
      "100%|██████████| 1510/1510 [00:01<00:00, 1046.59it/s]\n",
      "100%|██████████| 3169/3169 [00:02<00:00, 1163.16it/s]\n",
      "100%|██████████| 1886/1886 [00:01<00:00, 1003.39it/s]\n",
      "100%|██████████| 5474/5474 [00:07<00:00, 692.66it/s]\n",
      "100%|██████████| 5042/5042 [00:06<00:00, 814.03it/s] \n",
      "100%|██████████| 2332/2332 [00:01<00:00, 1334.35it/s]\n",
      "100%|██████████| 1598/1598 [00:01<00:00, 1021.19it/s]\n",
      "100%|██████████| 1068/1068 [00:00<00:00, 1360.42it/s]\n",
      "100%|██████████| 2836/2836 [00:03<00:00, 921.94it/s]\n",
      "100%|██████████| 1095/1095 [00:01<00:00, 1039.53it/s]\n",
      "100%|██████████| 1653/1653 [00:01<00:00, 1137.85it/s]\n",
      "100%|██████████| 2033/2033 [00:01<00:00, 1444.08it/s]\n",
      "100%|██████████| 1244/1244 [00:01<00:00, 1055.08it/s]\n",
      "100%|██████████| 1033/1033 [00:00<00:00, 1438.56it/s]\n",
      "100%|██████████| 3635/3635 [00:03<00:00, 1144.69it/s]\n",
      "100%|██████████| 1255/1255 [00:01<00:00, 1051.22it/s]\n",
      "100%|██████████| 610/610 [00:00<00:00, 1311.63it/s]\n",
      "100%|██████████| 1049/1049 [00:00<00:00, 1532.25it/s]\n",
      "100%|██████████| 979/979 [00:00<00:00, 1103.60it/s]\n",
      "100%|██████████| 1117/1117 [00:00<00:00, 1363.86it/s]\n",
      "100%|██████████| 589/589 [00:00<00:00, 1072.18it/s]\n",
      "100%|██████████| 346/346 [00:00<00:00, 1089.77it/s]\n",
      "100%|██████████| 975/975 [00:00<00:00, 1311.25it/s]\n",
      "100%|██████████| 4869/4869 [00:06<00:00, 777.82it/s] \n",
      "100%|██████████| 676/676 [00:00<00:00, 1144.58it/s]\n",
      "100%|██████████| 2103/2103 [00:01<00:00, 1178.33it/s]\n",
      "100%|██████████| 377/377 [00:00<00:00, 1253.65it/s]\n",
      "100%|██████████| 759/759 [00:00<00:00, 1237.97it/s]\n",
      "100%|██████████| 911/911 [00:00<00:00, 1067.32it/s]\n",
      "100%|██████████| 324/324 [00:00<00:00, 1102.65it/s]\n",
      "100%|██████████| 501/501 [00:00<00:00, 1094.24it/s]\n",
      "100%|██████████| 716/716 [00:00<00:00, 1072.99it/s]\n",
      "100%|██████████| 2812/2812 [00:02<00:00, 1126.89it/s]\n",
      "100%|██████████| 2415/2415 [00:02<00:00, 965.04it/s] \n",
      "100%|██████████| 494/494 [00:00<00:00, 1137.77it/s]\n",
      "100%|██████████| 1875/1875 [00:01<00:00, 1227.40it/s]\n",
      "100%|██████████| 874/874 [00:00<00:00, 1074.45it/s]\n"
     ]
    }
   ],
   "source": [
    "for i in range(len(list_of_file_names)):\n",
    "    data_cleaning = cleaning_review_data(filename = list_of_file_names[i])\n",
    "    if len(data_cleaning.data) >= 300:    \n",
    "        data_cleaning.data = data_cleaning.parsing_reviewer_features()\n",
    "        data_cleaning.data = data_cleaning.parsing_date_of_review()\n",
    "        data_cleaning.data = data_cleaning.parsing_review_content()\n",
    "        data_cleaning.to_json()\n",
    "        data_cleaning.to_gcs()"
   ]
  }
 ],
 "metadata": {
  "interpreter": {
   "hash": "be930e4ecfc02ffad0fba66b413e4f417b9fdbeb111e734ba3e0fce78218e52b"
  },
  "kernelspec": {
   "display_name": "Python 3.9.1 64-bit ('foundation': conda)",
   "language": "python",
   "name": "python3"
  },
  "language_info": {
   "codemirror_mode": {
    "name": "ipython",
    "version": 3
   },
   "file_extension": ".py",
   "mimetype": "text/x-python",
   "name": "python",
   "nbconvert_exporter": "python",
   "pygments_lexer": "ipython3",
   "version": "3.9.1"
  },
  "orig_nbformat": 4
 },
 "nbformat": 4,
 "nbformat_minor": 2
}