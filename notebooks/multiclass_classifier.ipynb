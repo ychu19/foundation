{
 "cells": [
  {
   "cell_type": "markdown",
   "source": [
    "## Training Multi-class classifier"
   ],
   "metadata": {
    "collapsed": false
   }
  },
  {
   "cell_type": "code",
   "execution_count": 2,
   "metadata": {
    "collapsed": true
   },
   "outputs": [],
   "source": [
    "import pandas as pd\n",
    "import numpy as np\n",
    "import os\n",
    "import random\n",
    "import re\n",
    "from sklearn.preprocessing import OneHotEncoder\n",
    "import pickle\n",
    "from tqdm import tqdm"
   ]
  },
  {
   "cell_type": "markdown",
   "source": [
    "### Importing and cleaning data"
   ],
   "metadata": {
    "collapsed": false
   }
  },
  {
   "cell_type": "code",
   "execution_count": 2,
   "outputs": [],
   "source": [
    "# to get the data of foundations from directory\n",
    "# the first dataset\n",
    "foundation_data = pd.read_json('data_full_review_cleaned/Anastasia_Beverly_Hills_Stick_Foundation.json', lines=True)\n",
    "foundation_data['brand_product'] = 'Anastasia_Beverly_Hills_Stick_Foundation'\n",
    "for file in os.listdir('data_full_review_cleaned/'):\n",
    "   if file.endswith(\".json\"):\n",
    "      new_data = pd.read_json(f'data_full_review_cleaned/{file}', lines=True)\n",
    "      new_data['brand_product'] = file.replace('.json', '')\n",
    "      foundation_data = pd.concat([foundation_data, new_data])\n",
    "foundation_data.reset_index(drop=True, inplace=True)"
   ],
   "metadata": {
    "collapsed": false,
    "pycharm": {
     "name": "#%%\n"
    }
   }
  },
  {
   "cell_type": "code",
   "execution_count": 3,
   "outputs": [],
   "source": [
    "# adding foundation features: coverage and finish\n",
    "foundation_features = pd.read_csv('foundation_features_parsed.csv')\n",
    "foundation_data = pd.merge(foundation_data, foundation_features, on='brand_product', how='left')"
   ],
   "metadata": {
    "collapsed": false,
    "pycharm": {
     "name": "#%%\n"
    }
   }
  },
  {
   "cell_type": "code",
   "execution_count": 4,
   "outputs": [
    {
     "data": {
      "text/plain": "121527"
     },
     "execution_count": 4,
     "metadata": {},
     "output_type": "execute_result"
    }
   ],
   "source": [
    "len(foundation_data)"
   ],
   "metadata": {
    "collapsed": false,
    "pycharm": {
     "name": "#%%\n"
    }
   }
  },
  {
   "cell_type": "code",
   "execution_count": 5,
   "outputs": [
    {
     "data": {
      "text/plain": "    reviewer_id  rating  recommended  \\\n0          VanW       2            0   \n1      camy2770       5            1   \n2  MakittyMarie       5            1   \n3      essencie       5            1   \n4      sehrishm       5            1   \n\n                             review_subject  \\\n0  Very Dry - There Are Better Alternatives   \n1                              Game changer   \n2          highly recommend for contouring!   \n3                                   Love it   \n4                     great for contouring!   \n\n                                      review_content reviewer_feature  \\\n0  I wanted to try a stick foundation and figured...       , Dry skin   \n1  I’ve had this foundation in my collection for ...      , Oily skin   \n2  never used this as a foundation but I love it ...       , Dry skin   \n3  Love it even with translucent powder on top be...      , Oily skin   \n4  Love it, I use this to contour with a bronzer ...      , Oily skin   \n\n  purchased_shade  date_of_review eye_color hair_color  ... skin_type_combo  \\\n0             NaN   1618531200000     Brown   Brunette  ...             0.0   \n1             NaN   1617753600000      Blue     Blonde  ...             0.0   \n2             NaN   1581379200000     Green        Red  ...             0.0   \n3             NaN   1580860800000     Green      Black  ...             0.0   \n4             NaN   1579564800000     Green      Black  ...             0.0   \n\n  skin_type_combination  skin_type_normal  natural_finish  matte_finish  \\\n0                   1.0               0.0             0.0           0.0   \n1                   1.0               0.0             0.0           0.0   \n2                   1.0               0.0             0.0           0.0   \n3                   1.0               0.0             0.0           0.0   \n4                   1.0               0.0             0.0           0.0   \n\n   radiant_finish  medium_coverage  full_coverage  sheer_coverage  \\\n0             0.0              0.0            1.0             0.0   \n1             0.0              0.0            1.0             0.0   \n2             0.0              0.0            1.0             0.0   \n3             0.0              0.0            1.0             0.0   \n4             0.0              0.0            1.0             0.0   \n\n   light_coverage  \n0             1.0  \n1             1.0  \n2             1.0  \n3             1.0  \n4             1.0  \n\n[5 rows x 36 columns]",
      "text/html": "<div>\n<style scoped>\n    .dataframe tbody tr th:only-of-type {\n        vertical-align: middle;\n    }\n\n    .dataframe tbody tr th {\n        vertical-align: top;\n    }\n\n    .dataframe thead th {\n        text-align: right;\n    }\n</style>\n<table border=\"1\" class=\"dataframe\">\n  <thead>\n    <tr style=\"text-align: right;\">\n      <th></th>\n      <th>reviewer_id</th>\n      <th>rating</th>\n      <th>recommended</th>\n      <th>review_subject</th>\n      <th>review_content</th>\n      <th>reviewer_feature</th>\n      <th>purchased_shade</th>\n      <th>date_of_review</th>\n      <th>eye_color</th>\n      <th>hair_color</th>\n      <th>...</th>\n      <th>skin_type_combo</th>\n      <th>skin_type_combination</th>\n      <th>skin_type_normal</th>\n      <th>natural_finish</th>\n      <th>matte_finish</th>\n      <th>radiant_finish</th>\n      <th>medium_coverage</th>\n      <th>full_coverage</th>\n      <th>sheer_coverage</th>\n      <th>light_coverage</th>\n    </tr>\n  </thead>\n  <tbody>\n    <tr>\n      <th>0</th>\n      <td>VanW</td>\n      <td>2</td>\n      <td>0</td>\n      <td>Very Dry - There Are Better Alternatives</td>\n      <td>I wanted to try a stick foundation and figured...</td>\n      <td>, Dry skin</td>\n      <td>NaN</td>\n      <td>1618531200000</td>\n      <td>Brown</td>\n      <td>Brunette</td>\n      <td>...</td>\n      <td>0.0</td>\n      <td>1.0</td>\n      <td>0.0</td>\n      <td>0.0</td>\n      <td>0.0</td>\n      <td>0.0</td>\n      <td>0.0</td>\n      <td>1.0</td>\n      <td>0.0</td>\n      <td>1.0</td>\n    </tr>\n    <tr>\n      <th>1</th>\n      <td>camy2770</td>\n      <td>5</td>\n      <td>1</td>\n      <td>Game changer</td>\n      <td>I’ve had this foundation in my collection for ...</td>\n      <td>, Oily skin</td>\n      <td>NaN</td>\n      <td>1617753600000</td>\n      <td>Blue</td>\n      <td>Blonde</td>\n      <td>...</td>\n      <td>0.0</td>\n      <td>1.0</td>\n      <td>0.0</td>\n      <td>0.0</td>\n      <td>0.0</td>\n      <td>0.0</td>\n      <td>0.0</td>\n      <td>1.0</td>\n      <td>0.0</td>\n      <td>1.0</td>\n    </tr>\n    <tr>\n      <th>2</th>\n      <td>MakittyMarie</td>\n      <td>5</td>\n      <td>1</td>\n      <td>highly recommend for contouring!</td>\n      <td>never used this as a foundation but I love it ...</td>\n      <td>, Dry skin</td>\n      <td>NaN</td>\n      <td>1581379200000</td>\n      <td>Green</td>\n      <td>Red</td>\n      <td>...</td>\n      <td>0.0</td>\n      <td>1.0</td>\n      <td>0.0</td>\n      <td>0.0</td>\n      <td>0.0</td>\n      <td>0.0</td>\n      <td>0.0</td>\n      <td>1.0</td>\n      <td>0.0</td>\n      <td>1.0</td>\n    </tr>\n    <tr>\n      <th>3</th>\n      <td>essencie</td>\n      <td>5</td>\n      <td>1</td>\n      <td>Love it</td>\n      <td>Love it even with translucent powder on top be...</td>\n      <td>, Oily skin</td>\n      <td>NaN</td>\n      <td>1580860800000</td>\n      <td>Green</td>\n      <td>Black</td>\n      <td>...</td>\n      <td>0.0</td>\n      <td>1.0</td>\n      <td>0.0</td>\n      <td>0.0</td>\n      <td>0.0</td>\n      <td>0.0</td>\n      <td>0.0</td>\n      <td>1.0</td>\n      <td>0.0</td>\n      <td>1.0</td>\n    </tr>\n    <tr>\n      <th>4</th>\n      <td>sehrishm</td>\n      <td>5</td>\n      <td>1</td>\n      <td>great for contouring!</td>\n      <td>Love it, I use this to contour with a bronzer ...</td>\n      <td>, Oily skin</td>\n      <td>NaN</td>\n      <td>1579564800000</td>\n      <td>Green</td>\n      <td>Black</td>\n      <td>...</td>\n      <td>0.0</td>\n      <td>1.0</td>\n      <td>0.0</td>\n      <td>0.0</td>\n      <td>0.0</td>\n      <td>0.0</td>\n      <td>0.0</td>\n      <td>1.0</td>\n      <td>0.0</td>\n      <td>1.0</td>\n    </tr>\n  </tbody>\n</table>\n<p>5 rows × 36 columns</p>\n</div>"
     },
     "execution_count": 5,
     "metadata": {},
     "output_type": "execute_result"
    }
   ],
   "source": [
    "foundation_data.head()"
   ],
   "metadata": {
    "collapsed": false,
    "pycharm": {
     "name": "#%%\n"
    }
   }
  },
  {
   "cell_type": "code",
   "execution_count": 6,
   "outputs": [
    {
     "data": {
      "text/plain": "         reviewer_id  rating  recommended          review_subject  \\\n121522  Jeninthemtns       4            1                    None   \n121523   rosered2384       5            1              Love this!   \n121524    LargeMocha       5            1                    None   \n121525        lanart       1            0                    None   \n121526       acn2010       5            1  First Time at Sephora!   \n\n                                           review_content    reviewer_feature  \\\n121522  This is my one product I CANNOT live without. ...         , Oily skin   \n121523  This is my FAV product. It lasts all day, prot...          , Dry skin   \n121524  This is my FAV product. It lasts all day, prot...          , Dry skin   \n121525  This is my FAV product. It lasts all day, prot...  , Combination skin   \n121526  Purchased this for my 12 year old Granddaughte...  , Combination skin   \n\n       purchased_shade  date_of_review eye_color hair_color  ...  \\\n121522      Medium-Tan   1504310400000     Brown      Black  ...   \n121523            Fair   1504224000000     Hazel      Black  ...   \n121524          Medium   1504224000000     Hazel      Black  ...   \n121525           Light   1504051200000      Blue   Brunette  ...   \n121526            Fair   1504051200000     Green   Brunette  ...   \n\n       skin_type_combo skin_type_combination  skin_type_normal  \\\n121522             0.0                   1.0               1.0   \n121523             0.0                   1.0               1.0   \n121524             0.0                   1.0               1.0   \n121525             0.0                   1.0               1.0   \n121526             0.0                   1.0               1.0   \n\n        natural_finish  matte_finish  radiant_finish  medium_coverage  \\\n121522             0.0           1.0             0.0              1.0   \n121523             0.0           1.0             0.0              1.0   \n121524             0.0           1.0             0.0              1.0   \n121525             0.0           1.0             0.0              1.0   \n121526             0.0           1.0             0.0              1.0   \n\n        full_coverage  sheer_coverage  light_coverage  \n121522            0.0             1.0             1.0  \n121523            0.0             1.0             1.0  \n121524            0.0             1.0             1.0  \n121525            0.0             1.0             1.0  \n121526            0.0             1.0             1.0  \n\n[5 rows x 36 columns]",
      "text/html": "<div>\n<style scoped>\n    .dataframe tbody tr th:only-of-type {\n        vertical-align: middle;\n    }\n\n    .dataframe tbody tr th {\n        vertical-align: top;\n    }\n\n    .dataframe thead th {\n        text-align: right;\n    }\n</style>\n<table border=\"1\" class=\"dataframe\">\n  <thead>\n    <tr style=\"text-align: right;\">\n      <th></th>\n      <th>reviewer_id</th>\n      <th>rating</th>\n      <th>recommended</th>\n      <th>review_subject</th>\n      <th>review_content</th>\n      <th>reviewer_feature</th>\n      <th>purchased_shade</th>\n      <th>date_of_review</th>\n      <th>eye_color</th>\n      <th>hair_color</th>\n      <th>...</th>\n      <th>skin_type_combo</th>\n      <th>skin_type_combination</th>\n      <th>skin_type_normal</th>\n      <th>natural_finish</th>\n      <th>matte_finish</th>\n      <th>radiant_finish</th>\n      <th>medium_coverage</th>\n      <th>full_coverage</th>\n      <th>sheer_coverage</th>\n      <th>light_coverage</th>\n    </tr>\n  </thead>\n  <tbody>\n    <tr>\n      <th>121522</th>\n      <td>Jeninthemtns</td>\n      <td>4</td>\n      <td>1</td>\n      <td>None</td>\n      <td>This is my one product I CANNOT live without. ...</td>\n      <td>, Oily skin</td>\n      <td>Medium-Tan</td>\n      <td>1504310400000</td>\n      <td>Brown</td>\n      <td>Black</td>\n      <td>...</td>\n      <td>0.0</td>\n      <td>1.0</td>\n      <td>1.0</td>\n      <td>0.0</td>\n      <td>1.0</td>\n      <td>0.0</td>\n      <td>1.0</td>\n      <td>0.0</td>\n      <td>1.0</td>\n      <td>1.0</td>\n    </tr>\n    <tr>\n      <th>121523</th>\n      <td>rosered2384</td>\n      <td>5</td>\n      <td>1</td>\n      <td>Love this!</td>\n      <td>This is my FAV product. It lasts all day, prot...</td>\n      <td>, Dry skin</td>\n      <td>Fair</td>\n      <td>1504224000000</td>\n      <td>Hazel</td>\n      <td>Black</td>\n      <td>...</td>\n      <td>0.0</td>\n      <td>1.0</td>\n      <td>1.0</td>\n      <td>0.0</td>\n      <td>1.0</td>\n      <td>0.0</td>\n      <td>1.0</td>\n      <td>0.0</td>\n      <td>1.0</td>\n      <td>1.0</td>\n    </tr>\n    <tr>\n      <th>121524</th>\n      <td>LargeMocha</td>\n      <td>5</td>\n      <td>1</td>\n      <td>None</td>\n      <td>This is my FAV product. It lasts all day, prot...</td>\n      <td>, Dry skin</td>\n      <td>Medium</td>\n      <td>1504224000000</td>\n      <td>Hazel</td>\n      <td>Black</td>\n      <td>...</td>\n      <td>0.0</td>\n      <td>1.0</td>\n      <td>1.0</td>\n      <td>0.0</td>\n      <td>1.0</td>\n      <td>0.0</td>\n      <td>1.0</td>\n      <td>0.0</td>\n      <td>1.0</td>\n      <td>1.0</td>\n    </tr>\n    <tr>\n      <th>121525</th>\n      <td>lanart</td>\n      <td>1</td>\n      <td>0</td>\n      <td>None</td>\n      <td>This is my FAV product. It lasts all day, prot...</td>\n      <td>, Combination skin</td>\n      <td>Light</td>\n      <td>1504051200000</td>\n      <td>Blue</td>\n      <td>Brunette</td>\n      <td>...</td>\n      <td>0.0</td>\n      <td>1.0</td>\n      <td>1.0</td>\n      <td>0.0</td>\n      <td>1.0</td>\n      <td>0.0</td>\n      <td>1.0</td>\n      <td>0.0</td>\n      <td>1.0</td>\n      <td>1.0</td>\n    </tr>\n    <tr>\n      <th>121526</th>\n      <td>acn2010</td>\n      <td>5</td>\n      <td>1</td>\n      <td>First Time at Sephora!</td>\n      <td>Purchased this for my 12 year old Granddaughte...</td>\n      <td>, Combination skin</td>\n      <td>Fair</td>\n      <td>1504051200000</td>\n      <td>Green</td>\n      <td>Brunette</td>\n      <td>...</td>\n      <td>0.0</td>\n      <td>1.0</td>\n      <td>1.0</td>\n      <td>0.0</td>\n      <td>1.0</td>\n      <td>0.0</td>\n      <td>1.0</td>\n      <td>0.0</td>\n      <td>1.0</td>\n      <td>1.0</td>\n    </tr>\n  </tbody>\n</table>\n<p>5 rows × 36 columns</p>\n</div>"
     },
     "execution_count": 6,
     "metadata": {},
     "output_type": "execute_result"
    }
   ],
   "source": [
    "foundation_data.tail()"
   ],
   "metadata": {
    "collapsed": false,
    "pycharm": {
     "name": "#%%\n"
    }
   }
  },
  {
   "cell_type": "code",
   "execution_count": 7,
   "outputs": [
    {
     "data": {
      "text/plain": "Index(['reviewer_id', 'rating', 'recommended', 'review_subject',\n       'review_content', 'reviewer_feature', 'purchased_shade',\n       'date_of_review', 'eye_color', 'hair_color', 'skin_tone', 'skin_type',\n       'skin_tone_bin', 'skin_tone_cat', 'days_since_launch',\n       'days_since_launch_scaled', 'month_of_purchase', 'finish', 'coverage',\n       'shade_match', 'gifted', 'brand_product', 'product_features',\n       'product_description', 'skin_type_dry', 'skin_type_oily',\n       'skin_type_combo', 'skin_type_combination', 'skin_type_normal',\n       'natural_finish', 'matte_finish', 'radiant_finish', 'medium_coverage',\n       'full_coverage', 'sheer_coverage', 'light_coverage'],\n      dtype='object')"
     },
     "execution_count": 7,
     "metadata": {},
     "output_type": "execute_result"
    }
   ],
   "source": [
    "foundation_data.columns"
   ],
   "metadata": {
    "collapsed": false,
    "pycharm": {
     "name": "#%%\n"
    }
   }
  },
  {
   "cell_type": "code",
   "execution_count": 8,
   "outputs": [],
   "source": [
    "foundation_data = foundation_data[foundation_data['light_coverage'].notna()].reset_index(drop=True)\n",
    "# excluding foundations that are either no longer available on Sephora or do not have more than 200 reviews"
   ],
   "metadata": {
    "collapsed": false,
    "pycharm": {
     "name": "#%%\n"
    }
   }
  },
  {
   "cell_type": "code",
   "execution_count": 9,
   "outputs": [],
   "source": [
    "# finish and coverage\n",
    "def mapping_preference_for_foundations(data: pd.DataFrame, col: str = 'finish'):\n",
    "    new_col = f'{col}_preference'\n",
    "    foundation_features = [\n",
    "        re.findall(f'.+{col}', i)[0] for i in foundation_data.columns if re.findall(f'.+{col}', i) != []\n",
    "    ]\n",
    "    data[new_col] = None\n",
    "    for feature in foundation_features:\n",
    "        for j in tqdm(range(len(data))):\n",
    "            if data.loc[j, feature] == 1:\n",
    "                data.loc[j, new_col] = feature\n",
    "    return data"
   ],
   "metadata": {
    "collapsed": false,
    "pycharm": {
     "name": "#%%\n"
    }
   }
  },
  {
   "cell_type": "code",
   "execution_count": 10,
   "outputs": [
    {
     "name": "stderr",
     "output_type": "stream",
     "text": [
      "100%|██████████| 119268/119268 [01:46<00:00, 1116.98it/s]\n",
      "100%|██████████| 119268/119268 [01:18<00:00, 1527.37it/s]\n",
      "100%|██████████| 119268/119268 [00:26<00:00, 4502.57it/s]\n"
     ]
    }
   ],
   "source": [
    "foundation_data = mapping_preference_for_foundations(foundation_data, col='finish')"
   ],
   "metadata": {
    "collapsed": false,
    "pycharm": {
     "name": "#%%\n"
    }
   }
  },
  {
   "cell_type": "code",
   "execution_count": 11,
   "outputs": [
    {
     "name": "stderr",
     "output_type": "stream",
     "text": [
      "100%|██████████| 119268/119268 [01:37<00:00, 1223.96it/s]\n",
      "100%|██████████| 119268/119268 [02:07<00:00, 937.22it/s] \n",
      "100%|██████████| 119268/119268 [00:24<00:00, 4931.47it/s]\n",
      "100%|██████████| 119268/119268 [02:04<00:00, 958.78it/s] \n"
     ]
    }
   ],
   "source": [
    "foundation_data = mapping_preference_for_foundations(foundation_data, col='coverage')"
   ],
   "metadata": {
    "collapsed": false,
    "pycharm": {
     "name": "#%%\n"
    }
   }
  },
  {
   "cell_type": "code",
   "execution_count": 12,
   "outputs": [
    {
     "name": "stderr",
     "output_type": "stream",
     "text": [
      "100%|██████████| 119268/119268 [00:03<00:00, 37054.76it/s]\n",
      "100%|██████████| 119268/119268 [00:03<00:00, 36499.34it/s]\n",
      "100%|██████████| 119268/119268 [00:00<00:00, 228394.47it/s]\n",
      "100%|██████████| 119268/119268 [00:08<00:00, 13889.14it/s]\n",
      "100%|██████████| 119268/119268 [00:02<00:00, 46332.71it/s]\n",
      "100%|██████████| 119268/119268 [00:00<00:00, 174312.15it/s]\n"
     ]
    }
   ],
   "source": [
    "# skin_type\n",
    "foundation_data['skin_type_match'] = 0\n",
    "skin_types = [re.findall(f'^skin_type_.+', i)[0] for i in foundation_data.columns if re.findall(f'^skin_type_.+', i) != []]\n",
    "for skin_type in skin_types:\n",
    "    for i in tqdm(range(len(foundation_data))):\n",
    "        if foundation_data.loc[i, skin_type] == 1:\n",
    "            if foundation_data.loc[i, 'skin_type'] == skin_type.replace('skin_type_', '').capitalize():\n",
    "                foundation_data.loc[i, 'skin_type_match'] = 1"
   ],
   "metadata": {
    "collapsed": false,
    "pycharm": {
     "name": "#%%\n"
    }
   }
  },
  {
   "cell_type": "code",
   "execution_count": 13,
   "outputs": [
    {
     "data": {
      "text/plain": "    reviewer_id  rating  recommended  \\\n0          VanW       2            0   \n1      camy2770       5            1   \n2  MakittyMarie       5            1   \n3      essencie       5            1   \n4      sehrishm       5            1   \n\n                             review_subject  \\\n0  Very Dry - There Are Better Alternatives   \n1                              Game changer   \n2          highly recommend for contouring!   \n3                                   Love it   \n4                     great for contouring!   \n\n                                      review_content reviewer_feature  \\\n0  I wanted to try a stick foundation and figured...       , Dry skin   \n1  I’ve had this foundation in my collection for ...      , Oily skin   \n2  never used this as a foundation but I love it ...       , Dry skin   \n3  Love it even with translucent powder on top be...      , Oily skin   \n4  Love it, I use this to contour with a bronzer ...      , Oily skin   \n\n  purchased_shade  date_of_review eye_color hair_color  ... natural_finish  \\\n0             NaN   1618531200000     Brown   Brunette  ...            0.0   \n1             NaN   1617753600000      Blue     Blonde  ...            0.0   \n2             NaN   1581379200000     Green        Red  ...            0.0   \n3             NaN   1580860800000     Green      Black  ...            0.0   \n4             NaN   1579564800000     Green      Black  ...            0.0   \n\n  matte_finish  radiant_finish  medium_coverage  full_coverage  \\\n0          0.0             0.0              0.0            1.0   \n1          0.0             0.0              0.0            1.0   \n2          0.0             0.0              0.0            1.0   \n3          0.0             0.0              0.0            1.0   \n4          0.0             0.0              0.0            1.0   \n\n   sheer_coverage  light_coverage  finish_preference  coverage_preference  \\\n0             0.0             1.0               None       light_coverage   \n1             0.0             1.0               None       light_coverage   \n2             0.0             1.0               None       light_coverage   \n3             0.0             1.0               None       light_coverage   \n4             0.0             1.0               None       light_coverage   \n\n   skin_type_match  \n0                0  \n1                1  \n2                0  \n3                1  \n4                1  \n\n[5 rows x 39 columns]",
      "text/html": "<div>\n<style scoped>\n    .dataframe tbody tr th:only-of-type {\n        vertical-align: middle;\n    }\n\n    .dataframe tbody tr th {\n        vertical-align: top;\n    }\n\n    .dataframe thead th {\n        text-align: right;\n    }\n</style>\n<table border=\"1\" class=\"dataframe\">\n  <thead>\n    <tr style=\"text-align: right;\">\n      <th></th>\n      <th>reviewer_id</th>\n      <th>rating</th>\n      <th>recommended</th>\n      <th>review_subject</th>\n      <th>review_content</th>\n      <th>reviewer_feature</th>\n      <th>purchased_shade</th>\n      <th>date_of_review</th>\n      <th>eye_color</th>\n      <th>hair_color</th>\n      <th>...</th>\n      <th>natural_finish</th>\n      <th>matte_finish</th>\n      <th>radiant_finish</th>\n      <th>medium_coverage</th>\n      <th>full_coverage</th>\n      <th>sheer_coverage</th>\n      <th>light_coverage</th>\n      <th>finish_preference</th>\n      <th>coverage_preference</th>\n      <th>skin_type_match</th>\n    </tr>\n  </thead>\n  <tbody>\n    <tr>\n      <th>0</th>\n      <td>VanW</td>\n      <td>2</td>\n      <td>0</td>\n      <td>Very Dry - There Are Better Alternatives</td>\n      <td>I wanted to try a stick foundation and figured...</td>\n      <td>, Dry skin</td>\n      <td>NaN</td>\n      <td>1618531200000</td>\n      <td>Brown</td>\n      <td>Brunette</td>\n      <td>...</td>\n      <td>0.0</td>\n      <td>0.0</td>\n      <td>0.0</td>\n      <td>0.0</td>\n      <td>1.0</td>\n      <td>0.0</td>\n      <td>1.0</td>\n      <td>None</td>\n      <td>light_coverage</td>\n      <td>0</td>\n    </tr>\n    <tr>\n      <th>1</th>\n      <td>camy2770</td>\n      <td>5</td>\n      <td>1</td>\n      <td>Game changer</td>\n      <td>I’ve had this foundation in my collection for ...</td>\n      <td>, Oily skin</td>\n      <td>NaN</td>\n      <td>1617753600000</td>\n      <td>Blue</td>\n      <td>Blonde</td>\n      <td>...</td>\n      <td>0.0</td>\n      <td>0.0</td>\n      <td>0.0</td>\n      <td>0.0</td>\n      <td>1.0</td>\n      <td>0.0</td>\n      <td>1.0</td>\n      <td>None</td>\n      <td>light_coverage</td>\n      <td>1</td>\n    </tr>\n    <tr>\n      <th>2</th>\n      <td>MakittyMarie</td>\n      <td>5</td>\n      <td>1</td>\n      <td>highly recommend for contouring!</td>\n      <td>never used this as a foundation but I love it ...</td>\n      <td>, Dry skin</td>\n      <td>NaN</td>\n      <td>1581379200000</td>\n      <td>Green</td>\n      <td>Red</td>\n      <td>...</td>\n      <td>0.0</td>\n      <td>0.0</td>\n      <td>0.0</td>\n      <td>0.0</td>\n      <td>1.0</td>\n      <td>0.0</td>\n      <td>1.0</td>\n      <td>None</td>\n      <td>light_coverage</td>\n      <td>0</td>\n    </tr>\n    <tr>\n      <th>3</th>\n      <td>essencie</td>\n      <td>5</td>\n      <td>1</td>\n      <td>Love it</td>\n      <td>Love it even with translucent powder on top be...</td>\n      <td>, Oily skin</td>\n      <td>NaN</td>\n      <td>1580860800000</td>\n      <td>Green</td>\n      <td>Black</td>\n      <td>...</td>\n      <td>0.0</td>\n      <td>0.0</td>\n      <td>0.0</td>\n      <td>0.0</td>\n      <td>1.0</td>\n      <td>0.0</td>\n      <td>1.0</td>\n      <td>None</td>\n      <td>light_coverage</td>\n      <td>1</td>\n    </tr>\n    <tr>\n      <th>4</th>\n      <td>sehrishm</td>\n      <td>5</td>\n      <td>1</td>\n      <td>great for contouring!</td>\n      <td>Love it, I use this to contour with a bronzer ...</td>\n      <td>, Oily skin</td>\n      <td>NaN</td>\n      <td>1579564800000</td>\n      <td>Green</td>\n      <td>Black</td>\n      <td>...</td>\n      <td>0.0</td>\n      <td>0.0</td>\n      <td>0.0</td>\n      <td>0.0</td>\n      <td>1.0</td>\n      <td>0.0</td>\n      <td>1.0</td>\n      <td>None</td>\n      <td>light_coverage</td>\n      <td>1</td>\n    </tr>\n  </tbody>\n</table>\n<p>5 rows × 39 columns</p>\n</div>"
     },
     "execution_count": 13,
     "metadata": {},
     "output_type": "execute_result"
    }
   ],
   "source": [
    "foundation_data.head()"
   ],
   "metadata": {
    "collapsed": false,
    "pycharm": {
     "name": "#%%\n"
    }
   }
  },
  {
   "cell_type": "code",
   "execution_count": 15,
   "outputs": [],
   "source": [
    "foundation_data.to_json('data_full_review_cleaned/0_foundation_data_all_cleaned.json', orient='records', lines=True)"
   ],
   "metadata": {
    "collapsed": false,
    "pycharm": {
     "name": "#%%\n"
    }
   }
  },
  {
   "cell_type": "code",
   "execution_count": 16,
   "outputs": [
    {
     "data": {
      "text/plain": "119268"
     },
     "execution_count": 16,
     "metadata": {},
     "output_type": "execute_result"
    }
   ],
   "source": [
    "len(foundation_data)"
   ],
   "metadata": {
    "collapsed": false,
    "pycharm": {
     "name": "#%%\n"
    }
   }
  },
  {
   "cell_type": "code",
   "execution_count": 3,
   "outputs": [],
   "source": [
    "foundation_data = pd.read_json('data_full_review_cleaned/0_foundation_data_all_cleaned.json', lines=True)"
   ],
   "metadata": {
    "collapsed": false,
    "pycharm": {
     "name": "#%%\n"
    }
   }
  },
  {
   "cell_type": "markdown",
   "source": [
    "### Encoding Multi-class labels into integers"
   ],
   "metadata": {
    "collapsed": false
   }
  },
  {
   "cell_type": "code",
   "execution_count": 4,
   "outputs": [],
   "source": [
    "labels = foundation_data['brand_product'].unique()\n",
    "i = 0\n",
    "idx_to_class = dict()\n",
    "class_to_idx = dict()\n",
    "for product in labels:\n",
    "   idx_to_class[i] = product\n",
    "   class_to_idx[product] = i\n",
    "   i += 1"
   ],
   "metadata": {
    "collapsed": false,
    "pycharm": {
     "name": "#%%\n"
    }
   }
  },
  {
   "cell_type": "code",
   "execution_count": 5,
   "outputs": [
    {
     "data": {
      "text/plain": "{0: 'Anastasia_Beverly_Hills_Stick_Foundation',\n 1: 'Dr._Jart+_Premium_Beauty_Balm_SPF_40',\n 2: 'KVD_Vegan_Beauty_Lock-It_Powder_Foundation',\n 3: 'Laura_Mercier_Flawless_Lumière_Radiance-Perfecting_Foundation',\n 4: 'Laura_Mercier_Flawless_Fusion_Ultra-Longwear_Foundation',\n 5: 'tarte_babassu_foundcealer™_skincare_foundation_SPF_20',\n 6: 'bareMinerals_Matte_Loose_Powder_Mineral_Foundation_SPF_15\\xa0',\n 7: \"FENTY_BEAUTY_by_Rihanna_Pro_Filt'r_Soft_Matte_Longwear_Foundation\",\n 8: 'SEPHORA_COLLECTION_Make_No_Mistake_Foundation_&_Concealer_Stick',\n 9: 'Smashbox_Studio_Skin_24_Hour_Oil-Free_Hydra_Foundation',\n 10: 'ILIA_Super_Serum_Skin_Tint_SPF_40_Foundation',\n 11: 'Dior_BACKSTAGE_Face_&_Body_Foundation',\n 12: 'Laura_Mercier_Tinted_Moisturizer_Natural_Skin_Perfector_Broad_Spectrum_SPF_30',\n 13: 'SEPHORA_COLLECTION_Perfection_Mist_Airbrush_Foundation',\n 14: 'Too_Faced_Born_This_Way_Foundation',\n 15: 'rms_beauty_\"Un\"_Cover-up_Concealer',\n 16: 'Kosas_Tinted_Face_Oil_Foundation',\n 17: 'Hourglass_Vanish™_Seamless_Finish_Foundation_Stick',\n 18: 'Too_Faced_Peach_Perfect_Comfort_Matte_Foundation_–_Peaches_and_Cream_Collection',\n 19: 'NARS_Soft_Matte_Complete_Foundation',\n 20: 'HUDA_BEAUTY_#FauxFilter_Skin_Finish_Buildable_Coverage_Foundation_Stick',\n 21: 'Dior_Dior_Airflash_Spray_Foundation',\n 22: 'Shiseido_Synchro_Skin_Self-Refreshing_Foundation_SPF_30',\n 23: 'bareMinerals_Original_Loose_Powder_Mineral_Foundation_SPF_15',\n 24: 'tarte_Clay_Stick_Foundation',\n 25: 'IT_Cosmetics_Bye_Bye_Redness_Neutralizing_Color-Correcting_Cream',\n 26: 'Lancôme_Teint_Idole_Ultra_Long_Wear_Foundation',\n 27: 'SEPHORA_COLLECTION_Matte_Perfection_Powder_Foundation',\n 28: 'IT_Cosmetics_CC+_Cream_with_SPF_50+',\n 29: 'bareMinerals_Original_Liquid_Mineral_Foundation_Broad_Spectrum_SPF_20',\n 30: 'Charlotte_Tilbury_Airbrush_Flawless_Longwear_Foundation',\n 31: \"FENTY_BEAUTY_by_Rihanna_Pro_Filt'r_Hydrating_Longwear_Foundation\",\n 32: 'Smashbox_Studio_Skin_24_Hour_Full_Coverage_Waterproof_Foundation',\n 33: 'SEPHORA_COLLECTION_Best_Skin_Ever_Liquid_Foundation',\n 34: 'Jouer_Cosmetics_Essential_High_Coverage_Crème_Foundation',\n 35: 'MILK_MAKEUP_Flex_Foundation_Stick',\n 36: 'MAKE_UP_FOR_EVER_Matte_Velvet_Skin_Full_Coverage_Foundation',\n 37: 'KVD_Vegan_Beauty_Lock-It_Foundation',\n 38: 'MAKE_UP_FOR_EVER_Matte_Velvet_Skin_Blurring_Powder_Foundation',\n 39: 'Marc_Jacobs_Beauty_Re(marc)able_Full_Cover_Foundation_Concentrate',\n 40: 'SEPHORA_COLLECTION_10_Hour_Wear_Perfection_Foundation',\n 41: 'Urban_Decay_Stay_Naked_Weightless_Foundation',\n 42: 'Bite_Beauty_Changemaker_Supercharged_Micellar_Foundation',\n 43: 'CLINIQUE_Beyond_Perfecting_Foundation_+_Concealer',\n 44: 'IT_Cosmetics_Your_Skin_But_Better_Foundation_+_Skincare',\n 45: 'Hourglass_Vanish™_Seamless_Finish_Liquid_Foundation',\n 46: 'PAT_McGRATH_LABS_Sublime_Perfection_Foundation',\n 47: 'Bobbi_Brown_Skin_Foundation_SPF_15',\n 48: 'Urban_Decay_Stay_Naked_The_Fix_Powder_Foundation',\n 49: 'MAKE_UP_FOR_EVER_Ultra_HD_Invisible_Cover_Stick_Foundation',\n 50: 'Dior_Diorskin_Forever_Undercover_Foundation',\n 51: 'MILK_MAKEUP_Blur_Liquid_Matte_Foundation',\n 52: 'Urban_Decay_Hydromaniac_Glowy_Tinted_Hydrator_Foundation',\n 53: 'Armani_Beauty_Neo_Nude_Foundation',\n 54: \"FENTY_BEAUTY_by_Rihanna_Pro_Filt'r_Soft_Matte_Powder_Foundation\",\n 55: 'tarte_Amazonian_Clay_BB_Tinted_Moisturizer_Broad_Spectrum_SPF_20_Sunscreen',\n 56: 'MILK_MAKEUP_Sunshine_Skin_Tint_SPF_30',\n 57: 'CLINIQUE_Even_Better_Foundation_Makeup_Broad_Spectrum_SPF_15',\n 58: 'Bobbi_Brown_Skin_Long-Wear_Weightless_Foundation_SPF_15',\n 59: 'Laura_Mercier_Tinted_Moisturizer_Broad_Spectrum_SPF_20_-_Oil_Free',\n 60: 'Hourglass_Immaculate®_Liquid_Powder_Foundation_Mattifying_Oil_Free',\n 61: 'La_Mer_The_Soft_Fluid_Long_Wear_Foundation_SPF_20',\n 62: 'Hourglass_Illusion®_Hyaluronic_Skin_Tint',\n 63: 'Too_Faced_Born_This_Way_Matte_24_Hour_Foundation',\n 64: 'NARS_Pure_Radiant_Tinted_Moisturizer_Broad_Spectrum_SPF_30',\n 65: 'MAKE_UP_FOR_EVER_Ultra_HD_Invisible_Cover_Foundation',\n 66: 'Armani_Beauty_Power_Fabric_Longwear_High_Cover_Foundation_SPF_25',\n 67: 'SEPHORA_COLLECTION_Matte_Perfection_Tinted_Moisturizer',\n 68: 'Lancôme_SKIN_FEELS_GOOD_Skin_Nourishing_Foundation',\n 69: 'beautyblender_Bounce™_Liquid_Whip_Long_Wear_Foundation',\n 70: 'Charlotte_Tilbury_Light_Wonder_Foundation',\n 71: 'ILIA_True_Skin_Serum_Foundation',\n 72: 'bareMinerals_COMPLEXION_RESCUE™_Tinted_Moisturizer_with_Hyaluronic_Acid_and_Mineral_SPF_30',\n 73: 'Shiseido_Synchro_Skin_Self-Refreshing_Custom_Finish_Powder_Foundation',\n 74: 'Yves_Saint_Laurent_All_Hours_Longwear_Natural_Matte_Foundation',\n 75: 'IT_Cosmetics_CC+_Cream_Illumination_with_SPF_50+',\n 76: 'NARS_Natural_Radiant_Longwear_Foundation',\n 77: 'IT_Cosmetics_CC+_Cream_Oil-Free_Matte_with_SPF_40',\n 78: 'Yves_Saint_Laurent_Touche_Eclat_All-In-One_Glow_Foundation',\n 79: 'NARS_Sheer_Glow_Foundation',\n 80: 'tarte_Amazonian_Clay_Full_Coverage_Airbrush_Foundation',\n 81: 'Estée_Lauder_Futurist_Hydra_Rescue_Moisturizing_Foundation_SPF_45',\n 82: 'Rare_Beauty_by_Selena_Gomez_Liquid_Touch_Weightless_Foundation',\n 83: 'CLINIQUE_Acne_Solutions_Liquid_Makeup_Foundation',\n 84: 'NUDESTIX_Nudies_Tinted_Blur_Stick',\n 85: 'MAKE_UP_FOR_EVER_Reboot_Active_Care_Revitalizing_Foundation',\n 86: 'Estée_Lauder_Double_Wear_Stay-in-Place_Foundation',\n 87: 'tarte_BB_Tinted_Treatment_12-Hour_Primer_Broad_Spectrum_SPF_30_Sunscreen'}"
     },
     "execution_count": 5,
     "metadata": {},
     "output_type": "execute_result"
    }
   ],
   "source": [
    "idx_to_class"
   ],
   "metadata": {
    "collapsed": false,
    "pycharm": {
     "name": "#%%\n"
    }
   }
  },
  {
   "cell_type": "code",
   "execution_count": 6,
   "outputs": [
    {
     "data": {
      "text/plain": "{'Anastasia_Beverly_Hills_Stick_Foundation': 0,\n 'Dr._Jart+_Premium_Beauty_Balm_SPF_40': 1,\n 'KVD_Vegan_Beauty_Lock-It_Powder_Foundation': 2,\n 'Laura_Mercier_Flawless_Lumière_Radiance-Perfecting_Foundation': 3,\n 'Laura_Mercier_Flawless_Fusion_Ultra-Longwear_Foundation': 4,\n 'tarte_babassu_foundcealer™_skincare_foundation_SPF_20': 5,\n 'bareMinerals_Matte_Loose_Powder_Mineral_Foundation_SPF_15\\xa0': 6,\n \"FENTY_BEAUTY_by_Rihanna_Pro_Filt'r_Soft_Matte_Longwear_Foundation\": 7,\n 'SEPHORA_COLLECTION_Make_No_Mistake_Foundation_&_Concealer_Stick': 8,\n 'Smashbox_Studio_Skin_24_Hour_Oil-Free_Hydra_Foundation': 9,\n 'ILIA_Super_Serum_Skin_Tint_SPF_40_Foundation': 10,\n 'Dior_BACKSTAGE_Face_&_Body_Foundation': 11,\n 'Laura_Mercier_Tinted_Moisturizer_Natural_Skin_Perfector_Broad_Spectrum_SPF_30': 12,\n 'SEPHORA_COLLECTION_Perfection_Mist_Airbrush_Foundation': 13,\n 'Too_Faced_Born_This_Way_Foundation': 14,\n 'rms_beauty_\"Un\"_Cover-up_Concealer': 15,\n 'Kosas_Tinted_Face_Oil_Foundation': 16,\n 'Hourglass_Vanish™_Seamless_Finish_Foundation_Stick': 17,\n 'Too_Faced_Peach_Perfect_Comfort_Matte_Foundation_–_Peaches_and_Cream_Collection': 18,\n 'NARS_Soft_Matte_Complete_Foundation': 19,\n 'HUDA_BEAUTY_#FauxFilter_Skin_Finish_Buildable_Coverage_Foundation_Stick': 20,\n 'Dior_Dior_Airflash_Spray_Foundation': 21,\n 'Shiseido_Synchro_Skin_Self-Refreshing_Foundation_SPF_30': 22,\n 'bareMinerals_Original_Loose_Powder_Mineral_Foundation_SPF_15': 23,\n 'tarte_Clay_Stick_Foundation': 24,\n 'IT_Cosmetics_Bye_Bye_Redness_Neutralizing_Color-Correcting_Cream': 25,\n 'Lancôme_Teint_Idole_Ultra_Long_Wear_Foundation': 26,\n 'SEPHORA_COLLECTION_Matte_Perfection_Powder_Foundation': 27,\n 'IT_Cosmetics_CC+_Cream_with_SPF_50+': 28,\n 'bareMinerals_Original_Liquid_Mineral_Foundation_Broad_Spectrum_SPF_20': 29,\n 'Charlotte_Tilbury_Airbrush_Flawless_Longwear_Foundation': 30,\n \"FENTY_BEAUTY_by_Rihanna_Pro_Filt'r_Hydrating_Longwear_Foundation\": 31,\n 'Smashbox_Studio_Skin_24_Hour_Full_Coverage_Waterproof_Foundation': 32,\n 'SEPHORA_COLLECTION_Best_Skin_Ever_Liquid_Foundation': 33,\n 'Jouer_Cosmetics_Essential_High_Coverage_Crème_Foundation': 34,\n 'MILK_MAKEUP_Flex_Foundation_Stick': 35,\n 'MAKE_UP_FOR_EVER_Matte_Velvet_Skin_Full_Coverage_Foundation': 36,\n 'KVD_Vegan_Beauty_Lock-It_Foundation': 37,\n 'MAKE_UP_FOR_EVER_Matte_Velvet_Skin_Blurring_Powder_Foundation': 38,\n 'Marc_Jacobs_Beauty_Re(marc)able_Full_Cover_Foundation_Concentrate': 39,\n 'SEPHORA_COLLECTION_10_Hour_Wear_Perfection_Foundation': 40,\n 'Urban_Decay_Stay_Naked_Weightless_Foundation': 41,\n 'Bite_Beauty_Changemaker_Supercharged_Micellar_Foundation': 42,\n 'CLINIQUE_Beyond_Perfecting_Foundation_+_Concealer': 43,\n 'IT_Cosmetics_Your_Skin_But_Better_Foundation_+_Skincare': 44,\n 'Hourglass_Vanish™_Seamless_Finish_Liquid_Foundation': 45,\n 'PAT_McGRATH_LABS_Sublime_Perfection_Foundation': 46,\n 'Bobbi_Brown_Skin_Foundation_SPF_15': 47,\n 'Urban_Decay_Stay_Naked_The_Fix_Powder_Foundation': 48,\n 'MAKE_UP_FOR_EVER_Ultra_HD_Invisible_Cover_Stick_Foundation': 49,\n 'Dior_Diorskin_Forever_Undercover_Foundation': 50,\n 'MILK_MAKEUP_Blur_Liquid_Matte_Foundation': 51,\n 'Urban_Decay_Hydromaniac_Glowy_Tinted_Hydrator_Foundation': 52,\n 'Armani_Beauty_Neo_Nude_Foundation': 53,\n \"FENTY_BEAUTY_by_Rihanna_Pro_Filt'r_Soft_Matte_Powder_Foundation\": 54,\n 'tarte_Amazonian_Clay_BB_Tinted_Moisturizer_Broad_Spectrum_SPF_20_Sunscreen': 55,\n 'MILK_MAKEUP_Sunshine_Skin_Tint_SPF_30': 56,\n 'CLINIQUE_Even_Better_Foundation_Makeup_Broad_Spectrum_SPF_15': 57,\n 'Bobbi_Brown_Skin_Long-Wear_Weightless_Foundation_SPF_15': 58,\n 'Laura_Mercier_Tinted_Moisturizer_Broad_Spectrum_SPF_20_-_Oil_Free': 59,\n 'Hourglass_Immaculate®_Liquid_Powder_Foundation_Mattifying_Oil_Free': 60,\n 'La_Mer_The_Soft_Fluid_Long_Wear_Foundation_SPF_20': 61,\n 'Hourglass_Illusion®_Hyaluronic_Skin_Tint': 62,\n 'Too_Faced_Born_This_Way_Matte_24_Hour_Foundation': 63,\n 'NARS_Pure_Radiant_Tinted_Moisturizer_Broad_Spectrum_SPF_30': 64,\n 'MAKE_UP_FOR_EVER_Ultra_HD_Invisible_Cover_Foundation': 65,\n 'Armani_Beauty_Power_Fabric_Longwear_High_Cover_Foundation_SPF_25': 66,\n 'SEPHORA_COLLECTION_Matte_Perfection_Tinted_Moisturizer': 67,\n 'Lancôme_SKIN_FEELS_GOOD_Skin_Nourishing_Foundation': 68,\n 'beautyblender_Bounce™_Liquid_Whip_Long_Wear_Foundation': 69,\n 'Charlotte_Tilbury_Light_Wonder_Foundation': 70,\n 'ILIA_True_Skin_Serum_Foundation': 71,\n 'bareMinerals_COMPLEXION_RESCUE™_Tinted_Moisturizer_with_Hyaluronic_Acid_and_Mineral_SPF_30': 72,\n 'Shiseido_Synchro_Skin_Self-Refreshing_Custom_Finish_Powder_Foundation': 73,\n 'Yves_Saint_Laurent_All_Hours_Longwear_Natural_Matte_Foundation': 74,\n 'IT_Cosmetics_CC+_Cream_Illumination_with_SPF_50+': 75,\n 'NARS_Natural_Radiant_Longwear_Foundation': 76,\n 'IT_Cosmetics_CC+_Cream_Oil-Free_Matte_with_SPF_40': 77,\n 'Yves_Saint_Laurent_Touche_Eclat_All-In-One_Glow_Foundation': 78,\n 'NARS_Sheer_Glow_Foundation': 79,\n 'tarte_Amazonian_Clay_Full_Coverage_Airbrush_Foundation': 80,\n 'Estée_Lauder_Futurist_Hydra_Rescue_Moisturizing_Foundation_SPF_45': 81,\n 'Rare_Beauty_by_Selena_Gomez_Liquid_Touch_Weightless_Foundation': 82,\n 'CLINIQUE_Acne_Solutions_Liquid_Makeup_Foundation': 83,\n 'NUDESTIX_Nudies_Tinted_Blur_Stick': 84,\n 'MAKE_UP_FOR_EVER_Reboot_Active_Care_Revitalizing_Foundation': 85,\n 'Estée_Lauder_Double_Wear_Stay-in-Place_Foundation': 86,\n 'tarte_BB_Tinted_Treatment_12-Hour_Primer_Broad_Spectrum_SPF_30_Sunscreen': 87}"
     },
     "execution_count": 6,
     "metadata": {},
     "output_type": "execute_result"
    }
   ],
   "source": [
    "class_to_idx"
   ],
   "metadata": {
    "collapsed": false,
    "pycharm": {
     "name": "#%%\n"
    }
   }
  },
  {
   "cell_type": "code",
   "execution_count": 7,
   "outputs": [],
   "source": [
    "foundation_data['label'] = foundation_data['brand_product'].replace(class_to_idx)"
   ],
   "metadata": {
    "collapsed": false,
    "pycharm": {
     "name": "#%%\n"
    }
   }
  },
  {
   "cell_type": "code",
   "execution_count": 8,
   "outputs": [
    {
     "data": {
      "text/plain": "    reviewer_id  rating  recommended  \\\n0          VanW       2            0   \n1      camy2770       5            1   \n2  MakittyMarie       5            1   \n3      essencie       5            1   \n4      sehrishm       5            1   \n\n                             review_subject  \\\n0  Very Dry - There Are Better Alternatives   \n1                              Game changer   \n2          highly recommend for contouring!   \n3                                   Love it   \n4                     great for contouring!   \n\n                                      review_content reviewer_feature  \\\n0  I wanted to try a stick foundation and figured...       , Dry skin   \n1  I’ve had this foundation in my collection for ...      , Oily skin   \n2  never used this as a foundation but I love it ...       , Dry skin   \n3  Love it even with translucent powder on top be...      , Oily skin   \n4  Love it, I use this to contour with a bronzer ...      , Oily skin   \n\n  purchased_shade  date_of_review eye_color hair_color  ... matte_finish  \\\n0            None   1618531200000     Brown   Brunette  ...            0   \n1            None   1617753600000      Blue     Blonde  ...            0   \n2            None   1581379200000     Green        Red  ...            0   \n3            None   1580860800000     Green      Black  ...            0   \n4            None   1579564800000     Green      Black  ...            0   \n\n  radiant_finish  medium_coverage  full_coverage  sheer_coverage  \\\n0              0                0              1               0   \n1              0                0              1               0   \n2              0                0              1               0   \n3              0                0              1               0   \n4              0                0              1               0   \n\n   light_coverage  finish_preference  coverage_preference  skin_type_match  \\\n0               1               None       light_coverage                0   \n1               1               None       light_coverage                1   \n2               1               None       light_coverage                0   \n3               1               None       light_coverage                1   \n4               1               None       light_coverage                1   \n\n   label  \n0      0  \n1      0  \n2      0  \n3      0  \n4      0  \n\n[5 rows x 40 columns]",
      "text/html": "<div>\n<style scoped>\n    .dataframe tbody tr th:only-of-type {\n        vertical-align: middle;\n    }\n\n    .dataframe tbody tr th {\n        vertical-align: top;\n    }\n\n    .dataframe thead th {\n        text-align: right;\n    }\n</style>\n<table border=\"1\" class=\"dataframe\">\n  <thead>\n    <tr style=\"text-align: right;\">\n      <th></th>\n      <th>reviewer_id</th>\n      <th>rating</th>\n      <th>recommended</th>\n      <th>review_subject</th>\n      <th>review_content</th>\n      <th>reviewer_feature</th>\n      <th>purchased_shade</th>\n      <th>date_of_review</th>\n      <th>eye_color</th>\n      <th>hair_color</th>\n      <th>...</th>\n      <th>matte_finish</th>\n      <th>radiant_finish</th>\n      <th>medium_coverage</th>\n      <th>full_coverage</th>\n      <th>sheer_coverage</th>\n      <th>light_coverage</th>\n      <th>finish_preference</th>\n      <th>coverage_preference</th>\n      <th>skin_type_match</th>\n      <th>label</th>\n    </tr>\n  </thead>\n  <tbody>\n    <tr>\n      <th>0</th>\n      <td>VanW</td>\n      <td>2</td>\n      <td>0</td>\n      <td>Very Dry - There Are Better Alternatives</td>\n      <td>I wanted to try a stick foundation and figured...</td>\n      <td>, Dry skin</td>\n      <td>None</td>\n      <td>1618531200000</td>\n      <td>Brown</td>\n      <td>Brunette</td>\n      <td>...</td>\n      <td>0</td>\n      <td>0</td>\n      <td>0</td>\n      <td>1</td>\n      <td>0</td>\n      <td>1</td>\n      <td>None</td>\n      <td>light_coverage</td>\n      <td>0</td>\n      <td>0</td>\n    </tr>\n    <tr>\n      <th>1</th>\n      <td>camy2770</td>\n      <td>5</td>\n      <td>1</td>\n      <td>Game changer</td>\n      <td>I’ve had this foundation in my collection for ...</td>\n      <td>, Oily skin</td>\n      <td>None</td>\n      <td>1617753600000</td>\n      <td>Blue</td>\n      <td>Blonde</td>\n      <td>...</td>\n      <td>0</td>\n      <td>0</td>\n      <td>0</td>\n      <td>1</td>\n      <td>0</td>\n      <td>1</td>\n      <td>None</td>\n      <td>light_coverage</td>\n      <td>1</td>\n      <td>0</td>\n    </tr>\n    <tr>\n      <th>2</th>\n      <td>MakittyMarie</td>\n      <td>5</td>\n      <td>1</td>\n      <td>highly recommend for contouring!</td>\n      <td>never used this as a foundation but I love it ...</td>\n      <td>, Dry skin</td>\n      <td>None</td>\n      <td>1581379200000</td>\n      <td>Green</td>\n      <td>Red</td>\n      <td>...</td>\n      <td>0</td>\n      <td>0</td>\n      <td>0</td>\n      <td>1</td>\n      <td>0</td>\n      <td>1</td>\n      <td>None</td>\n      <td>light_coverage</td>\n      <td>0</td>\n      <td>0</td>\n    </tr>\n    <tr>\n      <th>3</th>\n      <td>essencie</td>\n      <td>5</td>\n      <td>1</td>\n      <td>Love it</td>\n      <td>Love it even with translucent powder on top be...</td>\n      <td>, Oily skin</td>\n      <td>None</td>\n      <td>1580860800000</td>\n      <td>Green</td>\n      <td>Black</td>\n      <td>...</td>\n      <td>0</td>\n      <td>0</td>\n      <td>0</td>\n      <td>1</td>\n      <td>0</td>\n      <td>1</td>\n      <td>None</td>\n      <td>light_coverage</td>\n      <td>1</td>\n      <td>0</td>\n    </tr>\n    <tr>\n      <th>4</th>\n      <td>sehrishm</td>\n      <td>5</td>\n      <td>1</td>\n      <td>great for contouring!</td>\n      <td>Love it, I use this to contour with a bronzer ...</td>\n      <td>, Oily skin</td>\n      <td>None</td>\n      <td>1579564800000</td>\n      <td>Green</td>\n      <td>Black</td>\n      <td>...</td>\n      <td>0</td>\n      <td>0</td>\n      <td>0</td>\n      <td>1</td>\n      <td>0</td>\n      <td>1</td>\n      <td>None</td>\n      <td>light_coverage</td>\n      <td>1</td>\n      <td>0</td>\n    </tr>\n  </tbody>\n</table>\n<p>5 rows × 40 columns</p>\n</div>"
     },
     "execution_count": 8,
     "metadata": {},
     "output_type": "execute_result"
    }
   ],
   "source": [
    "foundation_data.head()"
   ],
   "metadata": {
    "collapsed": false,
    "pycharm": {
     "name": "#%%\n"
    }
   }
  },
  {
   "cell_type": "code",
   "execution_count": 9,
   "outputs": [
    {
     "data": {
      "text/plain": "         reviewer_id  rating  recommended          review_subject  \\\n119263  Jeninthemtns       4            1                    None   \n119264   rosered2384       5            1              Love this!   \n119265    LargeMocha       5            1                    None   \n119266        lanart       1            0                    None   \n119267       acn2010       5            1  First Time at Sephora!   \n\n                                           review_content    reviewer_feature  \\\n119263  This is my one product I CANNOT live without. ...         , Oily skin   \n119264  This is my FAV product. It lasts all day, prot...          , Dry skin   \n119265  This is my FAV product. It lasts all day, prot...          , Dry skin   \n119266  This is my FAV product. It lasts all day, prot...  , Combination skin   \n119267  Purchased this for my 12 year old Granddaughte...  , Combination skin   \n\n       purchased_shade  date_of_review eye_color hair_color  ... matte_finish  \\\n119263      Medium-Tan   1504310400000     Brown      Black  ...            1   \n119264            Fair   1504224000000     Hazel      Black  ...            1   \n119265          Medium   1504224000000     Hazel      Black  ...            1   \n119266           Light   1504051200000      Blue   Brunette  ...            1   \n119267            Fair   1504051200000     Green   Brunette  ...            1   \n\n       radiant_finish  medium_coverage  full_coverage  sheer_coverage  \\\n119263              0                1              0               1   \n119264              0                1              0               1   \n119265              0                1              0               1   \n119266              0                1              0               1   \n119267              0                1              0               1   \n\n        light_coverage  finish_preference  coverage_preference  \\\n119263               1       matte_finish       light_coverage   \n119264               1       matte_finish       light_coverage   \n119265               1       matte_finish       light_coverage   \n119266               1       matte_finish       light_coverage   \n119267               1       matte_finish       light_coverage   \n\n        skin_type_match  label  \n119263                1     87  \n119264                1     87  \n119265                1     87  \n119266                1     87  \n119267                1     87  \n\n[5 rows x 40 columns]",
      "text/html": "<div>\n<style scoped>\n    .dataframe tbody tr th:only-of-type {\n        vertical-align: middle;\n    }\n\n    .dataframe tbody tr th {\n        vertical-align: top;\n    }\n\n    .dataframe thead th {\n        text-align: right;\n    }\n</style>\n<table border=\"1\" class=\"dataframe\">\n  <thead>\n    <tr style=\"text-align: right;\">\n      <th></th>\n      <th>reviewer_id</th>\n      <th>rating</th>\n      <th>recommended</th>\n      <th>review_subject</th>\n      <th>review_content</th>\n      <th>reviewer_feature</th>\n      <th>purchased_shade</th>\n      <th>date_of_review</th>\n      <th>eye_color</th>\n      <th>hair_color</th>\n      <th>...</th>\n      <th>matte_finish</th>\n      <th>radiant_finish</th>\n      <th>medium_coverage</th>\n      <th>full_coverage</th>\n      <th>sheer_coverage</th>\n      <th>light_coverage</th>\n      <th>finish_preference</th>\n      <th>coverage_preference</th>\n      <th>skin_type_match</th>\n      <th>label</th>\n    </tr>\n  </thead>\n  <tbody>\n    <tr>\n      <th>119263</th>\n      <td>Jeninthemtns</td>\n      <td>4</td>\n      <td>1</td>\n      <td>None</td>\n      <td>This is my one product I CANNOT live without. ...</td>\n      <td>, Oily skin</td>\n      <td>Medium-Tan</td>\n      <td>1504310400000</td>\n      <td>Brown</td>\n      <td>Black</td>\n      <td>...</td>\n      <td>1</td>\n      <td>0</td>\n      <td>1</td>\n      <td>0</td>\n      <td>1</td>\n      <td>1</td>\n      <td>matte_finish</td>\n      <td>light_coverage</td>\n      <td>1</td>\n      <td>87</td>\n    </tr>\n    <tr>\n      <th>119264</th>\n      <td>rosered2384</td>\n      <td>5</td>\n      <td>1</td>\n      <td>Love this!</td>\n      <td>This is my FAV product. It lasts all day, prot...</td>\n      <td>, Dry skin</td>\n      <td>Fair</td>\n      <td>1504224000000</td>\n      <td>Hazel</td>\n      <td>Black</td>\n      <td>...</td>\n      <td>1</td>\n      <td>0</td>\n      <td>1</td>\n      <td>0</td>\n      <td>1</td>\n      <td>1</td>\n      <td>matte_finish</td>\n      <td>light_coverage</td>\n      <td>1</td>\n      <td>87</td>\n    </tr>\n    <tr>\n      <th>119265</th>\n      <td>LargeMocha</td>\n      <td>5</td>\n      <td>1</td>\n      <td>None</td>\n      <td>This is my FAV product. It lasts all day, prot...</td>\n      <td>, Dry skin</td>\n      <td>Medium</td>\n      <td>1504224000000</td>\n      <td>Hazel</td>\n      <td>Black</td>\n      <td>...</td>\n      <td>1</td>\n      <td>0</td>\n      <td>1</td>\n      <td>0</td>\n      <td>1</td>\n      <td>1</td>\n      <td>matte_finish</td>\n      <td>light_coverage</td>\n      <td>1</td>\n      <td>87</td>\n    </tr>\n    <tr>\n      <th>119266</th>\n      <td>lanart</td>\n      <td>1</td>\n      <td>0</td>\n      <td>None</td>\n      <td>This is my FAV product. It lasts all day, prot...</td>\n      <td>, Combination skin</td>\n      <td>Light</td>\n      <td>1504051200000</td>\n      <td>Blue</td>\n      <td>Brunette</td>\n      <td>...</td>\n      <td>1</td>\n      <td>0</td>\n      <td>1</td>\n      <td>0</td>\n      <td>1</td>\n      <td>1</td>\n      <td>matte_finish</td>\n      <td>light_coverage</td>\n      <td>1</td>\n      <td>87</td>\n    </tr>\n    <tr>\n      <th>119267</th>\n      <td>acn2010</td>\n      <td>5</td>\n      <td>1</td>\n      <td>First Time at Sephora!</td>\n      <td>Purchased this for my 12 year old Granddaughte...</td>\n      <td>, Combination skin</td>\n      <td>Fair</td>\n      <td>1504051200000</td>\n      <td>Green</td>\n      <td>Brunette</td>\n      <td>...</td>\n      <td>1</td>\n      <td>0</td>\n      <td>1</td>\n      <td>0</td>\n      <td>1</td>\n      <td>1</td>\n      <td>matte_finish</td>\n      <td>light_coverage</td>\n      <td>1</td>\n      <td>87</td>\n    </tr>\n  </tbody>\n</table>\n<p>5 rows × 40 columns</p>\n</div>"
     },
     "execution_count": 9,
     "metadata": {},
     "output_type": "execute_result"
    }
   ],
   "source": [
    "foundation_data.tail()"
   ],
   "metadata": {
    "collapsed": false,
    "pycharm": {
     "name": "#%%\n"
    }
   }
  },
  {
   "cell_type": "markdown",
   "source": [
    "### Preparing for Train-test split"
   ],
   "metadata": {
    "collapsed": false
   }
  },
  {
   "cell_type": "code",
   "execution_count": 10,
   "outputs": [
    {
     "data": {
      "text/plain": "Index(['reviewer_id', 'rating', 'recommended', 'review_subject',\n       'review_content', 'reviewer_feature', 'purchased_shade',\n       'date_of_review', 'eye_color', 'hair_color', 'skin_tone', 'skin_type',\n       'skin_tone_bin', 'skin_tone_cat', 'days_since_launch',\n       'days_since_launch_scaled', 'month_of_purchase', 'finish', 'coverage',\n       'shade_match', 'gifted', 'brand_product', 'product_features',\n       'product_description', 'skin_type_dry', 'skin_type_oily',\n       'skin_type_combo', 'skin_type_combination', 'skin_type_normal',\n       'natural_finish', 'matte_finish', 'radiant_finish', 'medium_coverage',\n       'full_coverage', 'sheer_coverage', 'light_coverage',\n       'finish_preference', 'coverage_preference', 'skin_type_match', 'label'],\n      dtype='object')"
     },
     "execution_count": 10,
     "metadata": {},
     "output_type": "execute_result"
    }
   ],
   "source": [
    "foundation_data.columns"
   ],
   "metadata": {
    "collapsed": false,
    "pycharm": {
     "name": "#%%\n"
    }
   }
  },
  {
   "cell_type": "code",
   "execution_count": 11,
   "outputs": [],
   "source": [
    "def stratified_split(dataframe, target, val_percent = 0.3, random_seed_ = 0):\n",
    "   \"\"\"\n",
    "   split a dataframe into train and validation sets, while preserving the ratio of the labels in the target variable\n",
    "    Inputs:\n",
    "    - dataframe, the dataframe\n",
    "    - target, the target variable\n",
    "    - val_percent, the percentage of validation samples, default 0.3\n",
    "    Outputs:\n",
    "    - train_idxs, the indices of the training dataset\n",
    "    - val_idxs, the indices of the validation dataset\n",
    "   \"\"\"\n",
    "   random.seed(random_seed_)\n",
    "   classes = dataframe[target].unique().tolist()\n",
    "   train_idxs = []\n",
    "   val_idxs = []\n",
    "   for c in classes:\n",
    "      idx = dataframe[dataframe[target]==c].index.tolist()\n",
    "      np.random.shuffle(idx)\n",
    "      val_size =  int(len(idx) * val_percent)\n",
    "      val_idxs += idx[:val_size]\n",
    "      train_idxs += idx[val_size:]\n",
    "   return train_idxs, val_idxs"
   ],
   "metadata": {
    "collapsed": false,
    "pycharm": {
     "name": "#%%\n"
    }
   }
  },
  {
   "cell_type": "code",
   "execution_count": 12,
   "outputs": [],
   "source": [
    "train_idxs, val_idxs = stratified_split(dataframe=foundation_data, target='label')\n",
    "val_idxs, test_idxs = stratified_split(dataframe=foundation_data[foundation_data.index.isin(val_idxs)],\n",
    "                                       target='label', val_percent = 0.5)"
   ],
   "metadata": {
    "collapsed": false,
    "pycharm": {
     "name": "#%%\n"
    }
   }
  },
  {
   "cell_type": "code",
   "execution_count": 13,
   "outputs": [
    {
     "name": "stdout",
     "output_type": "stream",
     "text": [
      "----Number of samples in training, validation, and test sets----\n",
      "Training set: 83523 / 119268 (70.03%)\n",
      "Validation set: 17891 / 119268 (15.0%)\n",
      "Test set: 17854 / 119268 (14.97%)\n"
     ]
    }
   ],
   "source": [
    "total_length = len(foundation_data)\n",
    "print('----Number of samples in training, validation, and test sets----')\n",
    "print(f'Training set: {len(train_idxs)} / {total_length} ({round((len(train_idxs)/total_length)*100,2)}%)')\n",
    "print(f'Validation set: {len(val_idxs)} / {total_length} ({round((len(val_idxs)/total_length)*100,2)}%)')\n",
    "print(f'Test set: {len(test_idxs)} / {total_length} ({round(len(test_idxs)/total_length*100,2)}%)')"
   ],
   "metadata": {
    "collapsed": false,
    "pycharm": {
     "name": "#%%\n"
    }
   }
  },
  {
   "cell_type": "code",
   "execution_count": 14,
   "outputs": [],
   "source": [
    "def test_stratified(dataframe, target):\n",
    "    \"\"\"\n",
    "    Analyzes the ratio of different classes in a categorical variable within a dataframe\n",
    "    Inputs:\n",
    "    - dataframe\n",
    "    - categorical column to be analyzed\n",
    "    Returns: None\n",
    "    \"\"\"\n",
    "    classes = dataframe[target].unique().tolist()\n",
    "    data_length = len(dataframe)\n",
    "    for c in classes:\n",
    "        print(f'Proportion of records with {c}: {len(dataframe[dataframe[target]==c])*1./data_length:0.2} ({len(dataframe[dataframe[target]==c])} / {data_length}))')"
   ],
   "metadata": {
    "collapsed": false,
    "pycharm": {
     "name": "#%%\n"
    }
   }
  },
  {
   "cell_type": "code",
   "execution_count": 15,
   "outputs": [
    {
     "name": "stdout",
     "output_type": "stream",
     "text": [
      "------------------Stratified Sampling Report------------------\n",
      "-----------Proportions of labels in FULL DATA-----------------\n",
      "Proportion of records with 0: 0.01 (1188 / 119268))\n",
      "Proportion of records with 1: 0.0074 (888 / 119268))\n",
      "Proportion of records with 2: 0.0085 (1019 / 119268))\n",
      "Proportion of records with 3: 0.01 (1187 / 119268))\n",
      "Proportion of records with 4: 0.0081 (969 / 119268))\n",
      "Proportion of records with 5: 0.0064 (764 / 119268))\n",
      "Proportion of records with 6: 0.0019 (231 / 119268))\n",
      "Proportion of records with 7: 0.044 (5300 / 119268))\n",
      "Proportion of records with 8: 0.0049 (580 / 119268))\n",
      "Proportion of records with 9: 0.0086 (1025 / 119268))\n",
      "Proportion of records with 10: 0.02 (2344 / 119268))\n",
      "Proportion of records with 11: 0.028 (3300 / 119268))\n",
      "Proportion of records with 12: 0.022 (2638 / 119268))\n",
      "Proportion of records with 13: 0.0047 (562 / 119268))\n",
      "Proportion of records with 14: 0.04 (4796 / 119268))\n",
      "Proportion of records with 15: 0.0053 (634 / 119268))\n",
      "Proportion of records with 16: 0.013 (1547 / 119268))\n",
      "Proportion of records with 17: 0.024 (2901 / 119268))\n",
      "Proportion of records with 18: 0.028 (3332 / 119268))\n",
      "Proportion of records with 19: 0.012 (1467 / 119268))\n",
      "Proportion of records with 20: 0.0079 (946 / 119268))\n",
      "Proportion of records with 21: 0.0066 (786 / 119268))\n",
      "Proportion of records with 22: 0.014 (1714 / 119268))\n",
      "Proportion of records with 23: 0.0048 (573 / 119268))\n",
      "Proportion of records with 24: 0.0029 (349 / 119268))\n",
      "Proportion of records with 25: 0.005 (592 / 119268))\n",
      "Proportion of records with 26: 0.018 (2102 / 119268))\n",
      "Proportion of records with 27: 0.006 (721 / 119268))\n",
      "Proportion of records with 28: 0.023 (2761 / 119268))\n",
      "Proportion of records with 29: 0.016 (1868 / 119268))\n",
      "Proportion of records with 30: 0.016 (1897 / 119268))\n",
      "Proportion of records with 31: 0.016 (1917 / 119268))\n",
      "Proportion of records with 32: 0.019 (2320 / 119268))\n",
      "Proportion of records with 33: 0.0049 (580 / 119268))\n",
      "Proportion of records with 34: 0.0027 (324 / 119268))\n",
      "Proportion of records with 35: 0.0079 (947 / 119268))\n",
      "Proportion of records with 36: 0.015 (1765 / 119268))\n",
      "Proportion of records with 37: 0.035 (4207 / 119268))\n",
      "Proportion of records with 38: 0.01 (1226 / 119268))\n",
      "Proportion of records with 39: 0.0076 (907 / 119268))\n",
      "Proportion of records with 40: 0.013 (1517 / 119268))\n",
      "Proportion of records with 41: 0.015 (1835 / 119268))\n",
      "Proportion of records with 42: 0.011 (1344 / 119268))\n",
      "Proportion of records with 43: 0.0085 (1016 / 119268))\n",
      "Proportion of records with 44: 0.0037 (438 / 119268))\n",
      "Proportion of records with 45: 0.0075 (893 / 119268))\n",
      "Proportion of records with 46: 0.014 (1678 / 119268))\n",
      "Proportion of records with 47: 0.0023 (270 / 119268))\n",
      "Proportion of records with 48: 0.0034 (403 / 119268))\n",
      "Proportion of records with 49: 0.0057 (681 / 119268))\n",
      "Proportion of records with 50: 0.004 (477 / 119268))\n",
      "Proportion of records with 51: 0.01 (1222 / 119268))\n",
      "Proportion of records with 52: 0.0094 (1126 / 119268))\n",
      "Proportion of records with 53: 0.01 (1203 / 119268))\n",
      "Proportion of records with 54: 0.0074 (884 / 119268))\n",
      "Proportion of records with 55: 0.0033 (399 / 119268))\n",
      "Proportion of records with 56: 0.0048 (572 / 119268))\n",
      "Proportion of records with 57: 0.0033 (397 / 119268))\n",
      "Proportion of records with 58: 0.019 (2300 / 119268))\n",
      "Proportion of records with 59: 0.018 (2167 / 119268))\n",
      "Proportion of records with 60: 0.0031 (370 / 119268))\n",
      "Proportion of records with 61: 0.0028 (333 / 119268))\n",
      "Proportion of records with 62: 0.0022 (260 / 119268))\n",
      "Proportion of records with 63: 0.0072 (858 / 119268))\n",
      "Proportion of records with 64: 0.0071 (846 / 119268))\n",
      "Proportion of records with 65: 0.03 (3548 / 119268))\n",
      "Proportion of records with 66: 0.0041 (484 / 119268))\n",
      "Proportion of records with 67: 0.0032 (387 / 119268))\n",
      "Proportion of records with 68: 0.02 (2356 / 119268))\n",
      "Proportion of records with 69: 0.019 (2262 / 119268))\n",
      "Proportion of records with 70: 0.0027 (317 / 119268))\n",
      "Proportion of records with 71: 0.0059 (703 / 119268))\n",
      "Proportion of records with 72: 0.013 (1514 / 119268))\n",
      "Proportion of records with 73: 0.009 (1068 / 119268))\n",
      "Proportion of records with 74: 0.0088 (1055 / 119268))\n",
      "Proportion of records with 75: 0.005 (597 / 119268))\n",
      "Proportion of records with 76: 0.027 (3162 / 119268))\n",
      "Proportion of records with 77: 0.01 (1249 / 119268))\n",
      "Proportion of records with 78: 0.0046 (543 / 119268))\n",
      "Proportion of records with 79: 0.012 (1375 / 119268))\n",
      "Proportion of records with 80: 0.0027 (323 / 119268))\n",
      "Proportion of records with 81: 0.0035 (420 / 119268))\n",
      "Proportion of records with 82: 0.035 (4131 / 119268))\n",
      "Proportion of records with 83: 0.0017 (202 / 119268))\n",
      "Proportion of records with 84: 0.0028 (330 / 119268))\n",
      "Proportion of records with 85: 0.0063 (748 / 119268))\n",
      "Proportion of records with 86: 0.028 (3348 / 119268))\n",
      "Proportion of records with 87: 0.004 (483 / 119268))\n"
     ]
    }
   ],
   "source": [
    "print('------------------Stratified Sampling Report------------------')\n",
    "print('-----------Proportions of labels in FULL DATA-----------------')\n",
    "test_stratified(foundation_data, 'label')"
   ],
   "metadata": {
    "collapsed": false,
    "pycharm": {
     "name": "#%%\n"
    }
   }
  },
  {
   "cell_type": "code",
   "execution_count": 16,
   "outputs": [
    {
     "name": "stdout",
     "output_type": "stream",
     "text": [
      "-----------Proportions of labels in TRAINING SET-----------------\n",
      "Proportion of records with 0: 0.01 (832 / 83523))\n",
      "Proportion of records with 1: 0.0074 (622 / 83523))\n",
      "Proportion of records with 2: 0.0085 (714 / 83523))\n",
      "Proportion of records with 3: 0.0099 (831 / 83523))\n",
      "Proportion of records with 4: 0.0081 (679 / 83523))\n",
      "Proportion of records with 5: 0.0064 (535 / 83523))\n",
      "Proportion of records with 6: 0.0019 (162 / 83523))\n",
      "Proportion of records with 7: 0.044 (3710 / 83523))\n",
      "Proportion of records with 8: 0.0049 (406 / 83523))\n",
      "Proportion of records with 9: 0.0086 (718 / 83523))\n",
      "Proportion of records with 10: 0.02 (1641 / 83523))\n",
      "Proportion of records with 11: 0.028 (2310 / 83523))\n",
      "Proportion of records with 12: 0.022 (1847 / 83523))\n",
      "Proportion of records with 13: 0.0047 (394 / 83523))\n",
      "Proportion of records with 14: 0.04 (3358 / 83523))\n",
      "Proportion of records with 15: 0.0053 (444 / 83523))\n",
      "Proportion of records with 16: 0.013 (1083 / 83523))\n",
      "Proportion of records with 17: 0.024 (2031 / 83523))\n",
      "Proportion of records with 18: 0.028 (2333 / 83523))\n",
      "Proportion of records with 19: 0.012 (1027 / 83523))\n",
      "Proportion of records with 20: 0.0079 (663 / 83523))\n",
      "Proportion of records with 21: 0.0066 (551 / 83523))\n",
      "Proportion of records with 22: 0.014 (1200 / 83523))\n",
      "Proportion of records with 23: 0.0048 (402 / 83523))\n",
      "Proportion of records with 24: 0.0029 (245 / 83523))\n",
      "Proportion of records with 25: 0.005 (415 / 83523))\n",
      "Proportion of records with 26: 0.018 (1472 / 83523))\n",
      "Proportion of records with 27: 0.006 (505 / 83523))\n",
      "Proportion of records with 28: 0.023 (1933 / 83523))\n",
      "Proportion of records with 29: 0.016 (1308 / 83523))\n",
      "Proportion of records with 30: 0.016 (1328 / 83523))\n",
      "Proportion of records with 31: 0.016 (1342 / 83523))\n",
      "Proportion of records with 32: 0.019 (1624 / 83523))\n",
      "Proportion of records with 33: 0.0049 (406 / 83523))\n",
      "Proportion of records with 34: 0.0027 (227 / 83523))\n",
      "Proportion of records with 35: 0.0079 (663 / 83523))\n",
      "Proportion of records with 36: 0.015 (1236 / 83523))\n",
      "Proportion of records with 37: 0.035 (2945 / 83523))\n",
      "Proportion of records with 38: 0.01 (859 / 83523))\n",
      "Proportion of records with 39: 0.0076 (635 / 83523))\n",
      "Proportion of records with 40: 0.013 (1062 / 83523))\n",
      "Proportion of records with 41: 0.015 (1285 / 83523))\n",
      "Proportion of records with 42: 0.011 (941 / 83523))\n",
      "Proportion of records with 43: 0.0085 (712 / 83523))\n",
      "Proportion of records with 44: 0.0037 (307 / 83523))\n",
      "Proportion of records with 45: 0.0075 (626 / 83523))\n",
      "Proportion of records with 46: 0.014 (1175 / 83523))\n",
      "Proportion of records with 47: 0.0023 (189 / 83523))\n",
      "Proportion of records with 48: 0.0034 (283 / 83523))\n",
      "Proportion of records with 49: 0.0057 (477 / 83523))\n",
      "Proportion of records with 50: 0.004 (334 / 83523))\n",
      "Proportion of records with 51: 0.01 (856 / 83523))\n",
      "Proportion of records with 52: 0.0094 (789 / 83523))\n",
      "Proportion of records with 53: 0.01 (843 / 83523))\n",
      "Proportion of records with 54: 0.0074 (619 / 83523))\n",
      "Proportion of records with 55: 0.0034 (280 / 83523))\n",
      "Proportion of records with 56: 0.0048 (401 / 83523))\n",
      "Proportion of records with 57: 0.0033 (278 / 83523))\n",
      "Proportion of records with 58: 0.019 (1610 / 83523))\n",
      "Proportion of records with 59: 0.018 (1517 / 83523))\n",
      "Proportion of records with 60: 0.0031 (259 / 83523))\n",
      "Proportion of records with 61: 0.0028 (234 / 83523))\n",
      "Proportion of records with 62: 0.0022 (182 / 83523))\n",
      "Proportion of records with 63: 0.0072 (601 / 83523))\n",
      "Proportion of records with 64: 0.0071 (593 / 83523))\n",
      "Proportion of records with 65: 0.03 (2484 / 83523))\n",
      "Proportion of records with 66: 0.0041 (339 / 83523))\n",
      "Proportion of records with 67: 0.0032 (271 / 83523))\n",
      "Proportion of records with 68: 0.02 (1650 / 83523))\n",
      "Proportion of records with 69: 0.019 (1584 / 83523))\n",
      "Proportion of records with 70: 0.0027 (222 / 83523))\n",
      "Proportion of records with 71: 0.0059 (493 / 83523))\n",
      "Proportion of records with 72: 0.013 (1060 / 83523))\n",
      "Proportion of records with 73: 0.009 (748 / 83523))\n",
      "Proportion of records with 74: 0.0088 (739 / 83523))\n",
      "Proportion of records with 75: 0.005 (418 / 83523))\n",
      "Proportion of records with 76: 0.027 (2214 / 83523))\n",
      "Proportion of records with 77: 0.01 (875 / 83523))\n",
      "Proportion of records with 78: 0.0046 (381 / 83523))\n",
      "Proportion of records with 79: 0.012 (963 / 83523))\n",
      "Proportion of records with 80: 0.0027 (227 / 83523))\n",
      "Proportion of records with 81: 0.0035 (294 / 83523))\n",
      "Proportion of records with 82: 0.035 (2892 / 83523))\n",
      "Proportion of records with 83: 0.0017 (142 / 83523))\n",
      "Proportion of records with 84: 0.0028 (231 / 83523))\n",
      "Proportion of records with 85: 0.0063 (524 / 83523))\n",
      "Proportion of records with 86: 0.028 (2344 / 83523))\n",
      "Proportion of records with 87: 0.0041 (339 / 83523))\n"
     ]
    }
   ],
   "source": [
    "print('-----------Proportions of labels in TRAINING SET-----------------')\n",
    "test_stratified(foundation_data[foundation_data.index.isin(train_idxs)], 'label')"
   ],
   "metadata": {
    "collapsed": false,
    "pycharm": {
     "name": "#%%\n"
    }
   }
  },
  {
   "cell_type": "code",
   "execution_count": 17,
   "outputs": [
    {
     "name": "stdout",
     "output_type": "stream",
     "text": [
      "-----------Proportions of labels in VALIDATION SET-----------------\n",
      "Proportion of records with 0: 0.0099 (178 / 17891))\n",
      "Proportion of records with 1: 0.0074 (133 / 17891))\n",
      "Proportion of records with 2: 0.0086 (153 / 17891))\n",
      "Proportion of records with 3: 0.0099 (178 / 17891))\n",
      "Proportion of records with 4: 0.0081 (145 / 17891))\n",
      "Proportion of records with 5: 0.0064 (115 / 17891))\n",
      "Proportion of records with 6: 0.002 (35 / 17891))\n",
      "Proportion of records with 7: 0.044 (795 / 17891))\n",
      "Proportion of records with 8: 0.0049 (87 / 17891))\n",
      "Proportion of records with 9: 0.0086 (154 / 17891))\n",
      "Proportion of records with 10: 0.02 (352 / 17891))\n",
      "Proportion of records with 11: 0.028 (495 / 17891))\n",
      "Proportion of records with 12: 0.022 (396 / 17891))\n",
      "Proportion of records with 13: 0.0047 (84 / 17891))\n",
      "Proportion of records with 14: 0.04 (719 / 17891))\n",
      "Proportion of records with 15: 0.0053 (95 / 17891))\n",
      "Proportion of records with 16: 0.013 (232 / 17891))\n",
      "Proportion of records with 17: 0.024 (435 / 17891))\n",
      "Proportion of records with 18: 0.028 (500 / 17891))\n",
      "Proportion of records with 19: 0.012 (220 / 17891))\n",
      "Proportion of records with 20: 0.0079 (142 / 17891))\n",
      "Proportion of records with 21: 0.0066 (118 / 17891))\n",
      "Proportion of records with 22: 0.014 (257 / 17891))\n",
      "Proportion of records with 23: 0.0048 (86 / 17891))\n",
      "Proportion of records with 24: 0.0029 (52 / 17891))\n",
      "Proportion of records with 25: 0.005 (89 / 17891))\n",
      "Proportion of records with 26: 0.018 (315 / 17891))\n",
      "Proportion of records with 27: 0.006 (108 / 17891))\n",
      "Proportion of records with 28: 0.023 (414 / 17891))\n",
      "Proportion of records with 29: 0.016 (280 / 17891))\n",
      "Proportion of records with 30: 0.016 (285 / 17891))\n",
      "Proportion of records with 31: 0.016 (288 / 17891))\n",
      "Proportion of records with 32: 0.019 (348 / 17891))\n",
      "Proportion of records with 33: 0.0049 (87 / 17891))\n",
      "Proportion of records with 34: 0.0027 (49 / 17891))\n",
      "Proportion of records with 35: 0.0079 (142 / 17891))\n",
      "Proportion of records with 36: 0.015 (265 / 17891))\n",
      "Proportion of records with 37: 0.035 (631 / 17891))\n",
      "Proportion of records with 38: 0.01 (184 / 17891))\n",
      "Proportion of records with 39: 0.0076 (136 / 17891))\n",
      "Proportion of records with 40: 0.013 (228 / 17891))\n",
      "Proportion of records with 41: 0.015 (275 / 17891))\n",
      "Proportion of records with 42: 0.011 (202 / 17891))\n",
      "Proportion of records with 43: 0.0085 (152 / 17891))\n",
      "Proportion of records with 44: 0.0037 (66 / 17891))\n",
      "Proportion of records with 45: 0.0075 (134 / 17891))\n",
      "Proportion of records with 46: 0.014 (252 / 17891))\n",
      "Proportion of records with 47: 0.0023 (41 / 17891))\n",
      "Proportion of records with 48: 0.0034 (60 / 17891))\n",
      "Proportion of records with 49: 0.0057 (102 / 17891))\n",
      "Proportion of records with 50: 0.004 (72 / 17891))\n",
      "Proportion of records with 51: 0.01 (183 / 17891))\n",
      "Proportion of records with 52: 0.0094 (169 / 17891))\n",
      "Proportion of records with 53: 0.01 (180 / 17891))\n",
      "Proportion of records with 54: 0.0074 (133 / 17891))\n",
      "Proportion of records with 55: 0.0034 (60 / 17891))\n",
      "Proportion of records with 56: 0.0048 (86 / 17891))\n",
      "Proportion of records with 57: 0.0034 (60 / 17891))\n",
      "Proportion of records with 58: 0.019 (345 / 17891))\n",
      "Proportion of records with 59: 0.018 (325 / 17891))\n",
      "Proportion of records with 60: 0.0031 (56 / 17891))\n",
      "Proportion of records with 61: 0.0028 (50 / 17891))\n",
      "Proportion of records with 62: 0.0022 (39 / 17891))\n",
      "Proportion of records with 63: 0.0072 (129 / 17891))\n",
      "Proportion of records with 64: 0.0071 (127 / 17891))\n",
      "Proportion of records with 65: 0.03 (532 / 17891))\n",
      "Proportion of records with 66: 0.0041 (73 / 17891))\n",
      "Proportion of records with 67: 0.0032 (58 / 17891))\n",
      "Proportion of records with 68: 0.02 (353 / 17891))\n",
      "Proportion of records with 69: 0.019 (339 / 17891))\n",
      "Proportion of records with 70: 0.0027 (48 / 17891))\n",
      "Proportion of records with 71: 0.0059 (105 / 17891))\n",
      "Proportion of records with 72: 0.013 (227 / 17891))\n",
      "Proportion of records with 73: 0.0089 (160 / 17891))\n",
      "Proportion of records with 74: 0.0088 (158 / 17891))\n",
      "Proportion of records with 75: 0.005 (90 / 17891))\n",
      "Proportion of records with 76: 0.026 (474 / 17891))\n",
      "Proportion of records with 77: 0.01 (187 / 17891))\n",
      "Proportion of records with 78: 0.0045 (81 / 17891))\n",
      "Proportion of records with 79: 0.012 (206 / 17891))\n",
      "Proportion of records with 80: 0.0027 (48 / 17891))\n",
      "Proportion of records with 81: 0.0035 (63 / 17891))\n",
      "Proportion of records with 82: 0.035 (620 / 17891))\n",
      "Proportion of records with 83: 0.0017 (30 / 17891))\n",
      "Proportion of records with 84: 0.0028 (50 / 17891))\n",
      "Proportion of records with 85: 0.0063 (112 / 17891))\n",
      "Proportion of records with 86: 0.028 (502 / 17891))\n",
      "Proportion of records with 87: 0.004 (72 / 17891))\n"
     ]
    }
   ],
   "source": [
    "print('-----------Proportions of labels in VALIDATION SET-----------------')\n",
    "test_stratified(foundation_data[foundation_data.index.isin(val_idxs)], 'label')"
   ],
   "metadata": {
    "collapsed": false,
    "pycharm": {
     "name": "#%%\n"
    }
   }
  },
  {
   "cell_type": "code",
   "execution_count": 18,
   "outputs": [
    {
     "name": "stdout",
     "output_type": "stream",
     "text": [
      "-----------Proportions of labels in TEST SET-----------------\n",
      "Proportion of records with 0: 0.01 (178 / 17854))\n",
      "Proportion of records with 1: 0.0074 (133 / 17854))\n",
      "Proportion of records with 2: 0.0085 (152 / 17854))\n",
      "Proportion of records with 3: 0.01 (178 / 17854))\n",
      "Proportion of records with 4: 0.0081 (145 / 17854))\n",
      "Proportion of records with 5: 0.0064 (114 / 17854))\n",
      "Proportion of records with 6: 0.0019 (34 / 17854))\n",
      "Proportion of records with 7: 0.045 (795 / 17854))\n",
      "Proportion of records with 8: 0.0049 (87 / 17854))\n",
      "Proportion of records with 9: 0.0086 (153 / 17854))\n",
      "Proportion of records with 10: 0.02 (351 / 17854))\n",
      "Proportion of records with 11: 0.028 (495 / 17854))\n",
      "Proportion of records with 12: 0.022 (395 / 17854))\n",
      "Proportion of records with 13: 0.0047 (84 / 17854))\n",
      "Proportion of records with 14: 0.04 (719 / 17854))\n",
      "Proportion of records with 15: 0.0053 (95 / 17854))\n",
      "Proportion of records with 16: 0.013 (232 / 17854))\n",
      "Proportion of records with 17: 0.024 (435 / 17854))\n",
      "Proportion of records with 18: 0.028 (499 / 17854))\n",
      "Proportion of records with 19: 0.012 (220 / 17854))\n",
      "Proportion of records with 20: 0.0079 (141 / 17854))\n",
      "Proportion of records with 21: 0.0066 (117 / 17854))\n",
      "Proportion of records with 22: 0.014 (257 / 17854))\n",
      "Proportion of records with 23: 0.0048 (85 / 17854))\n",
      "Proportion of records with 24: 0.0029 (52 / 17854))\n",
      "Proportion of records with 25: 0.0049 (88 / 17854))\n",
      "Proportion of records with 26: 0.018 (315 / 17854))\n",
      "Proportion of records with 27: 0.006 (108 / 17854))\n",
      "Proportion of records with 28: 0.023 (414 / 17854))\n",
      "Proportion of records with 29: 0.016 (280 / 17854))\n",
      "Proportion of records with 30: 0.016 (284 / 17854))\n",
      "Proportion of records with 31: 0.016 (287 / 17854))\n",
      "Proportion of records with 32: 0.019 (348 / 17854))\n",
      "Proportion of records with 33: 0.0049 (87 / 17854))\n",
      "Proportion of records with 34: 0.0027 (48 / 17854))\n",
      "Proportion of records with 35: 0.008 (142 / 17854))\n",
      "Proportion of records with 36: 0.015 (264 / 17854))\n",
      "Proportion of records with 37: 0.035 (631 / 17854))\n",
      "Proportion of records with 38: 0.01 (183 / 17854))\n",
      "Proportion of records with 39: 0.0076 (136 / 17854))\n",
      "Proportion of records with 40: 0.013 (227 / 17854))\n",
      "Proportion of records with 41: 0.015 (275 / 17854))\n",
      "Proportion of records with 42: 0.011 (201 / 17854))\n",
      "Proportion of records with 43: 0.0085 (152 / 17854))\n",
      "Proportion of records with 44: 0.0036 (65 / 17854))\n",
      "Proportion of records with 45: 0.0074 (133 / 17854))\n",
      "Proportion of records with 46: 0.014 (251 / 17854))\n",
      "Proportion of records with 47: 0.0022 (40 / 17854))\n",
      "Proportion of records with 48: 0.0034 (60 / 17854))\n",
      "Proportion of records with 49: 0.0057 (102 / 17854))\n",
      "Proportion of records with 50: 0.004 (71 / 17854))\n",
      "Proportion of records with 51: 0.01 (183 / 17854))\n",
      "Proportion of records with 52: 0.0094 (168 / 17854))\n",
      "Proportion of records with 53: 0.01 (180 / 17854))\n",
      "Proportion of records with 54: 0.0074 (132 / 17854))\n",
      "Proportion of records with 55: 0.0033 (59 / 17854))\n",
      "Proportion of records with 56: 0.0048 (85 / 17854))\n",
      "Proportion of records with 57: 0.0033 (59 / 17854))\n",
      "Proportion of records with 58: 0.019 (345 / 17854))\n",
      "Proportion of records with 59: 0.018 (325 / 17854))\n",
      "Proportion of records with 60: 0.0031 (55 / 17854))\n",
      "Proportion of records with 61: 0.0027 (49 / 17854))\n",
      "Proportion of records with 62: 0.0022 (39 / 17854))\n",
      "Proportion of records with 63: 0.0072 (128 / 17854))\n",
      "Proportion of records with 64: 0.0071 (126 / 17854))\n",
      "Proportion of records with 65: 0.03 (532 / 17854))\n",
      "Proportion of records with 66: 0.004 (72 / 17854))\n",
      "Proportion of records with 67: 0.0032 (58 / 17854))\n",
      "Proportion of records with 68: 0.02 (353 / 17854))\n",
      "Proportion of records with 69: 0.019 (339 / 17854))\n",
      "Proportion of records with 70: 0.0026 (47 / 17854))\n",
      "Proportion of records with 71: 0.0059 (105 / 17854))\n",
      "Proportion of records with 72: 0.013 (227 / 17854))\n",
      "Proportion of records with 73: 0.009 (160 / 17854))\n",
      "Proportion of records with 74: 0.0088 (158 / 17854))\n",
      "Proportion of records with 75: 0.005 (89 / 17854))\n",
      "Proportion of records with 76: 0.027 (474 / 17854))\n",
      "Proportion of records with 77: 0.01 (187 / 17854))\n",
      "Proportion of records with 78: 0.0045 (81 / 17854))\n",
      "Proportion of records with 79: 0.012 (206 / 17854))\n",
      "Proportion of records with 80: 0.0027 (48 / 17854))\n",
      "Proportion of records with 81: 0.0035 (63 / 17854))\n",
      "Proportion of records with 82: 0.035 (619 / 17854))\n",
      "Proportion of records with 83: 0.0017 (30 / 17854))\n",
      "Proportion of records with 84: 0.0027 (49 / 17854))\n",
      "Proportion of records with 85: 0.0063 (112 / 17854))\n",
      "Proportion of records with 86: 0.028 (502 / 17854))\n",
      "Proportion of records with 87: 0.004 (72 / 17854))\n"
     ]
    }
   ],
   "source": [
    "print('-----------Proportions of labels in TEST SET-----------------')\n",
    "test_stratified(foundation_data[foundation_data.index.isin(test_idxs)], 'label')"
   ],
   "metadata": {
    "collapsed": false,
    "pycharm": {
     "name": "#%%\n"
    }
   }
  },
  {
   "cell_type": "markdown",
   "source": [
    "### Split the dataframe into training, validation, and test sets"
   ],
   "metadata": {
    "collapsed": false
   }
  },
  {
   "cell_type": "code",
   "execution_count": 19,
   "outputs": [],
   "source": [
    "features = ['date_of_review', 'eye_color', 'hair_color', 'skin_tone', 'skin_type',\n",
    "       'skin_tone_bin', 'skin_tone_cat', 'days_since_launch',\n",
    "       'days_since_launch_scaled', 'month_of_purchase', 'finish', 'coverage',\n",
    "       'shade_match', 'gifted', 'finish_preference', 'coverage_preference', 'skin_type_match']\n",
    "\n",
    "train_data = foundation_data[foundation_data.index.isin(train_idxs)]\n",
    "X_train = train_data[features]\n",
    "y_train = train_data[['label']]\n",
    "\n",
    "val_data = foundation_data[foundation_data.index.isin(val_idxs)]\n",
    "X_val = val_data[features]\n",
    "y_val = val_data[['label']]\n",
    "\n",
    "test_data = foundation_data[foundation_data.index.isin(test_idxs)]\n",
    "X_test = test_data[features]\n",
    "y_test = test_data[['label']]"
   ],
   "metadata": {
    "collapsed": false,
    "pycharm": {
     "name": "#%%\n"
    }
   }
  },
  {
   "cell_type": "markdown",
   "source": [
    "### One-hot Encoding"
   ],
   "metadata": {
    "collapsed": false
   }
  },
  {
   "cell_type": "code",
   "execution_count": 44,
   "outputs": [],
   "source": [
    "def one_hot_encoding(data, train_X, val_X, test_X, col: str):\n",
    "    \"\"\"\n",
    "    one-hot encode a feature given col,\n",
    "    rename the columns after one-hot encoding given the categories in col,\n",
    "    and return training and validation sets as pd.DataFrame\n",
    "    \"\"\"\n",
    "    cols_cat = data.groupby([col], as_index=False).count()[col]\n",
    "    if re.match(\"^.*_color$\", col):\n",
    "        color = re.split(\"_color\", col)[0]\n",
    "        cols_cat = cols_cat.str.cat(pd.Series([color] * len(data)), sep='_')\n",
    "    # for column names after one-hot encoding\n",
    "    if re.findall('month', col):\n",
    "        cols_cat = pd.Series(['month_' + str(i) for i in list(range(1, 13))])\n",
    "\n",
    "    enc_rest = OneHotEncoder(sparse=False, handle_unknown='ignore')\n",
    "    enc_rest = enc_rest.fit(train_X[[col]])\n",
    "    train_X_transform = enc_rest.transform(train_X[[col]])\n",
    "    # saving the encoder for prediction\n",
    "    with open(f'models/multiclass_encoder_{col}.pickle', 'wb') as f:\n",
    "        pickle.dump(enc_rest, f)\n",
    "\n",
    "    val_X_transform = enc_rest.transform(val_X[[col]])\n",
    "    test_X_transform = enc_rest.transform(test_X[[col]])\n",
    "\n",
    "    train_X_transform = pd.DataFrame(train_X_transform)\n",
    "    col_names_dict = dict()\n",
    "    for col_idx in train_X_transform.columns:\n",
    "        col_names_dict[col_idx] = cols_cat[col_idx]\n",
    "    # saving the one-hot encoded col names\n",
    "    with open(f'models/multiclass_col_names_{col}.pickle', 'wb') as f:\n",
    "        pickle.dump(col_names_dict, f)\n",
    "    train_X_transform.rename(columns=col_names_dict, inplace=True)\n",
    "\n",
    "    val_X_transform = pd.DataFrame(val_X_transform)\n",
    "    col_names_dict = dict()\n",
    "    for col_idx in val_X_transform.columns:\n",
    "        col_names_dict[col_idx] = cols_cat[col_idx]\n",
    "    val_X_transform.rename(columns=col_names_dict, inplace=True)\n",
    "\n",
    "    test_X_transform = pd.DataFrame(test_X_transform)\n",
    "    col_names_dict = dict()\n",
    "    for col_idx in test_X_transform.columns:\n",
    "        col_names_dict[col_idx] = cols_cat[col_idx]\n",
    "    test_X_transform.rename(columns=col_names_dict, inplace=True)\n",
    "\n",
    "    return train_X_transform, val_X_transform, test_X_transform"
   ],
   "metadata": {
    "collapsed": false,
    "pycharm": {
     "name": "#%%\n"
    }
   }
  },
  {
   "cell_type": "code",
   "execution_count": 21,
   "outputs": [],
   "source": [
    "# skin tone\n",
    "skin_tone_one_hot_train, skin_tone_one_hot_val, skin_tone_one_hot_test = one_hot_encoding(\n",
    "    data = foundation_data, train_X=X_train, val_X=X_val, test_X=X_test, col='skin_tone'\n",
    ")"
   ],
   "metadata": {
    "collapsed": false,
    "pycharm": {
     "name": "#%%\n"
    }
   }
  },
  {
   "cell_type": "code",
   "execution_count": 22,
   "outputs": [],
   "source": [
    "# skin type\n",
    "skin_type_one_hot_train, skin_type_one_hot_val, skin_type_one_hot_test = one_hot_encoding(\n",
    "    data = foundation_data, train_X=X_train, val_X=X_val, test_X=X_test, col='skin_type'\n",
    ")"
   ],
   "metadata": {
    "collapsed": false,
    "pycharm": {
     "name": "#%%\n"
    }
   }
  },
  {
   "cell_type": "code",
   "execution_count": 23,
   "outputs": [],
   "source": [
    "# hair color\n",
    "hair_one_hot_train, hair_one_hot_val, hair_one_hot_test = one_hot_encoding(\n",
    "    data = foundation_data, train_X=X_train, val_X=X_val, test_X=X_test, col='hair_color'\n",
    ")"
   ],
   "metadata": {
    "collapsed": false,
    "pycharm": {
     "name": "#%%\n"
    }
   }
  },
  {
   "cell_type": "code",
   "execution_count": 24,
   "outputs": [],
   "source": [
    "# eye color\n",
    "eye_one_hot_train, eye_one_hot_val, eye_one_hot_test = one_hot_encoding(\n",
    "    data = foundation_data, train_X=X_train, val_X=X_val, test_X=X_test, col='eye_color'\n",
    ")"
   ],
   "metadata": {
    "collapsed": false,
    "pycharm": {
     "name": "#%%\n"
    }
   }
  },
  {
   "cell_type": "code",
   "execution_count": 34,
   "outputs": [],
   "source": [
    "# preference about foundation features\n",
    "# coverage\n",
    "foundation_data['coverage_preference'].fillna('no_coverage_preference', inplace=True)\n",
    "coverage_pref_one_hot_train, coverage_pref_one_hot_val, coverage_pref_one_hot_test = one_hot_encoding(\n",
    "    data = foundation_data, train_X=X_train, val_X=X_val, test_X=X_test, col='coverage_preference'\n",
    ")"
   ],
   "metadata": {
    "collapsed": false,
    "pycharm": {
     "name": "#%%\n"
    }
   }
  },
  {
   "cell_type": "code",
   "execution_count": 35,
   "outputs": [],
   "source": [
    "# finish\n",
    "foundation_data['finish_preference'].fillna('no_finish_preference', inplace=True)\n",
    "finish_pref_one_hot_train, finish_pref_one_hot_val, finish_pref_one_hot_test = one_hot_encoding(\n",
    "    data = foundation_data, train_X=X_train, val_X=X_val, test_X=X_test, col='finish_preference'\n",
    ")"
   ],
   "metadata": {
    "collapsed": false,
    "pycharm": {
     "name": "#%%\n"
    }
   }
  },
  {
   "cell_type": "code",
   "execution_count": 45,
   "outputs": [],
   "source": [
    "# month of purchase\n",
    "foundation_data['month_of_purchase'].fillna(value=round(foundation_data['month_of_purchase'].mean(),0), inplace=True)\n",
    "month_one_hot_train, month_one_hot_val, month_one_hot_test = one_hot_encoding(\n",
    "    data = foundation_data, train_X=X_train, val_X=X_val, test_X=X_test, col='month_of_purchase'\n",
    ")"
   ],
   "metadata": {
    "collapsed": false,
    "pycharm": {
     "name": "#%%\n"
    }
   }
  },
  {
   "cell_type": "code",
   "execution_count": 36,
   "outputs": [],
   "source": [
    "# crossing one-hot encoded features\n",
    "def cross_one_hot_features(\n",
    "        one_hot_col1: pd.DataFrame,\n",
    "        one_hot_col2: pd.DataFrame\n",
    "):\n",
    "    \"\"\"\n",
    "    given one-hot encoded feature 1 (one_hot_col1) and one-hot encoded feature 2 (one_hot_col1),\n",
    "    returns a dataframe with crossed feature b/w one_hot_col1 and one_hot_col2\n",
    "    columns of the returned dataframe are named by each of the crossed categories in col1 and col2 as \"col1_col2\"\n",
    "    \"\"\"\n",
    "    total_col1_cat = one_hot_col1.columns.to_list()\n",
    "    total_col2_cat = one_hot_col2.columns.to_list()\n",
    "    # total_col1_cat = data.groupby([col1], as_index=False).count()[col1]\n",
    "    # total_col2_cat = data.groupby([col2], as_index=False).count()[col2]\n",
    "\n",
    "    data_cross = pd.DataFrame()\n",
    "\n",
    "    i = 0  # col1\n",
    "\n",
    "    while i <= len(total_col1_cat) - 1:\n",
    "        j = 0  # col2\n",
    "        while j <= len(total_col2_cat) - 1:\n",
    "            col1_cat = total_col1_cat[i]\n",
    "            col2_cat = total_col2_cat[j]\n",
    "            new_cross = one_hot_col1[col1_cat] * one_hot_col2[col2_cat]\n",
    "            new_cross = pd.Series(new_cross)\n",
    "            data_cross[f'{col1_cat}_{col2_cat}'] = new_cross\n",
    "            j += 1\n",
    "        i += 1\n",
    "\n",
    "    return data_cross.dropna(axis=0)"
   ],
   "metadata": {
    "collapsed": false,
    "pycharm": {
     "name": "#%%\n"
    }
   }
  },
  {
   "cell_type": "code",
   "execution_count": 37,
   "outputs": [],
   "source": [
    "type_tone_cross_train = cross_one_hot_features(skin_tone_one_hot_train, skin_type_one_hot_train)\n",
    "type_tone_cross_val = cross_one_hot_features(skin_tone_one_hot_val, skin_type_one_hot_val)\n",
    "type_tone_cross_test = cross_one_hot_features(skin_tone_one_hot_test, skin_type_one_hot_test)"
   ],
   "metadata": {
    "collapsed": false,
    "pycharm": {
     "name": "#%%\n"
    }
   }
  },
  {
   "cell_type": "code",
   "execution_count": 50,
   "outputs": [],
   "source": [
    "other_features = [\n",
    "    'skin_tone_cat', 'finish', 'coverage', 'shade_match',\n",
    "    'gifted', 'days_since_launch_scaled', 'skin_type_match'\n",
    "]"
   ],
   "metadata": {
    "collapsed": false,
    "pycharm": {
     "name": "#%%\n"
    }
   }
  },
  {
   "cell_type": "code",
   "execution_count": 51,
   "outputs": [],
   "source": [
    "train_X_transformed = pd.concat([\n",
    "    skin_tone_one_hot_train,\n",
    "    skin_type_one_hot_train,\n",
    "    type_tone_cross_train,\n",
    "    hair_one_hot_train,\n",
    "    eye_one_hot_train,\n",
    "    finish_pref_one_hot_train,\n",
    "    coverage_pref_one_hot_train,\n",
    "    month_one_hot_train\n",
    "], axis=1)\n",
    "\n",
    "val_X_transformed = pd.concat([\n",
    "    skin_tone_one_hot_val,\n",
    "    skin_type_one_hot_val,\n",
    "    type_tone_cross_val,\n",
    "    hair_one_hot_val,\n",
    "    eye_one_hot_val,\n",
    "    finish_pref_one_hot_val,\n",
    "    coverage_pref_one_hot_val,\n",
    "    month_one_hot_val\n",
    "], axis=1)\n",
    "\n",
    "test_X_transformed = pd.concat([\n",
    "    skin_tone_one_hot_test,\n",
    "    skin_type_one_hot_test,\n",
    "    type_tone_cross_test,\n",
    "    hair_one_hot_test,\n",
    "    eye_one_hot_test,\n",
    "    finish_pref_one_hot_test,\n",
    "    coverage_pref_one_hot_test,\n",
    "    month_one_hot_test\n",
    "], axis=1)"
   ],
   "metadata": {
    "collapsed": false,
    "pycharm": {
     "name": "#%%\n"
    }
   }
  },
  {
   "cell_type": "code",
   "execution_count": 52,
   "outputs": [],
   "source": [
    "for i in other_features:\n",
    "    train_X_transformed[i] = X_train[i].reset_index(drop=True)\n",
    "    val_X_transformed[i] = X_val[i].reset_index(drop=True)\n",
    "    test_X_transformed[i] = X_test[i].reset_index(drop=True)"
   ],
   "metadata": {
    "collapsed": false,
    "pycharm": {
     "name": "#%%\n"
    }
   }
  },
  {
   "cell_type": "code",
   "execution_count": 55,
   "outputs": [
    {
     "data": {
      "text/plain": "['Dark',\n 'Deep',\n 'Ebony',\n 'Fair',\n 'Light',\n 'Medium',\n 'Olive',\n 'Porcelain',\n 'Tan',\n 'Combination',\n 'Dry',\n 'Normal',\n 'Oily',\n 'Dark_Combination',\n 'Dark_Dry',\n 'Dark_Normal',\n 'Dark_Oily',\n 'Deep_Combination',\n 'Deep_Dry',\n 'Deep_Normal',\n 'Deep_Oily',\n 'Ebony_Combination',\n 'Ebony_Dry',\n 'Ebony_Normal',\n 'Ebony_Oily',\n 'Fair_Combination',\n 'Fair_Dry',\n 'Fair_Normal',\n 'Fair_Oily',\n 'Light_Combination',\n 'Light_Dry',\n 'Light_Normal',\n 'Light_Oily',\n 'Medium_Combination',\n 'Medium_Dry',\n 'Medium_Normal',\n 'Medium_Oily',\n 'Olive_Combination',\n 'Olive_Dry',\n 'Olive_Normal',\n 'Olive_Oily',\n 'Porcelain_Combination',\n 'Porcelain_Dry',\n 'Porcelain_Normal',\n 'Porcelain_Oily',\n 'Tan_Combination',\n 'Tan_Dry',\n 'Tan_Normal',\n 'Tan_Oily',\n 'Auburn_hair',\n 'Black_hair',\n 'Blonde_hair',\n 'Brunette_hair',\n 'Gray_hair',\n 'Red_hair',\n 'Blue_eye',\n 'Brown_eye',\n 'Gray_eye',\n 'Green_eye',\n 'Hazel_eye',\n 'matte_finish',\n 'natural_finish',\n 'no_preference',\n 'radiant_finish',\n 'full_coverage',\n 'light_coverage',\n 'medium_coverage',\n 'no_preference',\n 'sheer_coverage',\n 'month_1',\n 'month_2',\n 'month_3',\n 'month_4',\n 'month_5',\n 'month_6',\n 'month_7',\n 'month_8',\n 'month_9',\n 'month_10',\n 'month_11',\n 'month_12',\n 'skin_tone_cat',\n 'finish',\n 'coverage',\n 'shade_match',\n 'gifted',\n 'days_since_launch_scaled',\n 'skin_type_match']"
     },
     "execution_count": 55,
     "metadata": {},
     "output_type": "execute_result"
    }
   ],
   "source": [
    "list(train_X_transformed.columns)"
   ],
   "metadata": {
    "collapsed": false,
    "pycharm": {
     "name": "#%%\n"
    }
   }
  },
  {
   "cell_type": "markdown",
   "source": [
    "### Model building"
   ],
   "metadata": {
    "collapsed": false
   }
  },
  {
   "cell_type": "code",
   "execution_count": 185,
   "outputs": [],
   "source": [
    "import xgboost as xgb\n",
    "import matplotlib.pyplot as plt\n",
    "from sklearn.metrics import accuracy_score, f1_score\n",
    "import seaborn as sns\n",
    "\n",
    "#allow logloss and classification error plots for each iteraetion of xgb model\n",
    "def plot_compare(metrics,eval_results,epochs):\n",
    "    for m in metrics:\n",
    "        test_score = eval_results[0][m]\n",
    "        train_score = eval_results[1][m]\n",
    "        rang = range(0, epochs)\n",
    "        plt.rcParams[\"figure.figsize\"] = [6,6]\n",
    "        plt.plot(rang, test_score,\"c\", label=\"Val\")\n",
    "        plt.plot(rang, train_score,\"orange\", label=\"Train\")\n",
    "        title_name = m + \" plot\"\n",
    "        plt.title(title_name)\n",
    "        plt.xlabel('Iterations')\n",
    "        plt.ylabel(m)\n",
    "        lgd = plt.legend()\n",
    "        plt.show()\n",
    "\n",
    "def fitXgb(\n",
    "        sk_model, train_X=X_train, train_y=y_train,\n",
    "        val_X=X_val, val_y=y_val\n",
    "):\n",
    "    train_X=train_X.to_numpy()\n",
    "    train_y=train_y.to_numpy()\n",
    "    print('Fitting model...')\n",
    "    sk_model.fit(train_X, train_y.reshape(train_y.shape[0],))\n",
    "    print('Fitting done!')\n",
    "    return sk_model\n",
    "\n",
    "def predictXgb(\n",
    "        sk_model,\n",
    "        train_X=X_train, train_y=y_train,\n",
    "        val_X=X_val, val_y=y_val,\n",
    "        features=list(train_X_transformed.columns), epochs=100\n",
    "):\n",
    "    params = sk_model.get_xgb_params()\n",
    "    metrics = ['mlogloss','merror']\n",
    "    params['eval_metric'] = metrics\n",
    "    store = {}\n",
    "    predict_labels = sk_model.predict_proba(val_X_transformed)\n",
    "    # xgb_model = xgb.train(params, train, epochs, evallist,evals_result=store,verbose_eval=100)\n",
    "    print('-- Model Report --')\n",
    "    print('XGBoost Accuracy: '+str(accuracy_score(sk_model.predict(val_X), val_y)))\n",
    "    print('XGBoost F1-Score (Micro): '+str(f1_score(sk_model.predict(val_X),val_y, average='weighted')))\n",
    "    # plot_compare(metrics,store,epochs)\n",
    "    # f, ax = plt.subplots(figsize=(10,5))\n",
    "    # plot = sns.barplot(x=features, y=sk_model.feature_importances_)\n",
    "    # ax.set_title('Feature Importance')\n",
    "    # plot.set_xticklabels(plot.get_xticklabels(),rotation='vertical')\n",
    "    # plt.show()\n",
    "    return predict_labels"
   ],
   "metadata": {
    "collapsed": false,
    "pycharm": {
     "name": "#%%\n"
    }
   }
  },
  {
   "cell_type": "code",
   "execution_count": 121,
   "outputs": [],
   "source": [
    "from xgboost.sklearn import XGBClassifier\n",
    "#initial model\n",
    "xgb1 = XGBClassifier(learning_rate=0.1,\n",
    "                    n_estimators=50,\n",
    "                    max_depth=5,\n",
    "                    min_child_weight=1,\n",
    "                    gamma=0,\n",
    "                    subsample=0.8,\n",
    "                    colsample_bytree=0.8,\n",
    "                    objective='multi:softmax',\n",
    "                    nthread=4,\n",
    "                    num_class=len(y_train['label'].unique()),\n",
    "                     use_label_encoder=False,\n",
    "                    seed=0)"
   ],
   "metadata": {
    "collapsed": false,
    "pycharm": {
     "name": "#%%\n"
    }
   }
  },
  {
   "cell_type": "code",
   "execution_count": 128,
   "outputs": [
    {
     "name": "stdout",
     "output_type": "stream",
     "text": [
      "Fitting model...\n",
      "[17:59:02] WARNING: /Users/runner/miniforge3/conda-bld/xgboost-split_1643226991592/work/src/learner.cc:1115: Starting in XGBoost 1.3.0, the default evaluation metric used with the objective 'multi:softprob' was changed from 'merror' to 'mlogloss'. Explicitly set eval_metric if you'd like to restore the old behavior.\n",
      "Fitting done!\n"
     ]
    }
   ],
   "source": [
    "fit_model = fitXgb(xgb1, train_X=train_X_transformed, train_y=y_train, val_X=val_X_transformed, val_y=y_val)"
   ],
   "metadata": {
    "collapsed": false,
    "pycharm": {
     "name": "#%%\n"
    }
   }
  },
  {
   "cell_type": "code",
   "execution_count": 186,
   "outputs": [
    {
     "name": "stdout",
     "output_type": "stream",
     "text": [
      "-- Model Report --\n",
      "XGBoost Accuracy: 0.6624000894304399\n",
      "XGBoost F1-Score (Micro): 0.6878593387620657\n"
     ]
    }
   ],
   "source": [
    "predict_labels = predictXgb(fit_model, train_X=train_X_transformed, train_y=y_train, val_X=val_X_transformed, val_y=y_val)"
   ],
   "metadata": {
    "collapsed": false,
    "pycharm": {
     "name": "#%%\n"
    }
   }
  },
  {
   "cell_type": "code",
   "execution_count": 136,
   "outputs": [
    {
     "data": {
      "text/plain": "['Anastasia_Beverly_Hills_Stick_Foundation',\n 'Dr._Jart+_Premium_Beauty_Balm_SPF_40',\n 'KVD_Vegan_Beauty_Lock-It_Powder_Foundation',\n 'Laura_Mercier_Flawless_Lumière_Radiance-Perfecting_Foundation',\n 'Laura_Mercier_Flawless_Fusion_Ultra-Longwear_Foundation',\n 'tarte_babassu_foundcealer™_skincare_foundation_SPF_20',\n 'bareMinerals_Matte_Loose_Powder_Mineral_Foundation_SPF_15\\xa0',\n \"FENTY_BEAUTY_by_Rihanna_Pro_Filt'r_Soft_Matte_Longwear_Foundation\",\n 'SEPHORA_COLLECTION_Make_No_Mistake_Foundation_&_Concealer_Stick',\n 'Smashbox_Studio_Skin_24_Hour_Oil-Free_Hydra_Foundation',\n 'ILIA_Super_Serum_Skin_Tint_SPF_40_Foundation',\n 'Dior_BACKSTAGE_Face_&_Body_Foundation',\n 'Laura_Mercier_Tinted_Moisturizer_Natural_Skin_Perfector_Broad_Spectrum_SPF_30',\n 'SEPHORA_COLLECTION_Perfection_Mist_Airbrush_Foundation',\n 'Too_Faced_Born_This_Way_Foundation',\n 'rms_beauty_\"Un\"_Cover-up_Concealer',\n 'Kosas_Tinted_Face_Oil_Foundation',\n 'Hourglass_Vanish™_Seamless_Finish_Foundation_Stick',\n 'Too_Faced_Peach_Perfect_Comfort_Matte_Foundation_–_Peaches_and_Cream_Collection',\n 'NARS_Soft_Matte_Complete_Foundation',\n 'HUDA_BEAUTY_#FauxFilter_Skin_Finish_Buildable_Coverage_Foundation_Stick',\n 'Dior_Dior_Airflash_Spray_Foundation',\n 'Shiseido_Synchro_Skin_Self-Refreshing_Foundation_SPF_30',\n 'bareMinerals_Original_Loose_Powder_Mineral_Foundation_SPF_15',\n 'tarte_Clay_Stick_Foundation',\n 'IT_Cosmetics_Bye_Bye_Redness_Neutralizing_Color-Correcting_Cream',\n 'Lancôme_Teint_Idole_Ultra_Long_Wear_Foundation',\n 'SEPHORA_COLLECTION_Matte_Perfection_Powder_Foundation',\n 'IT_Cosmetics_CC+_Cream_with_SPF_50+',\n 'bareMinerals_Original_Liquid_Mineral_Foundation_Broad_Spectrum_SPF_20',\n 'Charlotte_Tilbury_Airbrush_Flawless_Longwear_Foundation',\n \"FENTY_BEAUTY_by_Rihanna_Pro_Filt'r_Hydrating_Longwear_Foundation\",\n 'Smashbox_Studio_Skin_24_Hour_Full_Coverage_Waterproof_Foundation',\n 'SEPHORA_COLLECTION_Best_Skin_Ever_Liquid_Foundation',\n 'Jouer_Cosmetics_Essential_High_Coverage_Crème_Foundation',\n 'MILK_MAKEUP_Flex_Foundation_Stick',\n 'MAKE_UP_FOR_EVER_Matte_Velvet_Skin_Full_Coverage_Foundation',\n 'KVD_Vegan_Beauty_Lock-It_Foundation',\n 'MAKE_UP_FOR_EVER_Matte_Velvet_Skin_Blurring_Powder_Foundation',\n 'Marc_Jacobs_Beauty_Re(marc)able_Full_Cover_Foundation_Concentrate',\n 'SEPHORA_COLLECTION_10_Hour_Wear_Perfection_Foundation',\n 'Urban_Decay_Stay_Naked_Weightless_Foundation',\n 'Bite_Beauty_Changemaker_Supercharged_Micellar_Foundation',\n 'CLINIQUE_Beyond_Perfecting_Foundation_+_Concealer',\n 'IT_Cosmetics_Your_Skin_But_Better_Foundation_+_Skincare',\n 'Hourglass_Vanish™_Seamless_Finish_Liquid_Foundation',\n 'PAT_McGRATH_LABS_Sublime_Perfection_Foundation',\n 'Bobbi_Brown_Skin_Foundation_SPF_15',\n 'Urban_Decay_Stay_Naked_The_Fix_Powder_Foundation',\n 'MAKE_UP_FOR_EVER_Ultra_HD_Invisible_Cover_Stick_Foundation',\n 'Dior_Diorskin_Forever_Undercover_Foundation',\n 'MILK_MAKEUP_Blur_Liquid_Matte_Foundation',\n 'Urban_Decay_Hydromaniac_Glowy_Tinted_Hydrator_Foundation',\n 'Armani_Beauty_Neo_Nude_Foundation',\n \"FENTY_BEAUTY_by_Rihanna_Pro_Filt'r_Soft_Matte_Powder_Foundation\",\n 'tarte_Amazonian_Clay_BB_Tinted_Moisturizer_Broad_Spectrum_SPF_20_Sunscreen',\n 'MILK_MAKEUP_Sunshine_Skin_Tint_SPF_30',\n 'CLINIQUE_Even_Better_Foundation_Makeup_Broad_Spectrum_SPF_15',\n 'Bobbi_Brown_Skin_Long-Wear_Weightless_Foundation_SPF_15',\n 'Laura_Mercier_Tinted_Moisturizer_Broad_Spectrum_SPF_20_-_Oil_Free',\n 'Hourglass_Immaculate®_Liquid_Powder_Foundation_Mattifying_Oil_Free',\n 'La_Mer_The_Soft_Fluid_Long_Wear_Foundation_SPF_20',\n 'Hourglass_Illusion®_Hyaluronic_Skin_Tint',\n 'Too_Faced_Born_This_Way_Matte_24_Hour_Foundation',\n 'NARS_Pure_Radiant_Tinted_Moisturizer_Broad_Spectrum_SPF_30',\n 'MAKE_UP_FOR_EVER_Ultra_HD_Invisible_Cover_Foundation',\n 'Armani_Beauty_Power_Fabric_Longwear_High_Cover_Foundation_SPF_25',\n 'SEPHORA_COLLECTION_Matte_Perfection_Tinted_Moisturizer',\n 'Lancôme_SKIN_FEELS_GOOD_Skin_Nourishing_Foundation',\n 'beautyblender_Bounce™_Liquid_Whip_Long_Wear_Foundation',\n 'Charlotte_Tilbury_Light_Wonder_Foundation',\n 'ILIA_True_Skin_Serum_Foundation',\n 'bareMinerals_COMPLEXION_RESCUE™_Tinted_Moisturizer_with_Hyaluronic_Acid_and_Mineral_SPF_30',\n 'Shiseido_Synchro_Skin_Self-Refreshing_Custom_Finish_Powder_Foundation',\n 'Yves_Saint_Laurent_All_Hours_Longwear_Natural_Matte_Foundation',\n 'IT_Cosmetics_CC+_Cream_Illumination_with_SPF_50+',\n 'NARS_Natural_Radiant_Longwear_Foundation',\n 'IT_Cosmetics_CC+_Cream_Oil-Free_Matte_with_SPF_40',\n 'Yves_Saint_Laurent_Touche_Eclat_All-In-One_Glow_Foundation',\n 'NARS_Sheer_Glow_Foundation',\n 'tarte_Amazonian_Clay_Full_Coverage_Airbrush_Foundation',\n 'Estée_Lauder_Futurist_Hydra_Rescue_Moisturizing_Foundation_SPF_45',\n 'Rare_Beauty_by_Selena_Gomez_Liquid_Touch_Weightless_Foundation',\n 'CLINIQUE_Acne_Solutions_Liquid_Makeup_Foundation',\n 'NUDESTIX_Nudies_Tinted_Blur_Stick',\n 'MAKE_UP_FOR_EVER_Reboot_Active_Care_Revitalizing_Foundation',\n 'Estée_Lauder_Double_Wear_Stay-in-Place_Foundation',\n 'tarte_BB_Tinted_Treatment_12-Hour_Primer_Broad_Spectrum_SPF_30_Sunscreen']"
     },
     "execution_count": 136,
     "metadata": {},
     "output_type": "execute_result"
    }
   ],
   "source": [
    "list(labels)"
   ],
   "metadata": {
    "collapsed": false,
    "pycharm": {
     "name": "#%%\n"
    }
   }
  },
  {
   "cell_type": "code",
   "execution_count": 137,
   "outputs": [],
   "source": [
    "# for plotting AUC-ROC\n",
    "classes_combinations = []\n",
    "class_list = list(labels)\n",
    "for i in range(len(class_list)):\n",
    "    for j in range(i+1, len(class_list)):\n",
    "        classes_combinations.append([class_list[i], class_list[j]])\n",
    "        classes_combinations.append([class_list[j], class_list[i]])"
   ],
   "metadata": {
    "collapsed": false,
    "pycharm": {
     "name": "#%%\n"
    }
   }
  },
  {
   "cell_type": "code",
   "execution_count": 184,
   "outputs": [
    {
     "data": {
      "text/plain": "7656"
     },
     "execution_count": 184,
     "metadata": {},
     "output_type": "execute_result"
    }
   ],
   "source": [
    "len(classes_combinations)"
   ],
   "metadata": {
    "collapsed": false,
    "pycharm": {
     "name": "#%%\n"
    }
   }
  },
  {
   "cell_type": "code",
   "execution_count": 198,
   "outputs": [],
   "source": [
    "from sklearn.metrics import confusion_matrix, roc_auc_score\n",
    "def calculate_tpr_fpr(y_real, y_pred):\n",
    "    '''\n",
    "    Calculates the True Positive Rate (tpr) and the True Negative Rate (fpr) based on real and predicted observations\n",
    "\n",
    "    Args:\n",
    "        y_real: The list or series with the real classes\n",
    "        y_pred: The list or series with the predicted classes\n",
    "\n",
    "    Returns:\n",
    "        tpr: The True Positive Rate of the classifier\n",
    "        fpr: The False Positive Rate of the classifier\n",
    "    '''\n",
    "\n",
    "    # Calculates the confusion matrix and recover each element\n",
    "    cm = confusion_matrix(y_real, y_pred)\n",
    "    TN = cm[0, 0]\n",
    "    FP = cm[0, 1]\n",
    "    FN = cm[1, 0]\n",
    "    TP = cm[1, 1]\n",
    "\n",
    "    # Calculates tpr and fpr\n",
    "    tpr =  TP/(TP + FN) # sensitivity - true positive rate\n",
    "    fpr = 1 - TN/(TN+FP) # 1-specificity - false positive rate\n",
    "\n",
    "    return tpr, fpr\n",
    "\n",
    "def get_all_roc_coordinates(y_real, y_proba):\n",
    "    '''\n",
    "    Calculates all the ROC Curve coordinates (tpr and fpr) by considering each point as a treshold for the predicion of the class.\n",
    "\n",
    "    Args:\n",
    "        y_real: The list or series with the real classes.\n",
    "        y_proba: The array with the probabilities for each class, obtained by using the `.predict_proba()` method.\n",
    "\n",
    "    Returns:\n",
    "        tpr_list: The list of TPRs representing each threshold.\n",
    "        fpr_list: The list of FPRs representing each threshold.\n",
    "    '''\n",
    "    tpr_list = [0]\n",
    "    fpr_list = [0]\n",
    "    for i in range(len(y_proba)):\n",
    "        threshold = y_proba[i]\n",
    "        y_pred = y_proba >= threshold\n",
    "        tpr, fpr = calculate_tpr_fpr(y_real, y_pred)\n",
    "        tpr_list.append(tpr)\n",
    "        fpr_list.append(fpr)\n",
    "    return tpr_list, fpr_list\n",
    "\n",
    "def plot_roc_curve(tpr, fpr, scatter = True, ax = None):\n",
    "    '''\n",
    "    Plots the ROC Curve by using the list of coordinates (tpr and fpr).\n",
    "\n",
    "    Args:\n",
    "        tpr: The list of TPRs representing each coordinate.\n",
    "        fpr: The list of FPRs representing each coordinate.\n",
    "        scatter: When True, the points used on the calculation will be plotted with the line (default = True).\n",
    "    '''\n",
    "    if ax == None:\n",
    "        plt.figure(figsize = (5, 5))\n",
    "        ax = plt.axes()\n",
    "\n",
    "    if scatter:\n",
    "        sns.scatterplot(x = fpr, y = tpr, ax = ax)\n",
    "    sns.lineplot(x = fpr, y = tpr, ax = ax)\n",
    "    sns.lineplot(x = [0, 1], y = [0, 1], color = 'green', ax = ax)\n",
    "    plt.xlim(-0.05, 1.05)\n",
    "    plt.ylim(-0.05, 1.05)\n",
    "    # plt.xlabel(\"False Positive Rate\")\n",
    "    # plt.ylabel(\"True Positive Rate\")"
   ],
   "metadata": {
    "collapsed": false,
    "pycharm": {
     "name": "#%%\n"
    }
   }
  },
  {
   "cell_type": "code",
   "execution_count": 203,
   "outputs": [
    {
     "ename": "ValueError",
     "evalue": "num must be 1 <= num <= 88, not 0",
     "output_type": "error",
     "traceback": [
      "\u001B[0;31m---------------------------------------------------------------------------\u001B[0m",
      "\u001B[0;31mValueError\u001B[0m                                Traceback (most recent call last)",
      "Input \u001B[0;32mIn [203]\u001B[0m, in \u001B[0;36m<module>\u001B[0;34m\u001B[0m\n\u001B[1;32m     19\u001B[0m df_aux \u001B[38;5;241m=\u001B[39m df_aux\u001B[38;5;241m.\u001B[39mreset_index(drop \u001B[38;5;241m=\u001B[39m \u001B[38;5;28;01mTrue\u001B[39;00m)\n\u001B[1;32m     21\u001B[0m \u001B[38;5;66;03m# Plots the probability distribution for the class and the rest\u001B[39;00m\n\u001B[1;32m     22\u001B[0m \u001B[38;5;66;03m# ax = plt.subplot(2, 6, i+1)\u001B[39;00m\n\u001B[1;32m     23\u001B[0m \u001B[38;5;66;03m# sns.histplot(x = \"prob\", data = df_aux, hue = 'class', color = 'b', ax = ax, bins = bins)\u001B[39;00m\n\u001B[0;32m   (...)\u001B[0m\n\u001B[1;32m     27\u001B[0m \n\u001B[1;32m     28\u001B[0m \u001B[38;5;66;03m# Calculates the ROC Coordinates and plots the ROC Curves\u001B[39;00m\n\u001B[0;32m---> 29\u001B[0m ax_bottom \u001B[38;5;241m=\u001B[39m \u001B[43mplt\u001B[49m\u001B[38;5;241;43m.\u001B[39;49m\u001B[43msubplot\u001B[49m\u001B[43m(\u001B[49m\u001B[38;5;241;43m8\u001B[39;49m\u001B[43m,\u001B[49m\u001B[43m \u001B[49m\u001B[38;5;241;43m11\u001B[39;49m\u001B[43m,\u001B[49m\u001B[43m \u001B[49m\u001B[43mi\u001B[49m\u001B[43m)\u001B[49m\n\u001B[1;32m     30\u001B[0m \u001B[38;5;28;01mif\u001B[39;00m \u001B[38;5;28mlen\u001B[39m(df_aux[\u001B[38;5;124m'\u001B[39m\u001B[38;5;124mclass\u001B[39m\u001B[38;5;124m'\u001B[39m]\u001B[38;5;241m.\u001B[39munique()) \u001B[38;5;241m==\u001B[39m \u001B[38;5;241m2\u001B[39m:\n\u001B[1;32m     31\u001B[0m     tpr, fpr \u001B[38;5;241m=\u001B[39m get_all_roc_coordinates(df_aux[\u001B[38;5;124m'\u001B[39m\u001B[38;5;124mclass\u001B[39m\u001B[38;5;124m'\u001B[39m], df_aux[\u001B[38;5;124m'\u001B[39m\u001B[38;5;124mprob\u001B[39m\u001B[38;5;124m'\u001B[39m])\n",
      "File \u001B[0;32m/opt/homebrew/Caskroom/miniforge/base/envs/foundation/lib/python3.9/site-packages/matplotlib/pyplot.py:1268\u001B[0m, in \u001B[0;36msubplot\u001B[0;34m(*args, **kwargs)\u001B[0m\n\u001B[1;32m   1265\u001B[0m fig \u001B[38;5;241m=\u001B[39m gcf()\n\u001B[1;32m   1267\u001B[0m \u001B[38;5;66;03m# First, search for an existing subplot with a matching spec.\u001B[39;00m\n\u001B[0;32m-> 1268\u001B[0m key \u001B[38;5;241m=\u001B[39m \u001B[43mSubplotSpec\u001B[49m\u001B[38;5;241;43m.\u001B[39;49m\u001B[43m_from_subplot_args\u001B[49m\u001B[43m(\u001B[49m\u001B[43mfig\u001B[49m\u001B[43m,\u001B[49m\u001B[43m \u001B[49m\u001B[43margs\u001B[49m\u001B[43m)\u001B[49m\n\u001B[1;32m   1270\u001B[0m \u001B[38;5;28;01mfor\u001B[39;00m ax \u001B[38;5;129;01min\u001B[39;00m fig\u001B[38;5;241m.\u001B[39maxes:\n\u001B[1;32m   1271\u001B[0m     \u001B[38;5;66;03m# if we found an axes at the position sort out if we can re-use it\u001B[39;00m\n\u001B[1;32m   1272\u001B[0m     \u001B[38;5;28;01mif\u001B[39;00m \u001B[38;5;28mhasattr\u001B[39m(ax, \u001B[38;5;124m'\u001B[39m\u001B[38;5;124mget_subplotspec\u001B[39m\u001B[38;5;124m'\u001B[39m) \u001B[38;5;129;01mand\u001B[39;00m ax\u001B[38;5;241m.\u001B[39mget_subplotspec() \u001B[38;5;241m==\u001B[39m key:\n\u001B[1;32m   1273\u001B[0m         \u001B[38;5;66;03m# if the user passed no kwargs, re-use\u001B[39;00m\n",
      "File \u001B[0;32m/opt/homebrew/Caskroom/miniforge/base/envs/foundation/lib/python3.9/site-packages/matplotlib/gridspec.py:608\u001B[0m, in \u001B[0;36mSubplotSpec._from_subplot_args\u001B[0;34m(figure, args)\u001B[0m\n\u001B[1;32m    606\u001B[0m \u001B[38;5;28;01melse\u001B[39;00m:\n\u001B[1;32m    607\u001B[0m     \u001B[38;5;28;01mif\u001B[39;00m \u001B[38;5;129;01mnot\u001B[39;00m \u001B[38;5;28misinstance\u001B[39m(num, Integral) \u001B[38;5;129;01mor\u001B[39;00m num \u001B[38;5;241m<\u001B[39m \u001B[38;5;241m1\u001B[39m \u001B[38;5;129;01mor\u001B[39;00m num \u001B[38;5;241m>\u001B[39m rows\u001B[38;5;241m*\u001B[39mcols:\n\u001B[0;32m--> 608\u001B[0m         \u001B[38;5;28;01mraise\u001B[39;00m \u001B[38;5;167;01mValueError\u001B[39;00m(\n\u001B[1;32m    609\u001B[0m             \u001B[38;5;124mf\u001B[39m\u001B[38;5;124m\"\u001B[39m\u001B[38;5;124mnum must be 1 <= num <= \u001B[39m\u001B[38;5;132;01m{\u001B[39;00mrows\u001B[38;5;241m*\u001B[39mcols\u001B[38;5;132;01m}\u001B[39;00m\u001B[38;5;124m, not \u001B[39m\u001B[38;5;132;01m{\u001B[39;00mnum\u001B[38;5;132;01m!r}\u001B[39;00m\u001B[38;5;124m\"\u001B[39m)\n\u001B[1;32m    610\u001B[0m     i \u001B[38;5;241m=\u001B[39m j \u001B[38;5;241m=\u001B[39m num\n\u001B[1;32m    611\u001B[0m \u001B[38;5;28;01mreturn\u001B[39;00m gs[i\u001B[38;5;241m-\u001B[39m\u001B[38;5;241m1\u001B[39m:j]\n",
      "\u001B[0;31mValueError\u001B[0m: num must be 1 <= num <= 88, not 0"
     ]
    },
    {
     "data": {
      "text/plain": "<Figure size 1440x504 with 0 Axes>"
     },
     "metadata": {},
     "output_type": "display_data"
    }
   ],
   "source": [
    "plt.figure(figsize = (20, 7))\n",
    "bins = [i/20 for i in range(20)] + [1]\n",
    "roc_auc_ovo = {}\n",
    "for i in range(len(classes_combinations)):\n",
    "    # Gets the class\n",
    "    comb = classes_combinations[i]\n",
    "    c1 = class_to_idx.get(comb[0])\n",
    "    c2 = class_to_idx.get(comb[1])\n",
    "    title = comb[0] + \" vs \" + comb[1]\n",
    "\n",
    "    # Prepares an auxiliar dataframe to help with the plots\n",
    "    df_aux = val_X_transformed.copy()\n",
    "    df_aux['class'] = y_val\n",
    "    df_aux['prob'] = predict_labels[:, c1]\n",
    "\n",
    "    # Slices only the subset with both classes\n",
    "    df_aux = df_aux[(df_aux['class'] == c1) | (df_aux['class'] == c2)]\n",
    "    df_aux['class'] = [1 if y_val == c1 else 0 for y_val in df_aux['class']]\n",
    "    df_aux = df_aux.reset_index(drop = True)\n",
    "\n",
    "    # Plots the probability distribution for the class and the rest\n",
    "    # ax = plt.subplot(2, 6, i+1)\n",
    "    # sns.histplot(x = \"prob\", data = df_aux, hue = 'class', color = 'b', ax = ax, bins = bins)\n",
    "    # ax.set_title(title)\n",
    "    # ax.legend([f\"Class 1: {comb[0]}\", f\"Class 0: {comb[1]}\"])\n",
    "    # ax.set_xlabel(f\"P(x = {comb[0]})\")\n",
    "\n",
    "    # Calculates the ROC Coordinates and plots the ROC Curves\n",
    "    ax_bottom = plt.subplot(8, 11, i+1)\n",
    "    if len(df_aux['class'].unique()) == 2:\n",
    "        tpr, fpr = get_all_roc_coordinates(df_aux['class'], df_aux['prob'])\n",
    "        plot_roc_curve(tpr, fpr, scatter = False, ax = ax_bottom)\n",
    "    # ax_bottom.set_title(\"ROC Curve OvO\")\n",
    "\n",
    "    if len(df_aux['class'].unique()) == 2:\n",
    "        # Calculates the ROC AUC OvO\n",
    "        roc_auc_ovo[title] = roc_auc_score(df_aux['class'], df_aux['prob'])\n",
    "        print(f'for {comb}, ROC_AUC (OvO) = {roc_auc_ovo[title]}')"
   ],
   "metadata": {
    "collapsed": false,
    "pycharm": {
     "name": "#%%\n"
    }
   }
  },
  {
   "cell_type": "code",
   "execution_count": 206,
   "outputs": [
    {
     "data": {
      "text/plain": "0.98923733924867"
     },
     "execution_count": 206,
     "metadata": {},
     "output_type": "execute_result"
    }
   ],
   "source": [
    "roc_auc_score(y_val['label'], predict_labels, labels = list(range(88)), multi_class = 'ovr', average = 'weighted')"
   ],
   "metadata": {
    "collapsed": false,
    "pycharm": {
     "name": "#%%\n"
    }
   }
  },
  {
   "cell_type": "code",
   "execution_count": 180,
   "outputs": [
    {
     "data": {
      "text/plain": "array(['Anastasia_Beverly_Hills_Stick_Foundation',\n       'Dr._Jart+_Premium_Beauty_Balm_SPF_40',\n       'KVD_Vegan_Beauty_Lock-It_Powder_Foundation',\n       'Laura_Mercier_Flawless_Lumière_Radiance-Perfecting_Foundation',\n       'Laura_Mercier_Flawless_Fusion_Ultra-Longwear_Foundation',\n       'tarte_babassu_foundcealer™_skincare_foundation_SPF_20',\n       'bareMinerals_Matte_Loose_Powder_Mineral_Foundation_SPF_15\\xa0',\n       \"FENTY_BEAUTY_by_Rihanna_Pro_Filt'r_Soft_Matte_Longwear_Foundation\",\n       'SEPHORA_COLLECTION_Make_No_Mistake_Foundation_&_Concealer_Stick',\n       'Smashbox_Studio_Skin_24_Hour_Oil-Free_Hydra_Foundation',\n       'ILIA_Super_Serum_Skin_Tint_SPF_40_Foundation',\n       'Dior_BACKSTAGE_Face_&_Body_Foundation',\n       'Laura_Mercier_Tinted_Moisturizer_Natural_Skin_Perfector_Broad_Spectrum_SPF_30',\n       'SEPHORA_COLLECTION_Perfection_Mist_Airbrush_Foundation',\n       'Too_Faced_Born_This_Way_Foundation',\n       'rms_beauty_\"Un\"_Cover-up_Concealer',\n       'Kosas_Tinted_Face_Oil_Foundation',\n       'Hourglass_Vanish™_Seamless_Finish_Foundation_Stick',\n       'Too_Faced_Peach_Perfect_Comfort_Matte_Foundation_–_Peaches_and_Cream_Collection',\n       'NARS_Soft_Matte_Complete_Foundation',\n       'HUDA_BEAUTY_#FauxFilter_Skin_Finish_Buildable_Coverage_Foundation_Stick',\n       'Dior_Dior_Airflash_Spray_Foundation',\n       'Shiseido_Synchro_Skin_Self-Refreshing_Foundation_SPF_30',\n       'bareMinerals_Original_Loose_Powder_Mineral_Foundation_SPF_15',\n       'tarte_Clay_Stick_Foundation',\n       'IT_Cosmetics_Bye_Bye_Redness_Neutralizing_Color-Correcting_Cream',\n       'Lancôme_Teint_Idole_Ultra_Long_Wear_Foundation',\n       'SEPHORA_COLLECTION_Matte_Perfection_Powder_Foundation',\n       'IT_Cosmetics_CC+_Cream_with_SPF_50+',\n       'bareMinerals_Original_Liquid_Mineral_Foundation_Broad_Spectrum_SPF_20',\n       'Charlotte_Tilbury_Airbrush_Flawless_Longwear_Foundation',\n       \"FENTY_BEAUTY_by_Rihanna_Pro_Filt'r_Hydrating_Longwear_Foundation\",\n       'Smashbox_Studio_Skin_24_Hour_Full_Coverage_Waterproof_Foundation',\n       'SEPHORA_COLLECTION_Best_Skin_Ever_Liquid_Foundation',\n       'Jouer_Cosmetics_Essential_High_Coverage_Crème_Foundation',\n       'MILK_MAKEUP_Flex_Foundation_Stick',\n       'MAKE_UP_FOR_EVER_Matte_Velvet_Skin_Full_Coverage_Foundation',\n       'KVD_Vegan_Beauty_Lock-It_Foundation',\n       'MAKE_UP_FOR_EVER_Matte_Velvet_Skin_Blurring_Powder_Foundation',\n       'Marc_Jacobs_Beauty_Re(marc)able_Full_Cover_Foundation_Concentrate',\n       'SEPHORA_COLLECTION_10_Hour_Wear_Perfection_Foundation',\n       'Urban_Decay_Stay_Naked_Weightless_Foundation',\n       'Bite_Beauty_Changemaker_Supercharged_Micellar_Foundation',\n       'CLINIQUE_Beyond_Perfecting_Foundation_+_Concealer',\n       'IT_Cosmetics_Your_Skin_But_Better_Foundation_+_Skincare',\n       'Hourglass_Vanish™_Seamless_Finish_Liquid_Foundation',\n       'PAT_McGRATH_LABS_Sublime_Perfection_Foundation',\n       'Bobbi_Brown_Skin_Foundation_SPF_15',\n       'Urban_Decay_Stay_Naked_The_Fix_Powder_Foundation',\n       'MAKE_UP_FOR_EVER_Ultra_HD_Invisible_Cover_Stick_Foundation',\n       'Dior_Diorskin_Forever_Undercover_Foundation',\n       'MILK_MAKEUP_Blur_Liquid_Matte_Foundation',\n       'Urban_Decay_Hydromaniac_Glowy_Tinted_Hydrator_Foundation',\n       'Armani_Beauty_Neo_Nude_Foundation',\n       \"FENTY_BEAUTY_by_Rihanna_Pro_Filt'r_Soft_Matte_Powder_Foundation\",\n       'tarte_Amazonian_Clay_BB_Tinted_Moisturizer_Broad_Spectrum_SPF_20_Sunscreen',\n       'MILK_MAKEUP_Sunshine_Skin_Tint_SPF_30',\n       'CLINIQUE_Even_Better_Foundation_Makeup_Broad_Spectrum_SPF_15',\n       'Bobbi_Brown_Skin_Long-Wear_Weightless_Foundation_SPF_15',\n       'Laura_Mercier_Tinted_Moisturizer_Broad_Spectrum_SPF_20_-_Oil_Free',\n       'Hourglass_Immaculate®_Liquid_Powder_Foundation_Mattifying_Oil_Free',\n       'La_Mer_The_Soft_Fluid_Long_Wear_Foundation_SPF_20',\n       'Hourglass_Illusion®_Hyaluronic_Skin_Tint',\n       'Too_Faced_Born_This_Way_Matte_24_Hour_Foundation',\n       'NARS_Pure_Radiant_Tinted_Moisturizer_Broad_Spectrum_SPF_30',\n       'MAKE_UP_FOR_EVER_Ultra_HD_Invisible_Cover_Foundation',\n       'Armani_Beauty_Power_Fabric_Longwear_High_Cover_Foundation_SPF_25',\n       'SEPHORA_COLLECTION_Matte_Perfection_Tinted_Moisturizer',\n       'Lancôme_SKIN_FEELS_GOOD_Skin_Nourishing_Foundation',\n       'beautyblender_Bounce™_Liquid_Whip_Long_Wear_Foundation',\n       'Charlotte_Tilbury_Light_Wonder_Foundation',\n       'ILIA_True_Skin_Serum_Foundation',\n       'bareMinerals_COMPLEXION_RESCUE™_Tinted_Moisturizer_with_Hyaluronic_Acid_and_Mineral_SPF_30',\n       'Shiseido_Synchro_Skin_Self-Refreshing_Custom_Finish_Powder_Foundation',\n       'Yves_Saint_Laurent_All_Hours_Longwear_Natural_Matte_Foundation',\n       'IT_Cosmetics_CC+_Cream_Illumination_with_SPF_50+',\n       'NARS_Natural_Radiant_Longwear_Foundation',\n       'IT_Cosmetics_CC+_Cream_Oil-Free_Matte_with_SPF_40',\n       'Yves_Saint_Laurent_Touche_Eclat_All-In-One_Glow_Foundation',\n       'NARS_Sheer_Glow_Foundation',\n       'tarte_Amazonian_Clay_Full_Coverage_Airbrush_Foundation',\n       'Estée_Lauder_Futurist_Hydra_Rescue_Moisturizing_Foundation_SPF_45',\n       'Rare_Beauty_by_Selena_Gomez_Liquid_Touch_Weightless_Foundation',\n       'CLINIQUE_Acne_Solutions_Liquid_Makeup_Foundation',\n       'NUDESTIX_Nudies_Tinted_Blur_Stick',\n       'MAKE_UP_FOR_EVER_Reboot_Active_Care_Revitalizing_Foundation',\n       'Estée_Lauder_Double_Wear_Stay-in-Place_Foundation',\n       'tarte_BB_Tinted_Treatment_12-Hour_Primer_Broad_Spectrum_SPF_30_Sunscreen'],\n      dtype=object)"
     },
     "execution_count": 180,
     "metadata": {},
     "output_type": "execute_result"
    }
   ],
   "source": [
    "labels"
   ],
   "metadata": {
    "collapsed": false,
    "pycharm": {
     "name": "#%%\n"
    }
   }
  },
  {
   "cell_type": "code",
   "execution_count": 134,
   "outputs": [],
   "source": [
    "def plot_auc_roc(\n",
    "        predict_y,\n",
    "        val_y,\n",
    "        model: str,\n",
    "        filename: str = \"auc_roc\"):\n",
    "    \"\"\"\n",
    "    given predicted probability (predict_y) and label (val_y), computes AUC-ROC across threshold and saves the figure by product and model\n",
    "    \"\"\"\n",
    "\n",
    "    thresholds = np.linspace(0, 1, 10)\n",
    "    fpr = []\n",
    "    tpr = []\n",
    "\n",
    "    for threshold in thresholds:\n",
    "        predict_y_binary = np.where(predict_y >= threshold, 1, 0)\n",
    "\n",
    "        fp = np.sum((val_y == 0) & (predict_y_binary == 1))  # true value is 0 but predict to be 1\n",
    "        tp = np.sum((val_y == 1) & (predict_y_binary == 1))  # true value is 1 & predict to be 1\n",
    "\n",
    "        fn = np.sum((val_y == 1) & (predict_y_binary == 0))  # true value is 1 but predict to be 0\n",
    "        tn = np.sum((val_y == 0) & (predict_y_binary == 0))  # true value is 0 but predict to be 0\n",
    "\n",
    "        fpr.append(fp / (fp + tn))\n",
    "        tpr.append(tp / (tp + fn))\n",
    "\n",
    "        ## ROC & ROC-AUC\n",
    "    roc_auc_ = round(auc(fpr, tpr), 5)\n",
    "    fig3, ax3 = plt.subplots(1, 1)\n",
    "    ax3.plot(fpr, tpr, label=\"ROC\")\n",
    "    ax3.plot([0, 1], [0, 1], 'k--')\n",
    "    ax3.set_xlabel(\"False Positive Rate\")\n",
    "    ax3.set_ylabel(\"True Positive Rate\")\n",
    "    ax3.text(0.55, 0.2, 'AUC = {}'.format(roc_auc_))\n",
    "    product_title = product.replace('_', ' ')\n",
    "    plt.title(f'{model} with {product_title}')\n",
    "\n",
    "    plt.savefig(f'plots/{model}_{filename}.jpeg')"
   ],
   "metadata": {
    "collapsed": false,
    "pycharm": {
     "name": "#%%\n"
    }
   }
  },
  {
   "cell_type": "code",
   "execution_count": null,
   "outputs": [],
   "source": [
    "plot_auc_roc"
   ],
   "metadata": {
    "collapsed": false,
    "pycharm": {
     "name": "#%%\n"
    }
   }
  },
  {
   "cell_type": "code",
   "execution_count": 88,
   "outputs": [
    {
     "data": {
      "text/plain": "LogisticRegression(max_iter=1000, multi_class='multinomial')"
     },
     "execution_count": 88,
     "metadata": {},
     "output_type": "execute_result"
    }
   ],
   "source": [
    "from sklearn.linear_model import LogisticRegression\n",
    "\n",
    "logit = LogisticRegression(multi_class=\"multinomial\", max_iter=1000)\n",
    "logit.fit(train_X_transformed, y_train.to_numpy().reshape(y_train.shape[0],))"
   ],
   "metadata": {
    "collapsed": false,
    "pycharm": {
     "name": "#%%\n"
    }
   }
  },
  {
   "cell_type": "code",
   "execution_count": 102,
   "outputs": [],
   "source": [
    "predict = logit.predict_proba(val_X_transformed)"
   ],
   "metadata": {
    "collapsed": false,
    "pycharm": {
     "name": "#%%\n"
    }
   }
  },
  {
   "cell_type": "code",
   "execution_count": 103,
   "outputs": [
    {
     "data": {
      "text/plain": "0.5404393270359399"
     },
     "execution_count": 103,
     "metadata": {},
     "output_type": "execute_result"
    }
   ],
   "source": [
    "logit.score(val_X_transformed, y_val.to_numpy().reshape(y_val.shape[0],))"
   ],
   "metadata": {
    "collapsed": false,
    "pycharm": {
     "name": "#%%\n"
    }
   }
  },
  {
   "cell_type": "code",
   "execution_count": null,
   "outputs": [],
   "source": [],
   "metadata": {
    "collapsed": false,
    "pycharm": {
     "name": "#%%\n"
    }
   }
  },
  {
   "cell_type": "code",
   "execution_count": 97,
   "outputs": [
    {
     "data": {
      "text/plain": "array([6.41192210e-01, 2.84959322e-06, 8.06615462e-10, 2.11860887e-09,\n       1.94251707e-06, 3.67972499e-09, 4.62797349e-06, 2.75671937e-04,\n       2.31023877e-03, 1.79186603e-05, 1.40756523e-02, 4.63032155e-06,\n       2.78577564e-04, 5.41512487e-07, 7.67571741e-03, 6.22555620e-03,\n       4.38067487e-05, 3.14930664e-06, 4.68143065e-07, 2.31269496e-08,\n       1.39428307e-06, 9.37000150e-08, 9.03190959e-09, 2.28412209e-05,\n       2.16663884e-03, 4.13536238e-05, 3.27203930e-04, 5.76002904e-04,\n       2.41752659e-09, 4.68675238e-10, 1.48802068e-04, 4.03832878e-07,\n       2.54153968e-09, 1.03909752e-05, 7.60463292e-02, 3.08691256e-10,\n       9.50632188e-08, 7.81570568e-05, 3.18105910e-06, 1.82970814e-05,\n       1.28074430e-07, 1.04816833e-06, 7.24259566e-08, 9.80560596e-06,\n       2.24778841e-06, 1.67643505e-05, 1.69203590e-06, 6.13955405e-06,\n       6.26280973e-09, 3.11175943e-08, 1.52396937e-05, 7.94620302e-05,\n       9.82116516e-06, 8.38491850e-08, 9.30753343e-06, 2.08920217e-02,\n       5.79673871e-05, 7.00922366e-07, 6.65280890e-03, 3.30622806e-03,\n       1.46499748e-06, 2.95106146e-05, 1.08629553e-02, 3.74740665e-06,\n       4.05464024e-02, 3.25461511e-03, 1.21190715e-05, 1.28648121e-04,\n       1.87163435e-02, 1.16093429e-05, 2.06488978e-03, 4.71371156e-05,\n       3.20058041e-03, 5.82982376e-09, 2.33921117e-07, 5.37212109e-07,\n       3.19582039e-06, 8.34561832e-08, 4.27974213e-08, 1.57256279e-07,\n       1.37660911e-01, 2.00413450e-07, 2.59343288e-06, 2.23253037e-05,\n       7.60463702e-06, 2.41468435e-04, 5.36243313e-04, 2.80083738e-05])"
     },
     "execution_count": 97,
     "metadata": {},
     "output_type": "execute_result"
    }
   ],
   "source": [
    "logit.predict_proba(val_X_transformed)[0]"
   ],
   "metadata": {
    "collapsed": false,
    "pycharm": {
     "name": "#%%\n"
    }
   }
  },
  {
   "cell_type": "code",
   "execution_count": null,
   "outputs": [],
   "source": [],
   "metadata": {
    "collapsed": false,
    "pycharm": {
     "name": "#%%\n"
    }
   }
  }
 ],
 "metadata": {
  "kernelspec": {
   "display_name": "Python 3",
   "language": "python",
   "name": "python3"
  },
  "language_info": {
   "codemirror_mode": {
    "name": "ipython",
    "version": 2
   },
   "file_extension": ".py",
   "mimetype": "text/x-python",
   "name": "python",
   "nbconvert_exporter": "python",
   "pygments_lexer": "ipython2",
   "version": "2.7.6"
  }
 },
 "nbformat": 4,
 "nbformat_minor": 0
}