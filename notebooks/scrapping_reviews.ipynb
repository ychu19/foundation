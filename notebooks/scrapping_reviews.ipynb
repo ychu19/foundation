{
 "cells": [
  {
   "cell_type": "code",
   "execution_count": 1,
   "metadata": {},
   "outputs": [],
   "source": [
    "import requests\n",
    "from bs4 import BeautifulSoup\n",
    "import pandas as pd\n",
    "from time import sleep # control the crawl rate to avoid hammering the servers with too many requests\n",
    "from random import randint\n",
    "import re # regular expression\n",
    "\n",
    "from selenium import webdriver\n",
    "from selenium.webdriver.common.keys import Keys\n",
    "import chromedriver_binary # adds chromedriver binary to path"
   ]
  },
  {
   "cell_type": "code",
   "execution_count": 2,
   "metadata": {},
   "outputs": [],
   "source": [
    "# testing on just one foundation\n",
    "def parsing_pages(list_of_pages):\n",
    "    pages = []\n",
    "    for page in list_of_pages:\n",
    "        if pd.notnull(page):\n",
    "            all_pages = requests.get(page)\n",
    "            each_page = BeautifulSoup(all_pages.content, \"html.parser\")\n",
    "            pages.append(each_page)\n",
    "            sleep(randint(2,6))\n",
    "        else: \n",
    "            pages.append(None)\n",
    "    return pages"
   ]
  },
  {
   "cell_type": "code",
   "execution_count": 15,
   "metadata": {},
   "outputs": [
    {
     "name": "stderr",
     "output_type": "stream",
     "text": [
      "/var/folders/b8/qhvvp5cj1hj_nj6sgf68yv3r0000gn/T/ipykernel_34604/1460465738.py:10: DeprecationWarning: find_elements_by_* commands are deprecated. Please use find_elements() instead\n",
      "  items_from_page = driver.find_elements_by_css_selector('div[data-comp=\"StarRating\"]')\n"
     ]
    }
   ],
   "source": [
    "# what i need to get from the reviews\n",
    "# 1) stars (0 - 5) ## \"data-comp=\"StarRating\" <div aria-label=\"4 stars\">\n",
    "# 2) reviewer id ## <a href=\"users/Tarah84\" ...> under <strong data-at=\"nickname\">____</strong>\n",
    "# 3) reviewer features ## two lines under \"nickname\"\n",
    "# 4) purchased shade ## line after headline of the review (\"<h3 class>\")\n",
    "driver = webdriver.Firefox()\n",
    "driver.get(\"https://www.sephora.com/product/pro-filtr-soft-matte-longwear-foundation-P87985432?skuId=2164697\")\n",
    "\n",
    "\n",
    "\n",
    "\n"
   ]
  },
  {
   "cell_type": "code",
   "execution_count": 22,
   "metadata": {},
   "outputs": [
    {
     "name": "stderr",
     "output_type": "stream",
     "text": [
      "/var/folders/b8/qhvvp5cj1hj_nj6sgf68yv3r0000gn/T/ipykernel_34604/931944131.py:2: DeprecationWarning: find_element_by_* commands are deprecated. Please use find_element() instead\n",
      "  reviews = driver.find_element_by_css_selector('div[data-comp=\"Review StyledComponent BaseComponent \"]')\n"
     ]
    }
   ],
   "source": [
    "list_of_reviews = []\n",
    "reviews = driver.find_element_by_css_selector('div[data-comp=\"Review StyledComponent BaseComponent \"]')\n",
    "\n"
   ]
  },
  {
   "cell_type": "code",
   "execution_count": 21,
   "metadata": {},
   "outputs": [
    {
     "name": "stderr",
     "output_type": "stream",
     "text": [
      "/var/folders/b8/qhvvp5cj1hj_nj6sgf68yv3r0000gn/T/ipykernel_34604/690448223.py:1: DeprecationWarning: find_element_by_* commands are deprecated. Please use find_element() instead\n",
      "  reviewer_feature_from_page = driver.find_element_by_css_selector('strong[data-at=\"nickname\"]+span')\n"
     ]
    }
   ],
   "source": [
    "stars_from_page = driver.find_elements_by_css_selector('div[data-comp=\"StarRating \"]')\n",
    "reviewer_id_from_page = driver.find_element_by_css_selector('strong[data-at=\"nickname\"]')\n",
    "reviewer_feature_from_page = driver.find_element_by_css_selector('strong[data-at=\"nickname\"]+span')\n"
   ]
  }
 ],
 "metadata": {
  "interpreter": {
   "hash": "be930e4ecfc02ffad0fba66b413e4f417b9fdbeb111e734ba3e0fce78218e52b"
  },
  "kernelspec": {
   "display_name": "Python 3.9.1 64-bit ('foundation': conda)",
   "language": "python",
   "name": "python3"
  },
  "language_info": {
   "codemirror_mode": {
    "name": "ipython",
    "version": 3
   },
   "file_extension": ".py",
   "mimetype": "text/x-python",
   "name": "python",
   "nbconvert_exporter": "python",
   "pygments_lexer": "ipython3",
   "version": "3.9.1"
  },
  "orig_nbformat": 4
 },
 "nbformat": 4,
 "nbformat_minor": 2
}
