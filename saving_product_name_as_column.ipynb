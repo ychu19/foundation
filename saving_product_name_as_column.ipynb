{
 "cells": [
  {
   "cell_type": "code",
   "execution_count": 1,
   "metadata": {
    "collapsed": true
   },
   "outputs": [],
   "source": [
    "import pandas as pd\n",
    "import os\n",
    "from google.cloud import storage\n",
    "storage_client = storage.Client.from_service_account_json('foundation-matching-9bb2587b610a.json')\n",
    "bucket = storage_client.get_bucket('foundation_reviews')"
   ]
  },
  {
   "cell_type": "code",
   "execution_count": 2,
   "outputs": [],
   "source": [
    "list_of_file_names = []\n",
    "for file in os.listdir('data_full_review_cleaned/'):\n",
    "   if file.endswith(\".json\"):\n",
    "      list_of_file_names.append(os.path.join(file))"
   ],
   "metadata": {
    "collapsed": false,
    "pycharm": {
     "name": "#%%\n"
    }
   }
  },
  {
   "cell_type": "code",
   "execution_count": 3,
   "outputs": [
    {
     "data": {
      "text/plain": "'Dr._Jart+_Premium_Beauty_Balm_SPF_40.json'"
     },
     "execution_count": 3,
     "metadata": {},
     "output_type": "execute_result"
    }
   ],
   "source": [
    "list_of_file_names[0]"
   ],
   "metadata": {
    "collapsed": false,
    "pycharm": {
     "name": "#%%\n"
    }
   }
  },
  {
   "cell_type": "code",
   "execution_count": 4,
   "outputs": [],
   "source": [
    "for file in list_of_file_names:\n",
    "    data = pd.read_json(f'data_full_review_cleaned/{file}', lines=True)\n",
    "    data['brand_product'] =file.replace('.json', '')\n",
    "    data.to_json(f'data_full_review_cleaned/{file}', orient='records', lines=True)\n",
    "    blob = bucket.blob(f'{file}')\n",
    "    blob.upload_from_filename(f'data_full_review_cleaned/{file}')"
   ],
   "metadata": {
    "collapsed": false,
    "pycharm": {
     "name": "#%%\n"
    }
   }
  },
  {
   "cell_type": "code",
   "execution_count": 5,
   "outputs": [
    {
     "data": {
      "text/plain": "Index(['reviewer_id', 'rating', 'recommended', 'review_subject',\n       'review_content', 'reviewer_feature', 'purchased_shade',\n       'date_of_review', 'eye_color', 'hair_color', 'skin_tone', 'skin_type',\n       'skin_tone_bin', 'skin_tone_cat', 'days_since_launch',\n       'days_since_launch_scaled', 'month_of_purchase', 'finish', 'coverage',\n       'shade_match', 'gifted', 'brand_product'],\n      dtype='object')"
     },
     "execution_count": 5,
     "metadata": {},
     "output_type": "execute_result"
    }
   ],
   "source": [
    "data.columns"
   ],
   "metadata": {
    "collapsed": false,
    "pycharm": {
     "name": "#%%\n"
    }
   }
  },
  {
   "cell_type": "code",
   "execution_count": null,
   "outputs": [],
   "source": [],
   "metadata": {
    "collapsed": false,
    "pycharm": {
     "name": "#%%\n"
    }
   }
  }
 ],
 "metadata": {
  "kernelspec": {
   "display_name": "Python 3",
   "language": "python",
   "name": "python3"
  },
  "language_info": {
   "codemirror_mode": {
    "name": "ipython",
    "version": 2
   },
   "file_extension": ".py",
   "mimetype": "text/x-python",
   "name": "python",
   "nbconvert_exporter": "python",
   "pygments_lexer": "ipython2",
   "version": "2.7.6"
  }
 },
 "nbformat": 4,
 "nbformat_minor": 0
}