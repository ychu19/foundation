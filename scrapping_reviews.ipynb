{
 "cells": [
  {
   "cell_type": "code",
   "execution_count": null,
   "metadata": {},
   "outputs": [],
   "source": [
    "import requests\n",
    "from bs4 import BeautifulSoup\n",
    "import pandas as pd\n",
    "from time import sleep # control the crawl rate to avoid hammering the servers with too many requests\n",
    "from random import randint\n",
    "import re # regular expression\n",
    "\n",
    "from selenium import webdriver\n",
    "from selenium.webdriver.common.keys import Keys\n",
    "from selenium.webdriver.common.desired_capabilities import DesiredCapabilities # dealing with pop-up permissions\n",
    "from selenium.webdriver.firefox.options import Options"
   ]
  },
  {
   "cell_type": "code",
   "execution_count": null,
   "metadata": {},
   "outputs": [],
   "source": [
    "# what i need to get from the reviews\n",
    "# 1) stars (0 - 5) ## \"data-comp=\"StarRating\" <div aria-label=\"4 stars\">\n",
    "# 2) reviewer id ## <a href=\"users/Tarah84\" ...> under <strong data-at=\"nickname\">____</strong>\n",
    "# 3) reviewer features ## two lines under \"nickname\"\n",
    "# 4) purchased shade ## line after headline of the review (\"<h3 class>\")\n",
    "\n",
    "reviewer_id = []\n",
    "rating = []\n",
    "review_subject = []\n",
    "reviewer_feature = []\n",
    "purchased_shade = []\n",
    "\n",
    "cols = {\n",
    "    \"reviewer_id\": reviewer_id, \"rating\": rating, \"review_subject\": review_subject,\n",
    "    \"reviewer_feature\": reviewer_feature, \"purchased_shade\": purchased_shade\n",
    "    }\n",
    "\n",
    "fenty_dat = pd.DataFrame(cols)\n"
   ]
  },
  {
   "cell_type": "code",
   "execution_count": null,
   "metadata": {},
   "outputs": [],
   "source": [
    "geoBlocked = webdriver.FirefoxOptions()\n",
    "geoBlocked.set_preference(\"geo.prompt.testing\", True)\n",
    "geoBlocked.set_preference(\"geo.prompt.testing.allow\", False)\n",
    "driver = webdriver.Firefox(options=geoBlocked)\n",
    "driver.get(\"https://www.sephora.com/product/pro-filtr-soft-matte-longwear-foundation-P87985432?skuId=2164697\")\n",
    "sleep(3)\n",
    "driver.execute_script(\"window.scrollTo(0, 3000)\") \n",
    "sleep(2)\n",
    "driver.execute_script(\"window.scrollTo(0, 4500)\") "
   ]
  },
  {
   "cell_type": "code",
   "execution_count": null,
   "metadata": {},
   "outputs": [],
   "source": [
    "# preparing to click\n",
    "# driver.find_elements_by_css_selector('div[data-comp=\"Pagination Flex StyledComponent BaseComponent \"')"
   ]
  },
  {
   "cell_type": "code",
   "execution_count": null,
   "metadata": {},
   "outputs": [],
   "source": [
    "list_of_reviews = driver.find_elements_by_css_selector('div[data-comp=\"Review StyledComponent BaseComponent \"]')\n",
    "\n",
    "list_of_reviews[0].find_elements_by_css_selector('strong[data-at=\"nickname\"]')[0].text\n",
    "\n",
    "\n",
    "def append_new_data(data = fenty_dat, list_of_reviews = list_of_reviews):\n",
    "    shade = \"\"\n",
    "    for i in list_of_reviews:\n",
    "        if i.find_elements_by_css_selector('img[src*=\"https://www.sephora.com/productimages/\"]+span') != []:\n",
    "            shade = i.find_elements_by_css_selector('img[src*=\"https://www.sephora.com/productimages/\"]+span')[0].text\n",
    "        else:\n",
    "            shade = None\n",
    "\n",
    "        new_col = {\n",
    "            \"reviewer_id\": i.find_elements_by_css_selector('strong[data-at=\"nickname\"]')[0].text,\n",
    "            \"rating\": int(i.find_elements_by_css_selector('div[data-comp=\"StarRating \"]')[0].get_attribute(\"aria-label\")[0]),\n",
    "            \"review_subject\": \n",
    "            \"reviewer_feature\": i.find_elements_by_css_selector('strong[data-at=\"nickname\"]+span')[0].text,\n",
    "            \"purchased_shade\": shade\n",
    "        }\n",
    "        # print(new_col)\n",
    "        data = data.append(new_col,ignore_index=True)\n",
    "    return data"
   ]
  },
  {
   "cell_type": "code",
   "execution_count": null,
   "metadata": {},
   "outputs": [],
   "source": [
    "\n",
    "driver.find_elements_by_css_selector('ul[data-comp=\"Pagination Flex StyledComponent BaseComponent \"]:nth-child(8) button[data-at=\"pagination_page\"]')[-1].text"
   ]
  },
  {
   "cell_type": "code",
   "execution_count": null,
   "metadata": {},
   "outputs": [],
   "source": [
    "driver.find_element_by_css_selector('button[aria-label=\"Next\"]').click()"
   ]
  },
  {
   "cell_type": "code",
   "execution_count": null,
   "metadata": {},
   "outputs": [],
   "source": [
    "\n",
    "driver.find_element_by_css_selector('button[aria-label=\"Next\"][disabled=\"\"]')"
   ]
  },
  {
   "cell_type": "code",
   "execution_count": null,
   "metadata": {},
   "outputs": [],
   "source": [
    "fenty_dat = append_new_data()"
   ]
  },
  {
   "cell_type": "code",
   "execution_count": null,
   "metadata": {},
   "outputs": [],
   "source": [
    "fenty_dat"
   ]
  }
 ],
 "metadata": {
  "interpreter": {
   "hash": "be930e4ecfc02ffad0fba66b413e4f417b9fdbeb111e734ba3e0fce78218e52b"
  },
  "kernelspec": {
   "display_name": "Python 3.9.1 64-bit ('foundation': conda)",
   "language": "python",
   "name": "python3"
  },
  "language_info": {
   "codemirror_mode": {
    "name": "ipython",
    "version": 3
   },
   "file_extension": ".py",
   "mimetype": "text/x-python",
   "name": "python",
   "nbconvert_exporter": "python",
   "pygments_lexer": "ipython3",
   "version": "3.9.1"
  },
  "orig_nbformat": 4
 },
 "nbformat": 4,
 "nbformat_minor": 2
}
