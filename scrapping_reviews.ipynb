{
 "cells": [
  {
   "cell_type": "code",
   "execution_count": 1,
   "metadata": {},
   "outputs": [],
   "source": [
    "import requests\n",
    "from bs4 import BeautifulSoup\n",
    "import pandas as pd\n",
    "from time import sleep # control the crawl rate to avoid hammering the servers with too many requests\n",
    "from random import randint\n",
    "import re # regular expression\n",
    "\n",
    "from selenium import webdriver\n",
    "from selenium.webdriver.common.keys import Keys\n",
    "from selenium.webdriver.common.desired_capabilities import DesiredCapabilities # dealing with pop-up permissions\n",
    "from selenium.webdriver.firefox.options import Options"
   ]
  },
  {
   "cell_type": "code",
   "execution_count": 2,
   "metadata": {},
   "outputs": [],
   "source": [
    "# what i need to get from the reviews\n",
    "# 1) stars (0 - 5) ## \"data-comp=\"StarRating\" <div aria-label=\"4 stars\">\n",
    "# 2) reviewer id ## <a href=\"users/Tarah84\" ...> under <strong data-at=\"nickname\">____</strong>\n",
    "# 3) reviewer features ## two lines under \"nickname\"\n",
    "# 4) purchased shade ## line after headline of the review (\"<h3 class>\")\n",
    "\n",
    "reviewer_id = []\n",
    "rating = []\n",
    "reviewer_feature = []\n",
    "purchased_shade = []\n",
    "\n",
    "cols = {\n",
    "    \"reviewer_id\": reviewer_id, \"rating\": rating, \n",
    "    \"reviewer_feature\": reviewer_feature, \"purchased_shade\": purchased_shade\n",
    "    }\n",
    "\n",
    "fenty_dat = pd.DataFrame(cols)\n"
   ]
  },
  {
   "cell_type": "code",
   "execution_count": 3,
   "metadata": {},
   "outputs": [],
   "source": [
    "geoBlocked = webdriver.FirefoxOptions()\n",
    "geoBlocked.set_preference(\"geo.prompt.testing\", True)\n",
    "geoBlocked.set_preference(\"geo.prompt.testing.allow\", False)\n",
    "driver = webdriver.Firefox(options=geoBlocked)\n",
    "driver.get(\"https://www.sephora.com/product/pro-filtr-soft-matte-longwear-foundation-P87985432?skuId=2164697\")\n",
    "sleep(3)\n",
    "driver.execute_script(\"window.scrollTo(0, 3000)\") \n",
    "sleep(2)\n",
    "driver.execute_script(\"window.scrollTo(0, 4500)\") "
   ]
  },
  {
   "cell_type": "code",
   "execution_count": null,
   "metadata": {},
   "outputs": [],
   "source": [
    "# preparing to click\n",
    "# driver.find_elements_by_css_selector('div[data-comp=\"Pagination Flex StyledComponent BaseComponent \"')"
   ]
  },
  {
   "cell_type": "code",
   "execution_count": 4,
   "metadata": {},
   "outputs": [
    {
     "name": "stderr",
     "output_type": "stream",
     "text": [
      "/var/folders/b8/qhvvp5cj1hj_nj6sgf68yv3r0000gn/T/ipykernel_43149/2311291850.py:1: DeprecationWarning: find_elements_by_* commands are deprecated. Please use find_elements() instead\n",
      "  list_of_reviews = driver.find_elements_by_css_selector('div[data-comp=\"Review StyledComponent BaseComponent \"]')\n",
      "/opt/homebrew/Caskroom/miniforge/base/envs/foundation/lib/python3.9/site-packages/selenium/webdriver/remote/webelement.py:502: UserWarning: find_elements_by_* commands are deprecated. Please use find_elements() instead\n",
      "  warnings.warn(\"find_elements_by_* commands are deprecated. Please use find_elements() instead\")\n"
     ]
    }
   ],
   "source": [
    "list_of_reviews = driver.find_elements_by_css_selector('div[data-comp=\"Review StyledComponent BaseComponent \"]')\n",
    "\n",
    "list_of_reviews[0].find_elements_by_css_selector('strong[data-at=\"nickname\"]')[0].text\n",
    "\n",
    "\n",
    "def append_new_data(data = fenty_dat, list_of_reviews = list_of_reviews):\n",
    "    shade = \"\"\n",
    "    for i in list_of_reviews:\n",
    "        if i.find_elements_by_css_selector('img[src*=\"https://www.sephora.com/productimages/\"]+span') != []:\n",
    "            shade = i.find_elements_by_css_selector('img[src*=\"https://www.sephora.com/productimages/\"]+span')[0].text\n",
    "        else:\n",
    "            shade = None\n",
    "\n",
    "        new_col = {\n",
    "            \"reviewer_id\": i.find_elements_by_css_selector('strong[data-at=\"nickname\"]')[0].text,\n",
    "            \"rating\": int(i.find_elements_by_css_selector('div[data-comp=\"StarRating \"]')[0].get_attribute(\"aria-label\")[0]),\n",
    "            \"reviewer_feature\": i.find_elements_by_css_selector('strong[data-at=\"nickname\"]+span')[0].text,\n",
    "            \"purchased_shade\": shade\n",
    "        }\n",
    "        # print(new_col)\n",
    "        data = data.append(new_col,ignore_index=True)\n",
    "    return data"
   ]
  },
  {
   "cell_type": "code",
   "execution_count": 5,
   "metadata": {},
   "outputs": [],
   "source": [
    "fenty_dat = append_new_data()"
   ]
  },
  {
   "cell_type": "code",
   "execution_count": 6,
   "metadata": {},
   "outputs": [
    {
     "data": {
      "text/html": [
       "<div>\n",
       "<style scoped>\n",
       "    .dataframe tbody tr th:only-of-type {\n",
       "        vertical-align: middle;\n",
       "    }\n",
       "\n",
       "    .dataframe tbody tr th {\n",
       "        vertical-align: top;\n",
       "    }\n",
       "\n",
       "    .dataframe thead th {\n",
       "        text-align: right;\n",
       "    }\n",
       "</style>\n",
       "<table border=\"1\" class=\"dataframe\">\n",
       "  <thead>\n",
       "    <tr style=\"text-align: right;\">\n",
       "      <th></th>\n",
       "      <th>reviewer_id</th>\n",
       "      <th>rating</th>\n",
       "      <th>reviewer_feature</th>\n",
       "      <th>purchased_shade</th>\n",
       "    </tr>\n",
       "  </thead>\n",
       "  <tbody>\n",
       "    <tr>\n",
       "      <th>0</th>\n",
       "      <td>madkaita</td>\n",
       "      <td>5.0</td>\n",
       "      <td>Blue eyes, Blonde hair, Fair skin tone, Combin...</td>\n",
       "      <td>180 - for light skin with warm undertones</td>\n",
       "    </tr>\n",
       "    <tr>\n",
       "      <th>1</th>\n",
       "      <td>aylincp</td>\n",
       "      <td>5.0</td>\n",
       "      <td>Hazel eyes, Brunette hair, Light skin tone, Co...</td>\n",
       "      <td>None</td>\n",
       "    </tr>\n",
       "    <tr>\n",
       "      <th>2</th>\n",
       "      <td>Tarah84</td>\n",
       "      <td>4.0</td>\n",
       "      <td>Brown eyes, Brunette hair, Medium skin tone, C...</td>\n",
       "      <td>185 - light medium with neutral undertones</td>\n",
       "    </tr>\n",
       "    <tr>\n",
       "      <th>3</th>\n",
       "      <td>Airikins</td>\n",
       "      <td>2.0</td>\n",
       "      <td>Green eyes, Black hair, Light skin tone, Oily ...</td>\n",
       "      <td>150 - light with neutral undertones</td>\n",
       "    </tr>\n",
       "    <tr>\n",
       "      <th>4</th>\n",
       "      <td>Mimiromero</td>\n",
       "      <td>5.0</td>\n",
       "      <td>Brown eyes, Brunette hair, Light skin tone, Co...</td>\n",
       "      <td>185 - for light to medium skin with neutral un...</td>\n",
       "    </tr>\n",
       "    <tr>\n",
       "      <th>5</th>\n",
       "      <td>cristilola</td>\n",
       "      <td>5.0</td>\n",
       "      <td>Hazel eyes, Brunette hair, Light skin tone, Dr...</td>\n",
       "      <td>150 - light with neutral undertones</td>\n",
       "    </tr>\n",
       "  </tbody>\n",
       "</table>\n",
       "</div>"
      ],
      "text/plain": [
       "  reviewer_id  rating                                   reviewer_feature  \\\n",
       "0    madkaita     5.0  Blue eyes, Blonde hair, Fair skin tone, Combin...   \n",
       "1     aylincp     5.0  Hazel eyes, Brunette hair, Light skin tone, Co...   \n",
       "2     Tarah84     4.0  Brown eyes, Brunette hair, Medium skin tone, C...   \n",
       "3    Airikins     2.0  Green eyes, Black hair, Light skin tone, Oily ...   \n",
       "4  Mimiromero     5.0  Brown eyes, Brunette hair, Light skin tone, Co...   \n",
       "5  cristilola     5.0  Hazel eyes, Brunette hair, Light skin tone, Dr...   \n",
       "\n",
       "                                     purchased_shade  \n",
       "0          180 - for light skin with warm undertones  \n",
       "1                                               None  \n",
       "2         185 - light medium with neutral undertones  \n",
       "3                150 - light with neutral undertones  \n",
       "4  185 - for light to medium skin with neutral un...  \n",
       "5                150 - light with neutral undertones  "
      ]
     },
     "execution_count": 6,
     "metadata": {},
     "output_type": "execute_result"
    }
   ],
   "source": [
    "fenty_dat"
   ]
  }
 ],
 "metadata": {
  "interpreter": {
   "hash": "be930e4ecfc02ffad0fba66b413e4f417b9fdbeb111e734ba3e0fce78218e52b"
  },
  "kernelspec": {
   "display_name": "Python 3.9.1 64-bit ('foundation': conda)",
   "language": "python",
   "name": "python3"
  },
  "language_info": {
   "codemirror_mode": {
    "name": "ipython",
    "version": 3
   },
   "file_extension": ".py",
   "mimetype": "text/x-python",
   "name": "python",
   "nbconvert_exporter": "python",
   "pygments_lexer": "ipython3",
   "version": "3.9.1"
  },
  "orig_nbformat": 4
 },
 "nbformat": 4,
 "nbformat_minor": 2
}
