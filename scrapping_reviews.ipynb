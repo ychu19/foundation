{
 "cells": [
  {
   "cell_type": "code",
   "execution_count": 1,
   "metadata": {},
   "outputs": [],
   "source": [
    "import requests\n",
    "from bs4 import BeautifulSoup\n",
    "import pandas as pd\n",
    "from time import sleep # control the crawl rate to avoid hammering the servers with too many requests\n",
    "from random import randint\n",
    "from tqdm import tqdm\n",
    "\n",
    "from selenium import webdriver\n",
    "from selenium.webdriver.common.keys import Keys\n",
    "from selenium.webdriver.common.desired_capabilities import DesiredCapabilities # dealing with pop-up permissions\n",
    "from selenium.webdriver.firefox.options import Options"
   ]
  },
  {
   "cell_type": "code",
   "execution_count": 2,
   "metadata": {},
   "outputs": [],
   "source": [
    "# what i need to get from the reviews\n",
    "# 1) stars (0 - 5) ## \"data-comp=\"StarRating\" <div aria-label=\"4 stars\">\n",
    "# 2) reviewer id ## <a href=\"users/Tarah84\" ...> under <strong data-at=\"nickname\">____</strong>\n",
    "# 3) reviewer features ## two lines under \"nickname\"\n",
    "# 4) purchased shade ## line after headline of the review (\"<h3 class>\")\n",
    "\n",
    "reviewer_id = []\n",
    "rating = []\n",
    "review_subject = []\n",
    "reviewer_feature = []\n",
    "purchased_shade = []\n",
    "\n",
    "cols = {\n",
    "    \"reviewer_id\": reviewer_id, \"rating\": rating, \"review_subject\": review_subject,\n",
    "    \"reviewer_feature\": reviewer_feature, \"purchased_shade\": purchased_shade\n",
    "    }\n",
    "\n",
    "fenty_dat = pd.DataFrame(cols)\n"
   ]
  },
  {
   "cell_type": "code",
   "execution_count": 3,
   "metadata": {},
   "outputs": [],
   "source": [
    "geoBlocked = webdriver.FirefoxOptions()\n",
    "geoBlocked.set_preference(\"geo.prompt.testing\", True)\n",
    "geoBlocked.set_preference(\"geo.prompt.testing.allow\", False)\n",
    "driver = webdriver.Firefox(options=geoBlocked)\n",
    "driver.get(\"https://www.sephora.com/product/pro-filtr-soft-matte-longwear-foundation-P87985432?skuId=2164697\")\n",
    "sleep(3)\n",
    "driver.execute_script(\"window.scrollTo(0, 3000)\") \n",
    "sleep(2)\n",
    "driver.execute_script(\"window.scrollTo(0, 4500)\") "
   ]
  },
  {
   "cell_type": "code",
   "execution_count": null,
   "metadata": {},
   "outputs": [],
   "source": [
    "# preparing to click\n",
    "# driver.find_elements_by_css_selector('div[data-comp=\"Pagination Flex StyledComponent BaseComponent \"')"
   ]
  },
  {
   "cell_type": "code",
   "execution_count": 4,
   "metadata": {},
   "outputs": [],
   "source": [
    "# list_of_reviews = driver.find_elements_by_css_selector('div[data-comp=\"Review StyledComponent BaseComponent \"]')\n",
    "\n",
    "# list_of_reviews[0].find_elements_by_css_selector('strong[data-at=\"nickname\"]')[0].text\n",
    "list_of_reviews = []\n",
    "\n",
    "def append_new_data(data = fenty_dat, list_of_reviews = list_of_reviews):\n",
    "    shade = \"\"\n",
    "    review_subject = \"\"\n",
    "    reviewer_feature = \"\"\n",
    "    reviewer_id = \"\"\n",
    "    rating = int()\n",
    "    for i in list_of_reviews:\n",
    "        \n",
    "        if i.find_elements_by_css_selector('strong[data-at=\"nickname\"]') != []:\n",
    "            reviewer_id = i.find_elements_by_css_selector('strong[data-at=\"nickname\"]')[0].text\n",
    "        else:\n",
    "            pass \n",
    "        \n",
    "        if i.find_elements_by_css_selector('strong[data-at=\"nickname\"]+span') != []:\n",
    "            reviewer_feature = i.find_elements_by_css_selector('strong[data-at=\"nickname\"]+span')[0].text\n",
    "        else:\n",
    "            pass\n",
    "\n",
    "        if i.find_elements_by_css_selector('div[data-comp=\"StarRating \"]') != []:\n",
    "            rating = int(i.find_elements_by_css_selector('div[data-comp=\"StarRating \"]')[0].get_attribute(\"aria-label\")[0])\n",
    "        else:\n",
    "            pass\n",
    "\n",
    "        if i.find_elements_by_css_selector('h3') != []:\n",
    "            review_subject = i.find_element_by_css_selector('h3').text\n",
    "        else:\n",
    "            review_subject = None\n",
    "\n",
    "        if i.find_elements_by_css_selector('img[src*=\"https://www.sephora.com/productimages/\"]+span') != []:\n",
    "            shade = i.find_elements_by_css_selector('img[src*=\"https://www.sephora.com/productimages/\"]+span')[0].text\n",
    "        else:\n",
    "            shade = None\n",
    "\n",
    "        new_col = {\n",
    "            \"reviewer_id\": reviewer_id,\n",
    "            \"rating\": rating,\n",
    "            \"review_subject\": review_subject,\n",
    "            \"reviewer_feature\": reviewer_feature,\n",
    "            \"purchased_shade\": shade\n",
    "        }\n",
    "        # print(new_col)\n",
    "        data = data.append(new_col,ignore_index=True)\n",
    "    return data"
   ]
  },
  {
   "cell_type": "code",
   "execution_count": 5,
   "metadata": {},
   "outputs": [
    {
     "name": "stderr",
     "output_type": "stream",
     "text": [
      "  0%|          | 0/201 [00:00<?, ?it/s]/var/folders/b8/qhvvp5cj1hj_nj6sgf68yv3r0000gn/T/ipykernel_97162/3532620609.py:2: DeprecationWarning: find_elements_by_* commands are deprecated. Please use find_elements() instead\n",
      "  list_of_reviews = driver.find_elements_by_css_selector('div[data-comp=\"Review StyledComponent BaseComponent \"]')\n",
      "/opt/homebrew/Caskroom/miniforge/base/envs/foundation/lib/python3.9/site-packages/selenium/webdriver/remote/webelement.py:502: UserWarning: find_elements_by_* commands are deprecated. Please use find_elements() instead\n",
      "  warnings.warn(\"find_elements_by_* commands are deprecated. Please use find_elements() instead\")\n",
      "/opt/homebrew/Caskroom/miniforge/base/envs/foundation/lib/python3.9/site-packages/selenium/webdriver/remote/webelement.py:484: UserWarning: find_element_by_* commands are deprecated. Please use find_element() instead\n",
      "  warnings.warn(\"find_element_by_* commands are deprecated. Please use find_element() instead\")\n",
      "/var/folders/b8/qhvvp5cj1hj_nj6sgf68yv3r0000gn/T/ipykernel_97162/3532620609.py:4: DeprecationWarning: find_element_by_* commands are deprecated. Please use find_element() instead\n",
      "  driver.find_element_by_css_selector('button[aria-label=\"Next\"]').click()\n",
      "100%|██████████| 201/201 [15:00<00:00,  4.48s/it]\n"
     ]
    }
   ],
   "source": [
    "for n in tqdm(range(0, 201)):\n",
    "    list_of_reviews = driver.find_elements_by_css_selector('div[data-comp=\"Review StyledComponent BaseComponent \"]')\n",
    "    fenty_dat = append_new_data(data = fenty_dat, list_of_reviews=list_of_reviews)\n",
    "    driver.find_element_by_css_selector('button[aria-label=\"Next\"]').click()\n",
    "    sleep(randint(2,6))"
   ]
  },
  {
   "cell_type": "code",
   "execution_count": null,
   "metadata": {},
   "outputs": [],
   "source": [
    "fenty_dat.to_csv('fenty_dat_0_to_300.csv')"
   ]
  },
  {
   "cell_type": "code",
   "execution_count": 6,
   "metadata": {},
   "outputs": [
    {
     "name": "stderr",
     "output_type": "stream",
     "text": [
      "  0%|          | 0/400 [00:00<?, ?it/s]/var/folders/b8/qhvvp5cj1hj_nj6sgf68yv3r0000gn/T/ipykernel_97162/1467378922.py:2: DeprecationWarning: find_elements_by_* commands are deprecated. Please use find_elements() instead\n",
      "  list_of_reviews = driver.find_elements_by_css_selector('div[data-comp=\"Review StyledComponent BaseComponent \"]')\n",
      "/var/folders/b8/qhvvp5cj1hj_nj6sgf68yv3r0000gn/T/ipykernel_97162/1467378922.py:4: DeprecationWarning: find_element_by_* commands are deprecated. Please use find_element() instead\n",
      "  driver.find_element_by_css_selector('button[aria-label=\"Next\"]').click()\n",
      "100%|██████████| 400/400 [29:16<00:00,  4.39s/it]\n"
     ]
    }
   ],
   "source": [
    "for n in tqdm(range(201, 601)):\n",
    "    list_of_reviews = driver.find_elements_by_css_selector('div[data-comp=\"Review StyledComponent BaseComponent \"]')\n",
    "    fenty_dat = append_new_data(data = fenty_dat, list_of_reviews=list_of_reviews)\n",
    "    driver.find_element_by_css_selector('button[aria-label=\"Next\"]').click()\n",
    "    sleep(randint(2,6))"
   ]
  },
  {
   "cell_type": "code",
   "execution_count": 7,
   "metadata": {},
   "outputs": [],
   "source": [
    "fenty_dat.to_csv('fenty_dat_0_to_600.csv')"
   ]
  },
  {
   "cell_type": "code",
   "execution_count": 8,
   "metadata": {},
   "outputs": [
    {
     "name": "stderr",
     "output_type": "stream",
     "text": [
      "  0%|          | 0/399 [00:00<?, ?it/s]/var/folders/b8/qhvvp5cj1hj_nj6sgf68yv3r0000gn/T/ipykernel_97162/130244487.py:2: DeprecationWarning: find_elements_by_* commands are deprecated. Please use find_elements() instead\n",
      "  list_of_reviews = driver.find_elements_by_css_selector('div[data-comp=\"Review StyledComponent BaseComponent \"]')\n",
      "/var/folders/b8/qhvvp5cj1hj_nj6sgf68yv3r0000gn/T/ipykernel_97162/130244487.py:4: DeprecationWarning: find_element_by_* commands are deprecated. Please use find_element() instead\n",
      "  driver.find_element_by_css_selector('button[aria-label=\"Next\"]').click()\n",
      "100%|██████████| 399/399 [29:45<00:00,  4.48s/it]\n"
     ]
    }
   ],
   "source": [
    "for n in tqdm(range(601, 1000)):\n",
    "    list_of_reviews = driver.find_elements_by_css_selector('div[data-comp=\"Review StyledComponent BaseComponent \"]')\n",
    "    fenty_dat = append_new_data(data = fenty_dat, list_of_reviews=list_of_reviews)\n",
    "    driver.find_element_by_css_selector('button[aria-label=\"Next\"]').click()\n",
    "    sleep(randint(2,6))"
   ]
  },
  {
   "cell_type": "code",
   "execution_count": 9,
   "metadata": {},
   "outputs": [],
   "source": [
    "fenty_dat.to_csv('fenty_dat_0_to_999.csv')"
   ]
  },
  {
   "cell_type": "code",
   "execution_count": null,
   "metadata": {},
   "outputs": [],
   "source": []
  }
 ],
 "metadata": {
  "interpreter": {
   "hash": "be930e4ecfc02ffad0fba66b413e4f417b9fdbeb111e734ba3e0fce78218e52b"
  },
  "kernelspec": {
   "display_name": "Python 3.9.1 64-bit ('foundation': conda)",
   "language": "python",
   "name": "python3"
  },
  "language_info": {
   "codemirror_mode": {
    "name": "ipython",
    "version": 3
   },
   "file_extension": ".py",
   "mimetype": "text/x-python",
   "name": "python",
   "nbconvert_exporter": "python",
   "pygments_lexer": "ipython3",
   "version": "3.9.1"
  },
  "orig_nbformat": 4
 },
 "nbformat": 4,
 "nbformat_minor": 2
}
