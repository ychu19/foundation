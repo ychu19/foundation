{
 "cells": [
  {
   "cell_type": "code",
   "execution_count": 1,
   "metadata": {},
   "outputs": [],
   "source": [
    "import requests\n",
    "from bs4 import BeautifulSoup\n",
    "import pandas as pd\n",
    "from time import sleep # control the crawl rate to avoid hammering the servers with too many requests\n",
    "from random import randint\n",
    "import re # regular expression\n",
    "\n",
    "from selenium import webdriver\n",
    "from selenium.webdriver.common.keys import Keys\n",
    "from selenium.webdriver.common.desired_capabilities import DesiredCapabilities # dealing with pop-up permissions\n",
    "from selenium.webdriver.firefox.options import Options"
   ]
  },
  {
   "cell_type": "code",
   "execution_count": 2,
   "metadata": {},
   "outputs": [],
   "source": [
    "# what i need to get from the reviews\n",
    "# 1) stars (0 - 5) ## \"data-comp=\"StarRating\" <div aria-label=\"4 stars\">\n",
    "# 2) reviewer id ## <a href=\"users/Tarah84\" ...> under <strong data-at=\"nickname\">____</strong>\n",
    "# 3) reviewer features ## two lines under \"nickname\"\n",
    "# 4) purchased shade ## line after headline of the review (\"<h3 class>\")\n",
    "\n",
    "reviewer_id = []\n",
    "rating = []\n",
    "reviewer_feature = []\n",
    "purchased_shade = []\n",
    "\n",
    "cols = {\n",
    "    \"reviewer_id\": reviewer_id, \"rating\": rating, \n",
    "    \"reviewer_feature\": reviewer_feature, \"purchased_shade\": purchased_shade\n",
    "    }\n",
    "\n",
    "fenty_dat = pd.DataFrame(cols)\n"
   ]
  },
  {
   "cell_type": "code",
   "execution_count": 3,
   "metadata": {},
   "outputs": [],
   "source": [
    "geoBlocked = webdriver.FirefoxOptions()\n",
    "geoBlocked.set_preference(\"geo.prompt.testing\", True)\n",
    "geoBlocked.set_preference(\"geo.prompt.testing.allow\", False)\n",
    "driver = webdriver.Firefox(options=geoBlocked)\n",
    "driver.get(\"https://www.sephora.com/product/pro-filtr-soft-matte-longwear-foundation-P87985432?skuId=2164697\")\n",
    "sleep(3)\n",
    "driver.execute_script(\"window.scrollTo(0, 3000)\") \n",
    "sleep(2)\n",
    "driver.execute_script(\"window.scrollTo(0, 4500)\") "
   ]
  },
  {
   "cell_type": "code",
   "execution_count": 4,
   "metadata": {},
   "outputs": [],
   "source": [
    "# preparing to click\n",
    "# driver.find_elements_by_css_selector('div[data-comp=\"Pagination Flex StyledComponent BaseComponent \"')"
   ]
  },
  {
   "cell_type": "code",
   "execution_count": 5,
   "metadata": {},
   "outputs": [
    {
     "name": "stderr",
     "output_type": "stream",
     "text": [
      "/var/folders/b8/qhvvp5cj1hj_nj6sgf68yv3r0000gn/T/ipykernel_61519/2311291850.py:1: DeprecationWarning: find_elements_by_* commands are deprecated. Please use find_elements() instead\n",
      "  list_of_reviews = driver.find_elements_by_css_selector('div[data-comp=\"Review StyledComponent BaseComponent \"]')\n",
      "/opt/homebrew/Caskroom/miniforge/base/envs/foundation/lib/python3.9/site-packages/selenium/webdriver/remote/webelement.py:502: UserWarning: find_elements_by_* commands are deprecated. Please use find_elements() instead\n",
      "  warnings.warn(\"find_elements_by_* commands are deprecated. Please use find_elements() instead\")\n"
     ]
    }
   ],
   "source": [
    "list_of_reviews = driver.find_elements_by_css_selector('div[data-comp=\"Review StyledComponent BaseComponent \"]')\n",
    "\n",
    "list_of_reviews[0].find_elements_by_css_selector('strong[data-at=\"nickname\"]')[0].text\n",
    "\n",
    "\n",
    "def append_new_data(data = fenty_dat, list_of_reviews = list_of_reviews):\n",
    "    shade = \"\"\n",
    "    for i in list_of_reviews:\n",
    "        if i.find_elements_by_css_selector('img[src*=\"https://www.sephora.com/productimages/\"]+span') != []:\n",
    "            shade = i.find_elements_by_css_selector('img[src*=\"https://www.sephora.com/productimages/\"]+span')[0].text\n",
    "        else:\n",
    "            shade = None\n",
    "\n",
    "        new_col = {\n",
    "            \"reviewer_id\": i.find_elements_by_css_selector('strong[data-at=\"nickname\"]')[0].text,\n",
    "            \"rating\": int(i.find_elements_by_css_selector('div[data-comp=\"StarRating \"]')[0].get_attribute(\"aria-label\")[0]),\n",
    "            \"reviewer_feature\": i.find_elements_by_css_selector('strong[data-at=\"nickname\"]+span')[0].text,\n",
    "            \"purchased_shade\": shade\n",
    "        }\n",
    "        # print(new_col)\n",
    "        data = data.append(new_col,ignore_index=True)\n",
    "    return data"
   ]
  },
  {
   "cell_type": "code",
   "execution_count": 30,
   "metadata": {},
   "outputs": [
    {
     "name": "stderr",
     "output_type": "stream",
     "text": [
      "/var/folders/b8/qhvvp5cj1hj_nj6sgf68yv3r0000gn/T/ipykernel_61519/1726895540.py:1: DeprecationWarning: find_element_by_* commands are deprecated. Please use find_element() instead\n",
      "  driver.find_element_by_css_selector('ul[data-comp=\"Pagination Flex StyledComponent BaseComponent \"]:nth-child(8)[button]').text\n"
     ]
    },
    {
     "ename": "NoSuchElementException",
     "evalue": "Message: Unable to locate element: ul[data-comp=\"Pagination Flex StyledComponent BaseComponent \"]:nth-child(8)[button]\nStacktrace:\nWebDriverError@chrome://remote/content/shared/webdriver/Errors.jsm:181:5\nNoSuchElementError@chrome://remote/content/shared/webdriver/Errors.jsm:393:5\nelement.find/</<@chrome://remote/content/marionette/element.js:299:16\n",
     "output_type": "error",
     "traceback": [
      "\u001b[0;31m---------------------------------------------------------------------------\u001b[0m",
      "\u001b[0;31mNoSuchElementException\u001b[0m                    Traceback (most recent call last)",
      "\u001b[0;32m/var/folders/b8/qhvvp5cj1hj_nj6sgf68yv3r0000gn/T/ipykernel_61519/1726895540.py\u001b[0m in \u001b[0;36m<module>\u001b[0;34m\u001b[0m\n\u001b[0;32m----> 1\u001b[0;31m \u001b[0mdriver\u001b[0m\u001b[0;34m.\u001b[0m\u001b[0mfind_element_by_css_selector\u001b[0m\u001b[0;34m(\u001b[0m\u001b[0;34m'ul[data-comp=\"Pagination Flex StyledComponent BaseComponent \"]:nth-child(8)[button]'\u001b[0m\u001b[0;34m)\u001b[0m\u001b[0;34m.\u001b[0m\u001b[0mtext\u001b[0m\u001b[0;34m\u001b[0m\u001b[0;34m\u001b[0m\u001b[0m\n\u001b[0m",
      "\u001b[0;32m/opt/homebrew/Caskroom/miniforge/base/envs/foundation/lib/python3.9/site-packages/selenium/webdriver/remote/webdriver.py\u001b[0m in \u001b[0;36mfind_element_by_css_selector\u001b[0;34m(self, css_selector)\u001b[0m\n\u001b[1;32m    806\u001b[0m             \u001b[0mstacklevel\u001b[0m\u001b[0;34m=\u001b[0m\u001b[0;36m2\u001b[0m\u001b[0;34m,\u001b[0m\u001b[0;34m\u001b[0m\u001b[0;34m\u001b[0m\u001b[0m\n\u001b[1;32m    807\u001b[0m         )\n\u001b[0;32m--> 808\u001b[0;31m         \u001b[0;32mreturn\u001b[0m \u001b[0mself\u001b[0m\u001b[0;34m.\u001b[0m\u001b[0mfind_element\u001b[0m\u001b[0;34m(\u001b[0m\u001b[0mby\u001b[0m\u001b[0;34m=\u001b[0m\u001b[0mBy\u001b[0m\u001b[0;34m.\u001b[0m\u001b[0mCSS_SELECTOR\u001b[0m\u001b[0;34m,\u001b[0m \u001b[0mvalue\u001b[0m\u001b[0;34m=\u001b[0m\u001b[0mcss_selector\u001b[0m\u001b[0;34m)\u001b[0m\u001b[0;34m\u001b[0m\u001b[0;34m\u001b[0m\u001b[0m\n\u001b[0m\u001b[1;32m    809\u001b[0m \u001b[0;34m\u001b[0m\u001b[0m\n\u001b[1;32m    810\u001b[0m     \u001b[0;32mdef\u001b[0m \u001b[0mfind_elements_by_css_selector\u001b[0m\u001b[0;34m(\u001b[0m\u001b[0mself\u001b[0m\u001b[0;34m,\u001b[0m \u001b[0mcss_selector\u001b[0m\u001b[0;34m)\u001b[0m \u001b[0;34m->\u001b[0m \u001b[0mWebElement\u001b[0m\u001b[0;34m:\u001b[0m\u001b[0;34m\u001b[0m\u001b[0;34m\u001b[0m\u001b[0m\n",
      "\u001b[0;32m/opt/homebrew/Caskroom/miniforge/base/envs/foundation/lib/python3.9/site-packages/selenium/webdriver/remote/webdriver.py\u001b[0m in \u001b[0;36mfind_element\u001b[0;34m(self, by, value)\u001b[0m\n\u001b[1;32m   1242\u001b[0m             \u001b[0mvalue\u001b[0m \u001b[0;34m=\u001b[0m \u001b[0;34m'[name=\"%s\"]'\u001b[0m \u001b[0;34m%\u001b[0m \u001b[0mvalue\u001b[0m\u001b[0;34m\u001b[0m\u001b[0;34m\u001b[0m\u001b[0m\n\u001b[1;32m   1243\u001b[0m \u001b[0;34m\u001b[0m\u001b[0m\n\u001b[0;32m-> 1244\u001b[0;31m         return self.execute(Command.FIND_ELEMENT, {\n\u001b[0m\u001b[1;32m   1245\u001b[0m             \u001b[0;34m'using'\u001b[0m\u001b[0;34m:\u001b[0m \u001b[0mby\u001b[0m\u001b[0;34m,\u001b[0m\u001b[0;34m\u001b[0m\u001b[0;34m\u001b[0m\u001b[0m\n\u001b[1;32m   1246\u001b[0m             'value': value})['value']\n",
      "\u001b[0;32m/opt/homebrew/Caskroom/miniforge/base/envs/foundation/lib/python3.9/site-packages/selenium/webdriver/remote/webdriver.py\u001b[0m in \u001b[0;36mexecute\u001b[0;34m(self, driver_command, params)\u001b[0m\n\u001b[1;32m    422\u001b[0m         \u001b[0mresponse\u001b[0m \u001b[0;34m=\u001b[0m \u001b[0mself\u001b[0m\u001b[0;34m.\u001b[0m\u001b[0mcommand_executor\u001b[0m\u001b[0;34m.\u001b[0m\u001b[0mexecute\u001b[0m\u001b[0;34m(\u001b[0m\u001b[0mdriver_command\u001b[0m\u001b[0;34m,\u001b[0m \u001b[0mparams\u001b[0m\u001b[0;34m)\u001b[0m\u001b[0;34m\u001b[0m\u001b[0;34m\u001b[0m\u001b[0m\n\u001b[1;32m    423\u001b[0m         \u001b[0;32mif\u001b[0m \u001b[0mresponse\u001b[0m\u001b[0;34m:\u001b[0m\u001b[0;34m\u001b[0m\u001b[0;34m\u001b[0m\u001b[0m\n\u001b[0;32m--> 424\u001b[0;31m             \u001b[0mself\u001b[0m\u001b[0;34m.\u001b[0m\u001b[0merror_handler\u001b[0m\u001b[0;34m.\u001b[0m\u001b[0mcheck_response\u001b[0m\u001b[0;34m(\u001b[0m\u001b[0mresponse\u001b[0m\u001b[0;34m)\u001b[0m\u001b[0;34m\u001b[0m\u001b[0;34m\u001b[0m\u001b[0m\n\u001b[0m\u001b[1;32m    425\u001b[0m             response['value'] = self._unwrap_value(\n\u001b[1;32m    426\u001b[0m                 response.get('value', None))\n",
      "\u001b[0;32m/opt/homebrew/Caskroom/miniforge/base/envs/foundation/lib/python3.9/site-packages/selenium/webdriver/remote/errorhandler.py\u001b[0m in \u001b[0;36mcheck_response\u001b[0;34m(self, response)\u001b[0m\n\u001b[1;32m    245\u001b[0m                 \u001b[0malert_text\u001b[0m \u001b[0;34m=\u001b[0m \u001b[0mvalue\u001b[0m\u001b[0;34m[\u001b[0m\u001b[0;34m'alert'\u001b[0m\u001b[0;34m]\u001b[0m\u001b[0;34m.\u001b[0m\u001b[0mget\u001b[0m\u001b[0;34m(\u001b[0m\u001b[0;34m'text'\u001b[0m\u001b[0;34m)\u001b[0m\u001b[0;34m\u001b[0m\u001b[0;34m\u001b[0m\u001b[0m\n\u001b[1;32m    246\u001b[0m             \u001b[0;32mraise\u001b[0m \u001b[0mexception_class\u001b[0m\u001b[0;34m(\u001b[0m\u001b[0mmessage\u001b[0m\u001b[0;34m,\u001b[0m \u001b[0mscreen\u001b[0m\u001b[0;34m,\u001b[0m \u001b[0mstacktrace\u001b[0m\u001b[0;34m,\u001b[0m \u001b[0malert_text\u001b[0m\u001b[0;34m)\u001b[0m  \u001b[0;31m# type: ignore[call-arg]  # mypy is not smart enough here\u001b[0m\u001b[0;34m\u001b[0m\u001b[0;34m\u001b[0m\u001b[0m\n\u001b[0;32m--> 247\u001b[0;31m         \u001b[0;32mraise\u001b[0m \u001b[0mexception_class\u001b[0m\u001b[0;34m(\u001b[0m\u001b[0mmessage\u001b[0m\u001b[0;34m,\u001b[0m \u001b[0mscreen\u001b[0m\u001b[0;34m,\u001b[0m \u001b[0mstacktrace\u001b[0m\u001b[0;34m)\u001b[0m\u001b[0;34m\u001b[0m\u001b[0;34m\u001b[0m\u001b[0m\n\u001b[0m\u001b[1;32m    248\u001b[0m \u001b[0;34m\u001b[0m\u001b[0m\n\u001b[1;32m    249\u001b[0m     \u001b[0;32mdef\u001b[0m \u001b[0m_value_or_default\u001b[0m\u001b[0;34m(\u001b[0m\u001b[0mself\u001b[0m\u001b[0;34m,\u001b[0m \u001b[0mobj\u001b[0m\u001b[0;34m:\u001b[0m \u001b[0mMapping\u001b[0m\u001b[0;34m[\u001b[0m\u001b[0m_KT\u001b[0m\u001b[0;34m,\u001b[0m \u001b[0m_VT\u001b[0m\u001b[0;34m]\u001b[0m\u001b[0;34m,\u001b[0m \u001b[0mkey\u001b[0m\u001b[0;34m:\u001b[0m \u001b[0m_KT\u001b[0m\u001b[0;34m,\u001b[0m \u001b[0mdefault\u001b[0m\u001b[0;34m:\u001b[0m \u001b[0m_VT\u001b[0m\u001b[0;34m)\u001b[0m \u001b[0;34m->\u001b[0m \u001b[0m_VT\u001b[0m\u001b[0;34m:\u001b[0m\u001b[0;34m\u001b[0m\u001b[0;34m\u001b[0m\u001b[0m\n",
      "\u001b[0;31mNoSuchElementException\u001b[0m: Message: Unable to locate element: ul[data-comp=\"Pagination Flex StyledComponent BaseComponent \"]:nth-child(8)[button]\nStacktrace:\nWebDriverError@chrome://remote/content/shared/webdriver/Errors.jsm:181:5\nNoSuchElementError@chrome://remote/content/shared/webdriver/Errors.jsm:393:5\nelement.find/</<@chrome://remote/content/marionette/element.js:299:16\n"
     ]
    }
   ],
   "source": [
    "\n",
    "driver.find_element_by_css_selector('ul[data-comp=\"Pagination Flex StyledComponent BaseComponent \"]:nth-child(8)').text"
   ]
  },
  {
   "cell_type": "code",
   "execution_count": 6,
   "metadata": {},
   "outputs": [],
   "source": [
    "fenty_dat = append_new_data()"
   ]
  },
  {
   "cell_type": "code",
   "execution_count": 7,
   "metadata": {},
   "outputs": [
    {
     "data": {
      "text/html": [
       "<div>\n",
       "<style scoped>\n",
       "    .dataframe tbody tr th:only-of-type {\n",
       "        vertical-align: middle;\n",
       "    }\n",
       "\n",
       "    .dataframe tbody tr th {\n",
       "        vertical-align: top;\n",
       "    }\n",
       "\n",
       "    .dataframe thead th {\n",
       "        text-align: right;\n",
       "    }\n",
       "</style>\n",
       "<table border=\"1\" class=\"dataframe\">\n",
       "  <thead>\n",
       "    <tr style=\"text-align: right;\">\n",
       "      <th></th>\n",
       "      <th>reviewer_id</th>\n",
       "      <th>rating</th>\n",
       "      <th>reviewer_feature</th>\n",
       "      <th>purchased_shade</th>\n",
       "    </tr>\n",
       "  </thead>\n",
       "  <tbody>\n",
       "    <tr>\n",
       "      <th>0</th>\n",
       "      <td>mbrid</td>\n",
       "      <td>3.0</td>\n",
       "      <td>Hazel eyes, Brunette hair, Medium skin tone, C...</td>\n",
       "      <td>270 - for medium to tan skin with cool undertones</td>\n",
       "    </tr>\n",
       "    <tr>\n",
       "      <th>1</th>\n",
       "      <td>tidizzle</td>\n",
       "      <td>5.0</td>\n",
       "      <td>Green eyes, Blonde hair, Light skin tone, Norm...</td>\n",
       "      <td>185 - for light to medium skin with neutral un...</td>\n",
       "    </tr>\n",
       "    <tr>\n",
       "      <th>2</th>\n",
       "      <td>bisousvanille</td>\n",
       "      <td>5.0</td>\n",
       "      <td>Brown eyes, Black hair, Olive skin tone, Combi...</td>\n",
       "      <td>345 - for tan skin with warm olive undertones</td>\n",
       "    </tr>\n",
       "    <tr>\n",
       "      <th>3</th>\n",
       "      <td>Jenninipls</td>\n",
       "      <td>1.0</td>\n",
       "      <td>Hazel eyes, Brunette hair, Porcelain skin tone...</td>\n",
       "      <td>100 - for very fair skin with neutral undertones</td>\n",
       "    </tr>\n",
       "    <tr>\n",
       "      <th>4</th>\n",
       "      <td>madkaita</td>\n",
       "      <td>5.0</td>\n",
       "      <td>Blue eyes, Blonde hair, Fair skin tone, Combin...</td>\n",
       "      <td>180 - for light skin with warm undertones</td>\n",
       "    </tr>\n",
       "    <tr>\n",
       "      <th>5</th>\n",
       "      <td>aylincp</td>\n",
       "      <td>5.0</td>\n",
       "      <td>Hazel eyes, Brunette hair, Light skin tone, Co...</td>\n",
       "      <td>None</td>\n",
       "    </tr>\n",
       "  </tbody>\n",
       "</table>\n",
       "</div>"
      ],
      "text/plain": [
       "     reviewer_id  rating                                   reviewer_feature  \\\n",
       "0          mbrid     3.0  Hazel eyes, Brunette hair, Medium skin tone, C...   \n",
       "1       tidizzle     5.0  Green eyes, Blonde hair, Light skin tone, Norm...   \n",
       "2  bisousvanille     5.0  Brown eyes, Black hair, Olive skin tone, Combi...   \n",
       "3     Jenninipls     1.0  Hazel eyes, Brunette hair, Porcelain skin tone...   \n",
       "4       madkaita     5.0  Blue eyes, Blonde hair, Fair skin tone, Combin...   \n",
       "5        aylincp     5.0  Hazel eyes, Brunette hair, Light skin tone, Co...   \n",
       "\n",
       "                                     purchased_shade  \n",
       "0  270 - for medium to tan skin with cool undertones  \n",
       "1  185 - for light to medium skin with neutral un...  \n",
       "2      345 - for tan skin with warm olive undertones  \n",
       "3   100 - for very fair skin with neutral undertones  \n",
       "4          180 - for light skin with warm undertones  \n",
       "5                                               None  "
      ]
     },
     "execution_count": 7,
     "metadata": {},
     "output_type": "execute_result"
    }
   ],
   "source": [
    "fenty_dat"
   ]
  }
 ],
 "metadata": {
  "interpreter": {
   "hash": "be930e4ecfc02ffad0fba66b413e4f417b9fdbeb111e734ba3e0fce78218e52b"
  },
  "kernelspec": {
   "display_name": "Python 3.9.1 64-bit ('foundation': conda)",
   "language": "python",
   "name": "python3"
  },
  "language_info": {
   "codemirror_mode": {
    "name": "ipython",
    "version": 3
   },
   "file_extension": ".py",
   "mimetype": "text/x-python",
   "name": "python",
   "nbconvert_exporter": "python",
   "pygments_lexer": "ipython3",
   "version": "3.9.1"
  },
  "orig_nbformat": 4
 },
 "nbformat": 4,
 "nbformat_minor": 2
}
